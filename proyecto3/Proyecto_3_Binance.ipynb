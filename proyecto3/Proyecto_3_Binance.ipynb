{
  "cells": [
    {
      "attachments": {},
      "cell_type": "markdown",
      "metadata": {},
      "source": [
        "# Proyecto 3\n",
        "\n",
        " [Presentación](https://acortar.link/Nro7os)\n",
        "\n",
        " Obtener un dataset con las valoraciones de Bitcoin de los últimos 365 días.\n",
        "\n",
        "Con lo que vimos ayer en la clase de API, intenta conseguir ese dataset.  \n",
        "\n",
        "Graficar."
      ]
    },
    {
      "attachments": {},
      "cell_type": "markdown",
      "metadata": {},
      "source": [
        "1) Importación de librerías necesarias:"
      ]
    },
    {
      "cell_type": "code",
      "execution_count": 1,
      "metadata": {},
      "outputs": [],
      "source": [
        "\n",
        "import pandas as pd\n",
        "import csv\n",
        "import requests\n",
        "import ast\n",
        "import matplotlib\n",
        "import matplotlib.pyplot as plt\n",
        "import datetime\n",
        "import numpy as np"
      ]
    },
    {
      "attachments": {},
      "cell_type": "markdown",
      "metadata": {},
      "source": [
        "2) Consumir la API Binance:"
      ]
    },
    {
      "cell_type": "code",
      "execution_count": 3,
      "metadata": {},
      "outputs": [
        {
          "name": "stdout",
          "output_type": "stream",
          "text": [
            "True\n",
            "200\n",
            "0:00:00.507236\n"
          ]
        }
      ],
      "source": [
        "ct = str(int(datetime.datetime.now().timestamp()))\n",
        "c2 = datetime.datetime.now() - datetime.timedelta(days=365*10)\n",
        "ct2 = str(int(c2.timestamp()))\n",
        "\n",
        "APIurl = \"https://api.binance.com/api/v3/klines?symbol=BTCUSDT&interval=3d&limit=1000&startTime=\"+ct2+\"000&endTime=\"+ct+\"000\"\n",
        "APIresp = requests.get(APIurl)\n",
        "print(APIresp.ok)\n",
        "print(APIresp.status_code)\n",
        "print(APIresp.elapsed)\n",
        "x = ast.literal_eval(APIresp.text)\n",
        "df = pd.DataFrame(x)"
      ]
    },
    {
      "cell_type": "code",
      "execution_count": 4,
      "metadata": {},
      "outputs": [],
      "source": [
        "# Grabamos el resultado como CSV separado por comas\n",
        "CSVfilename = \"binance.csv\"\n",
        "df.to_csv(CSVfilename, index=False)"
      ]
    },
    {
      "cell_type": "code",
      "execution_count": 5,
      "metadata": {},
      "outputs": [],
      "source": [
        "df = df.drop(df.columns[[0,1,2,3,5,7,8,9,10,11]], axis='columns')\n",
        "df.rename( columns={4 :'Close price'}, inplace=True)\n",
        "df.rename( columns={6 :'Fecha'}, inplace=True)\n",
        "df['Close price'] = pd.to_numeric(df['Close price'])"
      ]
    },
    {
      "attachments": {},
      "cell_type": "markdown",
      "metadata": {},
      "source": [
        "3) Convetir fecha"
      ]
    },
    {
      "cell_type": "code",
      "execution_count": 6,
      "metadata": {},
      "outputs": [],
      "source": [
        "from datetime import datetime\n",
        "listaDate = []\n",
        "for date in df['Fecha']:\n",
        "    listaDate.append(datetime.fromtimestamp(date//1000))\n",
        "df.index = listaDate"
      ]
    },
    {
      "attachments": {},
      "cell_type": "markdown",
      "metadata": {},
      "source": [
        "4) convertir antes al formato datetime para que lo reconozca como índice timestamp"
      ]
    },
    {
      "cell_type": "code",
      "execution_count": 7,
      "metadata": {},
      "outputs": [
        {
          "data": {
            "text/plain": [
              "<function matplotlib.pyplot.show(*args, **kw)>"
            ]
          },
          "execution_count": 7,
          "metadata": {},
          "output_type": "execute_result"
        },
        {
          "data": {
            "image/png": "[encoded data removed]",
            "text/plain": [
              "<Figure size 432x288 with 1 Axes>"
            ]
          },
          "metadata": {
            "needs_background": "light"
          },
          "output_type": "display_data"
        }
      ],
      "source": [
        "df.plot(kind='line', y='Close price')\n",
        "plt.show"
      ]
    },
    {
      "cell_type": "code",
      "execution_count": 8,
      "metadata": {},
      "outputs": [],
      "source": [
        "semestral = df.groupby(np.arange(len(df))//6).mean()"
      ]
    },
    {
      "cell_type": "code",
      "execution_count": 9,
      "metadata": {},
      "outputs": [
        {
          "ename": "AttributeError",
          "evalue": "'DataFrame' object has no attribute 'cambio'",
          "output_type": "error",
          "traceback": [
            "\u001b[1;31m---------------------------------------------------------------------------\u001b[0m",
            "\u001b[1;31mAttributeError\u001b[0m                            Traceback (most recent call last)",
            "\u001b[1;32m<ipython-input-9-ce5026f1e9a6>\u001b[0m in \u001b[0;36m<module>\u001b[1;34m\u001b[0m\n\u001b[1;32m----> 1\u001b[1;33m \u001b[0msemestral\u001b[0m\u001b[1;33m[\u001b[0m\u001b[1;34m\"dif\"\u001b[0m\u001b[1;33m]\u001b[0m \u001b[1;33m=\u001b[0m \u001b[0msemestral\u001b[0m\u001b[1;33m.\u001b[0m\u001b[0mcambio\u001b[0m\u001b[1;33m.\u001b[0m\u001b[0mdiff\u001b[0m\u001b[1;33m(\u001b[0m\u001b[1;33m)\u001b[0m\u001b[1;33m\u001b[0m\u001b[1;33m\u001b[0m\u001b[0m\n\u001b[0m",
            "\u001b[1;32mc:\\Program Files\\Microsoft SQL Server\\150\\PYTHON_SERVER\\lib\\site-packages\\pandas\\core\\generic.py\u001b[0m in \u001b[0;36m__getattr__\u001b[1;34m(self, name)\u001b[0m\n\u001b[0;32m   4374\u001b[0m             \u001b[1;32mif\u001b[0m \u001b[0mself\u001b[0m\u001b[1;33m.\u001b[0m\u001b[0m_info_axis\u001b[0m\u001b[1;33m.\u001b[0m\u001b[0m_can_hold_identifiers_and_holds_name\u001b[0m\u001b[1;33m(\u001b[0m\u001b[0mname\u001b[0m\u001b[1;33m)\u001b[0m\u001b[1;33m:\u001b[0m\u001b[1;33m\u001b[0m\u001b[1;33m\u001b[0m\u001b[0m\n\u001b[0;32m   4375\u001b[0m                 \u001b[1;32mreturn\u001b[0m \u001b[0mself\u001b[0m\u001b[1;33m[\u001b[0m\u001b[0mname\u001b[0m\u001b[1;33m]\u001b[0m\u001b[1;33m\u001b[0m\u001b[1;33m\u001b[0m\u001b[0m\n\u001b[1;32m-> 4376\u001b[1;33m             \u001b[1;32mreturn\u001b[0m \u001b[0mobject\u001b[0m\u001b[1;33m.\u001b[0m\u001b[0m__getattribute__\u001b[0m\u001b[1;33m(\u001b[0m\u001b[0mself\u001b[0m\u001b[1;33m,\u001b[0m \u001b[0mname\u001b[0m\u001b[1;33m)\u001b[0m\u001b[1;33m\u001b[0m\u001b[1;33m\u001b[0m\u001b[0m\n\u001b[0m\u001b[0;32m   4377\u001b[0m \u001b[1;33m\u001b[0m\u001b[0m\n\u001b[0;32m   4378\u001b[0m     \u001b[1;32mdef\u001b[0m \u001b[0m__setattr__\u001b[0m\u001b[1;33m(\u001b[0m\u001b[0mself\u001b[0m\u001b[1;33m,\u001b[0m \u001b[0mname\u001b[0m\u001b[1;33m,\u001b[0m \u001b[0mvalue\u001b[0m\u001b[1;33m)\u001b[0m\u001b[1;33m:\u001b[0m\u001b[1;33m\u001b[0m\u001b[1;33m\u001b[0m\u001b[0m\n",
            "\u001b[1;31mAttributeError\u001b[0m: 'DataFrame' object has no attribute 'cambio'"
          ]
        }
      ],
      "source": [
        "semestral[\"dif\"] = semestral.cambio.diff()"
      ]
    },
    {
      "cell_type": "code",
      "execution_count": null,
      "metadata": {},
      "outputs": [],
      "source": [
        "semestral[\"variacion\"] = semestral.dif/semestral.cambio.shift(1)*100"
      ]
    },
    {
      "attachments": {},
      "cell_type": "markdown",
      "metadata": {},
      "source": [
        "### Métodos para realizar predicciones en series de tiempo:\n",
        "\n",
        "- Modelos ARIMA \n",
        "- Modelos de procesos estocásticos(Holt-Winters, para manejar la estacionalidad y la tendencia en los datos)\n",
        "\n",
        "- Redes neuronales artificiales (RNNs), Long Short-Term Memory y Gated Recurrent Unit), se usan para manejar secuencias de datos y pueden capturar patrones complejos)\n",
        "  \n",
        "- Modelos basados en aprendizaje automático: XGBoost y Random Forest.\n",
        "\n",
        "- Modelos de propagación de tendencias: Croston (predecin la frecuencia y la magnitud de los eventos con baja frecuencia)"
      ]
    }
  ],
  "metadata": {
    "colab": {
      "provenance": []
    },
    "kernelspec": {
      "display_name": "Python 3",
      "language": "python",
      "name": "python3"
    },
    "language_info": {
      "codemirror_mode": {
        "name": "ipython",
        "version": 3
      },
      "file_extension": ".py",
      "mimetype": "text/x-python",
      "name": "python",
      "nbconvert_exporter": "python",
      "pygments_lexer": "ipython3",
      "version": "3.7.1"
    },
    "orig_nbformat": 4,
    "vscode": {
      "interpreter": {
        "hash": "7dd15e51a4470d085f7a243fb04650bc4fe166c7b9d4ae5b8d1a77af89f8b74e"
      }
    }
  },
  "nbformat": 4,
  "nbformat_minor": 0
}
