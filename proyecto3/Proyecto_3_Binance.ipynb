{
  "cells": [
    {
      "attachments": {},
      "cell_type": "markdown",
      "metadata": {},
      "source": [
        "# Proyecto 3\n",
        "\n",
        " [Presentación](https://acortar.link/Nro7os)\n",
        "\n",
        " Obtener un dataset con las valoraciones de Bitcoin de los últimos 365 días.\n",
        "\n",
        "Con lo que vimos ayer en la clase de API, intenta conseguir ese dataset.  \n",
        "\n",
        "Graficar."
      ]
    },
    {
      "attachments": {},
      "cell_type": "markdown",
      "metadata": {},
      "source": [
        "1) Importación de librerías necesarias:"
      ]
    },
    {
      "cell_type": "code",
      "execution_count": 2,
      "metadata": {},
      "outputs": [],
      "source": [
        "\n",
        "import pandas as pd\n",
        "import csv\n",
        "import requests\n",
        "import ast\n",
        "import matplotlib\n",
        "import matplotlib.pyplot as plt\n",
        "import datetime\n",
        "import numpy as np"
      ]
    },
    {
      "attachments": {},
      "cell_type": "markdown",
      "metadata": {},
      "source": [
        "2) Consumir la API Binance:"
      ]
    },
    {
      "cell_type": "code",
      "execution_count": 2,
      "metadata": {},
      "outputs": [
        {
          "name": "stdout",
          "output_type": "stream",
          "text": [
            "True\n",
            "200\n",
            "0:00:00.944190\n"
          ]
        }
      ],
      "source": [
        "ct = str(int(datetime.datetime.now().timestamp()))\n",
        "c2 = datetime.datetime.now() - datetime.timedelta(days=365*10)\n",
        "ct2 = str(int(c2.timestamp()))\n",
        "\n",
        "APIurl = \"https://api.binance.com/api/v3/klines?symbol=BTCUSDT&interval=3d&limit=1000&startTime=\"+ct2+\"000&endTime=\"+ct+\"000\"\n",
        "APIresp = requests.get(APIurl)\n",
        "print(APIresp.ok)\n",
        "print(APIresp.status_code)\n",
        "print(APIresp.elapsed)\n",
        "x = ast.literal_eval(APIresp.text)\n",
        "df = pd.DataFrame(x)"
      ]
    },
    {
      "cell_type": "code",
      "execution_count": 4,
      "metadata": {},
      "outputs": [],
      "source": [
        "# Grabamos el resultado como CSV separado por comas\n",
        "CSVfilename = \"binance.csv\"\n",
        "df.to_csv(CSVfilename, index=False)"
      ]
    },
    {
      "attachments": {},
      "cell_type": "markdown",
      "metadata": {},
      "source": [
        "# Empezar desde aquí"
      ]
    },
    {
      "cell_type": "code",
      "execution_count": 2,
      "metadata": {},
      "outputs": [],
      "source": [
        "import pandas as pd\n",
        "import csv\n",
        "import requests\n",
        "import ast\n",
        "import matplotlib\n",
        "import matplotlib.pyplot as plt\n",
        "import datetime\n",
        "import numpy as np"
      ]
    },
    {
      "cell_type": "code",
      "execution_count": 3,
      "metadata": {},
      "outputs": [
        {
          "data": {
            "text/html": [
              "<div>\n",
              "<style scoped>\n",
              "    .dataframe tbody tr th:only-of-type {\n",
              "        vertical-align: middle;\n",
              "    }\n",
              "\n",
              "    .dataframe tbody tr th {\n",
              "        vertical-align: top;\n",
              "    }\n",
              "\n",
              "    .dataframe thead th {\n",
              "        text-align: right;\n",
              "    }\n",
              "</style>\n",
              "<table border=\"1\" class=\"dataframe\">\n",
              "  <thead>\n",
              "    <tr style=\"text-align: right;\">\n",
              "      <th></th>\n",
              "      <th>0</th>\n",
              "      <th>1</th>\n",
              "      <th>2</th>\n",
              "      <th>3</th>\n",
              "      <th>4</th>\n",
              "      <th>5</th>\n",
              "      <th>6</th>\n",
              "      <th>7</th>\n",
              "      <th>8</th>\n",
              "      <th>9</th>\n",
              "      <th>10</th>\n",
              "      <th>11</th>\n",
              "    </tr>\n",
              "  </thead>\n",
              "  <tbody>\n",
              "    <tr>\n",
              "      <th>0</th>\n",
              "      <td>1502928000000</td>\n",
              "      <td>4261.48</td>\n",
              "      <td>4485.39</td>\n",
              "      <td>3850.00</td>\n",
              "      <td>4139.98</td>\n",
              "      <td>2376.348404</td>\n",
              "      <td>1503187199999</td>\n",
              "      <td>1.009121e+07</td>\n",
              "      <td>10813</td>\n",
              "      <td>1863.453293</td>\n",
              "      <td>7.925342e+06</td>\n",
              "      <td>0</td>\n",
              "    </tr>\n",
              "    <tr>\n",
              "      <th>1</th>\n",
              "      <td>1503187200000</td>\n",
              "      <td>4120.98</td>\n",
              "      <td>4211.08</td>\n",
              "      <td>3400.00</td>\n",
              "      <td>4040.00</td>\n",
              "      <td>2125.510940</td>\n",
              "      <td>1503446399999</td>\n",
              "      <td>8.480102e+06</td>\n",
              "      <td>12787</td>\n",
              "      <td>1358.147235</td>\n",
              "      <td>5.450252e+06</td>\n",
              "      <td>0</td>\n",
              "    </tr>\n",
              "    <tr>\n",
              "      <th>2</th>\n",
              "      <td>1503446400000</td>\n",
              "      <td>4040.00</td>\n",
              "      <td>4453.91</td>\n",
              "      <td>4013.89</td>\n",
              "      <td>4280.68</td>\n",
              "      <td>2362.168058</td>\n",
              "      <td>1503705599999</td>\n",
              "      <td>9.929800e+06</td>\n",
              "      <td>21430</td>\n",
              "      <td>616.337478</td>\n",
              "      <td>2.596523e+06</td>\n",
              "      <td>0</td>\n",
              "    </tr>\n",
              "    <tr>\n",
              "      <th>3</th>\n",
              "      <td>1503705600000</td>\n",
              "      <td>4280.71</td>\n",
              "      <td>4400.00</td>\n",
              "      <td>4124.54</td>\n",
              "      <td>4386.69</td>\n",
              "      <td>1182.642269</td>\n",
              "      <td>1503964799999</td>\n",
              "      <td>5.091106e+06</td>\n",
              "      <td>10279</td>\n",
              "      <td>300.629281</td>\n",
              "      <td>1.296170e+06</td>\n",
              "      <td>0</td>\n",
              "    </tr>\n",
              "    <tr>\n",
              "      <th>4</th>\n",
              "      <td>1503964800000</td>\n",
              "      <td>4353.65</td>\n",
              "      <td>4745.42</td>\n",
              "      <td>4313.55</td>\n",
              "      <td>4724.89</td>\n",
              "      <td>1968.970601</td>\n",
              "      <td>1504223999999</td>\n",
              "      <td>8.946077e+06</td>\n",
              "      <td>13871</td>\n",
              "      <td>471.452144</td>\n",
              "      <td>2.150945e+06</td>\n",
              "      <td>0</td>\n",
              "    </tr>\n",
              "    <tr>\n",
              "      <th>...</th>\n",
              "      <td>...</td>\n",
              "      <td>...</td>\n",
              "      <td>...</td>\n",
              "      <td>...</td>\n",
              "      <td>...</td>\n",
              "      <td>...</td>\n",
              "      <td>...</td>\n",
              "      <td>...</td>\n",
              "      <td>...</td>\n",
              "      <td>...</td>\n",
              "      <td>...</td>\n",
              "      <td>...</td>\n",
              "    </tr>\n",
              "    <tr>\n",
              "      <th>661</th>\n",
              "      <td>1674259200000</td>\n",
              "      <td>22666.00</td>\n",
              "      <td>23371.80</td>\n",
              "      <td>22292.37</td>\n",
              "      <td>22916.45</td>\n",
              "      <td>893611.616560</td>\n",
              "      <td>1674518399999</td>\n",
              "      <td>2.041868e+10</td>\n",
              "      <td>21659002</td>\n",
              "      <td>444360.797300</td>\n",
              "      <td>1.015425e+10</td>\n",
              "      <td>0</td>\n",
              "    </tr>\n",
              "    <tr>\n",
              "      <th>662</th>\n",
              "      <td>1674518400000</td>\n",
              "      <td>22917.81</td>\n",
              "      <td>23816.73</td>\n",
              "      <td>22300.00</td>\n",
              "      <td>23009.65</td>\n",
              "      <td>928126.050580</td>\n",
              "      <td>1674777599999</td>\n",
              "      <td>2.126162e+10</td>\n",
              "      <td>22637116</td>\n",
              "      <td>460072.828120</td>\n",
              "      <td>1.054029e+10</td>\n",
              "      <td>0</td>\n",
              "    </tr>\n",
              "    <tr>\n",
              "      <th>663</th>\n",
              "      <td>1674777600000</td>\n",
              "      <td>23009.65</td>\n",
              "      <td>23960.54</td>\n",
              "      <td>22534.88</td>\n",
              "      <td>23742.30</td>\n",
              "      <td>724638.366040</td>\n",
              "      <td>1675036799999</td>\n",
              "      <td>1.681262e+10</td>\n",
              "      <td>18291749</td>\n",
              "      <td>363068.618140</td>\n",
              "      <td>8.424708e+09</td>\n",
              "      <td>0</td>\n",
              "    </tr>\n",
              "    <tr>\n",
              "      <th>664</th>\n",
              "      <td>1675036800000</td>\n",
              "      <td>23743.37</td>\n",
              "      <td>23812.66</td>\n",
              "      <td>22500.00</td>\n",
              "      <td>23732.66</td>\n",
              "      <td>877845.673010</td>\n",
              "      <td>1675295999999</td>\n",
              "      <td>2.031713e+10</td>\n",
              "      <td>22451848</td>\n",
              "      <td>438232.242610</td>\n",
              "      <td>1.014359e+10</td>\n",
              "      <td>0</td>\n",
              "    </tr>\n",
              "    <tr>\n",
              "      <th>665</th>\n",
              "      <td>1675296000000</td>\n",
              "      <td>23731.41</td>\n",
              "      <td>24255.00</td>\n",
              "      <td>23204.62</td>\n",
              "      <td>23424.14</td>\n",
              "      <td>841521.919650</td>\n",
              "      <td>1675555199999</td>\n",
              "      <td>1.986768e+10</td>\n",
              "      <td>21322414</td>\n",
              "      <td>419611.657720</td>\n",
              "      <td>9.907448e+09</td>\n",
              "      <td>0</td>\n",
              "    </tr>\n",
              "  </tbody>\n",
              "</table>\n",
              "<p>666 rows × 12 columns</p>\n",
              "</div>"
            ],
            "text/plain": [
              "                 0         1         2         3         4              5  \\\n",
              "0    1502928000000   4261.48   4485.39   3850.00   4139.98    2376.348404   \n",
              "1    1503187200000   4120.98   4211.08   3400.00   4040.00    2125.510940   \n",
              "2    1503446400000   4040.00   4453.91   4013.89   4280.68    2362.168058   \n",
              "3    1503705600000   4280.71   4400.00   4124.54   4386.69    1182.642269   \n",
              "4    1503964800000   4353.65   4745.42   4313.55   4724.89    1968.970601   \n",
              "..             ...       ...       ...       ...       ...            ...   \n",
              "661  1674259200000  22666.00  23371.80  22292.37  22916.45  893611.616560   \n",
              "662  1674518400000  22917.81  23816.73  22300.00  23009.65  928126.050580   \n",
              "663  1674777600000  23009.65  23960.54  22534.88  23742.30  724638.366040   \n",
              "664  1675036800000  23743.37  23812.66  22500.00  23732.66  877845.673010   \n",
              "665  1675296000000  23731.41  24255.00  23204.62  23424.14  841521.919650   \n",
              "\n",
              "                 6             7         8              9            10  11  \n",
              "0    1503187199999  1.009121e+07     10813    1863.453293  7.925342e+06   0  \n",
              "1    1503446399999  8.480102e+06     12787    1358.147235  5.450252e+06   0  \n",
              "2    1503705599999  9.929800e+06     21430     616.337478  2.596523e+06   0  \n",
              "3    1503964799999  5.091106e+06     10279     300.629281  1.296170e+06   0  \n",
              "4    1504223999999  8.946077e+06     13871     471.452144  2.150945e+06   0  \n",
              "..             ...           ...       ...            ...           ...  ..  \n",
              "661  1674518399999  2.041868e+10  21659002  444360.797300  1.015425e+10   0  \n",
              "662  1674777599999  2.126162e+10  22637116  460072.828120  1.054029e+10   0  \n",
              "663  1675036799999  1.681262e+10  18291749  363068.618140  8.424708e+09   0  \n",
              "664  1675295999999  2.031713e+10  22451848  438232.242610  1.014359e+10   0  \n",
              "665  1675555199999  1.986768e+10  21322414  419611.657720  9.907448e+09   0  \n",
              "\n",
              "[666 rows x 12 columns]"
            ]
          },
          "execution_count": 3,
          "metadata": {},
          "output_type": "execute_result"
        }
      ],
      "source": [
        "df = pd.read_csv('binance.csv')\n",
        "df"
      ]
    },
    {
      "cell_type": "code",
      "execution_count": 4,
      "metadata": {},
      "outputs": [
        {
          "data": {
            "text/plain": [
              "Index(['price', 'date'], dtype='object')"
            ]
          },
          "execution_count": 4,
          "metadata": {},
          "output_type": "execute_result"
        }
      ],
      "source": [
        "df = df.drop(df.columns[[0,1,2,3,5,7,8,9,10,11]], axis='columns')\n",
        "df = df.rename(columns={'4':'price', '6':'date'})\n",
        "#df.dtypes\n",
        "df.columns\n"
      ]
    },
    {
      "attachments": {},
      "cell_type": "markdown",
      "metadata": {},
      "source": [
        "3) Convetir fecha"
      ]
    },
    {
      "cell_type": "code",
      "execution_count": 5,
      "metadata": {},
      "outputs": [],
      "source": [
        "from datetime import datetime\n",
        "listaDate = []\n",
        "for date in df['date']:\n",
        "    listaDate.append(datetime.fromtimestamp(date//1000))\n",
        "df.index = listaDate"
      ]
    },
    {
      "attachments": {},
      "cell_type": "markdown",
      "metadata": {},
      "source": [
        "4) convertir antes al formato datetime para que lo reconozca como índice timestamp"
      ]
    },
    {
      "cell_type": "code",
      "execution_count": 6,
      "metadata": {},
      "outputs": [
        {
          "data": {
            "text/plain": [
              "<function matplotlib.pyplot.show(close=None, block=None)>"
            ]
          },
          "execution_count": 6,
          "metadata": {},
          "output_type": "execute_result"
        },
        {
          "data": {
            "image/png": "[encoded data removed]",
            "text/plain": [
              "<Figure size 432x288 with 1 Axes>"
            ]
          },
          "metadata": {
            "needs_background": "light"
          },
          "output_type": "display_data"
        }
      ],
      "source": [
        "df.plot(kind='line', y='price')\n",
        "plt.show"
      ]
    },
    {
      "cell_type": "code",
      "execution_count": null,
      "metadata": {},
      "outputs": [],
      "source": [
        "trimestral = df.groupby(np.arange(len(df))//4).mean()\n",
        "trimestral[\"dif\"] = trimestral.cambio.dif()\n",
        "trimestral[\"variacion\"] = trimestral.dif/trimestral.cambio.shift(1)*100"
      ]
    },
    {
      "attachments": {},
      "cell_type": "markdown",
      "metadata": {},
      "source": [
        "### Modelos ARIMA"
      ]
    },
    {
      "cell_type": "code",
      "execution_count": 7,
      "metadata": {},
      "outputs": [
        {
          "name": "stderr",
          "output_type": "stream",
          "text": [
            "c:\\Users\\n_sar\\anaconda3\\lib\\site-packages\\statsmodels\\tsa\\arima_model.py:472: FutureWarning: \n",
            "statsmodels.tsa.arima_model.ARMA and statsmodels.tsa.arima_model.ARIMA have\n",
            "been deprecated in favor of statsmodels.tsa.arima.model.ARIMA (note the .\n",
            "between arima and model) and\n",
            "statsmodels.tsa.SARIMAX. These will be removed after the 0.12 release.\n",
            "\n",
            "statsmodels.tsa.arima.model.ARIMA makes use of the statespace framework and\n",
            "is both well tested and maintained.\n",
            "\n",
            "To silence this warning and continue using ARMA and ARIMA until they are\n",
            "removed, use:\n",
            "\n",
            "import warnings\n",
            "warnings.filterwarnings('ignore', 'statsmodels.tsa.arima_model.ARMA',\n",
            "                        FutureWarning)\n",
            "warnings.filterwarnings('ignore', 'statsmodels.tsa.arima_model.ARIMA',\n",
            "                        FutureWarning)\n",
            "\n",
            "  warnings.warn(ARIMA_DEPRECATION_WARN, FutureWarning)\n",
            "c:\\Users\\n_sar\\anaconda3\\lib\\site-packages\\statsmodels\\tsa\\base\\tsa_model.py:581: ValueWarning: A date index has been provided, but it has no associated frequency information and so will be ignored when e.g. forecasting.\n",
            "  warnings.warn('A date index has been provided, but it has no'\n",
            "c:\\Users\\n_sar\\anaconda3\\lib\\site-packages\\statsmodels\\tsa\\base\\tsa_model.py:581: ValueWarning: A date index has been provided, but it has no associated frequency information and so will be ignored when e.g. forecasting.\n",
            "  warnings.warn('A date index has been provided, but it has no'\n"
          ]
        },
        {
          "name": "stdout",
          "output_type": "stream",
          "text": [
            "[23449.47550067 23559.32569924 23583.05264057 23681.14684201\n",
            " 23703.81418165 23791.91026551 23813.93949413 23893.52549596\n",
            " 23915.23656027 23987.57307283 24009.20535807 24075.36113636\n",
            " 24097.09041565 24157.97229296 24179.92438818 24236.30242754\n",
            " 24258.56419206 24311.0928452  24333.72096859 24382.95688783\n",
            " 24405.98493194 24452.40197437 24475.84597558 24519.84785077\n",
            " 24543.71076201 24585.64170079 24609.91689652 24650.07065691\n",
            " 24674.74468322 24713.37215817]\n"
          ]
        },
        {
          "name": "stderr",
          "output_type": "stream",
          "text": [
            "c:\\Users\\n_sar\\anaconda3\\lib\\site-packages\\statsmodels\\tsa\\arima_model.py:472: FutureWarning: \n",
            "statsmodels.tsa.arima_model.ARMA and statsmodels.tsa.arima_model.ARIMA have\n",
            "been deprecated in favor of statsmodels.tsa.arima.model.ARIMA (note the .\n",
            "between arima and model) and\n",
            "statsmodels.tsa.SARIMAX. These will be removed after the 0.12 release.\n",
            "\n",
            "statsmodels.tsa.arima.model.ARIMA makes use of the statespace framework and\n",
            "is both well tested and maintained.\n",
            "\n",
            "To silence this warning and continue using ARMA and ARIMA until they are\n",
            "removed, use:\n",
            "\n",
            "import warnings\n",
            "warnings.filterwarnings('ignore', 'statsmodels.tsa.arima_model.ARMA',\n",
            "                        FutureWarning)\n",
            "warnings.filterwarnings('ignore', 'statsmodels.tsa.arima_model.ARIMA',\n",
            "                        FutureWarning)\n",
            "\n",
            "  warnings.warn(ARIMA_DEPRECATION_WARN, FutureWarning)\n"
          ]
        }
      ],
      "source": [
        "from statsmodels.tsa.arima_model import ARIMA\n",
        "\n",
        "# Crear el modelo ARIMA\n",
        "model = ARIMA(df['price'], order=(2, 1, 2)) #hiperparámetros\n",
        "model_fit = model.fit()\n",
        "\n",
        "# Realizar la predicción\n",
        "predictions = model_fit.forecast(steps=30)[0]\n",
        "\n",
        "# Imprimir las predicciones\n",
        "print(predictions)"
      ]
    },
    {
      "cell_type": "code",
      "execution_count": 8,
      "metadata": {},
      "outputs": [
        {
          "data": {
            "text/plain": [
              "[<matplotlib.lines.Line2D at 0x172c7b29c10>,\n",
              " <matplotlib.lines.Line2D at 0x172c7b7e610>]"
            ]
          },
          "execution_count": 8,
          "metadata": {},
          "output_type": "execute_result"
        },
        {
          "data": {
            "image/png": "[encoded data removed]",
            "text/plain": [
              "<Figure size 432x288 with 1 Axes>"
            ]
          },
          "metadata": {
            "needs_background": "light"
          },
          "output_type": "display_data"
        }
      ],
      "source": [
        "import matplotlib.pyplot as plt\n",
        "# Draw chart of Bitcoin price evolution\n",
        "plt.plot(df)"
      ]
    },
    {
      "cell_type": "code",
      "execution_count": 9,
      "metadata": {},
      "outputs": [
        {
          "data": {
            "text/html": [
              "<div>\n",
              "<style scoped>\n",
              "    .dataframe tbody tr th:only-of-type {\n",
              "        vertical-align: middle;\n",
              "    }\n",
              "\n",
              "    .dataframe tbody tr th {\n",
              "        vertical-align: top;\n",
              "    }\n",
              "\n",
              "    .dataframe thead th {\n",
              "        text-align: right;\n",
              "    }\n",
              "</style>\n",
              "<table border=\"1\" class=\"dataframe\">\n",
              "  <thead>\n",
              "    <tr style=\"text-align: right;\">\n",
              "      <th></th>\n",
              "      <th>price</th>\n",
              "      <th>date</th>\n",
              "    </tr>\n",
              "  </thead>\n",
              "  <tbody>\n",
              "    <tr>\n",
              "      <th>count</th>\n",
              "      <td>666.000000</td>\n",
              "      <td>6.660000e+02</td>\n",
              "    </tr>\n",
              "    <tr>\n",
              "      <th>mean</th>\n",
              "      <td>19483.693724</td>\n",
              "      <td>1.589371e+12</td>\n",
              "    </tr>\n",
              "    <tr>\n",
              "      <th>std</th>\n",
              "      <td>16621.234562</td>\n",
              "      <td>4.987058e+10</td>\n",
              "    </tr>\n",
              "    <tr>\n",
              "      <th>min</th>\n",
              "      <td>3211.720000</td>\n",
              "      <td>1.503187e+12</td>\n",
              "    </tr>\n",
              "    <tr>\n",
              "      <th>25%</th>\n",
              "      <td>7359.615000</td>\n",
              "      <td>1.546279e+12</td>\n",
              "    </tr>\n",
              "    <tr>\n",
              "      <th>50%</th>\n",
              "      <td>10744.775000</td>\n",
              "      <td>1.589371e+12</td>\n",
              "    </tr>\n",
              "    <tr>\n",
              "      <th>75%</th>\n",
              "      <td>30312.907500</td>\n",
              "      <td>1.632463e+12</td>\n",
              "    </tr>\n",
              "    <tr>\n",
              "      <th>max</th>\n",
              "      <td>67525.830000</td>\n",
              "      <td>1.675555e+12</td>\n",
              "    </tr>\n",
              "  </tbody>\n",
              "</table>\n",
              "</div>"
            ],
            "text/plain": [
              "              price          date\n",
              "count    666.000000  6.660000e+02\n",
              "mean   19483.693724  1.589371e+12\n",
              "std    16621.234562  4.987058e+10\n",
              "min     3211.720000  1.503187e+12\n",
              "25%     7359.615000  1.546279e+12\n",
              "50%    10744.775000  1.589371e+12\n",
              "75%    30312.907500  1.632463e+12\n",
              "max    67525.830000  1.675555e+12"
            ]
          },
          "execution_count": 9,
          "metadata": {},
          "output_type": "execute_result"
        }
      ],
      "source": [
        "df.describe()"
      ]
    },
    {
      "attachments": {},
      "cell_type": "markdown",
      "metadata": {},
      "source": [
        "### Calcular el Moving Average"
      ]
    },
    {
      "cell_type": "code",
      "execution_count": 41,
      "metadata": {},
      "outputs": [],
      "source": [
        "# Calcular el Moving Average con una ventana de 90 días (trimestre)\n",
        "df4['MA_90'] = df4['year'].rolling(window=90).mean()\n"
      ]
    },
    {
      "cell_type": "code",
      "execution_count": 42,
      "metadata": {},
      "outputs": [
        {
          "data": {
            "image/png": "[encoded data removed]",
            "text/plain": [
              "<Figure size 2880x1200 with 1 Axes>"
            ]
          },
          "metadata": {
            "needs_background": "light"
          },
          "output_type": "display_data"
        }
      ],
      "source": [
        "import matplotlib.pyplot as plt\n",
        "plt.rcParams.update({'figure.figsize': (10, 5), 'figure.dpi': 120})\n",
        "\n",
        "# Draw it\n",
        "plt.figure(figsize=(24,10))\n",
        "plt.plot(df4['year'], label = 'Price', color = 'green')\n",
        "plt.plot(df4['MA_90'], label = 'Moving Average 90 days', color = 'red', linewidth=3)\n",
        "plt.xlabel('year')\n",
        "plt.ylabel('Price ($)')\n",
        "plt.legend()\n",
        "plt.show()"
      ]
    },
    {
      "attachments": {},
      "cell_type": "markdown",
      "metadata": {},
      "source": [
        "#### Ploteamos la estacionalidad"
      ]
    },
    {
      "cell_type": "code",
      "execution_count": 46,
      "metadata": {},
      "outputs": [
        {
          "data": {
            "text/html": [
              "<div>\n",
              "<style scoped>\n",
              "    .dataframe tbody tr th:only-of-type {\n",
              "        vertical-align: middle;\n",
              "    }\n",
              "\n",
              "    .dataframe tbody tr th {\n",
              "        vertical-align: top;\n",
              "    }\n",
              "\n",
              "    .dataframe thead th {\n",
              "        text-align: right;\n",
              "    }\n",
              "</style>\n",
              "<table border=\"1\" class=\"dataframe\">\n",
              "  <thead>\n",
              "    <tr style=\"text-align: right;\">\n",
              "      <th></th>\n",
              "      <th>price</th>\n",
              "      <th>MA_90</th>\n",
              "      <th>year</th>\n",
              "      <th>month</th>\n",
              "    </tr>\n",
              "  </thead>\n",
              "  <tbody>\n",
              "    <tr>\n",
              "      <th>2017-08-20 01:59:59</th>\n",
              "      <td>4139.98</td>\n",
              "      <td>NaN</td>\n",
              "      <td>2017</td>\n",
              "      <td>Aug</td>\n",
              "    </tr>\n",
              "    <tr>\n",
              "      <th>2017-08-23 01:59:59</th>\n",
              "      <td>4040.00</td>\n",
              "      <td>NaN</td>\n",
              "      <td>2017</td>\n",
              "      <td>Aug</td>\n",
              "    </tr>\n",
              "    <tr>\n",
              "      <th>2017-08-26 01:59:59</th>\n",
              "      <td>4280.68</td>\n",
              "      <td>NaN</td>\n",
              "      <td>2017</td>\n",
              "      <td>Aug</td>\n",
              "    </tr>\n",
              "    <tr>\n",
              "      <th>2017-08-29 01:59:59</th>\n",
              "      <td>4386.69</td>\n",
              "      <td>NaN</td>\n",
              "      <td>2017</td>\n",
              "      <td>Aug</td>\n",
              "    </tr>\n",
              "    <tr>\n",
              "      <th>2017-09-01 01:59:59</th>\n",
              "      <td>4724.89</td>\n",
              "      <td>NaN</td>\n",
              "      <td>2017</td>\n",
              "      <td>Sep</td>\n",
              "    </tr>\n",
              "    <tr>\n",
              "      <th>...</th>\n",
              "      <td>...</td>\n",
              "      <td>...</td>\n",
              "      <td>...</td>\n",
              "      <td>...</td>\n",
              "    </tr>\n",
              "    <tr>\n",
              "      <th>2023-01-24 00:59:59</th>\n",
              "      <td>22916.45</td>\n",
              "      <td>2022.088889</td>\n",
              "      <td>2023</td>\n",
              "      <td>Jan</td>\n",
              "    </tr>\n",
              "    <tr>\n",
              "      <th>2023-01-27 00:59:59</th>\n",
              "      <td>23009.65</td>\n",
              "      <td>2022.100000</td>\n",
              "      <td>2023</td>\n",
              "      <td>Jan</td>\n",
              "    </tr>\n",
              "    <tr>\n",
              "      <th>2023-01-30 00:59:59</th>\n",
              "      <td>23742.30</td>\n",
              "      <td>2022.111111</td>\n",
              "      <td>2023</td>\n",
              "      <td>Jan</td>\n",
              "    </tr>\n",
              "    <tr>\n",
              "      <th>2023-02-02 00:59:59</th>\n",
              "      <td>23732.66</td>\n",
              "      <td>2022.122222</td>\n",
              "      <td>2023</td>\n",
              "      <td>Feb</td>\n",
              "    </tr>\n",
              "    <tr>\n",
              "      <th>2023-02-05 00:59:59</th>\n",
              "      <td>23424.14</td>\n",
              "      <td>2022.133333</td>\n",
              "      <td>2023</td>\n",
              "      <td>Feb</td>\n",
              "    </tr>\n",
              "  </tbody>\n",
              "</table>\n",
              "<p>666 rows × 4 columns</p>\n",
              "</div>"
            ],
            "text/plain": [
              "                        price        MA_90  year month\n",
              "2017-08-20 01:59:59   4139.98          NaN  2017   Aug\n",
              "2017-08-23 01:59:59   4040.00          NaN  2017   Aug\n",
              "2017-08-26 01:59:59   4280.68          NaN  2017   Aug\n",
              "2017-08-29 01:59:59   4386.69          NaN  2017   Aug\n",
              "2017-09-01 01:59:59   4724.89          NaN  2017   Sep\n",
              "...                       ...          ...   ...   ...\n",
              "2023-01-24 00:59:59  22916.45  2022.088889  2023   Jan\n",
              "2023-01-27 00:59:59  23009.65  2022.100000  2023   Jan\n",
              "2023-01-30 00:59:59  23742.30  2022.111111  2023   Jan\n",
              "2023-02-02 00:59:59  23732.66  2022.122222  2023   Feb\n",
              "2023-02-05 00:59:59  23424.14  2022.133333  2023   Feb\n",
              "\n",
              "[666 rows x 4 columns]"
            ]
          },
          "execution_count": 46,
          "metadata": {},
          "output_type": "execute_result"
        }
      ],
      "source": [
        "df4['year'] = [d.year for d in df.index]\n",
        "df4['month'] = [d.strftime('%b') for d in df.index]\n",
        "years = df4['year'].unique()\n",
        "df4"
      ]
    },
    {
      "cell_type": "code",
      "execution_count": 47,
      "metadata": {},
      "outputs": [],
      "source": [
        "# Preparamos los datos:\n",
        "#df = df.drop(df.columns[[1,4]], axis='columns')\n",
        "#df4 = df.loc[(df['year'] > 2011)] \n",
        "df4 = df4.drop(df4.columns[[3]], axis='columns')"
      ]
    },
    {
      "cell_type": "code",
      "execution_count": 48,
      "metadata": {},
      "outputs": [
        {
          "data": {
            "text/html": [
              "<div>\n",
              "<style scoped>\n",
              "    .dataframe tbody tr th:only-of-type {\n",
              "        vertical-align: middle;\n",
              "    }\n",
              "\n",
              "    .dataframe tbody tr th {\n",
              "        vertical-align: top;\n",
              "    }\n",
              "\n",
              "    .dataframe thead th {\n",
              "        text-align: right;\n",
              "    }\n",
              "</style>\n",
              "<table border=\"1\" class=\"dataframe\">\n",
              "  <thead>\n",
              "    <tr style=\"text-align: right;\">\n",
              "      <th></th>\n",
              "      <th>price</th>\n",
              "      <th>MA_90</th>\n",
              "      <th>year</th>\n",
              "    </tr>\n",
              "  </thead>\n",
              "  <tbody>\n",
              "    <tr>\n",
              "      <th>2017-08-20 01:59:59</th>\n",
              "      <td>4139.98</td>\n",
              "      <td>NaN</td>\n",
              "      <td>2017</td>\n",
              "    </tr>\n",
              "    <tr>\n",
              "      <th>2017-08-23 01:59:59</th>\n",
              "      <td>4040.00</td>\n",
              "      <td>NaN</td>\n",
              "      <td>2017</td>\n",
              "    </tr>\n",
              "    <tr>\n",
              "      <th>2017-08-26 01:59:59</th>\n",
              "      <td>4280.68</td>\n",
              "      <td>NaN</td>\n",
              "      <td>2017</td>\n",
              "    </tr>\n",
              "    <tr>\n",
              "      <th>2017-08-29 01:59:59</th>\n",
              "      <td>4386.69</td>\n",
              "      <td>NaN</td>\n",
              "      <td>2017</td>\n",
              "    </tr>\n",
              "    <tr>\n",
              "      <th>2017-09-01 01:59:59</th>\n",
              "      <td>4724.89</td>\n",
              "      <td>NaN</td>\n",
              "      <td>2017</td>\n",
              "    </tr>\n",
              "    <tr>\n",
              "      <th>...</th>\n",
              "      <td>...</td>\n",
              "      <td>...</td>\n",
              "      <td>...</td>\n",
              "    </tr>\n",
              "    <tr>\n",
              "      <th>2023-01-24 00:59:59</th>\n",
              "      <td>22916.45</td>\n",
              "      <td>2022.088889</td>\n",
              "      <td>2023</td>\n",
              "    </tr>\n",
              "    <tr>\n",
              "      <th>2023-01-27 00:59:59</th>\n",
              "      <td>23009.65</td>\n",
              "      <td>2022.100000</td>\n",
              "      <td>2023</td>\n",
              "    </tr>\n",
              "    <tr>\n",
              "      <th>2023-01-30 00:59:59</th>\n",
              "      <td>23742.30</td>\n",
              "      <td>2022.111111</td>\n",
              "      <td>2023</td>\n",
              "    </tr>\n",
              "    <tr>\n",
              "      <th>2023-02-02 00:59:59</th>\n",
              "      <td>23732.66</td>\n",
              "      <td>2022.122222</td>\n",
              "      <td>2023</td>\n",
              "    </tr>\n",
              "    <tr>\n",
              "      <th>2023-02-05 00:59:59</th>\n",
              "      <td>23424.14</td>\n",
              "      <td>2022.133333</td>\n",
              "      <td>2023</td>\n",
              "    </tr>\n",
              "  </tbody>\n",
              "</table>\n",
              "<p>666 rows × 3 columns</p>\n",
              "</div>"
            ],
            "text/plain": [
              "                        price        MA_90  year\n",
              "2017-08-20 01:59:59   4139.98          NaN  2017\n",
              "2017-08-23 01:59:59   4040.00          NaN  2017\n",
              "2017-08-26 01:59:59   4280.68          NaN  2017\n",
              "2017-08-29 01:59:59   4386.69          NaN  2017\n",
              "2017-09-01 01:59:59   4724.89          NaN  2017\n",
              "...                       ...          ...   ...\n",
              "2023-01-24 00:59:59  22916.45  2022.088889  2023\n",
              "2023-01-27 00:59:59  23009.65  2022.100000  2023\n",
              "2023-01-30 00:59:59  23742.30  2022.111111  2023\n",
              "2023-02-02 00:59:59  23732.66  2022.122222  2023\n",
              "2023-02-05 00:59:59  23424.14  2022.133333  2023\n",
              "\n",
              "[666 rows x 3 columns]"
            ]
          },
          "execution_count": 48,
          "metadata": {},
          "output_type": "execute_result"
        }
      ],
      "source": [
        "#plt.plot(df4['year'], df4['price'])df4"
      ]
    },
    {
      "cell_type": "code",
      "execution_count": 44,
      "metadata": {},
      "outputs": [],
      "source": [
        "import matplotlib as mpl\n",
        "# Preparamos los colores:\n",
        "np.random.seed(100)\n",
        "mycolors = np.random.choice(list(mpl.colors.XKCD_COLORS.keys()), len(years), replace=False)"
      ]
    },
    {
      "cell_type": "code",
      "execution_count": 1,
      "metadata": {},
      "outputs": [
        {
          "ename": "NameError",
          "evalue": "name 'plt' is not defined",
          "output_type": "error",
          "traceback": [
            "\u001b[1;31m---------------------------------------------------------------------------\u001b[0m",
            "\u001b[1;31mNameError\u001b[0m                                 Traceback (most recent call last)",
            "\u001b[1;32m<ipython-input-1-fbcb7f9f3ed2>\u001b[0m in \u001b[0;36m<module>\u001b[1;34m\u001b[0m\n\u001b[1;32m----> 1\u001b[1;33m \u001b[0mplt\u001b[0m\u001b[1;33m.\u001b[0m\u001b[0mplot\u001b[0m\u001b[1;33m(\u001b[0m\u001b[0mdf\u001b[0m\u001b[1;33m)\u001b[0m\u001b[1;33m\u001b[0m\u001b[1;33m\u001b[0m\u001b[0m\n\u001b[0m",
            "\u001b[1;31mNameError\u001b[0m: name 'plt' is not defined"
          ]
        }
      ],
      "source": [
        "plt.plot(df)"
      ]
    },
    {
      "attachments": {},
      "cell_type": "markdown",
      "metadata": {},
      "source": [
        "### Escala Logarítmica"
      ]
    },
    {
      "cell_type": "code",
      "execution_count": 50,
      "metadata": {},
      "outputs": [
        {
          "data": {
            "text/html": [
              "<div>\n",
              "<style scoped>\n",
              "    .dataframe tbody tr th:only-of-type {\n",
              "        vertical-align: middle;\n",
              "    }\n",
              "\n",
              "    .dataframe tbody tr th {\n",
              "        vertical-align: top;\n",
              "    }\n",
              "\n",
              "    .dataframe thead th {\n",
              "        text-align: right;\n",
              "    }\n",
              "</style>\n",
              "<table border=\"1\" class=\"dataframe\">\n",
              "  <thead>\n",
              "    <tr style=\"text-align: right;\">\n",
              "      <th></th>\n",
              "      <th>price</th>\n",
              "      <th>MA_90</th>\n",
              "      <th>year</th>\n",
              "      <th>logPrice</th>\n",
              "    </tr>\n",
              "  </thead>\n",
              "  <tbody>\n",
              "    <tr>\n",
              "      <th>2017-08-20 01:59:59</th>\n",
              "      <td>4139.98</td>\n",
              "      <td>NaN</td>\n",
              "      <td>2017</td>\n",
              "      <td>NaN</td>\n",
              "    </tr>\n",
              "    <tr>\n",
              "      <th>2017-08-23 01:59:59</th>\n",
              "      <td>4040.00</td>\n",
              "      <td>NaN</td>\n",
              "      <td>2017</td>\n",
              "      <td>NaN</td>\n",
              "    </tr>\n",
              "    <tr>\n",
              "      <th>2017-08-26 01:59:59</th>\n",
              "      <td>4280.68</td>\n",
              "      <td>NaN</td>\n",
              "      <td>2017</td>\n",
              "      <td>NaN</td>\n",
              "    </tr>\n",
              "    <tr>\n",
              "      <th>2017-08-29 01:59:59</th>\n",
              "      <td>4386.69</td>\n",
              "      <td>NaN</td>\n",
              "      <td>2017</td>\n",
              "      <td>NaN</td>\n",
              "    </tr>\n",
              "    <tr>\n",
              "      <th>2017-09-01 01:59:59</th>\n",
              "      <td>4724.89</td>\n",
              "      <td>NaN</td>\n",
              "      <td>2017</td>\n",
              "      <td>NaN</td>\n",
              "    </tr>\n",
              "    <tr>\n",
              "      <th>...</th>\n",
              "      <td>...</td>\n",
              "      <td>...</td>\n",
              "      <td>...</td>\n",
              "      <td>...</td>\n",
              "    </tr>\n",
              "    <tr>\n",
              "      <th>2023-01-24 00:59:59</th>\n",
              "      <td>22916.45</td>\n",
              "      <td>2022.088889</td>\n",
              "      <td>2023</td>\n",
              "      <td>3.305800</td>\n",
              "    </tr>\n",
              "    <tr>\n",
              "      <th>2023-01-27 00:59:59</th>\n",
              "      <td>23009.65</td>\n",
              "      <td>2022.100000</td>\n",
              "      <td>2023</td>\n",
              "      <td>3.305803</td>\n",
              "    </tr>\n",
              "    <tr>\n",
              "      <th>2023-01-30 00:59:59</th>\n",
              "      <td>23742.30</td>\n",
              "      <td>2022.111111</td>\n",
              "      <td>2023</td>\n",
              "      <td>3.305805</td>\n",
              "    </tr>\n",
              "    <tr>\n",
              "      <th>2023-02-02 00:59:59</th>\n",
              "      <td>23732.66</td>\n",
              "      <td>2022.122222</td>\n",
              "      <td>2023</td>\n",
              "      <td>3.305807</td>\n",
              "    </tr>\n",
              "    <tr>\n",
              "      <th>2023-02-05 00:59:59</th>\n",
              "      <td>23424.14</td>\n",
              "      <td>2022.133333</td>\n",
              "      <td>2023</td>\n",
              "      <td>3.305810</td>\n",
              "    </tr>\n",
              "  </tbody>\n",
              "</table>\n",
              "<p>666 rows × 4 columns</p>\n",
              "</div>"
            ],
            "text/plain": [
              "                        price        MA_90  year  logPrice\n",
              "2017-08-20 01:59:59   4139.98          NaN  2017       NaN\n",
              "2017-08-23 01:59:59   4040.00          NaN  2017       NaN\n",
              "2017-08-26 01:59:59   4280.68          NaN  2017       NaN\n",
              "2017-08-29 01:59:59   4386.69          NaN  2017       NaN\n",
              "2017-09-01 01:59:59   4724.89          NaN  2017       NaN\n",
              "...                       ...          ...   ...       ...\n",
              "2023-01-24 00:59:59  22916.45  2022.088889  2023  3.305800\n",
              "2023-01-27 00:59:59  23009.65  2022.100000  2023  3.305803\n",
              "2023-01-30 00:59:59  23742.30  2022.111111  2023  3.305805\n",
              "2023-02-02 00:59:59  23732.66  2022.122222  2023  3.305807\n",
              "2023-02-05 00:59:59  23424.14  2022.133333  2023  3.305810\n",
              "\n",
              "[666 rows x 4 columns]"
            ]
          },
          "execution_count": 50,
          "metadata": {},
          "output_type": "execute_result"
        }
      ],
      "source": [
        "import math\n",
        "\n",
        "df4[\"logPrice\"] = df4[\"MA_90\"].apply(lambda x: math.log10(x))\n",
        "df4"
      ]
    }
  ],
  "metadata": {
    "colab": {
      "provenance": []
    },
    "kernelspec": {
      "display_name": "base",
      "language": "python",
      "name": "python3"
    },
    "language_info": {
      "codemirror_mode": {
        "name": "ipython",
        "version": 3
      },
      "file_extension": ".py",
      "mimetype": "text/x-python",
      "name": "python",
      "nbconvert_exporter": "python",
      "pygments_lexer": "ipython3",
      "version": "3.8.8"
    },
    "orig_nbformat": 4,
    "vscode": {
      "interpreter": {
        "hash": "5beeed5a7ffdc4b4a0108c0b3292efe9a775794c700b606d5e33717d9ba16765"
      }
    }
  },
  "nbformat": 4,
  "nbformat_minor": 0
}
