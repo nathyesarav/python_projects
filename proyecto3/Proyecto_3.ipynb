{
 "cells": [
  {
   "attachments": {},
   "cell_type": "markdown",
   "metadata": {},
   "source": [
    "# Proyecto 3 con KNN "
   ]
  },
  {
   "attachments": {},
   "cell_type": "markdown",
   "metadata": {},
   "source": [
    "1) Importación de librerías necesarias:"
   ]
  },
  {
   "cell_type": "code",
   "execution_count": null,
   "metadata": {},
   "outputs": [],
   "source": [
    "import pandas as pd\n",
    "import matplotlib\n",
    "import matplotlib.pyplot as plt\n",
    "import datetime\n",
    "import numpy as np\n",
    "import math\n",
    "#df = pd.read_csv('data.csv')"
   ]
  },
  {
   "cell_type": "code",
   "execution_count": null,
   "metadata": {},
   "outputs": [],
   "source": [
    "df = df[::960].copy()\n",
    "df"
   ]
  },
  {
   "cell_type": "code",
   "execution_count": null,
   "metadata": {},
   "outputs": [],
   "source": [
    "df = df.dropna()"
   ]
  },
  {
   "cell_type": "code",
   "execution_count": null,
   "metadata": {},
   "outputs": [],
   "source": [
    "df = df.drop(df.columns[[1,2,3,5,6,7]], axis='columns')\n",
    "df.rename(columns={\"Timestamp\": \"Date\"}, inplace=True)\n",
    "df"
   ]
  },
  {
   "cell_type": "code",
   "execution_count": null,
   "metadata": {},
   "outputs": [],
   "source": [
    "from datetime import datetime\n",
    "listaDate = []\n",
    "for date in df['Date']:\n",
    "    listaDate.append(datetime.fromtimestamp(date))\n",
    "df.index = listaDate"
   ]
  },
  {
   "cell_type": "code",
   "execution_count": null,
   "metadata": {},
   "outputs": [],
   "source": [
    "df.index.name=\"time\"\n",
    "df"
   ]
  },
  {
   "cell_type": "code",
   "execution_count": null,
   "metadata": {},
   "outputs": [],
   "source": [
    "df1 = df.drop(df.columns[[0]], axis='columns')\n",
    "df1"
   ]
  },
  {
   "cell_type": "code",
   "execution_count": null,
   "metadata": {},
   "outputs": [],
   "source": [
    "df1.to_csv('reducido.csv')\n",
    "#df5 = df4.filter(like = ('2021-01' and '2021-02'), axis=0)\n",
    "#df5.to_csv(\"ene_feb_2021\",index=True)"
   ]
  },
  {
   "cell_type": "code",
   "execution_count": null,
   "metadata": {},
   "outputs": [],
   "source": [
    "df2 = pd.read_csv(\"reducido.csv\", delimiter = \",\", parse_dates=['time'], index_col='time')\n",
    "df2.dtypes"
   ]
  },
  {
   "cell_type": "code",
   "execution_count": null,
   "metadata": {},
   "outputs": [],
   "source": [
    "# Forzar gráficos anchos en el notebook de Jupyter\n",
    "plt.rcParams[\"figure.figsize\"] = (14, 6) # (w, h)\n",
    "plt.plot(df2)"
   ]
  },
  {
   "attachments": {},
   "cell_type": "markdown",
   "metadata": {},
   "source": [
    "***\n",
    "\n",
    "#### En un dataset de valoraciones de Bitcoin, obtener 5 columnas con el delta de los últimos 1, 2, 3, 4 y 5 días."
   ]
  },
  {
   "cell_type": "code",
   "execution_count": null,
   "metadata": {},
   "outputs": [],
   "source": [
    "# Crear 5 columnas con el delta de los últimos 1, 2, 3, 4 y 5 días\n",
    "for i in range(1, 6):\n",
    "    df2[f'delta_{i}d'] = df2['Close'].diff(periods=i)\n",
    "df2"
   ]
  },
  {
   "cell_type": "code",
   "execution_count": null,
   "metadata": {},
   "outputs": [],
   "source": [
    "# Crear 5 columnas con el delta relativos:\n",
    "for i in range(1, 6):\n",
    "    df2[f'delta_relativo_{i}d'] = (df2[f'delta_{i}d']) / (df2['Close'])\n",
    "df2"
   ]
  },
  {
   "cell_type": "code",
   "execution_count": null,
   "metadata": {},
   "outputs": [],
   "source": [
    "df2.plot()"
   ]
  },
  {
   "attachments": {},
   "cell_type": "markdown",
   "metadata": {},
   "source": [
    "La valoración tan alta de BTC eclipsa los deltas. Graficamos sólo los deltas:"
   ]
  },
  {
   "cell_type": "code",
   "execution_count": null,
   "metadata": {},
   "outputs": [],
   "source": [
    "df2[['delta_1d', 'delta_2d', 'delta_3d', 'delta_4d', 'delta_5d']].plot()"
   ]
  },
  {
   "attachments": {},
   "cell_type": "markdown",
   "metadata": {},
   "source": [
    "Graficamos los deltas de forma comparativa con espaciados constantes"
   ]
  },
  {
   "attachments": {},
   "cell_type": "markdown",
   "metadata": {},
   "source": [
    "Descubriendo zonas de mayor volatilidad, mediante moving average"
   ]
  },
  {
   "cell_type": "code",
   "execution_count": null,
   "metadata": {},
   "outputs": [],
   "source": [
    "plt.plot(abs(df2[['delta_1d']]).rolling(window=16).mean())\n",
    "plt.plot(df2[['delta_1d']])\n",
    "plt.plot(df2[['delta_2d']] + 20000)\n",
    "plt.plot(df2[['delta_3d']] + 40000)\n",
    "plt.plot(df2[['delta_4d']] + 60000)\n",
    "plt.plot(df2[['delta_5d']] + 80000)\n",
    "plt.show()"
   ]
  },
  {
   "attachments": {},
   "cell_type": "markdown",
   "metadata": {},
   "source": [
    "Análisis de correlación de los deltas"
   ]
  },
  {
   "cell_type": "code",
   "execution_count": null,
   "metadata": {},
   "outputs": [],
   "source": [
    "df2[['delta_1d', 'delta_2d', 'delta_3d', 'delta_4d', 'delta_5d']].corr()"
   ]
  },
  {
   "cell_type": "code",
   "execution_count": null,
   "metadata": {},
   "outputs": [],
   "source": [
    "import seaborn as sns\n",
    "sns.set(rc={'figure.figsize':(10,5)})\n",
    "sns.heatmap(df2[['delta_1d', 'delta_2d', 'delta_3d', 'delta_4d', 'delta_5d']].corr(), annot=True)"
   ]
  },
  {
   "attachments": {},
   "cell_type": "markdown",
   "metadata": {},
   "source": [
    "***\n",
    "\n",
    "#### Buscar en la gráfica 3 fechas de clara tendencia alcista y 3 de bajista.\n",
    "\n",
    "Alcista: "
   ]
  },
  {
   "cell_type": "code",
   "execution_count": null,
   "metadata": {},
   "outputs": [],
   "source": [
    "# Buscar las 3 fechas con el mayor delta_5d, ordenando por esta columna\n",
    "btc_sorted = df2.sort_values(by='delta_5d', ascending=False)\n",
    "btc_sorted[:3]"
   ]
  },
  {
   "cell_type": "code",
   "execution_count": null,
   "metadata": {},
   "outputs": [],
   "source": [
    "# Buscar las 3 fechas con el menor delta_5d\n",
    "btc_sorted[-8:]"
   ]
  },
  {
   "attachments": {},
   "cell_type": "markdown",
   "metadata": {},
   "source": [
    "***\n",
    "\n",
    "#### Crear un dataset de entrenamiento con las 6 fechas encontradas y las 5 columnas de deltas."
   ]
  },
  {
   "cell_type": "code",
   "execution_count": null,
   "metadata": {},
   "outputs": [],
   "source": [
    "# Quito los NaN's\n",
    "btc_sorted = btc_sorted.dropna()\n",
    "btc_sorted"
   ]
  },
  {
   "cell_type": "code",
   "execution_count": null,
   "metadata": {},
   "outputs": [],
   "source": [
    "# Dejo sólo las 3 primeras filas y las 3 últimas\n",
    "# Obtener las 3 primeras filas\n",
    "btc_sorted_head = btc_sorted.head(3)\n",
    "\n",
    "# Obtener las 3 últimas filas\n",
    "btc_sorted_tail = btc_sorted.tail(3)\n",
    "\n",
    "# Concatenar las primeras y últimas filas\n",
    "dfTraining = pd.concat([btc_sorted_head, btc_sorted_tail])\n",
    "dfTraining"
   ]
  },
  {
   "attachments": {},
   "cell_type": "markdown",
   "metadata": {},
   "source": [
    "***\n",
    "\n",
    "#### Entrenar KNN con este dataset de entrenamiento"
   ]
  },
  {
   "cell_type": "code",
   "execution_count": null,
   "metadata": {},
   "outputs": [],
   "source": [
    "import numpy as np\n",
    "\n",
    "# La etiqueta 1 significará alcista y -1 bajista\n",
    "labels = np.array(['1','1','1','-1','-1','-1'])\n",
    "labels"
   ]
  },
  {
   "cell_type": "code",
   "execution_count": null,
   "metadata": {},
   "outputs": [],
   "source": [
    "train = np.array(dfTraining[['delta_1d', 'delta_2d', 'delta_3d', 'delta_4d', 'delta_5d']])\n",
    "# train = train.reshape(-1, 1)\n",
    "train"
   ]
  },
  {
   "attachments": {},
   "cell_type": "markdown",
   "metadata": {},
   "source": [
    "***\n",
    "\n",
    "#### Aplica predicción de KNN para determinar la tendencia alcista/bajista en una fecha dada sobre el dataset completo."
   ]
  },
  {
   "cell_type": "code",
   "execution_count": null,
   "metadata": {},
   "outputs": [],
   "source": [
    "import numpy as np\n",
    "from sklearn.neighbors import KNeighborsClassifier\n",
    "\n",
    "# inicializar modelo\n",
    "knn = KNeighborsClassifier(n_neighbors=3)\n",
    "\n",
    "# entrenar modelo\n",
    "knn.fit(train, labels)\n",
    "\n",
    "# evaluar modelo\n",
    "score = knn.score(train, labels)\n",
    "print(\"Precisión del modelo:\", score)"
   ]
  },
  {
   "cell_type": "code",
   "execution_count": null,
   "metadata": {},
   "outputs": [],
   "source": [
    "# Datos de test, todo el dataset\n",
    "dfTesting = btc_sorted\n",
    "test = np.array(dfTesting[['delta_1d', 'delta_2d', 'delta_3d', 'delta_4d', 'delta_5d']])\n",
    "test"
   ]
  },
  {
   "cell_type": "code",
   "execution_count": null,
   "metadata": {},
   "outputs": [],
   "source": [
    "predLabel = knn.predict(test)\n",
    "predLabel"
   ]
  },
  {
   "attachments": {},
   "cell_type": "markdown",
   "metadata": {},
   "source": [
    "***\n",
    "\n",
    "#### Dibuja los valores alcistas de Bitcoin en color azul y los bajistas en color rojo"
   ]
  },
  {
   "cell_type": "code",
   "execution_count": null,
   "metadata": {},
   "outputs": [],
   "source": [
    "# Se agrega la predicción como columna nueva en el dataframe\n",
    "btc_sorted[\"trend\"] = predLabel\n",
    "btc_sorted"
   ]
  },
  {
   "cell_type": "code",
   "execution_count": null,
   "metadata": {},
   "outputs": [],
   "source": [
    "# Dibujar gráfico de dispersión con color que indica la tendencia predicha por KNN\n",
    "\n",
    "plt.plot(df2[\"Close\"], color=\"#999\", zorder=1) # zorder sirve para que la línea (plot) quede debajo de los puntos (scatter)\n",
    "\n",
    "# Para hacer que el color de cada punto se base en la columna trend\n",
    "# hay que asignar un color rojo o azul según el valor de la columna trend\n",
    "# en cada fila.\n",
    "\n",
    "# Plot the data\n",
    "i=0\n",
    "for time, row in btc_sorted.iterrows():\n",
    "    i = i + 1\n",
    "    #Pintar sólo 1 de cada 10\n",
    "    if i%10 != 0:\n",
    "        continue\n",
    "    if row['trend'] == \"1\":\n",
    "        plt.scatter(time, row['Close'], color='blue', s=5, zorder=2)\n",
    "    else:\n",
    "        plt.scatter(time, row['Close'], color='red', s=5, zorder=2)\n",
    "\n",
    "plt.show()"
   ]
  },
  {
   "attachments": {},
   "cell_type": "markdown",
   "metadata": {},
   "source": [
    "# Moving Average"
   ]
  },
  {
   "cell_type": "code",
   "execution_count": 14,
   "metadata": {},
   "outputs": [],
   "source": [
    "import pandas as pd\n",
    "import matplotlib\n",
    "import matplotlib.pyplot as plt\n",
    "from statsmodels.tsa.arima.model import ARIMA\n",
    "import math\n",
    "\n",
    "df3 = pd.read_csv(\"reducido.csv\", delimiter = \",\", parse_dates=['time'], index_col='time')"
   ]
  },
  {
   "cell_type": "code",
   "execution_count": 15,
   "metadata": {},
   "outputs": [
    {
     "data": {
      "text/plain": [
       "<AxesSubplot: xlabel='time'>"
      ]
     },
     "execution_count": 15,
     "metadata": {},
     "output_type": "execute_result"
    },
    {
     "data": {
      "image/png": "[encoded data removed]",
      "text/plain": [
       "<Figure size 1200x600 with 1 Axes>"
      ]
     },
     "metadata": {},
     "output_type": "display_data"
    }
   ],
   "source": [
    "plt.rcParams.update({'figure.figsize': (10, 5), 'figure.dpi': 120})\n",
    "df3.plot(kind='line', y='Close')\n",
    "plt.show"
   ]
  },
  {
   "cell_type": "code",
   "execution_count": 16,
   "metadata": {},
   "outputs": [
    {
     "name": "stderr",
     "output_type": "stream",
     "text": [
      "c:\\Users\\n_sar\\AppData\\Local\\Programs\\Python\\Python39\\lib\\site-packages\\statsmodels\\tsa\\base\\tsa_model.py:471: ValueWarning: A date index has been provided, but it has no associated frequency information and so will be ignored when e.g. forecasting.\n",
      "  self._init_dates(dates, freq)\n",
      "c:\\Users\\n_sar\\AppData\\Local\\Programs\\Python\\Python39\\lib\\site-packages\\statsmodels\\tsa\\base\\tsa_model.py:471: ValueWarning: A date index has been provided, but it has no associated frequency information and so will be ignored when e.g. forecasting.\n",
      "  self._init_dates(dates, freq)\n",
      "c:\\Users\\n_sar\\AppData\\Local\\Programs\\Python\\Python39\\lib\\site-packages\\statsmodels\\tsa\\base\\tsa_model.py:471: ValueWarning: A date index has been provided, but it has no associated frequency information and so will be ignored when e.g. forecasting.\n",
      "  self._init_dates(dates, freq)\n"
     ]
    }
   ],
   "source": [
    "# Crear el modelo ARIMA\n",
    "model = ARIMA(df3['Close'], order=(0, 1, 1)) #hiperparámetros\n",
    "model_fit = model.fit()"
   ]
  },
  {
   "cell_type": "code",
   "execution_count": 17,
   "metadata": {},
   "outputs": [],
   "source": [
    "#Con una ventana de 365 días\n",
    "df3['MA_365'] = df3['Close'].rolling(window=365).mean()\n",
    "df3[\"logPrice\"] = df3[\"Close\"].apply(lambda x: math.log10(x))\n",
    "#df3.head(3)"
   ]
  },
  {
   "attachments": {},
   "cell_type": "markdown",
   "metadata": {},
   "source": [
    "### Graficamos"
   ]
  },
  {
   "cell_type": "code",
   "execution_count": null,
   "metadata": {},
   "outputs": [],
   "source": [
    "plt.rcParams.update({'figure.figsize': (10, 5), 'figure.dpi': 120})\n",
    "plt.figure(figsize=(24,10))\n",
    "plt.plot(df3['Close'], label = 'Close', color = 'green')\n",
    "plt.plot(df3['MA_365'], label = 'Moving Average 365 days', color = 'red', linewidth=3)\n",
    "plt.xlabel('year')\n",
    "plt.ylabel('Price ($)')\n",
    "plt.legend()\n",
    "plt.show()"
   ]
  },
  {
   "cell_type": "code",
   "execution_count": null,
   "metadata": {},
   "outputs": [],
   "source": [
    "fig, ax = plt.subplots()\n",
    "#ax.scatter(df3.index, df3.MA_365)\n",
    "ax.scatter(df3.index, df3.logPrice)\n",
    "#ax.plot(df3)\n",
    "plt.show()"
   ]
  },
  {
   "cell_type": "code",
   "execution_count": 18,
   "metadata": {},
   "outputs": [],
   "source": [
    "# dividir los datos en un conjunto de entrenamiento y un conjunto de prueba\n",
    "train = df3[:int(0.8*(len(df3)))]\n",
    "test = df3[int(0.8*(len(df3))):]\n",
    "#print(test)"
   ]
  },
  {
   "cell_type": "code",
   "execution_count": 19,
   "metadata": {},
   "outputs": [
    {
     "data": {
      "text/html": [
       "<div>\n",
       "<style scoped>\n",
       "    .dataframe tbody tr th:only-of-type {\n",
       "        vertical-align: middle;\n",
       "    }\n",
       "\n",
       "    .dataframe tbody tr th {\n",
       "        vertical-align: top;\n",
       "    }\n",
       "\n",
       "    .dataframe thead th {\n",
       "        text-align: right;\n",
       "    }\n",
       "</style>\n",
       "<table border=\"1\" class=\"dataframe\">\n",
       "  <thead>\n",
       "    <tr style=\"text-align: right;\">\n",
       "      <th></th>\n",
       "      <th>Close</th>\n",
       "      <th>MA_365</th>\n",
       "      <th>logPrice</th>\n",
       "    </tr>\n",
       "    <tr>\n",
       "      <th>time</th>\n",
       "      <th></th>\n",
       "      <th></th>\n",
       "      <th></th>\n",
       "    </tr>\n",
       "  </thead>\n",
       "  <tbody>\n",
       "    <tr>\n",
       "      <th>2019-11-09 20:44:00</th>\n",
       "      <td>8771.46</td>\n",
       "      <td>8352.823918</td>\n",
       "      <td>3.943072</td>\n",
       "    </tr>\n",
       "    <tr>\n",
       "      <th>2019-11-10 12:44:00</th>\n",
       "      <td>8844.92</td>\n",
       "      <td>8366.400959</td>\n",
       "      <td>3.946694</td>\n",
       "    </tr>\n",
       "    <tr>\n",
       "      <th>2019-11-11 04:44:00</th>\n",
       "      <td>9006.54</td>\n",
       "      <td>8380.411425</td>\n",
       "      <td>3.954558</td>\n",
       "    </tr>\n",
       "    <tr>\n",
       "      <th>2019-11-11 20:44:00</th>\n",
       "      <td>8747.99</td>\n",
       "      <td>8393.704795</td>\n",
       "      <td>3.941908</td>\n",
       "    </tr>\n",
       "    <tr>\n",
       "      <th>2019-11-12 12:44:00</th>\n",
       "      <td>8733.99</td>\n",
       "      <td>8407.070329</td>\n",
       "      <td>3.941213</td>\n",
       "    </tr>\n",
       "    <tr>\n",
       "      <th>...</th>\n",
       "      <td>...</td>\n",
       "      <td>...</td>\n",
       "      <td>...</td>\n",
       "    </tr>\n",
       "    <tr>\n",
       "      <th>2021-03-27 20:44:00</th>\n",
       "      <td>55845.41</td>\n",
       "      <td>25049.608795</td>\n",
       "      <td>4.746987</td>\n",
       "    </tr>\n",
       "    <tr>\n",
       "      <th>2021-03-28 13:44:00</th>\n",
       "      <td>55908.26</td>\n",
       "      <td>25176.233370</td>\n",
       "      <td>4.747476</td>\n",
       "    </tr>\n",
       "    <tr>\n",
       "      <th>2021-03-29 05:44:00</th>\n",
       "      <td>55490.71</td>\n",
       "      <td>25301.235315</td>\n",
       "      <td>4.744220</td>\n",
       "    </tr>\n",
       "    <tr>\n",
       "      <th>2021-03-29 21:44:00</th>\n",
       "      <td>57569.75</td>\n",
       "      <td>25430.921507</td>\n",
       "      <td>4.760194</td>\n",
       "    </tr>\n",
       "    <tr>\n",
       "      <th>2021-03-30 13:44:00</th>\n",
       "      <td>59049.18</td>\n",
       "      <td>25562.777562</td>\n",
       "      <td>4.771214</td>\n",
       "    </tr>\n",
       "  </tbody>\n",
       "</table>\n",
       "<p>746 rows × 3 columns</p>\n",
       "</div>"
      ],
      "text/plain": [
       "                        Close        MA_365  logPrice\n",
       "time                                                 \n",
       "2019-11-09 20:44:00   8771.46   8352.823918  3.943072\n",
       "2019-11-10 12:44:00   8844.92   8366.400959  3.946694\n",
       "2019-11-11 04:44:00   9006.54   8380.411425  3.954558\n",
       "2019-11-11 20:44:00   8747.99   8393.704795  3.941908\n",
       "2019-11-12 12:44:00   8733.99   8407.070329  3.941213\n",
       "...                       ...           ...       ...\n",
       "2021-03-27 20:44:00  55845.41  25049.608795  4.746987\n",
       "2021-03-28 13:44:00  55908.26  25176.233370  4.747476\n",
       "2021-03-29 05:44:00  55490.71  25301.235315  4.744220\n",
       "2021-03-29 21:44:00  57569.75  25430.921507  4.760194\n",
       "2021-03-30 13:44:00  59049.18  25562.777562  4.771214\n",
       "\n",
       "[746 rows x 3 columns]"
      ]
     },
     "execution_count": 19,
     "metadata": {},
     "output_type": "execute_result"
    }
   ],
   "source": [
    "test"
   ]
  },
  {
   "cell_type": "code",
   "execution_count": 24,
   "metadata": {},
   "outputs": [
    {
     "data": {
      "text/html": [
       "<div>\n",
       "<style scoped>\n",
       "    .dataframe tbody tr th:only-of-type {\n",
       "        vertical-align: middle;\n",
       "    }\n",
       "\n",
       "    .dataframe tbody tr th {\n",
       "        vertical-align: top;\n",
       "    }\n",
       "\n",
       "    .dataframe thead th {\n",
       "        text-align: right;\n",
       "    }\n",
       "</style>\n",
       "<table border=\"1\" class=\"dataframe\">\n",
       "  <thead>\n",
       "    <tr style=\"text-align: right;\">\n",
       "      <th></th>\n",
       "      <th>predictions</th>\n",
       "    </tr>\n",
       "  </thead>\n",
       "  <tbody>\n",
       "    <tr>\n",
       "      <th>0</th>\n",
       "      <td>32714</td>\n",
       "    </tr>\n",
       "    <tr>\n",
       "      <th>1</th>\n",
       "      <td>2837</td>\n",
       "    </tr>\n",
       "    <tr>\n",
       "      <th>2</th>\n",
       "      <td>48728558</td>\n",
       "    </tr>\n",
       "  </tbody>\n",
       "</table>\n",
       "</div>"
      ],
      "text/plain": [
       "   predictions\n",
       "0        32714\n",
       "1         2837\n",
       "2     48728558"
      ]
     },
     "execution_count": 24,
     "metadata": {},
     "output_type": "execute_result"
    }
   ],
   "source": [
    "#predictions = [ [32714], [2837], [48728558]]\n",
    "test = pd.DataFrame(predictions, columns = ['predictions'])\n",
    "test"
   ]
  },
  {
   "cell_type": "code",
   "execution_count": null,
   "metadata": {},
   "outputs": [],
   "source": [
    "#Graficar test[\"prediction\"] en el mismo gráfico de antes para poder comparar la predicción con la realidad, \n",
    "#a ver cómo consigues colocar esa lista de datos en la nueva columna...\n",
    "#Aplicar cross validation, ya que ARIMA tiene 3 hiperparámetros."
   ]
  },
  {
   "attachments": {},
   "cell_type": "markdown",
   "metadata": {},
   "source": [
    "10) Entrenamiento del modelo"
   ]
  },
  {
   "cell_type": "code",
   "execution_count": 20,
   "metadata": {},
   "outputs": [
    {
     "name": "stderr",
     "output_type": "stream",
     "text": [
      "c:\\Users\\n_sar\\AppData\\Local\\Programs\\Python\\Python39\\lib\\site-packages\\statsmodels\\tsa\\base\\tsa_model.py:471: ValueWarning: A date index has been provided, but it has no associated frequency information and so will be ignored when e.g. forecasting.\n",
      "  self._init_dates(dates, freq)\n",
      "c:\\Users\\n_sar\\AppData\\Local\\Programs\\Python\\Python39\\lib\\site-packages\\statsmodels\\tsa\\base\\tsa_model.py:471: ValueWarning: A date index has been provided, but it has no associated frequency information and so will be ignored when e.g. forecasting.\n",
      "  self._init_dates(dates, freq)\n",
      "c:\\Users\\n_sar\\AppData\\Local\\Programs\\Python\\Python39\\lib\\site-packages\\statsmodels\\tsa\\base\\tsa_model.py:471: ValueWarning: A date index has been provided, but it has no associated frequency information and so will be ignored when e.g. forecasting.\n",
      "  self._init_dates(dates, freq)\n"
     ]
    }
   ],
   "source": [
    "# entrenar el modelo ARIMA\n",
    "model = ARIMA(train['Close'], order=(1, 0, 1))\n",
    "model_fit = model.fit()"
   ]
  },
  {
   "attachments": {},
   "cell_type": "markdown",
   "metadata": {},
   "source": [
    "Creación de la columna \"prediction\" con los datos de la lista \"predictions\",aplicando el primero a la fecha 2019-11-09, el segundo a 2019-11-10, etc."
   ]
  },
  {
   "cell_type": "code",
   "execution_count": 21,
   "metadata": {},
   "outputs": [
    {
     "name": "stderr",
     "output_type": "stream",
     "text": [
      "c:\\Users\\n_sar\\AppData\\Local\\Programs\\Python\\Python39\\lib\\site-packages\\statsmodels\\tsa\\base\\tsa_model.py:834: ValueWarning: No supported index is available. Prediction results will be given with an integer index beginning at `start`.\n",
      "  return get_prediction_index(\n"
     ]
    },
    {
     "ename": "KeyError",
     "evalue": "1",
     "output_type": "error",
     "traceback": [
      "\u001b[1;31m---------------------------------------------------------------------------\u001b[0m",
      "\u001b[1;31mValueError\u001b[0m                                Traceback (most recent call last)",
      "File \u001b[1;32mc:\\Users\\n_sar\\AppData\\Local\\Programs\\Python\\Python39\\lib\\site-packages\\pandas\\core\\indexes\\range.py:391\u001b[0m, in \u001b[0;36mRangeIndex.get_loc\u001b[1;34m(self, key, method, tolerance)\u001b[0m\n\u001b[0;32m    390\u001b[0m \u001b[39mtry\u001b[39;00m:\n\u001b[1;32m--> 391\u001b[0m     \u001b[39mreturn\u001b[39;00m \u001b[39mself\u001b[39;49m\u001b[39m.\u001b[39;49m_range\u001b[39m.\u001b[39;49mindex(new_key)\n\u001b[0;32m    392\u001b[0m \u001b[39mexcept\u001b[39;00m \u001b[39mValueError\u001b[39;00m \u001b[39mas\u001b[39;00m err:\n",
      "\u001b[1;31mValueError\u001b[0m: 1 is not in range",
      "\nThe above exception was the direct cause of the following exception:\n",
      "\u001b[1;31mKeyError\u001b[0m                                  Traceback (most recent call last)",
      "Cell \u001b[1;32mIn[21], line 2\u001b[0m\n\u001b[0;32m      1\u001b[0m \u001b[39m# hacer predicciones en el conjunto de prueba\u001b[39;00m\n\u001b[1;32m----> 2\u001b[0m predictions \u001b[39m=\u001b[39m model_fit\u001b[39m.\u001b[39;49mforecast(steps\u001b[39m=\u001b[39;49m\u001b[39mlen\u001b[39;49m(test))[\u001b[39m1\u001b[39;49m]\n",
      "File \u001b[1;32mc:\\Users\\n_sar\\AppData\\Local\\Programs\\Python\\Python39\\lib\\site-packages\\pandas\\core\\series.py:981\u001b[0m, in \u001b[0;36mSeries.__getitem__\u001b[1;34m(self, key)\u001b[0m\n\u001b[0;32m    978\u001b[0m     \u001b[39mreturn\u001b[39;00m \u001b[39mself\u001b[39m\u001b[39m.\u001b[39m_values[key]\n\u001b[0;32m    980\u001b[0m \u001b[39melif\u001b[39;00m key_is_scalar:\n\u001b[1;32m--> 981\u001b[0m     \u001b[39mreturn\u001b[39;00m \u001b[39mself\u001b[39;49m\u001b[39m.\u001b[39;49m_get_value(key)\n\u001b[0;32m    983\u001b[0m \u001b[39mif\u001b[39;00m is_hashable(key):\n\u001b[0;32m    984\u001b[0m     \u001b[39m# Otherwise index.get_value will raise InvalidIndexError\u001b[39;00m\n\u001b[0;32m    985\u001b[0m     \u001b[39mtry\u001b[39;00m:\n\u001b[0;32m    986\u001b[0m         \u001b[39m# For labels that don't resolve as scalars like tuples and frozensets\u001b[39;00m\n",
      "File \u001b[1;32mc:\\Users\\n_sar\\AppData\\Local\\Programs\\Python\\Python39\\lib\\site-packages\\pandas\\core\\series.py:1089\u001b[0m, in \u001b[0;36mSeries._get_value\u001b[1;34m(self, label, takeable)\u001b[0m\n\u001b[0;32m   1086\u001b[0m     \u001b[39mreturn\u001b[39;00m \u001b[39mself\u001b[39m\u001b[39m.\u001b[39m_values[label]\n\u001b[0;32m   1088\u001b[0m \u001b[39m# Similar to Index.get_value, but we do not fall back to positional\u001b[39;00m\n\u001b[1;32m-> 1089\u001b[0m loc \u001b[39m=\u001b[39m \u001b[39mself\u001b[39;49m\u001b[39m.\u001b[39;49mindex\u001b[39m.\u001b[39;49mget_loc(label)\n\u001b[0;32m   1090\u001b[0m \u001b[39mreturn\u001b[39;00m \u001b[39mself\u001b[39m\u001b[39m.\u001b[39mindex\u001b[39m.\u001b[39m_get_values_for_loc(\u001b[39mself\u001b[39m, loc, label)\n",
      "File \u001b[1;32mc:\\Users\\n_sar\\AppData\\Local\\Programs\\Python\\Python39\\lib\\site-packages\\pandas\\core\\indexes\\range.py:393\u001b[0m, in \u001b[0;36mRangeIndex.get_loc\u001b[1;34m(self, key, method, tolerance)\u001b[0m\n\u001b[0;32m    391\u001b[0m         \u001b[39mreturn\u001b[39;00m \u001b[39mself\u001b[39m\u001b[39m.\u001b[39m_range\u001b[39m.\u001b[39mindex(new_key)\n\u001b[0;32m    392\u001b[0m     \u001b[39mexcept\u001b[39;00m \u001b[39mValueError\u001b[39;00m \u001b[39mas\u001b[39;00m err:\n\u001b[1;32m--> 393\u001b[0m         \u001b[39mraise\u001b[39;00m \u001b[39mKeyError\u001b[39;00m(key) \u001b[39mfrom\u001b[39;00m \u001b[39merr\u001b[39;00m\n\u001b[0;32m    394\u001b[0m \u001b[39mself\u001b[39m\u001b[39m.\u001b[39m_check_indexing_error(key)\n\u001b[0;32m    395\u001b[0m \u001b[39mraise\u001b[39;00m \u001b[39mKeyError\u001b[39;00m(key)\n",
      "\u001b[1;31mKeyError\u001b[0m: 1"
     ]
    }
   ],
   "source": [
    "# hacer predicciones en el conjunto de prueba\n",
    "predictions = model_fit.forecast(steps=len(test))[1]"
   ]
  },
  {
   "cell_type": "code",
   "execution_count": 22,
   "metadata": {},
   "outputs": [
    {
     "name": "stdout",
     "output_type": "stream",
     "text": [
      "[[32714], [2837], [48728558]]\n"
     ]
    }
   ],
   "source": [
    "print(predictions)"
   ]
  },
  {
   "cell_type": "code",
   "execution_count": 23,
   "metadata": {},
   "outputs": [
    {
     "ename": "NameError",
     "evalue": "name 'np' is not defined",
     "output_type": "error",
     "traceback": [
      "\u001b[1;31m---------------------------------------------------------------------------\u001b[0m",
      "\u001b[1;31mNameError\u001b[0m                                 Traceback (most recent call last)",
      "Cell \u001b[1;32mIn[23], line 2\u001b[0m\n\u001b[0;32m      1\u001b[0m \u001b[39m# calcular el error de las predicciones\u001b[39;00m\n\u001b[1;32m----> 2\u001b[0m error \u001b[39m=\u001b[39m np\u001b[39m.\u001b[39mmean(np\u001b[39m.\u001b[39mabs(predictions \u001b[39m-\u001b[39m test[\u001b[39m'\u001b[39m\u001b[39mClose\u001b[39m\u001b[39m'\u001b[39m]\u001b[39m.\u001b[39mvalues)) \u001b[39m/\u001b[39m np\u001b[39m.\u001b[39mmean(test[\u001b[39m'\u001b[39m\u001b[39mClose\u001b[39m\u001b[39m'\u001b[39m]\u001b[39m.\u001b[39mvalues)\n\u001b[0;32m      3\u001b[0m \u001b[39mprint\u001b[39m(\u001b[39m'\u001b[39m\u001b[39mError:\u001b[39m\u001b[39m'\u001b[39m, error)\n",
      "\u001b[1;31mNameError\u001b[0m: name 'np' is not defined"
     ]
    }
   ],
   "source": [
    "# calcular el error de las predicciones\n",
    "error = np.mean(np.abs(predictions - test['Close'].values)) / np.mean(test['Close'].values)\n",
    "print('Error:', error)"
   ]
  },
  {
   "cell_type": "code",
   "execution_count": null,
   "metadata": {},
   "outputs": [],
   "source": [
    "# visualizar los resultados\n",
    "plt.plot(train['Close'], label='Datos de entrenamiento')\n",
    "plt.plot(test['Close'], label='Datos reales')\n",
    "plt.legend()\n",
    "plt.show()"
   ]
  },
  {
   "cell_type": "code",
   "execution_count": null,
   "metadata": {},
   "outputs": [],
   "source": [
    "plt.plot(predictions, label='Predicción')"
   ]
  }
 ],
 "metadata": {
  "kernelspec": {
   "display_name": "Python 3",
   "language": "python",
   "name": "python3"
  },
  "language_info": {
   "codemirror_mode": {
    "name": "ipython",
    "version": 3
   },
   "file_extension": ".py",
   "mimetype": "text/x-python",
   "name": "python",
   "nbconvert_exporter": "python",
   "pygments_lexer": "ipython3",
   "version": "3.9.5"
  },
  "orig_nbformat": 4,
  "vscode": {
   "interpreter": {
    "hash": "2e242e6b8c453217117083c6680e6db82176874e34559806b32fd7417ddae620"
   }
  }
 },
 "nbformat": 4,
 "nbformat_minor": 2
}
