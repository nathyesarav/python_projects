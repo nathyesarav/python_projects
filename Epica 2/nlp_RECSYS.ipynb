{
 "cells": [
  {
   "cell_type": "code",
   "execution_count": null,
   "metadata": {
    "cellView": "code",
    "colab": {},
    "colab_type": "code",
    "id": "UlUVJMdLTWi9"
   },
   "outputs": [],
   "source": [
    "# import libraries\n",
    "import pandas as pd\n",
    "import numpy as np\n",
    "from scipy.spatial.distance import squareform\n",
    "from scipy.spatial.distance import pdist"
   ]
  },
  {
   "cell_type": "markdown",
   "metadata": {
    "colab_type": "text",
    "id": "e_1DqztJTExB"
   },
   "source": [
    "## Similaridad coseno\n",
    "¿Cómo calcularla en Python?\n",
    "\n",
    "Podemos calcular la similaridad  coseno empleando sklearn:"
   ]
  },
  {
   "cell_type": "code",
   "execution_count": null,
   "metadata": {
    "colab": {},
    "colab_type": "code",
    "id": "MaNOaEleTExC",
    "outputId": "85c58e37-c0e5-4ab2-dc49-f6fc273f491a"
   },
   "outputs": [],
   "source": [
    "from sklearn.metrics.pairwise import cosine_similarity\n",
    "Juan = [5,4,4]\n",
    "Diego = [4,5,5]\n",
    "cosine_similarity([Juan, Diego])"
   ]
  },
  {
   "cell_type": "markdown",
   "metadata": {
    "colab_type": "text",
    "id": "iZM-ublhTExH"
   },
   "source": [
    "También podemos calcular la similaridad a mano:"
   ]
  },
  {
   "cell_type": "code",
   "execution_count": null,
   "metadata": {
    "colab": {},
    "colab_type": "code",
    "id": "6I0kDznXTExH",
    "outputId": "6645c277-4d91-4285-d8f8-df01f827b90c"
   },
   "outputs": [],
   "source": [
    "(5*4 + 4*5 + 4*5)/(np.sqrt(5**2+4**2+4**2)*np.sqrt(4**2+5**2+5**2))"
   ]
  },
  {
   "cell_type": "markdown",
   "metadata": {
    "colab_type": "text",
    "id": "Ko3ppta1TExL"
   },
   "source": [
    "O empleando Numpy"
   ]
  },
  {
   "cell_type": "code",
   "execution_count": null,
   "metadata": {
    "colab": {},
    "colab_type": "code",
    "id": "cYTD4lEVTExM",
    "outputId": "26d04f43-222c-46e8-da06-b2fd9e112d42"
   },
   "outputs": [],
   "source": [
    "np.dot(Juan,Diego)/np.dot(np.linalg.norm(Juan), np.linalg.norm(Diego))"
   ]
  },
  {
   "cell_type": "markdown",
   "metadata": {},
   "source": [
    "## Item-Based Collaborative Filtering"
   ]
  },
  {
   "cell_type": "markdown",
   "metadata": {},
   "source": [
    "Retomando el ejemplo de las diapositivas:"
   ]
  },
  {
   "cell_type": "code",
   "execution_count": null,
   "metadata": {},
   "outputs": [],
   "source": [
    "user_item = np.array([[5, np.nan, 4],[4,3,5],[4,5,5],[np.nan, 5, np.nan], [np.nan, 5, 3]])"
   ]
  },
  {
   "cell_type": "code",
   "execution_count": null,
   "metadata": {},
   "outputs": [],
   "source": [
    "user_item"
   ]
  },
  {
   "cell_type": "markdown",
   "metadata": {},
   "source": [
    "En este ejemplo vamos a calcular la similitud coseno considerando solo los valores distintos de nan. \n",
    "Vamos a usar numba:\n",
    "\"Numba translates Python functions to optimized machine code at runtime using the industry-standard LLVM compiler library. Numba-compiled numerical algorithms in Python can approach the speeds of C or FORTRAN. \""
   ]
  },
  {
   "cell_type": "code",
   "execution_count": null,
   "metadata": {},
   "outputs": [],
   "source": [
    "import numba\n",
    "\n",
    "@numba.jit(target='cpu', nopython=True)\n",
    "def fast_cosine(u, v):\n",
    "    m = u.shape[0]\n",
    "    udotv = 0\n",
    "    u_norm = 0\n",
    "    v_norm = 0\n",
    "    for i in range(m):\n",
    "        if (np.isnan(u[i])) or (np.isnan(v[i])):\n",
    "            continue\n",
    "            \n",
    "        udotv += u[i] * v[i]\n",
    "        u_norm += u[i] * u[i]\n",
    "        v_norm += v[i] * v[i]\n",
    "\n",
    "    u_norm = np.sqrt(u_norm)\n",
    "    v_norm = np.sqrt(v_norm)\n",
    "    \n",
    "    if (u_norm == 0) or (v_norm == 0):\n",
    "        ratio = 0 ## o podria devolver nan\n",
    "    else:\n",
    "        ratio = udotv / (u_norm * v_norm)\n",
    "    return ratio"
   ]
  },
  {
   "cell_type": "code",
   "execution_count": null,
   "metadata": {},
   "outputs": [],
   "source": [
    "## vamos a calcular la distancia usando pdist y squareform\n",
    "## la primera vez que lo corramos va a ser un poco más lento\n",
    "similitudes = squareform(pdist(user_item,metric=fast_cosine))"
   ]
  },
  {
   "cell_type": "code",
   "execution_count": null,
   "metadata": {},
   "outputs": [],
   "source": [
    "## para comparar con la diapositiva: \n",
    "similitudes = np.round(similitudes,3)\n",
    "similitudes"
   ]
  },
  {
   "cell_type": "code",
   "execution_count": null,
   "metadata": {},
   "outputs": [],
   "source": [
    "similitudes"
   ]
  },
  {
   "cell_type": "code",
   "execution_count": null,
   "metadata": {},
   "outputs": [],
   "source": [
    "## Si queremos predecir el score que Nico le da a Study:\n",
    "nico = user_item[:,0]\n",
    "study = similitudes[:,4]\n",
    "\n",
    "np.nansum(nico*study)/np.sum(study[~np.isnan(nico)])\n",
    "\n",
    "## otra opcion seria hacer el producto de la matriz user_item con la matriz de similitudes \n",
    "#luego al momento de sacar el rating predicho, calcular k y dividir"
   ]
  },
  {
   "cell_type": "markdown",
   "metadata": {},
   "source": [
    "Veamos un ejemplo con datos reales: el dataset movielens"
   ]
  },
  {
   "cell_type": "code",
   "execution_count": null,
   "metadata": {
    "colab": {},
    "colab_type": "code",
    "id": "uKEUOqZ5TExW"
   },
   "outputs": [],
   "source": [
    "mlens = pd.read_csv(\"u.data\",sep=\"\\t\",header=None)\n",
    "mlens.columns = [\"user_id\",\"item_id\",\"rating\",\"timestamp\"]"
   ]
  },
  {
   "cell_type": "code",
   "execution_count": null,
   "metadata": {},
   "outputs": [],
   "source": [
    "## primero vamos a mapear los ids de usuario y de pelicula a un nuevo id que sea un indice\n",
    "user2ix = {user:ix for ix,user in enumerate(mlens.user_id.unique())}\n",
    "ix2user = {user2ix[k]:k for k in user2ix.keys()}\n",
    "\n",
    "item2ix = {item:ix for ix,item in enumerate(mlens.item_id.unique())}\n",
    "ix2item = {item2ix[k]:k for k in item2ix.keys()}\n",
    "\n",
    "mlens_con_ix = mlens.copy()\n",
    "mlens_con_ix[\"user_id\"] = mlens.user_id.apply(lambda x: user2ix[x])\n",
    "mlens_con_ix[\"item_id\"] = mlens.item_id.apply(lambda x: item2ix[x])"
   ]
  },
  {
   "cell_type": "code",
   "execution_count": null,
   "metadata": {},
   "outputs": [],
   "source": [
    "## hacemos un pivot sobre el dataframe para tener la matriz usuario-item\n",
    "## ojo, esta no es la forma mas eficiente: estamos usando un dataframe\n",
    "## pero pdist y cdist no toman una sparse matrix como input\n",
    "## de todas maneras, para este problema no requerimos una sparse matrix necesariamente\n",
    "mlens_pivotada = mlens.pivot(\"item_id\",\"user_id\")[\"rating\"]"
   ]
  },
  {
   "cell_type": "code",
   "execution_count": null,
   "metadata": {},
   "outputs": [],
   "source": [
    "## calculamos la similitud\n",
    "similitudes = squareform(pdist(mlens_pivotada,metric=fast_cosine))"
   ]
  },
  {
   "cell_type": "code",
   "execution_count": null,
   "metadata": {},
   "outputs": [],
   "source": [
    "## vamos a usar una funcion que devuelva el rating original si este existe\n",
    "## caso contrario, devuelve el predicho\n",
    "def predecir(user,item,similitudes,original,user2ix,item2ix):\n",
    "    ix_user = user2ix[user]\n",
    "    ix_item = item2ix[item]\n",
    "    score = original.iloc[ix_item,ix_user]\n",
    "    if np.isnan(score):\n",
    "        item_similitudes = similitudes[:,ix_item]\n",
    "        user_scores = original.iloc[:,ix_user].values\n",
    "        k = np.nansum(item_similitudes[~np.isnan(user_scores)]) ## este es el denominador de la funcion\n",
    "        \n",
    "        if k == 0: \n",
    "            ## si nadie le puso puntaje al item o las similitudes son todas 0 devuelvo un score arbitrario\n",
    "            return 2.5\n",
    "        \n",
    "        score = np.nansum(user_scores*item_similitudes)\n",
    "        score = score/k\n",
    "    return score"
   ]
  },
  {
   "cell_type": "code",
   "execution_count": null,
   "metadata": {},
   "outputs": [],
   "source": [
    "user = 554\n",
    "item = 651\n",
    "predecir(user,item,similitudes,mlens_pivotada,user2ix,item2ix)"
   ]
  }
 ],
 "metadata": {
  "colab": {
   "collapsed_sections": [],
   "name": "PRACTICA_GUIADA_INTRO_RECSYS.ipynb",
   "provenance": [],
   "version": "0.3.2"
  },
  "kernelspec": {
   "display_name": "Python 3",
   "language": "python",
   "name": "python3"
  },
  "language_info": {
   "codemirror_mode": {
    "name": "ipython",
    "version": 3
   },
   "file_extension": ".py",
   "mimetype": "text/x-python",
   "name": "python",
   "nbconvert_exporter": "python",
   "pygments_lexer": "ipython3",
   "version": "3.9.5"
  },
  "vscode": {
   "interpreter": {
    "hash": "2e242e6b8c453217117083c6680e6db82176874e34559806b32fd7417ddae620"
   }
  }
 },
 "nbformat": 4,
 "nbformat_minor": 4
}
