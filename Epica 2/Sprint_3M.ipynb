{
 "cells": [
  {
   "attachments": {},
   "cell_type": "markdown",
   "metadata": {},
   "source": [
    "## User story 27F"
   ]
  },
  {
   "attachments": {},
   "cell_type": "markdown",
   "metadata": {},
   "source": [
    "Crear un chatbot que responda algunas preguntas básicas, saludos y despedidas."
   ]
  },
  {
   "cell_type": "code",
   "execution_count": 1,
   "metadata": {},
   "outputs": [],
   "source": [
    "import random   "
   ]
  },
  {
   "cell_type": "code",
   "execution_count": 3,
   "metadata": {},
   "outputs": [],
   "source": [
    "# Defino preguntas y respuestas simple:\n",
    "preguntas = {\n",
    "    \"hola\": [\"¡Hola! ¿Cómo estás?\", \"¡Hola! ¿En qué puedo ayudarte?\"],\n",
    "    \"nombre\": [\"Mi nombre es Chatbot\", \"Puedes llamarme Chabot\"],\n",
    "    \"funcion\": [\"Mi función es ayudarte a responder preguntas\", \"Estoy aquí para ayudarte\"],\n",
    "    \"adios\": [\"¡Hasta luego! ¡Que tengas un buen día!\", \"¡Adios! ¡Nos vemos pronto\"]\n",
    "}"
   ]
  },
  {
   "cell_type": "code",
   "execution_count": 2,
   "metadata": {},
   "outputs": [],
   "source": [
    "# Definimos una función para obtener una respuesta a una pregunta:\n",
    "def obtener_respuesta(pregunta):\n",
    "    if pregunta.lower() in preguntas:\n",
    "        return random.choice(preguntas[pregunta.lower()])\n",
    "    else:\n",
    "        return \"Lo siento, no entiendo lo que estás preguntado, ¡Podrías ser más específico?\"\n"
   ]
  },
  {
   "cell_type": "code",
   "execution_count": 4,
   "metadata": {},
   "outputs": [
    {
     "name": "stdout",
     "output_type": "stream",
     "text": [
      "¡Hola! Soy Chatbot. ¿En qué puedo ayudarte hoy?\n"
     ]
    }
   ],
   "source": [
    "print(\"¡Hola! Soy Chatbot. ¿En qué puedo ayudarte hoy?\")"
   ]
  },
  {
   "cell_type": "code",
   "execution_count": null,
   "metadata": {},
   "outputs": [],
   "source": [
    "while True:\n",
    "    # Obteniendo respuesta del usuario:\n",
    "    pregunta = input(\"> \")\n",
    "\n",
    "    # Si el usuario se despide terminamos el programa\n",
    "    if pregunta.lower() == \"adios\":\n",
    "        print(obtener_respuesta(\"adios\"))\n",
    "        break\n",
    "    \n",
    "    # Obteniendo respuesta\n",
    "    respuesta = obtener_respuesta(pregunta)    \n",
    "\n",
    "    print(respuesta)"
   ]
  },
  {
   "attachments": {},
   "cell_type": "markdown",
   "metadata": {},
   "source": [
    "## User story 28F"
   ]
  },
  {
   "attachments": {},
   "cell_type": "markdown",
   "metadata": {},
   "source": [
    "Enseñar al chatbot a que responda el documento más cercano al texto del input.\n"
   ]
  },
  {
   "attachments": {},
   "cell_type": "markdown",
   "metadata": {},
   "source": [
    "## User story 1M"
   ]
  },
  {
   "attachments": {},
   "cell_type": "markdown",
   "metadata": {},
   "source": [
    "Enseñar al chatbot a clasificar un input largo según las dos temáticas del corpus. Usar Naive Bayes.\n"
   ]
  },
  {
   "attachments": {},
   "cell_type": "markdown",
   "metadata": {},
   "source": [
    "## User story 3M"
   ]
  },
  {
   "attachments": {},
   "cell_type": "markdown",
   "metadata": {},
   "source": [
    "Añadir un snippet con la URL de cada resultado."
   ]
  },
  {
   "attachments": {},
   "cell_type": "markdown",
   "metadata": {},
   "source": [
    "- Referencia: Práctica de Reducción de la Dimensionalidad\n",
    "- Skills: NLP, TF-IDF, embeddings, cosine similarity, text parsing, dimensionality reduction"
   ]
  }
 ],
 "metadata": {
  "kernelspec": {
   "display_name": "Python 3",
   "language": "python",
   "name": "python3"
  },
  "language_info": {
   "codemirror_mode": {
    "name": "ipython",
    "version": 3
   },
   "file_extension": ".py",
   "mimetype": "text/x-python",
   "name": "python",
   "nbconvert_exporter": "python",
   "pygments_lexer": "ipython3",
   "version": "3.9.5"
  },
  "orig_nbformat": 4,
  "vscode": {
   "interpreter": {
    "hash": "2e242e6b8c453217117083c6680e6db82176874e34559806b32fd7417ddae620"
   }
  }
 },
 "nbformat": 4,
 "nbformat_minor": 2
}
