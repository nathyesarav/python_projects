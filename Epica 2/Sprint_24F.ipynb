{
 "cells": [
  {
   "attachments": {},
   "cell_type": "markdown",
   "metadata": {},
   "source": [
    "## User Storie 22F"
   ]
  },
  {
   "attachments": {},
   "cell_type": "markdown",
   "metadata": {},
   "source": [
    "### Parsear dos corpus de texto en un dataframe. Cada documento es una fila"
   ]
  },
  {
   "cell_type": "code",
   "execution_count": 2,
   "metadata": {},
   "outputs": [],
   "source": [
    "import pandas as pd\n",
    "import re\n",
    "\n",
    "file = open(\"nlp_corpus_curated_text_ML_corto.log\", encoding=\"UTF-8\")\n",
    "data = file.read()\n",
    "registros = data.split('\\n')"
   ]
  },
  {
   "cell_type": "code",
   "execution_count": 3,
   "metadata": {},
   "outputs": [],
   "source": [
    "#Creo las listas\n",
    "link = []\n",
    "texto = []\n",
    "temp_text = ''\n",
    "\n",
    "for registro in registros:\n",
    "  if len(registro) > 10:\n",
    "    if registro.find(\"http\") != -1 and  registro.find(\"http\") == 0:\n",
    "      if len(registro) != 0:\n",
    "        link.append(registro) \n",
    "        texto.append(temp_text)\n",
    "        temp_text = ''\n",
    "    else:\n",
    "      temp_text += registro\n",
    "\n",
    "texto.append(temp_text)"
   ]
  },
  {
   "cell_type": "code",
   "execution_count": 4,
   "metadata": {},
   "outputs": [
    {
     "data": {
      "text/plain": [
       "3"
      ]
     },
     "execution_count": 4,
     "metadata": {},
     "output_type": "execute_result"
    }
   ],
   "source": [
    "len(link)"
   ]
  },
  {
   "cell_type": "code",
   "execution_count": 5,
   "metadata": {},
   "outputs": [
    {
     "data": {
      "text/plain": [
       "['http://ai-marketers.com/ai-stock-market-forecast/',\n",
       " 'http://antontarasenko.github.io/show-hn/',\n",
       " 'http://biotech.einnews.com/pr_news/565056079/chatbot-in-bfsi-market-research-report-future-growth-outlook-2022-to-2028-ibm-corporation-inbenta-technologies']"
      ]
     },
     "execution_count": 5,
     "metadata": {},
     "output_type": "execute_result"
    }
   ],
   "source": [
    "link"
   ]
  },
  {
   "cell_type": "code",
   "execution_count": 11,
   "metadata": {},
   "outputs": [
    {
     "data": {
      "text/plain": [
       "3"
      ]
     },
     "execution_count": 11,
     "metadata": {},
     "output_type": "execute_result"
    }
   ],
   "source": [
    "len(texto)"
   ]
  },
  {
   "cell_type": "code",
   "execution_count": 9,
   "metadata": {},
   "outputs": [
    {
     "data": {
      "text/plain": [
       "''"
      ]
     },
     "execution_count": 9,
     "metadata": {},
     "output_type": "execute_result"
    }
   ],
   "source": [
    "texto.pop(0)"
   ]
  },
  {
   "cell_type": "code",
   "execution_count": 10,
   "metadata": {},
   "outputs": [
    {
     "data": {
      "text/plain": [
       "[\"*AI stock market prediction* has been gaining ground and we’re all wondering if the new, evolved AI-based algorithms can detect price trends. Are they accurate enough to pick winners or detect which stocks will roar and which might crash?Are they sharp enough to detect a new Corona Virus threat, or a government economic news release for its effect on stock prices?\\xa0 They could actually program it to see these recurring events and ascribe special meaning to a big threat like the new Omicron Covid variant.\\xa0 But are they doing important detection like this? That’s a mystery, but the potential of artificial intelligence algorithms to detect events, weigh them, and advise on the outfall is definitely valuable.Interest in AI technology, AI software ( ) and AI prediction tools ( ) is growing in response to increasing business costs. Some are using AI marketing software ( ) to create better campaigns. Companies who use AI (AI stocks) anywhere in their business operations are the focus of many stock market investors. Then there are the *AI stock price prediction tools*.There are at least *3 AI stock market prediction services* reviewed below, which you might want to try out. They aren’t well known and do need to improve their digital marketing ( ) efforts to get in front of tens of millions of individual investors who might like they’re guidance.As investors struggle with volatility, pandemic crashes, political strife, economic changes, finding the best stocks to buy ( ) is a challenge. Often the best long term buys in the markets are the worst performing now. Stocks such as 5G, oil stocks, and Bitcoin have almost crashed during the sell off. And they might again.Could AI prediction tools possibly be better at finding the best growth and cyclical stocks?\\xa0 Is AI the ultimate stock market forecast ( ) tool?\\xa0 Is it all about simple patterns, or is stock prediction ( ) a more sophisticated process involving both investment advisor expertise and AI software insight and real time trading responsiveness?*FinBrain ( #finbrainAI ) , I Know First ( #iknowfirst ) ,* and *Danel Capital* ( #danelcapital ) are a few notable stock picking solutions we look at here.\\xa0 How do these *AI stock forecasting systems* work and how much does it cost to use them?Algorithmic trading has been around for several decades.\\xa0 Some NYC traders approached me 15 years ago about conducting their new machine learning, algorithmic trading (precursor to AI trading) market campaigns. They were way before their time. Much too early.But are these forward thinking solutions still too far ahead of the times, with solutions able to tame the complexities of modern stock trading? We’re not sure, however for a free or low initial price, you can try them out.FinBrain Technologies is the service most traders are interested in.\\xa0 IT offers Artificial Intelligence enabled financial prediction technologies.\\xa0 They serve stock ( ) , commodities, forex and cryptocurrency markets.They use models that learn using artificial neural networks, advanced deep learning algorithms, non-linear data, analyze historic data, deploying self-learning and self-adapting algorithms, study market sentiment factors, and technical indicators to forecast prices.*I Know First’s algorithm* is based on artificial intelligence, machine learning and incorporates elements of artificial neural networks as well as genetic algorithms to model and predict the flow of money between markets.The service monitors\\xa0 more than *10,000* assets on 6 time horizons spanning from 3-days to a year periods within stocks, ETF’s, world indices, gold, currencies, interest rates, and commodities markets.\\xa0 Perhaps this is the tool you need to increase your knowledge of investing and get more out of the latest stock market forecasts ( ) ?*I Know First* claims in a report that it achieved 97% accuracy in its AI based predictions of the SandP 500 ( ) (^GSPC) and Nasdaq ( ) (^IXIC) indices, as well as their respective ETFs (SPY and QQQ).The company said that\\xa0during 2019, its ETF tracking of the S&P 500 was 87% accurate of the time for the 3-month prediction time horizon. They claim they can predict the 3-day time horizon at 65%, 7-day time horizon at 69%, and 14-day time horizon at 79%. They offer online artificial intelligence stock trading accounts starting at $169 per month to $349 per month. At that very low price, it seems worth a try. Check them out here: I Know First ( ).The I Know First’s system seems to be able to ignore stock price volatility to identify underlying trends in historical data. The stock market is a good testing ground for AI given how much historical data is available and how much it’s been studied.In an era of Trump vs Democrat media battles, frequent propaganda releases, trade war events, and computer based trading, the AI stock trading system would certainly have to comb out a lot of distraction. But perhaps AI can figure out Donald Trump?Danel Capital has\\xa0They’ve created a service that can aid in stock prediction ( ) success. 4 years of research and development has lead to a machine learning algorithm that aids in summarizing all available information that can affect stock prices in one global predictive score, which they call *Smart Score™*.*Danel’s stock forecasting tool* is developed by their Co-Founder ad Chief Technology Officer Guillermo Salas. His expertise is in the development of algorithms for the generation and management of big data in the financial industry.And Aarón Román is co-Founder & Chief Data Scientist for *Danel Capital*. He is a an expert in quantitative analysis, specializing in the application of statistical models and numerical techniques to the daily analysis of billions of data of publicly traded companies.The artificial intelligence enhanced firm caters to banks, asset management companies, financial advisors, wealth management firms, hedge fund managers, and online platforms. At this time, I can’t vouch for I Know First’s predictive success as reported by users.\\xa0 But then if it did produce excellent stock market forecasts ( ) , users would want to keep that quiet.I Know First Disclaimer: I Know First-Daily Market Forecast, does not provide personal investment or financial advice to individuals, or act as personal financial, legal, or institutional investment advisors, or individually advocate the purchase or sale of any security or investment or the use of any particular financial strategy.I Know First offers newsletters, reports, and daily stock picks. Leveraging the knowledge and insights of an AI software system might give you a boost in earnings. Visit and Iknowfirst.com ( ) and check it out.You’re going to ask for my picks of AI stock market forecasting tools but I can’t offer one. I think these services are on the right road. Doing any stock market forecast ( ) is extremely challenging given all the international, national, corporate, regulatory, economic, and other trends going on that can affect how governments manipulate the markets.This is why *AI stock prediction tools* have such big challenges to overcome. It’s like AI tools trying to forecast the biggest selling novel in 5 yeras, or the top song or move in 2025. The algorithms are set to past data and are not set to calculate human emotion and market manipulation.Learn more about stock prediction and AI trading algorithms on research.net, If, AI can observe events long enough, and trading and economic data and news events would bring huge amounts of data to bear on stock trading, then it stands to reason it will forecast more accurately ( ).* information contained in this page is offered as information only and is not an endorsement of the services or a recommendation of their stock price prediction services. Please do your due diligence and follow the guidance of your licensed investment advisor.Gord Collins has worked for 4 digital marketing agencies and a branding guru. That experience has been used to develop a better value proposition, one that agencies won't or can't offer. He's authored two books on the of Advanced SEO ( ). AI marketing is the logical progression in Gord's professional journey.Should You Sell Your Google Stock? Google reported its latest earnings, which were down, dragging Google’s stock price down, but it did something different this time. In the most recent earnings report they omitted earnings from Adsense for the first time in 15 years. Something important is brewing on I believe it’s a strong…20 Challenges You Actually Can Solve in 2019 It’s a big challenge for any SMB owner to decide to upgrade their marketing system. You might not be too certain of what could be improved for real ROI gains, reduced staffing costs, and better marketing performance. This uncertainty keeps managers stuck. We need clarity on our…What Should You Prioritize in Digital Marketing for 2022? 2022 offers a brand new opportunity to win bigger market share or carve out our niche. And many startup entrepreneurs and marketing managers are wondering how to use their marketing budgets this year. What changes should you be making and should you be changing anything in…High Conversion Copywriting Copywriters are often expected to create sales miracles from the content they generate. Yet, with conversion rates lower than 1%, we know there aren’t too many copywriters hitting sales home runs. Others will say high conversion copywriting isn’t that important because “either you have what the customer wants or you don’t.” Still,…AI Marketing Software Marketing managers, CEOs and content strategists are paying increasing attention to AI marketing software solutions. The promise of automating optimized content pathways, ppc ad spends, and sales conversion rates is drawing a lot of attention. Are these platforms ready for big or small business adoption?\\xa0 They’re at a point where you need…Key Performance Indicators for Content Strategy Content strategists are hired to raise digital marketing performance via content. Many marketers, copywriters, sales people and content strategists admonish themselves about poor performance, but with out performance analytics (and a comprehensive digital marketing audit), how would improvement happen? To prove that content strategies and tactics are working, and…----\",\n",
       " \"To explore commercial success of Show HN projects, I combined submissions with the CrunchBase data. I joined both datasets by network location. Despite obvious problems with overlapping second-level domains (github.com hosts many Show HN projects, but belongs to a different entity in CrunchBase), most HN projects have individual domains and, therefore, match uniquely.I took a random sample of 10,000 Show HN submissions and sent a request to each associated URL. The servers returned status codes, which I used for dividing Show HN projects into living and dead. I interpreted code 200 as saying that the project still exists and all other codes (301, 404, timeout, and others) indicating a defunct project.Users judge these projects early, and success on Hacker News may help developers decide what to do next with their project. Sometimes they succeed. For example, Stripe and Dropbox started ( ) with Show HN. So how well does the Hacker News community detect future hits?* Projects hosted by GitHub live longer. GitHub maintains old repos for free, and the death rate is naturally smaller. I included this variable to control for this bias. Other free web services (youtube.com, blogspot.com) host few projects, and I ignored them.These results hold across different specifications and estimation procedures (of which I included only the basic model). So a Hacker News reception has good predictive power, estimated around the OLS's R² = 14%.* What about cases when error codes happen due to success, like redirect to a new domain? They don't affect the results. Regression of redirects on the same variables yields insignificant coefficients. The same for other error codes.* Here and there, natural logs helped adjust scores and comments for self-reinforcement effects. Meaning, when a project hits the front page, its score and comments grow faster than justified by the project's quality. Logs reduce this effect for better estimates.----\",\n",
       " 'OREGAON, PORTLAND, UNITED STATES, March 9, 2022 EINPresswire.com ( ) -- Allied Market Research published a report, titled, “ Chatbot Market ( ) in BFSI by Component (Solution and Service), Platform Type (Web-based and Mobile-based), End User (Banks, Insurance Companies, and Others), and Application (Customer Support, Branding & Advertisement, Data Security & Compliance, and Others: Global Opportunity Analysis and Industry Forecast, 2020–2027” The report offers a detailed analysis of changing market dynamics, key segments, value chain, top investment pockets, competitive scenario, and regional landscape.The research provides a comprehensive analysis of driving factors, restraints, and opportunities for the global chatbot in BFSI market. The report explains the major driving factors and opportunities in detail to offer thorough understanding of the factors. This would help market players, investors, and new entrants to devise strategies, uncover new opportunities, discover the market potential, and achieve competitive edge.The analysis highlights the highest revenue generating and fastest growing segments. These insights are helpful in devising strategies and achieving a sustainable growth. The chatbot in BFSI market is studied on the basis of different segments including type, applications, and region. This makes the study well organized and resourceful along with promoting easy understanding. The report a comprehensive data based on each segment of the chatbot in BFSI market.The research offers an extensive competitive scenario for various regions and countries for the global chatbot in BFSI market. Regions discussed in the study include North America (the U.S., Canada, and Mexico), Europe (the UK, Germany, Italy, France, and rest of Europe), Asia-Pacific (China, India, Japan, South Korea, Taiwan, and rest of Asia-Pacific), and LAMEA (Latin America, the Middle East, and Africa). These insights are valuable in determining expansion strategies, discovering growth potential, and emphasizing on opportunities in new regions. AMR also offers customization services for a specific region, country, and segment upon request.The report offers a detailed impact of the Covid-19 pandemic on the global chatbot in BFSI market to assist market players, investors, and others reassess their strategies, adopt new models, and take necessary steps to survive and sustain.• Production activities of chatbot in BFSI have been stopped due to partial or complete lockdown imposed in many countries. Moreover, there were many challenges such as supply chain disruptions, lack of sufficient workforce, and ban on import-export activities that created hindrances in the production activities.• However, post-lockdown, production activities resumed with the full capacity, and supply chain is getting back on track steadily. Moreover, the demand from application industries is expected to increase gradually.The report offers a detailed analysis of key market players active in the global chatbot in BFSI market. The leading market players discussed in the report include [24]7.ai, Inc, Acuvate, Aivo, Artificial Solutions, Creative Virtual Ltd., eGain Corporation, IBM Corporation, Inbenta Technologies Inc., Next IT Corp., and Nuance Communications, Inc... They have implemented different strategies such as new product launches, mergers and acquisitions, joint ventures, partnerships, expansion, collaborations, and others to achieve sustainable growth and competitive advantage across the world.Allied Market Research (AMR) is a full-service market research and business-consulting wing of Allied Analytics LLP based in Portland, Oregon. Allied Market Research provides global enterprises as well as medium and small businesses with unmatched quality of Market Research Reports and Business Intelligence Solutions. AMR has a targeted view to provide business insights and consulting to assist its clients to make strategic business decisions and achieve sustainable growth in their respective market domain.Pawan Kumar, the CEO of AMR, is leading the organization toward providing high-quality data and insights. We are in professional corporate relations with various companies and this helps us in digging out market data that helps us generate accurate research data tables and confirms utmost accuracy in our market forecasting. Every data presented in the reports published by us is extracted through primary interviews with top officials from leading companies of domain concerned. Our secondary data procurement methodology includes deep online and offline research and discussion with knowledgeable professionals and analysts in the industry.EIN Presswire does not exercise editorial control over third-party content provided, uploaded, published, or distributed by users of EIN Presswire. We are a distributor, not a publisher, of 3rd party content. Such content may contain the views, opinions, statements, offers, and other material of the respective users, suppliers, participants, or authors.----']"
      ]
     },
     "execution_count": 10,
     "metadata": {},
     "output_type": "execute_result"
    }
   ],
   "source": [
    "texto"
   ]
  },
  {
   "cell_type": "code",
   "execution_count": 12,
   "metadata": {},
   "outputs": [
    {
     "data": {
      "text/html": [
       "<div>\n",
       "<style scoped>\n",
       "    .dataframe tbody tr th:only-of-type {\n",
       "        vertical-align: middle;\n",
       "    }\n",
       "\n",
       "    .dataframe tbody tr th {\n",
       "        vertical-align: top;\n",
       "    }\n",
       "\n",
       "    .dataframe thead th {\n",
       "        text-align: right;\n",
       "    }\n",
       "</style>\n",
       "<table border=\"1\" class=\"dataframe\">\n",
       "  <thead>\n",
       "    <tr style=\"text-align: right;\">\n",
       "      <th></th>\n",
       "      <th>link</th>\n",
       "      <th>texto</th>\n",
       "    </tr>\n",
       "  </thead>\n",
       "  <tbody>\n",
       "    <tr>\n",
       "      <th>0</th>\n",
       "      <td>http://ai-marketers.com/ai-stock-market-forecast/</td>\n",
       "      <td>*AI stock market prediction* has been gaining ...</td>\n",
       "    </tr>\n",
       "    <tr>\n",
       "      <th>1</th>\n",
       "      <td>http://antontarasenko.github.io/show-hn/</td>\n",
       "      <td>To explore commercial success of Show HN proje...</td>\n",
       "    </tr>\n",
       "    <tr>\n",
       "      <th>2</th>\n",
       "      <td>http://biotech.einnews.com/pr_news/565056079/c...</td>\n",
       "      <td>OREGAON, PORTLAND, UNITED STATES, March 9, 202...</td>\n",
       "    </tr>\n",
       "  </tbody>\n",
       "</table>\n",
       "</div>"
      ],
      "text/plain": [
       "                                                link  \\\n",
       "0  http://ai-marketers.com/ai-stock-market-forecast/   \n",
       "1           http://antontarasenko.github.io/show-hn/   \n",
       "2  http://biotech.einnews.com/pr_news/565056079/c...   \n",
       "\n",
       "                                               texto  \n",
       "0  *AI stock market prediction* has been gaining ...  \n",
       "1  To explore commercial success of Show HN proje...  \n",
       "2  OREGAON, PORTLAND, UNITED STATES, March 9, 202...  "
      ]
     },
     "execution_count": 12,
     "metadata": {},
     "output_type": "execute_result"
    }
   ],
   "source": [
    "#Creo el dataframe con las columnas link y texto\n",
    "df = pd.DataFrame({\n",
    "    'link': link,\n",
    "    'texto': texto\n",
    "})\n",
    "\n",
    "df.head(3)"
   ]
  },
  {
   "attachments": {},
   "cell_type": "markdown",
   "metadata": {},
   "source": [
    "## User Storie 23F"
   ]
  },
  {
   "attachments": {},
   "cell_type": "markdown",
   "metadata": {},
   "source": [
    "### Vectorizar el dataframe con TF-IDF. Stopwords."
   ]
  },
  {
   "cell_type": "code",
   "execution_count": 17,
   "metadata": {},
   "outputs": [
    {
     "name": "stdout",
     "output_type": "stream",
     "text": [
      "--- Palabras ---\n",
      "... Vector de cantidades ...\n",
      "  (0, 4)\t1\n",
      "  (0, 2)\t1\n",
      "  (0, 0)\t1\n",
      "  (1, 0)\t1\n",
      "  (1, 3)\t1\n",
      "  (1, 6)\t1\n",
      "  (2, 0)\t1\n",
      "  (2, 6)\t1\n",
      "  (2, 1)\t1\n",
      "  (2, 5)\t1\n",
      "¨¨¨ Vector de valores ¨¨\n",
      "  (0, 0)\t0.3853716274664007\n",
      "  (0, 2)\t0.652490884512534\n",
      "  (0, 4)\t0.652490884512534\n",
      "  (1, 6)\t0.5478321549274363\n",
      "  (1, 3)\t0.7203334490549893\n",
      "  (1, 0)\t0.4254405389711991\n",
      "  (2, 5)\t0.5844829010200651\n",
      "  (2, 1)\t0.5844829010200651\n",
      "  (2, 6)\t0.444514311537431\n",
      "  (2, 0)\t0.34520501686496574\n"
     ]
    }
   ],
   "source": [
    "import pandas as pd\n",
    "from sklearn.feature_extraction.text import  TfidfVectorizer\n",
    "from sklearn.feature_extraction.text import  CountVectorizer\n",
    " \n",
    "#palabras = pd.read_csv(\"palabras.csv\")\n",
    "palabras = pd.read_csv(\"palabras.csv\")\n",
    " \n",
    "contador = CountVectorizer() #extraemos las pablabra \n",
    "vectorizador = TfidfVectorizer(max_features=10) #codificamos como un vector\n",
    " \n",
    "#Crear una matriz dispersa\n",
    "cantidades = contador.fit_transform(palabras.descripcion)\n",
    "valores = vectorizador.fit_transform(palabras.descripcion)\n",
    " \n",
    "print (\"--- Palabras ---\")\n",
    "#rint(vectorizador.get_feature_names())\n",
    "print (\"... Vector de cantidades ...\")\n",
    "print (cantidades)\n",
    "print (\"¨¨¨ Vector de valores ¨¨\")\n",
    "print (valores)"
   ]
  }
 ],
 "metadata": {
  "kernelspec": {
   "display_name": "Python 3",
   "language": "python",
   "name": "python3"
  },
  "language_info": {
   "codemirror_mode": {
    "name": "ipython",
    "version": 3
   },
   "file_extension": ".py",
   "mimetype": "text/x-python",
   "name": "python",
   "nbconvert_exporter": "python",
   "pygments_lexer": "ipython3",
   "version": "3.9.5"
  },
  "orig_nbformat": 4,
  "vscode": {
   "interpreter": {
    "hash": "2e242e6b8c453217117083c6680e6db82176874e34559806b32fd7417ddae620"
   }
  }
 },
 "nbformat": 4,
 "nbformat_minor": 2
}
