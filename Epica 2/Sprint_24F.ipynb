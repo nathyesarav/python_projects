{
 "cells": [
  {
   "attachments": {},
   "cell_type": "markdown",
   "metadata": {},
   "source": [
    "## User Storie 22F"
   ]
  },
  {
   "attachments": {},
   "cell_type": "markdown",
   "metadata": {},
   "source": [
    "### Parsear dos corpus de texto en un dataframe. Cada documento es una fila"
   ]
  },
  {
   "cell_type": "code",
   "execution_count": 1,
   "metadata": {},
   "outputs": [],
   "source": [
    "import pandas as pd\n",
    "import re\n",
    "from sklearn.feature_extraction.text import  TfidfVectorizer\n",
    "from sklearn.feature_extraction.text import  CountVectorizer"
   ]
  },
  {
   "cell_type": "code",
   "execution_count": null,
   "metadata": {},
   "outputs": [],
   "source": [
    "file = open(\"nlp_corpus_curated_text_ML.log\", encoding=\"UTF-8\")\n",
    "data = file.read()\n",
    "registros = data.split('\\n')"
   ]
  },
  {
   "cell_type": "code",
   "execution_count": 2,
   "metadata": {},
   "outputs": [],
   "source": [
    "# Creo las listas\n",
    "link = []\n",
    "texto = []\n",
    "temp_text = ''\n",
    "\n",
    "for registro in registros:\n",
    "  if len(registro) > 10:\n",
    "    if registro.find(\"http\") != -1 and  registro.find(\"http\") == 0:\n",
    "      if len(link) != 0:\n",
    "        texto.append(temp_text)\n",
    "        temp_text = ''\n",
    "      link.append(registro)\n",
    "    else:\n",
    "      temp_text += registro\n",
    "\n",
    "texto.append(temp_text)"
   ]
  },
  {
   "attachments": {},
   "cell_type": "markdown",
   "metadata": {},
   "source": [
    "# Verificar que coincidan el número de filas de link y texto"
   ]
  },
  {
   "cell_type": "code",
   "execution_count": 3,
   "metadata": {},
   "outputs": [
    {
     "data": {
      "text/plain": [
       "4019"
      ]
     },
     "execution_count": 3,
     "metadata": {},
     "output_type": "execute_result"
    }
   ],
   "source": [
    "len(link)"
   ]
  },
  {
   "cell_type": "code",
   "execution_count": 4,
   "metadata": {},
   "outputs": [
    {
     "data": {
      "text/plain": [
       "4019"
      ]
     },
     "execution_count": 4,
     "metadata": {},
     "output_type": "execute_result"
    }
   ],
   "source": [
    "len(texto)"
   ]
  },
  {
   "cell_type": "code",
   "execution_count": null,
   "metadata": {},
   "outputs": [],
   "source": [
    "# Creo el dataframe con las columnas link y texto\n",
    "df = pd.DataFrame({\n",
    "    'link': link,\n",
    "    'texto': texto\n",
    "})\n",
    "\n",
    "df2 = df.drop(['link'], axis=1)\n",
    "df2.head(2)"
   ]
  },
  {
   "cell_type": "code",
   "execution_count": 15,
   "metadata": {},
   "outputs": [],
   "source": [
    "df2.to_csv('palabras.csv', header=True, index=False)"
   ]
  },
  {
   "attachments": {},
   "cell_type": "markdown",
   "metadata": {},
   "source": [
    "## User Storie 23F\n",
    "### Vectorizar el dataframe con TF-IDF. Stopwords."
   ]
  },
  {
   "cell_type": "code",
   "execution_count": null,
   "metadata": {},
   "outputs": [],
   "source": [
    "palabras = pd.read_csv(\"palabras_2.csv\")"
   ]
  },
  {
   "cell_type": "code",
   "execution_count": null,
   "metadata": {},
   "outputs": [],
   "source": [
    "# Extraemos las pablabra  \n",
    "contador = CountVectorizer() \n",
    "# Codificamos como un vector\n",
    "vectorizador = TfidfVectorizer(max_features=10)  \n",
    "# Crear una matriz dispersa\n",
    "cantidades = contador.fit_transform(palabras.texto)\n",
    "valores = vectorizador.fit_transform(palabras.texto)\n",
    "print (\"Vector de cantidades\")\n",
    "print (cantidades)\n",
    "print (\"Vector de valores\")\n",
    "print (valores)"
   ]
  },
  {
   "attachments": {},
   "cell_type": "markdown",
   "metadata": {},
   "source": [
    "### User story 24F\n",
    "3) Aplicar distancia del coseno para buscar los documentos más próximos a uno dado."
   ]
  },
  {
   "cell_type": "code",
   "execution_count": null,
   "metadata": {},
   "outputs": [],
   "source": [
    "from sklearn.feature_extraction.text import CountVectorizer\n",
    "from sklearn.metrics.pairwise import cosine_similarity\n",
    "# Ejemplo de documentos de prueba\n",
    "# texto = ['Este es el primer documento', 'Este es el segundo documento', 'Este es el tercer documento', 'Este es el cuarto documento']\n",
    "\n",
    "# Matriz de vectores de texto con la técnica de bolsa de palabras\n",
    "vectorizer = CountVectorizer()\n",
    "texto_vectores = vectorizer.fit_transform(texto)\n",
    "# Calculo la similitud coseno entre el primer texto y los demás\n",
    "# El primer texto uso como consulta\n",
    "query_vector = texto_vectores[0] \n",
    "coseno_similares = cosine_similarity(query_vector, texto_vectores)\n",
    "# Ordeno los textos por similitud coseno\n",
    "most_similar_texto = coseno_similares.argsort()[0][::-1]"
   ]
  },
  {
   "cell_type": "code",
   "execution_count": null,
   "metadata": {},
   "outputs": [],
   "source": [
    "# Imprimo los textos más cercanos al primer documento\n",
    "print('Documentos más cercanos al primer documento:')\n",
    "for texto_index in most_similar_texto[1:]:\n",
    "    print(texto[texto_index])"
   ]
  }
 ],
 "metadata": {
  "kernelspec": {
   "display_name": "Python 3",
   "language": "python",
   "name": "python3"
  },
  "language_info": {
   "codemirror_mode": {
    "name": "ipython",
    "version": 3
   },
   "file_extension": ".py",
   "mimetype": "text/x-python",
   "name": "python",
   "nbconvert_exporter": "python",
   "pygments_lexer": "ipython3",
   "version": "3.9.5"
  },
  "orig_nbformat": 4,
  "vscode": {
   "interpreter": {
    "hash": "2e242e6b8c453217117083c6680e6db82176874e34559806b32fd7417ddae620"
   }
  }
 },
 "nbformat": 4,
 "nbformat_minor": 2
}
