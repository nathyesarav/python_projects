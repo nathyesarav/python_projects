{
 "cells": [
  {
   "attachments": {},
   "cell_type": "markdown",
   "metadata": {},
   "source": [
    "## User Storie 22F"
   ]
  },
  {
   "attachments": {},
   "cell_type": "markdown",
   "metadata": {},
   "source": [
    "### Parsear dos corpus de texto en un dataframe. Cada documento es una fila"
   ]
  },
  {
   "cell_type": "code",
   "execution_count": 21,
   "metadata": {},
   "outputs": [],
   "source": [
    "import pandas as pd\n",
    "import re\n",
    "\n",
    "file = open(\"nlp_corpus_curated_text_ML_corto.log\", encoding=\"UTF-8\")\n",
    "data = file.read()\n",
    "registros = data.split('\\n')"
   ]
  },
  {
   "cell_type": "code",
   "execution_count": 22,
   "metadata": {},
   "outputs": [],
   "source": [
    "#Creo las listas\n",
    "link = []\n",
    "texto = []\n",
    "\n",
    "temp_text = ''\n",
    "\n",
    "for registro in registros:\n",
    "  if registro != '':\n",
    "    if registro.find(\"http\") != -1 and  registro.find(\"http\") == 0:\n",
    "      link.extend(registro)\n",
    "      texto.extend(temp_text)\n",
    "      temp_text = ''\n",
    "    else:\n",
    "      temp_text += registro\n",
    "\n",
    "texto.extend(temp_text)"
   ]
  },
  {
   "cell_type": "code",
   "execution_count": 23,
   "metadata": {},
   "outputs": [
    {
     "data": {
      "text/plain": [
       "244"
      ]
     },
     "execution_count": 23,
     "metadata": {},
     "output_type": "execute_result"
    }
   ],
   "source": [
    "len(link)"
   ]
  },
  {
   "cell_type": "code",
   "execution_count": 24,
   "metadata": {},
   "outputs": [
    {
     "data": {
      "text/plain": [
       "['h',\n",
       " 't',\n",
       " 't',\n",
       " 'p',\n",
       " ':',\n",
       " '/',\n",
       " '/',\n",
       " 'a',\n",
       " 'i',\n",
       " '-',\n",
       " 'm',\n",
       " 'a',\n",
       " 'r',\n",
       " 'k',\n",
       " 'e',\n",
       " 't',\n",
       " 'e',\n",
       " 'r',\n",
       " 's',\n",
       " '.',\n",
       " 'c',\n",
       " 'o',\n",
       " 'm',\n",
       " '/',\n",
       " 'a',\n",
       " 'i',\n",
       " '-',\n",
       " 's',\n",
       " 't',\n",
       " 'o',\n",
       " 'c',\n",
       " 'k',\n",
       " '-',\n",
       " 'm',\n",
       " 'a',\n",
       " 'r',\n",
       " 'k',\n",
       " 'e',\n",
       " 't',\n",
       " '-',\n",
       " 'f',\n",
       " 'o',\n",
       " 'r',\n",
       " 'e',\n",
       " 'c',\n",
       " 'a',\n",
       " 's',\n",
       " 't',\n",
       " '/',\n",
       " 'h',\n",
       " 't',\n",
       " 't',\n",
       " 'p',\n",
       " ':',\n",
       " '/',\n",
       " '/',\n",
       " 'a',\n",
       " 'n',\n",
       " 't',\n",
       " 'o',\n",
       " 'n',\n",
       " 't',\n",
       " 'a',\n",
       " 'r',\n",
       " 'a',\n",
       " 's',\n",
       " 'e',\n",
       " 'n',\n",
       " 'k',\n",
       " 'o',\n",
       " '.',\n",
       " 'g',\n",
       " 'i',\n",
       " 't',\n",
       " 'h',\n",
       " 'u',\n",
       " 'b',\n",
       " '.',\n",
       " 'i',\n",
       " 'o',\n",
       " '/',\n",
       " 's',\n",
       " 'h',\n",
       " 'o',\n",
       " 'w',\n",
       " '-',\n",
       " 'h',\n",
       " 'n',\n",
       " '/',\n",
       " 'h',\n",
       " 't',\n",
       " 't',\n",
       " 'p',\n",
       " ':',\n",
       " '/',\n",
       " '/',\n",
       " 'b',\n",
       " 'i',\n",
       " 'o',\n",
       " 't',\n",
       " 'e',\n",
       " 'c',\n",
       " 'h',\n",
       " '.',\n",
       " 'e',\n",
       " 'i',\n",
       " 'n',\n",
       " 'n',\n",
       " 'e',\n",
       " 'w',\n",
       " 's',\n",
       " '.',\n",
       " 'c',\n",
       " 'o',\n",
       " 'm',\n",
       " '/',\n",
       " 'p',\n",
       " 'r',\n",
       " '_',\n",
       " 'n',\n",
       " 'e',\n",
       " 'w',\n",
       " 's',\n",
       " '/',\n",
       " '5',\n",
       " '6',\n",
       " '5',\n",
       " '0',\n",
       " '5',\n",
       " '6',\n",
       " '0',\n",
       " '7',\n",
       " '9',\n",
       " '/',\n",
       " 'c',\n",
       " 'h',\n",
       " 'a',\n",
       " 't',\n",
       " 'b',\n",
       " 'o',\n",
       " 't',\n",
       " '-',\n",
       " 'i',\n",
       " 'n',\n",
       " '-',\n",
       " 'b',\n",
       " 'f',\n",
       " 's',\n",
       " 'i',\n",
       " '-',\n",
       " 'm',\n",
       " 'a',\n",
       " 'r',\n",
       " 'k',\n",
       " 'e',\n",
       " 't',\n",
       " '-',\n",
       " 'r',\n",
       " 'e',\n",
       " 's',\n",
       " 'e',\n",
       " 'a',\n",
       " 'r',\n",
       " 'c',\n",
       " 'h',\n",
       " '-',\n",
       " 'r',\n",
       " 'e',\n",
       " 'p',\n",
       " 'o',\n",
       " 'r',\n",
       " 't',\n",
       " '-',\n",
       " 'f',\n",
       " 'u',\n",
       " 't',\n",
       " 'u',\n",
       " 'r',\n",
       " 'e',\n",
       " '-',\n",
       " 'g',\n",
       " 'r',\n",
       " 'o',\n",
       " 'w',\n",
       " 't',\n",
       " 'h',\n",
       " '-',\n",
       " 'o',\n",
       " 'u',\n",
       " 't',\n",
       " 'l',\n",
       " 'o',\n",
       " 'o',\n",
       " 'k',\n",
       " '-',\n",
       " '2',\n",
       " '0',\n",
       " '2',\n",
       " '2',\n",
       " '-',\n",
       " 't',\n",
       " 'o',\n",
       " '-',\n",
       " '2',\n",
       " '0',\n",
       " '2',\n",
       " '8',\n",
       " '-',\n",
       " 'i',\n",
       " 'b',\n",
       " 'm',\n",
       " '-',\n",
       " 'c',\n",
       " 'o',\n",
       " 'r',\n",
       " 'p',\n",
       " 'o',\n",
       " 'r',\n",
       " 'a',\n",
       " 't',\n",
       " 'i',\n",
       " 'o',\n",
       " 'n',\n",
       " '-',\n",
       " 'i',\n",
       " 'n',\n",
       " 'b',\n",
       " 'e',\n",
       " 'n',\n",
       " 't',\n",
       " 'a',\n",
       " '-',\n",
       " 't',\n",
       " 'e',\n",
       " 'c',\n",
       " 'h',\n",
       " 'n',\n",
       " 'o',\n",
       " 'l',\n",
       " 'o',\n",
       " 'g',\n",
       " 'i',\n",
       " 'e',\n",
       " 's']"
      ]
     },
     "execution_count": 24,
     "metadata": {},
     "output_type": "execute_result"
    }
   ],
   "source": [
    "link"
   ]
  },
  {
   "cell_type": "code",
   "execution_count": 16,
   "metadata": {},
   "outputs": [
    {
     "data": {
      "text/plain": [
       "52"
      ]
     },
     "execution_count": 16,
     "metadata": {},
     "output_type": "execute_result"
    }
   ],
   "source": [
    "len(texto)"
   ]
  },
  {
   "cell_type": "code",
   "execution_count": 20,
   "metadata": {},
   "outputs": [
    {
     "data": {
      "text/plain": [
       "['*AI stock market prediction* has been gaining ground and we’re all wondering if the new, evolved AI-based algorithms can detect price trends. Are they accurate enough to pick winners or detect which stocks will roar and which might crash?',\n",
       " 'Are they sharp enough to detect a new Corona Virus threat, or a government economic news release for its effect on stock prices?\\xa0 They could actually program it to see these recurring events and ascribe special meaning to a big threat like the new Omicron Covid variant.\\xa0 But are they doing important detection like this? That’s a mystery, but the potential of artificial intelligence algorithms to detect events, weigh them, and advise on the outfall is definitely valuable.',\n",
       " 'Interest in AI technology, AI software ( ) and AI prediction tools ( ) is growing in response to increasing business costs. Some are using AI marketing software ( ) to create better campaigns. Companies who use AI (AI stocks) anywhere in their business operations are the focus of many stock market investors. Then there are the *AI stock price prediction tools*.',\n",
       " 'There are at least *3 AI stock market prediction services* reviewed below, which you might want to try out. They aren’t well known and do need to improve their digital marketing ( ) efforts to get in front of tens of millions of individual investors who might like they’re guidance.',\n",
       " 'As investors struggle with volatility, pandemic crashes, political strife, economic changes, finding the best stocks to buy ( ) is a challenge. Often the best long term buys in the markets are the worst performing now. Stocks such as 5G, oil stocks, and Bitcoin have almost crashed during the sell off. And they might again.',\n",
       " 'Could AI prediction tools possibly be better at finding the best growth and cyclical stocks?\\xa0 Is AI the ultimate stock market forecast ( ) tool?\\xa0 Is it all about simple patterns, or is stock prediction ( ) a more sophisticated process involving both investment advisor expertise and AI software insight and real time trading responsiveness?',\n",
       " '*FinBrain ( #finbrainAI ) , I Know First ( #iknowfirst ) ,* and *Danel Capital* ( #danelcapital ) are a few notable stock picking solutions we look at here.\\xa0 How do these *AI stock forecasting systems* work and how much does it cost to use them?',\n",
       " 'Algorithmic trading has been around for several decades.\\xa0 Some NYC traders approached me 15 years ago about conducting their new machine learning, algorithmic trading (precursor to AI trading) market campaigns. They were way before their time. Much too early.',\n",
       " 'But are these forward thinking solutions still too far ahead of the times, with solutions able to tame the complexities of modern stock trading? We’re not sure, however for a free or low initial price, you can try them out.',\n",
       " 'FinBrain Technologies is the service most traders are interested in.\\xa0 IT offers Artificial Intelligence enabled financial prediction technologies.\\xa0 They serve stock ( ) , commodities, forex and cryptocurrency markets.',\n",
       " 'They use models that learn using artificial neural networks, advanced deep learning algorithms, non-linear data, analyze historic data, deploying self-learning and self-adapting algorithms, study market sentiment factors, and technical indicators to forecast prices.',\n",
       " '*I Know First’s algorithm* is based on artificial intelligence, machine learning and incorporates elements of artificial neural networks as well as genetic algorithms to model and predict the flow of money between markets.',\n",
       " 'The service monitors\\xa0 more than *10,000* assets on 6 time horizons spanning from 3-days to a year periods within stocks, ETF’s, world indices, gold, currencies, interest rates, and commodities markets.\\xa0 Perhaps this is the tool you need to increase your knowledge of investing and get more out of the latest stock market forecasts ( ) ?',\n",
       " '*I Know First* claims in a report that it achieved 97% accuracy in its AI based predictions of the SandP 500 ( ) (^GSPC) and Nasdaq ( ) (^IXIC) indices, as well as their respective ETFs (SPY and QQQ).',\n",
       " 'The company said that\\xa0during 2019, its ETF tracking of the S&P 500 was 87% accurate of the time for the 3-month prediction time horizon. They claim they can predict the 3-day time horizon at 65%, 7-day time horizon at 69%, and 14-day time horizon at 79%. They offer online artificial intelligence stock trading accounts starting at $169 per month to $349 per month. At that very low price, it seems worth a try. Check them out here: I Know First ( ).',\n",
       " 'The I Know First’s system seems to be able to ignore stock price volatility to identify underlying trends in historical data. The stock market is a good testing ground for AI given how much historical data is available and how much it’s been studied.',\n",
       " 'In an era of Trump vs Democrat media battles, frequent propaganda releases, trade war events, and computer based trading, the AI stock trading system would certainly have to comb out a lot of distraction. But perhaps AI can figure out Donald Trump?',\n",
       " 'Danel Capital has\\xa0They’ve created a service that can aid in stock prediction ( ) success. 4 years of research and development has lead to a machine learning algorithm that aids in summarizing all available information that can affect stock prices in one global predictive score, which they call *Smart Score™*.',\n",
       " '*Danel’s stock forecasting tool* is developed by their Co-Founder ad Chief Technology Officer Guillermo Salas. His expertise is in the development of algorithms for the generation and management of big data in the financial industry.',\n",
       " 'And Aarón Román is co-Founder & Chief Data Scientist for *Danel Capital*. He is a an expert in quantitative analysis, specializing in the application of statistical models and numerical techniques to the daily analysis of billions of data of publicly traded companies.',\n",
       " 'The artificial intelligence enhanced firm caters to banks, asset management companies, financial advisors, wealth management firms, hedge fund managers, and online platforms. At this time, I can’t vouch for I Know First’s predictive success as reported by users.\\xa0 But then if it did produce excellent stock market forecasts ( ) , users would want to keep that quiet.',\n",
       " 'I Know First Disclaimer: I Know First-Daily Market Forecast, does not provide personal investment or financial advice to individuals, or act as personal financial, legal, or institutional investment advisors, or individually advocate the purchase or sale of any security or investment or the use of any particular financial strategy.',\n",
       " 'I Know First offers newsletters, reports, and daily stock picks. Leveraging the knowledge and insights of an AI software system might give you a boost in earnings. Visit and Iknowfirst.com ( ) and check it out.',\n",
       " 'You’re going to ask for my picks of AI stock market forecasting tools but I can’t offer one. I think these services are on the right road. Doing any stock market forecast ( ) is extremely challenging given all the international, national, corporate, regulatory, economic, and other trends going on that can affect how governments manipulate the markets.',\n",
       " 'This is why *AI stock prediction tools* have such big challenges to overcome. It’s like AI tools trying to forecast the biggest selling novel in 5 yeras, or the top song or move in 2025. The algorithms are set to past data and are not set to calculate human emotion and market manipulation.',\n",
       " 'Learn more about stock prediction and AI trading algorithms on research.net, If, AI can observe events long enough, and trading and economic data and news events would bring huge amounts of data to bear on stock trading, then it stands to reason it will forecast more accurately ( ).',\n",
       " '* information contained in this page is offered as information only and is not an endorsement of the services or a recommendation of their stock price prediction services. Please do your due diligence and follow the guidance of your licensed investment advisor.',\n",
       " \"Gord Collins has worked for 4 digital marketing agencies and a branding guru. That experience has been used to develop a better value proposition, one that agencies won't or can't offer. He's authored two books on the of Advanced SEO ( ). AI marketing is the logical progression in Gord's professional journey.\",\n",
       " 'Should You Sell Your Google Stock? Google reported its latest earnings, which were down, dragging Google’s stock price down, but it did something different this time. In the most recent earnings report they omitted earnings from Adsense for the first time in 15 years. Something important is brewing on I believe it’s a strong…',\n",
       " '20 Challenges You Actually Can Solve in 2019 It’s a big challenge for any SMB owner to decide to upgrade their marketing system. You might not be too certain of what could be improved for real ROI gains, reduced staffing costs, and better marketing performance. This uncertainty keeps managers stuck. We need clarity on our…',\n",
       " 'What Should You Prioritize in Digital Marketing for 2022? 2022 offers a brand new opportunity to win bigger market share or carve out our niche. And many startup entrepreneurs and marketing managers are wondering how to use their marketing budgets this year. What changes should you be making and should you be changing anything in…',\n",
       " 'High Conversion Copywriting Copywriters are often expected to create sales miracles from the content they generate. Yet, with conversion rates lower than 1%, we know there aren’t too many copywriters hitting sales home runs. Others will say high conversion copywriting isn’t that important because “either you have what the customer wants or you don’t.” Still,…',\n",
       " 'AI Marketing Software Marketing managers, CEOs and content strategists are paying increasing attention to AI marketing software solutions. The promise of automating optimized content pathways, ppc ad spends, and sales conversion rates is drawing a lot of attention. Are these platforms ready for big or small business adoption?\\xa0 They’re at a point where you need…',\n",
       " 'Key Performance Indicators for Content Strategy Content strategists are hired to raise digital marketing performance via content. Many marketers, copywriters, sales people and content strategists admonish themselves about poor performance, but with out performance analytics (and a comprehensive digital marketing audit), how would improvement happen? To prove that content strategies and tactics are working, and…----',\n",
       " 'To explore commercial success of Show HN projects, I combined submissions with the CrunchBase data. I joined both datasets by network location. Despite obvious problems with overlapping second-level domains (github.com hosts many Show HN projects, but belongs to a different entity in CrunchBase), most HN projects have individual domains and, therefore, match uniquely.',\n",
       " 'I took a random sample of 10,000 Show HN submissions and sent a request to each associated URL. The servers returned status codes, which I used for dividing Show HN projects into living and dead. I interpreted code 200 as saying that the project still exists and all other codes (301, 404, timeout, and others) indicating a defunct project.',\n",
       " 'Users judge these projects early, and success on Hacker News may help developers decide what to do next with their project. Sometimes they succeed. For example, Stripe and Dropbox started ( ) with Show HN. So how well does the Hacker News community detect future hits?',\n",
       " '* Projects hosted by GitHub live longer. GitHub maintains old repos for free, and the death rate is naturally smaller. I included this variable to control for this bias. Other free web services (youtube.com, blogspot.com) host few projects, and I ignored them.',\n",
       " \"These results hold across different specifications and estimation procedures (of which I included only the basic model). So a Hacker News reception has good predictive power, estimated around the OLS's R² = 14%.\",\n",
       " \"* What about cases when error codes happen due to success, like redirect to a new domain? They don't affect the results. Regression of redirects on the same variables yields insignificant coefficients. The same for other error codes.\",\n",
       " \"* Here and there, natural logs helped adjust scores and comments for self-reinforcement effects. Meaning, when a project hits the front page, its score and comments grow faster than justified by the project's quality. Logs reduce this effect for better estimates.----\",\n",
       " 'OREGAON, PORTLAND, UNITED STATES, March 9, 2022 EINPresswire.com ( ) -- Allied Market Research published a report, titled, “ Chatbot Market ( ) in BFSI by Component (Solution and Service), Platform Type (Web-based and Mobile-based), End User (Banks, Insurance Companies, and Others), and Application (Customer Support, Branding & Advertisement, Data Security & Compliance, and Others: Global Opportunity Analysis and Industry Forecast, 2020–2027” The report offers a detailed analysis of changing market dynamics, key segments, value chain, top investment pockets, competitive scenario, and regional landscape.',\n",
       " 'The research provides a comprehensive analysis of driving factors, restraints, and opportunities for the global chatbot in BFSI market. The report explains the major driving factors and opportunities in detail to offer thorough understanding of the factors. This would help market players, investors, and new entrants to devise strategies, uncover new opportunities, discover the market potential, and achieve competitive edge.',\n",
       " 'The analysis highlights the highest revenue generating and fastest growing segments. These insights are helpful in devising strategies and achieving a sustainable growth. The chatbot in BFSI market is studied on the basis of different segments including type, applications, and region. This makes the study well organized and resourceful along with promoting easy understanding. The report a comprehensive data based on each segment of the chatbot in BFSI market.',\n",
       " 'The research offers an extensive competitive scenario for various regions and countries for the global chatbot in BFSI market. Regions discussed in the study include North America (the U.S., Canada, and Mexico), Europe (the UK, Germany, Italy, France, and rest of Europe), Asia-Pacific (China, India, Japan, South Korea, Taiwan, and rest of Asia-Pacific), and LAMEA (Latin America, the Middle East, and Africa). These insights are valuable in determining expansion strategies, discovering growth potential, and emphasizing on opportunities in new regions. AMR also offers customization services for a specific region, country, and segment upon request.',\n",
       " 'The report offers a detailed impact of the Covid-19 pandemic on the global chatbot in BFSI market to assist market players, investors, and others reassess their strategies, adopt new models, and take necessary steps to survive and sustain.',\n",
       " '• Production activities of chatbot in BFSI have been stopped due to partial or complete lockdown imposed in many countries. Moreover, there were many challenges such as supply chain disruptions, lack of sufficient workforce, and ban on import-export activities that created hindrances in the production activities.',\n",
       " '• However, post-lockdown, production activities resumed with the full capacity, and supply chain is getting back on track steadily. Moreover, the demand from application industries is expected to increase gradually.',\n",
       " 'The report offers a detailed analysis of key market players active in the global chatbot in BFSI market. The leading market players discussed in the report include [24]7.ai, Inc, Acuvate, Aivo, Artificial Solutions, Creative Virtual Ltd., eGain Corporation, IBM Corporation, Inbenta Technologies Inc., Next IT Corp., and Nuance Communications, Inc... They have implemented different strategies such as new product launches, mergers and acquisitions, joint ventures, partnerships, expansion, collaborations, and others to achieve sustainable growth and competitive advantage across the world.',\n",
       " 'Allied Market Research (AMR) is a full-service market research and business-consulting wing of Allied Analytics LLP based in Portland, Oregon. Allied Market Research provides global enterprises as well as medium and small businesses with unmatched quality of Market Research Reports and Business Intelligence Solutions. AMR has a targeted view to provide business insights and consulting to assist its clients to make strategic business decisions and achieve sustainable growth in their respective market domain.',\n",
       " 'Pawan Kumar, the CEO of AMR, is leading the organization toward providing high-quality data and insights. We are in professional corporate relations with various companies and this helps us in digging out market data that helps us generate accurate research data tables and confirms utmost accuracy in our market forecasting. Every data presented in the reports published by us is extracted through primary interviews with top officials from leading companies of domain concerned. Our secondary data procurement methodology includes deep online and offline research and discussion with knowledgeable professionals and analysts in the industry.',\n",
       " 'EIN Presswire does not exercise editorial control over third-party content provided, uploaded, published, or distributed by users of EIN Presswire. We are a distributor, not a publisher, of 3rd party content. Such content may contain the views, opinions, statements, offers, and other material of the respective users, suppliers, participants, or authors.----']"
      ]
     },
     "execution_count": 20,
     "metadata": {},
     "output_type": "execute_result"
    }
   ],
   "source": [
    "texto"
   ]
  },
  {
   "cell_type": "code",
   "execution_count": 17,
   "metadata": {},
   "outputs": [
    {
     "ename": "ValueError",
     "evalue": "All arrays must be of the same length",
     "output_type": "error",
     "traceback": [
      "\u001b[1;31m---------------------------------------------------------------------------\u001b[0m",
      "\u001b[1;31mValueError\u001b[0m                                Traceback (most recent call last)",
      "Cell \u001b[1;32mIn[17], line 2\u001b[0m\n\u001b[0;32m      1\u001b[0m \u001b[39m#Creo el dataframe con las columnas link y texto\u001b[39;00m\n\u001b[1;32m----> 2\u001b[0m df \u001b[39m=\u001b[39m pd\u001b[39m.\u001b[39;49mDataFrame({\n\u001b[0;32m      3\u001b[0m     \u001b[39m'\u001b[39;49m\u001b[39mlink\u001b[39;49m\u001b[39m'\u001b[39;49m: link,\n\u001b[0;32m      4\u001b[0m     \u001b[39m'\u001b[39;49m\u001b[39mtexto\u001b[39;49m\u001b[39m'\u001b[39;49m: texto\n\u001b[0;32m      5\u001b[0m })\n\u001b[0;32m      7\u001b[0m df\u001b[39m.\u001b[39mhead(\u001b[39m3\u001b[39m)\n",
      "File \u001b[1;32mc:\\Users\\n_sar\\AppData\\Local\\Programs\\Python\\Python39\\lib\\site-packages\\pandas\\core\\frame.py:664\u001b[0m, in \u001b[0;36mDataFrame.__init__\u001b[1;34m(self, data, index, columns, dtype, copy)\u001b[0m\n\u001b[0;32m    658\u001b[0m     mgr \u001b[39m=\u001b[39m \u001b[39mself\u001b[39m\u001b[39m.\u001b[39m_init_mgr(\n\u001b[0;32m    659\u001b[0m         data, axes\u001b[39m=\u001b[39m{\u001b[39m\"\u001b[39m\u001b[39mindex\u001b[39m\u001b[39m\"\u001b[39m: index, \u001b[39m\"\u001b[39m\u001b[39mcolumns\u001b[39m\u001b[39m\"\u001b[39m: columns}, dtype\u001b[39m=\u001b[39mdtype, copy\u001b[39m=\u001b[39mcopy\n\u001b[0;32m    660\u001b[0m     )\n\u001b[0;32m    662\u001b[0m \u001b[39melif\u001b[39;00m \u001b[39misinstance\u001b[39m(data, \u001b[39mdict\u001b[39m):\n\u001b[0;32m    663\u001b[0m     \u001b[39m# GH#38939 de facto copy defaults to False only in non-dict cases\u001b[39;00m\n\u001b[1;32m--> 664\u001b[0m     mgr \u001b[39m=\u001b[39m dict_to_mgr(data, index, columns, dtype\u001b[39m=\u001b[39;49mdtype, copy\u001b[39m=\u001b[39;49mcopy, typ\u001b[39m=\u001b[39;49mmanager)\n\u001b[0;32m    665\u001b[0m \u001b[39melif\u001b[39;00m \u001b[39misinstance\u001b[39m(data, ma\u001b[39m.\u001b[39mMaskedArray):\n\u001b[0;32m    666\u001b[0m     \u001b[39mimport\u001b[39;00m \u001b[39mnumpy\u001b[39;00m\u001b[39m.\u001b[39;00m\u001b[39mma\u001b[39;00m\u001b[39m.\u001b[39;00m\u001b[39mmrecords\u001b[39;00m \u001b[39mas\u001b[39;00m \u001b[39mmrecords\u001b[39;00m\n",
      "File \u001b[1;32mc:\\Users\\n_sar\\AppData\\Local\\Programs\\Python\\Python39\\lib\\site-packages\\pandas\\core\\internals\\construction.py:493\u001b[0m, in \u001b[0;36mdict_to_mgr\u001b[1;34m(data, index, columns, dtype, typ, copy)\u001b[0m\n\u001b[0;32m    489\u001b[0m     \u001b[39melse\u001b[39;00m:\n\u001b[0;32m    490\u001b[0m         \u001b[39m# dtype check to exclude e.g. range objects, scalars\u001b[39;00m\n\u001b[0;32m    491\u001b[0m         arrays \u001b[39m=\u001b[39m [x\u001b[39m.\u001b[39mcopy() \u001b[39mif\u001b[39;00m \u001b[39mhasattr\u001b[39m(x, \u001b[39m\"\u001b[39m\u001b[39mdtype\u001b[39m\u001b[39m\"\u001b[39m) \u001b[39melse\u001b[39;00m x \u001b[39mfor\u001b[39;00m x \u001b[39min\u001b[39;00m arrays]\n\u001b[1;32m--> 493\u001b[0m \u001b[39mreturn\u001b[39;00m arrays_to_mgr(arrays, columns, index, dtype\u001b[39m=\u001b[39;49mdtype, typ\u001b[39m=\u001b[39;49mtyp, consolidate\u001b[39m=\u001b[39;49mcopy)\n",
      "File \u001b[1;32mc:\\Users\\n_sar\\AppData\\Local\\Programs\\Python\\Python39\\lib\\site-packages\\pandas\\core\\internals\\construction.py:118\u001b[0m, in \u001b[0;36marrays_to_mgr\u001b[1;34m(arrays, columns, index, dtype, verify_integrity, typ, consolidate)\u001b[0m\n\u001b[0;32m    115\u001b[0m \u001b[39mif\u001b[39;00m verify_integrity:\n\u001b[0;32m    116\u001b[0m     \u001b[39m# figure out the index, if necessary\u001b[39;00m\n\u001b[0;32m    117\u001b[0m     \u001b[39mif\u001b[39;00m index \u001b[39mis\u001b[39;00m \u001b[39mNone\u001b[39;00m:\n\u001b[1;32m--> 118\u001b[0m         index \u001b[39m=\u001b[39m _extract_index(arrays)\n\u001b[0;32m    119\u001b[0m     \u001b[39melse\u001b[39;00m:\n\u001b[0;32m    120\u001b[0m         index \u001b[39m=\u001b[39m ensure_index(index)\n",
      "File \u001b[1;32mc:\\Users\\n_sar\\AppData\\Local\\Programs\\Python\\Python39\\lib\\site-packages\\pandas\\core\\internals\\construction.py:666\u001b[0m, in \u001b[0;36m_extract_index\u001b[1;34m(data)\u001b[0m\n\u001b[0;32m    664\u001b[0m lengths \u001b[39m=\u001b[39m \u001b[39mlist\u001b[39m(\u001b[39mset\u001b[39m(raw_lengths))\n\u001b[0;32m    665\u001b[0m \u001b[39mif\u001b[39;00m \u001b[39mlen\u001b[39m(lengths) \u001b[39m>\u001b[39m \u001b[39m1\u001b[39m:\n\u001b[1;32m--> 666\u001b[0m     \u001b[39mraise\u001b[39;00m \u001b[39mValueError\u001b[39;00m(\u001b[39m\"\u001b[39m\u001b[39mAll arrays must be of the same length\u001b[39m\u001b[39m\"\u001b[39m)\n\u001b[0;32m    668\u001b[0m \u001b[39mif\u001b[39;00m have_dicts:\n\u001b[0;32m    669\u001b[0m     \u001b[39mraise\u001b[39;00m \u001b[39mValueError\u001b[39;00m(\n\u001b[0;32m    670\u001b[0m         \u001b[39m\"\u001b[39m\u001b[39mMixing dicts with non-Series may lead to ambiguous ordering.\u001b[39m\u001b[39m\"\u001b[39m\n\u001b[0;32m    671\u001b[0m     )\n",
      "\u001b[1;31mValueError\u001b[0m: All arrays must be of the same length"
     ]
    }
   ],
   "source": [
    "#Creo el dataframe con las columnas link y texto\n",
    "df = pd.DataFrame({\n",
    "    'link': link,\n",
    "    'texto': texto\n",
    "})\n",
    "\n",
    "df.head(3)"
   ]
  },
  {
   "cell_type": "code",
   "execution_count": 18,
   "metadata": {},
   "outputs": [
    {
     "ename": "NameError",
     "evalue": "name 'df' is not defined",
     "output_type": "error",
     "traceback": [
      "\u001b[1;31m---------------------------------------------------------------------------\u001b[0m",
      "\u001b[1;31mNameError\u001b[0m                                 Traceback (most recent call last)",
      "Cell \u001b[1;32mIn[18], line 1\u001b[0m\n\u001b[1;32m----> 1\u001b[0m df\u001b[39m.\u001b[39mtail(\u001b[39m2\u001b[39m)\n",
      "\u001b[1;31mNameError\u001b[0m: name 'df' is not defined"
     ]
    }
   ],
   "source": [
    "df.tail(2)"
   ]
  },
  {
   "cell_type": "code",
   "execution_count": 27,
   "metadata": {},
   "outputs": [
    {
     "data": {
      "text/html": [
       "<div>\n",
       "<style scoped>\n",
       "    .dataframe tbody tr th:only-of-type {\n",
       "        vertical-align: middle;\n",
       "    }\n",
       "\n",
       "    .dataframe tbody tr th {\n",
       "        vertical-align: top;\n",
       "    }\n",
       "\n",
       "    .dataframe thead th {\n",
       "        text-align: right;\n",
       "    }\n",
       "</style>\n",
       "<table border=\"1\" class=\"dataframe\">\n",
       "  <thead>\n",
       "    <tr style=\"text-align: right;\">\n",
       "      <th></th>\n",
       "      <th>link</th>\n",
       "    </tr>\n",
       "  </thead>\n",
       "  <tbody>\n",
       "    <tr>\n",
       "      <th>0</th>\n",
       "      <td>http://ai-marketers.com/ai-stock-market-forecast/</td>\n",
       "    </tr>\n",
       "    <tr>\n",
       "      <th>1</th>\n",
       "      <td>http://antontarasenko.github.io/show-hn/</td>\n",
       "    </tr>\n",
       "    <tr>\n",
       "      <th>2</th>\n",
       "      <td>http://biotech.einnews.com/pr_news/565056079/c...</td>\n",
       "    </tr>\n",
       "  </tbody>\n",
       "</table>\n",
       "</div>"
      ],
      "text/plain": [
       "                                                link\n",
       "0  http://ai-marketers.com/ai-stock-market-forecast/\n",
       "1           http://antontarasenko.github.io/show-hn/\n",
       "2  http://biotech.einnews.com/pr_news/565056079/c..."
      ]
     },
     "execution_count": 27,
     "metadata": {},
     "output_type": "execute_result"
    }
   ],
   "source": [
    "#Creo el dataframe con las columnas link y texto\n",
    "df = pd.DataFrame({\n",
    "    'link': links\n",
    "    #'texto': textos\n",
    "})\n",
    "\n",
    "df.head(3)"
   ]
  },
  {
   "attachments": {},
   "cell_type": "markdown",
   "metadata": {},
   "source": [
    "## User Storie 23F"
   ]
  },
  {
   "attachments": {},
   "cell_type": "markdown",
   "metadata": {},
   "source": [
    "### Vectorizar el dataframe con TF-IDF. Stopwords."
   ]
  },
  {
   "cell_type": "code",
   "execution_count": 3,
   "metadata": {},
   "outputs": [
    {
     "name": "stdout",
     "output_type": "stream",
     "text": [
      "--- Palabras ---\n",
      "... Vector de cantidades ...\n",
      "  (0, 4)\t1\n",
      "  (0, 2)\t1\n",
      "  (0, 0)\t1\n",
      "  (1, 0)\t1\n",
      "  (1, 3)\t1\n",
      "  (1, 6)\t1\n",
      "  (2, 0)\t1\n",
      "  (2, 6)\t1\n",
      "  (2, 1)\t1\n",
      "  (2, 5)\t1\n",
      "¨¨¨ Vector de valores ¨¨\n",
      "  (0, 0)\t0.3853716274664007\n",
      "  (0, 2)\t0.652490884512534\n",
      "  (0, 4)\t0.652490884512534\n",
      "  (1, 6)\t0.5478321549274363\n",
      "  (1, 3)\t0.7203334490549893\n",
      "  (1, 0)\t0.4254405389711991\n",
      "  (2, 5)\t0.5844829010200651\n",
      "  (2, 1)\t0.5844829010200651\n",
      "  (2, 6)\t0.444514311537431\n",
      "  (2, 0)\t0.34520501686496574\n"
     ]
    }
   ],
   "source": [
    "import pandas as pd\n",
    "from sklearn.feature_extraction.text import  TfidfVectorizer\n",
    "from sklearn.feature_extraction.text import  CountVectorizer\n",
    " \n",
    "palabras = pd.read_csv(\"palabras.csv\")\n",
    " \n",
    "contador = CountVectorizer() #extraemos las pablabra \n",
    "vectorizador = TfidfVectorizer(max_features=10) #codificamos como un vector\n",
    " \n",
    "#Crear una matriz dispersa\n",
    "cantidades = contador.fit_transform(palabras.descripcion)\n",
    "valores = vectorizador.fit_transform(palabras.descripcion)\n",
    " \n",
    "print (\"--- Palabras ---\")\n",
    "#rint(vectorizador.get_feature_names())\n",
    "print (\"... Vector de cantidades ...\")\n",
    "print (cantidades)\n",
    "print (\"¨¨¨ Vector de valores ¨¨\")\n",
    "print (valores)"
   ]
  }
 ],
 "metadata": {
  "kernelspec": {
   "display_name": "Python 3",
   "language": "python",
   "name": "python3"
  },
  "language_info": {
   "codemirror_mode": {
    "name": "ipython",
    "version": 3
   },
   "file_extension": ".py",
   "mimetype": "text/x-python",
   "name": "python",
   "nbconvert_exporter": "python",
   "pygments_lexer": "ipython3",
   "version": "3.9.5"
  },
  "orig_nbformat": 4,
  "vscode": {
   "interpreter": {
    "hash": "2e242e6b8c453217117083c6680e6db82176874e34559806b32fd7417ddae620"
   }
  }
 },
 "nbformat": 4,
 "nbformat_minor": 2
}
