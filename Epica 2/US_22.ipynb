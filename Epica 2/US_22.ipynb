{
 "cells": [
  {
   "cell_type": "code",
   "execution_count": 12,
   "metadata": {},
   "outputs": [],
   "source": [
    "file = open(\"nlp_corpus_curated_text_ML.log\", encoding=\"UTF-8\")\n",
    "data = file.read()\n",
    "#palabras = texto.split()"
   ]
  },
  {
   "cell_type": "code",
   "execution_count": 23,
   "metadata": {},
   "outputs": [],
   "source": [
    "registros = data.split('\\n')"
   ]
  },
  {
   "cell_type": "code",
   "execution_count": 26,
   "metadata": {},
   "outputs": [
    {
     "ename": "IndexError",
     "evalue": "list index out of range",
     "output_type": "error",
     "traceback": [
      "\u001b[1;31m---------------------------------------------------------------------------\u001b[0m",
      "\u001b[1;31mIndexError\u001b[0m                                Traceback (most recent call last)",
      "Cell \u001b[1;32mIn[26], line 5\u001b[0m\n\u001b[0;32m      3\u001b[0m \u001b[39mfor\u001b[39;00m registro \u001b[39min\u001b[39;00m registros:\n\u001b[0;32m      4\u001b[0m     campos \u001b[39m=\u001b[39m registro\u001b[39m.\u001b[39msplit(\u001b[39m'\u001b[39m\u001b[39m \u001b[39m\u001b[39m'\u001b[39m) \u001b[39m# reemplaza ' ' con el delimitador de campo real\u001b[39;00m\n\u001b[1;32m----> 5\u001b[0m     registro_dict \u001b[39m=\u001b[39m {columnas[i]: campos[i] \u001b[39mfor\u001b[39;00m i \u001b[39min\u001b[39;00m \u001b[39mrange\u001b[39m(\u001b[39mlen\u001b[39m(columnas))}\n\u001b[0;32m      6\u001b[0m     data_list\u001b[39m.\u001b[39mappend(registro_dict)\n",
      "Cell \u001b[1;32mIn[26], line 5\u001b[0m, in \u001b[0;36m<dictcomp>\u001b[1;34m(.0)\u001b[0m\n\u001b[0;32m      3\u001b[0m \u001b[39mfor\u001b[39;00m registro \u001b[39min\u001b[39;00m registros:\n\u001b[0;32m      4\u001b[0m     campos \u001b[39m=\u001b[39m registro\u001b[39m.\u001b[39msplit(\u001b[39m'\u001b[39m\u001b[39m \u001b[39m\u001b[39m'\u001b[39m) \u001b[39m# reemplaza ' ' con el delimitador de campo real\u001b[39;00m\n\u001b[1;32m----> 5\u001b[0m     registro_dict \u001b[39m=\u001b[39m {columnas[i]: campos[i] \u001b[39mfor\u001b[39;00m i \u001b[39min\u001b[39;00m \u001b[39mrange\u001b[39m(\u001b[39mlen\u001b[39m(columnas))}\n\u001b[0;32m      6\u001b[0m     data_list\u001b[39m.\u001b[39mappend(registro_dict)\n",
      "\u001b[1;31mIndexError\u001b[0m: list index out of range"
     ]
    }
   ],
   "source": [
    "columnas = ['texto', 'links'] # reemplaza con los nombres reales de las columnas\n",
    "data_list = []\n",
    "for registro in registros:\n",
    "    campos = registro.split(' ') # reemplaza ' ' con el delimitador de campo real\n",
    "    registro_dict = {columnas[i]: campos[i] for i in range(len(columnas))}\n",
    "    data_list.append(registro_dict)"
   ]
  },
  {
   "cell_type": "code",
   "execution_count": 25,
   "metadata": {},
   "outputs": [
    {
     "data": {
      "text/html": [
       "<div>\n",
       "<style scoped>\n",
       "    .dataframe tbody tr th:only-of-type {\n",
       "        vertical-align: middle;\n",
       "    }\n",
       "\n",
       "    .dataframe tbody tr th {\n",
       "        vertical-align: top;\n",
       "    }\n",
       "\n",
       "    .dataframe thead th {\n",
       "        text-align: right;\n",
       "    }\n",
       "</style>\n",
       "<table border=\"1\" class=\"dataframe\">\n",
       "  <thead>\n",
       "    <tr style=\"text-align: right;\">\n",
       "      <th></th>\n",
       "      <th>0</th>\n",
       "    </tr>\n",
       "  </thead>\n",
       "  <tbody>\n",
       "    <tr>\n",
       "      <th>0</th>\n",
       "      <td>\\n</td>\n",
       "    </tr>\n",
       "    <tr>\n",
       "      <th>1</th>\n",
       "      <td>ai-marketers.com/ai-stock-market-forecast/\\n\\n...</td>\n",
       "    </tr>\n",
       "    <tr>\n",
       "      <th>2</th>\n",
       "      <td>antontarasenko.github.io/show-hn/\\n\\nTo explor...</td>\n",
       "    </tr>\n",
       "    <tr>\n",
       "      <th>3</th>\n",
       "      <td>biotech.einnews.com/pr_news/565056079/chatbot-...</td>\n",
       "    </tr>\n",
       "    <tr>\n",
       "      <th>4</th>\n",
       "      <td>blockchaindev1000.com/\\n\\nThe #BlockchainDev10...</td>\n",
       "    </tr>\n",
       "  </tbody>\n",
       "</table>\n",
       "</div>"
      ],
      "text/plain": [
       "                                                   0\n",
       "0                                                 \\n\n",
       "1  ai-marketers.com/ai-stock-market-forecast/\\n\\n...\n",
       "2  antontarasenko.github.io/show-hn/\\n\\nTo explor...\n",
       "3  biotech.einnews.com/pr_news/565056079/chatbot-...\n",
       "4  blockchaindev1000.com/\\n\\nThe #BlockchainDev10..."
      ]
     },
     "execution_count": 25,
     "metadata": {},
     "output_type": "execute_result"
    }
   ],
   "source": [
    "import pandas as pd\n",
    "df = pd.DataFrame(registros)\n",
    "df.head(5)"
   ]
  },
  {
   "cell_type": "code",
   "execution_count": 27,
   "metadata": {},
   "outputs": [
    {
     "data": {
      "text/plain": [
       "RangeIndex(start=0, stop=1, step=1)"
      ]
     },
     "execution_count": 27,
     "metadata": {},
     "output_type": "execute_result"
    }
   ],
   "source": [
    "df.columns"
   ]
  }
 ],
 "metadata": {
  "kernelspec": {
   "display_name": "Python 3",
   "language": "python",
   "name": "python3"
  },
  "language_info": {
   "codemirror_mode": {
    "name": "ipython",
    "version": 3
   },
   "file_extension": ".py",
   "mimetype": "text/x-python",
   "name": "python",
   "nbconvert_exporter": "python",
   "pygments_lexer": "ipython3",
   "version": "3.9.5"
  },
  "orig_nbformat": 4,
  "vscode": {
   "interpreter": {
    "hash": "2e242e6b8c453217117083c6680e6db82176874e34559806b32fd7417ddae620"
   }
  }
 },
 "nbformat": 4,
 "nbformat_minor": 2
}
