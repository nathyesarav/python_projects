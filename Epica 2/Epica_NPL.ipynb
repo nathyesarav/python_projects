{
 "cells": [
  {
   "attachments": {},
   "cell_type": "markdown",
   "metadata": {},
   "source": [
    "### Sprint 24F:"
   ]
  },
  {
   "attachments": {},
   "cell_type": "markdown",
   "metadata": {},
   "source": [
    "1) User story 22F: Parsear dos corpus de texto en un dataframe. Cada documento es una fila"
   ]
  },
  {
   "attachments": {},
   "cell_type": "markdown",
   "metadata": {},
   "source": [
    "2) User story 23F: Vectorizar el dataframe con TF-IDF. Stopwords."
   ]
  },
  {
   "attachments": {},
   "cell_type": "markdown",
   "metadata": {},
   "source": [
    "3) User story 24F: Aplicar distancia del coseno para buscar los documentos más próximos a uno dado."
   ]
  },
  {
   "attachments": {},
   "cell_type": "markdown",
   "metadata": {},
   "source": [
    "### Sprint 3M:"
   ]
  },
  {
   "attachments": {},
   "cell_type": "markdown",
   "metadata": {},
   "source": [
    "    + User story 27F: Crear un chatbot que responda algunas preguntas básicas, saludos y despedidas.\n",
    "    + User story 28F: Enseñar al chatbot a que responda el documento más cercano al texto del input.\n",
    "    + User story 1M: Enseñar al chatbot a clasificar un input largo según las dos temáticas del corpus. Usar Naive Bayes.\n",
    "    + User story 2M: Convertir el chatbot en un buscador, dando las URLs de los textos más próximos como resultado.\n",
    "    + User story 3M: Añadir un snippet con la URL de cada resultado.\n",
    "\n",
    "- Referencia: Práctica de Reducción de la Dimensionalidad\n",
    "- Skills: NLP, TF-IDF, embeddings, cosine similarity, text parsing, dimensionality reduction\n"
   ]
  }
 ],
 "metadata": {
  "kernelspec": {
   "display_name": "Python 3",
   "language": "python",
   "name": "python3"
  },
  "language_info": {
   "codemirror_mode": {
    "name": "ipython",
    "version": 3
   },
   "file_extension": ".py",
   "mimetype": "text/x-python",
   "name": "python",
   "nbconvert_exporter": "python",
   "pygments_lexer": "ipython3",
   "version": "3.9.5"
  },
  "orig_nbformat": 4,
  "vscode": {
   "interpreter": {
    "hash": "2e242e6b8c453217117083c6680e6db82176874e34559806b32fd7417ddae620"
   }
  }
 },
 "nbformat": 4,
 "nbformat_minor": 2
}
