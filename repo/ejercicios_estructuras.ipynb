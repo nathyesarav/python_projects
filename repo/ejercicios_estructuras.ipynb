{
 "cells": [
  {
   "cell_type": "markdown",
   "metadata": {
    "colab_type": "text",
    "id": "Z0D1aWhDIOll"
   },
   "source": [
    "# Estructuras iterativas\n"
   ]
  },
  {
   "cell_type": "markdown",
   "metadata": {
    "colab_type": "text",
    "id": "aCk014leoLCD"
   },
   "source": [
    "# Bucles"
   ]
  },
  {
   "cell_type": "markdown",
   "metadata": {
    "colab_type": "text",
    "id": "sJv7k_6mtrNL"
   },
   "source": [
    "## while\n",
    "\n",
    "```\n",
    "while condicion:\n",
    "    bloque de codigo a repetir\n",
    "```"
   ]
  },
  {
   "cell_type": "markdown",
   "metadata": {
    "colab_type": "text",
    "id": "n5kzRJEVrlvp"
   },
   "source": [
    "Imprimir los números enteros menores a 10"
   ]
  },
  {
   "cell_type": "code",
   "execution_count": 1,
   "metadata": {
    "colab": {
     "base_uri": "https://localhost:8080/",
     "height": 170
    },
    "colab_type": "code",
    "executionInfo": {
     "elapsed": 847,
     "status": "ok",
     "timestamp": 1598852897859,
     "user": {
      "displayName": "Manuel Marino Montoya Gamio",
      "photoUrl": "https://lh3.googleusercontent.com/a-/AOh14Ggvwikw8yNTOrR63TADgIsw_qnmLKMoqjHZ_AxK=s64",
      "userId": "16723277136981296486"
     },
     "user_tz": 300
    },
    "id": "GQ5HBLz1A9nh",
    "outputId": "e3dae687-e9ad-4594-a981-4735c9257266"
   },
   "outputs": [
    {
     "name": "stdout",
     "output_type": "stream",
     "text": [
      "1\n",
      "2\n",
      "3\n",
      "4\n",
      "5\n",
      "6\n",
      "7\n",
      "8\n",
      "9\n"
     ]
    }
   ],
   "source": [
    "numero = 1\n",
    "\n",
    "while numero < 10:\n",
    "\n",
    "    print(numero)\n",
    "    numero = numero + 1"
   ]
  },
  {
   "cell_type": "code",
   "execution_count": 2,
   "metadata": {
    "colab": {
     "base_uri": "https://localhost:8080/",
     "height": 34
    },
    "colab_type": "code",
    "executionInfo": {
     "elapsed": 615,
     "status": "ok",
     "timestamp": 1598852925175,
     "user": {
      "displayName": "Manuel Marino Montoya Gamio",
      "photoUrl": "https://lh3.googleusercontent.com/a-/AOh14Ggvwikw8yNTOrR63TADgIsw_qnmLKMoqjHZ_AxK=s64",
      "userId": "16723277136981296486"
     },
     "user_tz": 300
    },
    "id": "DgUnMIsvA9aJ",
    "outputId": "fdd806d9-5345-465b-85c1-bda2e354ecf2"
   },
   "outputs": [
    {
     "data": {
      "text/plain": [
       "10"
      ]
     },
     "execution_count": 2,
     "metadata": {},
     "output_type": "execute_result"
    }
   ],
   "source": [
    "numero"
   ]
  },
  {
   "cell_type": "markdown",
   "metadata": {
    "colab_type": "text",
    "id": "oitAu0YyFmRm"
   },
   "source": [
    "## Bucles infinitos"
   ]
  },
  {
   "cell_type": "code",
   "execution_count": null,
   "metadata": {
    "colab": {},
    "colab_type": "code",
    "id": "GkWf7gMfFoXS"
   },
   "outputs": [],
   "source": [
    "numero = 1\n",
    "\n",
    "while numero < 10:\n",
    "\n",
    "    print(numero)\n",
    "    # numero = numero + 1 "
   ]
  },
  {
   "cell_type": "markdown",
   "metadata": {
    "colab_type": "text",
    "id": "GVr8TBcdnmoj"
   },
   "source": [
    "## Flags de salida"
   ]
  },
  {
   "cell_type": "markdown",
   "metadata": {
    "colab_type": "text",
    "id": "Nfoofmd4npQJ"
   },
   "source": [
    "Calcular la suma de una cantidad de números enteros ingresados por el usuario"
   ]
  },
  {
   "cell_type": "code",
   "execution_count": 3,
   "metadata": {
    "colab": {
     "base_uri": "https://localhost:8080/",
     "height": 153
    },
    "colab_type": "code",
    "executionInfo": {
     "elapsed": 27113,
     "status": "ok",
     "timestamp": 1598856526965,
     "user": {
      "displayName": "Manuel Marino Montoya Gamio",
      "photoUrl": "https://lh3.googleusercontent.com/a-/AOh14Ggvwikw8yNTOrR63TADgIsw_qnmLKMoqjHZ_AxK=s64",
      "userId": "16723277136981296486"
     },
     "user_tz": 300
    },
    "id": "PmgII_A8Hz6D",
    "outputId": "d92ca1b3-6d60-4ef5-9b7b-fae526edf90b"
   },
   "outputs": [
    {
     "name": "stdout",
     "output_type": "stream",
     "text": [
      "Ingrese un número ('exit' para terminar): exit\n",
      "La suma final es 0\n"
     ]
    }
   ],
   "source": [
    "suma = 0\n",
    "continuar = True\n",
    "\n",
    "while continuar:\n",
    "\n",
    "    input_usuario = input(\"Ingrese un número ('exit' para terminar): \")\n",
    "\n",
    "    if input_usuario == 'exit':\n",
    "        continuar = False\n",
    "\n",
    "    else:\n",
    "        numero = int(input_usuario)\n",
    "        suma = suma + numero\n",
    "        print(f\"La suma es {suma}\")\n",
    "\n",
    "print(f\"La suma final es {suma}\")"
   ]
  },
  {
   "cell_type": "markdown",
   "metadata": {
    "colab_type": "text",
    "id": "luJasvyArqkv"
   },
   "source": [
    "## Sentencia - Break"
   ]
  },
  {
   "cell_type": "code",
   "execution_count": 3,
   "metadata": {
    "colab": {
     "base_uri": "https://localhost:8080/",
     "height": 85
    },
    "colab_type": "code",
    "executionInfo": {
     "elapsed": 914,
     "status": "ok",
     "timestamp": 1598858532216,
     "user": {
      "displayName": "Manuel Marino Montoya Gamio",
      "photoUrl": "https://lh3.googleusercontent.com/a-/AOh14Ggvwikw8yNTOrR63TADgIsw_qnmLKMoqjHZ_AxK=s64",
      "userId": "16723277136981296486"
     },
     "user_tz": 300
    },
    "id": "rikH5cw3SMby",
    "outputId": "22000558-e4cc-4d0b-cef0-3529ea458ade"
   },
   "outputs": [
    {
     "name": "stdout",
     "output_type": "stream",
     "text": [
      "1\n",
      "2\n",
      "3\n",
      "4\n"
     ]
    }
   ],
   "source": [
    "numero = 1\n",
    "\n",
    "while numero < 10:\n",
    "\n",
    "    if numero == 5:\n",
    "        break\n",
    "        \n",
    "    print(numero)\n",
    "    numero = numero + 1"
   ]
  },
  {
   "cell_type": "markdown",
   "metadata": {
    "colab_type": "text",
    "id": "T0_bzmVloK7N"
   },
   "source": [
    "## For\n",
    "\n",
    "```\n",
    "for valor in 'lista de valores':\n",
    "    bloque de codigo para cada valor\n",
    "```"
   ]
  },
  {
   "cell_type": "markdown",
   "metadata": {
    "colab_type": "text",
    "id": "Z46_Ey6Dj1pD"
   },
   "source": [
    "Escribir la letra de la canción Me gusta de Manu Chao"
   ]
  },
  {
   "cell_type": "code",
   "execution_count": 4,
   "metadata": {
    "colab": {
     "base_uri": "https://localhost:8080/",
     "height": 119
    },
    "colab_type": "code",
    "executionInfo": {
     "elapsed": 684,
     "status": "ok",
     "timestamp": 1598861537863,
     "user": {
      "displayName": "Manuel Marino Montoya Gamio",
      "photoUrl": "https://lh3.googleusercontent.com/a-/AOh14Ggvwikw8yNTOrR63TADgIsw_qnmLKMoqjHZ_AxK=s64",
      "userId": "16723277136981296486"
     },
     "user_tz": 300
    },
    "id": "8ySbsFxajdoB",
    "outputId": "3402acd6-b0c1-4af1-a067-a4fde0ffaf2d"
   },
   "outputs": [],
   "source": [
    "#Completar"
   ]
  },
  {
   "cell_type": "markdown",
   "metadata": {
    "colab_type": "text",
    "id": "krnZUFJ-zL5i"
   },
   "source": [
    "## Range"
   ]
  },
  {
   "cell_type": "code",
   "execution_count": 5,
   "metadata": {
    "colab": {
     "base_uri": "https://localhost:8080/",
     "height": 136
    },
    "colab_type": "code",
    "executionInfo": {
     "elapsed": 592,
     "status": "ok",
     "timestamp": 1598862713526,
     "user": {
      "displayName": "Manuel Marino Montoya Gamio",
      "photoUrl": "https://lh3.googleusercontent.com/a-/AOh14Ggvwikw8yNTOrR63TADgIsw_qnmLKMoqjHZ_AxK=s64",
      "userId": "16723277136981296486"
     },
     "user_tz": 300
    },
    "id": "quYdxn-7obm-",
    "outputId": "83ae0966-a47c-4662-be31-b88d2d9c1b99"
   },
   "outputs": [
    {
     "name": "stdout",
     "output_type": "stream",
     "text": [
      "1\n",
      "4\n",
      "7\n",
      "10\n",
      "13\n",
      "16\n",
      "19\n"
     ]
    }
   ],
   "source": [
    "for numero in range(1, 20, 3):\n",
    "    print(numero)"
   ]
  },
  {
   "attachments": {},
   "cell_type": "markdown",
   "metadata": {},
   "source": [
    "# Estructuras de control\n",
    "\n",
    "## If\n",
    "\n",
    "```\n",
    "if condicion:\n",
    "    bloque si se cumple la condicion\n",
    "```\n",
    "\n",
    "Escribir un programa que indique si un número es par\n",
    "\n",
    "numero = 17\n",
    "\n",
    "if numero % 2 == 0:\n",
    "    print(\"El número es par\")\n",
    "\n",
    "## if ... else\n",
    "\n",
    "```\n",
    "if condicion:\n",
    "    bloque si se cumple la condicion\n",
    "else:\n",
    "    bloque si NO se cumple la condición\n",
    "```\n",
    "\n",
    "numero = 16\n",
    "\n",
    "if numero % 2 == 0:\n",
    "    print(\"El número es par\")\n",
    "\n",
    "else:\n",
    "    print(\"El número es impar\")\n",
    "\n",
    "\n",
    "## if ... elif ... else\n",
    "\n",
    "```\n",
    "if condicion 1:\n",
    "    bloque si se cumple la condicion 1\n",
    "elif condicion 2:\n",
    "    bloque si se cumple la condicion 2\n",
    "elif condicion 3:\n",
    "    bloque si se cumple la condición 3\n",
    "...\n",
    "else:\n",
    "    bloque si NO se cumple ninguna condición\n",
    "```\n",
    "\n",
    "## Ejercicio 1\n",
    "\n",
    "Escribir un programa que indique la generación correspondiente para un año de nacimiento indicado\n",
    "\n",
    "<img src = \"https://integrandoequipos.com/wp-content/uploads/2019/06/generaciones2.jpg\">\n",
    "\n",
    "#Completar\n",
    "\n",
    "## if ... else anidados\n",
    "```\n",
    "if condicion exterior:      \n",
    "      if condicion interior:\n",
    "          bloque si se cumplen ambas condiciones      \n",
    "      else:\n",
    "          bloque si se cumple solo la condicion exterior\n",
    "else:\n",
    "      bloque si no se cumple ninguna condicion\n",
    "```\n",
    "\n",
    "**Determinar si se va a entregar un crédito a un cliente de un banco.**\n",
    "Para aprobar un crédito, el cliente debe ser mayor de edad. \n",
    "Además, debe tener una antiguedad en el sistema financiero de como mínimo 3 años y un ingreso mayor a 2500 soles. \n",
    "En caso no tenga la antiguedad suficiente, su ingreso mensual debe ser como mínimo  4000 soles. \n",
    "Si no cumple ninguna de las condiciones, no se aprueba el crédito\n",
    "\n",
    "#Datos\n",
    "edad = 15\n",
    "antiguedad = 10\n",
    "ingreso = 50000\n",
    "\n",
    "#Completar\n",
    "\n",
    "## Ejercicio 2\n",
    "Escribir un programa que indique si un año es bisiesto o no. Las reglas para determinar que un año es bisiesto son\n",
    "```\n",
    "Los años bisiestos son los divisibles entre 4 (como 2004, 2008)\t\t \n",
    "\texcepto si es divisible entre 100, entonces no es bisiesto (como 2100, 2200) \t \t\t\n",
    "\t\texcepto si es divisible entre 400, entonces sí (como 2000, 2400)\n",
    "```\n",
    "\n",
    "#Dato\n",
    "anio = 2000\n",
    "\n",
    "#Completar    \n"
   ]
  },
  {
   "attachments": {},
   "cell_type": "markdown",
   "metadata": {},
   "source": [
    "# Funciones\n",
    "\n",
    "****\n",
    "\n",
    "```\n",
    "def funcion (parametros):\n",
    "    bloque de codigo\n",
    "```\n",
    "\n",
    "## Ejemplo:\n",
    "Escribir una función que indique si un número es primo o no\n",
    "\n",
    "def es_primo(numero):\n",
    "\n",
    "    if numero == 2:\n",
    "        return True\n",
    "\n",
    "    elif numero % 2 == 0:\n",
    "        return False\n",
    "\n",
    "    else:\n",
    "        for divisor in range(3, numero, 2):\n",
    "            if numero % divisor == 0:\n",
    "                return False\n",
    "        \n",
    "        return True\n",
    "\n",
    "es_primo(2)\n",
    "\n",
    "es_primo(6)\n",
    "\n",
    "es_primo(15)\n",
    "\n",
    "es_primo(17)\n",
    "\n",
    "## Parámetros de una función\n",
    "\n",
    "def potenciacion(base, exponente):\n",
    "    return base ** exponente\n",
    "\n",
    "potenciacion(2, 5)\n",
    "\n",
    "potenciacion(5, 2)\n",
    "\n",
    "potenciacion(base = 3, exponente = 5)\n",
    "\n",
    "potenciacion(exponente = 5, base = 3)\n",
    "\n",
    "## Parámetros con valores por defecto\n",
    "\n",
    "def potenciacion(base, exponente = 2):\n",
    "    return base ** exponente\n",
    "\n",
    "potenciacion(5, 3)\n",
    "\n",
    "potenciacion(5)\n",
    "\n",
    "## Funciones lambda\n",
    "\n",
    "def potenciacion(base, exponente):\n",
    "    return base ** exponente\n",
    "\n",
    "potenciacion_lambda = lambda base, exponente: base ** exponente\n",
    "\n",
    "potenciacion_lambda(3, 4)\n",
    "\n",
    "## Comentarios en funciones\n",
    "\n",
    "def potenciacion(base, exponente):\n",
    "    \"\"\"\n",
    "    funcion que calcula la potenciacion de una base a un exponente\n",
    "\n",
    "    params:\n",
    "\n",
    "    base: int\n",
    "    exponente: int\n",
    "    \"\"\"\n",
    "\n",
    "    return base ** exponente\n",
    "\n",
    "    potenciacion(3, 5)        "
   ]
  }
 ],
 "metadata": {
  "colab": {
   "collapsed_sections": [],
   "name": "datahack-07-bucles.ipynb",
   "provenance": []
  },
  "kernelspec": {
   "display_name": "Python 3",
   "language": "python",
   "name": "python3"
  },
  "language_info": {
   "codemirror_mode": {
    "name": "ipython",
    "version": 3
   },
   "file_extension": ".py",
   "mimetype": "text/x-python",
   "name": "python",
   "nbconvert_exporter": "python",
   "pygments_lexer": "ipython3",
   "version": "3.9.5"
  },
  "vscode": {
   "interpreter": {
    "hash": "2e242e6b8c453217117083c6680e6db82176874e34559806b32fd7417ddae620"
   }
  }
 },
 "nbformat": 4,
 "nbformat_minor": 1
}
