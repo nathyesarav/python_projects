{
 "cells": [
  {
   "attachments": {},
   "cell_type": "markdown",
   "metadata": {
    "colab_type": "text",
    "id": "Z0D1aWhDIOll"
   },
   "source": [
    "Tipos de variables\n"
   ]
  },
  {
   "attachments": {},
   "cell_type": "markdown",
   "metadata": {
    "colab_type": "text",
    "id": "Djst0v9qZ5ck"
   },
   "source": [
    "Variables Numéricas"
   ]
  },
  {
   "cell_type": "code",
   "execution_count": 44,
   "metadata": {
    "colab": {},
    "colab_type": "code",
    "id": "QBqT4JbtZ5c2"
   },
   "outputs": [],
   "source": [
    "#Vamos a crear nuestras primeras variables en Python\n",
    "x = 12"
   ]
  },
  {
   "cell_type": "code",
   "execution_count": 45,
   "metadata": {
    "colab": {},
    "colab_type": "code",
    "id": "hZOxqnjCWwLT"
   },
   "outputs": [
    {
     "data": {
      "text/plain": [
       "12"
      ]
     },
     "execution_count": 45,
     "metadata": {},
     "output_type": "execute_result"
    }
   ],
   "source": [
    "x"
   ]
  },
  {
   "cell_type": "code",
   "execution_count": 46,
   "metadata": {
    "colab": {},
    "colab_type": "code",
    "id": "qjyITqUqWwFV"
   },
   "outputs": [],
   "source": [
    "y = 13.5"
   ]
  },
  {
   "cell_type": "code",
   "execution_count": 47,
   "metadata": {
    "colab": {},
    "colab_type": "code",
    "id": "dYdwlGivWv7h"
   },
   "outputs": [
    {
     "data": {
      "text/plain": [
       "13.5"
      ]
     },
     "execution_count": 47,
     "metadata": {},
     "output_type": "execute_result"
    }
   ],
   "source": [
    "y"
   ]
  },
  {
   "cell_type": "code",
   "execution_count": 48,
   "metadata": {
    "colab": {},
    "colab_type": "code",
    "id": "wUELwShVeWm1"
   },
   "outputs": [
    {
     "data": {
      "text/plain": [
       "int"
      ]
     },
     "execution_count": 48,
     "metadata": {},
     "output_type": "execute_result"
    }
   ],
   "source": [
    "#Visualizamos el tipo de dato de x\n",
    "type(x) "
   ]
  },
  {
   "cell_type": "code",
   "execution_count": 49,
   "metadata": {
    "colab": {},
    "colab_type": "code",
    "id": "3Xc8hjm_eWho"
   },
   "outputs": [
    {
     "data": {
      "text/plain": [
       "float"
      ]
     },
     "execution_count": 49,
     "metadata": {},
     "output_type": "execute_result"
    }
   ],
   "source": [
    "#Visualizamos el tipo de dato de y\n",
    "type(y)"
   ]
  },
  {
   "cell_type": "markdown",
   "metadata": {
    "colab_type": "text",
    "id": "Zf_2pxLdpwqP"
   },
   "source": [
    "## Conversión de variables numéricas"
   ]
  },
  {
   "cell_type": "code",
   "execution_count": 50,
   "metadata": {
    "colab": {},
    "colab_type": "code",
    "id": "SZ90wKBGoXax"
   },
   "outputs": [],
   "source": [
    "x = 4.6\n",
    "y = 5.4"
   ]
  },
  {
   "cell_type": "code",
   "execution_count": 51,
   "metadata": {
    "colab": {},
    "colab_type": "code",
    "id": "pz7E6znopvCt"
   },
   "outputs": [
    {
     "data": {
      "text/plain": [
       "4"
      ]
     },
     "execution_count": 51,
     "metadata": {},
     "output_type": "execute_result"
    }
   ],
   "source": [
    "#Con esta función estamos convirtiendo a la variable x en una variable de tipo int\n",
    "z = int(x)\n",
    "z"
   ]
  },
  {
   "cell_type": "code",
   "execution_count": 52,
   "metadata": {
    "colab": {},
    "colab_type": "code",
    "id": "O0438vQMpu_g"
   },
   "outputs": [
    {
     "data": {
      "text/plain": [
       "5"
      ]
     },
     "execution_count": 52,
     "metadata": {},
     "output_type": "execute_result"
    }
   ],
   "source": [
    "#La función round redondea el número al valor superior más próximo\n",
    "z = round(x)\n",
    "z"
   ]
  },
  {
   "cell_type": "code",
   "execution_count": 53,
   "metadata": {
    "colab": {},
    "colab_type": "code",
    "id": "kCFcrnXupuyJ"
   },
   "outputs": [
    {
     "data": {
      "text/plain": [
       "int"
      ]
     },
     "execution_count": 53,
     "metadata": {},
     "output_type": "execute_result"
    }
   ],
   "source": [
    "#Veamos nuevamente el tipo de dato de x\n",
    "x = 4\n",
    "type(x)"
   ]
  },
  {
   "cell_type": "code",
   "execution_count": 54,
   "metadata": {
    "colab": {},
    "colab_type": "code",
    "id": "9obD8peRoc_Z"
   },
   "outputs": [
    {
     "data": {
      "text/plain": [
       "4.0"
      ]
     },
     "execution_count": 54,
     "metadata": {},
     "output_type": "execute_result"
    }
   ],
   "source": [
    "#Convertimos en flotante\n",
    "z = float(x)\n",
    "z"
   ]
  },
  {
   "cell_type": "code",
   "execution_count": 55,
   "metadata": {
    "colab": {},
    "colab_type": "code",
    "id": "zkgi3q6Xoc8p"
   },
   "outputs": [
    {
     "data": {
      "text/plain": [
       "float"
      ]
     },
     "execution_count": 55,
     "metadata": {},
     "output_type": "execute_result"
    }
   ],
   "source": [
    "type(z)"
   ]
  },
  {
   "cell_type": "markdown",
   "metadata": {
    "colab_type": "text",
    "id": "G2y4oId3Z_Ke"
   },
   "source": [
    "## Operadores de variables numéricas"
   ]
  },
  {
   "cell_type": "code",
   "execution_count": 56,
   "metadata": {
    "colab": {},
    "colab_type": "code",
    "id": "KkeIk2p_Z_Fc"
   },
   "outputs": [],
   "source": [
    "x = 17\n",
    "y = 3"
   ]
  },
  {
   "cell_type": "code",
   "execution_count": 57,
   "metadata": {
    "colab": {},
    "colab_type": "code",
    "id": "-YxwB9uaZ-5-"
   },
   "outputs": [
    {
     "data": {
      "text/plain": [
       "20"
      ]
     },
     "execution_count": 57,
     "metadata": {},
     "output_type": "execute_result"
    }
   ],
   "source": [
    "x + y "
   ]
  },
  {
   "cell_type": "code",
   "execution_count": 58,
   "metadata": {
    "colab": {},
    "colab_type": "code",
    "id": "xcSNdEXGQVKm"
   },
   "outputs": [
    {
     "data": {
      "text/plain": [
       "14"
      ]
     },
     "execution_count": 58,
     "metadata": {},
     "output_type": "execute_result"
    }
   ],
   "source": [
    "x - y"
   ]
  },
  {
   "cell_type": "code",
   "execution_count": 59,
   "metadata": {
    "colab": {},
    "colab_type": "code",
    "id": "4H9BFfqUQVH_"
   },
   "outputs": [
    {
     "data": {
      "text/plain": [
       "51"
      ]
     },
     "execution_count": 59,
     "metadata": {},
     "output_type": "execute_result"
    }
   ],
   "source": [
    "x * y "
   ]
  },
  {
   "cell_type": "code",
   "execution_count": 60,
   "metadata": {
    "colab": {},
    "colab_type": "code",
    "id": "QtECRy3rQU95"
   },
   "outputs": [
    {
     "data": {
      "text/plain": [
       "5.666666666666667"
      ]
     },
     "execution_count": 60,
     "metadata": {},
     "output_type": "execute_result"
    }
   ],
   "source": [
    "x / y"
   ]
  },
  {
   "cell_type": "markdown",
   "metadata": {
    "colab_type": "text",
    "id": "F1SFucWpZ5c6"
   },
   "source": [
    "# Variables Booleanas"
   ]
  },
  {
   "cell_type": "code",
   "execution_count": 61,
   "metadata": {
    "colab": {},
    "colab_type": "code",
    "id": "sDvXR1Q-Z5c7"
   },
   "outputs": [
    {
     "data": {
      "text/plain": [
       "True"
      ]
     },
     "execution_count": 61,
     "metadata": {},
     "output_type": "execute_result"
    }
   ],
   "source": [
    "4 < 5"
   ]
  },
  {
   "cell_type": "code",
   "execution_count": 62,
   "metadata": {
    "colab": {},
    "colab_type": "code",
    "id": "qXr1BSIQ6tBo"
   },
   "outputs": [
    {
     "data": {
      "text/plain": [
       "False"
      ]
     },
     "execution_count": 62,
     "metadata": {},
     "output_type": "execute_result"
    }
   ],
   "source": [
    "4 > 5"
   ]
  },
  {
   "cell_type": "code",
   "execution_count": 63,
   "metadata": {
    "colab": {},
    "colab_type": "code",
    "id": "FzNigyok6SuP"
   },
   "outputs": [
    {
     "data": {
      "text/plain": [
       "False"
      ]
     },
     "execution_count": 63,
     "metadata": {},
     "output_type": "execute_result"
    }
   ],
   "source": [
    "4 == 6"
   ]
  },
  {
   "cell_type": "code",
   "execution_count": 64,
   "metadata": {
    "colab": {},
    "colab_type": "code",
    "id": "rC1O9tVoZ5c8"
   },
   "outputs": [],
   "source": [
    "x = 5"
   ]
  },
  {
   "cell_type": "code",
   "execution_count": 65,
   "metadata": {
    "colab": {},
    "colab_type": "code",
    "id": "dWUm7oIImqf5"
   },
   "outputs": [],
   "source": [
    "x = True\n",
    "y = False"
   ]
  },
  {
   "cell_type": "code",
   "execution_count": 66,
   "metadata": {
    "colab": {},
    "colab_type": "code",
    "id": "VAQ6N4UvZ5c9"
   },
   "outputs": [
    {
     "data": {
      "text/plain": [
       "True"
      ]
     },
     "execution_count": 66,
     "metadata": {},
     "output_type": "execute_result"
    }
   ],
   "source": [
    "x"
   ]
  },
  {
   "cell_type": "code",
   "execution_count": 67,
   "metadata": {
    "colab": {},
    "colab_type": "code",
    "id": "WnN0KxWFZ5c-"
   },
   "outputs": [
    {
     "data": {
      "text/plain": [
       "bool"
      ]
     },
     "execution_count": 67,
     "metadata": {},
     "output_type": "execute_result"
    }
   ],
   "source": [
    "type(x)"
   ]
  },
  {
   "cell_type": "markdown",
   "metadata": {
    "colab_type": "text",
    "id": "eq8TL6iZZ5c_"
   },
   "source": [
    "## Operadores de combinación de variables booleanas"
   ]
  },
  {
   "cell_type": "code",
   "execution_count": 68,
   "metadata": {
    "colab": {},
    "colab_type": "code",
    "id": "p96gZEq33Ijb"
   },
   "outputs": [],
   "source": [
    "a = True\n",
    "b = False"
   ]
  },
  {
   "cell_type": "code",
   "execution_count": 70,
   "metadata": {
    "colab": {},
    "colab_type": "code",
    "id": "_iDR2zQr3Ifw"
   },
   "outputs": [
    {
     "data": {
      "text/plain": [
       "True"
      ]
     },
     "execution_count": 70,
     "metadata": {},
     "output_type": "execute_result"
    }
   ],
   "source": [
    "a and a"
   ]
  },
  {
   "cell_type": "code",
   "execution_count": 71,
   "metadata": {
    "colab": {},
    "colab_type": "code",
    "id": "10RNUMbB3Ic-"
   },
   "outputs": [
    {
     "data": {
      "text/plain": [
       "False"
      ]
     },
     "execution_count": 71,
     "metadata": {},
     "output_type": "execute_result"
    }
   ],
   "source": [
    "a and b"
   ]
  },
  {
   "cell_type": "code",
   "execution_count": 72,
   "metadata": {
    "colab": {},
    "colab_type": "code",
    "id": "spTaGkxi3IJ7"
   },
   "outputs": [
    {
     "data": {
      "text/plain": [
       "True"
      ]
     },
     "execution_count": 72,
     "metadata": {},
     "output_type": "execute_result"
    }
   ],
   "source": [
    "a or b"
   ]
  },
  {
   "cell_type": "code",
   "execution_count": 73,
   "metadata": {
    "colab": {},
    "colab_type": "code",
    "id": "RDfJeBn39MM1"
   },
   "outputs": [
    {
     "data": {
      "text/plain": [
       "False"
      ]
     },
     "execution_count": 73,
     "metadata": {},
     "output_type": "execute_result"
    }
   ],
   "source": [
    "b or b"
   ]
  },
  {
   "cell_type": "code",
   "execution_count": 74,
   "metadata": {
    "colab": {},
    "colab_type": "code",
    "id": "x0dF20aQ9MFG"
   },
   "outputs": [
    {
     "data": {
      "text/plain": [
       "True"
      ]
     },
     "execution_count": 74,
     "metadata": {},
     "output_type": "execute_result"
    }
   ],
   "source": [
    "(3 < 4) and (4 < 5)"
   ]
  },
  {
   "cell_type": "markdown",
   "metadata": {
    "colab_type": "text",
    "id": "7D9w2keoZ5dB"
   },
   "source": [
    "# Strings"
   ]
  },
  {
   "cell_type": "code",
   "execution_count": 75,
   "metadata": {
    "colab": {
     "base_uri": "https://localhost:8080/",
     "height": 37
    },
    "colab_type": "code",
    "executionInfo": {
     "elapsed": 812,
     "status": "ok",
     "timestamp": 1597526364175,
     "user": {
      "displayName": "Manuel Marino Montoya Gamio",
      "photoUrl": "https://lh3.googleusercontent.com/a-/AOh14Ggvwikw8yNTOrR63TADgIsw_qnmLKMoqjHZ_AxK=s64",
      "userId": "16723277136981296486"
     },
     "user_tz": 300
    },
    "id": "LCMkTrzw-s9H",
    "outputId": "00120cbe-89e9-49f7-aa19-37ad210afbdf"
   },
   "outputs": [
    {
     "data": {
      "text/plain": [
       "'Hola mundo!'"
      ]
     },
     "execution_count": 75,
     "metadata": {},
     "output_type": "execute_result"
    }
   ],
   "source": [
    "saludo = \"Hola mundo!\"\n",
    "saludo"
   ]
  },
  {
   "cell_type": "code",
   "execution_count": 76,
   "metadata": {
    "colab": {
     "base_uri": "https://localhost:8080/",
     "height": 34
    },
    "colab_type": "code",
    "executionInfo": {
     "elapsed": 828,
     "status": "ok",
     "timestamp": 1597526372324,
     "user": {
      "displayName": "Manuel Marino Montoya Gamio",
      "photoUrl": "https://lh3.googleusercontent.com/a-/AOh14Ggvwikw8yNTOrR63TADgIsw_qnmLKMoqjHZ_AxK=s64",
      "userId": "16723277136981296486"
     },
     "user_tz": 300
    },
    "id": "bA6kViAs-s0c",
    "outputId": "3ad74ee7-0b74-4cc2-ffb1-e595921f6f8d"
   },
   "outputs": [
    {
     "data": {
      "text/plain": [
       "str"
      ]
     },
     "execution_count": 76,
     "metadata": {},
     "output_type": "execute_result"
    }
   ],
   "source": [
    "type(saludo)"
   ]
  },
  {
   "cell_type": "code",
   "execution_count": 78,
   "metadata": {
    "colab": {
     "base_uri": "https://localhost:8080/",
     "height": 37
    },
    "colab_type": "code",
    "executionInfo": {
     "elapsed": 830,
     "status": "ok",
     "timestamp": 1597526580722,
     "user": {
      "displayName": "Manuel Marino Montoya Gamio",
      "photoUrl": "https://lh3.googleusercontent.com/a-/AOh14Ggvwikw8yNTOrR63TADgIsw_qnmLKMoqjHZ_AxK=s64",
      "userId": "16723277136981296486"
     },
     "user_tz": 300
    },
    "id": "JAgpZ_AK-sfh",
    "outputId": "f3cd455d-f5fc-4f03-b70e-a2ac6778bb56"
   },
   "outputs": [
    {
     "data": {
      "text/plain": [
       "'Hola Layla, tu edad es 29'"
      ]
     },
     "execution_count": 78,
     "metadata": {},
     "output_type": "execute_result"
    }
   ],
   "source": [
    "nombre = \"Layla\"\n",
    "edad = 29\n",
    "\n",
    "saludo = f\"Hola {nombre}, tu edad es {edad}\"\n",
    "saludo"
   ]
  },
  {
   "cell_type": "markdown",
   "metadata": {
    "colab_type": "text",
    "id": "bePXWjeQ-pbo"
   },
   "source": [
    "## Operadores de strings"
   ]
  },
  {
   "cell_type": "code",
   "execution_count": 79,
   "metadata": {
    "colab": {},
    "colab_type": "code",
    "id": "uRKAY-4tZ5dB"
   },
   "outputs": [],
   "source": [
    "cadena = \"Layla\""
   ]
  },
  {
   "cell_type": "code",
   "execution_count": 80,
   "metadata": {
    "colab": {
     "base_uri": "https://localhost:8080/",
     "height": 37
    },
    "colab_type": "code",
    "executionInfo": {
     "elapsed": 737,
     "status": "ok",
     "timestamp": 1597526922022,
     "user": {
      "displayName": "Manuel Marino Montoya Gamio",
      "photoUrl": "https://lh3.googleusercontent.com/a-/AOh14Ggvwikw8yNTOrR63TADgIsw_qnmLKMoqjHZ_AxK=s64",
      "userId": "16723277136981296486"
     },
     "user_tz": 300
    },
    "id": "qrWJxxwJZ5dC",
    "outputId": "70d77fd7-3698-4d65-c07f-d6d5ea84524a"
   },
   "outputs": [
    {
     "data": {
      "text/plain": [
       "'Layla, Ingeniera en Sistemas de Información'"
      ]
     },
     "execution_count": 80,
     "metadata": {},
     "output_type": "execute_result"
    }
   ],
   "source": [
    "cadena + \", Ingeniera en Sistemas de Información\""
   ]
  },
  {
   "cell_type": "code",
   "execution_count": 81,
   "metadata": {
    "colab": {
     "base_uri": "https://localhost:8080/",
     "height": 37
    },
    "colab_type": "code",
    "executionInfo": {
     "elapsed": 683,
     "status": "ok",
     "timestamp": 1597526951811,
     "user": {
      "displayName": "Manuel Marino Montoya Gamio",
      "photoUrl": "https://lh3.googleusercontent.com/a-/AOh14Ggvwikw8yNTOrR63TADgIsw_qnmLKMoqjHZ_AxK=s64",
      "userId": "16723277136981296486"
     },
     "user_tz": 300
    },
    "id": "uvXpKPaxZ5dD",
    "outputId": "9c530fcf-c556-4430-824d-ba202331ccb0"
   },
   "outputs": [
    {
     "data": {
      "text/plain": [
       "'LaylaLaylaLaylaLaylaLayla'"
      ]
     },
     "execution_count": 81,
     "metadata": {},
     "output_type": "execute_result"
    }
   ],
   "source": [
    "cadena * 5"
   ]
  },
  {
   "cell_type": "code",
   "execution_count": 82,
   "metadata": {
    "colab": {
     "base_uri": "https://localhost:8080/",
     "height": 164
    },
    "colab_type": "code",
    "executionInfo": {
     "elapsed": 712,
     "status": "error",
     "timestamp": 1597526968538,
     "user": {
      "displayName": "Manuel Marino Montoya Gamio",
      "photoUrl": "https://lh3.googleusercontent.com/a-/AOh14Ggvwikw8yNTOrR63TADgIsw_qnmLKMoqjHZ_AxK=s64",
      "userId": "16723277136981296486"
     },
     "user_tz": 300
    },
    "id": "EeW1j8jCZ5dE",
    "outputId": "1ccd3285-8f06-47fa-f64c-6bd5f42051e5"
   },
   "outputs": [
    {
     "ename": "TypeError",
     "evalue": "unsupported operand type(s) for /: 'str' and 'int'",
     "output_type": "error",
     "traceback": [
      "\u001b[1;31m---------------------------------------------------------------------------\u001b[0m",
      "\u001b[1;31mTypeError\u001b[0m                                 Traceback (most recent call last)",
      "\u001b[1;32m<ipython-input-82-15b01a15a0d6>\u001b[0m in \u001b[0;36m<module>\u001b[1;34m\u001b[0m\n\u001b[0;32m      1\u001b[0m \u001b[1;31m#Me indica un error porque no puedo realizar este tipo de operaciones sobre cadenas de textos\u001b[0m\u001b[1;33m\u001b[0m\u001b[1;33m\u001b[0m\u001b[1;33m\u001b[0m\u001b[0m\n\u001b[1;32m----> 2\u001b[1;33m \u001b[0mcadena\u001b[0m \u001b[1;33m/\u001b[0m \u001b[1;36m5\u001b[0m\u001b[1;33m\u001b[0m\u001b[1;33m\u001b[0m\u001b[0m\n\u001b[0m",
      "\u001b[1;31mTypeError\u001b[0m: unsupported operand type(s) for /: 'str' and 'int'"
     ]
    }
   ],
   "source": [
    "#Me indica un error porque no puedo realizar este tipo de operaciones sobre cadenas de textos\n",
    "cadena / 5 "
   ]
  },
  {
   "cell_type": "markdown",
   "metadata": {
    "colab_type": "text",
    "id": "1C2hKwD0Jk0g"
   },
   "source": [
    "## Otros operadores de strings"
   ]
  },
  {
   "cell_type": "code",
   "execution_count": 83,
   "metadata": {
    "colab": {},
    "colab_type": "code",
    "id": "O2e3wLJ1JpCK"
   },
   "outputs": [],
   "source": [
    "x = \"Real Madrid\"\n",
    "y = \"Barcelona\""
   ]
  },
  {
   "cell_type": "code",
   "execution_count": 84,
   "metadata": {
    "colab": {
     "base_uri": "https://localhost:8080/",
     "height": 34
    },
    "colab_type": "code",
    "executionInfo": {
     "elapsed": 540,
     "status": "ok",
     "timestamp": 1597529085024,
     "user": {
      "displayName": "Manuel Marino Montoya Gamio",
      "photoUrl": "https://lh3.googleusercontent.com/a-/AOh14Ggvwikw8yNTOrR63TADgIsw_qnmLKMoqjHZ_AxK=s64",
      "userId": "16723277136981296486"
     },
     "user_tz": 300
    },
    "id": "OoqHccoBJrIH",
    "outputId": "b6ab91ec-6144-4f2b-df32-86d3acb9fdbc"
   },
   "outputs": [
    {
     "data": {
      "text/plain": [
       "False"
      ]
     },
     "execution_count": 84,
     "metadata": {},
     "output_type": "execute_result"
    }
   ],
   "source": [
    "x < y"
   ]
  },
  {
   "cell_type": "code",
   "execution_count": 85,
   "metadata": {
    "colab": {
     "base_uri": "https://localhost:8080/",
     "height": 34
    },
    "colab_type": "code",
    "executionInfo": {
     "elapsed": 753,
     "status": "ok",
     "timestamp": 1597529118706,
     "user": {
      "displayName": "Manuel Marino Montoya Gamio",
      "photoUrl": "https://lh3.googleusercontent.com/a-/AOh14Ggvwikw8yNTOrR63TADgIsw_qnmLKMoqjHZ_AxK=s64",
      "userId": "16723277136981296486"
     },
     "user_tz": 300
    },
    "id": "1ivD94-EJq-W",
    "outputId": "f78e535c-dbb2-4b98-ac37-5112b1abd2da"
   },
   "outputs": [
    {
     "data": {
      "text/plain": [
       "True"
      ]
     },
     "execution_count": 85,
     "metadata": {},
     "output_type": "execute_result"
    }
   ],
   "source": [
    "\"a\" < \"b\""
   ]
  },
  {
   "cell_type": "code",
   "execution_count": 86,
   "metadata": {
    "colab": {
     "base_uri": "https://localhost:8080/",
     "height": 34
    },
    "colab_type": "code",
    "executionInfo": {
     "elapsed": 811,
     "status": "ok",
     "timestamp": 1597529162699,
     "user": {
      "displayName": "Manuel Marino Montoya Gamio",
      "photoUrl": "https://lh3.googleusercontent.com/a-/AOh14Ggvwikw8yNTOrR63TADgIsw_qnmLKMoqjHZ_AxK=s64",
      "userId": "16723277136981296486"
     },
     "user_tz": 300
    },
    "id": "7AuYKDisJqt3",
    "outputId": "0840639e-aa67-4abf-eb00-bc972acdf60a"
   },
   "outputs": [
    {
     "data": {
      "text/plain": [
       "True"
      ]
     },
     "execution_count": 86,
     "metadata": {},
     "output_type": "execute_result"
    }
   ],
   "source": [
    "\"a\" > \"A\""
   ]
  },
  {
   "cell_type": "code",
   "execution_count": 87,
   "metadata": {
    "colab": {
     "base_uri": "https://localhost:8080/",
     "height": 34
    },
    "colab_type": "code",
    "executionInfo": {
     "elapsed": 749,
     "status": "ok",
     "timestamp": 1597529178863,
     "user": {
      "displayName": "Manuel Marino Montoya Gamio",
      "photoUrl": "https://lh3.googleusercontent.com/a-/AOh14Ggvwikw8yNTOrR63TADgIsw_qnmLKMoqjHZ_AxK=s64",
      "userId": "16723277136981296486"
     },
     "user_tz": 300
    },
    "id": "BS1Gqd69JqWv",
    "outputId": "0f50d816-4679-4bc0-8491-78e23a7bf0d4"
   },
   "outputs": [
    {
     "data": {
      "text/plain": [
       "True"
      ]
     },
     "execution_count": 87,
     "metadata": {},
     "output_type": "execute_result"
    }
   ],
   "source": [
    "\"Brasil\" == \"Brasil\""
   ]
  },
  {
   "cell_type": "code",
   "execution_count": 88,
   "metadata": {
    "colab": {
     "base_uri": "https://localhost:8080/",
     "height": 34
    },
    "colab_type": "code",
    "executionInfo": {
     "elapsed": 725,
     "status": "ok",
     "timestamp": 1597529187016,
     "user": {
      "displayName": "Manuel Marino Montoya Gamio",
      "photoUrl": "https://lh3.googleusercontent.com/a-/AOh14Ggvwikw8yNTOrR63TADgIsw_qnmLKMoqjHZ_AxK=s64",
      "userId": "16723277136981296486"
     },
     "user_tz": 300
    },
    "id": "wXHG9ZztJqMN",
    "outputId": "18731054-0834-4c31-fb3b-a9136465462f"
   },
   "outputs": [
    {
     "data": {
      "text/plain": [
       "False"
      ]
     },
     "execution_count": 88,
     "metadata": {},
     "output_type": "execute_result"
    }
   ],
   "source": [
    "\"Brasil\" == \"brasil\""
   ]
  },
  {
   "cell_type": "code",
   "execution_count": 89,
   "metadata": {
    "colab": {},
    "colab_type": "code",
    "id": "9nDb7xbdJo-l"
   },
   "outputs": [],
   "source": [
    "cadena = \"Layla Scheli\""
   ]
  },
  {
   "cell_type": "code",
   "execution_count": 90,
   "metadata": {
    "colab": {
     "base_uri": "https://localhost:8080/",
     "height": 37
    },
    "colab_type": "code",
    "executionInfo": {
     "elapsed": 1014,
     "status": "ok",
     "timestamp": 1597529230378,
     "user": {
      "displayName": "Manuel Marino Montoya Gamio",
      "photoUrl": "https://lh3.googleusercontent.com/a-/AOh14Ggvwikw8yNTOrR63TADgIsw_qnmLKMoqjHZ_AxK=s64",
      "userId": "16723277136981296486"
     },
     "user_tz": 300
    },
    "id": "9dc-zY1-Jo0S",
    "outputId": "05ec22c7-0235-48ca-8338-dfe538331068"
   },
   "outputs": [
    {
     "data": {
      "text/plain": [
       "'LAYLA SCHELI'"
      ]
     },
     "execution_count": 90,
     "metadata": {},
     "output_type": "execute_result"
    }
   ],
   "source": [
    "cadena.upper() #Convierto en mayúscula el texto"
   ]
  },
  {
   "cell_type": "code",
   "execution_count": 91,
   "metadata": {
    "colab": {
     "base_uri": "https://localhost:8080/",
     "height": 37
    },
    "colab_type": "code",
    "executionInfo": {
     "elapsed": 854,
     "status": "ok",
     "timestamp": 1597529237846,
     "user": {
      "displayName": "Manuel Marino Montoya Gamio",
      "photoUrl": "https://lh3.googleusercontent.com/a-/AOh14Ggvwikw8yNTOrR63TADgIsw_qnmLKMoqjHZ_AxK=s64",
      "userId": "16723277136981296486"
     },
     "user_tz": 300
    },
    "id": "Z_qickFjJong",
    "outputId": "d530ff3e-bc79-4bd6-dcbf-d01dfe1ca7e1"
   },
   "outputs": [
    {
     "data": {
      "text/plain": [
       "'layla scheli'"
      ]
     },
     "execution_count": 91,
     "metadata": {},
     "output_type": "execute_result"
    }
   ],
   "source": [
    "cadena.lower() #Convierto en minúscula el texto"
   ]
  },
  {
   "cell_type": "markdown",
   "metadata": {
    "colab_type": "text",
    "id": "49q42vMDZ5dF"
   },
   "source": [
    "## Ingreso de valores por el usuario"
   ]
  },
  {
   "cell_type": "code",
   "execution_count": 25,
   "metadata": {
    "colab": {
     "base_uri": "https://localhost:8080/",
     "height": 54
    },
    "colab_type": "code",
    "executionInfo": {
     "elapsed": 12543,
     "status": "ok",
     "timestamp": 1597527148412,
     "user": {
      "displayName": "Manuel Marino Montoya Gamio",
      "photoUrl": "https://lh3.googleusercontent.com/a-/AOh14Ggvwikw8yNTOrR63TADgIsw_qnmLKMoqjHZ_AxK=s64",
      "userId": "16723277136981296486"
     },
     "user_tz": 300
    },
    "id": "YJcDSFVT-4EP",
    "outputId": "5c61ee9f-d801-4243-c7dd-a79bc25cfa95"
   },
   "outputs": [
    {
     "name": "stdout",
     "output_type": "stream",
     "text": [
      "Me llamo Layla\n"
     ]
    },
    {
     "data": {
      "text/plain": [
       "'Me llamo Layla'"
      ]
     },
     "execution_count": 25,
     "metadata": {},
     "output_type": "execute_result"
    }
   ],
   "source": [
    "input()"
   ]
  },
  {
   "cell_type": "code",
   "execution_count": 92,
   "metadata": {
    "colab": {
     "base_uri": "https://localhost:8080/",
     "height": 34
    },
    "colab_type": "code",
    "executionInfo": {
     "elapsed": 9363,
     "status": "ok",
     "timestamp": 1597527183084,
     "user": {
      "displayName": "Manuel Marino Montoya Gamio",
      "photoUrl": "https://lh3.googleusercontent.com/a-/AOh14Ggvwikw8yNTOrR63TADgIsw_qnmLKMoqjHZ_AxK=s64",
      "userId": "16723277136981296486"
     },
     "user_tz": 300
    },
    "id": "_YSQiZZ--31j",
    "outputId": "aa8c0f6a-a0c4-4765-9a90-e6819c258daf"
   },
   "outputs": [
    {
     "name": "stdout",
     "output_type": "stream",
     "text": [
      "Ingrese su nombre:Layla\n"
     ]
    }
   ],
   "source": [
    "nombre = input(\"Ingrese su nombre:\")"
   ]
  },
  {
   "cell_type": "code",
   "execution_count": 93,
   "metadata": {
    "colab": {
     "base_uri": "https://localhost:8080/",
     "height": 37
    },
    "colab_type": "code",
    "executionInfo": {
     "elapsed": 1089,
     "status": "ok",
     "timestamp": 1597527189360,
     "user": {
      "displayName": "Manuel Marino Montoya Gamio",
      "photoUrl": "https://lh3.googleusercontent.com/a-/AOh14Ggvwikw8yNTOrR63TADgIsw_qnmLKMoqjHZ_AxK=s64",
      "userId": "16723277136981296486"
     },
     "user_tz": 300
    },
    "id": "MEMydhjcA76h",
    "outputId": "5be706ba-fa17-418c-fbf8-b7b4571f64e4"
   },
   "outputs": [
    {
     "data": {
      "text/plain": [
       "'Layla'"
      ]
     },
     "execution_count": 93,
     "metadata": {},
     "output_type": "execute_result"
    }
   ],
   "source": [
    "nombre"
   ]
  },
  {
   "cell_type": "code",
   "execution_count": 94,
   "metadata": {
    "colab": {
     "base_uri": "https://localhost:8080/",
     "height": 34
    },
    "colab_type": "code",
    "executionInfo": {
     "elapsed": 6297,
     "status": "ok",
     "timestamp": 1597527208064,
     "user": {
      "displayName": "Manuel Marino Montoya Gamio",
      "photoUrl": "https://lh3.googleusercontent.com/a-/AOh14Ggvwikw8yNTOrR63TADgIsw_qnmLKMoqjHZ_AxK=s64",
      "userId": "16723277136981296486"
     },
     "user_tz": 300
    },
    "id": "863pYN86BP9I",
    "outputId": "f5ac6e11-3c02-43ad-b806-c97e5ab11b63"
   },
   "outputs": [
    {
     "name": "stdout",
     "output_type": "stream",
     "text": [
      "Ingrese su edad: 29\n"
     ]
    }
   ],
   "source": [
    "edad = input(\"Ingrese su edad: \")"
   ]
  },
  {
   "cell_type": "code",
   "execution_count": 95,
   "metadata": {
    "colab": {
     "base_uri": "https://localhost:8080/",
     "height": 34
    },
    "colab_type": "code",
    "executionInfo": {
     "elapsed": 919,
     "status": "ok",
     "timestamp": 1597527257318,
     "user": {
      "displayName": "Manuel Marino Montoya Gamio",
      "photoUrl": "https://lh3.googleusercontent.com/a-/AOh14Ggvwikw8yNTOrR63TADgIsw_qnmLKMoqjHZ_AxK=s64",
      "userId": "16723277136981296486"
     },
     "user_tz": 300
    },
    "id": "jy_tjoSTC1nQ",
    "outputId": "f727bd6b-e930-4245-fe5d-9183df57739e"
   },
   "outputs": [
    {
     "data": {
      "text/plain": [
       "str"
      ]
     },
     "execution_count": 95,
     "metadata": {},
     "output_type": "execute_result"
    }
   ],
   "source": [
    "type(edad)"
   ]
  },
  {
   "cell_type": "code",
   "execution_count": 96,
   "metadata": {
    "colab": {
     "base_uri": "https://localhost:8080/",
     "height": 34
    },
    "colab_type": "code",
    "executionInfo": {
     "elapsed": 893,
     "status": "ok",
     "timestamp": 1597527272367,
     "user": {
      "displayName": "Manuel Marino Montoya Gamio",
      "photoUrl": "https://lh3.googleusercontent.com/a-/AOh14Ggvwikw8yNTOrR63TADgIsw_qnmLKMoqjHZ_AxK=s64",
      "userId": "16723277136981296486"
     },
     "user_tz": 300
    },
    "id": "gZwa-R-DCSmY",
    "outputId": "80c4ac87-b3c6-424e-f5a8-c88974d38079"
   },
   "outputs": [
    {
     "data": {
      "text/plain": [
       "int"
      ]
     },
     "execution_count": 96,
     "metadata": {},
     "output_type": "execute_result"
    }
   ],
   "source": [
    "edad = int(edad)\n",
    "type(edad)"
   ]
  },
  {
   "cell_type": "code",
   "execution_count": 97,
   "metadata": {
    "colab": {
     "base_uri": "https://localhost:8080/",
     "height": 34
    },
    "colab_type": "code",
    "executionInfo": {
     "elapsed": 1004,
     "status": "ok",
     "timestamp": 1597527278140,
     "user": {
      "displayName": "Manuel Marino Montoya Gamio",
      "photoUrl": "https://lh3.googleusercontent.com/a-/AOh14Ggvwikw8yNTOrR63TADgIsw_qnmLKMoqjHZ_AxK=s64",
      "userId": "16723277136981296486"
     },
     "user_tz": 300
    },
    "id": "_uyGeGyQCRmS",
    "outputId": "ac69c5b5-0e6b-4ea1-f36d-307a6bf621e7"
   },
   "outputs": [
    {
     "data": {
      "text/plain": [
       "29"
      ]
     },
     "execution_count": 97,
     "metadata": {},
     "output_type": "execute_result"
    }
   ],
   "source": [
    "edad"
   ]
  },
  {
   "cell_type": "markdown",
   "metadata": {
    "colab_type": "text",
    "id": "nx4IcYMxpYyl"
   },
   "source": [
    "## Ejercicios con operadores"
   ]
  },
  {
   "cell_type": "markdown",
   "metadata": {
    "colab_type": "text",
    "id": "QcfgX0xhDUNT"
   },
   "source": [
    "**¿Cuántos segundos hay en un día?**\n",
    "\n",
    "* 1 minuto tiene 60 segundos\n",
    "* 1 hora tiene 60 minutos\n",
    "* 1 día tiene 24 horas"
   ]
  },
  {
   "cell_type": "code",
   "execution_count": 110,
   "metadata": {
    "colab": {
     "base_uri": "https://localhost:8080/",
     "height": 34
    },
    "colab_type": "code",
    "executionInfo": {
     "elapsed": 975,
     "status": "ok",
     "timestamp": 1597527712518,
     "user": {
      "displayName": "Manuel Marino Montoya Gamio",
      "photoUrl": "https://lh3.googleusercontent.com/a-/AOh14Ggvwikw8yNTOrR63TADgIsw_qnmLKMoqjHZ_AxK=s64",
      "userId": "16723277136981296486"
     },
     "user_tz": 300
    },
    "id": "EX7bAAqQDZpP",
    "outputId": "ec05a095-29f9-4412-96e1-71480a90d726"
   },
   "outputs": [],
   "source": [
    "#Completar"
   ]
  },
  {
   "cell_type": "code",
   "execution_count": 111,
   "metadata": {
    "colab": {
     "base_uri": "https://localhost:8080/",
     "height": 34
    },
    "colab_type": "code",
    "executionInfo": {
     "elapsed": 735,
     "status": "ok",
     "timestamp": 1597527739537,
     "user": {
      "displayName": "Manuel Marino Montoya Gamio",
      "photoUrl": "https://lh3.googleusercontent.com/a-/AOh14Ggvwikw8yNTOrR63TADgIsw_qnmLKMoqjHZ_AxK=s64",
      "userId": "16723277136981296486"
     },
     "user_tz": 300
    },
    "id": "jSVOvbZXDZmk",
    "outputId": "abc7ef9f-ed07-46bb-9f0e-c37cf19d22f9"
   },
   "outputs": [],
   "source": [
    "#Completar"
   ]
  },
  {
   "cell_type": "markdown",
   "metadata": {
    "colab_type": "text",
    "id": "oh4tonHNDZYc"
   },
   "source": [
    "**Calcular el monto a pagar por un préstamo** \n",
    "\n",
    "Las variables de entrada son:\n",
    "\n",
    "```\n",
    "m : monto prestado\n",
    "n : número de meses que dura el préstamo\n",
    "i : tasa de interés mensual\n",
    "```\n",
    "\n",
    "El monto final a pagar por el préstamo se calcula multiplicando el monto prestado por uno más el interés elevado a la candidad de meses que dura el préstamo."
   ]
  },
  {
   "cell_type": "markdown",
   "metadata": {
    "colab_type": "text",
    "id": "vd_SZa3MDZRX"
   },
   "source": [
    "<img src = \"https://latex.codecogs.com/gif.latex?%5CLARGE%20M%20%3D%20m%20*%20%281%20&plus;%20i%29%5En\">"
   ]
  },
  {
   "cell_type": "code",
   "execution_count": 100,
   "metadata": {
    "colab": {},
    "colab_type": "code",
    "id": "dQT-E8TqDZBw"
   },
   "outputs": [],
   "source": [
    "#Monto prestado\n",
    "m = 10000\n",
    "\n",
    "#Tasa de interes mensual\n",
    "i = 0.05\n",
    "\n",
    "#Numero de meses que dura el prestamo\n",
    "n = 12"
   ]
  },
  {
   "cell_type": "code",
   "execution_count": 113,
   "metadata": {
    "colab": {
     "base_uri": "https://localhost:8080/",
     "height": 34
    },
    "colab_type": "code",
    "executionInfo": {
     "elapsed": 778,
     "status": "ok",
     "timestamp": 1597528309228,
     "user": {
      "displayName": "Manuel Marino Montoya Gamio",
      "photoUrl": "https://lh3.googleusercontent.com/a-/AOh14Ggvwikw8yNTOrR63TADgIsw_qnmLKMoqjHZ_AxK=s64",
      "userId": "16723277136981296486"
     },
     "user_tz": 300
    },
    "id": "LIxqXVLoDUJL",
    "outputId": "51638e83-26cd-414a-a4e6-16ebe3eb1637"
   },
   "outputs": [],
   "source": [
    "#Completar"
   ]
  },
  {
   "cell_type": "markdown",
   "metadata": {},
   "source": [
    "## Generación en Listas en Python"
   ]
  },
  {
   "cell_type": "code",
   "execution_count": 102,
   "metadata": {},
   "outputs": [
    {
     "name": "stdout",
     "output_type": "stream",
     "text": [
      "[12, 15.7, False, 'Esto es un Texto']\n"
     ]
    }
   ],
   "source": [
    "lista_ejemplo = [12, 15.7, False, 'Esto es un Texto']\n",
    "print(lista_ejemplo)"
   ]
  },
  {
   "cell_type": "code",
   "execution_count": 103,
   "metadata": {},
   "outputs": [
    {
     "data": {
      "text/plain": [
       "4"
      ]
     },
     "execution_count": 103,
     "metadata": {},
     "output_type": "execute_result"
    }
   ],
   "source": [
    "#Longitud de la Lista!\n",
    "len(lista_ejemplo)"
   ]
  },
  {
   "cell_type": "code",
   "execution_count": 104,
   "metadata": {},
   "outputs": [
    {
     "name": "stdout",
     "output_type": "stream",
     "text": [
      "12\n",
      "15.7\n",
      "False\n",
      "Esto es un Texto\n"
     ]
    }
   ],
   "source": [
    "#Obteniendo elementos de la lista!\n",
    "print(lista_ejemplo[0]) #Obtengo el primer elemento de la lista\n",
    "print(lista_ejemplo[1]) #Obtengo el segundo elemento de la lista\n",
    "print(lista_ejemplo[2]) #Obtengo el tercer elemento de la lista\n",
    "print(lista_ejemplo[-1])#Obtengo el último elemento de la lista"
   ]
  },
  {
   "cell_type": "code",
   "execution_count": 105,
   "metadata": {},
   "outputs": [],
   "source": [
    "#Creando un lista vacia!\n",
    "lista_vacia = []"
   ]
  },
  {
   "cell_type": "code",
   "execution_count": 106,
   "metadata": {},
   "outputs": [],
   "source": [
    "#Agregando elementos a la lista!\n",
    "lista_vacia.append(100) #Agrego un elemento a la lista con la funcion append\n",
    "lista_vacia.append('otro elemento') #Agrego otro elemento a la lista con la funcion append"
   ]
  },
  {
   "cell_type": "code",
   "execution_count": 107,
   "metadata": {},
   "outputs": [
    {
     "name": "stdout",
     "output_type": "stream",
     "text": [
      "[100, 'otro elemento']\n",
      "2\n"
     ]
    }
   ],
   "source": [
    "#Visualicemos nuestra lista!\n",
    "print(lista_vacia)\n",
    "print(len(lista_vacia))"
   ]
  },
  {
   "cell_type": "code",
   "execution_count": 108,
   "metadata": {},
   "outputs": [
    {
     "name": "stdout",
     "output_type": "stream",
     "text": [
      "['Layla', 100, 'otro elemento']\n"
     ]
    }
   ],
   "source": [
    "#¿Cómo puedo agregar un elemento a la lista en una posicion en particular? ---> Insert!\n",
    "lista_vacia.insert(0,'Layla')\n",
    "print(lista_vacia)"
   ]
  },
  {
   "cell_type": "code",
   "execution_count": null,
   "metadata": {},
   "outputs": [],
   "source": [
    "#!/usr/bin/env python\n",
    "# coding: utf-8\n",
    "\n",
    "# # BA Emprende - Tipos de variables\n",
    "# \n",
    "\n",
    "# # Variables Numéricas\n",
    "\n",
    "# In[44]:\n",
    "\n",
    "\n",
    "#Vamos a crear nuestras primeras variables en Python\n",
    "x = 12\n",
    "\n",
    "\n",
    "# In[45]:\n",
    "\n",
    "\n",
    "x\n",
    "\n",
    "\n",
    "# In[46]:\n",
    "\n",
    "\n",
    "y = 13.5\n",
    "\n",
    "\n",
    "# In[47]:\n",
    "\n",
    "\n",
    "y\n",
    "\n",
    "\n",
    "# In[48]:\n",
    "\n",
    "\n",
    "#Visualizamos el tipo de dato de x\n",
    "type(x) \n",
    "\n",
    "\n",
    "# In[49]:\n",
    "\n",
    "\n",
    "#Visualizamos el tipo de dato de y\n",
    "type(y)\n",
    "\n",
    "\n",
    "# ## Conversión de variables numéricas\n",
    "\n",
    "# In[50]:\n",
    "\n",
    "\n",
    "x = 4.6\n",
    "y = 5.4\n",
    "\n",
    "\n",
    "# In[51]:\n",
    "\n",
    "\n",
    "#Con esta función estamos convirtiendo a la variable x en una variable de tipo int\n",
    "z = int(x)\n",
    "z\n",
    "\n",
    "\n",
    "# In[52]:\n",
    "\n",
    "\n",
    "#La función round redondea el número al valor superior más próximo\n",
    "z = round(x)\n",
    "z\n",
    "\n",
    "\n",
    "# In[53]:\n",
    "\n",
    "\n",
    "#Veamos nuevamente el tipo de dato de x\n",
    "x = 4\n",
    "type(x)\n",
    "\n",
    "\n",
    "# In[54]:\n",
    "\n",
    "\n",
    "#Convertimos en flotante\n",
    "z = float(x)\n",
    "z\n",
    "\n",
    "\n",
    "# In[55]:\n",
    "\n",
    "\n",
    "type(z)\n",
    "\n",
    "\n",
    "# ## Operadores de variables numéricas\n",
    "\n",
    "# In[56]:\n",
    "\n",
    "\n",
    "x = 17\n",
    "y = 3\n",
    "\n",
    "\n",
    "# In[57]:\n",
    "\n",
    "\n",
    "x + y \n",
    "\n",
    "\n",
    "# In[58]:\n",
    "\n",
    "\n",
    "x - y\n",
    "\n",
    "\n",
    "# In[59]:\n",
    "\n",
    "\n",
    "x * y \n",
    "\n",
    "\n",
    "# In[60]:\n",
    "\n",
    "\n",
    "x / y\n",
    "\n",
    "\n",
    "# # Variables Booleanas\n",
    "\n",
    "# In[61]:\n",
    "\n",
    "\n",
    "4 < 5\n",
    "\n",
    "\n",
    "# In[62]:\n",
    "\n",
    "\n",
    "4 > 5\n",
    "\n",
    "\n",
    "# In[63]:\n",
    "\n",
    "\n",
    "4 == 6\n",
    "\n",
    "\n",
    "# In[64]:\n",
    "\n",
    "\n",
    "x = 5\n",
    "\n",
    "\n",
    "# In[65]:\n",
    "\n",
    "\n",
    "x = True\n",
    "y = False\n",
    "\n",
    "\n",
    "# In[66]:\n",
    "\n",
    "\n",
    "x\n",
    "\n",
    "\n",
    "# In[67]:\n",
    "\n",
    "\n",
    "type(x)\n",
    "\n",
    "\n",
    "# ## Operadores de combinación de variables booleanas\n",
    "\n",
    "# In[68]:\n",
    "\n",
    "\n",
    "a = True\n",
    "b = False\n",
    "\n",
    "\n",
    "# In[70]:\n",
    "\n",
    "\n",
    "a and a\n",
    "\n",
    "\n",
    "# In[71]:\n",
    "\n",
    "\n",
    "a and b\n",
    "\n",
    "\n",
    "# In[72]:\n",
    "\n",
    "\n",
    "a or b\n",
    "\n",
    "\n",
    "# In[73]:\n",
    "\n",
    "\n",
    "b or b\n",
    "\n",
    "\n",
    "# In[74]:\n",
    "\n",
    "\n",
    "(3 < 4) and (4 < 5)\n",
    "\n",
    "\n",
    "# # Strings\n",
    "\n",
    "# In[75]:\n",
    "\n",
    "\n",
    "saludo = \"Hola mundo!\"\n",
    "saludo\n",
    "\n",
    "\n",
    "# In[76]:\n",
    "\n",
    "\n",
    "type(saludo)\n",
    "\n",
    "\n",
    "# In[78]:\n",
    "\n",
    "\n",
    "nombre = \"Layla\"\n",
    "edad = 29\n",
    "\n",
    "saludo = f\"Hola {nombre}, tu edad es {edad}\"\n",
    "saludo\n",
    "\n",
    "\n",
    "# ## Operadores de strings\n",
    "\n",
    "# In[79]:\n",
    "\n",
    "\n",
    "cadena = \"Layla\"\n",
    "\n",
    "\n",
    "# In[80]:\n",
    "\n",
    "\n",
    "cadena + \", Ingeniera en Sistemas de Información\"\n",
    "\n",
    "\n",
    "# In[81]:\n",
    "\n",
    "\n",
    "cadena * 5\n",
    "\n",
    "\n",
    "# In[82]:\n",
    "\n",
    "\n",
    "#Me indica un error porque no puedo realizar este tipo de operaciones sobre cadenas de textos\n",
    "cadena / 5 \n",
    "\n",
    "\n",
    "# ## Otros operadores de strings\n",
    "\n",
    "# In[83]:\n",
    "\n",
    "\n",
    "x = \"Real Madrid\"\n",
    "y = \"Barcelona\"\n",
    "\n",
    "\n",
    "# In[84]:\n",
    "\n",
    "\n",
    "x < y\n",
    "\n",
    "\n",
    "# In[85]:\n",
    "\n",
    "\n",
    "\"a\" < \"b\"\n",
    "\n",
    "\n",
    "# In[86]:\n",
    "\n",
    "\n",
    "\"a\" > \"A\"\n",
    "\n",
    "\n",
    "# In[87]:\n",
    "\n",
    "\n",
    "\"Brasil\" == \"Brasil\"\n",
    "\n",
    "\n",
    "# In[88]:\n",
    "\n",
    "\n",
    "\"Brasil\" == \"brasil\"\n",
    "\n",
    "\n",
    "# In[89]:\n",
    "\n",
    "\n",
    "cadena = \"Layla Scheli\"\n",
    "\n",
    "\n",
    "# In[90]:\n",
    "\n",
    "\n",
    "cadena.upper() #Convierto en mayúscula el texto\n",
    "\n",
    "\n",
    "# In[91]:\n",
    "\n",
    "\n",
    "cadena.lower() #Convierto en minúscula el texto\n",
    "\n",
    "\n",
    "# ## Ingreso de valores por el usuario\n",
    "\n",
    "# In[25]:\n",
    "\n",
    "\n",
    "input()\n",
    "\n",
    "\n",
    "# In[92]:\n",
    "\n",
    "\n",
    "nombre = input(\"Ingrese su nombre:\")\n",
    "\n",
    "\n",
    "# In[93]:\n",
    "\n",
    "\n",
    "nombre\n",
    "\n",
    "\n",
    "# In[94]:\n",
    "\n",
    "\n",
    "edad = input(\"Ingrese su edad: \")\n",
    "\n",
    "\n",
    "# In[95]:\n",
    "\n",
    "\n",
    "type(edad)\n",
    "\n",
    "\n",
    "# In[96]:\n",
    "\n",
    "\n",
    "edad = int(edad)\n",
    "type(edad)\n",
    "\n",
    "\n",
    "# In[97]:\n",
    "\n",
    "\n",
    "edad\n",
    "\n",
    "\n",
    "# ## Ejercicios con operadores\n",
    "\n",
    "# **¿Cuántos segundos hay en un día?**\n",
    "# \n",
    "# * 1 minuto tiene 60 segundos\n",
    "# * 1 hora tiene 60 minutos\n",
    "# * 1 día tiene 24 horas\n",
    "\n",
    "# In[110]:\n",
    "\n",
    "\n",
    "#Completar\n",
    "\n",
    "\n",
    "# In[111]:\n",
    "\n",
    "\n",
    "#Completar\n",
    "\n",
    "\n",
    "# **Calcular el monto a pagar por un préstamo** \n",
    "# \n",
    "# Las variables de entrada son:\n",
    "# \n",
    "# ```\n",
    "# m : monto prestado\n",
    "# n : número de meses que dura el préstamo\n",
    "# i : tasa de interés mensual\n",
    "# ```\n",
    "# \n",
    "# El monto final a pagar por el préstamo se calcula multiplicando el monto prestado por uno más el interés elevado a la candidad de meses que dura el préstamo.\n",
    "\n",
    "# <img src = \"https://latex.codecogs.com/gif.latex?%5CLARGE%20M%20%3D%20m%20*%20%281%20&plus;%20i%29%5En\">\n",
    "\n",
    "# In[100]:\n",
    "\n",
    "\n",
    "#Monto prestado\n",
    "m = 10000\n",
    "\n",
    "#Tasa de interes mensual\n",
    "i = 0.05\n",
    "\n",
    "#Numero de meses que dura el prestamo\n",
    "n = 12\n",
    "\n",
    "\n",
    "# In[113]:\n",
    "\n",
    "\n",
    "#Completar\n",
    "\n",
    "\n",
    "# ## Generación en Listas en Python\n",
    "\n",
    "# In[102]:\n",
    "\n",
    "\n",
    "lista_ejemplo = [12, 15.7, False, 'Esto es un Texto']\n",
    "print(lista_ejemplo)\n",
    "\n",
    "\n",
    "# In[103]:\n",
    "\n",
    "\n",
    "#Longitud de la Lista!\n",
    "len(lista_ejemplo)\n",
    "\n",
    "\n",
    "# In[104]:\n",
    "\n",
    "\n",
    "#Obteniendo elementos de la lista!\n",
    "print(lista_ejemplo[0]) #Obtengo el primer elemento de la lista\n",
    "print(lista_ejemplo[1]) #Obtengo el segundo elemento de la lista\n",
    "print(lista_ejemplo[2]) #Obtengo el tercer elemento de la lista\n",
    "print(lista_ejemplo[-1])#Obtengo el último elemento de la lista\n",
    "\n",
    "\n",
    "# In[105]:\n",
    "\n",
    "\n",
    "#Creando un lista vacia!\n",
    "lista_vacia = []\n",
    "\n",
    "\n",
    "# In[106]:\n",
    "\n",
    "\n",
    "#Agregando elementos a la lista!\n",
    "lista_vacia.append(100) #Agrego un elemento a la lista con la funcion append\n",
    "lista_vacia.append('otro elemento') #Agrego otro elemento a la lista con la funcion append\n",
    "\n",
    "\n",
    "# In[107]:\n",
    "\n",
    "\n",
    "#Visualicemos nuestra lista!\n",
    "print(lista_vacia)\n",
    "print(len(lista_vacia))\n",
    "\n",
    "\n",
    "# In[108]:\n",
    "\n",
    "\n",
    "#¿Cómo puedo agregar un elemento a la lista en una posicion en particular? ---> Insert!\n",
    "lista_vacia.insert(0,'Layla')\n",
    "print(lista_vacia)\n"
   ]
  }
 ],
 "metadata": {
  "colab": {
   "collapsed_sections": [],
   "name": "datahack-02-tipos-variables-operadores.ipynb",
   "provenance": []
  },
  "kernelspec": {
   "display_name": "Python 3",
   "language": "python",
   "name": "python3"
  },
  "language_info": {
   "codemirror_mode": {
    "name": "ipython",
    "version": 3
   },
   "file_extension": ".py",
   "mimetype": "text/x-python",
   "name": "python",
   "nbconvert_exporter": "python",
   "pygments_lexer": "ipython3",
   "version": "3.9.5"
  },
  "vscode": {
   "interpreter": {
    "hash": "2e242e6b8c453217117083c6680e6db82176874e34559806b32fd7417ddae620"
   }
  }
 },
 "nbformat": 4,
 "nbformat_minor": 1
}
