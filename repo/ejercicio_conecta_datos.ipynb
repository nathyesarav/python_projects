{
 "cells": [
  {
   "cell_type": "code",
   "execution_count": null,
   "id": "a4815581",
   "metadata": {},
   "outputs": [],
   "source": [
    "import pandas as pd\n",
    "import requests"
   ]
  },
  {
   "cell_type": "markdown",
   "id": "5238e888",
   "metadata": {},
   "source": [
    "Lo primero que vamos a hacer es obtener todas la \n",
    "fred/category\n",
    "https://fred.stlouisfed.org/docs/api/fred/category.html\n",
    "\n",
    "Recuerda utilizar tu propia llave o Key.  La que se usa en este ejercicio es de ejemplo y no te funcionará.\n",
    "\n",
    "En la carpeta encontrarás un pdf con todos los detalles de FRED y la forma de obtener la API Key. "
   ]
  },
  {
   "cell_type": "code",
   "execution_count": null,
   "id": "f6afe6aa",
   "metadata": {},
   "outputs": [],
   "source": [
    "llave=\"29065ca2087da38ef7ea3457d10eb3e4\""
   ]
  },
  {
   "cell_type": "markdown",
   "id": "93dcd487",
   "metadata": {},
   "source": [
    "Obtener detalle de una categoría"
   ]
  },
  {
   "cell_type": "markdown",
   "id": "a2ddb5e3",
   "metadata": {},
   "source": [
    "Obtener las categorías hijo dentro de un parent"
   ]
  },
  {
   "cell_type": "code",
   "execution_count": null,
   "id": "86ad5867",
   "metadata": {},
   "outputs": [],
   "source": [
    "Categoria = \"22\"\n",
    "responseHijos = requests.get(\"https://api.stlouisfed.org/fred/category/children?category_id=\"+Categoria+\"&api_key=\"+llave+\"&file_type=json\")\n",
    "print(responseHijos)\n"
   ]
  },
  {
   "cell_type": "code",
   "execution_count": null,
   "id": "0e409777",
   "metadata": {},
   "outputs": [],
   "source": [
    "responseHijos.json()"
   ]
  },
  {
   "cell_type": "markdown",
   "id": "e3d59a5f",
   "metadata": {},
   "source": [
    "Obtener las series de datos históricos del id 117"
   ]
  },
  {
   "cell_type": "code",
   "execution_count": null,
   "id": "74c927f2",
   "metadata": {},
   "outputs": [],
   "source": [
    "Categoria = \"117\"\n",
    "responseSeries = requests.get(\"https://api.stlouisfed.org/fred/category/series?category_id=\"+Categoria+\"&api_key=\"+llave+\"&file_type=json\")\n",
    "responseSeries\n",
    "\n"
   ]
  },
  {
   "cell_type": "code",
   "execution_count": null,
   "id": "ca64d443",
   "metadata": {},
   "outputs": [],
   "source": [
    "pd.json_normalize(responseSeries.json())\n"
   ]
  },
  {
   "cell_type": "code",
   "execution_count": null,
   "id": "d602c37c",
   "metadata": {},
   "outputs": [],
   "source": [
    "pd.json_normalize(responseSeries.json()['seriess'])"
   ]
  },
  {
   "cell_type": "code",
   "execution_count": null,
   "id": "7b1ffd41",
   "metadata": {},
   "outputs": [],
   "source": [
    "pd.json_normalize(responseSeries.json()['seriess'])"
   ]
  },
  {
   "cell_type": "markdown",
   "id": "06248ff2",
   "metadata": {},
   "source": [
    "Ejemplos para seleccionar periodos de tiempo\n",
    "\n",
    "https://api.stlouisfed.org/fred/series/observations?series_id=GNPCA&realtime_start=1776-07-04&realtime_end=9999-12-31&api_key=abcde\n",
    "https://api.stlouisfed.org/fred/series/observations?series_id=GNPCA&realtime_start=1776-07-04&api_key=abcde\n",
    "https://api.stlouisfed.org/fred/series/observations?series_id=GNPCA&realtime_end=9999-12-31&api_key=abcde"
   ]
  },
  {
   "cell_type": "code",
   "execution_count": null,
   "id": "04edd76a",
   "metadata": {},
   "outputs": [],
   "source": [
    "Serie = \"DPRIME\"\n",
    "responseDPrime = requests.get(\"https://api.stlouisfed.org/fred/series/observations?series_id=\"+Serie+\"&realtime_end=9999-12-31&api_key=\"+llave+\"&file_type=json\")\n",
    "responseDPrime"
   ]
  },
  {
   "cell_type": "code",
   "execution_count": null,
   "id": "dc5250aa",
   "metadata": {},
   "outputs": [],
   "source": [
    "pd.json_normalize(responseDPrime.json())"
   ]
  },
  {
   "cell_type": "code",
   "execution_count": null,
   "id": "0bb2d846",
   "metadata": {},
   "outputs": [],
   "source": [
    "pd.json_normalize(responseTest.json()['observations'])\n"
   ]
  },
  {
   "cell_type": "markdown",
   "id": "1f642aa4",
   "metadata": {},
   "source": [
    "https://fred.stlouisfed.org/categories"
   ]
  }
 ],
 "metadata": {
  "kernelspec": {
   "display_name": "Python 3",
   "language": "python",
   "name": "python3"
  },
  "language_info": {
   "codemirror_mode": {
    "name": "ipython",
    "version": 3
   },
   "file_extension": ".py",
   "mimetype": "text/x-python",
   "name": "python",
   "nbconvert_exporter": "python",
   "pygments_lexer": "ipython3",
   "version": "3.9.5"
  },
  "vscode": {
   "interpreter": {
    "hash": "2e242e6b8c453217117083c6680e6db82176874e34559806b32fd7417ddae620"
   }
  }
 },
 "nbformat": 4,
 "nbformat_minor": 5
}
