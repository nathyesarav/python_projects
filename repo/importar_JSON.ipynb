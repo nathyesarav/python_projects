{
 "cells": [
  {
   "cell_type": "code",
   "execution_count": 1,
   "id": "3f26506d",
   "metadata": {},
   "outputs": [],
   "source": [
    "import pandas as pd\n",
    "import json  \n",
    "from pandas.io.json import json_normalize  "
   ]
  },
  {
   "cell_type": "markdown",
   "id": "e83dc73b",
   "metadata": {},
   "source": [
    "Iniciemos con un archivo sencillo en formato JSON sin información anidada"
   ]
  },
  {
   "cell_type": "code",
   "execution_count": 2,
   "id": "c3132945",
   "metadata": {},
   "outputs": [],
   "source": [
    "ArchivoSimple = pd.read_json('simpleSample.json')"
   ]
  },
  {
   "cell_type": "code",
   "execution_count": 3,
   "id": "166e7421",
   "metadata": {},
   "outputs": [
    {
     "data": {
      "text/html": [
       "<div>\n",
       "<style scoped>\n",
       "    .dataframe tbody tr th:only-of-type {\n",
       "        vertical-align: middle;\n",
       "    }\n",
       "\n",
       "    .dataframe tbody tr th {\n",
       "        vertical-align: top;\n",
       "    }\n",
       "\n",
       "    .dataframe thead th {\n",
       "        text-align: right;\n",
       "    }\n",
       "</style>\n",
       "<table border=\"1\" class=\"dataframe\">\n",
       "  <thead>\n",
       "    <tr style=\"text-align: right;\">\n",
       "      <th></th>\n",
       "      <th>people</th>\n",
       "    </tr>\n",
       "  </thead>\n",
       "  <tbody>\n",
       "    <tr>\n",
       "      <th>0</th>\n",
       "      <td>{'firstName': 'Joe', 'lastName': 'Jackson', 'g...</td>\n",
       "    </tr>\n",
       "    <tr>\n",
       "      <th>1</th>\n",
       "      <td>{'firstName': 'James', 'lastName': 'Smith', 'g...</td>\n",
       "    </tr>\n",
       "    <tr>\n",
       "      <th>2</th>\n",
       "      <td>{'firstName': 'Emily', 'lastName': 'Jones', 'g...</td>\n",
       "    </tr>\n",
       "  </tbody>\n",
       "</table>\n",
       "</div>"
      ],
      "text/plain": [
       "                                              people\n",
       "0  {'firstName': 'Joe', 'lastName': 'Jackson', 'g...\n",
       "1  {'firstName': 'James', 'lastName': 'Smith', 'g...\n",
       "2  {'firstName': 'Emily', 'lastName': 'Jones', 'g..."
      ]
     },
     "execution_count": 3,
     "metadata": {},
     "output_type": "execute_result"
    }
   ],
   "source": [
    "ArchivoSimple"
   ]
  },
  {
   "cell_type": "code",
   "execution_count": 4,
   "id": "f537bf09",
   "metadata": {},
   "outputs": [
    {
     "data": {
      "text/plain": [
       "pandas.core.frame.DataFrame"
      ]
     },
     "execution_count": 4,
     "metadata": {},
     "output_type": "execute_result"
    }
   ],
   "source": [
    "type(ArchivoSimple)"
   ]
  },
  {
   "cell_type": "markdown",
   "id": "3e27ea0b",
   "metadata": {},
   "source": [
    "Pese a ser un DataFrame el resultado se parece más a un diccionario.\n",
    "Para obtener un DataFrame legible debemos pasarlo por la función normalize seleccionando la columna people."
   ]
  },
  {
   "cell_type": "code",
   "execution_count": 5,
   "id": "119b9776",
   "metadata": {},
   "outputs": [
    {
     "data": {
      "text/html": [
       "<div>\n",
       "<style scoped>\n",
       "    .dataframe tbody tr th:only-of-type {\n",
       "        vertical-align: middle;\n",
       "    }\n",
       "\n",
       "    .dataframe tbody tr th {\n",
       "        vertical-align: top;\n",
       "    }\n",
       "\n",
       "    .dataframe thead th {\n",
       "        text-align: right;\n",
       "    }\n",
       "</style>\n",
       "<table border=\"1\" class=\"dataframe\">\n",
       "  <thead>\n",
       "    <tr style=\"text-align: right;\">\n",
       "      <th></th>\n",
       "      <th>firstName</th>\n",
       "      <th>lastName</th>\n",
       "      <th>gender</th>\n",
       "      <th>age</th>\n",
       "      <th>number</th>\n",
       "    </tr>\n",
       "  </thead>\n",
       "  <tbody>\n",
       "    <tr>\n",
       "      <th>0</th>\n",
       "      <td>Joe</td>\n",
       "      <td>Jackson</td>\n",
       "      <td>male</td>\n",
       "      <td>28</td>\n",
       "      <td>7349282382</td>\n",
       "    </tr>\n",
       "    <tr>\n",
       "      <th>1</th>\n",
       "      <td>James</td>\n",
       "      <td>Smith</td>\n",
       "      <td>male</td>\n",
       "      <td>32</td>\n",
       "      <td>5678568567</td>\n",
       "    </tr>\n",
       "    <tr>\n",
       "      <th>2</th>\n",
       "      <td>Emily</td>\n",
       "      <td>Jones</td>\n",
       "      <td>female</td>\n",
       "      <td>24</td>\n",
       "      <td>456754675</td>\n",
       "    </tr>\n",
       "  </tbody>\n",
       "</table>\n",
       "</div>"
      ],
      "text/plain": [
       "  firstName lastName  gender  age      number\n",
       "0       Joe  Jackson    male   28  7349282382\n",
       "1     James    Smith    male   32  5678568567\n",
       "2     Emily    Jones  female   24   456754675"
      ]
     },
     "execution_count": 5,
     "metadata": {},
     "output_type": "execute_result"
    }
   ],
   "source": [
    "f = open('simpleSample.json')\n",
    "ArchivoSimple = json.load(f)\n",
    "pd.json_normalize(ArchivoSimple['people'])"
   ]
  },
  {
   "cell_type": "markdown",
   "id": "95cea103",
   "metadata": {},
   "source": [
    "Que sucede si el archivo JSON tiene información anidada.\n",
    "\n",
    "Tendremos que hacer uso de la selección de datos dentro de un dataframe para extraer lo que necesitamos."
   ]
  },
  {
   "cell_type": "markdown",
   "id": "c89e60e2",
   "metadata": {},
   "source": [
    "Que sucede si incluimos otro nivel de anidación"
   ]
  },
  {
   "cell_type": "code",
   "execution_count": 6,
   "id": "de1b72ba",
   "metadata": {},
   "outputs": [],
   "source": [
    "SuperComplex = pd.read_json('SuperComplex.json')"
   ]
  },
  {
   "cell_type": "code",
   "execution_count": 7,
   "id": "7ab57fec",
   "metadata": {},
   "outputs": [
    {
     "data": {
      "text/html": [
       "<div>\n",
       "<style scoped>\n",
       "    .dataframe tbody tr th:only-of-type {\n",
       "        vertical-align: middle;\n",
       "    }\n",
       "\n",
       "    .dataframe tbody tr th {\n",
       "        vertical-align: top;\n",
       "    }\n",
       "\n",
       "    .dataframe thead th {\n",
       "        text-align: right;\n",
       "    }\n",
       "</style>\n",
       "<table border=\"1\" class=\"dataframe\">\n",
       "  <thead>\n",
       "    <tr style=\"text-align: right;\">\n",
       "      <th></th>\n",
       "      <th>id</th>\n",
       "      <th>type</th>\n",
       "      <th>name</th>\n",
       "      <th>ppu</th>\n",
       "      <th>batters</th>\n",
       "      <th>topping</th>\n",
       "    </tr>\n",
       "  </thead>\n",
       "  <tbody>\n",
       "    <tr>\n",
       "      <th>0</th>\n",
       "      <td>1</td>\n",
       "      <td>donut</td>\n",
       "      <td>Cake</td>\n",
       "      <td>0.55</td>\n",
       "      <td>{'batter': [{'id': '1001', 'type': 'Regular'},...</td>\n",
       "      <td>[{'id': '5001', 'type': 'None'}, {'id': '5002'...</td>\n",
       "    </tr>\n",
       "    <tr>\n",
       "      <th>1</th>\n",
       "      <td>2</td>\n",
       "      <td>donut</td>\n",
       "      <td>Raised</td>\n",
       "      <td>0.55</td>\n",
       "      <td>{'batter': [{'id': '1001', 'type': 'Regular'}]}</td>\n",
       "      <td>[{'id': '5001', 'type': 'None'}, {'id': '5002'...</td>\n",
       "    </tr>\n",
       "    <tr>\n",
       "      <th>2</th>\n",
       "      <td>3</td>\n",
       "      <td>donut</td>\n",
       "      <td>Old Fashioned</td>\n",
       "      <td>0.55</td>\n",
       "      <td>{'batter': [{'id': '1001', 'type': 'Regular'},...</td>\n",
       "      <td>[{'id': '5001', 'type': 'None'}, {'id': '5002'...</td>\n",
       "    </tr>\n",
       "  </tbody>\n",
       "</table>\n",
       "</div>"
      ],
      "text/plain": [
       "   id   type           name   ppu  \\\n",
       "0   1  donut           Cake  0.55   \n",
       "1   2  donut         Raised  0.55   \n",
       "2   3  donut  Old Fashioned  0.55   \n",
       "\n",
       "                                             batters  \\\n",
       "0  {'batter': [{'id': '1001', 'type': 'Regular'},...   \n",
       "1    {'batter': [{'id': '1001', 'type': 'Regular'}]}   \n",
       "2  {'batter': [{'id': '1001', 'type': 'Regular'},...   \n",
       "\n",
       "                                             topping  \n",
       "0  [{'id': '5001', 'type': 'None'}, {'id': '5002'...  \n",
       "1  [{'id': '5001', 'type': 'None'}, {'id': '5002'...  \n",
       "2  [{'id': '5001', 'type': 'None'}, {'id': '5002'...  "
      ]
     },
     "execution_count": 7,
     "metadata": {},
     "output_type": "execute_result"
    }
   ],
   "source": [
    "SuperComplex"
   ]
  },
  {
   "cell_type": "code",
   "execution_count": 8,
   "id": "bf86da39",
   "metadata": {},
   "outputs": [
    {
     "data": {
      "text/plain": [
       "0             Cake\n",
       "1           Raised\n",
       "2    Old Fashioned\n",
       "Name: name, dtype: object"
      ]
     },
     "execution_count": 8,
     "metadata": {},
     "output_type": "execute_result"
    }
   ],
   "source": [
    "SuperComplex['name']"
   ]
  },
  {
   "cell_type": "code",
   "execution_count": 9,
   "id": "93c62a52",
   "metadata": {},
   "outputs": [
    {
     "data": {
      "text/plain": [
       "0    {'batter': [{'id': '1001', 'type': 'Regular'},...\n",
       "1      {'batter': [{'id': '1001', 'type': 'Regular'}]}\n",
       "2    {'batter': [{'id': '1001', 'type': 'Regular'},...\n",
       "Name: batters, dtype: object"
      ]
     },
     "execution_count": 9,
     "metadata": {},
     "output_type": "execute_result"
    }
   ],
   "source": [
    "SuperComplex['batters']"
   ]
  },
  {
   "cell_type": "markdown",
   "id": "5f040829",
   "metadata": {},
   "source": [
    "De nuevo tendremos que hacer uso de la función normalize para extraer información en forma de dataframe. "
   ]
  },
  {
   "cell_type": "code",
   "execution_count": 10,
   "id": "25c260bb",
   "metadata": {},
   "outputs": [],
   "source": [
    "f = open('SuperComplex.json')\n",
    "anidado = json.load(f)"
   ]
  },
  {
   "cell_type": "code",
   "execution_count": 11,
   "id": "5b85571d",
   "metadata": {},
   "outputs": [
    {
     "data": {
      "text/plain": [
       "[{'id': '0001',\n",
       "  'type': 'donut',\n",
       "  'name': 'Cake',\n",
       "  'ppu': 0.55,\n",
       "  'batters': {'batter': [{'id': '1001', 'type': 'Regular'},\n",
       "    {'id': '1002', 'type': 'Chocolate'},\n",
       "    {'id': '1003', 'type': 'Blueberry'},\n",
       "    {'id': '1004', 'type': \"Devil's Food\"}]},\n",
       "  'topping': [{'id': '5001', 'type': 'None'},\n",
       "   {'id': '5002', 'type': 'Glazed'},\n",
       "   {'id': '5005', 'type': 'Sugar'},\n",
       "   {'id': '5007', 'type': 'Powdered Sugar'},\n",
       "   {'id': '5006', 'type': 'Chocolate with Sprinkles'},\n",
       "   {'id': '5003', 'type': 'Chocolate'},\n",
       "   {'id': '5004', 'type': 'Maple'}]},\n",
       " {'id': '0002',\n",
       "  'type': 'donut',\n",
       "  'name': 'Raised',\n",
       "  'ppu': 0.55,\n",
       "  'batters': {'batter': [{'id': '1001', 'type': 'Regular'}]},\n",
       "  'topping': [{'id': '5001', 'type': 'None'},\n",
       "   {'id': '5002', 'type': 'Glazed'},\n",
       "   {'id': '5005', 'type': 'Sugar'},\n",
       "   {'id': '5003', 'type': 'Chocolate'},\n",
       "   {'id': '5004', 'type': 'Maple'}]},\n",
       " {'id': '0003',\n",
       "  'type': 'donut',\n",
       "  'name': 'Old Fashioned',\n",
       "  'ppu': 0.55,\n",
       "  'batters': {'batter': [{'id': '1001', 'type': 'Regular'},\n",
       "    {'id': '1002', 'type': 'Chocolate'}]},\n",
       "  'topping': [{'id': '5001', 'type': 'None'},\n",
       "   {'id': '5002', 'type': 'Glazed'},\n",
       "   {'id': '5003', 'type': 'Chocolate'},\n",
       "   {'id': '5004', 'type': 'Maple'}]}]"
      ]
     },
     "execution_count": 11,
     "metadata": {},
     "output_type": "execute_result"
    }
   ],
   "source": [
    "anidado"
   ]
  },
  {
   "cell_type": "code",
   "execution_count": 12,
   "id": "79bae22e",
   "metadata": {},
   "outputs": [],
   "source": [
    "anidadoCompleto = pd.json_normalize(anidado)"
   ]
  },
  {
   "cell_type": "code",
   "execution_count": 13,
   "id": "32e21833",
   "metadata": {},
   "outputs": [
    {
     "data": {
      "text/html": [
       "<div>\n",
       "<style scoped>\n",
       "    .dataframe tbody tr th:only-of-type {\n",
       "        vertical-align: middle;\n",
       "    }\n",
       "\n",
       "    .dataframe tbody tr th {\n",
       "        vertical-align: top;\n",
       "    }\n",
       "\n",
       "    .dataframe thead th {\n",
       "        text-align: right;\n",
       "    }\n",
       "</style>\n",
       "<table border=\"1\" class=\"dataframe\">\n",
       "  <thead>\n",
       "    <tr style=\"text-align: right;\">\n",
       "      <th></th>\n",
       "      <th>id</th>\n",
       "      <th>type</th>\n",
       "      <th>name</th>\n",
       "      <th>ppu</th>\n",
       "      <th>topping</th>\n",
       "      <th>batters.batter</th>\n",
       "    </tr>\n",
       "  </thead>\n",
       "  <tbody>\n",
       "    <tr>\n",
       "      <th>0</th>\n",
       "      <td>0001</td>\n",
       "      <td>donut</td>\n",
       "      <td>Cake</td>\n",
       "      <td>0.55</td>\n",
       "      <td>[{'id': '5001', 'type': 'None'}, {'id': '5002'...</td>\n",
       "      <td>[{'id': '1001', 'type': 'Regular'}, {'id': '10...</td>\n",
       "    </tr>\n",
       "    <tr>\n",
       "      <th>1</th>\n",
       "      <td>0002</td>\n",
       "      <td>donut</td>\n",
       "      <td>Raised</td>\n",
       "      <td>0.55</td>\n",
       "      <td>[{'id': '5001', 'type': 'None'}, {'id': '5002'...</td>\n",
       "      <td>[{'id': '1001', 'type': 'Regular'}]</td>\n",
       "    </tr>\n",
       "    <tr>\n",
       "      <th>2</th>\n",
       "      <td>0003</td>\n",
       "      <td>donut</td>\n",
       "      <td>Old Fashioned</td>\n",
       "      <td>0.55</td>\n",
       "      <td>[{'id': '5001', 'type': 'None'}, {'id': '5002'...</td>\n",
       "      <td>[{'id': '1001', 'type': 'Regular'}, {'id': '10...</td>\n",
       "    </tr>\n",
       "  </tbody>\n",
       "</table>\n",
       "</div>"
      ],
      "text/plain": [
       "     id   type           name   ppu  \\\n",
       "0  0001  donut           Cake  0.55   \n",
       "1  0002  donut         Raised  0.55   \n",
       "2  0003  donut  Old Fashioned  0.55   \n",
       "\n",
       "                                             topping  \\\n",
       "0  [{'id': '5001', 'type': 'None'}, {'id': '5002'...   \n",
       "1  [{'id': '5001', 'type': 'None'}, {'id': '5002'...   \n",
       "2  [{'id': '5001', 'type': 'None'}, {'id': '5002'...   \n",
       "\n",
       "                                      batters.batter  \n",
       "0  [{'id': '1001', 'type': 'Regular'}, {'id': '10...  \n",
       "1                [{'id': '1001', 'type': 'Regular'}]  \n",
       "2  [{'id': '1001', 'type': 'Regular'}, {'id': '10...  "
      ]
     },
     "execution_count": 13,
     "metadata": {},
     "output_type": "execute_result"
    }
   ],
   "source": [
    "anidadoCompleto"
   ]
  },
  {
   "cell_type": "code",
   "execution_count": 14,
   "id": "ae1b1f7f",
   "metadata": {},
   "outputs": [],
   "source": [
    "topping = pd.json_normalize(anidado,record_path ='topping')"
   ]
  },
  {
   "cell_type": "code",
   "execution_count": 15,
   "id": "74279bb9",
   "metadata": {},
   "outputs": [
    {
     "data": {
      "text/html": [
       "<div>\n",
       "<style scoped>\n",
       "    .dataframe tbody tr th:only-of-type {\n",
       "        vertical-align: middle;\n",
       "    }\n",
       "\n",
       "    .dataframe tbody tr th {\n",
       "        vertical-align: top;\n",
       "    }\n",
       "\n",
       "    .dataframe thead th {\n",
       "        text-align: right;\n",
       "    }\n",
       "</style>\n",
       "<table border=\"1\" class=\"dataframe\">\n",
       "  <thead>\n",
       "    <tr style=\"text-align: right;\">\n",
       "      <th></th>\n",
       "      <th>id</th>\n",
       "      <th>type</th>\n",
       "    </tr>\n",
       "  </thead>\n",
       "  <tbody>\n",
       "    <tr>\n",
       "      <th>0</th>\n",
       "      <td>5001</td>\n",
       "      <td>None</td>\n",
       "    </tr>\n",
       "    <tr>\n",
       "      <th>1</th>\n",
       "      <td>5002</td>\n",
       "      <td>Glazed</td>\n",
       "    </tr>\n",
       "    <tr>\n",
       "      <th>2</th>\n",
       "      <td>5005</td>\n",
       "      <td>Sugar</td>\n",
       "    </tr>\n",
       "    <tr>\n",
       "      <th>3</th>\n",
       "      <td>5007</td>\n",
       "      <td>Powdered Sugar</td>\n",
       "    </tr>\n",
       "    <tr>\n",
       "      <th>4</th>\n",
       "      <td>5006</td>\n",
       "      <td>Chocolate with Sprinkles</td>\n",
       "    </tr>\n",
       "    <tr>\n",
       "      <th>5</th>\n",
       "      <td>5003</td>\n",
       "      <td>Chocolate</td>\n",
       "    </tr>\n",
       "    <tr>\n",
       "      <th>6</th>\n",
       "      <td>5004</td>\n",
       "      <td>Maple</td>\n",
       "    </tr>\n",
       "    <tr>\n",
       "      <th>7</th>\n",
       "      <td>5001</td>\n",
       "      <td>None</td>\n",
       "    </tr>\n",
       "    <tr>\n",
       "      <th>8</th>\n",
       "      <td>5002</td>\n",
       "      <td>Glazed</td>\n",
       "    </tr>\n",
       "    <tr>\n",
       "      <th>9</th>\n",
       "      <td>5005</td>\n",
       "      <td>Sugar</td>\n",
       "    </tr>\n",
       "    <tr>\n",
       "      <th>10</th>\n",
       "      <td>5003</td>\n",
       "      <td>Chocolate</td>\n",
       "    </tr>\n",
       "    <tr>\n",
       "      <th>11</th>\n",
       "      <td>5004</td>\n",
       "      <td>Maple</td>\n",
       "    </tr>\n",
       "    <tr>\n",
       "      <th>12</th>\n",
       "      <td>5001</td>\n",
       "      <td>None</td>\n",
       "    </tr>\n",
       "    <tr>\n",
       "      <th>13</th>\n",
       "      <td>5002</td>\n",
       "      <td>Glazed</td>\n",
       "    </tr>\n",
       "    <tr>\n",
       "      <th>14</th>\n",
       "      <td>5003</td>\n",
       "      <td>Chocolate</td>\n",
       "    </tr>\n",
       "    <tr>\n",
       "      <th>15</th>\n",
       "      <td>5004</td>\n",
       "      <td>Maple</td>\n",
       "    </tr>\n",
       "  </tbody>\n",
       "</table>\n",
       "</div>"
      ],
      "text/plain": [
       "      id                      type\n",
       "0   5001                      None\n",
       "1   5002                    Glazed\n",
       "2   5005                     Sugar\n",
       "3   5007            Powdered Sugar\n",
       "4   5006  Chocolate with Sprinkles\n",
       "5   5003                 Chocolate\n",
       "6   5004                     Maple\n",
       "7   5001                      None\n",
       "8   5002                    Glazed\n",
       "9   5005                     Sugar\n",
       "10  5003                 Chocolate\n",
       "11  5004                     Maple\n",
       "12  5001                      None\n",
       "13  5002                    Glazed\n",
       "14  5003                 Chocolate\n",
       "15  5004                     Maple"
      ]
     },
     "execution_count": 15,
     "metadata": {},
     "output_type": "execute_result"
    }
   ],
   "source": [
    "topping"
   ]
  }
 ],
 "metadata": {
  "kernelspec": {
   "display_name": "Python 3",
   "language": "python",
   "name": "python3"
  },
  "language_info": {
   "codemirror_mode": {
    "name": "ipython",
    "version": 3
   },
   "file_extension": ".py",
   "mimetype": "text/x-python",
   "name": "python",
   "nbconvert_exporter": "python",
   "pygments_lexer": "ipython3",
   "version": "3.9.5"
  },
  "vscode": {
   "interpreter": {
    "hash": "2e242e6b8c453217117083c6680e6db82176874e34559806b32fd7417ddae620"
   }
  }
 },
 "nbformat": 4,
 "nbformat_minor": 5
}
