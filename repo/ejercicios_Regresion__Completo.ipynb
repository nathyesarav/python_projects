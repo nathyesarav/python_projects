{
 "cells": [
  {
   "cell_type": "markdown",
   "metadata": {
    "colab_type": "text",
    "id": "38tA-ErIC4OD"
   },
   "source": [
    "### WorkShop: Regresión Lineal en Scikit-Learn\n",
    "\n",
    "**Resolución**: EDA (Análisis Exploratorio de Datos)"
   ]
  },
  {
   "cell_type": "code",
   "execution_count": 4,
   "metadata": {
    "colab": {},
    "colab_type": "code",
    "id": "fCGVacN5C4OM"
   },
   "outputs": [],
   "source": [
    "#Punto 1)\n",
    "import pandas as pd\n",
    "import numpy as np\n",
    "import matplotlib.pyplot as plt\n",
    "\n",
    "dp = pd.read_csv(\"ds_properties.csv\", sep = \",\")"
   ]
  },
  {
   "cell_type": "code",
   "execution_count": 5,
   "metadata": {
    "colab": {},
    "colab_type": "code",
    "id": "YL2eAd_tC4Oa"
   },
   "outputs": [
    {
     "data": {
      "text/html": [
       "<div>\n",
       "<style scoped>\n",
       "    .dataframe tbody tr th:only-of-type {\n",
       "        vertical-align: middle;\n",
       "    }\n",
       "\n",
       "    .dataframe tbody tr th {\n",
       "        vertical-align: top;\n",
       "    }\n",
       "\n",
       "    .dataframe thead th {\n",
       "        text-align: right;\n",
       "    }\n",
       "</style>\n",
       "<table border=\"1\" class=\"dataframe\">\n",
       "  <thead>\n",
       "    <tr style=\"text-align: right;\">\n",
       "      <th></th>\n",
       "      <th>id</th>\n",
       "      <th>ad_type</th>\n",
       "      <th>start_date</th>\n",
       "      <th>end_date</th>\n",
       "      <th>created_on</th>\n",
       "      <th>lat</th>\n",
       "      <th>lon</th>\n",
       "      <th>l1</th>\n",
       "      <th>l2</th>\n",
       "      <th>l3</th>\n",
       "      <th>...</th>\n",
       "      <th>bathrooms</th>\n",
       "      <th>surface_total</th>\n",
       "      <th>surface_covered</th>\n",
       "      <th>price</th>\n",
       "      <th>currency</th>\n",
       "      <th>price_period</th>\n",
       "      <th>title</th>\n",
       "      <th>description</th>\n",
       "      <th>property_type</th>\n",
       "      <th>operation_type</th>\n",
       "    </tr>\n",
       "  </thead>\n",
       "  <tbody>\n",
       "    <tr>\n",
       "      <th>0</th>\n",
       "      <td>b7fct9uUcMUUrHyEOX1Lkg==</td>\n",
       "      <td>Propiedad</td>\n",
       "      <td>2020-08-30</td>\n",
       "      <td>2020-11-08</td>\n",
       "      <td>2020-08-30</td>\n",
       "      <td>NaN</td>\n",
       "      <td>NaN</td>\n",
       "      <td>Argentina</td>\n",
       "      <td>Bs.As. G.B.A. Zona Norte</td>\n",
       "      <td>San Isidro</td>\n",
       "      <td>...</td>\n",
       "      <td>2.0</td>\n",
       "      <td>116.0</td>\n",
       "      <td>79.0</td>\n",
       "      <td>258000.0</td>\n",
       "      <td>USD</td>\n",
       "      <td>NaN</td>\n",
       "      <td>PH 116m² con Plantas en DIAZ, Juan José 500, S...</td>\n",
       "      <td>PH APTO PROFESIONAL en el centro de San Isidro...</td>\n",
       "      <td>PH</td>\n",
       "      <td>Venta</td>\n",
       "    </tr>\n",
       "    <tr>\n",
       "      <th>1</th>\n",
       "      <td>1Q7lCgAnFYZQxiX+ctRQ4g==</td>\n",
       "      <td>Propiedad</td>\n",
       "      <td>2020-08-30</td>\n",
       "      <td>2020-10-15</td>\n",
       "      <td>2020-08-30</td>\n",
       "      <td>-32.702893</td>\n",
       "      <td>-62.117762</td>\n",
       "      <td>Argentina</td>\n",
       "      <td>Córdoba</td>\n",
       "      <td>NaN</td>\n",
       "      <td>...</td>\n",
       "      <td>1.0</td>\n",
       "      <td>NaN</td>\n",
       "      <td>NaN</td>\n",
       "      <td>30000.0</td>\n",
       "      <td>USD</td>\n",
       "      <td>NaN</td>\n",
       "      <td>Casa a Estrenar! Venta (Marcos Juárez)</td>\n",
       "      <td>Casa muy linda a estrenar en Barrio Sur de Mar...</td>\n",
       "      <td>Casa</td>\n",
       "      <td>Venta</td>\n",
       "    </tr>\n",
       "    <tr>\n",
       "      <th>2</th>\n",
       "      <td>86Rg2vz5oXvnmXTLJ71KFw==</td>\n",
       "      <td>Propiedad</td>\n",
       "      <td>2020-08-30</td>\n",
       "      <td>2020-09-15</td>\n",
       "      <td>2020-08-30</td>\n",
       "      <td>NaN</td>\n",
       "      <td>NaN</td>\n",
       "      <td>Argentina</td>\n",
       "      <td>Bs.As. G.B.A. Zona Norte</td>\n",
       "      <td>Pilar</td>\n",
       "      <td>...</td>\n",
       "      <td>3.0</td>\n",
       "      <td>270.0</td>\n",
       "      <td>230.0</td>\n",
       "      <td>4200.0</td>\n",
       "      <td>USD</td>\n",
       "      <td>NaN</td>\n",
       "      <td>Alquiler Temporario mes Enero 2021, Los Tacos</td>\n",
       "      <td>LINDISIMA CASA EN DOS PLANTASSOBRE LOTE DE 800...</td>\n",
       "      <td>Casa</td>\n",
       "      <td>Alquiler temporal</td>\n",
       "    </tr>\n",
       "    <tr>\n",
       "      <th>3</th>\n",
       "      <td>3NOTk1npDhrpmVz+KZHELQ==</td>\n",
       "      <td>Propiedad</td>\n",
       "      <td>2020-08-30</td>\n",
       "      <td>2020-09-14</td>\n",
       "      <td>2020-08-30</td>\n",
       "      <td>-34.491092</td>\n",
       "      <td>-58.996972</td>\n",
       "      <td>Argentina</td>\n",
       "      <td>Bs.As. G.B.A. Zona Norte</td>\n",
       "      <td>Pilar</td>\n",
       "      <td>...</td>\n",
       "      <td>3.0</td>\n",
       "      <td>185.0</td>\n",
       "      <td>152.0</td>\n",
       "      <td>170000.0</td>\n",
       "      <td>USD</td>\n",
       "      <td>NaN</td>\n",
       "      <td>GRAN OPORTUNIDAD CASA EN VENTA, ESTANCIAS DEL ...</td>\n",
       "      <td>HERMOSA CASA- 670 M2 SUP. TERRENO- 151 M2 SUP....</td>\n",
       "      <td>Casa</td>\n",
       "      <td>Venta</td>\n",
       "    </tr>\n",
       "    <tr>\n",
       "      <th>4</th>\n",
       "      <td>aUE8HS04ZvqEBTqegVxV8A==</td>\n",
       "      <td>Propiedad</td>\n",
       "      <td>2020-08-30</td>\n",
       "      <td>2020-12-03</td>\n",
       "      <td>2020-08-30</td>\n",
       "      <td>-34.426196</td>\n",
       "      <td>-58.790270</td>\n",
       "      <td>Argentina</td>\n",
       "      <td>Bs.As. G.B.A. Zona Norte</td>\n",
       "      <td>Pilar</td>\n",
       "      <td>...</td>\n",
       "      <td>4.0</td>\n",
       "      <td>515.0</td>\n",
       "      <td>448.0</td>\n",
       "      <td>590000.0</td>\n",
       "      <td>USD</td>\n",
       "      <td>NaN</td>\n",
       "      <td>MUY LINDA PROPIEDAD DENTRO DE HIGHLAND PARK CO...</td>\n",
       "      <td>Excelente casa, edificada sobre dos plantas, d...</td>\n",
       "      <td>Casa</td>\n",
       "      <td>Venta</td>\n",
       "    </tr>\n",
       "  </tbody>\n",
       "</table>\n",
       "<p>5 rows × 25 columns</p>\n",
       "</div>"
      ],
      "text/plain": [
       "                         id    ad_type  start_date    end_date  created_on  \\\n",
       "0  b7fct9uUcMUUrHyEOX1Lkg==  Propiedad  2020-08-30  2020-11-08  2020-08-30   \n",
       "1  1Q7lCgAnFYZQxiX+ctRQ4g==  Propiedad  2020-08-30  2020-10-15  2020-08-30   \n",
       "2  86Rg2vz5oXvnmXTLJ71KFw==  Propiedad  2020-08-30  2020-09-15  2020-08-30   \n",
       "3  3NOTk1npDhrpmVz+KZHELQ==  Propiedad  2020-08-30  2020-09-14  2020-08-30   \n",
       "4  aUE8HS04ZvqEBTqegVxV8A==  Propiedad  2020-08-30  2020-12-03  2020-08-30   \n",
       "\n",
       "         lat        lon         l1                        l2          l3  ...  \\\n",
       "0        NaN        NaN  Argentina  Bs.As. G.B.A. Zona Norte  San Isidro  ...   \n",
       "1 -32.702893 -62.117762  Argentina                   Córdoba         NaN  ...   \n",
       "2        NaN        NaN  Argentina  Bs.As. G.B.A. Zona Norte       Pilar  ...   \n",
       "3 -34.491092 -58.996972  Argentina  Bs.As. G.B.A. Zona Norte       Pilar  ...   \n",
       "4 -34.426196 -58.790270  Argentina  Bs.As. G.B.A. Zona Norte       Pilar  ...   \n",
       "\n",
       "  bathrooms surface_total  surface_covered     price  currency  price_period  \\\n",
       "0       2.0         116.0             79.0  258000.0       USD           NaN   \n",
       "1       1.0           NaN              NaN   30000.0       USD           NaN   \n",
       "2       3.0         270.0            230.0    4200.0       USD           NaN   \n",
       "3       3.0         185.0            152.0  170000.0       USD           NaN   \n",
       "4       4.0         515.0            448.0  590000.0       USD           NaN   \n",
       "\n",
       "                                               title  \\\n",
       "0  PH 116m² con Plantas en DIAZ, Juan José 500, S...   \n",
       "1             Casa a Estrenar! Venta (Marcos Juárez)   \n",
       "2      Alquiler Temporario mes Enero 2021, Los Tacos   \n",
       "3  GRAN OPORTUNIDAD CASA EN VENTA, ESTANCIAS DEL ...   \n",
       "4  MUY LINDA PROPIEDAD DENTRO DE HIGHLAND PARK CO...   \n",
       "\n",
       "                                         description  property_type  \\\n",
       "0  PH APTO PROFESIONAL en el centro de San Isidro...             PH   \n",
       "1  Casa muy linda a estrenar en Barrio Sur de Mar...           Casa   \n",
       "2  LINDISIMA CASA EN DOS PLANTASSOBRE LOTE DE 800...           Casa   \n",
       "3  HERMOSA CASA- 670 M2 SUP. TERRENO- 151 M2 SUP....           Casa   \n",
       "4  Excelente casa, edificada sobre dos plantas, d...           Casa   \n",
       "\n",
       "      operation_type  \n",
       "0              Venta  \n",
       "1              Venta  \n",
       "2  Alquiler temporal  \n",
       "3              Venta  \n",
       "4              Venta  \n",
       "\n",
       "[5 rows x 25 columns]"
      ]
     },
     "execution_count": 5,
     "metadata": {},
     "output_type": "execute_result"
    }
   ],
   "source": [
    "#Punto 2)\n",
    "dp.head(5)"
   ]
  },
  {
   "cell_type": "code",
   "execution_count": 6,
   "metadata": {
    "colab": {},
    "colab_type": "code",
    "id": "1QletBbgC4Oi"
   },
   "outputs": [
    {
     "data": {
      "text/html": [
       "<div>\n",
       "<style scoped>\n",
       "    .dataframe tbody tr th:only-of-type {\n",
       "        vertical-align: middle;\n",
       "    }\n",
       "\n",
       "    .dataframe tbody tr th {\n",
       "        vertical-align: top;\n",
       "    }\n",
       "\n",
       "    .dataframe thead th {\n",
       "        text-align: right;\n",
       "    }\n",
       "</style>\n",
       "<table border=\"1\" class=\"dataframe\">\n",
       "  <thead>\n",
       "    <tr style=\"text-align: right;\">\n",
       "      <th></th>\n",
       "      <th>id</th>\n",
       "      <th>ad_type</th>\n",
       "      <th>start_date</th>\n",
       "      <th>end_date</th>\n",
       "      <th>created_on</th>\n",
       "      <th>lat</th>\n",
       "      <th>lon</th>\n",
       "      <th>l1</th>\n",
       "      <th>l2</th>\n",
       "      <th>l3</th>\n",
       "      <th>...</th>\n",
       "      <th>bathrooms</th>\n",
       "      <th>surface_total</th>\n",
       "      <th>surface_covered</th>\n",
       "      <th>price</th>\n",
       "      <th>currency</th>\n",
       "      <th>price_period</th>\n",
       "      <th>title</th>\n",
       "      <th>description</th>\n",
       "      <th>property_type</th>\n",
       "      <th>operation_type</th>\n",
       "    </tr>\n",
       "  </thead>\n",
       "  <tbody>\n",
       "    <tr>\n",
       "      <th>999995</th>\n",
       "      <td>tuBbluNzaSBmNqEaTNSebQ==</td>\n",
       "      <td>Propiedad</td>\n",
       "      <td>2020-07-24</td>\n",
       "      <td>2020-09-04</td>\n",
       "      <td>2020-07-24</td>\n",
       "      <td>-31.442257</td>\n",
       "      <td>-64.180829</td>\n",
       "      <td>Argentina</td>\n",
       "      <td>Córdoba</td>\n",
       "      <td>Santa María</td>\n",
       "      <td>...</td>\n",
       "      <td>3.0</td>\n",
       "      <td>NaN</td>\n",
       "      <td>NaN</td>\n",
       "      <td>279000.0</td>\n",
       "      <td>USD</td>\n",
       "      <td>NaN</td>\n",
       "      <td>OPORTUNIDAD CAMPO LOMA ALTA CASA Y PILETA 34 HA</td>\n",
       "      <td>Corredor Responsable: Carlos Borra - CPCPI 490...</td>\n",
       "      <td>Otro</td>\n",
       "      <td>Venta</td>\n",
       "    </tr>\n",
       "    <tr>\n",
       "      <th>999996</th>\n",
       "      <td>Vg+uJS9CzXuT199fZy7mfg==</td>\n",
       "      <td>Propiedad</td>\n",
       "      <td>2020-07-24</td>\n",
       "      <td>2020-10-25</td>\n",
       "      <td>2020-07-24</td>\n",
       "      <td>NaN</td>\n",
       "      <td>NaN</td>\n",
       "      <td>Argentina</td>\n",
       "      <td>Bs.As. G.B.A. Zona Norte</td>\n",
       "      <td>Pilar</td>\n",
       "      <td>...</td>\n",
       "      <td>10.0</td>\n",
       "      <td>636.0</td>\n",
       "      <td>434.0</td>\n",
       "      <td>575000.0</td>\n",
       "      <td>USD</td>\n",
       "      <td>Mensual</td>\n",
       "      <td>Casa - Cuba Country V. De Mayo</td>\n",
       "      <td>CUBA.¡¡¡OPORTUNIDAD!!!!!!! CASA EN ESQUINA, SO...</td>\n",
       "      <td>Casa</td>\n",
       "      <td>Venta</td>\n",
       "    </tr>\n",
       "    <tr>\n",
       "      <th>999997</th>\n",
       "      <td>L6ixTTkQJXmAV8nIe8H5fw==</td>\n",
       "      <td>Propiedad</td>\n",
       "      <td>2020-07-24</td>\n",
       "      <td>2020-07-29</td>\n",
       "      <td>2020-07-24</td>\n",
       "      <td>-34.893663</td>\n",
       "      <td>-56.133960</td>\n",
       "      <td>Uruguay</td>\n",
       "      <td>Montevideo</td>\n",
       "      <td>NaN</td>\n",
       "      <td>...</td>\n",
       "      <td>2.0</td>\n",
       "      <td>136.0</td>\n",
       "      <td>72.0</td>\n",
       "      <td>26000.0</td>\n",
       "      <td>UYU</td>\n",
       "      <td>Mensual</td>\n",
       "      <td>Apartamento en Alquiler 2 Dormitorios  - Parqu...</td>\n",
       "      <td>Apartamento en Alquiler 2 Dormitorios Parque B...</td>\n",
       "      <td>Departamento</td>\n",
       "      <td>Alquiler</td>\n",
       "    </tr>\n",
       "    <tr>\n",
       "      <th>999998</th>\n",
       "      <td>pnSQZe+Ry2mT/1bunLsuwQ==</td>\n",
       "      <td>Propiedad</td>\n",
       "      <td>2020-07-24</td>\n",
       "      <td>2020-10-25</td>\n",
       "      <td>2020-07-24</td>\n",
       "      <td>-34.906331</td>\n",
       "      <td>-56.151195</td>\n",
       "      <td>Uruguay</td>\n",
       "      <td>Montevideo</td>\n",
       "      <td>Pocitos</td>\n",
       "      <td>...</td>\n",
       "      <td>1.0</td>\n",
       "      <td>21.0</td>\n",
       "      <td>21.0</td>\n",
       "      <td>15000.0</td>\n",
       "      <td>UYU</td>\n",
       "      <td>Mensual</td>\n",
       "      <td>Local Comercial | Excelente punto | Pocitos</td>\n",
       "      <td>¡OPORTUNIDAD! Moderno local en excelente punto...</td>\n",
       "      <td>Local comercial</td>\n",
       "      <td>Alquiler</td>\n",
       "    </tr>\n",
       "    <tr>\n",
       "      <th>999999</th>\n",
       "      <td>pM0sD5EnV0RWDndAveZuSQ==</td>\n",
       "      <td>Propiedad</td>\n",
       "      <td>2020-07-24</td>\n",
       "      <td>2020-08-05</td>\n",
       "      <td>2020-07-24</td>\n",
       "      <td>-33.961628</td>\n",
       "      <td>-58.334617</td>\n",
       "      <td>Uruguay</td>\n",
       "      <td>Colonia</td>\n",
       "      <td>Carmelo</td>\n",
       "      <td>...</td>\n",
       "      <td>1.0</td>\n",
       "      <td>NaN</td>\n",
       "      <td>NaN</td>\n",
       "      <td>7800.0</td>\n",
       "      <td>UYU</td>\n",
       "      <td>Mensual</td>\n",
       "      <td>Casa - Zagarzazu</td>\n",
       "      <td>ALQUILER-&lt;br&gt;&lt;br&gt;Casa totalmente amoblada.&lt;br&gt;...</td>\n",
       "      <td>Casa</td>\n",
       "      <td>Alquiler</td>\n",
       "    </tr>\n",
       "  </tbody>\n",
       "</table>\n",
       "<p>5 rows × 25 columns</p>\n",
       "</div>"
      ],
      "text/plain": [
       "                              id    ad_type  start_date    end_date  \\\n",
       "999995  tuBbluNzaSBmNqEaTNSebQ==  Propiedad  2020-07-24  2020-09-04   \n",
       "999996  Vg+uJS9CzXuT199fZy7mfg==  Propiedad  2020-07-24  2020-10-25   \n",
       "999997  L6ixTTkQJXmAV8nIe8H5fw==  Propiedad  2020-07-24  2020-07-29   \n",
       "999998  pnSQZe+Ry2mT/1bunLsuwQ==  Propiedad  2020-07-24  2020-10-25   \n",
       "999999  pM0sD5EnV0RWDndAveZuSQ==  Propiedad  2020-07-24  2020-08-05   \n",
       "\n",
       "        created_on        lat        lon         l1                        l2  \\\n",
       "999995  2020-07-24 -31.442257 -64.180829  Argentina                   Córdoba   \n",
       "999996  2020-07-24        NaN        NaN  Argentina  Bs.As. G.B.A. Zona Norte   \n",
       "999997  2020-07-24 -34.893663 -56.133960    Uruguay                Montevideo   \n",
       "999998  2020-07-24 -34.906331 -56.151195    Uruguay                Montevideo   \n",
       "999999  2020-07-24 -33.961628 -58.334617    Uruguay                   Colonia   \n",
       "\n",
       "                 l3  ... bathrooms surface_total  surface_covered     price  \\\n",
       "999995  Santa María  ...       3.0           NaN              NaN  279000.0   \n",
       "999996        Pilar  ...      10.0         636.0            434.0  575000.0   \n",
       "999997          NaN  ...       2.0         136.0             72.0   26000.0   \n",
       "999998      Pocitos  ...       1.0          21.0             21.0   15000.0   \n",
       "999999      Carmelo  ...       1.0           NaN              NaN    7800.0   \n",
       "\n",
       "        currency  price_period  \\\n",
       "999995       USD           NaN   \n",
       "999996       USD       Mensual   \n",
       "999997       UYU       Mensual   \n",
       "999998       UYU       Mensual   \n",
       "999999       UYU       Mensual   \n",
       "\n",
       "                                                    title  \\\n",
       "999995    OPORTUNIDAD CAMPO LOMA ALTA CASA Y PILETA 34 HA   \n",
       "999996                     Casa - Cuba Country V. De Mayo   \n",
       "999997  Apartamento en Alquiler 2 Dormitorios  - Parqu...   \n",
       "999998        Local Comercial | Excelente punto | Pocitos   \n",
       "999999                                   Casa - Zagarzazu   \n",
       "\n",
       "                                              description    property_type  \\\n",
       "999995  Corredor Responsable: Carlos Borra - CPCPI 490...             Otro   \n",
       "999996  CUBA.¡¡¡OPORTUNIDAD!!!!!!! CASA EN ESQUINA, SO...             Casa   \n",
       "999997  Apartamento en Alquiler 2 Dormitorios Parque B...     Departamento   \n",
       "999998  ¡OPORTUNIDAD! Moderno local en excelente punto...  Local comercial   \n",
       "999999  ALQUILER-<br><br>Casa totalmente amoblada.<br>...             Casa   \n",
       "\n",
       "       operation_type  \n",
       "999995          Venta  \n",
       "999996          Venta  \n",
       "999997       Alquiler  \n",
       "999998       Alquiler  \n",
       "999999       Alquiler  \n",
       "\n",
       "[5 rows x 25 columns]"
      ]
     },
     "execution_count": 6,
     "metadata": {},
     "output_type": "execute_result"
    }
   ],
   "source": [
    "#Punto 3)\n",
    "dp.tail(5)"
   ]
  },
  {
   "cell_type": "code",
   "execution_count": 7,
   "metadata": {},
   "outputs": [
    {
     "name": "stdout",
     "output_type": "stream",
     "text": [
      "(1000000, 25)\n"
     ]
    }
   ],
   "source": [
    "#Punto 4)\n",
    "print(dp.shape)"
   ]
  },
  {
   "cell_type": "code",
   "execution_count": 8,
   "metadata": {},
   "outputs": [
    {
     "data": {
      "text/plain": [
       "id                 1000000\n",
       "ad_type            1000000\n",
       "start_date         1000000\n",
       "end_date           1000000\n",
       "created_on         1000000\n",
       "lat                 870731\n",
       "lon                 870335\n",
       "l1                 1000000\n",
       "l2                 1000000\n",
       "l3                  960392\n",
       "l4                  272230\n",
       "l5                    5767\n",
       "l6                       0\n",
       "rooms               622859\n",
       "bedrooms            575393\n",
       "bathrooms           772133\n",
       "surface_total       418611\n",
       "surface_covered     423374\n",
       "price               959502\n",
       "currency            957996\n",
       "price_period        394188\n",
       "title              1000000\n",
       "description         999967\n",
       "property_type      1000000\n",
       "operation_type     1000000\n",
       "dtype: int64"
      ]
     },
     "execution_count": 8,
     "metadata": {},
     "output_type": "execute_result"
    }
   ],
   "source": [
    "#Punto 5)\n",
    "dp.count()"
   ]
  },
  {
   "cell_type": "code",
   "execution_count": 12,
   "metadata": {},
   "outputs": [
    {
     "data": {
      "text/plain": [
       "id                       0\n",
       "ad_type                  0\n",
       "start_date               0\n",
       "end_date                 0\n",
       "created_on               0\n",
       "lat                 129269\n",
       "lon                 129665\n",
       "l1                       0\n",
       "l2                       0\n",
       "l3                   39608\n",
       "l4                  727770\n",
       "l5                  994233\n",
       "l6                 1000000\n",
       "rooms               377141\n",
       "bedrooms            424607\n",
       "bathrooms           227867\n",
       "surface_total       581389\n",
       "surface_covered     576626\n",
       "price                40498\n",
       "currency             42004\n",
       "price_period        605812\n",
       "title                    0\n",
       "description             33\n",
       "property_type            0\n",
       "operation_type           0\n",
       "dtype: int64"
      ]
     },
     "execution_count": 12,
     "metadata": {},
     "output_type": "execute_result"
    }
   ],
   "source": [
    "dp.isnull().sum()"
   ]
  },
  {
   "cell_type": "code",
   "execution_count": 13,
   "metadata": {},
   "outputs": [],
   "source": [
    "dp = dp.drop(['id','description'], axis=1)\n"
   ]
  },
  {
   "cell_type": "code",
   "execution_count": 14,
   "metadata": {},
   "outputs": [
    {
     "data": {
      "text/plain": [
       "ad_type             object\n",
       "start_date          object\n",
       "end_date            object\n",
       "created_on          object\n",
       "lat                float64\n",
       "lon                float64\n",
       "l1                  object\n",
       "l2                  object\n",
       "l3                  object\n",
       "l4                  object\n",
       "l5                  object\n",
       "l6                 float64\n",
       "rooms              float64\n",
       "bedrooms           float64\n",
       "bathrooms          float64\n",
       "surface_total      float64\n",
       "surface_covered    float64\n",
       "price              float64\n",
       "currency            object\n",
       "price_period        object\n",
       "title               object\n",
       "property_type       object\n",
       "operation_type      object\n",
       "dtype: object"
      ]
     },
     "execution_count": 14,
     "metadata": {},
     "output_type": "execute_result"
    }
   ],
   "source": [
    "#Punto 6)\n",
    "dp.dtypes"
   ]
  },
  {
   "cell_type": "code",
   "execution_count": 10,
   "metadata": {},
   "outputs": [
    {
     "data": {
      "text/plain": [
       "pandas.core.frame.DataFrame"
      ]
     },
     "execution_count": 10,
     "metadata": {},
     "output_type": "execute_result"
    }
   ],
   "source": [
    "#Punto 7)\n",
    "type(dp)"
   ]
  },
  {
   "cell_type": "code",
   "execution_count": 15,
   "metadata": {},
   "outputs": [
    {
     "name": "stdout",
     "output_type": "stream",
     "text": [
      "Index(['ad_type', 'start_date', 'end_date', 'created_on', 'lat', 'lon', 'l1',\n",
      "       'l2', 'l3', 'l4', 'l5', 'l6', 'rooms', 'bedrooms', 'bathrooms',\n",
      "       'surface_total', 'surface_covered', 'price', 'currency', 'price_period',\n",
      "       'title', 'property_type', 'operation_type'],\n",
      "      dtype='object')\n"
     ]
    }
   ],
   "source": [
    "#Punto 8)\n",
    "print(dp.columns)"
   ]
  },
  {
   "cell_type": "markdown",
   "metadata": {},
   "source": [
    "**Resolución**: Machine Learning - Modelo de Regresión"
   ]
  },
  {
   "cell_type": "code",
   "execution_count": 16,
   "metadata": {},
   "outputs": [
    {
     "data": {
      "text/html": [
       "<div>\n",
       "<style scoped>\n",
       "    .dataframe tbody tr th:only-of-type {\n",
       "        vertical-align: middle;\n",
       "    }\n",
       "\n",
       "    .dataframe tbody tr th {\n",
       "        vertical-align: top;\n",
       "    }\n",
       "\n",
       "    .dataframe thead th {\n",
       "        text-align: right;\n",
       "    }\n",
       "</style>\n",
       "<table border=\"1\" class=\"dataframe\">\n",
       "  <thead>\n",
       "    <tr style=\"text-align: right;\">\n",
       "      <th></th>\n",
       "      <th>ad_type</th>\n",
       "      <th>start_date</th>\n",
       "      <th>end_date</th>\n",
       "      <th>created_on</th>\n",
       "      <th>lat</th>\n",
       "      <th>lon</th>\n",
       "      <th>l1</th>\n",
       "      <th>l2</th>\n",
       "      <th>l3</th>\n",
       "      <th>l4</th>\n",
       "      <th>...</th>\n",
       "      <th>bedrooms</th>\n",
       "      <th>bathrooms</th>\n",
       "      <th>surface_total</th>\n",
       "      <th>surface_covered</th>\n",
       "      <th>price</th>\n",
       "      <th>currency</th>\n",
       "      <th>price_period</th>\n",
       "      <th>title</th>\n",
       "      <th>property_type</th>\n",
       "      <th>operation_type</th>\n",
       "    </tr>\n",
       "  </thead>\n",
       "  <tbody>\n",
       "    <tr>\n",
       "      <th>46</th>\n",
       "      <td>Propiedad</td>\n",
       "      <td>2020-08-30</td>\n",
       "      <td>2020-09-18</td>\n",
       "      <td>2020-08-30</td>\n",
       "      <td>-34.589252</td>\n",
       "      <td>-58.419934</td>\n",
       "      <td>Argentina</td>\n",
       "      <td>Capital Federal</td>\n",
       "      <td>Palermo</td>\n",
       "      <td>NaN</td>\n",
       "      <td>...</td>\n",
       "      <td>0.0</td>\n",
       "      <td>1.0</td>\n",
       "      <td>NaN</td>\n",
       "      <td>NaN</td>\n",
       "      <td>105000.0</td>\n",
       "      <td>USD</td>\n",
       "      <td>NaN</td>\n",
       "      <td>VENTA DEPARTAMENTO PALERMO 1AMBIENTE AMOBLADO ...</td>\n",
       "      <td>Departamento</td>\n",
       "      <td>Venta</td>\n",
       "    </tr>\n",
       "    <tr>\n",
       "      <th>49</th>\n",
       "      <td>Propiedad</td>\n",
       "      <td>2020-08-30</td>\n",
       "      <td>2020-09-23</td>\n",
       "      <td>2020-08-30</td>\n",
       "      <td>-34.550353</td>\n",
       "      <td>-58.461575</td>\n",
       "      <td>Argentina</td>\n",
       "      <td>Capital Federal</td>\n",
       "      <td>Belgrano</td>\n",
       "      <td>NaN</td>\n",
       "      <td>...</td>\n",
       "      <td>1.0</td>\n",
       "      <td>1.0</td>\n",
       "      <td>38.0</td>\n",
       "      <td>35.0</td>\n",
       "      <td>99000.0</td>\n",
       "      <td>USD</td>\n",
       "      <td>NaN</td>\n",
       "      <td>VENTA MONOAMBIENTE BALCON AMENITIES 38 MT BELG...</td>\n",
       "      <td>Departamento</td>\n",
       "      <td>Venta</td>\n",
       "    </tr>\n",
       "    <tr>\n",
       "      <th>50</th>\n",
       "      <td>Propiedad</td>\n",
       "      <td>2020-08-30</td>\n",
       "      <td>2020-09-15</td>\n",
       "      <td>2020-08-30</td>\n",
       "      <td>NaN</td>\n",
       "      <td>NaN</td>\n",
       "      <td>Argentina</td>\n",
       "      <td>Capital Federal</td>\n",
       "      <td>Recoleta</td>\n",
       "      <td>NaN</td>\n",
       "      <td>...</td>\n",
       "      <td>1.0</td>\n",
       "      <td>1.0</td>\n",
       "      <td>27.0</td>\n",
       "      <td>27.0</td>\n",
       "      <td>94500.0</td>\n",
       "      <td>USD</td>\n",
       "      <td>NaN</td>\n",
       "      <td>OPORTUNIDAD DEPARTAMENTO DE MONOAMBIENTE EN RE...</td>\n",
       "      <td>Departamento</td>\n",
       "      <td>Venta</td>\n",
       "    </tr>\n",
       "    <tr>\n",
       "      <th>51</th>\n",
       "      <td>Propiedad</td>\n",
       "      <td>2020-08-30</td>\n",
       "      <td>2021-04-25</td>\n",
       "      <td>2020-08-30</td>\n",
       "      <td>-34.626072</td>\n",
       "      <td>-58.473527</td>\n",
       "      <td>Argentina</td>\n",
       "      <td>Capital Federal</td>\n",
       "      <td>Caballito</td>\n",
       "      <td>NaN</td>\n",
       "      <td>...</td>\n",
       "      <td>0.0</td>\n",
       "      <td>1.0</td>\n",
       "      <td>NaN</td>\n",
       "      <td>NaN</td>\n",
       "      <td>18000.0</td>\n",
       "      <td>ARS</td>\n",
       "      <td>NaN</td>\n",
       "      <td>Departamento en Alquiler en Caballito, Capital...</td>\n",
       "      <td>Departamento</td>\n",
       "      <td>Alquiler</td>\n",
       "    </tr>\n",
       "    <tr>\n",
       "      <th>54</th>\n",
       "      <td>Propiedad</td>\n",
       "      <td>2020-08-30</td>\n",
       "      <td>2021-01-06</td>\n",
       "      <td>2020-08-30</td>\n",
       "      <td>-34.598226</td>\n",
       "      <td>-58.429706</td>\n",
       "      <td>Argentina</td>\n",
       "      <td>Capital Federal</td>\n",
       "      <td>Villa Crespo</td>\n",
       "      <td>NaN</td>\n",
       "      <td>...</td>\n",
       "      <td>1.0</td>\n",
       "      <td>1.0</td>\n",
       "      <td>NaN</td>\n",
       "      <td>NaN</td>\n",
       "      <td>110000.0</td>\n",
       "      <td>USD</td>\n",
       "      <td>NaN</td>\n",
       "      <td>Villa Crespo 1 ambiente balcón</td>\n",
       "      <td>Departamento</td>\n",
       "      <td>Venta</td>\n",
       "    </tr>\n",
       "    <tr>\n",
       "      <th>...</th>\n",
       "      <td>...</td>\n",
       "      <td>...</td>\n",
       "      <td>...</td>\n",
       "      <td>...</td>\n",
       "      <td>...</td>\n",
       "      <td>...</td>\n",
       "      <td>...</td>\n",
       "      <td>...</td>\n",
       "      <td>...</td>\n",
       "      <td>...</td>\n",
       "      <td>...</td>\n",
       "      <td>...</td>\n",
       "      <td>...</td>\n",
       "      <td>...</td>\n",
       "      <td>...</td>\n",
       "      <td>...</td>\n",
       "      <td>...</td>\n",
       "      <td>...</td>\n",
       "      <td>...</td>\n",
       "      <td>...</td>\n",
       "      <td>...</td>\n",
       "    </tr>\n",
       "    <tr>\n",
       "      <th>999956</th>\n",
       "      <td>Propiedad</td>\n",
       "      <td>2020-07-24</td>\n",
       "      <td>2020-07-29</td>\n",
       "      <td>2020-07-24</td>\n",
       "      <td>-34.587646</td>\n",
       "      <td>-58.389200</td>\n",
       "      <td>Argentina</td>\n",
       "      <td>Capital Federal</td>\n",
       "      <td>Recoleta</td>\n",
       "      <td>NaN</td>\n",
       "      <td>...</td>\n",
       "      <td>5.0</td>\n",
       "      <td>2.0</td>\n",
       "      <td>478.0</td>\n",
       "      <td>478.0</td>\n",
       "      <td>2250000.0</td>\n",
       "      <td>USD</td>\n",
       "      <td>NaN</td>\n",
       "      <td>RETASADO !!! DUPLEX increible RECICLADO A FULL...</td>\n",
       "      <td>Departamento</td>\n",
       "      <td>Venta</td>\n",
       "    </tr>\n",
       "    <tr>\n",
       "      <th>999959</th>\n",
       "      <td>Propiedad</td>\n",
       "      <td>2020-07-24</td>\n",
       "      <td>2020-07-29</td>\n",
       "      <td>2020-07-24</td>\n",
       "      <td>-34.610970</td>\n",
       "      <td>-58.395531</td>\n",
       "      <td>Argentina</td>\n",
       "      <td>Capital Federal</td>\n",
       "      <td>Congreso</td>\n",
       "      <td>NaN</td>\n",
       "      <td>...</td>\n",
       "      <td>6.0</td>\n",
       "      <td>4.0</td>\n",
       "      <td>503.0</td>\n",
       "      <td>192.0</td>\n",
       "      <td>350001.0</td>\n",
       "      <td>USD</td>\n",
       "      <td>NaN</td>\n",
       "      <td>Depto.tipo casa de 7 ambientes en Venta en Con...</td>\n",
       "      <td>PH</td>\n",
       "      <td>Venta</td>\n",
       "    </tr>\n",
       "    <tr>\n",
       "      <th>999968</th>\n",
       "      <td>Propiedad</td>\n",
       "      <td>2020-07-24</td>\n",
       "      <td>2021-04-09</td>\n",
       "      <td>2020-07-24</td>\n",
       "      <td>-34.622189</td>\n",
       "      <td>-58.401279</td>\n",
       "      <td>Argentina</td>\n",
       "      <td>Capital Federal</td>\n",
       "      <td>San Cristobal</td>\n",
       "      <td>NaN</td>\n",
       "      <td>...</td>\n",
       "      <td>NaN</td>\n",
       "      <td>8.0</td>\n",
       "      <td>534.0</td>\n",
       "      <td>384.0</td>\n",
       "      <td>470000.0</td>\n",
       "      <td>USD</td>\n",
       "      <td>NaN</td>\n",
       "      <td>Saavedra  1100 - U$D 470.000 - Casa en Venta</td>\n",
       "      <td>Casa</td>\n",
       "      <td>Venta</td>\n",
       "    </tr>\n",
       "    <tr>\n",
       "      <th>999971</th>\n",
       "      <td>Propiedad</td>\n",
       "      <td>2020-07-24</td>\n",
       "      <td>2020-09-02</td>\n",
       "      <td>2020-07-24</td>\n",
       "      <td>-34.608090</td>\n",
       "      <td>-58.471772</td>\n",
       "      <td>Argentina</td>\n",
       "      <td>Capital Federal</td>\n",
       "      <td>Villa General Mitre</td>\n",
       "      <td>NaN</td>\n",
       "      <td>...</td>\n",
       "      <td>4.0</td>\n",
       "      <td>2.0</td>\n",
       "      <td>175.0</td>\n",
       "      <td>148.0</td>\n",
       "      <td>225000.0</td>\n",
       "      <td>USD</td>\n",
       "      <td>NaN</td>\n",
       "      <td>Casa Venta Villa Mitre Lote Propio PERMUTA</td>\n",
       "      <td>Casa</td>\n",
       "      <td>Venta</td>\n",
       "    </tr>\n",
       "    <tr>\n",
       "      <th>999979</th>\n",
       "      <td>Propiedad</td>\n",
       "      <td>2020-07-24</td>\n",
       "      <td>2020-09-04</td>\n",
       "      <td>2020-07-24</td>\n",
       "      <td>-34.593200</td>\n",
       "      <td>-58.399455</td>\n",
       "      <td>Argentina</td>\n",
       "      <td>Capital Federal</td>\n",
       "      <td>Recoleta</td>\n",
       "      <td>NaN</td>\n",
       "      <td>...</td>\n",
       "      <td>4.0</td>\n",
       "      <td>7.0</td>\n",
       "      <td>378.0</td>\n",
       "      <td>353.0</td>\n",
       "      <td>999900.0</td>\n",
       "      <td>USD</td>\n",
       "      <td>NaN</td>\n",
       "      <td>Casa 4 Plantas, Excelente Categoría</td>\n",
       "      <td>Casa</td>\n",
       "      <td>Venta</td>\n",
       "    </tr>\n",
       "  </tbody>\n",
       "</table>\n",
       "<p>186479 rows × 23 columns</p>\n",
       "</div>"
      ],
      "text/plain": [
       "          ad_type  start_date    end_date  created_on        lat        lon  \\\n",
       "46      Propiedad  2020-08-30  2020-09-18  2020-08-30 -34.589252 -58.419934   \n",
       "49      Propiedad  2020-08-30  2020-09-23  2020-08-30 -34.550353 -58.461575   \n",
       "50      Propiedad  2020-08-30  2020-09-15  2020-08-30        NaN        NaN   \n",
       "51      Propiedad  2020-08-30  2021-04-25  2020-08-30 -34.626072 -58.473527   \n",
       "54      Propiedad  2020-08-30  2021-01-06  2020-08-30 -34.598226 -58.429706   \n",
       "...           ...         ...         ...         ...        ...        ...   \n",
       "999956  Propiedad  2020-07-24  2020-07-29  2020-07-24 -34.587646 -58.389200   \n",
       "999959  Propiedad  2020-07-24  2020-07-29  2020-07-24 -34.610970 -58.395531   \n",
       "999968  Propiedad  2020-07-24  2021-04-09  2020-07-24 -34.622189 -58.401279   \n",
       "999971  Propiedad  2020-07-24  2020-09-02  2020-07-24 -34.608090 -58.471772   \n",
       "999979  Propiedad  2020-07-24  2020-09-04  2020-07-24 -34.593200 -58.399455   \n",
       "\n",
       "               l1               l2                   l3   l4  ... bedrooms  \\\n",
       "46      Argentina  Capital Federal              Palermo  NaN  ...      0.0   \n",
       "49      Argentina  Capital Federal             Belgrano  NaN  ...      1.0   \n",
       "50      Argentina  Capital Federal             Recoleta  NaN  ...      1.0   \n",
       "51      Argentina  Capital Federal            Caballito  NaN  ...      0.0   \n",
       "54      Argentina  Capital Federal         Villa Crespo  NaN  ...      1.0   \n",
       "...           ...              ...                  ...  ...  ...      ...   \n",
       "999956  Argentina  Capital Federal             Recoleta  NaN  ...      5.0   \n",
       "999959  Argentina  Capital Federal             Congreso  NaN  ...      6.0   \n",
       "999968  Argentina  Capital Federal        San Cristobal  NaN  ...      NaN   \n",
       "999971  Argentina  Capital Federal  Villa General Mitre  NaN  ...      4.0   \n",
       "999979  Argentina  Capital Federal             Recoleta  NaN  ...      4.0   \n",
       "\n",
       "        bathrooms  surface_total  surface_covered      price  currency  \\\n",
       "46            1.0            NaN              NaN   105000.0       USD   \n",
       "49            1.0           38.0             35.0    99000.0       USD   \n",
       "50            1.0           27.0             27.0    94500.0       USD   \n",
       "51            1.0            NaN              NaN    18000.0       ARS   \n",
       "54            1.0            NaN              NaN   110000.0       USD   \n",
       "...           ...            ...              ...        ...       ...   \n",
       "999956        2.0          478.0            478.0  2250000.0       USD   \n",
       "999959        4.0          503.0            192.0   350001.0       USD   \n",
       "999968        8.0          534.0            384.0   470000.0       USD   \n",
       "999971        2.0          175.0            148.0   225000.0       USD   \n",
       "999979        7.0          378.0            353.0   999900.0       USD   \n",
       "\n",
       "        price_period                                              title  \\\n",
       "46               NaN  VENTA DEPARTAMENTO PALERMO 1AMBIENTE AMOBLADO ...   \n",
       "49               NaN  VENTA MONOAMBIENTE BALCON AMENITIES 38 MT BELG...   \n",
       "50               NaN  OPORTUNIDAD DEPARTAMENTO DE MONOAMBIENTE EN RE...   \n",
       "51               NaN  Departamento en Alquiler en Caballito, Capital...   \n",
       "54               NaN                     Villa Crespo 1 ambiente balcón   \n",
       "...              ...                                                ...   \n",
       "999956           NaN  RETASADO !!! DUPLEX increible RECICLADO A FULL...   \n",
       "999959           NaN  Depto.tipo casa de 7 ambientes en Venta en Con...   \n",
       "999968           NaN       Saavedra  1100 - U$D 470.000 - Casa en Venta   \n",
       "999971           NaN         Casa Venta Villa Mitre Lote Propio PERMUTA   \n",
       "999979           NaN                Casa 4 Plantas, Excelente Categoría   \n",
       "\n",
       "       property_type operation_type  \n",
       "46      Departamento          Venta  \n",
       "49      Departamento          Venta  \n",
       "50      Departamento          Venta  \n",
       "51      Departamento       Alquiler  \n",
       "54      Departamento          Venta  \n",
       "...              ...            ...  \n",
       "999956  Departamento          Venta  \n",
       "999959            PH          Venta  \n",
       "999968          Casa          Venta  \n",
       "999971          Casa          Venta  \n",
       "999979          Casa          Venta  \n",
       "\n",
       "[186479 rows x 23 columns]"
      ]
     },
     "execution_count": 16,
     "metadata": {},
     "output_type": "execute_result"
    }
   ],
   "source": [
    "#Vamos a realizar algunos filtros para simplificar nuestro modelo de Regresion!\n",
    "dp_filtrado = dp[dp.property_type.isin([\"PH\", \"Casa\",\"Departamento\"])&(dp.l2 == \"Capital Federal\")]\n",
    "dp_filtrado"
   ]
  },
  {
   "cell_type": "markdown",
   "metadata": {},
   "source": [
    "Ahora nos quedaremos conn aquellas propiedades cuya superficie total es menor igual a 1000 m2 y mayor igual a 15 m2."
   ]
  },
  {
   "cell_type": "code",
   "execution_count": 17,
   "metadata": {},
   "outputs": [
    {
     "data": {
      "text/plain": [
       "(134980, 23)"
      ]
     },
     "execution_count": 17,
     "metadata": {},
     "output_type": "execute_result"
    }
   ],
   "source": [
    "dp_filtrado = dp_filtrado[(dp_filtrado.surface_total<= 1000) & (dp_filtrado.surface_total>=15)]\n",
    "dp_filtrado.shape"
   ]
  },
  {
   "cell_type": "markdown",
   "metadata": {},
   "source": [
    "Seleccionamos aquellas propiedades cuyo precio es menor y igual 4000000 dólares."
   ]
  },
  {
   "cell_type": "code",
   "execution_count": 18,
   "metadata": {},
   "outputs": [
    {
     "data": {
      "text/plain": [
       "(132238, 23)"
      ]
     },
     "execution_count": 18,
     "metadata": {},
     "output_type": "execute_result"
    }
   ],
   "source": [
    "dp_filtrado = dp_filtrado[(dp_filtrado.price<= 4000000)]\n",
    "dp_filtrado.shape"
   ]
  },
  {
   "cell_type": "markdown",
   "metadata": {},
   "source": [
    "Nos quedamos con las columnas: rooms, bedrooms, bathrooms, surface_total, surface_covered y price"
   ]
  },
  {
   "cell_type": "code",
   "execution_count": 19,
   "metadata": {},
   "outputs": [
    {
     "data": {
      "text/plain": [
       "(132238, 6)"
      ]
     },
     "execution_count": 19,
     "metadata": {},
     "output_type": "execute_result"
    }
   ],
   "source": [
    "dp_filtrado= dp_filtrado[[\"rooms\", \"bedrooms\", \"bathrooms\", \"surface_total\", \"surface_covered\", \"price\"]]\n",
    "dp_filtrado.shape"
   ]
  },
  {
   "cell_type": "markdown",
   "metadata": {},
   "source": [
    "Analizamos los missings por columnas!"
   ]
  },
  {
   "cell_type": "code",
   "execution_count": 20,
   "metadata": {},
   "outputs": [
    {
     "name": "stdout",
     "output_type": "stream",
     "text": [
      "rooms               5358\n",
      "bedrooms           26318\n",
      "bathrooms           2517\n",
      "surface_total          0\n",
      "surface_covered     5608\n",
      "price                  0\n",
      "dtype: int64\n"
     ]
    }
   ],
   "source": [
    "print(dp_filtrado.isnull().sum())"
   ]
  },
  {
   "cell_type": "markdown",
   "metadata": {},
   "source": [
    "Se observa que Baños es la variable con mayor cantidad de valores faltantes, 880 y la otra variable con valores faltantes es superficie cubierta que contiene 517."
   ]
  },
  {
   "cell_type": "code",
   "execution_count": 21,
   "metadata": {},
   "outputs": [],
   "source": [
    "#Eliminamos los valores missings\n",
    "dp_filtrado = dp_filtrado.dropna()"
   ]
  },
  {
   "cell_type": "code",
   "execution_count": 22,
   "metadata": {},
   "outputs": [
    {
     "name": "stdout",
     "output_type": "stream",
     "text": [
      "rooms              0\n",
      "bedrooms           0\n",
      "bathrooms          0\n",
      "surface_total      0\n",
      "surface_covered    0\n",
      "price              0\n",
      "dtype: int64\n"
     ]
    }
   ],
   "source": [
    "#Verificamos que no tenemos mas missings\n",
    "print(dp_filtrado.isnull().sum())"
   ]
  },
  {
   "cell_type": "code",
   "execution_count": 23,
   "metadata": {},
   "outputs": [
    {
     "data": {
      "text/plain": [
       "(99298, 6)"
      ]
     },
     "execution_count": 23,
     "metadata": {},
     "output_type": "execute_result"
    }
   ],
   "source": [
    "#Analicemos ahora el shape de nuestro dataframe\n",
    "dp_filtrado.shape"
   ]
  },
  {
   "cell_type": "markdown",
   "metadata": {},
   "source": [
    "Aclaración: Nuestras filas y columnas coinciden con el **checkpoint**"
   ]
  },
  {
   "cell_type": "code",
   "execution_count": 24,
   "metadata": {},
   "outputs": [
    {
     "data": {
      "text/plain": [
       "<AxesSubplot:>"
      ]
     },
     "execution_count": 24,
     "metadata": {},
     "output_type": "execute_result"
    },
    {
     "data": {
      "image/png": "[encoded data removed]",
      "text/plain": [
       "<Figure size 432x288 with 2 Axes>"
      ]
     },
     "metadata": {
      "needs_background": "light"
     },
     "output_type": "display_data"
    }
   ],
   "source": [
    "#Antes de armar nuestro modelo de regresion, veamos las correlaciones\n",
    "import seaborn as sns\n",
    "corr = dp_filtrado.corr()\n",
    "sns.heatmap(corr, cbar = True, square = True, annot = True, fmt = '.2f', annot_kws = {'size': 15}, cmap = 'coolwarm')"
   ]
  },
  {
   "cell_type": "code",
   "execution_count": 25,
   "metadata": {},
   "outputs": [],
   "source": [
    "#Importemos las librerias\n",
    "from sklearn.metrics import mean_squared_error\n",
    "from sklearn.model_selection import train_test_split"
   ]
  },
  {
   "cell_type": "code",
   "execution_count": 26,
   "metadata": {},
   "outputs": [],
   "source": [
    "X = dp_filtrado[[\"rooms\", \"bedrooms\", \"bathrooms\", \"surface_total\", \"surface_covered\"]] #Seleccionamos las variables predictoras\n",
    "y = dp_filtrado.price #Defino el Target"
   ]
  },
  {
   "cell_type": "code",
   "execution_count": 27,
   "metadata": {},
   "outputs": [],
   "source": [
    "#Separo en Train y Test\n",
    "X_train, X_test, y_train, y_test = train_test_split(X, y, test_size=0.30, random_state=42)"
   ]
  },
  {
   "cell_type": "code",
   "execution_count": 28,
   "metadata": {},
   "outputs": [],
   "source": [
    "#Generamos el modelo de Regresión Lineal\n",
    "from sklearn.linear_model import LinearRegression\n",
    "linear_model = LinearRegression()"
   ]
  },
  {
   "cell_type": "code",
   "execution_count": 29,
   "metadata": {},
   "outputs": [
    {
     "data": {
      "text/plain": [
       "LinearRegression()"
      ]
     },
     "execution_count": 29,
     "metadata": {},
     "output_type": "execute_result"
    }
   ],
   "source": [
    "#Fiteo el modelo\n",
    "linear_model.fit(X_train,y_train)"
   ]
  },
  {
   "cell_type": "code",
   "execution_count": 30,
   "metadata": {},
   "outputs": [
    {
     "name": "stdout",
     "output_type": "stream",
     "text": [
      "Modelo benchmark: Regresion lineal\n",
      "Raiz del error cuadratico medio en train: 240113.13243336946\n",
      "Raiz del error cuadratico medio en test: 238238.20734011813\n"
     ]
    }
   ],
   "source": [
    "#Evaluamos el modelo\n",
    "from sklearn.metrics import mean_squared_error\n",
    "modelo = ['Regresion lineal']\n",
    "\n",
    "for i, model in enumerate ([linear_model]):\n",
    "    y_train_pred = model.predict(X_train)\n",
    "    y_test_pred = model.predict (X_test)\n",
    "    \n",
    "    print(f'Modelo benchmark: {modelo[i]}')\n",
    "    \n",
    "    rmse_train = np.sqrt(mean_squared_error(y_train, y_train_pred))\n",
    "    rmse_test = np.sqrt(mean_squared_error(y_test, y_test_pred))\n",
    "    print(f'Raiz del error cuadratico medio en train: {rmse_train}')\n",
    "    print(f'Raiz del error cuadratico medio en test: {rmse_test}')"
   ]
  },
  {
   "cell_type": "code",
   "execution_count": 31,
   "metadata": {},
   "outputs": [],
   "source": [
    "#Ahora vamos a entrenar un modelo de árbol de decisión y de vecinos cercanos\n",
    "from sklearn.tree import DecisionTreeRegressor\n",
    "from sklearn.neighbors import KNeighborsRegressor"
   ]
  },
  {
   "cell_type": "code",
   "execution_count": 32,
   "metadata": {},
   "outputs": [],
   "source": [
    "#Creamos los modelos\n",
    "tree_regressor = DecisionTreeRegressor(max_depth=3, random_state=42)\n",
    "knn_regressor = KNeighborsRegressor(n_neighbors=5)"
   ]
  },
  {
   "cell_type": "code",
   "execution_count": 33,
   "metadata": {},
   "outputs": [
    {
     "data": {
      "text/plain": [
       "DecisionTreeRegressor(max_depth=3, random_state=42)"
      ]
     },
     "execution_count": 33,
     "metadata": {},
     "output_type": "execute_result"
    }
   ],
   "source": [
    "tree_regressor.fit(X_train, y_train)"
   ]
  },
  {
   "cell_type": "code",
   "execution_count": 34,
   "metadata": {},
   "outputs": [
    {
     "data": {
      "text/plain": [
       "KNeighborsRegressor()"
      ]
     },
     "execution_count": 34,
     "metadata": {},
     "output_type": "execute_result"
    }
   ],
   "source": [
    "knn_regressor.fit(X_train, y_train)"
   ]
  },
  {
   "cell_type": "code",
   "execution_count": 35,
   "metadata": {},
   "outputs": [
    {
     "name": "stdout",
     "output_type": "stream",
     "text": [
      "Modelo: Árbol de Decisión\n",
      "Raíz del error cuadrático medio en Train: 235892.97056902427\n",
      "Raíz del error cuadrático medio en Test: 236199.2026376682\n",
      "Modelo: Vecinos más cercanos\n",
      "Raíz del error cuadrático medio en Train: 186520.67413096307\n",
      "Raíz del error cuadrático medio en Test: 217104.675975189\n"
     ]
    }
   ],
   "source": [
    "#Realizamos la prediccion y calculamos el RMSE de los modelos generados\n",
    "modelos = ['Árbol de Decisión', 'Vecinos más cercanos']\n",
    "\n",
    "for i, model in enumerate([tree_regressor, knn_regressor]):\n",
    "    y_train_pred = model.predict(X_train)\n",
    "    y_test_pred = model.predict(X_test)\n",
    "    \n",
    "    print(f'Modelo: {modelos[i]}')\n",
    "    rmse_train = np.sqrt(mean_squared_error(y_train, y_train_pred))\n",
    "    rmse_test = np.sqrt(mean_squared_error(y_test, y_test_pred))\n",
    "    \n",
    "    print(f'Raíz del error cuadrático medio en Train: {rmse_train}')\n",
    "    print(f'Raíz del error cuadrático medio en Test: {rmse_test}')"
   ]
  },
  {
   "cell_type": "markdown",
   "metadata": {},
   "source": [
    "**Para pensar**: ¿Qué podemos hacer para mejorar nuestro modelo? "
   ]
  },
  {
   "cell_type": "code",
   "execution_count": 36,
   "metadata": {},
   "outputs": [],
   "source": [
    "#Una opcion seria probar con menos features por ejmplo:\n",
    "X = dp_filtrado[[\"bathrooms\", \"surface_total\"]]\n",
    "y = dp_filtrado.price"
   ]
  },
  {
   "cell_type": "code",
   "execution_count": 37,
   "metadata": {},
   "outputs": [],
   "source": [
    "#Realizamos un train/ test de los datos\n",
    "from sklearn.model_selection import train_test_split\n",
    "X_train, X_test, y_train, y_test = train_test_split(X, y, test_size=0.30, random_state=42)"
   ]
  },
  {
   "cell_type": "code",
   "execution_count": 38,
   "metadata": {},
   "outputs": [],
   "source": [
    "#Importamos la regresión lineal\n",
    "from sklearn.linear_model import LinearRegression\n",
    "linear_model = LinearRegression()"
   ]
  },
  {
   "cell_type": "code",
   "execution_count": 39,
   "metadata": {},
   "outputs": [
    {
     "data": {
      "text/plain": [
       "LinearRegression()"
      ]
     },
     "execution_count": 39,
     "metadata": {},
     "output_type": "execute_result"
    }
   ],
   "source": [
    "linear_model.fit(X_train,y_train)"
   ]
  },
  {
   "cell_type": "markdown",
   "metadata": {},
   "source": [
    "Aplicamos el fit. "
   ]
  },
  {
   "cell_type": "code",
   "execution_count": 41,
   "metadata": {},
   "outputs": [
    {
     "name": "stdout",
     "output_type": "stream",
     "text": [
      "Modelo benchmark: Regresion lineal\n",
      "Raiz del error cuadratico medio en train: 240573.83815175554\n",
      "Raiz del error cuadratico medio en test: 238557.0760118639\n"
     ]
    }
   ],
   "source": [
    "#Evaluamos el modelo\n",
    "from sklearn.metrics import mean_squared_error\n",
    "modelo = ['Regresion lineal']\n",
    "\n",
    "for i, model in enumerate ([linear_model]):\n",
    "    y_train_pred = model.predict(X_train)\n",
    "    y_test_pred = model.predict (X_test)\n",
    "    \n",
    "    print(f'Modelo benchmark: {modelo[i]}')\n",
    "    \n",
    "    rmse_train = np.sqrt(mean_squared_error(y_train, y_train_pred))\n",
    "    rmse_test = np.sqrt(mean_squared_error(y_test, y_test_pred))\n",
    "    print(f'Raiz del error cuadratico medio en train: {rmse_train}')\n",
    "    print(f'Raiz del error cuadratico medio en test: {rmse_test}')"
   ]
  },
  {
   "cell_type": "markdown",
   "metadata": {},
   "source": [
    "**Aclaración**: No se aprecian mejoras significativas sobre el modelo generado"
   ]
  }
 ],
 "metadata": {
  "colab": {
   "collapsed_sections": [],
   "name": "DS_Proyecto_01.ipynb",
   "provenance": []
  },
  "kernelspec": {
   "display_name": "base",
   "language": "python",
   "name": "python3"
  },
  "language_info": {
   "codemirror_mode": {
    "name": "ipython",
    "version": 3
   },
   "file_extension": ".py",
   "mimetype": "text/x-python",
   "name": "python",
   "nbconvert_exporter": "python",
   "pygments_lexer": "ipython3",
   "version": "3.8.8"
  },
  "varInspector": {
   "cols": {
    "lenName": 16,
    "lenType": 16,
    "lenVar": 40
   },
   "kernels_config": {
    "python": {
     "delete_cmd_postfix": "",
     "delete_cmd_prefix": "del ",
     "library": "var_list.py",
     "varRefreshCmd": "print(var_dic_list())"
    },
    "r": {
     "delete_cmd_postfix": ") ",
     "delete_cmd_prefix": "rm(",
     "library": "var_list.r",
     "varRefreshCmd": "cat(var_dic_list()) "
    }
   },
   "types_to_exclude": [
    "module",
    "function",
    "builtin_function_or_method",
    "instance",
    "_Feature"
   ],
   "window_display": false
  },
  "vscode": {
   "interpreter": {
    "hash": "5beeed5a7ffdc4b4a0108c0b3292efe9a775794c700b606d5e33717d9ba16765"
   }
  }
 },
 "nbformat": 4,
 "nbformat_minor": 4
}
