{
 "cells": [
  {
   "attachments": {},
   "cell_type": "markdown",
   "metadata": {},
   "source": [
    "1. Importar librerías"
   ]
  },
  {
   "cell_type": "code",
   "execution_count": 2,
   "metadata": {},
   "outputs": [],
   "source": [
    "import pandas as pd\n",
    "import numpy as np\n",
    "import matplotlib.pyplot as plt\n",
    "import seaborn as sns\n",
    "from math import sqrt"
   ]
  },
  {
   "attachments": {},
   "cell_type": "markdown",
   "metadata": {},
   "source": [
    "2. Importar un dataset (tener en cuenta el separador a utilizar debe ser: \";\") "
   ]
  },
  {
   "cell_type": "code",
   "execution_count": 1,
   "metadata": {},
   "outputs": [
    {
     "ename": "NameError",
     "evalue": "name 'pd' is not defined",
     "output_type": "error",
     "traceback": [
      "\u001b[1;31m---------------------------------------------------------------------------\u001b[0m",
      "\u001b[1;31mNameError\u001b[0m                                 Traceback (most recent call last)",
      "\u001b[1;32m<ipython-input-1-ff202447e0a6>\u001b[0m in \u001b[0;36m<module>\u001b[1;34m\u001b[0m\n\u001b[1;32m----> 1\u001b[1;33m \u001b[0mdp\u001b[0m \u001b[1;33m=\u001b[0m \u001b[0mpd\u001b[0m\u001b[1;33m.\u001b[0m\u001b[0mread_csv\u001b[0m\u001b[1;33m(\u001b[0m\u001b[1;34m\"ds_gastos.csv\"\u001b[0m\u001b[1;33m,\u001b[0m \u001b[0msep\u001b[0m \u001b[1;33m=\u001b[0m \u001b[1;34m\",\"\u001b[0m\u001b[1;33m)\u001b[0m\u001b[1;33m\u001b[0m\u001b[1;33m\u001b[0m\u001b[0m\n\u001b[0m",
      "\u001b[1;31mNameError\u001b[0m: name 'pd' is not defined"
     ]
    }
   ],
   "source": [
    "dp = pd.read_csv(\"ds_directorio.csv\", sep = \",\")"
   ]
  },
  {
   "attachments": {},
   "cell_type": "markdown",
   "metadata": {},
   "source": [
    "3) Imprimir las 5 primeras y ultimas filas"
   ]
  },
  {
   "cell_type": "code",
   "execution_count": 78,
   "metadata": {},
   "outputs": [
    {
     "data": {
      "text/html": [
       "<div>\n",
       "<style scoped>\n",
       "    .dataframe tbody tr th:only-of-type {\n",
       "        vertical-align: middle;\n",
       "    }\n",
       "\n",
       "    .dataframe tbody tr th {\n",
       "        vertical-align: top;\n",
       "    }\n",
       "\n",
       "    .dataframe thead th {\n",
       "        text-align: right;\n",
       "    }\n",
       "</style>\n",
       "<table border=\"1\" class=\"dataframe\">\n",
       "  <thead>\n",
       "    <tr style=\"text-align: right;\">\n",
       "      <th></th>\n",
       "      <th>Id</th>\n",
       "      <th>First_name</th>\n",
       "      <th>Last_name</th>\n",
       "      <th>Gender</th>\n",
       "      <th>e-mail</th>\n",
       "      <th>Address</th>\n",
       "      <th>Industry</th>\n",
       "      <th>Salary</th>\n",
       "    </tr>\n",
       "  </thead>\n",
       "  <tbody>\n",
       "    <tr>\n",
       "      <th>995</th>\n",
       "      <td>69-974-2146</td>\n",
       "      <td>Thomasina</td>\n",
       "      <td>Lock</td>\n",
       "      <td>Female</td>\n",
       "      <td>tlockrn@bloglines.com</td>\n",
       "      <td>88620 Spaight Alley</td>\n",
       "      <td>Integrated oil Companies</td>\n",
       "      <td>$276.48M</td>\n",
       "    </tr>\n",
       "    <tr>\n",
       "      <th>996</th>\n",
       "      <td>22-921-2179</td>\n",
       "      <td>Glyn</td>\n",
       "      <td>Dymock</td>\n",
       "      <td>Masculino</td>\n",
       "      <td>gdymockro@weibo.com</td>\n",
       "      <td>0443 Grayhawk Crossing</td>\n",
       "      <td>Consulting &amp; IT services</td>\n",
       "      <td>$15.85B</td>\n",
       "    </tr>\n",
       "    <tr>\n",
       "      <th>997</th>\n",
       "      <td>76-888-4085</td>\n",
       "      <td>Carrol</td>\n",
       "      <td>Shrimptone</td>\n",
       "      <td>Masculino</td>\n",
       "      <td>cshrimptonerp@who.int</td>\n",
       "      <td>3407 Stuart Hill</td>\n",
       "      <td>Biotechnology: Biological Products (No Diagnos...</td>\n",
       "      <td>$1.3B</td>\n",
       "    </tr>\n",
       "    <tr>\n",
       "      <th>998</th>\n",
       "      <td>49-258-3426</td>\n",
       "      <td>Graeme</td>\n",
       "      <td>Dorin</td>\n",
       "      <td>Masculino</td>\n",
       "      <td>gdorinrq@geocities.jp</td>\n",
       "      <td>41695 7th Plaza</td>\n",
       "      <td>Books</td>\n",
       "      <td>$1.58B</td>\n",
       "    </tr>\n",
       "    <tr>\n",
       "      <th>999</th>\n",
       "      <td>59-225-5955</td>\n",
       "      <td>Brandyn</td>\n",
       "      <td>Slisby</td>\n",
       "      <td>Masculino</td>\n",
       "      <td>bslisbyrr@ocn.ne.jp</td>\n",
       "      <td>2730 Nelson Hill</td>\n",
       "      <td>Major Pharmaceuticals</td>\n",
       "      <td>$345.7M</td>\n",
       "    </tr>\n",
       "  </tbody>\n",
       "</table>\n",
       "</div>"
      ],
      "text/plain": [
       "              Id First_name   Last_name     Gender                 e-mail  \\\n",
       "995  69-974-2146  Thomasina        Lock     Female  tlockrn@bloglines.com   \n",
       "996  22-921-2179       Glyn      Dymock  Masculino    gdymockro@weibo.com   \n",
       "997  76-888-4085     Carrol  Shrimptone  Masculino  cshrimptonerp@who.int   \n",
       "998  49-258-3426     Graeme       Dorin  Masculino  gdorinrq@geocities.jp   \n",
       "999  59-225-5955    Brandyn      Slisby  Masculino    bslisbyrr@ocn.ne.jp   \n",
       "\n",
       "                    Address  \\\n",
       "995     88620 Spaight Alley   \n",
       "996  0443 Grayhawk Crossing   \n",
       "997        3407 Stuart Hill   \n",
       "998         41695 7th Plaza   \n",
       "999        2730 Nelson Hill   \n",
       "\n",
       "                                              Industry    Salary  \n",
       "995                           Integrated oil Companies  $276.48M  \n",
       "996                           Consulting & IT services   $15.85B  \n",
       "997  Biotechnology: Biological Products (No Diagnos...     $1.3B  \n",
       "998                                              Books    $1.58B  \n",
       "999                              Major Pharmaceuticals   $345.7M  "
      ]
     },
     "execution_count": 78,
     "metadata": {},
     "output_type": "execute_result"
    }
   ],
   "source": [
    "dp.head(5)\n",
    "dp.tail(5)"
   ]
  },
  {
   "cell_type": "markdown",
   "metadata": {},
   "source": [
    "4) Imprimir las dimensiones del dataset"
   ]
  },
  {
   "cell_type": "code",
   "execution_count": 6,
   "metadata": {},
   "outputs": [
    {
     "name": "stdout",
     "output_type": "stream",
     "text": [
      "(1000, 8)\n"
     ]
    }
   ],
   "source": [
    "print(dp.shape)"
   ]
  },
  {
   "cell_type": "markdown",
   "metadata": {},
   "source": [
    "5) Obtener la totalidad de registros por columnas"
   ]
  },
  {
   "cell_type": "code",
   "execution_count": 109,
   "metadata": {},
   "outputs": [
    {
     "data": {
      "text/plain": [
       "Id          1000\n",
       "Gender      1000\n",
       "Address     1000\n",
       "Industry    1000\n",
       "Salary      1000\n",
       "dtype: int64"
      ]
     },
     "execution_count": 109,
     "metadata": {},
     "output_type": "execute_result"
    }
   ],
   "source": [
    "dp.count()"
   ]
  },
  {
   "cell_type": "markdown",
   "metadata": {},
   "source": [
    "6) Analizar el tipo de dato de cada columna"
   ]
  },
  {
   "cell_type": "code",
   "execution_count": 64,
   "metadata": {},
   "outputs": [
    {
     "data": {
      "text/plain": [
       "Id            object\n",
       "First_name    object\n",
       "Last_name     object\n",
       "Gender        object\n",
       "e-mail        object\n",
       "Address       object\n",
       "Industry      object\n",
       "Salary        object\n",
       "dtype: object"
      ]
     },
     "execution_count": 64,
     "metadata": {},
     "output_type": "execute_result"
    }
   ],
   "source": [
    "dp.dtypes"
   ]
  },
  {
   "cell_type": "markdown",
   "metadata": {},
   "source": [
    "7) Obtener el tipo de estructura del dataset.  Ej: si es o no un DataFrame"
   ]
  },
  {
   "cell_type": "code",
   "execution_count": 9,
   "metadata": {},
   "outputs": [
    {
     "data": {
      "text/plain": [
       "pandas.core.frame.DataFrame"
      ]
     },
     "execution_count": 9,
     "metadata": {},
     "output_type": "execute_result"
    }
   ],
   "source": [
    "type(dp)"
   ]
  },
  {
   "cell_type": "markdown",
   "metadata": {},
   "source": [
    "8) Listar los nombres de las columnas"
   ]
  },
  {
   "cell_type": "code",
   "execution_count": 65,
   "metadata": {},
   "outputs": [
    {
     "name": "stdout",
     "output_type": "stream",
     "text": [
      "Index(['Id', 'First_name', 'Last_name', 'Gender', 'e-mail', 'Address',\n",
      "       'Industry', 'Salary'],\n",
      "      dtype='object')\n"
     ]
    }
   ],
   "source": [
    "print(dp.columns)"
   ]
  },
  {
   "cell_type": "markdown",
   "metadata": {},
   "source": [
    "9) Eliminar las columnas: **Date** y **Last Update** del dataset"
   ]
  },
  {
   "cell_type": "code",
   "execution_count": 4,
   "metadata": {},
   "outputs": [],
   "source": [
    "dp = dp.drop(['First_name', 'Last_name','e-mail'], axis=1)\n"
   ]
  },
  {
   "cell_type": "markdown",
   "metadata": {},
   "source": [
    "10) Verificar la correcta eliminacion de las columnas con la funcion head()"
   ]
  },
  {
   "cell_type": "code",
   "execution_count": 94,
   "metadata": {
    "scrolled": true
   },
   "outputs": [
    {
     "data": {
      "text/html": [
       "<div>\n",
       "<style scoped>\n",
       "    .dataframe tbody tr th:only-of-type {\n",
       "        vertical-align: middle;\n",
       "    }\n",
       "\n",
       "    .dataframe tbody tr th {\n",
       "        vertical-align: top;\n",
       "    }\n",
       "\n",
       "    .dataframe thead th {\n",
       "        text-align: right;\n",
       "    }\n",
       "</style>\n",
       "<table border=\"1\" class=\"dataframe\">\n",
       "  <thead>\n",
       "    <tr style=\"text-align: right;\">\n",
       "      <th></th>\n",
       "      <th>Id</th>\n",
       "      <th>Gender</th>\n",
       "      <th>Address</th>\n",
       "      <th>Industry</th>\n",
       "      <th>Salary</th>\n",
       "    </tr>\n",
       "  </thead>\n",
       "  <tbody>\n",
       "    <tr>\n",
       "      <th>0</th>\n",
       "      <td>31-721-3959</td>\n",
       "      <td>Masculino</td>\n",
       "      <td>7350 Oak Valley Junction</td>\n",
       "      <td>Consulting &amp; IT services</td>\n",
       "      <td>$109.6M</td>\n",
       "    </tr>\n",
       "    <tr>\n",
       "      <th>1</th>\n",
       "      <td>11-529-8808</td>\n",
       "      <td>Masculino</td>\n",
       "      <td>826 Utah Place</td>\n",
       "      <td>Telecommunications Equipment</td>\n",
       "      <td>$116.83M</td>\n",
       "    </tr>\n",
       "    <tr>\n",
       "      <th>2</th>\n",
       "      <td>47-528-1858</td>\n",
       "      <td>Female</td>\n",
       "      <td>169 Jenifer Plaza</td>\n",
       "      <td>Major Banks</td>\n",
       "      <td>$474.65M</td>\n",
       "    </tr>\n",
       "    <tr>\n",
       "      <th>3</th>\n",
       "      <td>46-502-1935</td>\n",
       "      <td>Masculino</td>\n",
       "      <td>15 Spenser Terrace</td>\n",
       "      <td>Hotels/Resorts</td>\n",
       "      <td>$2.78B</td>\n",
       "    </tr>\n",
       "    <tr>\n",
       "      <th>4</th>\n",
       "      <td>76-141-2329</td>\n",
       "      <td>Masculino</td>\n",
       "      <td>05 Longview Court</td>\n",
       "      <td>Consulting &amp; IT services</td>\n",
       "      <td>$474.65M</td>\n",
       "    </tr>\n",
       "  </tbody>\n",
       "</table>\n",
       "</div>"
      ],
      "text/plain": [
       "            Id     Gender                   Address  \\\n",
       "0  31-721-3959  Masculino  7350 Oak Valley Junction   \n",
       "1  11-529-8808  Masculino            826 Utah Place   \n",
       "2  47-528-1858     Female         169 Jenifer Plaza   \n",
       "3  46-502-1935  Masculino        15 Spenser Terrace   \n",
       "4  76-141-2329  Masculino         05 Longview Court   \n",
       "\n",
       "                       Industry    Salary  \n",
       "0      Consulting & IT services   $109.6M  \n",
       "1  Telecommunications Equipment  $116.83M  \n",
       "2                   Major Banks  $474.65M  \n",
       "3                Hotels/Resorts    $2.78B  \n",
       "4      Consulting & IT services  $474.65M  "
      ]
     },
     "execution_count": 94,
     "metadata": {},
     "output_type": "execute_result"
    }
   ],
   "source": [
    "dp.head(5)"
   ]
  },
  {
   "cell_type": "markdown",
   "metadata": {},
   "source": [
    "11) Determinar cuántos valores faltantes hay en cada columna"
   ]
  },
  {
   "cell_type": "code",
   "execution_count": 111,
   "metadata": {},
   "outputs": [
    {
     "data": {
      "text/plain": [
       "Id          0\n",
       "Gender      0\n",
       "Address     0\n",
       "Industry    0\n",
       "Salary      0\n",
       "dtype: int64"
      ]
     },
     "execution_count": 111,
     "metadata": {},
     "output_type": "execute_result"
    }
   ],
   "source": [
    "#dp.isnull()\n",
    "dp.isnull().sum()"
   ]
  },
  {
   "cell_type": "code",
   "execution_count": 5,
   "metadata": {},
   "outputs": [
    {
     "data": {
      "text/html": [
       "<div>\n",
       "<style scoped>\n",
       "    .dataframe tbody tr th:only-of-type {\n",
       "        vertical-align: middle;\n",
       "    }\n",
       "\n",
       "    .dataframe tbody tr th {\n",
       "        vertical-align: top;\n",
       "    }\n",
       "\n",
       "    .dataframe thead th {\n",
       "        text-align: right;\n",
       "    }\n",
       "</style>\n",
       "<table border=\"1\" class=\"dataframe\">\n",
       "  <thead>\n",
       "    <tr style=\"text-align: right;\">\n",
       "      <th></th>\n",
       "      <th>Id</th>\n",
       "      <th>Gender</th>\n",
       "      <th>Address</th>\n",
       "      <th>Industry</th>\n",
       "      <th>Salary</th>\n",
       "    </tr>\n",
       "  </thead>\n",
       "  <tbody>\n",
       "    <tr>\n",
       "      <th>0</th>\n",
       "      <td>31-721-3959</td>\n",
       "      <td>Masculino</td>\n",
       "      <td>7350 Oak Valley Junction</td>\n",
       "      <td>Consulting &amp; IT services</td>\n",
       "      <td>109.6</td>\n",
       "    </tr>\n",
       "    <tr>\n",
       "      <th>1</th>\n",
       "      <td>11-529-8808</td>\n",
       "      <td>Masculino</td>\n",
       "      <td>826 Utah Place</td>\n",
       "      <td>Telecommunications Equipment</td>\n",
       "      <td>116.83</td>\n",
       "    </tr>\n",
       "    <tr>\n",
       "      <th>2</th>\n",
       "      <td>47-528-1858</td>\n",
       "      <td>Female</td>\n",
       "      <td>169 Jenifer Plaza</td>\n",
       "      <td>Major Banks</td>\n",
       "      <td>474.65</td>\n",
       "    </tr>\n",
       "    <tr>\n",
       "      <th>3</th>\n",
       "      <td>46-502-1935</td>\n",
       "      <td>Masculino</td>\n",
       "      <td>15 Spenser Terrace</td>\n",
       "      <td>Hotels/Resorts</td>\n",
       "      <td>2.78</td>\n",
       "    </tr>\n",
       "    <tr>\n",
       "      <th>4</th>\n",
       "      <td>76-141-2329</td>\n",
       "      <td>Masculino</td>\n",
       "      <td>05 Longview Court</td>\n",
       "      <td>Consulting &amp; IT services</td>\n",
       "      <td>474.65</td>\n",
       "    </tr>\n",
       "    <tr>\n",
       "      <th>...</th>\n",
       "      <td>...</td>\n",
       "      <td>...</td>\n",
       "      <td>...</td>\n",
       "      <td>...</td>\n",
       "      <td>...</td>\n",
       "    </tr>\n",
       "    <tr>\n",
       "      <th>995</th>\n",
       "      <td>69-974-2146</td>\n",
       "      <td>Female</td>\n",
       "      <td>88620 Spaight Alley</td>\n",
       "      <td>Integrated oil Companies</td>\n",
       "      <td>276.48</td>\n",
       "    </tr>\n",
       "    <tr>\n",
       "      <th>996</th>\n",
       "      <td>22-921-2179</td>\n",
       "      <td>Masculino</td>\n",
       "      <td>0443 Grayhawk Crossing</td>\n",
       "      <td>Consulting &amp; IT services</td>\n",
       "      <td>15.85</td>\n",
       "    </tr>\n",
       "    <tr>\n",
       "      <th>997</th>\n",
       "      <td>76-888-4085</td>\n",
       "      <td>Masculino</td>\n",
       "      <td>3407 Stuart Hill</td>\n",
       "      <td>Biotechnology: Biological Products (No Diagnos...</td>\n",
       "      <td>1.3</td>\n",
       "    </tr>\n",
       "    <tr>\n",
       "      <th>998</th>\n",
       "      <td>49-258-3426</td>\n",
       "      <td>Masculino</td>\n",
       "      <td>41695 7th Plaza</td>\n",
       "      <td>Books</td>\n",
       "      <td>1.58</td>\n",
       "    </tr>\n",
       "    <tr>\n",
       "      <th>999</th>\n",
       "      <td>59-225-5955</td>\n",
       "      <td>Masculino</td>\n",
       "      <td>2730 Nelson Hill</td>\n",
       "      <td>Major Pharmaceuticals</td>\n",
       "      <td>345.7</td>\n",
       "    </tr>\n",
       "  </tbody>\n",
       "</table>\n",
       "<p>1000 rows × 5 columns</p>\n",
       "</div>"
      ],
      "text/plain": [
       "              Id     Gender                   Address  \\\n",
       "0    31-721-3959  Masculino  7350 Oak Valley Junction   \n",
       "1    11-529-8808  Masculino            826 Utah Place   \n",
       "2    47-528-1858     Female         169 Jenifer Plaza   \n",
       "3    46-502-1935  Masculino        15 Spenser Terrace   \n",
       "4    76-141-2329  Masculino         05 Longview Court   \n",
       "..           ...        ...                       ...   \n",
       "995  69-974-2146     Female       88620 Spaight Alley   \n",
       "996  22-921-2179  Masculino    0443 Grayhawk Crossing   \n",
       "997  76-888-4085  Masculino          3407 Stuart Hill   \n",
       "998  49-258-3426  Masculino           41695 7th Plaza   \n",
       "999  59-225-5955  Masculino          2730 Nelson Hill   \n",
       "\n",
       "                                              Industry  Salary  \n",
       "0                             Consulting & IT services   109.6  \n",
       "1                         Telecommunications Equipment  116.83  \n",
       "2                                          Major Banks  474.65  \n",
       "3                                       Hotels/Resorts    2.78  \n",
       "4                             Consulting & IT services  474.65  \n",
       "..                                                 ...     ...  \n",
       "995                           Integrated oil Companies  276.48  \n",
       "996                           Consulting & IT services   15.85  \n",
       "997  Biotechnology: Biological Products (No Diagnos...     1.3  \n",
       "998                                              Books    1.58  \n",
       "999                              Major Pharmaceuticals   345.7  \n",
       "\n",
       "[1000 rows x 5 columns]"
      ]
     },
     "execution_count": 5,
     "metadata": {},
     "output_type": "execute_result"
    }
   ],
   "source": [
    "dp[\"Salary\"] = dp[\"Salary\"].replace({'B':''}, regex=True)\n",
    "dp[\"Salary\"] = dp[\"Salary\"].replace({'M':''}, regex=True)\n",
    "dp[\"Salary\"] = dp[\"Salary\"].replace({'\\$':''}, regex=True)\n",
    "dp"
   ]
  },
  {
   "cell_type": "markdown",
   "metadata": {},
   "source": [
    "12) Obtener las principales medidas estadística del dataset con su correspondiente interpretación"
   ]
  },
  {
   "cell_type": "code",
   "execution_count": 6,
   "metadata": {},
   "outputs": [
    {
     "data": {
      "text/plain": [
       "dtype('float64')"
      ]
     },
     "execution_count": 6,
     "metadata": {},
     "output_type": "execute_result"
    }
   ],
   "source": [
    "dp['Salary'] = dp['Salary'].astype('float64')\n",
    "dp['Salary'].dtype"
   ]
  },
  {
   "cell_type": "code",
   "execution_count": 7,
   "metadata": {},
   "outputs": [
    {
     "name": "stdout",
     "output_type": "stream",
     "text": [
      "\n",
      "    Media: 578\n",
      "    Mediana: 70\n",
      "    Moda: 345\n",
      "\n"
     ]
    }
   ],
   "source": [
    "media = float(dp[\"Salary\"].mean())\n",
    "mediana = dp[\"Salary\"].median()\n",
    "moda = dp[\"Salary\"].mode()\n",
    "print(\"\"\"\n",
    "    Media: %d\n",
    "    Mediana: %d\n",
    "    Moda: %d\n",
    "\"\"\" % (media,mediana,moda))"
   ]
  },
  {
   "cell_type": "markdown",
   "metadata": {},
   "source": [
    "13) Crear y agregar al dataset la variable **\"ratio_recovered\"** la cual se obtiene al dividir la columna Recovered/Confirmed"
   ]
  },
  {
   "cell_type": "code",
   "execution_count": 28,
   "metadata": {},
   "outputs": [],
   "source": [
    "def new_func():\n",
    "    #ratio_recovered = Recovered/Confirmed\n",
    "\n",
    "new_func()"
   ]
  },
  {
   "cell_type": "markdown",
   "metadata": {},
   "source": [
    "14) Crear y agregar al dataset la variable **\"ratio_death\"** la cual se obtiene al dividir la columna Deaths/Confirmed\n",
    "\n",
    "Aclaración: Tanto para la variable **ratio_recovered** como asi también para la variable **ratio_death**, no es necesario realizar ningún tratamiento de dato para los valores **na**. Esto quiere decir, que únicamente se contempla la creación de las mismas."
   ]
  },
  {
   "cell_type": "code",
   "execution_count": 29,
   "metadata": {},
   "outputs": [],
   "source": [
    "#ratio_death = Recovered/Confirmed"
   ]
  },
  {
   "cell_type": "markdown",
   "metadata": {},
   "source": [
    "15) Obtener e interpretar las distintas correlaciones de variables dentro del dataset"
   ]
  },
  {
   "cell_type": "code",
   "execution_count": 30,
   "metadata": {},
   "outputs": [],
   "source": [
    "###Completar"
   ]
  },
  {
   "attachments": {},
   "cell_type": "markdown",
   "metadata": {},
   "source": [
    "Graáficos"
   ]
  },
  {
   "cell_type": "code",
   "execution_count": 8,
   "metadata": {},
   "outputs": [
    {
     "data": {
      "text/plain": [
       "<AxesSubplot:xlabel='Gender', ylabel='count'>"
      ]
     },
     "execution_count": 8,
     "metadata": {},
     "output_type": "execute_result"
    },
    {
     "data": {
      "image/png": "[encoded data removed]",
      "text/plain": [
       "<Figure size 432x288 with 1 Axes>"
      ]
     },
     "metadata": {
      "needs_background": "light"
     },
     "output_type": "display_data"
    }
   ],
   "source": [
    "#Gráfico de barras de la proveniencia geografica\n",
    "sns.countplot(x='Gender', data=dp)"
   ]
  },
  {
   "cell_type": "code",
   "execution_count": 11,
   "metadata": {},
   "outputs": [
    {
     "name": "stderr",
     "output_type": "stream",
     "text": [
      "c:\\Users\\n_sar\\anaconda3\\lib\\site-packages\\seaborn\\distributions.py:2557: FutureWarning: `distplot` is a deprecated function and will be removed in a future version. Please adapt your code to use either `displot` (a figure-level function with similar flexibility) or `histplot` (an axes-level function for histograms).\n",
      "  warnings.warn(msg, FutureWarning)\n"
     ]
    },
    {
     "data": {
      "text/plain": [
       "<AxesSubplot:xlabel='Salary'>"
      ]
     },
     "execution_count": 11,
     "metadata": {},
     "output_type": "execute_result"
    },
    {
     "data": {
      "image/png": "[encoded data removed]",
      "text/plain": [
       "<Figure size 432x288 with 1 Axes>"
      ]
     },
     "metadata": {
      "needs_background": "light"
     },
     "output_type": "display_data"
    },
    {
     "data": {
      "image/png": "[encoded data removed]",
      "text/plain": [
       "<Figure size 432x288 with 1 Axes>"
      ]
     },
     "metadata": {
      "needs_background": "light"
     },
     "output_type": "display_data"
    }
   ],
   "source": [
    "# Histograma y boxplot de alcohol\n",
    "sns.boxplot(y = 'Salary', data = dp)\n",
    "plt.figure()\n",
    "sns.distplot(dp['Salary'], kde = False)"
   ]
  },
  {
   "cell_type": "code",
   "execution_count": 15,
   "metadata": {},
   "outputs": [
    {
     "name": "stderr",
     "output_type": "stream",
     "text": [
      "c:\\Users\\n_sar\\anaconda3\\lib\\site-packages\\seaborn\\distributions.py:2557: FutureWarning: `distplot` is a deprecated function and will be removed in a future version. Please adapt your code to use either `displot` (a figure-level function with similar flexibility) or `histplot` (an axes-level function for histograms).\n",
      "  warnings.warn(msg, FutureWarning)\n"
     ]
    },
    {
     "data": {
      "text/plain": [
       "<AxesSubplot:xlabel='Salary', ylabel='Density'>"
      ]
     },
     "execution_count": 15,
     "metadata": {},
     "output_type": "execute_result"
    },
    {
     "data": {
      "image/png": "[encoded data removed]",
      "text/plain": [
       "<Figure size 432x288 with 1 Axes>"
      ]
     },
     "metadata": {
      "needs_background": "light"
     },
     "output_type": "display_data"
    }
   ],
   "source": [
    "#seguimos con un histograma\n",
    "sns.distplot(dp['Salary'])"
   ]
  },
  {
   "cell_type": "code",
   "execution_count": 16,
   "metadata": {},
   "outputs": [
    {
     "name": "stderr",
     "output_type": "stream",
     "text": [
      "c:\\Users\\n_sar\\anaconda3\\lib\\site-packages\\seaborn\\distributions.py:2557: FutureWarning: `distplot` is a deprecated function and will be removed in a future version. Please adapt your code to use either `displot` (a figure-level function with similar flexibility) or `histplot` (an axes-level function for histograms).\n",
      "  warnings.warn(msg, FutureWarning)\n"
     ]
    },
    {
     "data": {
      "text/plain": [
       "<AxesSubplot:xlabel='Salary'>"
      ]
     },
     "execution_count": 16,
     "metadata": {},
     "output_type": "execute_result"
    },
    {
     "data": {
      "image/png": "[encoded data removed]",
      "text/plain": [
       "<Figure size 432x288 with 1 Axes>"
      ]
     },
     "metadata": {
      "needs_background": "light"
     },
     "output_type": "display_data"
    }
   ],
   "source": [
    "# y si quieremos ver frequencias en lugar de probabilidades\n",
    "sns.distplot(dp['Salary'], kde = False)"
   ]
  },
  {
   "cell_type": "code",
   "execution_count": 17,
   "metadata": {},
   "outputs": [
    {
     "name": "stderr",
     "output_type": "stream",
     "text": [
      "c:\\Users\\n_sar\\anaconda3\\lib\\site-packages\\seaborn\\distributions.py:2557: FutureWarning: `distplot` is a deprecated function and will be removed in a future version. Please adapt your code to use either `displot` (a figure-level function with similar flexibility) or `histplot` (an axes-level function for histograms).\n",
      "  warnings.warn(msg, FutureWarning)\n"
     ]
    },
    {
     "data": {
      "text/plain": [
       "<AxesSubplot:xlabel='Salary'>"
      ]
     },
     "execution_count": 17,
     "metadata": {},
     "output_type": "execute_result"
    },
    {
     "data": {
      "image/png": "[encoded data removed]",
      "text/plain": [
       "<Figure size 432x288 with 1 Axes>"
      ]
     },
     "metadata": {
      "needs_background": "light"
     },
     "output_type": "display_data"
    },
    {
     "data": {
      "image/png": "[encoded data removed]",
      "text/plain": [
       "<Figure size 432x288 with 1 Axes>"
      ]
     },
     "metadata": {
      "needs_background": "light"
     },
     "output_type": "display_data"
    }
   ],
   "source": [
    "# por fin, miramos histograma y boxplot de alcohol\n",
    "sns.boxplot(y = 'Salary', data = dp)\n",
    "plt.figure()\n",
    "sns.distplot(dp['Salary'], kde = False)"
   ]
  },
  {
   "cell_type": "code",
   "execution_count": 18,
   "metadata": {},
   "outputs": [
    {
     "name": "stdout",
     "output_type": "stream",
     "text": [
      "AxesSubplot(0.125,0.125;0.775x0.755)\n"
     ]
    },
    {
     "data": {
      "image/png": "[encoded data removed]",
      "text/plain": [
       "<Figure size 432x288 with 1 Axes>"
      ]
     },
     "metadata": {
      "needs_background": "light"
     },
     "output_type": "display_data"
    }
   ],
   "source": [
    "# ahora vamos con correlacion entre variable categorica y variable numerica!\n",
    "print(sns.barplot(x = 'Gender', y = 'Salary', data = dp))"
   ]
  },
  {
   "cell_type": "code",
   "execution_count": 21,
   "metadata": {},
   "outputs": [
    {
     "data": {
      "text/plain": [
       "<AxesSubplot:xlabel='Salary', ylabel='Gender'>"
      ]
     },
     "execution_count": 21,
     "metadata": {},
     "output_type": "execute_result"
    },
    {
     "data": {
      "image/png": "[encoded data removed]",
      "text/plain": [
       "<Figure size 432x288 with 1 Axes>"
      ]
     },
     "metadata": {
      "needs_background": "light"
     },
     "output_type": "display_data"
    }
   ],
   "source": [
    "# mismas variables, con el boxplot lo vemos con mas detalles\n",
    "sns.boxplot(x = 'Gender', y = 'Salary', data = dp)"
   ]
  },
  {
   "cell_type": "code",
   "execution_count": 23,
   "metadata": {},
   "outputs": [
    {
     "data": {
      "text/plain": [
       "Id           object\n",
       "Gender       object\n",
       "Address      object\n",
       "Industry     object\n",
       "Salary      float64\n",
       "dtype: object"
      ]
     },
     "execution_count": 23,
     "metadata": {},
     "output_type": "execute_result"
    }
   ],
   "source": [
    "dp.dtypes"
   ]
  },
  {
   "cell_type": "code",
   "execution_count": 24,
   "metadata": {},
   "outputs": [
    {
     "data": {
      "text/plain": [
       "<AxesSubplot:>"
      ]
     },
     "execution_count": 24,
     "metadata": {},
     "output_type": "execute_result"
    },
    {
     "data": {
      "image/png": "[encoded data removed]",
      "text/plain": [
       "<Figure size 720x720 with 2 Axes>"
      ]
     },
     "metadata": {
      "needs_background": "light"
     },
     "output_type": "display_data"
    }
   ],
   "source": [
    "# Correlaciones?\n",
    "corr = dp.corr()\n",
    "plt.figure(figsize=(10, 10))\n",
    "sns.heatmap(corr, vmax=.5, linewidths=0.01,\n",
    "            square=True,annot=True)"
   ]
  },
  {
   "cell_type": "code",
   "execution_count": 25,
   "metadata": {},
   "outputs": [
    {
     "data": {
      "text/plain": [
       "<seaborn.axisgrid.PairGrid at 0x1fb4439fd90>"
      ]
     },
     "execution_count": 25,
     "metadata": {},
     "output_type": "execute_result"
    },
    {
     "data": {
      "image/png": "[encoded data removed]",
      "text/plain": [
       "<Figure size 180x180 with 2 Axes>"
      ]
     },
     "metadata": {
      "needs_background": "light"
     },
     "output_type": "display_data"
    }
   ],
   "source": [
    "sns.pairplot(dp)"
   ]
  }
 ],
 "metadata": {
  "kernelspec": {
   "display_name": "base",
   "language": "python",
   "name": "python3"
  },
  "language_info": {
   "codemirror_mode": {
    "name": "ipython",
    "version": 3
   },
   "file_extension": ".py",
   "mimetype": "text/x-python",
   "name": "python",
   "nbconvert_exporter": "python",
   "pygments_lexer": "ipython3",
   "version": "3.8.8"
  },
  "varInspector": {
   "cols": {
    "lenName": 16,
    "lenType": 16,
    "lenVar": 40
   },
   "kernels_config": {
    "python": {
     "delete_cmd_postfix": "",
     "delete_cmd_prefix": "del ",
     "library": "var_list.py",
     "varRefreshCmd": "print(var_dic_list())"
    },
    "r": {
     "delete_cmd_postfix": ") ",
     "delete_cmd_prefix": "rm(",
     "library": "var_list.r",
     "varRefreshCmd": "cat(var_dic_list()) "
    }
   },
   "types_to_exclude": [
    "module",
    "function",
    "builtin_function_or_method",
    "instance",
    "_Feature"
   ],
   "window_display": false
  },
  "vscode": {
   "interpreter": {
    "hash": "5beeed5a7ffdc4b4a0108c0b3292efe9a775794c700b606d5e33717d9ba16765"
   }
  }
 },
 "nbformat": 4,
 "nbformat_minor": 4
}
