{
 "cells": [
  {
   "cell_type": "code",
   "execution_count": 1,
   "id": "895bcbf3",
   "metadata": {},
   "outputs": [],
   "source": [
    "import pandas as pd"
   ]
  },
  {
   "cell_type": "code",
   "execution_count": 2,
   "id": "acde3b71",
   "metadata": {},
   "outputs": [],
   "source": [
    "tabla = pd.read_csv('C:/Users/n_sar/OneDrive/Escritorio/Nathye/Data Science/Python/dataset_viajes_sube.csv')"
   ]
  },
  {
   "cell_type": "code",
   "execution_count": 38,
   "id": "c53a9b08",
   "metadata": {},
   "outputs": [
    {
     "data": {
      "text/plain": [
       "4"
      ]
     },
     "execution_count": 38,
     "metadata": {},
     "output_type": "execute_result"
    }
   ],
   "source": [
    "tabla.shape[1]"
   ]
  },
  {
   "cell_type": "code",
   "execution_count": 40,
   "id": "7061e5c9",
   "metadata": {},
   "outputs": [
    {
     "data": {
      "text/plain": [
       "(1878, 4)"
      ]
     },
     "execution_count": 40,
     "metadata": {},
     "output_type": "execute_result"
    }
   ],
   "source": [
    "tabla.shape"
   ]
  },
  {
   "cell_type": "code",
   "execution_count": 5,
   "id": "c44041a8",
   "metadata": {},
   "outputs": [
    {
     "data": {
      "text/html": [
       "<div>\n",
       "<style scoped>\n",
       "    .dataframe tbody tr th:only-of-type {\n",
       "        vertical-align: middle;\n",
       "    }\n",
       "\n",
       "    .dataframe tbody tr th {\n",
       "        vertical-align: top;\n",
       "    }\n",
       "\n",
       "    .dataframe thead th {\n",
       "        text-align: right;\n",
       "    }\n",
       "</style>\n",
       "<table border=\"1\" class=\"dataframe\">\n",
       "  <thead>\n",
       "    <tr style=\"text-align: right;\">\n",
       "      <th></th>\n",
       "      <th>TIPO_TRANSPORTE</th>\n",
       "      <th>DIA</th>\n",
       "      <th>PARCIAL</th>\n",
       "      <th>CANTIDAD</th>\n",
       "    </tr>\n",
       "  </thead>\n",
       "  <tbody>\n",
       "    <tr>\n",
       "      <th>0</th>\n",
       "      <td>Subte</td>\n",
       "      <td>31MAR2020:00:00:00</td>\n",
       "      <td>NaN</td>\n",
       "      <td>NaN</td>\n",
       "    </tr>\n",
       "    <tr>\n",
       "      <th>1</th>\n",
       "      <td>Subte</td>\n",
       "      <td>01APR2020:00:00:00</td>\n",
       "      <td>NaN</td>\n",
       "      <td>NaN</td>\n",
       "    </tr>\n",
       "    <tr>\n",
       "      <th>2</th>\n",
       "      <td>Subte</td>\n",
       "      <td>02APR2020:00:00:00</td>\n",
       "      <td>NaN</td>\n",
       "      <td>NaN</td>\n",
       "    </tr>\n",
       "    <tr>\n",
       "      <th>3</th>\n",
       "      <td>Subte</td>\n",
       "      <td>03APR2020:00:00:00</td>\n",
       "      <td>NaN</td>\n",
       "      <td>NaN</td>\n",
       "    </tr>\n",
       "    <tr>\n",
       "      <th>4</th>\n",
       "      <td>Subte</td>\n",
       "      <td>04APR2020:00:00:00</td>\n",
       "      <td>NaN</td>\n",
       "      <td>NaN</td>\n",
       "    </tr>\n",
       "  </tbody>\n",
       "</table>\n",
       "</div>"
      ],
      "text/plain": [
       "  TIPO_TRANSPORTE                 DIA PARCIAL  CANTIDAD\n",
       "0           Subte  31MAR2020:00:00:00     NaN       NaN\n",
       "1           Subte  01APR2020:00:00:00     NaN       NaN\n",
       "2           Subte  02APR2020:00:00:00     NaN       NaN\n",
       "3           Subte  03APR2020:00:00:00     NaN       NaN\n",
       "4           Subte  04APR2020:00:00:00     NaN       NaN"
      ]
     },
     "execution_count": 5,
     "metadata": {},
     "output_type": "execute_result"
    }
   ],
   "source": [
    "tabla.head()"
   ]
  },
  {
   "cell_type": "code",
   "execution_count": 6,
   "id": "69b34f2c",
   "metadata": {},
   "outputs": [
    {
     "data": {
      "text/html": [
       "<div>\n",
       "<style scoped>\n",
       "    .dataframe tbody tr th:only-of-type {\n",
       "        vertical-align: middle;\n",
       "    }\n",
       "\n",
       "    .dataframe tbody tr th {\n",
       "        vertical-align: top;\n",
       "    }\n",
       "\n",
       "    .dataframe thead th {\n",
       "        text-align: right;\n",
       "    }\n",
       "</style>\n",
       "<table border=\"1\" class=\"dataframe\">\n",
       "  <thead>\n",
       "    <tr style=\"text-align: right;\">\n",
       "      <th></th>\n",
       "      <th>TIPO_TRANSPORTE</th>\n",
       "      <th>DIA</th>\n",
       "      <th>PARCIAL</th>\n",
       "      <th>CANTIDAD</th>\n",
       "    </tr>\n",
       "  </thead>\n",
       "  <tbody>\n",
       "    <tr>\n",
       "      <th>1873</th>\n",
       "      <td>Subte</td>\n",
       "      <td>25SEP2021:00:00:00</td>\n",
       "      <td>True</td>\n",
       "      <td>230834.0</td>\n",
       "    </tr>\n",
       "    <tr>\n",
       "      <th>1874</th>\n",
       "      <td>Subte</td>\n",
       "      <td>26SEP2021:00:00:00</td>\n",
       "      <td>True</td>\n",
       "      <td>133714.0</td>\n",
       "    </tr>\n",
       "    <tr>\n",
       "      <th>1875</th>\n",
       "      <td>Tren</td>\n",
       "      <td>25SEP2021:00:00:00</td>\n",
       "      <td>False</td>\n",
       "      <td>516037.0</td>\n",
       "    </tr>\n",
       "    <tr>\n",
       "      <th>1876</th>\n",
       "      <td>Tren</td>\n",
       "      <td>26SEP2021:00:00:00</td>\n",
       "      <td>False</td>\n",
       "      <td>239172.0</td>\n",
       "    </tr>\n",
       "    <tr>\n",
       "      <th>1877</th>\n",
       "      <td>Tren</td>\n",
       "      <td>27SEP2021:00:00:00</td>\n",
       "      <td>True</td>\n",
       "      <td>829845.0</td>\n",
       "    </tr>\n",
       "  </tbody>\n",
       "</table>\n",
       "</div>"
      ],
      "text/plain": [
       "     TIPO_TRANSPORTE                 DIA PARCIAL  CANTIDAD\n",
       "1873           Subte  25SEP2021:00:00:00    True  230834.0\n",
       "1874           Subte  26SEP2021:00:00:00    True  133714.0\n",
       "1875            Tren  25SEP2021:00:00:00   False  516037.0\n",
       "1876            Tren  26SEP2021:00:00:00   False  239172.0\n",
       "1877            Tren  27SEP2021:00:00:00    True  829845.0"
      ]
     },
     "execution_count": 6,
     "metadata": {},
     "output_type": "execute_result"
    }
   ],
   "source": [
    "tabla.tail()"
   ]
  },
  {
   "cell_type": "code",
   "execution_count": 7,
   "id": "68e3331a",
   "metadata": {},
   "outputs": [
    {
     "name": "stdout",
     "output_type": "stream",
     "text": [
      "<class 'pandas.core.frame.DataFrame'>\n",
      "RangeIndex: 1878 entries, 0 to 1877\n",
      "Data columns (total 4 columns):\n",
      " #   Column           Non-Null Count  Dtype  \n",
      "---  ------           --------------  -----  \n",
      " 0   TIPO_TRANSPORTE  1878 non-null   object \n",
      " 1   DIA              1878 non-null   object \n",
      " 2   PARCIAL          996 non-null    object \n",
      " 3   CANTIDAD         996 non-null    float64\n",
      "dtypes: float64(1), object(3)\n",
      "memory usage: 58.8+ KB\n"
     ]
    }
   ],
   "source": [
    "tabla.info()"
   ]
  },
  {
   "cell_type": "code",
   "execution_count": 8,
   "id": "f2e71cf8",
   "metadata": {},
   "outputs": [
    {
     "data": {
      "text/plain": [
       "Tren         629\n",
       "Subte        625\n",
       "Colectivo    624\n",
       "Name: TIPO_TRANSPORTE, dtype: int64"
      ]
     },
     "execution_count": 8,
     "metadata": {},
     "output_type": "execute_result"
    }
   ],
   "source": [
    "tabla.TIPO_TRANSPORTE.value_counts()"
   ]
  },
  {
   "cell_type": "code",
   "execution_count": 9,
   "id": "3b15f01c",
   "metadata": {},
   "outputs": [
    {
     "data": {
      "text/plain": [
       "27JAN2021:00:00:00    10\n",
       "19JAN2021:00:00:00     7\n",
       "09JAN2021:00:00:00     6\n",
       "21FEB2021:00:00:00     6\n",
       "10JAN2021:00:00:00     6\n",
       "                      ..\n",
       "16JUN2021:00:00:00     3\n",
       "11SEP2021:00:00:00     3\n",
       "13SEP2020:00:00:00     3\n",
       "20MAY2021:00:00:00     3\n",
       "16DEC2020:00:00:00     3\n",
       "Name: DIA, Length: 608, dtype: int64"
      ]
     },
     "execution_count": 9,
     "metadata": {},
     "output_type": "execute_result"
    }
   ],
   "source": [
    "tabla.DIA.value_counts()"
   ]
  },
  {
   "cell_type": "code",
   "execution_count": 10,
   "id": "8ef3a4c3",
   "metadata": {},
   "outputs": [
    {
     "data": {
      "text/plain": [
       "False    776\n",
       "True     220\n",
       "Name: PARCIAL, dtype: int64"
      ]
     },
     "execution_count": 10,
     "metadata": {},
     "output_type": "execute_result"
    }
   ],
   "source": [
    "tabla.PARCIAL.value_counts()"
   ]
  },
  {
   "cell_type": "code",
   "execution_count": 11,
   "id": "3280e8dd",
   "metadata": {},
   "outputs": [
    {
     "data": {
      "text/plain": [
       "538559.0     4\n",
       "2297091.0    4\n",
       "163756.0     3\n",
       "158709.0     3\n",
       "56860.0      2\n",
       "            ..\n",
       "178526.0     1\n",
       "535587.0     1\n",
       "177083.0     1\n",
       "73665.0      1\n",
       "2313879.0    1\n",
       "Name: CANTIDAD, Length: 956, dtype: int64"
      ]
     },
     "execution_count": 11,
     "metadata": {},
     "output_type": "execute_result"
    }
   ],
   "source": [
    "tabla.CANTIDAD.value_counts()"
   ]
  },
  {
   "cell_type": "code",
   "execution_count": 12,
   "id": "e59f07bb",
   "metadata": {},
   "outputs": [
    {
     "data": {
      "text/html": [
       "<div>\n",
       "<style scoped>\n",
       "    .dataframe tbody tr th:only-of-type {\n",
       "        vertical-align: middle;\n",
       "    }\n",
       "\n",
       "    .dataframe tbody tr th {\n",
       "        vertical-align: top;\n",
       "    }\n",
       "\n",
       "    .dataframe thead th {\n",
       "        text-align: right;\n",
       "    }\n",
       "</style>\n",
       "<table border=\"1\" class=\"dataframe\">\n",
       "  <thead>\n",
       "    <tr style=\"text-align: right;\">\n",
       "      <th></th>\n",
       "      <th>TIPO_TRANSPORTE</th>\n",
       "      <th>DIA</th>\n",
       "      <th>PARCIAL</th>\n",
       "      <th>CANTIDAD</th>\n",
       "    </tr>\n",
       "  </thead>\n",
       "  <tbody>\n",
       "    <tr>\n",
       "      <th>690</th>\n",
       "      <td>Colectivo</td>\n",
       "      <td>29OCT2021:00:00:00</td>\n",
       "      <td>True</td>\n",
       "      <td>26863.0</td>\n",
       "    </tr>\n",
       "    <tr>\n",
       "      <th>1280</th>\n",
       "      <td>Colectivo</td>\n",
       "      <td>08OCT2021:00:00:00</td>\n",
       "      <td>False</td>\n",
       "      <td>37223.0</td>\n",
       "    </tr>\n",
       "    <tr>\n",
       "      <th>1282</th>\n",
       "      <td>Colectivo</td>\n",
       "      <td>10OCT2021:00:00:00</td>\n",
       "      <td>False</td>\n",
       "      <td>89136.0</td>\n",
       "    </tr>\n",
       "    <tr>\n",
       "      <th>1281</th>\n",
       "      <td>Colectivo</td>\n",
       "      <td>09OCT2021:00:00:00</td>\n",
       "      <td>False</td>\n",
       "      <td>104643.0</td>\n",
       "    </tr>\n",
       "    <tr>\n",
       "      <th>908</th>\n",
       "      <td>Colectivo</td>\n",
       "      <td>07OCT2021:00:00:00</td>\n",
       "      <td>False</td>\n",
       "      <td>128102.0</td>\n",
       "    </tr>\n",
       "    <tr>\n",
       "      <th>...</th>\n",
       "      <td>...</td>\n",
       "      <td>...</td>\n",
       "      <td>...</td>\n",
       "      <td>...</td>\n",
       "    </tr>\n",
       "    <tr>\n",
       "      <th>1501</th>\n",
       "      <td>Tren</td>\n",
       "      <td>31DEC2020:00:00:00</td>\n",
       "      <td>NaN</td>\n",
       "      <td>NaN</td>\n",
       "    </tr>\n",
       "    <tr>\n",
       "      <th>1502</th>\n",
       "      <td>Tren</td>\n",
       "      <td>01JAN2021:00:00:00</td>\n",
       "      <td>NaN</td>\n",
       "      <td>NaN</td>\n",
       "    </tr>\n",
       "    <tr>\n",
       "      <th>1503</th>\n",
       "      <td>Tren</td>\n",
       "      <td>02JAN2021:00:00:00</td>\n",
       "      <td>NaN</td>\n",
       "      <td>NaN</td>\n",
       "    </tr>\n",
       "    <tr>\n",
       "      <th>1504</th>\n",
       "      <td>Tren</td>\n",
       "      <td>03JAN2021:00:00:00</td>\n",
       "      <td>NaN</td>\n",
       "      <td>NaN</td>\n",
       "    </tr>\n",
       "    <tr>\n",
       "      <th>1505</th>\n",
       "      <td>Tren</td>\n",
       "      <td>04JAN2021:00:00:00</td>\n",
       "      <td>NaN</td>\n",
       "      <td>NaN</td>\n",
       "    </tr>\n",
       "  </tbody>\n",
       "</table>\n",
       "<p>1878 rows × 4 columns</p>\n",
       "</div>"
      ],
      "text/plain": [
       "     TIPO_TRANSPORTE                 DIA PARCIAL  CANTIDAD\n",
       "690        Colectivo  29OCT2021:00:00:00    True   26863.0\n",
       "1280       Colectivo  08OCT2021:00:00:00   False   37223.0\n",
       "1282       Colectivo  10OCT2021:00:00:00   False   89136.0\n",
       "1281       Colectivo  09OCT2021:00:00:00   False  104643.0\n",
       "908        Colectivo  07OCT2021:00:00:00   False  128102.0\n",
       "...              ...                 ...     ...       ...\n",
       "1501            Tren  31DEC2020:00:00:00     NaN       NaN\n",
       "1502            Tren  01JAN2021:00:00:00     NaN       NaN\n",
       "1503            Tren  02JAN2021:00:00:00     NaN       NaN\n",
       "1504            Tren  03JAN2021:00:00:00     NaN       NaN\n",
       "1505            Tren  04JAN2021:00:00:00     NaN       NaN\n",
       "\n",
       "[1878 rows x 4 columns]"
      ]
     },
     "execution_count": 12,
     "metadata": {},
     "output_type": "execute_result"
    }
   ],
   "source": [
    "tabla.sort_values(by=['TIPO_TRANSPORTE','CANTIDAD'])"
   ]
  },
  {
   "cell_type": "code",
   "execution_count": 13,
   "id": "a0ab96ea",
   "metadata": {},
   "outputs": [
    {
     "data": {
      "text/plain": [
       "Colectivo    624\n",
       "Subte        625\n",
       "Tren         629\n",
       "Name: TIPO_TRANSPORTE, dtype: int64"
      ]
     },
     "execution_count": 13,
     "metadata": {},
     "output_type": "execute_result"
    }
   ],
   "source": [
    "tabla.TIPO_TRANSPORTE.value_counts(ascending=True)"
   ]
  },
  {
   "cell_type": "code",
   "execution_count": 14,
   "id": "7716ff97",
   "metadata": {},
   "outputs": [
    {
     "data": {
      "text/plain": [
       "938     Colectivo\n",
       "580     Colectivo\n",
       "1185    Colectivo\n",
       "583     Colectivo\n",
       "1182    Colectivo\n",
       "          ...    \n",
       "425          Tren\n",
       "422          Tren\n",
       "419          Tren\n",
       "1329         Tren\n",
       "1877         Tren\n",
       "Name: TIPO_TRANSPORTE, Length: 1878, dtype: object"
      ]
     },
     "execution_count": 14,
     "metadata": {},
     "output_type": "execute_result"
    }
   ],
   "source": [
    "tabla.TIPO_TRANSPORTE.sort_values()"
   ]
  },
  {
   "cell_type": "code",
   "execution_count": 18,
   "id": "ca7f62bf",
   "metadata": {},
   "outputs": [
    {
     "data": {
      "text/html": [
       "<div>\n",
       "<style scoped>\n",
       "    .dataframe tbody tr th:only-of-type {\n",
       "        vertical-align: middle;\n",
       "    }\n",
       "\n",
       "    .dataframe tbody tr th {\n",
       "        vertical-align: top;\n",
       "    }\n",
       "\n",
       "    .dataframe thead th {\n",
       "        text-align: right;\n",
       "    }\n",
       "</style>\n",
       "<table border=\"1\" class=\"dataframe\">\n",
       "  <thead>\n",
       "    <tr style=\"text-align: right;\">\n",
       "      <th></th>\n",
       "      <th>TIPO_TRANSPORTE</th>\n",
       "      <th>DIA</th>\n",
       "      <th>PARCIAL</th>\n",
       "      <th>CANTIDAD</th>\n",
       "    </tr>\n",
       "  </thead>\n",
       "  <tbody>\n",
       "  </tbody>\n",
       "</table>\n",
       "</div>"
      ],
      "text/plain": [
       "Empty DataFrame\n",
       "Columns: [TIPO_TRANSPORTE, DIA, PARCIAL, CANTIDAD]\n",
       "Index: []"
      ]
     },
     "execution_count": 18,
     "metadata": {},
     "output_type": "execute_result"
    }
   ],
   "source": [
    "tabla[(tabla.TIPO_TRANSPORTE == 'Tren') & (tabla.PARCIAL == 'False')]"
   ]
  },
  {
   "cell_type": "code",
   "execution_count": 19,
   "id": "ffa08238",
   "metadata": {},
   "outputs": [
    {
     "data": {
      "text/html": [
       "<div>\n",
       "<style scoped>\n",
       "    .dataframe tbody tr th:only-of-type {\n",
       "        vertical-align: middle;\n",
       "    }\n",
       "\n",
       "    .dataframe tbody tr th {\n",
       "        vertical-align: top;\n",
       "    }\n",
       "\n",
       "    .dataframe thead th {\n",
       "        text-align: right;\n",
       "    }\n",
       "</style>\n",
       "<table border=\"1\" class=\"dataframe\">\n",
       "  <thead>\n",
       "    <tr style=\"text-align: right;\">\n",
       "      <th></th>\n",
       "      <th>TIPO_TRANSPORTE</th>\n",
       "      <th>DIA</th>\n",
       "      <th>PARCIAL</th>\n",
       "      <th>CANTIDAD</th>\n",
       "    </tr>\n",
       "  </thead>\n",
       "  <tbody>\n",
       "    <tr>\n",
       "      <th>166</th>\n",
       "      <td>Colectivo</td>\n",
       "      <td>04MAR2021:00:00:00</td>\n",
       "      <td>False</td>\n",
       "      <td>2914400.0</td>\n",
       "    </tr>\n",
       "    <tr>\n",
       "      <th>170</th>\n",
       "      <td>Colectivo</td>\n",
       "      <td>17MAR2021:00:00:00</td>\n",
       "      <td>False</td>\n",
       "      <td>2836336.0</td>\n",
       "    </tr>\n",
       "    <tr>\n",
       "      <th>173</th>\n",
       "      <td>Colectivo</td>\n",
       "      <td>18MAR2021:00:00:00</td>\n",
       "      <td>False</td>\n",
       "      <td>3064779.0</td>\n",
       "    </tr>\n",
       "    <tr>\n",
       "      <th>176</th>\n",
       "      <td>Colectivo</td>\n",
       "      <td>20MAR2021:00:00:00</td>\n",
       "      <td>False</td>\n",
       "      <td>1574306.0</td>\n",
       "    </tr>\n",
       "    <tr>\n",
       "      <th>177</th>\n",
       "      <td>Colectivo</td>\n",
       "      <td>21MAR2021:00:00:00</td>\n",
       "      <td>False</td>\n",
       "      <td>1192230.0</td>\n",
       "    </tr>\n",
       "    <tr>\n",
       "      <th>...</th>\n",
       "      <td>...</td>\n",
       "      <td>...</td>\n",
       "      <td>...</td>\n",
       "      <td>...</td>\n",
       "    </tr>\n",
       "    <tr>\n",
       "      <th>1860</th>\n",
       "      <td>Colectivo</td>\n",
       "      <td>22AUG2021:00:00:00</td>\n",
       "      <td>False</td>\n",
       "      <td>1349876.0</td>\n",
       "    </tr>\n",
       "    <tr>\n",
       "      <th>1861</th>\n",
       "      <td>Colectivo</td>\n",
       "      <td>23AUG2021:00:00:00</td>\n",
       "      <td>False</td>\n",
       "      <td>3278365.0</td>\n",
       "    </tr>\n",
       "    <tr>\n",
       "      <th>1869</th>\n",
       "      <td>Colectivo</td>\n",
       "      <td>25SEP2021:00:00:00</td>\n",
       "      <td>False</td>\n",
       "      <td>2364580.0</td>\n",
       "    </tr>\n",
       "    <tr>\n",
       "      <th>1870</th>\n",
       "      <td>Colectivo</td>\n",
       "      <td>26SEP2021:00:00:00</td>\n",
       "      <td>False</td>\n",
       "      <td>1515376.0</td>\n",
       "    </tr>\n",
       "    <tr>\n",
       "      <th>1871</th>\n",
       "      <td>Colectivo</td>\n",
       "      <td>27SEP2021:00:00:00</td>\n",
       "      <td>False</td>\n",
       "      <td>3394471.0</td>\n",
       "    </tr>\n",
       "  </tbody>\n",
       "</table>\n",
       "<p>624 rows × 4 columns</p>\n",
       "</div>"
      ],
      "text/plain": [
       "     TIPO_TRANSPORTE                 DIA PARCIAL   CANTIDAD\n",
       "166        Colectivo  04MAR2021:00:00:00   False  2914400.0\n",
       "170        Colectivo  17MAR2021:00:00:00   False  2836336.0\n",
       "173        Colectivo  18MAR2021:00:00:00   False  3064779.0\n",
       "176        Colectivo  20MAR2021:00:00:00   False  1574306.0\n",
       "177        Colectivo  21MAR2021:00:00:00   False  1192230.0\n",
       "...              ...                 ...     ...        ...\n",
       "1860       Colectivo  22AUG2021:00:00:00   False  1349876.0\n",
       "1861       Colectivo  23AUG2021:00:00:00   False  3278365.0\n",
       "1869       Colectivo  25SEP2021:00:00:00   False  2364580.0\n",
       "1870       Colectivo  26SEP2021:00:00:00   False  1515376.0\n",
       "1871       Colectivo  27SEP2021:00:00:00   False  3394471.0\n",
       "\n",
       "[624 rows x 4 columns]"
      ]
     },
     "execution_count": 19,
     "metadata": {},
     "output_type": "execute_result"
    }
   ],
   "source": [
    "tabla[tabla.TIPO_TRANSPORTE.str.contains('Colectivo')]"
   ]
  },
  {
   "cell_type": "code",
   "execution_count": 20,
   "id": "03afe57e",
   "metadata": {},
   "outputs": [
    {
     "data": {
      "text/html": [
       "<div>\n",
       "<style scoped>\n",
       "    .dataframe tbody tr th:only-of-type {\n",
       "        vertical-align: middle;\n",
       "    }\n",
       "\n",
       "    .dataframe tbody tr th {\n",
       "        vertical-align: top;\n",
       "    }\n",
       "\n",
       "    .dataframe thead th {\n",
       "        text-align: right;\n",
       "    }\n",
       "</style>\n",
       "<table border=\"1\" class=\"dataframe\">\n",
       "  <thead>\n",
       "    <tr style=\"text-align: right;\">\n",
       "      <th></th>\n",
       "      <th>TIPO_TRANSPORTE</th>\n",
       "      <th>DIA</th>\n",
       "      <th>PARCIAL</th>\n",
       "      <th>CANTIDAD</th>\n",
       "    </tr>\n",
       "  </thead>\n",
       "  <tbody>\n",
       "    <tr>\n",
       "      <th>92</th>\n",
       "      <td>Tren</td>\n",
       "      <td>01MAR2020:00:00:00</td>\n",
       "      <td>NaN</td>\n",
       "      <td>NaN</td>\n",
       "    </tr>\n",
       "    <tr>\n",
       "      <th>93</th>\n",
       "      <td>Tren</td>\n",
       "      <td>02MAR2020:00:00:00</td>\n",
       "      <td>NaN</td>\n",
       "      <td>NaN</td>\n",
       "    </tr>\n",
       "    <tr>\n",
       "      <th>94</th>\n",
       "      <td>Tren</td>\n",
       "      <td>03MAR2020:00:00:00</td>\n",
       "      <td>NaN</td>\n",
       "      <td>NaN</td>\n",
       "    </tr>\n",
       "    <tr>\n",
       "      <th>95</th>\n",
       "      <td>Tren</td>\n",
       "      <td>04MAR2020:00:00:00</td>\n",
       "      <td>NaN</td>\n",
       "      <td>NaN</td>\n",
       "    </tr>\n",
       "    <tr>\n",
       "      <th>96</th>\n",
       "      <td>Tren</td>\n",
       "      <td>05MAR2020:00:00:00</td>\n",
       "      <td>NaN</td>\n",
       "      <td>NaN</td>\n",
       "    </tr>\n",
       "    <tr>\n",
       "      <th>...</th>\n",
       "      <td>...</td>\n",
       "      <td>...</td>\n",
       "      <td>...</td>\n",
       "      <td>...</td>\n",
       "    </tr>\n",
       "    <tr>\n",
       "      <th>1867</th>\n",
       "      <td>Tren</td>\n",
       "      <td>22AUG2021:00:00:00</td>\n",
       "      <td>False</td>\n",
       "      <td>205347.0</td>\n",
       "    </tr>\n",
       "    <tr>\n",
       "      <th>1868</th>\n",
       "      <td>Tren</td>\n",
       "      <td>23AUG2021:00:00:00</td>\n",
       "      <td>False</td>\n",
       "      <td>736491.0</td>\n",
       "    </tr>\n",
       "    <tr>\n",
       "      <th>1875</th>\n",
       "      <td>Tren</td>\n",
       "      <td>25SEP2021:00:00:00</td>\n",
       "      <td>False</td>\n",
       "      <td>516037.0</td>\n",
       "    </tr>\n",
       "    <tr>\n",
       "      <th>1876</th>\n",
       "      <td>Tren</td>\n",
       "      <td>26SEP2021:00:00:00</td>\n",
       "      <td>False</td>\n",
       "      <td>239172.0</td>\n",
       "    </tr>\n",
       "    <tr>\n",
       "      <th>1877</th>\n",
       "      <td>Tren</td>\n",
       "      <td>27SEP2021:00:00:00</td>\n",
       "      <td>True</td>\n",
       "      <td>829845.0</td>\n",
       "    </tr>\n",
       "  </tbody>\n",
       "</table>\n",
       "<p>629 rows × 4 columns</p>\n",
       "</div>"
      ],
      "text/plain": [
       "     TIPO_TRANSPORTE                 DIA PARCIAL  CANTIDAD\n",
       "92              Tren  01MAR2020:00:00:00     NaN       NaN\n",
       "93              Tren  02MAR2020:00:00:00     NaN       NaN\n",
       "94              Tren  03MAR2020:00:00:00     NaN       NaN\n",
       "95              Tren  04MAR2020:00:00:00     NaN       NaN\n",
       "96              Tren  05MAR2020:00:00:00     NaN       NaN\n",
       "...              ...                 ...     ...       ...\n",
       "1867            Tren  22AUG2021:00:00:00   False  205347.0\n",
       "1868            Tren  23AUG2021:00:00:00   False  736491.0\n",
       "1875            Tren  25SEP2021:00:00:00   False  516037.0\n",
       "1876            Tren  26SEP2021:00:00:00   False  239172.0\n",
       "1877            Tren  27SEP2021:00:00:00    True  829845.0\n",
       "\n",
       "[629 rows x 4 columns]"
      ]
     },
     "execution_count": 20,
     "metadata": {},
     "output_type": "execute_result"
    }
   ],
   "source": [
    "tabla[tabla.TIPO_TRANSPORTE.str.startswith('T')]"
   ]
  },
  {
   "cell_type": "code",
   "execution_count": 21,
   "id": "f31feaac",
   "metadata": {},
   "outputs": [
    {
     "data": {
      "text/html": [
       "<div>\n",
       "<style scoped>\n",
       "    .dataframe tbody tr th:only-of-type {\n",
       "        vertical-align: middle;\n",
       "    }\n",
       "\n",
       "    .dataframe tbody tr th {\n",
       "        vertical-align: top;\n",
       "    }\n",
       "\n",
       "    .dataframe thead th {\n",
       "        text-align: right;\n",
       "    }\n",
       "</style>\n",
       "<table border=\"1\" class=\"dataframe\">\n",
       "  <thead>\n",
       "    <tr style=\"text-align: right;\">\n",
       "      <th></th>\n",
       "      <th>TIPO_TRANSPORTE</th>\n",
       "      <th>DIA</th>\n",
       "      <th>PARCIAL</th>\n",
       "      <th>CANTIDAD</th>\n",
       "    </tr>\n",
       "  </thead>\n",
       "  <tbody>\n",
       "    <tr>\n",
       "      <th>166</th>\n",
       "      <td>Colectivo</td>\n",
       "      <td>04MAR2021:00:00:00</td>\n",
       "      <td>False</td>\n",
       "      <td>2914400.0</td>\n",
       "    </tr>\n",
       "    <tr>\n",
       "      <th>170</th>\n",
       "      <td>Colectivo</td>\n",
       "      <td>17MAR2021:00:00:00</td>\n",
       "      <td>False</td>\n",
       "      <td>2836336.0</td>\n",
       "    </tr>\n",
       "    <tr>\n",
       "      <th>173</th>\n",
       "      <td>Colectivo</td>\n",
       "      <td>18MAR2021:00:00:00</td>\n",
       "      <td>False</td>\n",
       "      <td>3064779.0</td>\n",
       "    </tr>\n",
       "    <tr>\n",
       "      <th>176</th>\n",
       "      <td>Colectivo</td>\n",
       "      <td>20MAR2021:00:00:00</td>\n",
       "      <td>False</td>\n",
       "      <td>1574306.0</td>\n",
       "    </tr>\n",
       "    <tr>\n",
       "      <th>177</th>\n",
       "      <td>Colectivo</td>\n",
       "      <td>21MAR2021:00:00:00</td>\n",
       "      <td>False</td>\n",
       "      <td>1192230.0</td>\n",
       "    </tr>\n",
       "    <tr>\n",
       "      <th>...</th>\n",
       "      <td>...</td>\n",
       "      <td>...</td>\n",
       "      <td>...</td>\n",
       "      <td>...</td>\n",
       "    </tr>\n",
       "    <tr>\n",
       "      <th>1860</th>\n",
       "      <td>Colectivo</td>\n",
       "      <td>22AUG2021:00:00:00</td>\n",
       "      <td>False</td>\n",
       "      <td>1349876.0</td>\n",
       "    </tr>\n",
       "    <tr>\n",
       "      <th>1861</th>\n",
       "      <td>Colectivo</td>\n",
       "      <td>23AUG2021:00:00:00</td>\n",
       "      <td>False</td>\n",
       "      <td>3278365.0</td>\n",
       "    </tr>\n",
       "    <tr>\n",
       "      <th>1869</th>\n",
       "      <td>Colectivo</td>\n",
       "      <td>25SEP2021:00:00:00</td>\n",
       "      <td>False</td>\n",
       "      <td>2364580.0</td>\n",
       "    </tr>\n",
       "    <tr>\n",
       "      <th>1870</th>\n",
       "      <td>Colectivo</td>\n",
       "      <td>26SEP2021:00:00:00</td>\n",
       "      <td>False</td>\n",
       "      <td>1515376.0</td>\n",
       "    </tr>\n",
       "    <tr>\n",
       "      <th>1871</th>\n",
       "      <td>Colectivo</td>\n",
       "      <td>27SEP2021:00:00:00</td>\n",
       "      <td>False</td>\n",
       "      <td>3394471.0</td>\n",
       "    </tr>\n",
       "  </tbody>\n",
       "</table>\n",
       "<p>624 rows × 4 columns</p>\n",
       "</div>"
      ],
      "text/plain": [
       "     TIPO_TRANSPORTE                 DIA PARCIAL   CANTIDAD\n",
       "166        Colectivo  04MAR2021:00:00:00   False  2914400.0\n",
       "170        Colectivo  17MAR2021:00:00:00   False  2836336.0\n",
       "173        Colectivo  18MAR2021:00:00:00   False  3064779.0\n",
       "176        Colectivo  20MAR2021:00:00:00   False  1574306.0\n",
       "177        Colectivo  21MAR2021:00:00:00   False  1192230.0\n",
       "...              ...                 ...     ...        ...\n",
       "1860       Colectivo  22AUG2021:00:00:00   False  1349876.0\n",
       "1861       Colectivo  23AUG2021:00:00:00   False  3278365.0\n",
       "1869       Colectivo  25SEP2021:00:00:00   False  2364580.0\n",
       "1870       Colectivo  26SEP2021:00:00:00   False  1515376.0\n",
       "1871       Colectivo  27SEP2021:00:00:00   False  3394471.0\n",
       "\n",
       "[624 rows x 4 columns]"
      ]
     },
     "execution_count": 21,
     "metadata": {},
     "output_type": "execute_result"
    }
   ],
   "source": [
    "tabla[tabla.TIPO_TRANSPORTE.str.startswith('C')]"
   ]
  },
  {
   "cell_type": "code",
   "execution_count": 22,
   "id": "4c2e1b00",
   "metadata": {},
   "outputs": [
    {
     "data": {
      "text/html": [
       "<div>\n",
       "<style scoped>\n",
       "    .dataframe tbody tr th:only-of-type {\n",
       "        vertical-align: middle;\n",
       "    }\n",
       "\n",
       "    .dataframe tbody tr th {\n",
       "        vertical-align: top;\n",
       "    }\n",
       "\n",
       "    .dataframe thead th {\n",
       "        text-align: right;\n",
       "    }\n",
       "</style>\n",
       "<table border=\"1\" class=\"dataframe\">\n",
       "  <thead>\n",
       "    <tr style=\"text-align: right;\">\n",
       "      <th></th>\n",
       "      <th>TIPO_TRANSPORTE</th>\n",
       "      <th>DIA</th>\n",
       "      <th>PARCIAL</th>\n",
       "      <th>CANTIDAD</th>\n",
       "    </tr>\n",
       "  </thead>\n",
       "  <tbody>\n",
       "    <tr>\n",
       "      <th>0</th>\n",
       "      <td>Subte</td>\n",
       "      <td>31MAR2020:00:00:00</td>\n",
       "      <td>NaN</td>\n",
       "      <td>NaN</td>\n",
       "    </tr>\n",
       "    <tr>\n",
       "      <th>1</th>\n",
       "      <td>Subte</td>\n",
       "      <td>01APR2020:00:00:00</td>\n",
       "      <td>NaN</td>\n",
       "      <td>NaN</td>\n",
       "    </tr>\n",
       "    <tr>\n",
       "      <th>2</th>\n",
       "      <td>Subte</td>\n",
       "      <td>02APR2020:00:00:00</td>\n",
       "      <td>NaN</td>\n",
       "      <td>NaN</td>\n",
       "    </tr>\n",
       "    <tr>\n",
       "      <th>3</th>\n",
       "      <td>Subte</td>\n",
       "      <td>03APR2020:00:00:00</td>\n",
       "      <td>NaN</td>\n",
       "      <td>NaN</td>\n",
       "    </tr>\n",
       "    <tr>\n",
       "      <th>4</th>\n",
       "      <td>Subte</td>\n",
       "      <td>04APR2020:00:00:00</td>\n",
       "      <td>NaN</td>\n",
       "      <td>NaN</td>\n",
       "    </tr>\n",
       "    <tr>\n",
       "      <th>...</th>\n",
       "      <td>...</td>\n",
       "      <td>...</td>\n",
       "      <td>...</td>\n",
       "      <td>...</td>\n",
       "    </tr>\n",
       "    <tr>\n",
       "      <th>1864</th>\n",
       "      <td>Subte</td>\n",
       "      <td>22AUG2021:00:00:00</td>\n",
       "      <td>False</td>\n",
       "      <td>103968.0</td>\n",
       "    </tr>\n",
       "    <tr>\n",
       "      <th>1865</th>\n",
       "      <td>Subte</td>\n",
       "      <td>23AUG2021:00:00:00</td>\n",
       "      <td>False</td>\n",
       "      <td>338713.0</td>\n",
       "    </tr>\n",
       "    <tr>\n",
       "      <th>1872</th>\n",
       "      <td>Subte</td>\n",
       "      <td>24SEP2021:00:00:00</td>\n",
       "      <td>False</td>\n",
       "      <td>456820.0</td>\n",
       "    </tr>\n",
       "    <tr>\n",
       "      <th>1873</th>\n",
       "      <td>Subte</td>\n",
       "      <td>25SEP2021:00:00:00</td>\n",
       "      <td>True</td>\n",
       "      <td>230834.0</td>\n",
       "    </tr>\n",
       "    <tr>\n",
       "      <th>1874</th>\n",
       "      <td>Subte</td>\n",
       "      <td>26SEP2021:00:00:00</td>\n",
       "      <td>True</td>\n",
       "      <td>133714.0</td>\n",
       "    </tr>\n",
       "  </tbody>\n",
       "</table>\n",
       "<p>625 rows × 4 columns</p>\n",
       "</div>"
      ],
      "text/plain": [
       "     TIPO_TRANSPORTE                 DIA PARCIAL  CANTIDAD\n",
       "0              Subte  31MAR2020:00:00:00     NaN       NaN\n",
       "1              Subte  01APR2020:00:00:00     NaN       NaN\n",
       "2              Subte  02APR2020:00:00:00     NaN       NaN\n",
       "3              Subte  03APR2020:00:00:00     NaN       NaN\n",
       "4              Subte  04APR2020:00:00:00     NaN       NaN\n",
       "...              ...                 ...     ...       ...\n",
       "1864           Subte  22AUG2021:00:00:00   False  103968.0\n",
       "1865           Subte  23AUG2021:00:00:00   False  338713.0\n",
       "1872           Subte  24SEP2021:00:00:00   False  456820.0\n",
       "1873           Subte  25SEP2021:00:00:00    True  230834.0\n",
       "1874           Subte  26SEP2021:00:00:00    True  133714.0\n",
       "\n",
       "[625 rows x 4 columns]"
      ]
     },
     "execution_count": 22,
     "metadata": {},
     "output_type": "execute_result"
    }
   ],
   "source": [
    "tabla[tabla.TIPO_TRANSPORTE.str.startswith('S')]"
   ]
  },
  {
   "cell_type": "code",
   "execution_count": 23,
   "id": "ffb96c01",
   "metadata": {},
   "outputs": [
    {
     "data": {
      "text/html": [
       "<div>\n",
       "<style scoped>\n",
       "    .dataframe tbody tr th:only-of-type {\n",
       "        vertical-align: middle;\n",
       "    }\n",
       "\n",
       "    .dataframe tbody tr th {\n",
       "        vertical-align: top;\n",
       "    }\n",
       "\n",
       "    .dataframe thead th {\n",
       "        text-align: right;\n",
       "    }\n",
       "</style>\n",
       "<table border=\"1\" class=\"dataframe\">\n",
       "  <thead>\n",
       "    <tr style=\"text-align: right;\">\n",
       "      <th></th>\n",
       "      <th>TIPO_TRANSPORTE</th>\n",
       "      <th>DIA</th>\n",
       "      <th>PARCIAL</th>\n",
       "      <th>CANTIDAD</th>\n",
       "    </tr>\n",
       "  </thead>\n",
       "  <tbody>\n",
       "    <tr>\n",
       "      <th>166</th>\n",
       "      <td>Colectivo</td>\n",
       "      <td>04MAR2021:00:00:00</td>\n",
       "      <td>False</td>\n",
       "      <td>2914400.0</td>\n",
       "    </tr>\n",
       "    <tr>\n",
       "      <th>170</th>\n",
       "      <td>Colectivo</td>\n",
       "      <td>17MAR2021:00:00:00</td>\n",
       "      <td>False</td>\n",
       "      <td>2836336.0</td>\n",
       "    </tr>\n",
       "    <tr>\n",
       "      <th>173</th>\n",
       "      <td>Colectivo</td>\n",
       "      <td>18MAR2021:00:00:00</td>\n",
       "      <td>False</td>\n",
       "      <td>3064779.0</td>\n",
       "    </tr>\n",
       "    <tr>\n",
       "      <th>176</th>\n",
       "      <td>Colectivo</td>\n",
       "      <td>20MAR2021:00:00:00</td>\n",
       "      <td>False</td>\n",
       "      <td>1574306.0</td>\n",
       "    </tr>\n",
       "    <tr>\n",
       "      <th>177</th>\n",
       "      <td>Colectivo</td>\n",
       "      <td>21MAR2021:00:00:00</td>\n",
       "      <td>False</td>\n",
       "      <td>1192230.0</td>\n",
       "    </tr>\n",
       "  </tbody>\n",
       "</table>\n",
       "</div>"
      ],
      "text/plain": [
       "    TIPO_TRANSPORTE                 DIA PARCIAL   CANTIDAD\n",
       "166       Colectivo  04MAR2021:00:00:00   False  2914400.0\n",
       "170       Colectivo  17MAR2021:00:00:00   False  2836336.0\n",
       "173       Colectivo  18MAR2021:00:00:00   False  3064779.0\n",
       "176       Colectivo  20MAR2021:00:00:00   False  1574306.0\n",
       "177       Colectivo  21MAR2021:00:00:00   False  1192230.0"
      ]
     },
     "execution_count": 23,
     "metadata": {},
     "output_type": "execute_result"
    }
   ],
   "source": [
    "trans = tabla[tabla.TIPO_TRANSPORTE == 'Colectivo']\n",
    "trans.head()"
   ]
  },
  {
   "cell_type": "code",
   "execution_count": 24,
   "id": "94879d40",
   "metadata": {},
   "outputs": [],
   "source": [
    "import matplotlib.pyplot as plt"
   ]
  },
  {
   "cell_type": "code",
   "execution_count": 25,
   "id": "7b8f8b62",
   "metadata": {},
   "outputs": [],
   "source": [
    "%matplotlib inline"
   ]
  },
  {
   "cell_type": "code",
   "execution_count": 26,
   "id": "8de195b0",
   "metadata": {},
   "outputs": [
    {
     "data": {
      "text/html": [
       "<div>\n",
       "<style scoped>\n",
       "    .dataframe tbody tr th:only-of-type {\n",
       "        vertical-align: middle;\n",
       "    }\n",
       "\n",
       "    .dataframe tbody tr th {\n",
       "        vertical-align: top;\n",
       "    }\n",
       "\n",
       "    .dataframe thead th {\n",
       "        text-align: right;\n",
       "    }\n",
       "</style>\n",
       "<table border=\"1\" class=\"dataframe\">\n",
       "  <thead>\n",
       "    <tr style=\"text-align: right;\">\n",
       "      <th></th>\n",
       "      <th>TIPO_TRANSPORTE</th>\n",
       "      <th>DIA</th>\n",
       "      <th>PARCIAL</th>\n",
       "      <th>CANTIDAD</th>\n",
       "    </tr>\n",
       "  </thead>\n",
       "  <tbody>\n",
       "    <tr>\n",
       "      <th>166</th>\n",
       "      <td>Colectivo</td>\n",
       "      <td>04MAR2021:00:00:00</td>\n",
       "      <td>False</td>\n",
       "      <td>2914400.0</td>\n",
       "    </tr>\n",
       "    <tr>\n",
       "      <th>170</th>\n",
       "      <td>Colectivo</td>\n",
       "      <td>17MAR2021:00:00:00</td>\n",
       "      <td>False</td>\n",
       "      <td>2836336.0</td>\n",
       "    </tr>\n",
       "    <tr>\n",
       "      <th>173</th>\n",
       "      <td>Colectivo</td>\n",
       "      <td>18MAR2021:00:00:00</td>\n",
       "      <td>False</td>\n",
       "      <td>3064779.0</td>\n",
       "    </tr>\n",
       "    <tr>\n",
       "      <th>176</th>\n",
       "      <td>Colectivo</td>\n",
       "      <td>20MAR2021:00:00:00</td>\n",
       "      <td>False</td>\n",
       "      <td>1574306.0</td>\n",
       "    </tr>\n",
       "    <tr>\n",
       "      <th>177</th>\n",
       "      <td>Colectivo</td>\n",
       "      <td>21MAR2021:00:00:00</td>\n",
       "      <td>False</td>\n",
       "      <td>1192230.0</td>\n",
       "    </tr>\n",
       "  </tbody>\n",
       "</table>\n",
       "</div>"
      ],
      "text/plain": [
       "    TIPO_TRANSPORTE                 DIA PARCIAL   CANTIDAD\n",
       "166       Colectivo  04MAR2021:00:00:00   False  2914400.0\n",
       "170       Colectivo  17MAR2021:00:00:00   False  2836336.0\n",
       "173       Colectivo  18MAR2021:00:00:00   False  3064779.0\n",
       "176       Colectivo  20MAR2021:00:00:00   False  1574306.0\n",
       "177       Colectivo  21MAR2021:00:00:00   False  1192230.0"
      ]
     },
     "execution_count": 26,
     "metadata": {},
     "output_type": "execute_result"
    }
   ],
   "source": [
    "dia = tabla[tabla.PARCIAL == 'False']\n",
    "trans.head()"
   ]
  },
  {
   "cell_type": "code",
   "execution_count": 31,
   "id": "0e5ef0a2",
   "metadata": {},
   "outputs": [
    {
     "data": {
      "image/png": "[encoded data removed]",
      "text/plain": [
       "<Figure size 432x288 with 1 Axes>"
      ]
     },
     "metadata": {
      "needs_background": "light"
     },
     "output_type": "display_data"
    }
   ],
   "source": [
    "trans.CANTIDAD.value_counts().plot(kind='line', color='orange');"
   ]
  },
  {
   "cell_type": "code",
   "execution_count": 32,
   "id": "b8842b8c",
   "metadata": {},
   "outputs": [
    {
     "data": {
      "image/png": "[encoded data removed]",
      "text/plain": [
       "<Figure size 432x288 with 1 Axes>"
      ]
     },
     "metadata": {
      "needs_background": "light"
     },
     "output_type": "display_data"
    }
   ],
   "source": [
    "trans.PARCIAL.value_counts().plot(kind='line', color='orange');"
   ]
  },
  {
   "cell_type": "code",
   "execution_count": 34,
   "id": "9d341d9a",
   "metadata": {},
   "outputs": [
    {
     "data": {
      "text/plain": [
       "<AxesSubplot:>"
      ]
     },
     "execution_count": 34,
     "metadata": {},
     "output_type": "execute_result"
    },
    {
     "data": {
      "image/png": "[encoded data removed]",
      "text/plain": [
       "<Figure size 432x288 with 1 Axes>"
      ]
     },
     "metadata": {
      "needs_background": "light"
     },
     "output_type": "display_data"
    }
   ],
   "source": [
    "trans.PARCIAL.value_counts().plot(kind='bar')"
   ]
  },
  {
   "cell_type": "code",
   "execution_count": 35,
   "id": "a9659063",
   "metadata": {},
   "outputs": [
    {
     "data": {
      "text/plain": [
       "<AxesSubplot:>"
      ]
     },
     "execution_count": 35,
     "metadata": {},
     "output_type": "execute_result"
    },
    {
     "data": {
      "image/png": "[encoded data removed]",
      "text/plain": [
       "<Figure size 432x288 with 1 Axes>"
      ]
     },
     "metadata": {
      "needs_background": "light"
     },
     "output_type": "display_data"
    }
   ],
   "source": [
    "trans.PARCIAL.value_counts().plot(kind='barh', color='green')"
   ]
  },
  {
   "cell_type": "code",
   "execution_count": 37,
   "id": "d3d36523",
   "metadata": {},
   "outputs": [
    {
     "data": {
      "image/png": "[encoded data removed]",
      "text/plain": [
       "<Figure size 432x288 with 1 Axes>"
      ]
     },
     "metadata": {},
     "output_type": "display_data"
    }
   ],
   "source": [
    "tabla.PARCIAL.value_counts().plot(kind='pie');"
   ]
  },
  {
   "cell_type": "code",
   "execution_count": null,
   "id": "f7daa2d0",
   "metadata": {},
   "outputs": [],
   "source": []
  }
 ],
 "metadata": {
  "kernelspec": {
   "display_name": "Python 3",
   "language": "python",
   "name": "python3"
  },
  "language_info": {
   "codemirror_mode": {
    "name": "ipython",
    "version": 3
   },
   "file_extension": ".py",
   "mimetype": "text/x-python",
   "name": "python",
   "nbconvert_exporter": "python",
   "pygments_lexer": "ipython3",
   "version": "3.9.5"
  },
  "vscode": {
   "interpreter": {
    "hash": "2e242e6b8c453217117083c6680e6db82176874e34559806b32fd7417ddae620"
   }
  }
 },
 "nbformat": 4,
 "nbformat_minor": 5
}
