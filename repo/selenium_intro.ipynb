{
 "cells": [
  {
   "cell_type": "code",
   "execution_count": 1,
   "metadata": {},
   "outputs": [
    {
     "name": "stdout",
     "output_type": "stream",
     "text": [
      "Requirement already satisfied: selenium in /home/pruebapython/Documentos/ciencia_de_datos/lib/python3.6/site-packages (3.141.0)\n",
      "Requirement already satisfied: urllib3 in /home/pruebapython/Documentos/ciencia_de_datos/lib/python3.6/site-packages (from selenium) (1.25.8)\n",
      "\u001b[33mWARNING: You are using pip version 20.1.1; however, version 21.3.1 is available.\n",
      "You should consider upgrading via the '/home/pruebapython/Documentos/ciencia_de_datos/bin/python3 -m pip install --upgrade pip' command.\u001b[0m\n",
      "Note: you may need to restart the kernel to use updated packages.\n"
     ]
    }
   ],
   "source": [
    "pip install selenium"
   ]
  },
  {
   "cell_type": "code",
   "execution_count": 82,
   "metadata": {},
   "outputs": [],
   "source": [
    "from selenium import webdriver # importar al manejador\n",
    "from selenium.webdriver.common.keys import Keys # clase que importa las teclas de caracteres especiales del teclado\n",
    "from selenium.webdriver.common.by import By # nos servirá para buscar en el navegador por los elementos\n",
    "from selenium.webdriver.support.ui import WebDriverWait\n",
    "from selenium.webdriver.support import expected_conditions as EC\n",
    "import time"
   ]
  },
  {
   "cell_type": "markdown",
   "metadata": {},
   "source": [
    "### Ejemplo 1"
   ]
  },
  {
   "cell_type": "code",
   "execution_count": 83,
   "metadata": {},
   "outputs": [],
   "source": [
    "\n",
    "\n",
    "driver = webdriver.Firefox()\n",
    "driver.get(\"http://www.python.org\")\n",
    "\n",
    "\n",
    "assert \"Python\" in driver.title\n",
    "\n",
    "\n",
    "elem = driver.find_element(By.NAME, \"q\")\n",
    "elem.clear()\n",
    "\n",
    "\n",
    "elem.send_keys(\"pycon\")\n",
    "elem.send_keys(Keys.RETURN)\n",
    "assert \"No results found.\" not in driver.page_source\n",
    "#driver.close()"
   ]
  },
  {
   "cell_type": "markdown",
   "metadata": {},
   "source": [
    "### Ejemplo 2."
   ]
  },
  {
   "cell_type": "code",
   "execution_count": 120,
   "metadata": {},
   "outputs": [],
   "source": [
    "ff_options = webdriver.FirefoxOptions()\n",
    "ff_options.add_argument(\"--disable-popup-blocking\")"
   ]
  },
  {
   "cell_type": "code",
   "execution_count": 173,
   "metadata": {},
   "outputs": [],
   "source": [
    "\n",
    "#creacion del constructor\n",
    "driver = webdriver.Firefox(options = ff_options)\n",
    "\n",
    "# parametros iniciales de la pantalla que se abrirá\n",
    "driver.set_window_position(2000,0)\n",
    "driver.maximize_window()\n",
    "time.sleep(1)\n",
    "\n",
    "# iniciamos las condiciones del navegador\n",
    "\n",
    "driver.get(\"http://www.crehana.com\")\n",
    "\n",
    "# con assert, realmente confirmamos que crehana aparezca \n",
    "#en el titulo del navegador, es importante que recuerdes que se \n",
    "# reconoce diferencia entre mayusculas y minusculas\n",
    "assert \"Crehana\" in driver.title\n",
    "\n",
    "\n",
    "driver.find_element_by_link_text(\"Iniciar sesión\").click()"
   ]
  },
  {
   "cell_type": "markdown",
   "metadata": {},
   "source": [
    "### Ejemplo 3"
   ]
  },
  {
   "cell_type": "code",
   "execution_count": 174,
   "metadata": {},
   "outputs": [],
   "source": [
    "ff_options = webdriver.FirefoxOptions()\n",
    "ff_options.add_argument(\"--disable-popup-blocking\")"
   ]
  },
  {
   "cell_type": "code",
   "execution_count": 190,
   "metadata": {},
   "outputs": [],
   "source": [
    "\n",
    "#creacion del constructor\n",
    "driver = webdriver.Firefox(options = ff_options)\n",
    "\n",
    "# parametros iniciales de la pantalla que se abrirá\n",
    "driver.set_window_position(2000,0)\n",
    "driver.maximize_window()\n",
    "time.sleep(1)\n",
    "\n",
    "# iniciamos las condiciones del navegador\n",
    "\n",
    "driver.get(\"http://www.espn.com.mx/futbol/resultados\")\n",
    "\n",
    "# con assert, realmente confirmamos que crehana aparezca \n",
    "#en el titulo del navegador, es importante que recuerdes que se \n",
    "# reconoce diferencia entre mayusculas y minusculas\n",
    "assert \"espn\" in driver.title\n",
    "\n",
    "\n",
    "#driver.find_element_by_link_text(\"Iniciar sesión\").click()\n",
    "driver.find_element_by_link_text('Ligas').click()\n",
    "driver.find_element_by_xpath('//*[@id=\"fittPageContainer\"]/div[3]/div/div/div/div[2]/div[1]/div/div[1]/div/section/div/div/span[3]/a').click()"
   ]
  },
  {
   "cell_type": "code",
   "execution_count": null,
   "metadata": {},
   "outputs": [],
   "source": []
  }
 ],
 "metadata": {
  "kernelspec": {
   "display_name": "Python 3",
   "language": "python",
   "name": "python3"
  },
  "language_info": {
   "codemirror_mode": {
    "name": "ipython",
    "version": 3
   },
   "file_extension": ".py",
   "mimetype": "text/x-python",
   "name": "python",
   "nbconvert_exporter": "python",
   "pygments_lexer": "ipython3",
   "version": "3.9.5"
  },
  "vscode": {
   "interpreter": {
    "hash": "2e242e6b8c453217117083c6680e6db82176874e34559806b32fd7417ddae620"
   }
  }
 },
 "nbformat": 4,
 "nbformat_minor": 4
}
