{
 "cells": [
  {
   "cell_type": "code",
   "execution_count": 7,
   "id": "2200ffc3",
   "metadata": {},
   "outputs": [],
   "source": [
    "import pandas as pd \n",
    "import os\n",
    "from datetime import datetime"
   ]
  },
  {
   "cell_type": "markdown",
   "id": "b42911ce",
   "metadata": {},
   "source": [
    "cada vez que se ejecuta un codigo"
   ]
  },
  {
   "cell_type": "code",
   "execution_count": 8,
   "id": "ef942b47",
   "metadata": {},
   "outputs": [],
   "source": [
    "existe =0\n",
    "for i in os.listdir():\n",
    "    if i=='crecimiento_de_data.csv':\n",
    "        existe =1\n",
    "        break\n",
    "    "
   ]
  },
  {
   "cell_type": "code",
   "execution_count": 9,
   "id": "1ad0035e",
   "metadata": {},
   "outputs": [],
   "source": [
    "fecha_actual = ''\n",
    "numero_registros =''\n",
    "pagina_de_ejecucion = 'youtube'\n",
    "errores_posibles = ''\n",
    "\n",
    "\n"
   ]
  },
  {
   "cell_type": "code",
   "execution_count": 10,
   "id": "47185add",
   "metadata": {},
   "outputs": [],
   "source": [
    "fecha_actual = datetime.today().strftime('%Y-%m-%d %H:%M:%S')\n",
    "data = [fecha_actual,numero_registros,pagina_de_ejecucion, errores_posibles]\n",
    "    \n",
    "acumulado_informacion = pd.DataFrame(pd.DataFrame(data = data, \n",
    "             ).T.values.tolist()\n",
    "            ,columns = ['fecha_actual','numero_registros','pagina_ejecucion','errores_posibles'])\n"
   ]
  },
  {
   "cell_type": "code",
   "execution_count": 11,
   "id": "89198a40",
   "metadata": {},
   "outputs": [],
   "source": [
    "\n",
    "if existe ==0:\n",
    "    acumulado_informacion.to_csv('crecimiento_de_data.csv',index = False)\n",
    "else:\n",
    "   acumulado_informacion= pd.concat([pd.read_csv('crecimiento_de_data.csv'),acumulado_informacion],axis = 0)\n",
    "\n",
    "acumulado_informacion.to_csv('crecimiento_de_data.csv',index = False)"
   ]
  },
  {
   "cell_type": "code",
   "execution_count": 12,
   "id": "2a077d4c",
   "metadata": {},
   "outputs": [
    {
     "data": {
      "text/html": [
       "<div>\n",
       "<style scoped>\n",
       "    .dataframe tbody tr th:only-of-type {\n",
       "        vertical-align: middle;\n",
       "    }\n",
       "\n",
       "    .dataframe tbody tr th {\n",
       "        vertical-align: top;\n",
       "    }\n",
       "\n",
       "    .dataframe thead th {\n",
       "        text-align: right;\n",
       "    }\n",
       "</style>\n",
       "<table border=\"1\" class=\"dataframe\">\n",
       "  <thead>\n",
       "    <tr style=\"text-align: right;\">\n",
       "      <th></th>\n",
       "      <th>fecha_actual</th>\n",
       "      <th>numero_registros</th>\n",
       "      <th>pagina_ejecucion</th>\n",
       "      <th>errores_posibles</th>\n",
       "    </tr>\n",
       "  </thead>\n",
       "  <tbody>\n",
       "    <tr>\n",
       "      <th>0</th>\n",
       "      <td>2022-06-14 16:04:49</td>\n",
       "      <td>NaN</td>\n",
       "      <td>youtube</td>\n",
       "      <td>NaN</td>\n",
       "    </tr>\n",
       "    <tr>\n",
       "      <th>1</th>\n",
       "      <td>2022-06-14 16:04:59</td>\n",
       "      <td>NaN</td>\n",
       "      <td>youtube</td>\n",
       "      <td>NaN</td>\n",
       "    </tr>\n",
       "    <tr>\n",
       "      <th>0</th>\n",
       "      <td>2022-06-14 16:04:59</td>\n",
       "      <td></td>\n",
       "      <td>youtube</td>\n",
       "      <td></td>\n",
       "    </tr>\n",
       "  </tbody>\n",
       "</table>\n",
       "</div>"
      ],
      "text/plain": [
       "          fecha_actual numero_registros pagina_ejecucion errores_posibles\n",
       "0  2022-06-14 16:04:49              NaN          youtube              NaN\n",
       "1  2022-06-14 16:04:59              NaN          youtube              NaN\n",
       "0  2022-06-14 16:04:59                           youtube                 "
      ]
     },
     "execution_count": 12,
     "metadata": {},
     "output_type": "execute_result"
    }
   ],
   "source": [
    "acumulado_informacion\n"
   ]
  },
  {
   "cell_type": "code",
   "execution_count": null,
   "id": "e6fb58a9",
   "metadata": {},
   "outputs": [],
   "source": []
  }
 ],
 "metadata": {
  "kernelspec": {
   "display_name": "Python 3 (ipykernel)",
   "language": "python",
   "name": "python3"
  },
  "language_info": {
   "codemirror_mode": {
    "name": "ipython",
    "version": 3
   },
   "file_extension": ".py",
   "mimetype": "text/x-python",
   "name": "python",
   "nbconvert_exporter": "python",
   "pygments_lexer": "ipython3",
   "version": "3.9.12"
  }
 },
 "nbformat": 4,
 "nbformat_minor": 5
}
