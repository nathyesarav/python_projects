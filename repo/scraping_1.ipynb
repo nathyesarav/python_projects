{
 "cells": [
  {
   "cell_type": "code",
   "execution_count": null,
   "metadata": {},
   "outputs": [],
   "source": [
    "from bs4 import BeautifulSoup\n",
    "import pandas as pd\n",
    "import webbrowser\n",
    "import codecs #lectura de archivos html"
   ]
  },
  {
   "cell_type": "code",
   "execution_count": null,
   "metadata": {},
   "outputs": [],
   "source": [
    "link = 'clase 10/view-source_https___psicologiaymente.com_cultura_preguntas-cultura-general.html'"
   ]
  },
  {
   "cell_type": "code",
   "execution_count": null,
   "metadata": {},
   "outputs": [],
   "source": []
  },
  {
   "cell_type": "code",
   "execution_count": null,
   "metadata": {},
   "outputs": [],
   "source": [
    "file = codecs.open(link, 'r', \"utf-8\") \n",
    "\n",
    "lectura_archivo = file.read()\n",
    "print(file.read()) "
   ]
  },
  {
   "cell_type": "code",
   "execution_count": null,
   "metadata": {},
   "outputs": [],
   "source": [
    "soup = BeautifulSoup(lectura_archivo, 'html.parser')"
   ]
  },
  {
   "cell_type": "code",
   "execution_count": null,
   "metadata": {},
   "outputs": [],
   "source": [
    "\n",
    "\n",
    "print(soup.prettify())\n"
   ]
  },
  {
   "cell_type": "code",
   "execution_count": null,
   "metadata": {},
   "outputs": [],
   "source": [
    "soup.h3"
   ]
  },
  {
   "cell_type": "markdown",
   "metadata": {},
   "source": [
    "### Para que nos devuelva la lista de h3"
   ]
  },
  {
   "cell_type": "code",
   "execution_count": null,
   "metadata": {},
   "outputs": [],
   "source": [
    "etiquetas_h3 = soup.find_all('h3')"
   ]
  },
  {
   "cell_type": "code",
   "execution_count": null,
   "metadata": {},
   "outputs": [],
   "source": [
    "etiquetas_p =  soup.find_all('p')"
   ]
  },
  {
   "cell_type": "code",
   "execution_count": null,
   "metadata": {},
   "outputs": [],
   "source": [
    "len(etiquetas_h3)"
   ]
  },
  {
   "cell_type": "code",
   "execution_count": null,
   "metadata": {},
   "outputs": [],
   "source": [
    "etiquetas_h3"
   ]
  },
  {
   "cell_type": "code",
   "execution_count": null,
   "metadata": {},
   "outputs": [],
   "source": [
    "len(etiquetas_p)"
   ]
  },
  {
   "cell_type": "markdown",
   "metadata": {},
   "source": [
    "Aqui podemos observar que no va a ser sencillo poder encontrar cual corresponde con cada quien, para ello lo volveremos a hacer con otro filtro extra, sin antras comprobar que pasa lo mismo con las etiquetas p"
   ]
  },
  {
   "cell_type": "code",
   "execution_count": null,
   "metadata": {},
   "outputs": [],
   "source": [
    "etiquetas_p[8:250]"
   ]
  },
  {
   "cell_type": "markdown",
   "metadata": {},
   "source": [
    "para ello me interesa saber quienes de las etiquetas p tienen asociada una clase y qué clase es la que está "
   ]
  },
  {
   "cell_type": "code",
   "execution_count": null,
   "metadata": {},
   "outputs": [],
   "source": [
    "soup.find_all(\"p\", class_=\"\")"
   ]
  },
  {
   "cell_type": "code",
   "execution_count": null,
   "metadata": {},
   "outputs": [],
   "source": [
    "print('comprobando la longitud de la vista:',len(soup.find_all('p',class_=\"\")))\n",
    "registros_p = soup.find_all('p',class_=\"\")"
   ]
  },
  {
   "cell_type": "code",
   "execution_count": null,
   "metadata": {},
   "outputs": [],
   "source": [
    "print('aplicando el mismo criterio con la etiqueta h3',len(soup.find_all('h3',class_=\"\")))\n",
    "registros_h3 = soup.find_all('h3',class_=\"\")"
   ]
  },
  {
   "cell_type": "code",
   "execution_count": null,
   "metadata": {},
   "outputs": [],
   "source": [
    "registros_p[3:-1]"
   ]
  },
  {
   "cell_type": "markdown",
   "metadata": {},
   "source": [
    "Removiendo aquellos lugares que ya identificamos"
   ]
  },
  {
   "cell_type": "code",
   "execution_count": null,
   "metadata": {},
   "outputs": [],
   "source": [
    "registros_p = registros_p[3:-1]\n",
    "len(registros_p)"
   ]
  },
  {
   "cell_type": "code",
   "execution_count": null,
   "metadata": {},
   "outputs": [],
   "source": [
    "lista = []\n",
    "for i in range(0,len(registros_h3)):\n",
    "    lista.append([registros_h3[i],registros_p[i]])\n",
    "lista"
   ]
  },
  {
   "cell_type": "markdown",
   "metadata": {},
   "source": [
    "como vimos, tambien existen imagenes dentro de p, volviendo a correr el for pero filtrando del lado de la lista de las etiquetas p aquellas que contengan \"img\""
   ]
  },
  {
   "cell_type": "code",
   "execution_count": null,
   "metadata": {},
   "outputs": [],
   "source": [
    "#para poder observar que es lo que está pasando dentro de la lista con imagenes \n",
    "\n",
    "for i in registros_p[:30]:\n",
    "    print(i.find('img'))\n",
    "    "
   ]
  },
  {
   "cell_type": "code",
   "execution_count": null,
   "metadata": {},
   "outputs": [],
   "source": [
    "otra_lista_p =[]\n",
    "for i in registros_p:\n",
    "    #print(i.find('img'))\n",
    "    if len(str(i.find('img')))==4:\n",
    "        otra_lista_p.append(i)\n",
    "otra_lista_p    "
   ]
  },
  {
   "cell_type": "markdown",
   "metadata": {},
   "source": [
    "### aplicando el mismo for, pero ahora para la nueva lista de p"
   ]
  },
  {
   "cell_type": "code",
   "execution_count": null,
   "metadata": {},
   "outputs": [],
   "source": [
    "lista = []\n",
    "for i in range(0,len(registros_h3)):\n",
    "    lista.append([registros_h3[i],otra_lista_p[i]])\n",
    "\n",
    "    \n",
    "    lista"
   ]
  },
  {
   "cell_type": "markdown",
   "metadata": {},
   "source": [
    "como te darás cuenta existen dos respuesta con la etiqueta p para la pregunta 205, por lo que procederemos a remover\n",
    "\n",
    "\n",
    "'''[<h3>205. ¿Cuál es son los tipos de átomos que componen la molécula de la glucosa?</h3>,\n",
    "  <p>Son el oxígeno, el carbono y el hidrógeno.</p>],\n",
    " [<h3>206. ¿Cómo se llama el choque bélico que ocurrió entre Persia y las polis de la Antigua Grecia entre el 490 a. C. y el a. C.?</h3>,\n",
    "  <p>El agua tiene dos átomos de hidrógeno y uno de oxígeno.</p>],'''"
   ]
  },
  {
   "cell_type": "code",
   "execution_count": null,
   "metadata": {},
   "outputs": [],
   "source": [
    "otra_lista_p[203].string = otra_lista_p[203].string+ otra_lista_p[204].string"
   ]
  },
  {
   "cell_type": "code",
   "execution_count": null,
   "metadata": {},
   "outputs": [],
   "source": [
    "otra_lista_p[202:205]"
   ]
  },
  {
   "cell_type": "code",
   "execution_count": null,
   "metadata": {},
   "outputs": [],
   "source": [
    "# removeremos el index 204, que ya tiene valores repetidos"
   ]
  },
  {
   "cell_type": "code",
   "execution_count": null,
   "metadata": {},
   "outputs": [],
   "source": [
    "del otra_lista_p[204]"
   ]
  },
  {
   "cell_type": "code",
   "execution_count": null,
   "metadata": {},
   "outputs": [],
   "source": [
    "lista = []\n",
    "for i in range(0,len(registros_h3)):\n",
    "    lista.append([registros_h3[i],otra_lista_p[i]])\n",
    "\n",
    "    \n",
    "    lista"
   ]
  },
  {
   "cell_type": "code",
   "execution_count": null,
   "metadata": {},
   "outputs": [],
   "source": [
    "lista"
   ]
  },
  {
   "cell_type": "markdown",
   "metadata": {},
   "source": [
    "ahora solo nos interesan los valores dentro de las etiquetas"
   ]
  },
  {
   "cell_type": "code",
   "execution_count": null,
   "metadata": {},
   "outputs": [],
   "source": [
    "lista = []\n",
    "for i in range(0,len(registros_h3)):\n",
    "    lista.append([registros_h3[i].string,otra_lista_p[i].string])\n",
    "\n",
    "    \n",
    "preguntas_respuestas = pd.DataFrame(lista, columns = {'Preguntas','Respuestas'})"
   ]
  },
  {
   "cell_type": "code",
   "execution_count": null,
   "metadata": {},
   "outputs": [],
   "source": [
    "preguntas_respuestas"
   ]
  },
  {
   "cell_type": "code",
   "execution_count": null,
   "metadata": {},
   "outputs": [],
   "source": []
  },
  {
   "cell_type": "code",
   "execution_count": null,
   "metadata": {},
   "outputs": [],
   "source": []
  }
 ],
 "metadata": {
  "kernelspec": {
   "display_name": "Python 3",
   "language": "python",
   "name": "python3"
  },
  "language_info": {
   "codemirror_mode": {
    "name": "ipython",
    "version": 3
   },
   "file_extension": ".py",
   "mimetype": "text/x-python",
   "name": "python",
   "nbconvert_exporter": "python",
   "pygments_lexer": "ipython3",
   "version": "3.7.6"
  }
 },
 "nbformat": 4,
 "nbformat_minor": 4
}
