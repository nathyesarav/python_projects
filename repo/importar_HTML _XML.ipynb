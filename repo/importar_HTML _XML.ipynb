{
 "cells": [
  {
   "cell_type": "code",
   "execution_count": null,
   "id": "b82519cc",
   "metadata": {},
   "outputs": [],
   "source": [
    "import requests\n",
    "import pandas as pd"
   ]
  },
  {
   "cell_type": "code",
   "execution_count": null,
   "id": "0a905fdf",
   "metadata": {},
   "outputs": [],
   "source": [
    "url = 'https://www.bvc.com.co/pps/tibco/portalbvc/Home/Mercados/enlinea/acciones?action=dummy'"
   ]
  },
  {
   "cell_type": "markdown",
   "id": "627c7cb2",
   "metadata": {},
   "source": [
    "Puedes visitar el link para comparar lo qeu muestra el navegador y la información que obtienes en las tablas. \n",
    "\n",
    "Recuerda que pandas read_html extrae lo qeu encuentre en formato tabla. "
   ]
  },
  {
   "cell_type": "code",
   "execution_count": null,
   "id": "3a47ef05",
   "metadata": {},
   "outputs": [],
   "source": [
    "DatosBVC = requests.get(url)"
   ]
  },
  {
   "cell_type": "code",
   "execution_count": null,
   "id": "6aa3df6a",
   "metadata": {},
   "outputs": [],
   "source": [
    "DatosBVC"
   ]
  },
  {
   "cell_type": "code",
   "execution_count": null,
   "id": "adee29f0",
   "metadata": {},
   "outputs": [],
   "source": [
    "DatosBVC.text"
   ]
  },
  {
   "cell_type": "code",
   "execution_count": null,
   "id": "ad6b0dae",
   "metadata": {},
   "outputs": [],
   "source": [
    "DatosBVC = pd.read_html(DatosBVC.text)"
   ]
  },
  {
   "cell_type": "code",
   "execution_count": null,
   "id": "a218ec89",
   "metadata": {},
   "outputs": [],
   "source": [
    "len(DatosBVC), type(DatosBVC)"
   ]
  },
  {
   "cell_type": "code",
   "execution_count": null,
   "id": "b7e410cd",
   "metadata": {},
   "outputs": [],
   "source": [
    "DatosBVC[0]"
   ]
  },
  {
   "cell_type": "code",
   "execution_count": null,
   "id": "fe3369d2",
   "metadata": {},
   "outputs": [],
   "source": [
    "DatosBVC[1]"
   ]
  },
  {
   "cell_type": "code",
   "execution_count": null,
   "id": "4ea6e82d",
   "metadata": {},
   "outputs": [],
   "source": [
    "DatosBVC[2]"
   ]
  },
  {
   "cell_type": "code",
   "execution_count": null,
   "id": "eb022737",
   "metadata": {},
   "outputs": [],
   "source": [
    "DatosBVC[3]"
   ]
  },
  {
   "cell_type": "code",
   "execution_count": null,
   "id": "806b5dec",
   "metadata": {},
   "outputs": [],
   "source": [
    "DatosBVC[4]"
   ]
  },
  {
   "cell_type": "code",
   "execution_count": null,
   "id": "f6f82dd5",
   "metadata": {},
   "outputs": [],
   "source": [
    "DatosBVC[5]"
   ]
  },
  {
   "cell_type": "code",
   "execution_count": null,
   "id": "faf702c3",
   "metadata": {},
   "outputs": [],
   "source": [
    "DatosBVC[6]"
   ]
  },
  {
   "cell_type": "code",
   "execution_count": null,
   "id": "c7cbd72c",
   "metadata": {},
   "outputs": [],
   "source": [
    "url2 = 'https://www.metrocuadrado.com/'"
   ]
  },
  {
   "cell_type": "code",
   "execution_count": null,
   "id": "a165d1e4",
   "metadata": {},
   "outputs": [],
   "source": [
    "DatosMetroC = requests.get(url2)"
   ]
  },
  {
   "cell_type": "code",
   "execution_count": null,
   "id": "825a8d6f",
   "metadata": {},
   "outputs": [],
   "source": [
    "DatosMetroC.text"
   ]
  },
  {
   "cell_type": "markdown",
   "id": "83bb5d08",
   "metadata": {},
   "source": [
    "Al usar read_html en un formáto de página en el que no existen tablas obtendrás un error. "
   ]
  },
  {
   "cell_type": "code",
   "execution_count": null,
   "id": "617021fb",
   "metadata": {},
   "outputs": [],
   "source": [
    "pd.read_html(DatosMetroC.text)"
   ]
  },
  {
   "cell_type": "markdown",
   "id": "dc7c5b1a",
   "metadata": {},
   "source": [
    "Probemos con archivos XML\n",
    "\n",
    "Antes de empezar es mejor que actualices la versión de pandas ya que la opción de leer XML no está en la versión 1.2.5\n",
    "\n",
    "Reinicia Jupyter antes de continuar"
   ]
  },
  {
   "cell_type": "code",
   "execution_count": null,
   "id": "fd30feee",
   "metadata": {},
   "outputs": [],
   "source": [
    "pd.__version__"
   ]
  },
  {
   "cell_type": "code",
   "execution_count": null,
   "id": "c1f4ffa3",
   "metadata": {},
   "outputs": [],
   "source": [
    "!pip install --upgrade pandas\n"
   ]
  },
  {
   "cell_type": "code",
   "execution_count": null,
   "id": "8f9cd778",
   "metadata": {},
   "outputs": [],
   "source": [
    "pd.read_xml('EjemploXML.xml')"
   ]
  },
  {
   "cell_type": "code",
   "execution_count": null,
   "id": "8b87055e",
   "metadata": {},
   "outputs": [],
   "source": [
    "xml = '''<?xml version='1.0' encoding='utf-8'?>\n",
    "<doc:data xmlns:doc=\"https://example.com\">\n",
    "  <doc:row>\n",
    "    <doc:shape>square</doc:shape>\n",
    "    <doc:degrees>360</doc:degrees>\n",
    "    <doc:sides>4.0</doc:sides>\n",
    "  </doc:row>\n",
    "  <doc:row>\n",
    "    <doc:shape>circle</doc:shape>\n",
    "    <doc:degrees>360</doc:degrees>\n",
    "    <doc:sides/>\n",
    "  </doc:row>\n",
    "  <doc:row>\n",
    "    <doc:shape>triangle</doc:shape>\n",
    "    <doc:degrees>180</doc:degrees>\n",
    "    <doc:sides>3.0</doc:sides>\n",
    "  </doc:row>\n",
    "</doc:data>'''"
   ]
  },
  {
   "cell_type": "code",
   "execution_count": null,
   "id": "b080e488",
   "metadata": {},
   "outputs": [],
   "source": [
    "df = pd.read_xml(xml,\n",
    "                 xpath=\"//doc:row\",\n",
    "                 namespaces={\"doc\": \"https://example.com\"})\n",
    "df"
   ]
  },
  {
   "cell_type": "code",
   "execution_count": null,
   "id": "8588c715",
   "metadata": {},
   "outputs": [],
   "source": []
  }
 ],
 "metadata": {
  "kernelspec": {
   "display_name": "Python 3",
   "language": "python",
   "name": "python3"
  },
  "language_info": {
   "codemirror_mode": {
    "name": "ipython",
    "version": 3
   },
   "file_extension": ".py",
   "mimetype": "text/x-python",
   "name": "python",
   "nbconvert_exporter": "python",
   "pygments_lexer": "ipython3",
   "version": "3.9.5"
  },
  "vscode": {
   "interpreter": {
    "hash": "2e242e6b8c453217117083c6680e6db82176874e34559806b32fd7417ddae620"
   }
  }
 },
 "nbformat": 4,
 "nbformat_minor": 5
}
