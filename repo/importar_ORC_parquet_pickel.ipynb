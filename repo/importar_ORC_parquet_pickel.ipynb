{
 "cells": [
  {
   "cell_type": "markdown",
   "id": "b98e6159",
   "metadata": {},
   "source": [
    "ImportError: Missing optional dependency 'pyarrow.orc'.  Use pip or conda to install pyarrow.orc.\n",
    "\n",
    "Esto no funcionará en windows.  te recomendamos usar Linux en una Máquina Virtual.  En esta carpeta te dejamos un tutoríal de la instalación.\n",
    "\n",
    "https://pandas.pydata.org/docs/getting_started/install.html#install-warn-orc"
   ]
  },
  {
   "cell_type": "code",
   "execution_count": 1,
   "id": "cc8f7c44",
   "metadata": {},
   "outputs": [],
   "source": [
    "import pandas as pd"
   ]
  },
  {
   "cell_type": "code",
   "execution_count": 2,
   "id": "8f9df884",
   "metadata": {},
   "outputs": [
    {
     "data": {
      "text/plain": [
       "'1.3.4'"
      ]
     },
     "execution_count": 2,
     "metadata": {},
     "output_type": "execute_result"
    }
   ],
   "source": [
    "pd.__version__"
   ]
  },
  {
   "cell_type": "code",
   "execution_count": null,
   "id": "aba3af3f",
   "metadata": {},
   "outputs": [],
   "source": [
    "!pip install pandas==1.2.0 --user"
   ]
  },
  {
   "cell_type": "code",
   "execution_count": null,
   "id": "b89abd38",
   "metadata": {},
   "outputs": [],
   "source": [
    "pd.__version__"
   ]
  },
  {
   "cell_type": "markdown",
   "id": "8238bb41",
   "metadata": {},
   "source": [
    "Para archivos ORC y Parquet se neceita un motor para importarlos a un PandasDataframe\n",
    "\n",
    "engine{‘auto’, ‘pyarrow’, ‘fastparquet’}, default ‘auto’"
   ]
  },
  {
   "cell_type": "code",
   "execution_count": 3,
   "id": "1804a445",
   "metadata": {},
   "outputs": [
    {
     "name": "stdout",
     "output_type": "stream",
     "text": [
      "Requirement already satisfied: pyarrow in c:\\users\\julia\\anaconda3\\lib\\site-packages (5.0.0)\n",
      "Requirement already satisfied: numpy>=1.16.6 in c:\\users\\julia\\anaconda3\\lib\\site-packages (from pyarrow) (1.20.1)\n"
     ]
    }
   ],
   "source": [
    "!pip install pyarrow"
   ]
  },
  {
   "cell_type": "code",
   "execution_count": 4,
   "id": "5fd8c95e",
   "metadata": {},
   "outputs": [
    {
     "ename": "ModuleNotFoundError",
     "evalue": "No module named 'pyarrow._orc'",
     "output_type": "error",
     "traceback": [
      "\u001b[1;31m---------------------------------------------------------------------------\u001b[0m",
      "\u001b[1;31mModuleNotFoundError\u001b[0m                       Traceback (most recent call last)",
      "\u001b[1;32m<ipython-input-4-1598216c06ec>\u001b[0m in \u001b[0;36m<module>\u001b[1;34m\u001b[0m\n\u001b[0;32m      1\u001b[0m \u001b[1;32mimport\u001b[0m \u001b[0mpandas\u001b[0m \u001b[1;32mas\u001b[0m \u001b[0mpd\u001b[0m\u001b[1;33m\u001b[0m\u001b[1;33m\u001b[0m\u001b[0m\n\u001b[1;32m----> 2\u001b[1;33m \u001b[1;32mfrom\u001b[0m \u001b[0mpyarrow\u001b[0m \u001b[1;32mimport\u001b[0m \u001b[0morc\u001b[0m\u001b[1;33m\u001b[0m\u001b[1;33m\u001b[0m\u001b[0m\n\u001b[0m",
      "\u001b[1;32m~\\anaconda3\\lib\\site-packages\\pyarrow\\orc.py\u001b[0m in \u001b[0;36m<module>\u001b[1;34m\u001b[0m\n\u001b[0;32m     23\u001b[0m \u001b[1;32mfrom\u001b[0m \u001b[0mpyarrow\u001b[0m \u001b[1;32mimport\u001b[0m \u001b[0mtypes\u001b[0m\u001b[1;33m\u001b[0m\u001b[1;33m\u001b[0m\u001b[0m\n\u001b[0;32m     24\u001b[0m \u001b[1;32mfrom\u001b[0m \u001b[0mpyarrow\u001b[0m\u001b[1;33m.\u001b[0m\u001b[0mlib\u001b[0m \u001b[1;32mimport\u001b[0m \u001b[0mSchema\u001b[0m\u001b[1;33m,\u001b[0m \u001b[0mTable\u001b[0m\u001b[1;33m\u001b[0m\u001b[1;33m\u001b[0m\u001b[0m\n\u001b[1;32m---> 25\u001b[1;33m \u001b[1;32mimport\u001b[0m \u001b[0mpyarrow\u001b[0m\u001b[1;33m.\u001b[0m\u001b[0m_orc\u001b[0m \u001b[1;32mas\u001b[0m \u001b[0m_orc\u001b[0m\u001b[1;33m\u001b[0m\u001b[1;33m\u001b[0m\u001b[0m\n\u001b[0m\u001b[0;32m     26\u001b[0m \u001b[1;33m\u001b[0m\u001b[0m\n\u001b[0;32m     27\u001b[0m \u001b[1;33m\u001b[0m\u001b[0m\n",
      "\u001b[1;31mModuleNotFoundError\u001b[0m: No module named 'pyarrow._orc'"
     ]
    }
   ],
   "source": [
    "import pandas as pd\n",
    "from pyarrow import orc"
   ]
  },
  {
   "cell_type": "code",
   "execution_count": 5,
   "id": "76dbb2ca",
   "metadata": {},
   "outputs": [
    {
     "ename": "ImportError",
     "evalue": "Missing optional dependency 'pyarrow.orc'.  Use pip or conda to install pyarrow.orc.",
     "output_type": "error",
     "traceback": [
      "\u001b[1;31m---------------------------------------------------------------------------\u001b[0m",
      "\u001b[1;31mImportError\u001b[0m                               Traceback (most recent call last)",
      "\u001b[1;32m<ipython-input-5-b8a303753810>\u001b[0m in \u001b[0;36m<module>\u001b[1;34m\u001b[0m\n\u001b[1;32m----> 1\u001b[1;33m \u001b[0morcDf\u001b[0m \u001b[1;33m=\u001b[0m\u001b[0mpd\u001b[0m\u001b[1;33m.\u001b[0m\u001b[0mread_orc\u001b[0m\u001b[1;33m(\u001b[0m\u001b[1;34m'userdata2_orc'\u001b[0m\u001b[1;33m)\u001b[0m\u001b[1;33m\u001b[0m\u001b[1;33m\u001b[0m\u001b[0m\n\u001b[0m\u001b[0;32m      2\u001b[0m \u001b[0morcDf\u001b[0m\u001b[1;33m.\u001b[0m\u001b[0mhead\u001b[0m\u001b[1;33m(\u001b[0m\u001b[1;33m)\u001b[0m\u001b[1;33m\u001b[0m\u001b[1;33m\u001b[0m\u001b[0m\n",
      "\u001b[1;32m~\\anaconda3\\lib\\site-packages\\pandas\\io\\orc.py\u001b[0m in \u001b[0;36mread_orc\u001b[1;34m(path, columns, **kwargs)\u001b[0m\n\u001b[0;32m     51\u001b[0m     \u001b[1;31m# we require a newer version of pyarrow than we support for parquet\u001b[0m\u001b[1;33m\u001b[0m\u001b[1;33m\u001b[0m\u001b[1;33m\u001b[0m\u001b[0m\n\u001b[0;32m     52\u001b[0m \u001b[1;33m\u001b[0m\u001b[0m\n\u001b[1;32m---> 53\u001b[1;33m     \u001b[0morc\u001b[0m \u001b[1;33m=\u001b[0m \u001b[0mimport_optional_dependency\u001b[0m\u001b[1;33m(\u001b[0m\u001b[1;34m\"pyarrow.orc\"\u001b[0m\u001b[1;33m)\u001b[0m\u001b[1;33m\u001b[0m\u001b[1;33m\u001b[0m\u001b[0m\n\u001b[0m\u001b[0;32m     54\u001b[0m \u001b[1;33m\u001b[0m\u001b[0m\n\u001b[0;32m     55\u001b[0m     \u001b[1;32mwith\u001b[0m \u001b[0mget_handle\u001b[0m\u001b[1;33m(\u001b[0m\u001b[0mpath\u001b[0m\u001b[1;33m,\u001b[0m \u001b[1;34m\"rb\"\u001b[0m\u001b[1;33m,\u001b[0m \u001b[0mis_text\u001b[0m\u001b[1;33m=\u001b[0m\u001b[1;32mFalse\u001b[0m\u001b[1;33m)\u001b[0m \u001b[1;32mas\u001b[0m \u001b[0mhandles\u001b[0m\u001b[1;33m:\u001b[0m\u001b[1;33m\u001b[0m\u001b[1;33m\u001b[0m\u001b[0m\n",
      "\u001b[1;32m~\\anaconda3\\lib\\site-packages\\pandas\\compat\\_optional.py\u001b[0m in \u001b[0;36mimport_optional_dependency\u001b[1;34m(name, extra, errors, min_version)\u001b[0m\n\u001b[0;32m    116\u001b[0m     \u001b[1;32mexcept\u001b[0m \u001b[0mImportError\u001b[0m\u001b[1;33m:\u001b[0m\u001b[1;33m\u001b[0m\u001b[1;33m\u001b[0m\u001b[0m\n\u001b[0;32m    117\u001b[0m         \u001b[1;32mif\u001b[0m \u001b[0merrors\u001b[0m \u001b[1;33m==\u001b[0m \u001b[1;34m\"raise\"\u001b[0m\u001b[1;33m:\u001b[0m\u001b[1;33m\u001b[0m\u001b[1;33m\u001b[0m\u001b[0m\n\u001b[1;32m--> 118\u001b[1;33m             \u001b[1;32mraise\u001b[0m \u001b[0mImportError\u001b[0m\u001b[1;33m(\u001b[0m\u001b[0mmsg\u001b[0m\u001b[1;33m)\u001b[0m \u001b[1;32mfrom\u001b[0m \u001b[1;32mNone\u001b[0m\u001b[1;33m\u001b[0m\u001b[1;33m\u001b[0m\u001b[0m\n\u001b[0m\u001b[0;32m    119\u001b[0m         \u001b[1;32melse\u001b[0m\u001b[1;33m:\u001b[0m\u001b[1;33m\u001b[0m\u001b[1;33m\u001b[0m\u001b[0m\n\u001b[0;32m    120\u001b[0m             \u001b[1;32mreturn\u001b[0m \u001b[1;32mNone\u001b[0m\u001b[1;33m\u001b[0m\u001b[1;33m\u001b[0m\u001b[0m\n",
      "\u001b[1;31mImportError\u001b[0m: Missing optional dependency 'pyarrow.orc'.  Use pip or conda to install pyarrow.orc."
     ]
    }
   ],
   "source": [
    "orcDf =pd.read_orc('userdata2_orc')\n",
    "orcDf.head()"
   ]
  },
  {
   "cell_type": "code",
   "execution_count": 5,
   "id": "a2743269",
   "metadata": {},
   "outputs": [
    {
     "data": {
      "text/plain": [
       "_col0     datetime64[ns]\n",
       "_col1            float64\n",
       "_col2             object\n",
       "_col3             object\n",
       "_col4             object\n",
       "_col5             object\n",
       "_col6             object\n",
       "_col7             object\n",
       "_col8             object\n",
       "_col9             object\n",
       "_col10           float64\n",
       "_col11            object\n",
       "_col12            object\n",
       "dtype: object"
      ]
     },
     "execution_count": 5,
     "metadata": {},
     "output_type": "execute_result"
    }
   ],
   "source": [
    "orcDf.dtypes"
   ]
  },
  {
   "cell_type": "markdown",
   "id": "3d4123de",
   "metadata": {},
   "source": [
    "Importar Parquet\n",
    "\n",
    "https://anson.ucdavis.edu/~clarkf/"
   ]
  },
  {
   "cell_type": "code",
   "execution_count": 10,
   "id": "78cc0480",
   "metadata": {},
   "outputs": [
    {
     "data": {
      "text/html": [
       "<div>\n",
       "<style scoped>\n",
       "    .dataframe tbody tr th:only-of-type {\n",
       "        vertical-align: middle;\n",
       "    }\n",
       "\n",
       "    .dataframe tbody tr th {\n",
       "        vertical-align: top;\n",
       "    }\n",
       "\n",
       "    .dataframe thead th {\n",
       "        text-align: right;\n",
       "    }\n",
       "</style>\n",
       "<table border=\"1\" class=\"dataframe\">\n",
       "  <thead>\n",
       "    <tr style=\"text-align: right;\">\n",
       "      <th></th>\n",
       "      <th>timeperiod</th>\n",
       "      <th>flow1</th>\n",
       "      <th>occupancy1</th>\n",
       "      <th>speed1</th>\n",
       "      <th>flow2</th>\n",
       "      <th>occupancy2</th>\n",
       "      <th>speed2</th>\n",
       "      <th>flow3</th>\n",
       "      <th>occupancy3</th>\n",
       "      <th>speed3</th>\n",
       "      <th>...</th>\n",
       "      <th>speed5</th>\n",
       "      <th>flow6</th>\n",
       "      <th>occupancy6</th>\n",
       "      <th>speed6</th>\n",
       "      <th>flow7</th>\n",
       "      <th>occupancy7</th>\n",
       "      <th>speed7</th>\n",
       "      <th>flow8</th>\n",
       "      <th>occupancy8</th>\n",
       "      <th>speed8</th>\n",
       "    </tr>\n",
       "  </thead>\n",
       "  <tbody>\n",
       "    <tr>\n",
       "      <th>0</th>\n",
       "      <td>05/30/2016 00:00:04</td>\n",
       "      <td>4</td>\n",
       "      <td>0.03</td>\n",
       "      <td>71.0</td>\n",
       "      <td>6</td>\n",
       "      <td>0.04</td>\n",
       "      <td>71.0</td>\n",
       "      <td>3</td>\n",
       "      <td>0.03</td>\n",
       "      <td>65.0</td>\n",
       "      <td>...</td>\n",
       "      <td>NaN</td>\n",
       "      <td>NaN</td>\n",
       "      <td>NaN</td>\n",
       "      <td>NaN</td>\n",
       "      <td>NaN</td>\n",
       "      <td>NaN</td>\n",
       "      <td>NaN</td>\n",
       "      <td>NaN</td>\n",
       "      <td>NaN</td>\n",
       "      <td>NaN</td>\n",
       "    </tr>\n",
       "    <tr>\n",
       "      <th>1</th>\n",
       "      <td>05/30/2016 00:00:34</td>\n",
       "      <td>9</td>\n",
       "      <td>0.05</td>\n",
       "      <td>71.0</td>\n",
       "      <td>9</td>\n",
       "      <td>0.05</td>\n",
       "      <td>78.0</td>\n",
       "      <td>3</td>\n",
       "      <td>0.02</td>\n",
       "      <td>71.0</td>\n",
       "      <td>...</td>\n",
       "      <td>NaN</td>\n",
       "      <td>NaN</td>\n",
       "      <td>NaN</td>\n",
       "      <td>NaN</td>\n",
       "      <td>NaN</td>\n",
       "      <td>NaN</td>\n",
       "      <td>NaN</td>\n",
       "      <td>NaN</td>\n",
       "      <td>NaN</td>\n",
       "      <td>NaN</td>\n",
       "    </tr>\n",
       "    <tr>\n",
       "      <th>2</th>\n",
       "      <td>05/30/2016 00:01:04</td>\n",
       "      <td>1</td>\n",
       "      <td>0.00</td>\n",
       "      <td>78.0</td>\n",
       "      <td>2</td>\n",
       "      <td>0.01</td>\n",
       "      <td>78.0</td>\n",
       "      <td>2</td>\n",
       "      <td>0.01</td>\n",
       "      <td>71.0</td>\n",
       "      <td>...</td>\n",
       "      <td>NaN</td>\n",
       "      <td>NaN</td>\n",
       "      <td>NaN</td>\n",
       "      <td>NaN</td>\n",
       "      <td>NaN</td>\n",
       "      <td>NaN</td>\n",
       "      <td>NaN</td>\n",
       "      <td>NaN</td>\n",
       "      <td>NaN</td>\n",
       "      <td>NaN</td>\n",
       "    </tr>\n",
       "    <tr>\n",
       "      <th>3</th>\n",
       "      <td>05/30/2016 00:01:34</td>\n",
       "      <td>3</td>\n",
       "      <td>0.02</td>\n",
       "      <td>71.0</td>\n",
       "      <td>2</td>\n",
       "      <td>0.01</td>\n",
       "      <td>78.0</td>\n",
       "      <td>1</td>\n",
       "      <td>0.01</td>\n",
       "      <td>65.0</td>\n",
       "      <td>...</td>\n",
       "      <td>NaN</td>\n",
       "      <td>NaN</td>\n",
       "      <td>NaN</td>\n",
       "      <td>NaN</td>\n",
       "      <td>NaN</td>\n",
       "      <td>NaN</td>\n",
       "      <td>NaN</td>\n",
       "      <td>NaN</td>\n",
       "      <td>NaN</td>\n",
       "      <td>NaN</td>\n",
       "    </tr>\n",
       "    <tr>\n",
       "      <th>4</th>\n",
       "      <td>05/30/2016 00:02:04</td>\n",
       "      <td>1</td>\n",
       "      <td>0.01</td>\n",
       "      <td>71.0</td>\n",
       "      <td>2</td>\n",
       "      <td>0.01</td>\n",
       "      <td>71.0</td>\n",
       "      <td>2</td>\n",
       "      <td>0.01</td>\n",
       "      <td>71.0</td>\n",
       "      <td>...</td>\n",
       "      <td>NaN</td>\n",
       "      <td>NaN</td>\n",
       "      <td>NaN</td>\n",
       "      <td>NaN</td>\n",
       "      <td>NaN</td>\n",
       "      <td>NaN</td>\n",
       "      <td>NaN</td>\n",
       "      <td>NaN</td>\n",
       "      <td>NaN</td>\n",
       "      <td>NaN</td>\n",
       "    </tr>\n",
       "  </tbody>\n",
       "</table>\n",
       "<p>5 rows × 25 columns</p>\n",
       "</div>"
      ],
      "text/plain": [
       "            timeperiod  flow1  occupancy1  speed1  flow2  occupancy2  speed2  \\\n",
       "0  05/30/2016 00:00:04      4        0.03    71.0      6        0.04    71.0   \n",
       "1  05/30/2016 00:00:34      9        0.05    71.0      9        0.05    78.0   \n",
       "2  05/30/2016 00:01:04      1        0.00    78.0      2        0.01    78.0   \n",
       "3  05/30/2016 00:01:34      3        0.02    71.0      2        0.01    78.0   \n",
       "4  05/30/2016 00:02:04      1        0.01    71.0      2        0.01    71.0   \n",
       "\n",
       "   flow3  occupancy3  speed3  ...  speed5  flow6  occupancy6  speed6  flow7  \\\n",
       "0      3        0.03    65.0  ...     NaN    NaN         NaN     NaN    NaN   \n",
       "1      3        0.02    71.0  ...     NaN    NaN         NaN     NaN    NaN   \n",
       "2      2        0.01    71.0  ...     NaN    NaN         NaN     NaN    NaN   \n",
       "3      1        0.01    65.0  ...     NaN    NaN         NaN     NaN    NaN   \n",
       "4      2        0.01    71.0  ...     NaN    NaN         NaN     NaN    NaN   \n",
       "\n",
       "   occupancy7  speed7  flow8  occupancy8  speed8  \n",
       "0         NaN     NaN    NaN         NaN     NaN  \n",
       "1         NaN     NaN    NaN         NaN     NaN  \n",
       "2         NaN     NaN    NaN         NaN     NaN  \n",
       "3         NaN     NaN    NaN         NaN     NaN  \n",
       "4         NaN     NaN    NaN         NaN     NaN  \n",
       "\n",
       "[5 rows x 25 columns]"
      ]
     },
     "execution_count": 10,
     "metadata": {},
     "output_type": "execute_result"
    }
   ],
   "source": [
    "parquetDf = pd.read_parquet('ejemploParquet.parquet', engine='auto')\n",
    "parquetDf.head()"
   ]
  },
  {
   "cell_type": "code",
   "execution_count": 11,
   "id": "784c4647",
   "metadata": {},
   "outputs": [
    {
     "data": {
      "text/plain": [
       "timeperiod     object\n",
       "flow1           int32\n",
       "occupancy1    float64\n",
       "speed1        float64\n",
       "flow2           int32\n",
       "occupancy2    float64\n",
       "speed2        float64\n",
       "flow3           int32\n",
       "occupancy3    float64\n",
       "speed3        float64\n",
       "flow4         float64\n",
       "occupancy4    float64\n",
       "speed4        float64\n",
       "flow5         float64\n",
       "occupancy5    float64\n",
       "speed5        float64\n",
       "flow6         float64\n",
       "occupancy6    float64\n",
       "speed6        float64\n",
       "flow7         float64\n",
       "occupancy7    float64\n",
       "speed7        float64\n",
       "flow8         float64\n",
       "occupancy8    float64\n",
       "speed8        float64\n",
       "dtype: object"
      ]
     },
     "execution_count": 11,
     "metadata": {},
     "output_type": "execute_result"
    }
   ],
   "source": [
    "parquetDf.dtypes"
   ]
  },
  {
   "cell_type": "markdown",
   "id": "10a041bc",
   "metadata": {},
   "source": [
    "Vamos a exportar a Pickel y e importarlo de nuevo\n",
    "\n",
    "Loading pickled data received from untrusted sources can be unsafe."
   ]
  },
  {
   "cell_type": "code",
   "execution_count": 16,
   "id": "e693a0bc",
   "metadata": {},
   "outputs": [],
   "source": [
    "orcDf.to_pickle('ejemploPickel.pkl')"
   ]
  },
  {
   "cell_type": "code",
   "execution_count": 19,
   "id": "043bbe7d",
   "metadata": {},
   "outputs": [
    {
     "data": {
      "text/html": [
       "<div>\n",
       "<style scoped>\n",
       "    .dataframe tbody tr th:only-of-type {\n",
       "        vertical-align: middle;\n",
       "    }\n",
       "\n",
       "    .dataframe tbody tr th {\n",
       "        vertical-align: top;\n",
       "    }\n",
       "\n",
       "    .dataframe thead th {\n",
       "        text-align: right;\n",
       "    }\n",
       "</style>\n",
       "<table border=\"1\" class=\"dataframe\">\n",
       "  <thead>\n",
       "    <tr style=\"text-align: right;\">\n",
       "      <th></th>\n",
       "      <th>_col0</th>\n",
       "      <th>_col1</th>\n",
       "      <th>_col2</th>\n",
       "      <th>_col3</th>\n",
       "      <th>_col4</th>\n",
       "      <th>_col5</th>\n",
       "      <th>_col6</th>\n",
       "      <th>_col7</th>\n",
       "      <th>_col8</th>\n",
       "      <th>_col9</th>\n",
       "      <th>_col10</th>\n",
       "      <th>_col11</th>\n",
       "      <th>_col12</th>\n",
       "    </tr>\n",
       "  </thead>\n",
       "  <tbody>\n",
       "    <tr>\n",
       "      <th>0</th>\n",
       "      <td>2016-02-03 13:36:39</td>\n",
       "      <td>1.0</td>\n",
       "      <td>Donald</td>\n",
       "      <td>Lewis</td>\n",
       "      <td>dlewis0@clickbank.net</td>\n",
       "      <td>Male</td>\n",
       "      <td>102.22.124.20</td>\n",
       "      <td></td>\n",
       "      <td>Indonesia</td>\n",
       "      <td>7/9/1972</td>\n",
       "      <td>140249.37</td>\n",
       "      <td>Senior Financial Analyst</td>\n",
       "      <td></td>\n",
       "    </tr>\n",
       "    <tr>\n",
       "      <th>1</th>\n",
       "      <td>2016-02-03 00:22:28</td>\n",
       "      <td>2.0</td>\n",
       "      <td>Walter</td>\n",
       "      <td>Collins</td>\n",
       "      <td>wcollins1@bloglovin.com</td>\n",
       "      <td>Male</td>\n",
       "      <td>247.28.26.93</td>\n",
       "      <td>3587726269478025</td>\n",
       "      <td>China</td>\n",
       "      <td></td>\n",
       "      <td>NaN</td>\n",
       "      <td></td>\n",
       "      <td></td>\n",
       "    </tr>\n",
       "    <tr>\n",
       "      <th>2</th>\n",
       "      <td>2016-02-03 18:29:04</td>\n",
       "      <td>3.0</td>\n",
       "      <td>Michelle</td>\n",
       "      <td>Henderson</td>\n",
       "      <td>mhenderson2@geocities.jp</td>\n",
       "      <td>Female</td>\n",
       "      <td>193.68.146.150</td>\n",
       "      <td></td>\n",
       "      <td>France</td>\n",
       "      <td>1/15/1964</td>\n",
       "      <td>236219.26</td>\n",
       "      <td>Teacher</td>\n",
       "      <td></td>\n",
       "    </tr>\n",
       "    <tr>\n",
       "      <th>3</th>\n",
       "      <td>2016-02-03 13:42:19</td>\n",
       "      <td>4.0</td>\n",
       "      <td>Lori</td>\n",
       "      <td>Hudson</td>\n",
       "      <td>lhudson3@dion.ne.jp</td>\n",
       "      <td></td>\n",
       "      <td>34.252.168.48</td>\n",
       "      <td>3568840151595649</td>\n",
       "      <td>Russia</td>\n",
       "      <td>4/22/1988</td>\n",
       "      <td>NaN</td>\n",
       "      <td>Nuclear Power Engineer</td>\n",
       "      <td></td>\n",
       "    </tr>\n",
       "    <tr>\n",
       "      <th>4</th>\n",
       "      <td>2016-02-03 00:15:29</td>\n",
       "      <td>5.0</td>\n",
       "      <td>Howard</td>\n",
       "      <td>Miller</td>\n",
       "      <td>hmiller4@fema.gov</td>\n",
       "      <td>Male</td>\n",
       "      <td>103.193.150.230</td>\n",
       "      <td>3583473261055014</td>\n",
       "      <td>France</td>\n",
       "      <td>11/26/1998</td>\n",
       "      <td>50210.02</td>\n",
       "      <td>Senior Editor</td>\n",
       "      <td></td>\n",
       "    </tr>\n",
       "  </tbody>\n",
       "</table>\n",
       "</div>"
      ],
      "text/plain": [
       "                _col0  _col1     _col2      _col3                     _col4  \\\n",
       "0 2016-02-03 13:36:39    1.0    Donald      Lewis     dlewis0@clickbank.net   \n",
       "1 2016-02-03 00:22:28    2.0    Walter    Collins   wcollins1@bloglovin.com   \n",
       "2 2016-02-03 18:29:04    3.0  Michelle  Henderson  mhenderson2@geocities.jp   \n",
       "3 2016-02-03 13:42:19    4.0      Lori     Hudson       lhudson3@dion.ne.jp   \n",
       "4 2016-02-03 00:15:29    5.0    Howard     Miller         hmiller4@fema.gov   \n",
       "\n",
       "    _col5            _col6             _col7      _col8       _col9  \\\n",
       "0    Male    102.22.124.20                    Indonesia    7/9/1972   \n",
       "1    Male     247.28.26.93  3587726269478025      China               \n",
       "2  Female   193.68.146.150                       France   1/15/1964   \n",
       "3            34.252.168.48  3568840151595649     Russia   4/22/1988   \n",
       "4    Male  103.193.150.230  3583473261055014     France  11/26/1998   \n",
       "\n",
       "      _col10                    _col11 _col12  \n",
       "0  140249.37  Senior Financial Analyst         \n",
       "1        NaN                                   \n",
       "2  236219.26                   Teacher         \n",
       "3        NaN    Nuclear Power Engineer         \n",
       "4   50210.02             Senior Editor         "
      ]
     },
     "execution_count": 19,
     "metadata": {},
     "output_type": "execute_result"
    }
   ],
   "source": [
    "PickleDf = pd.read_pickle('ejemploPickel.pkl')\n",
    "PickleDf.head()"
   ]
  },
  {
   "cell_type": "code",
   "execution_count": 21,
   "id": "b7c88717",
   "metadata": {},
   "outputs": [
    {
     "data": {
      "text/plain": [
       "_col0     datetime64[ns]\n",
       "_col1            float64\n",
       "_col2             object\n",
       "_col3             object\n",
       "_col4             object\n",
       "_col5             object\n",
       "_col6             object\n",
       "_col7             object\n",
       "_col8             object\n",
       "_col9             object\n",
       "_col10           float64\n",
       "_col11            object\n",
       "_col12            object\n",
       "dtype: object"
      ]
     },
     "execution_count": 21,
     "metadata": {},
     "output_type": "execute_result"
    }
   ],
   "source": [
    "PickleDf.dtypes"
   ]
  },
  {
   "cell_type": "code",
   "execution_count": null,
   "id": "7f6cc380",
   "metadata": {},
   "outputs": [],
   "source": []
  }
 ],
 "metadata": {
  "kernelspec": {
   "display_name": "Python 3",
   "language": "python",
   "name": "python3"
  },
  "language_info": {
   "codemirror_mode": {
    "name": "ipython",
    "version": 3
   },
   "file_extension": ".py",
   "mimetype": "text/x-python",
   "name": "python",
   "nbconvert_exporter": "python",
   "pygments_lexer": "ipython3",
   "version": "3.9.5"
  },
  "vscode": {
   "interpreter": {
    "hash": "2e242e6b8c453217117083c6680e6db82176874e34559806b32fd7417ddae620"
   }
  }
 },
 "nbformat": 4,
 "nbformat_minor": 5
}
