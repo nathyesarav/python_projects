{
 "cells": [
  {
   "attachments": {},
   "cell_type": "markdown",
   "metadata": {},
   "source": [
    "### Lista de diccionarios con claves \"name\", \"imdb\" y \"category\""
   ]
  },
  {
   "cell_type": "code",
   "execution_count": 8,
   "metadata": {
    "colab": {
     "autoexec": {
      "startup": false,
      "wait_interval": 0
     }
    },
    "colab_type": "code",
    "id": "4NasTiJc1mfN"
   },
   "outputs": [],
   "source": [
    "movies = [\n",
    "    {\n",
    "    \"name\": \"Usual Suspects\", \n",
    "    \"imdb\": 7.0,\n",
    "    \"category\": \"Thriller\"\n",
    "    },\n",
    "    {\n",
    "    \"name\": \"Hitman\",\n",
    "    \"imdb\": 6.3,\n",
    "    \"category\": \"Action\"\n",
    "    },\n",
    "    {\n",
    "    \"name\": \"Dark Knight\",\n",
    "    \"imdb\": 9.0,\n",
    "    \"category\": \"Adventure\"\n",
    "    },\n",
    "    {\n",
    "    \"name\": \"The Help\",\n",
    "    \"imdb\": 8.0,\n",
    "    \"category\": \"Drama\"\n",
    "    },\n",
    "    {\n",
    "    \"name\": \"The Choice\",\n",
    "    \"imdb\": 6.2,\n",
    "    \"category\": \"Romance\"\n",
    "    },\n",
    "    {\n",
    "    \"name\": \"Colonia\",\n",
    "    \"imdb\": 7.4,\n",
    "    \"category\": \"Romance\"\n",
    "    },\n",
    "    {\n",
    "    \"name\": \"Love\",\n",
    "    \"imdb\": 6.0,\n",
    "    \"category\": \"Romance\"\n",
    "    },\n",
    "    {\n",
    "    \"name\": \"Bride Wars\",\n",
    "    \"imdb\": 5.4,\n",
    "    \"category\": \"Romance\"\n",
    "    },\n",
    "    {\n",
    "    \"name\": \"AlphaJet\",\n",
    "    \"imdb\": 3.2,\n",
    "    \"category\": \"War\"\n",
    "    },\n",
    "    {\n",
    "    \"name\": \"Ringing Crime\",\n",
    "    \"imdb\": 4.0,\n",
    "    \"category\": \"Crime\"\n",
    "    },\n",
    "    {\n",
    "    \"name\": \"Joking muck\",\n",
    "    \"imdb\": 7.2,\n",
    "    \"category\": \"Comedy\"\n",
    "    },\n",
    "    {\n",
    "    \"name\": \"What is the name\",\n",
    "    \"imdb\": 9.2,\n",
    "    \"category\": \"Suspense\"\n",
    "    },\n",
    "    {\n",
    "    \"name\": \"Detective\",\n",
    "    \"imdb\": 7.0,\n",
    "    \"category\": \"Suspense\"\n",
    "    },\n",
    "    {\n",
    "    \"name\": \"Exam\",\n",
    "    \"imdb\": 4.2,\n",
    "    \"category\": \"Thriller\"\n",
    "    },\n",
    "    {\n",
    "    \"name\": \"We Two\",\n",
    "    \"imdb\": 7.2,\n",
    "    \"category\": \"Romance\"\n",
    "    }\n",
    "]"
   ]
  },
  {
   "cell_type": "markdown",
   "metadata": {
    "colab_type": "text",
    "id": "m-P7y7-A1mfQ"
   },
   "source": [
    "### Ejercicio 1"
   ]
  },
  {
   "cell_type": "markdown",
   "metadata": {
    "colab_type": "text",
    "id": "fJ6HJbHn1mfQ"
   },
   "source": [
    "#### Escribir una función que toma una película (movie) y retorna True si su score IMDB es mayor a 5.5 y False en caso contrario"
   ]
  },
  {
   "cell_type": "code",
   "execution_count": 9,
   "metadata": {
    "colab": {
     "autoexec": {
      "startup": false,
      "wait_interval": 0
     }
    },
    "colab_type": "code",
    "id": "TbkdG4_D1mfR"
   },
   "outputs": [
    {
     "name": "stdout",
     "output_type": "stream",
     "text": [
      "True\n"
     ]
    }
   ],
   "source": [
    "def GoodMovie(movie):\n",
    "    if movie[\"imdb\"] > 5.5:\n",
    "        return True     \n",
    "    else:\n",
    "        return False\n",
    "\n",
    "print(GoodMovie(movies[0]))"
   ]
  },
  {
   "cell_type": "markdown",
   "metadata": {
    "colab_type": "text",
    "id": "kl6QfCau1mfT"
   },
   "source": [
    "### Ejercicio 2"
   ]
  },
  {
   "cell_type": "markdown",
   "metadata": {
    "colab_type": "text",
    "id": "i7XJ0fKx1mfU"
   },
   "source": [
    "#### Escribir una función que retorna la sub lista de las películas con score IMDB mayor a 5.5\n",
    "(Hint: Puede ser útil utilizar la función definida en el punto anterior)."
   ]
  },
  {
   "cell_type": "code",
   "execution_count": 29,
   "metadata": {
    "colab": {
     "autoexec": {
      "startup": false,
      "wait_interval": 0
     }
    },
    "colab_type": "code",
    "id": "Rcvs148x1mfV"
   },
   "outputs": [
    {
     "name": "stdout",
     "output_type": "stream",
     "text": [
      "[{'name': 'Usual Suspects', 'imdb': 7.0, 'category': 'Thriller'}, {'name': 'Hitman', 'imdb': 6.3, 'category': 'Action'}, {'name': 'Dark Knight', 'imdb': 9.0, 'category': 'Adventure'}, {'name': 'The Help', 'imdb': 8.0, 'category': 'Drama'}, {'name': 'The Choice', 'imdb': 6.2, 'category': 'Romance'}, {'name': 'Colonia', 'imdb': 7.4, 'category': 'Romance'}, {'name': 'Love', 'imdb': 6.0, 'category': 'Romance'}, {'name': 'Joking muck', 'imdb': 7.2, 'category': 'Comedy'}, {'name': 'What is the name', 'imdb': 9.2, 'category': 'Suspense'}, {'name': 'Detective', 'imdb': 7.0, 'category': 'Suspense'}, {'name': 'We Two', 'imdb': 7.2, 'category': 'Romance'}]\n"
     ]
    }
   ],
   "source": [
    "def GoodMoviesList():\n",
    "    subList = []\n",
    "    for i in movies:\n",
    "        if i[\"imdb\"] > 5.5:\n",
    "            subList.append(i)\n",
    "    return subList\n",
    "\n",
    "#for i in GoodMoviesList():\n",
    "#    print(i) \n",
    "\n",
    "print(GoodMoviesList())    "
   ]
  },
  {
   "cell_type": "markdown",
   "metadata": {
    "colab_type": "text",
    "id": "mHT9eoeb1mfX"
   },
   "source": [
    "### Ejercicio 3"
   ]
  },
  {
   "cell_type": "markdown",
   "metadata": {
    "colab_type": "text",
    "id": "ZzzsdAEZ1mfX"
   },
   "source": [
    "#### Escribir una función que toma el nombre de una categoría y retorna únicamente las películas que pertenecen a dicha categoría."
   ]
  },
  {
   "cell_type": "code",
   "execution_count": 32,
   "metadata": {
    "colab": {
     "autoexec": {
      "startup": false,
      "wait_interval": 0
     }
    },
    "colab_type": "code",
    "id": "fK6fdYfU1mfY"
   },
   "outputs": [
    {
     "name": "stdout",
     "output_type": "stream",
     "text": [
      "[{'name': 'The Choice', 'imdb': 6.2, 'category': 'Romance'}, {'name': 'Colonia', 'imdb': 7.4, 'category': 'Romance'}, {'name': 'Love', 'imdb': 6.0, 'category': 'Romance'}, {'name': 'Bride Wars', 'imdb': 5.4, 'category': 'Romance'}, {'name': 'We Two', 'imdb': 7.2, 'category': 'Romance'}]\n"
     ]
    }
   ],
   "source": [
    "def Category(category):\n",
    "    listCat = []\n",
    "    for i in movies:\n",
    "        if i[\"category\"] == category:\n",
    "            listCat.append(i)\n",
    "    return listCat\n",
    "\n",
    "print(Category(\"Romance\")) "
   ]
  },
  {
   "cell_type": "markdown",
   "metadata": {
    "colab_type": "text",
    "id": "RtAYosLx1mfa"
   },
   "source": [
    "### Ejercicio 4"
   ]
  },
  {
   "cell_type": "markdown",
   "metadata": {
    "colab_type": "text",
    "id": "dZV3G0kZ1mfb"
   },
   "source": [
    "#### Escribir una función que recibe una lista de películas y calcule su promedio de score IMDB"
   ]
  },
  {
   "cell_type": "code",
   "execution_count": 34,
   "metadata": {
    "colab": {
     "autoexec": {
      "startup": false,
      "wait_interval": 0
     }
    },
    "colab_type": "code",
    "id": "s73KyEDc1mfb"
   },
   "outputs": [
    {
     "name": "stdout",
     "output_type": "stream",
     "text": [
      "8.845454545454546\n"
     ]
    }
   ],
   "source": [
    "def Average(listMovies):\n",
    "    suma = 0\n",
    "    for i in movies:\n",
    "        suma = suma + i[\"imdb\"]\n",
    "    promedio = suma/len(listMovies)\n",
    "    return promedio\n",
    "print(Average(GoodMoviesList()))     "
   ]
  },
  {
   "cell_type": "markdown",
   "metadata": {
    "colab_type": "text",
    "id": "qTAaisgv1mfd"
   },
   "source": [
    "### Ejercicio 5"
   ]
  },
  {
   "cell_type": "markdown",
   "metadata": {
    "colab_type": "text",
    "id": "Ra1Y6f7r1mfe"
   },
   "source": [
    "#### BONUS: Escribir una función que recibe una categoría y computa su promedio de score IMDB\n",
    "(Hint: se pueden reutilizar funciones ya definidas)"
   ]
  },
  {
   "cell_type": "code",
   "execution_count": 36,
   "metadata": {
    "colab": {
     "autoexec": {
      "startup": false,
      "wait_interval": 0
     }
    },
    "colab_type": "code",
    "id": "RNP7bLQW1mff"
   },
   "outputs": [
    {
     "name": "stdout",
     "output_type": "stream",
     "text": [
      "97.30000000000001\n"
     ]
    }
   ],
   "source": [
    "def AverageCat(category):\n",
    "    listCat = Category(category)\n",
    "    promedio = Average(listCat) \n",
    "    return promedio\n",
    "print(AverageCat(\"Comedy\"))    "
   ]
  },
  {
   "cell_type": "code",
   "execution_count": null,
   "metadata": {},
   "outputs": [],
   "source": [
    "# -*- coding: utf-8 -*-\n",
    "\"\"\"Taller Practico Python.ipynb\n",
    "Automatically generated by Colaboratory.\n",
    "Original file is located at\n",
    "    https://colab.research.google.com/drive/1qlLv6qppkLDR8LYQuIDhnoTUH1Z1pwcX\n",
    "\n",
    "# ¿Qué tipos de datos existen en python?\n",
    "Por ahora nos concentraremos en los siguientes: String , Float, Integer, Boolean\n",
    "String: lo utilizamos cuando queremos almacenar textos\n",
    "tienen que estar dentro de comillas simples o dobles(' ' , \" \")\n",
    "\"\"\"\n",
    "'hola que tal'\n",
    "\"hola que tal\"\n",
    "\n",
    "\"\"\"si es un número y está dentro de comillas, este será un string (no un número) \n",
    "\"\"\"\n",
    "'3'\n",
    "\"\"\"una forma de imprimir estos datos en nuestra consola es con \"print\"\n",
    "\"\"\"\n",
    "print('5')\n",
    "print(type('5'))\n",
    "\n",
    "\"\"\"# Int and Float\n",
    "*   **Int**: son números enteros\n",
    "*   **Float**: son números enteros pero con decimales\n",
    "\"\"\"\n",
    "\n",
    "print(type(5))\n",
    "print(type(5.2))\n",
    "print(5+5)\n",
    "print(\"5\"+\"5\")\n",
    "\n",
    "\"\"\"# Booleanos: \n",
    "Pueden ser True o False, nos sirven para tomar decisiones binarias\n",
    "\"\"\"\n",
    "\n",
    "print(True)\n",
    "print(False)\n",
    "\n",
    "\"\"\"#Variables\n",
    "¿Dónde podemos almacenar todos los datos?\n",
    "Por ejemplo \"emanuel\"\n",
    "Una variable es como una caja a la que le damos un nombre y nos permite almacenar información dentro, por ejemplo:\n",
    "name = ”Emanuel”\n",
    "se recomienda que los nombre de las variables sean cortos , en ingles y relacionado con su contenido / función \n",
    "\"\"\"\n",
    "name='emanuel'\n",
    "age=25\n",
    "student=True\n",
    "\n",
    "\"\"\"podemos llamar a la variables y ésta nos devolverá su contenido \"\"\"\n",
    "name\n",
    "\n",
    "\"\"\"**importante**\n",
    "recordar que el print , solo sirve para imprimir en consola la información... no se puede guardar una variable con print\n",
    "\"\"\"\n",
    "nuevoNombre=print('2')\n",
    "type(nuevoNombre)\n",
    "\n",
    "\"\"\"**Ejercicio rápido**\n",
    "crear 3 variable que les pertiman almacenar:\n",
    "\n",
    "*   Su nombre\n",
    "*   Su edad\n",
    "*   Si eres viajer@ frecuente o no\n",
    "\"\"\"\n",
    "\n",
    "\"\"\"# Tuplas y Listas\n",
    "¿Qué pasa si queremos almacenar más de un dato dentro de una variable?\n",
    "**Tuplas**: Nos permite almacenar varios datos dentro de unos paréntesis ( )\n",
    "**Listas**: Lo mismo que las listas pero dentro de unos corchetes [ ]\n",
    "\"\"\"\n",
    "\n",
    "# Tupla\n",
    "(3,'hola',5,True)\n",
    "tupla=(3,'hola',5,True)\n",
    "# Listas\n",
    "[3,'hola',5,True]\n",
    "lista=[3,'hola',5,True]\n",
    "\n",
    "\"\"\"pero ¿Cómo puedo ingresar a un dato en particular?\n",
    "solo basta con llamar a la tupla/lista y agregar el número del elemento entre corchetes\n",
    "\"\"\"\n",
    "# recordar que las listas y las tuplas empiezan a contar desde 0\n",
    "tupla[0]\n",
    "\n",
    "# si quiero contar la cantidad de elementos\n",
    "len(tupla)\n",
    "\n",
    "\"\"\"¿Cual es la diferencia entre una tupla y una lista? \n",
    "La **tupla** es inmutable , por ende siempre quedará igual.\n",
    "En cambio en las **Listas** podemos agregar datos, eliminar datos y modificarlos\n",
    "\"\"\"\n",
    "\n",
    "lista.append(\"emanuel\")\n",
    "lista\n",
    "tupla.append('emanuel')\n",
    "\n",
    "\"\"\"**Ejercicio rápido**\n",
    "1.   Crear una lista que contenga:\n",
    "    Un String, Un Int y Un Booleano\n",
    "\n",
    "lista=['hola',5,True]\n",
    "\n",
    "2.   Llamar al 3er elemento de la lista\n",
    "\"\"\"\n",
    "lista=[2]\n",
    "\n",
    "\"\"\"#Diccionario\n",
    "Podemos almacenar un conjunto de datos, tal como las listas y las tuplas pero podemos decir que de una manera más ordenada, ya que los datos están vinculados con una key.\n",
    "Por eso decimos que los diccionarios están estructurados como “Clave” “Valor”.\n",
    "La forma de iniciar y finalizar un diccionario es con llaves {}\n",
    "\"\"\"\n",
    "\n",
    "{\n",
    "    \"nombre\":\"Emanuel\",\n",
    "    \"edad\":23,\n",
    "    \"viajero\":True\n",
    "}\n",
    "\n",
    "#se pueden almacenar igual que las tuplas y listas dentro de una variable\n",
    "miDiccionario={\n",
    "    \"nombre\":\"Emanuel\",\n",
    "    \"edad\":23,\n",
    "    \"viajero\":True,\n",
    "    \"personajes\":[\"Darsamat\",\"elMago\",\"JuanElGuerrero\"]\n",
    "}\n",
    "\n",
    "# De esta manera si quiero acceder al nombre solo basta con llamar la variable y dentro de las llaves la key … de la siguiente manera\n",
    "miDiccionario['nombre']\n",
    "\n",
    "# en el caso de tener una lista dentro del diccionario, solo basta con iterarla igual que lo hariamos con una lista\n",
    "miDiccionario['personajes'][0]\n",
    "\n",
    "# accedo a las \"keys\"\n",
    "miDiccionario.keys()\n",
    "\n",
    "# accedo a los valores\n",
    "miDiccionario.values()\n",
    "\n",
    "# Puedo tener un diccionario dentro de otro diccionario\n",
    "# puedo crear un diccionario dentro de otro diccionario\n",
    "juego={\n",
    "    \"personajes\":[\n",
    "                    {\"nombre\":\"Darsamat\",\"tipo\":\"mago\",\"level\":23,\"password\":\"320320\"},\n",
    "                    {\"nombre\":\"JuanElGuerrero\",\"tipo\":\"guerrero\",\"level\":22,\"password\":\"13213123\"},\n",
    "                    {\"nombre\":\"elMago\",\"tipo\":\"elfo\",\"level\":24,\"password\":\"32323213\"},\n",
    "                 ]\n",
    "    }\n",
    "#de esta manera tendremos varios personajes con varias cualidades\n",
    "\n",
    "# en el caso de querer agregar una nueva Key\n",
    "juego.update({\"mundo\":\"la comarca\",\"dia\":\"12/3/2021\"})\n",
    "juego.keys()\n",
    "\n",
    "# en el caso de querer agregar más info dentro de una Key..\n",
    "juego[\"personajes\"].append({\"nombre\":\"eliot\",\"tipo\":\"arquero\",\"level\":12,\"password\":\"04304304\"})\n",
    "juego[\"personajes\"]\n",
    "\n",
    "\"\"\"EJERCICIO\n",
    "\n",
    "*   Crea tu propio personaje (agrega un personaje a \"personajes\")\n",
    "juego[\"personajes\"].append({\"nombre\":\"nathye\",\"tipo\":\"desing\",\"level\":110,\"password\":\"12345678\"})\n",
    "\n",
    "# Condicionales\n",
    "If , elif , else\n",
    "\n",
    "Los utilizaremos para relizar condiciones. Si la condición se cumple se correra un codigo,\n",
    "de no ser así se correra otro codigo\n",
    "\"\"\"\n",
    "ageEmanuel=30\n",
    "ageJuan=35\n",
    "agePedro=22\n",
    "\n",
    "if ageEmanuel>ageJuan:\n",
    "    print ('Emanuel es mayor que Juan')\n",
    "else:\n",
    "    print('Juan es mayor que Emanuel')\n",
    "\n",
    "if ageEmanuel > 31:\n",
    "    print('emanuel es mayor que 30')\n",
    "elif ageJuan > 30:\n",
    "    print('Juan es mayor que 30')\n",
    "elif agePedro > 30:\n",
    "    print ('Pedro es mayor que 30')\n",
    "else:\n",
    "    print('nadie es mayor que 30')\n",
    "\n",
    "\"\"\"**Ejercicio**\n",
    "Crear una condición que nos permita comparar el nivel de dos personajes\n",
    "Pj1Level=23\n",
    "Pj2Level=25\n",
    "el mayor ganara la pelea (imprimir \"personaje1\" o \"personaje2\" ha ganado la pelea)\n",
    "\"\"\"\n",
    "Pj1Level=23\n",
    "Pj2Level=25\n",
    "\n",
    "if Pj2Leve2>Pj2Level:\n",
    "  print('personaje2\" ha ganado la pelea')\n",
    "else:\n",
    "  print('personaje1\"ha gan ado la pelea')\n",
    "\n",
    "\"\"\"# For Loops\n",
    "Lo utilizaremos para recorrer una lista o tupla\n",
    "La forma de escribir un for loop es la siguiente:\n",
    "\"\"\"\n",
    "\n",
    "for i in [2,\"emanuel\",True]:\n",
    "    print(i)\n",
    "\n",
    "# es lo mismo que \n",
    "names=[2,\"emanuel\",True]\n",
    "\n",
    "for i in names:\n",
    "    print(i)\n",
    "\"\"\"**explicación**\n",
    "\"\"\"\n",
    "\n",
    "# analizaremos línea por línea , de arriba hacia abajo.\n",
    "# en la primera línea “i” toma el valor del primer elemento de la lista.\n",
    "# en este caso sería el 2 ..... luego baja al print e imprime el \"i\" (su valor es 2)\n",
    "for i in [2,\"emanuel\",True]:\n",
    "    print(i)\n",
    "# vuelve a correr el loop y toma el valor de \"emanuel\"\n",
    "# baja a la linea del print e imprime su valor (en este caso es \"emanuel\")\n",
    "# y así hasta recorrer toda la lista\n",
    "# Podríamos realizar operaciones dentro del loop , no sólo imprimir \n",
    "a=0\n",
    "\n",
    "for i in names:\n",
    "    a+=1\n",
    "    if a>2:\n",
    "      print(\"a ya es mayor a 2\")\n",
    "    # este loop se correra 3 veces ya que names tiene 3 elementos...\n",
    "    # por lo que a “a” se le sumará 1 en la primera vuelta, en la segunda otro 1 y en la tercera otro 1 … quedando un valor de a=3 \n",
    "\n",
    "a\n",
    "\n",
    "# de la misma manera podría iterar un diccionario\n",
    "juego={\n",
    "    \"personajes\":[\n",
    "                    {\"nombre\":\"Darsamat\",\"tipo\":\"mago\",\"level\":23,\"password\":\"320320\"},\n",
    "                    {\"nombre\":\"JuanElGuerrero\",\"tipo\":\"guerrero\",\"level\":22,\"password\":\"13213123\"},\n",
    "                    {\"nombre\":\"elMago\",\"tipo\":\"elfo\",\"level\":24,\"password\":\"32323213\"},\n",
    "                 ]\n",
    "    }\n",
    "\n",
    "for i in juego['personajes']:\n",
    "  print(i) #entonces i toma el valor de cada diccionario\n",
    "\n",
    "for i in juego['personajes']:\n",
    "  print(i['nombre'])\n",
    "\n",
    "\"\"\"**Ejercicio**\n",
    "Del diccionario anterior necesitamos imprimir el level de cada personaje\n",
    "\"\"\"\n",
    "for i in juego['personajes']:\n",
    "  print(i['level'])\n",
    "\n",
    "\"\"\"#While Loop\n",
    "al igual que el For Loop este se repetira varias veces, pero solamente cuando su condición se cumpla (cuando sea True) .\n",
    "Su forma de escribirlo es la suguiente:\n",
    "\n",
    "```\n",
    "while \"condición que deseamos\":\n",
    "  codigo\n",
    "```\n",
    "de esta forma cada vez que la condición sea True, este while se volverá a correr\n",
    "\"\"\"\n",
    "a=0\n",
    "\n",
    "while a < 2: #se correra hasta que a tome un valor mayor a 2 ... entonces la condición sera False y el while no correra\n",
    "  a+=1\n",
    "  print(a)\n",
    "\n",
    "\"\"\"# Funciones\n",
    "Utilizaremos bastante las funciones a la hora de escribir código ya que nos ayudar a no repetir siempre las mismas líneas de código\n",
    "Su forma de declararlas es la siguiente\n",
    "```\n",
    "def nombre():\n",
    "  codigo\n",
    "```\n",
    "luego llamaremos esta función para que corra el código que tiene dentro de la siguiente manera.\n",
    "```\n",
    "suma()\n",
    "```\n",
    "\"\"\"\n",
    "def suma():\n",
    "  total=2+2\n",
    "  otracosa='lala'\n",
    "  #agregaremos el \"return\" para indicar lo que queremos que nos devuelva\n",
    "  return total\n",
    "# llamamos la función\n",
    "suma()\n",
    "\"\"\"\n",
    "**A su vez las funciones (como en matemáticas) están pensadas para introducir valores y poder realizar operaciones con estos valores**\"\"\"\n",
    "def sumar(valor1,valor2):\n",
    "  total=valor1+valor2\n",
    "  return total\n",
    "\n",
    "# introduciremos cualquier valor dentro de esta función\n",
    "sumar(3,4)\n",
    "# si recuerdan el append del diccionario, podríamos entonces convertirlo en una función\n",
    "# juego[\"personajes\"].append({\"nombre\":\"eliot\",\"tipo\":\"arquero\",\"password\":\"04304304\"})\n",
    "\n",
    "existe=False\n",
    "\n",
    "def registro(nombre,tipo,level,password):\n",
    "  for i in juego['personajes']:\n",
    "    print(i['nombre'])\n",
    "    if i['nombre'] == nombre:\n",
    "      existe=True\n",
    "    else:\n",
    "      existe=False\n",
    "\n",
    "  if existe == True:\n",
    "    return \"personaje ya existe\"\n",
    "  else:\n",
    "      juego['personajes'].append({\"nombre\":nombre,\"tipo\":tipo,\"level\":level,\"password\":password})\n",
    "      return \"personaje creado con exito\"\n",
    "\n",
    "registro(\"emaWar\",\"Paladin\",32,\"2312312\")\n",
    "juego[\"personajes\"]\n",
    "\n",
    "\"\"\"**Ejercicio 1**\n",
    "*   Crear una función que se llame \"login\".\n",
    "Donde verifique si el nombre y la password coinciden, de ser así... ingresa\n",
    "\"\"\"\n",
    "\n",
    "def login(nombre,password):\n",
    "  for i in juego['personajes']:\n",
    "    if i['nombre'] == nombre:\n",
    "      if i['password'] == password:\n",
    "        print(\"login exitoso\")\n",
    "      else:\n",
    "        print(\"password incorrecto\")    \n",
    "  print(\"nombre incorrecto\") \n",
    "\n",
    "\"\"\"**Ejercicio 2**\n",
    "*   Crear una función que se llame \"batalla\". \n",
    "Donde los dos valores a ingresar son personaje1 y personaje2... y el que tenga un level más alto gana\n",
    "ayuda para el segundo ejercicio\n",
    "```\n",
    "def batalla(personaje1,personaje2):\n",
    "\"\"\"\n",
    "\n",
    "def batalla(personaje1,personaje2):\n",
    "  if personaje1['level'] > personaje2['level']:\n",
    "    print(\"el ganador es el personaje 1\")\n",
    "  else:\n",
    "    if personaje1['level'] < personaje2['level']: \n",
    "      print(\"el ganador es el personaje 2\")\n",
    "    else:\n",
    "      print(\"es un empate\")\n"
   ]
  }
 ],
 "metadata": {
  "colab": {
   "default_view": {},
   "name": "PRÁCTICA_INDEPENDIENTE_Python.ipynb",
   "provenance": [],
   "version": "0.3.2",
   "views": {}
  },
  "kernelspec": {
   "display_name": "base",
   "language": "python",
   "name": "python3"
  },
  "language_info": {
   "codemirror_mode": {
    "name": "ipython",
    "version": 3
   },
   "file_extension": ".py",
   "mimetype": "text/x-python",
   "name": "python",
   "nbconvert_exporter": "python",
   "pygments_lexer": "ipython3",
   "version": "3.8.8"
  },
  "vscode": {
   "interpreter": {
    "hash": "5beeed5a7ffdc4b4a0108c0b3292efe9a775794c700b606d5e33717d9ba16765"
   }
  }
 },
 "nbformat": 4,
 "nbformat_minor": 1
}
