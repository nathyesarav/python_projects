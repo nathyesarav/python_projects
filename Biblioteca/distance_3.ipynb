{
 "cells": [
  {
   "cell_type": "code",
   "execution_count": 6,
   "metadata": {},
   "outputs": [
    {
     "name": "stdout",
     "output_type": "stream",
     "text": [
      "0\n"
     ]
    }
   ],
   "source": [
    "# 1.- Calcula la distancia Manhattan entre dos puntos iguales\n",
    "def distance_manhattan_puntos_iguales(point1, point2):\n",
    "  x1, y1 = point1\n",
    "  x2, y2 = point2\n",
    "  \n",
    "  distance = abs(x1 - x2) + abs(y1 - y2)\n",
    "  return distance\n",
    "\n",
    "point = (5,5)  \n",
    "print(distance_manhattan_puntos_iguales(point,point))"
   ]
  },
  {
   "cell_type": "code",
   "execution_count": 10,
   "metadata": {},
   "outputs": [
    {
     "name": "stdout",
     "output_type": "stream",
     "text": [
      "10\n"
     ]
    }
   ],
   "source": [
    "# 2.- Calcula la distancia Manhattan entre dos puntos a la misma altura (misma coordenada y)\n",
    "def distance_manhattan_puntos_igual_coordenada(point1, point2):\n",
    "  x1, y = point1\n",
    "  x2, y = point2\n",
    "  \n",
    "  distance = abs(x1 - x2) + abs(y - y)\n",
    "  return distance\n",
    "\n",
    "point1 = (15,5) \n",
    "point2 = (5,5)  \n",
    "print(distance_manhattan_puntos_igual_coordenada(point1,point2))"
   ]
  },
  {
   "cell_type": "code",
   "execution_count": 12,
   "metadata": {},
   "outputs": [
    {
     "name": "stdout",
     "output_type": "stream",
     "text": [
      "14\n"
     ]
    }
   ],
   "source": [
    "# 3.- Calcula la distancia Manhattan entre dos puntos cuyas coordenadas tengas valores negativos\n",
    "def distance_manhattan_coordenadas_negativas(point1, point2):\n",
    "  x1, y1 = point1\n",
    "  x2, y2 = point2\n",
    "  \n",
    "  distance = abs(x1 - x2) + abs(y1 - y2)\n",
    "  return distance\n",
    "\n",
    "point1 = (-15,-5) \n",
    "point2 = (-5,-1)  \n",
    "print(distance_manhattan_coordenadas_negativas(point1,point2))"
   ]
  },
  {
   "cell_type": "code",
   "execution_count": 1,
   "metadata": {},
   "outputs": [
    {
     "name": "stdout",
     "output_type": "stream",
     "text": [
      "5.656854249492381\n"
     ]
    }
   ],
   "source": [
    "# 4.- Escribe función en Python que calcula la distancia Euclídea entre dos puntos de un plano\n",
    "import math\n",
    "\n",
    "def distance_euclidea(x1, y1, x2, y2):\n",
    "    distance = math.sqrt((x2 - x1)**2 + (y2 - y1)**2)\n",
    "    return distance\n",
    "    \n",
    "px1 = 2\n",
    "py1 = 1\n",
    "px2 = 6\n",
    "py2 = 5\n",
    "\n",
    "print(distance_euclidea(px1,py1,px2,py2))"
   ]
  }
 ],
 "metadata": {
  "kernelspec": {
   "display_name": "Python 3",
   "language": "python",
   "name": "python3"
  },
  "language_info": {
   "codemirror_mode": {
    "name": "ipython",
    "version": 3
   },
   "file_extension": ".py",
   "mimetype": "text/x-python",
   "name": "python",
   "nbconvert_exporter": "python",
   "pygments_lexer": "ipython3",
   "version": "3.9.5"
  },
  "orig_nbformat": 4,
  "vscode": {
   "interpreter": {
    "hash": "2e242e6b8c453217117083c6680e6db82176874e34559806b32fd7417ddae620"
   }
  }
 },
 "nbformat": 4,
 "nbformat_minor": 2
}
