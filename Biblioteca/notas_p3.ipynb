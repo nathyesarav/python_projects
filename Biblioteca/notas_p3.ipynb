{
 "cells": [
  {
   "cell_type": "code",
   "execution_count": null,
   "metadata": {},
   "outputs": [],
   "source": [
    "KNN te da unas predicciones (1 alcista, 0 bajista) para cada fecha del dataset. \n",
    "ver cuál es la predicción de la última fecha (va a indicar la progresión a futuro), una vez sepas si es 1 ó 0, podrás \"inventar\" una predicción basada en este resultado. \n",
    "Ejemplo: si da 1 es alcista,(\"inventar\" que el valor futuro de Bitcoin será el de la última fecha más un 10% cada día a partir de esa fecha)\n",
    "Esta invención se llama \"modelo\". Así habrías creado tu propio modelo que luego puedes testear al igual que se hace con otros modelos en cross validation.\n",
    "\n",
    "Pasos a seguir:​​\n",
    "1.- Averigua lo que predice KNN para la última fecha\n",
    "2.- Crea modelo en base a tal valor\n",
    "3.- Grafícalo y compara con la realidad.\n",
    "\n",
    "Las gráficas como Knn están trabajando con deltas absolutos. Los deltas relativos podrían usarlo para regenerar las gráficas y knn con ellos.\n",
    "¿Cuál es la tendencia prevista por knn para el dato del último día del dataset?\n",
    "¿Qué predicción podríamos hacer en base a esa última tendencia?\n",
    "\n",
    "Moving Average\n",
    "Consulta 1: KNN permite clasificar y Moving Average permite suavizar para visualizar mejor la tendencia. \n",
    "Si quieres aplicarlo a Bitcoin primero hay que plantearse qué nos aporta cada uno hacia el objetivo final. \n",
    "Clasificando podemos detectar temporadas alcistas y bajistas. \n",
    "Suavizando podemos extraer tendencia y estacionalidad. \n",
    "Aplicar los dos nos permitiría generar un modelo con tendencia, estacionalidad y detección de temporada. \n",
    "Estos tres elementos podrían mejorar todos los modelos analizados hasta ahora. \n",
    "Piensa cómo aplicarlo y vamos comentando.\n",
    "\n",
    "Consulta 2: El train se puede construir con los datos reales del último mes, o sea, algo de enero y parte de febrero. \n",
    "Pero también se puede trabajar con predicciones más largas, por ejemplo, los últimos 6 meses. \n",
    "Según la longitud de la predicción obtendrás datos a futuro más lejanos. \n",
    "Si pruebas el modelo con predicciones de un mes, \n",
    "luego aplícalo al futuro para dentro de un mes. O puedes trabajar con train de 1 año y luego aplicarlo a la previsión hasta febrero de 2024.\n",
    "Realmente puedes aplicarlo a un futuro tan lejano como quieras, pero en tal caso no lo tendrías testeado en plazos tan amplios y desconocerías su fiabilidad.\n",
    "\n",
    "\n",
    "Los 3 hiperparámetros que has aplicado en ARIMA son 1,0,1:\n",
    "  model = ARIMA(train['Close'], order=(1, 0, 1))\n",
    "Si cambias estos valores, obtendrás otras predicciones con los mismos datos de entrada.\n",
    "Veo que el conjunto de datos de test empieza a finales de 2019. \n",
    "Eso es coherente con la gráfica y la zona naranja, de datos reales.\n",
    "Por tanto, el objetivo sería crear una columna nueva en el dataframe test llamada \"prediction\" que contuviera los datos de la lista \"predictions\", \n",
    "aplicando el primero a la fecha 2019-11-09, el segundo a 2019-11-10, etc.\n",
    "Luego sólo quedaría graficar test[\"prediction\"] en el mismo gráfico de antes para poder comparar la predicción con la realidad.\n",
    "A ver cómo consigues colocar esa lista de datos en la nueva columna...\n",
    "Una vez lo tengas, se puede aplicar cross validation, ya que ARIMA tiene 3 hiperparámetros."
   ]
  },
  {
   "attachments": {},
   "cell_type": "markdown",
   "metadata": {},
   "source": [
    "1) Ver cuál es la predicción de la última fecha (va a indicar la progresión a futuro), una vez sepas si es 1 ó 0, podrás \"inventar\" una predicción basada en este resultado."
   ]
  },
  {
   "attachments": {},
   "cell_type": "markdown",
   "metadata": {},
   "source": [
    "2) ¿Cuál es la tendencia prevista por knn para el dato del último día del dataset?"
   ]
  },
  {
   "attachments": {},
   "cell_type": "markdown",
   "metadata": {},
   "source": [
    "3) ¿Qué predicción podríamos hacer en base a esa última tendencia?"
   ]
  },
  {
   "attachments": {},
   "cell_type": "markdown",
   "metadata": {},
   "source": [
    "4) Aplicar clasificación y suavizar para generar un modelo con tendencia, estacionalidad y detección de temporada."
   ]
  },
  {
   "attachments": {},
   "cell_type": "markdown",
   "metadata": {},
   "source": [
    "5) Mejorar todos los modelos analizados hasta ahora."
   ]
  },
  {
   "attachments": {},
   "cell_type": "markdown",
   "metadata": {},
   "source": [
    "6) Construir con los datos reales del último mes, o sea, algo de enero y parte de febrero, también se puede trabajar con predicciones más largas, por ejemplo, los últimos 6 meses, según la longitud de la predicción obtendrás datos a futuro más lejanos."
   ]
  },
  {
   "attachments": {},
   "cell_type": "markdown",
   "metadata": {},
   "source": [
    "7) Prueba el modelo con predicciones de un mes, luego aplícalo al futuro para dentro de un mes. O puedes trabajar con train de 1 año y luego aplicarlo a la previsión hasta febrero de 2024."
   ]
  },
  {
   "attachments": {},
   "cell_type": "markdown",
   "metadata": {},
   "source": [
    "8) Crear una columna nueva en el dataframe test llamada \"prediction\" que contuviera los datos de la lista \"predictions\", aplicando el primero a la fecha 2019-11-09, el segundo a 2019-11-10, etc."
   ]
  },
  {
   "attachments": {},
   "cell_type": "markdown",
   "metadata": {},
   "source": [
    "9) Graficar test[\"prediction\"] en el mismo gráfico de antes para poder comparar la predicción con la realidad, a ver cómo consigues colocar esa lista de datos en la nueva columna."
   ]
  },
  {
   "attachments": {},
   "cell_type": "markdown",
   "metadata": {},
   "source": [
    "10) Aplicar cross validation, ya que ARIMA tiene 3 hiperparámetros."
   ]
  },
  {
   "cell_type": "code",
   "execution_count": null,
   "metadata": {},
   "outputs": [],
   "source": [
    "#Filtro y guardo los datos en el archivo de entrenamiento hasta la fecha de febrero 2021\n",
    "df4 = (df3[df3.index < \"2021-03-01\"])\n",
    "df4.to_csv('reducido_train.csv', header=True, index=False) \n",
    "#Filtro y guardo los datos en el archivo de prueba del último mes (marzo 2021):\n",
    "df5 = (df3[df3.index > \"2021-02-28\"]) \n",
    "df5.to_csv('reducido_test.csv', header=True, index=False)\n",
    "\n",
    "#Timestamp Unix de ejemplo\n",
    "timestamp = 0\n",
    "#Convertir a fecha y hora legible\n",
    "fecha_hora = datetime.datetime.fromtimestamp(timestamp).strftime('%Y-%m-%d')\n",
    "print(fecha_hora)  # imprime \"1970-01-01\"\n",
    "\n",
    "#Timestamp Unix de \"2021-02-28\"\n",
    "timestamp = 1614460800\n",
    "#Convertir a fecha y hora legible\n",
    "fecha_hora = datetime.datetime.fromtimestamp(timestamp).strftime('%Y-%m-%d')\n",
    "print(fecha_hora)  # imprime \"2021-02-28\""
   ]
  }
 ],
 "metadata": {
  "kernelspec": {
   "display_name": "Python 3",
   "language": "python",
   "name": "python3"
  },
  "language_info": {
   "name": "python",
   "version": "3.9.5"
  },
  "orig_nbformat": 4,
  "vscode": {
   "interpreter": {
    "hash": "2e242e6b8c453217117083c6680e6db82176874e34559806b32fd7417ddae620"
   }
  }
 },
 "nbformat": 4,
 "nbformat_minor": 2
}
