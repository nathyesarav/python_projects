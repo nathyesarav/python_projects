{
 "cells": [
  {
   "attachments": {},
   "cell_type": "markdown",
   "metadata": {
    "colab_type": "text",
    "id": "0eYH0GHc3uc5"
   },
   "source": [
    "## Manejo del tiempo en Python y con Pandas\n",
    "\n",
    "Un timestamp es una marca de tiempo, es decir, una marca temporal en un archivo o registro que indica la hora y fecha en que se creó o modificó. Se utiliza comúnmente en sistemas de información para registrar la hora y fecha de eventos importantes, como cuándo se creó un archivo o cuándo se realizó una transacción.\n",
    "\n",
    "Muchas veces encontramos el timestamp como el número de segundos transcurridos desde un punto de referencia, que suele ser el 1 de Enero de 1970 (conocido como Unix Timestamp), para representar el momento en que se produjo el evento. Este es un formato más simple y ocupa menos espacio, pero es menos legible para las personas y requiere un procesamiento adicional para convertirlo en una fecha legible."
   ]
  },
  {
   "cell_type": "code",
   "execution_count": 376,
   "metadata": {},
   "outputs": [],
   "source": [
    "# Ejercicio\n",
    "\n",
    "# 1.- Calcular el nº de segundos transcurridos desde ayer a esta misma hora\n",
    "\n",
    "# 2.- Calcular el nº de segundos transcurridos desde ayer a las 0h hasta ahora\n",
    "\n",
    "# 3.- Calcular el nº de segundos transcurridos desde las campanadas de Nochevieja hasta ahora\n",
    "\n",
    "# 4.- Calcular el nº de segundos transcurridos desde el 1 de Agosto de 2022 a las 0h hasta ahora"
   ]
  },
  {
   "attachments": {},
   "cell_type": "markdown",
   "metadata": {},
   "source": [
    "### Timestamps en Python\n",
    "\n",
    "¿Cómo obtengo el timestamp de ahora con Python?\n",
    "\n",
    "En Python, puedes obtener el timestamp actual utilizando el módulo time y la función time(). La función time() devuelve el número de segundos desde el 1 de Enero de 1970 (el punto de referencia para los timestamps en sistemas basados en Unix), por lo que el valor devuelto representa el timestamp actual. Ejemplo de uso:"
   ]
  },
  {
   "cell_type": "code",
   "execution_count": 377,
   "metadata": {},
   "outputs": [
    {
     "name": "stdout",
     "output_type": "stream",
     "text": [
      "1674642475.211676\n"
     ]
    }
   ],
   "source": [
    "import time\n",
    "\n",
    "current_timestamp = time.time()\n",
    "print(current_timestamp)\n",
    "\n",
    "# Esta opción es la más simple y universal para ordenadores y programas"
   ]
  },
  {
   "attachments": {},
   "cell_type": "markdown",
   "metadata": {},
   "source": [
    "También existe la opción de usar el paquete datetime, que contiene una clase datetime.datetime que tiene un método now() que devuelve la fecha y hora actual."
   ]
  },
  {
   "cell_type": "code",
   "execution_count": 378,
   "metadata": {},
   "outputs": [
    {
     "name": "stdout",
     "output_type": "stream",
     "text": [
      "2023-01-25 11:27:55.307214\n"
     ]
    }
   ],
   "source": [
    "from datetime import datetime\n",
    "\n",
    "current_datetime = datetime.now()\n",
    "print(current_datetime)\n",
    "\n",
    "# Esta opción es la más legible para personas"
   ]
  },
  {
   "attachments": {},
   "cell_type": "markdown",
   "metadata": {},
   "source": [
    "También se puede obtener el timestamp de una fecha cualquiera:"
   ]
  },
  {
   "cell_type": "code",
   "execution_count": 379,
   "metadata": {},
   "outputs": [
    {
     "name": "stdout",
     "output_type": "stream",
     "text": [
      "1667302496.0\n"
     ]
    }
   ],
   "source": [
    "from datetime import datetime\n",
    "\n",
    "date_string = \"2022-11-01 12:34:56\"\n",
    "date_object = datetime.strptime(date_string, \"%Y-%m-%d %H:%M:%S\")\n",
    "timestamp = date_object.timestamp()\n",
    "\n",
    "print(timestamp)"
   ]
  },
  {
   "attachments": {},
   "cell_type": "markdown",
   "metadata": {},
   "source": [
    "Para ello importamos el módulo datetime y luego creamos una variable date_string que contiene una fecha en formato de cadena. Utilizamos el método strptime() para crear un objeto de fecha y hora a partir de la cadena de fecha. Finalmente, utilizamos el método timestamp() para convertir el objeto de fecha y hora en un timestamp."
   ]
  },
  {
   "attachments": {},
   "cell_type": "markdown",
   "metadata": {
    "colab_type": "text",
    "id": "s3-ihUwo3uc6"
   },
   "source": [
    "### Timestamps en Pandas"
   ]
  },
  {
   "cell_type": "code",
   "execution_count": 380,
   "metadata": {
    "colab": {
     "autoexec": {
      "startup": false,
      "wait_interval": 0
     }
    },
    "colab_type": "code",
    "id": "g_IQDnt73uc8"
   },
   "outputs": [],
   "source": [
    "import pandas as pd"
   ]
  },
  {
   "cell_type": "code",
   "execution_count": 381,
   "metadata": {
    "colab": {
     "autoexec": {
      "startup": false,
      "wait_interval": 0
     }
    },
    "colab_type": "code",
    "id": "4pS_Dus13udD",
    "outputId": "f3c15517-3e2e-4264-f5ff-2f91d634d8e7"
   },
   "outputs": [
    {
     "name": "stdout",
     "output_type": "stream",
     "text": [
      "2017-09-01 00:00:00\n",
      "<class 'pandas._libs.tslibs.timestamps.Timestamp'>\n"
     ]
    },
    {
     "data": {
      "text/plain": [
       "Timestamp('2017-09-01 00:00:00')"
      ]
     },
     "execution_count": 381,
     "metadata": {},
     "output_type": "execute_result"
    }
   ],
   "source": [
    "# Especificando sólo la fecha\n",
    "t = pd.Timestamp('2017-09-01')\n",
    "print(t)\n",
    "print(type(t))\n",
    "t"
   ]
  },
  {
   "cell_type": "code",
   "execution_count": 382,
   "metadata": {},
   "outputs": [
    {
     "data": {
      "text/plain": [
       "Timestamp('2017-11-29 13:45:00')"
      ]
     },
     "execution_count": 382,
     "metadata": {},
     "output_type": "execute_result"
    }
   ],
   "source": [
    "# Especificando fecha y hora con enteros\n",
    "pd.Timestamp(2017,11,29,13,45,0)"
   ]
  },
  {
   "cell_type": "code",
   "execution_count": 383,
   "metadata": {
    "colab": {
     "autoexec": {
      "startup": false,
      "wait_interval": 0
     }
    },
    "colab_type": "code",
    "id": "FGDOJDjR3udL",
    "outputId": "2f58b101-ccc4-427e-ffd2-8f4f54498b74"
   },
   "outputs": [
    {
     "data": {
      "text/plain": [
       "Timestamp('2017-09-01 10:05:00')"
      ]
     },
     "execution_count": 383,
     "metadata": {},
     "output_type": "execute_result"
    }
   ],
   "source": [
    "# Especificando fecha y hora con cadena de texto y formato americano\n",
    "pd.Timestamp('9/1/2017 10:05AM')"
   ]
  },
  {
   "cell_type": "code",
   "execution_count": 384,
   "metadata": {
    "colab": {
     "autoexec": {
      "startup": false,
      "wait_interval": 0
     }
    },
    "colab_type": "code",
    "id": "fUmXEMLh3udR",
    "outputId": "317a8cca-f5fb-472e-de31-6b6e7fb7559b"
   },
   "outputs": [
    {
     "data": {
      "text/plain": [
       "Timestamp('2017-09-01 10:05:00')"
      ]
     },
     "execution_count": 384,
     "metadata": {},
     "output_type": "execute_result"
    }
   ],
   "source": [
    "# Especificando fecha y hora con cadena de texto sin separadores\n",
    "pd.to_datetime('20170901 100500', format='%Y%m%d %H%M%S')"
   ]
  },
  {
   "attachments": {},
   "cell_type": "markdown",
   "metadata": {},
   "source": [
    "Para obtener un timestamp en formato de número entero con datos de un dataframe de Pandas, podemos usar el siguiente código:"
   ]
  },
  {
   "cell_type": "code",
   "execution_count": 385,
   "metadata": {},
   "outputs": [
    {
     "data": {
      "text/html": [
       "<div>\n",
       "<style scoped>\n",
       "    .dataframe tbody tr th:only-of-type {\n",
       "        vertical-align: middle;\n",
       "    }\n",
       "\n",
       "    .dataframe tbody tr th {\n",
       "        vertical-align: top;\n",
       "    }\n",
       "\n",
       "    .dataframe thead th {\n",
       "        text-align: right;\n",
       "    }\n",
       "</style>\n",
       "<table border=\"1\" class=\"dataframe\">\n",
       "  <thead>\n",
       "    <tr style=\"text-align: right;\">\n",
       "      <th></th>\n",
       "      <th>fecha</th>\n",
       "      <th>timestamp</th>\n",
       "    </tr>\n",
       "  </thead>\n",
       "  <tbody>\n",
       "    <tr>\n",
       "      <th>0</th>\n",
       "      <td>2017-09-01 10:05:00</td>\n",
       "      <td>1504260300</td>\n",
       "    </tr>\n",
       "  </tbody>\n",
       "</table>\n",
       "</div>"
      ],
      "text/plain": [
       "                fecha   timestamp\n",
       "0 2017-09-01 10:05:00  1504260300"
      ]
     },
     "execution_count": 385,
     "metadata": {},
     "output_type": "execute_result"
    }
   ],
   "source": [
    "# Crear dataframe\n",
    "df = pd.DataFrame({'fecha':['2017-09-01 10:05:00']})\n",
    "\n",
    "# Convertir celdas de texto en celdas de tipo datetime\n",
    "df['fecha'] = pd.to_datetime(df['fecha'])\n",
    "\n",
    "# Pasar a entero\n",
    "df['timestamp'] = df.fecha.astype('int64') // 10**9\n",
    "df"
   ]
  },
  {
   "attachments": {},
   "cell_type": "markdown",
   "metadata": {},
   "source": [
    "Tras convertir a formato de fecha en el DataFrame utilizando el método 'pd.to_datetime()', el resultado de esta conversión se asigna de nuevo a la columna 'fecha'. Finalmente, se imprime el valor de la columna 'fecha' convertido a un entero de 64 bits (int64) y dividido entre 10^9, lo que transforma la fecha en un timestamp de Unix (POSIX: número de segundos desde el 1 de enero de 1970).\n",
    "\n",
    "\"//\" en Python es el operador de división entera. Es utilizado para dividir dos números y devolver el cociente como un entero. Es similar a la división normal, pero redondea el resultado hacia abajo al número entero más cercano. Por ejemplo:\n",
    "\n",
    "5 // 2 es 2\n",
    "4 // 3 es 1\n",
    "4 /  3 es 1.3333333333333333"
   ]
  },
  {
   "attachments": {},
   "cell_type": "markdown",
   "metadata": {},
   "source": [
    "#### Conversión inversa: de timestamp (número entero) a datetime:"
   ]
  },
  {
   "cell_type": "code",
   "execution_count": 386,
   "metadata": {},
   "outputs": [
    {
     "data": {
      "text/html": [
       "<div>\n",
       "<style scoped>\n",
       "    .dataframe tbody tr th:only-of-type {\n",
       "        vertical-align: middle;\n",
       "    }\n",
       "\n",
       "    .dataframe tbody tr th {\n",
       "        vertical-align: top;\n",
       "    }\n",
       "\n",
       "    .dataframe thead th {\n",
       "        text-align: right;\n",
       "    }\n",
       "</style>\n",
       "<table border=\"1\" class=\"dataframe\">\n",
       "  <thead>\n",
       "    <tr style=\"text-align: right;\">\n",
       "      <th></th>\n",
       "      <th>fecha</th>\n",
       "      <th>timestamp</th>\n",
       "      <th>fecha2</th>\n",
       "    </tr>\n",
       "  </thead>\n",
       "  <tbody>\n",
       "    <tr>\n",
       "      <th>0</th>\n",
       "      <td>2017-09-01 10:05:00</td>\n",
       "      <td>1504260300</td>\n",
       "      <td>2017-09-01 10:05:00</td>\n",
       "    </tr>\n",
       "  </tbody>\n",
       "</table>\n",
       "</div>"
      ],
      "text/plain": [
       "                fecha   timestamp              fecha2\n",
       "0 2017-09-01 10:05:00  1504260300 2017-09-01 10:05:00"
      ]
     },
     "execution_count": 386,
     "metadata": {},
     "output_type": "execute_result"
    }
   ],
   "source": [
    "from datetime import datetime, timedelta\n",
    "\n",
    "# Transform timestamp into datetime format\n",
    "# timestamp resolution is millisecond (x/1000)\n",
    "# and start counting on 1970\n",
    "posix_epoch = datetime(1970, 1, 1)\n",
    "# df['fecha2'] = df['timestamp'].apply(lambda x: posix_epoch + timedelta(seconds = x/1000)) # fórmula válida para timestamps con resolución de milisegundos\n",
    "df['fecha2'] = df['timestamp'].apply(lambda x: posix_epoch + timedelta(seconds = x))\n",
    "df"
   ]
  },
  {
   "cell_type": "markdown",
   "metadata": {
    "colab_type": "text",
    "id": "BUtdNBUj3udc"
   },
   "source": [
    "### Period"
   ]
  },
  {
   "cell_type": "code",
   "execution_count": 387,
   "metadata": {
    "colab": {
     "autoexec": {
      "startup": false,
      "wait_interval": 0
     }
    },
    "colab_type": "code",
    "id": "0d9OUmvk3ude",
    "outputId": "7be75f0c-9c40-4f58-c19c-5c1d8f54ac76"
   },
   "outputs": [
    {
     "data": {
      "text/plain": [
       "Period('2016-01', 'M')"
      ]
     },
     "execution_count": 387,
     "metadata": {},
     "output_type": "execute_result"
    }
   ],
   "source": [
    "pd.Period('1/2016')"
   ]
  },
  {
   "cell_type": "code",
   "execution_count": 388,
   "metadata": {
    "colab": {
     "autoexec": {
      "startup": false,
      "wait_interval": 0
     }
    },
    "colab_type": "code",
    "id": "DBwcS6Ov3udm",
    "outputId": "b4e0cd17-dcb5-4892-a8a6-b25deb86e513"
   },
   "outputs": [
    {
     "data": {
      "text/plain": [
       "Period('2016-03-05', 'D')"
      ]
     },
     "execution_count": 388,
     "metadata": {},
     "output_type": "execute_result"
    }
   ],
   "source": [
    "pd.Period('3/5/2016')"
   ]
  },
  {
   "attachments": {},
   "cell_type": "markdown",
   "metadata": {},
   "source": [
    "### ¿Qué es pd.Period?\n",
    "\n",
    "pd.Period es una clase en la librería de análisis de datos Pandas en Python que se utiliza para representar un período de tiempo. Un período de tiempo es un intervalo de tiempo que comienza y termina en un punto específico. Un ejemplo de un período de tiempo podría ser un día, un mes, un trimestre o un año.\n",
    "\n",
    "pd.Period puede ser inicializado con una fecha o un timestamp, y se puede especificar el nivel de frecuencia. Ejemplo de uso:"
   ]
  },
  {
   "cell_type": "code",
   "execution_count": 389,
   "metadata": {},
   "outputs": [
    {
     "name": "stdout",
     "output_type": "stream",
     "text": [
      "2020Q1\n",
      "<class 'pandas._libs.tslibs.period.Period'>\n"
     ]
    },
    {
     "data": {
      "text/plain": [
       "Period('2020Q1', 'Q-JAN')"
      ]
     },
     "execution_count": 389,
     "metadata": {},
     "output_type": "execute_result"
    }
   ],
   "source": [
    "import pandas as pd\n",
    "\n",
    "p = pd.Period('2020Q1', freq='Q-JAN')\n",
    "\n",
    "print(p)\n",
    "print(type(p))\n",
    "p"
   ]
  },
  {
   "attachments": {},
   "cell_type": "markdown",
   "metadata": {},
   "source": [
    "En este caso se genera un objeto Period con fecha 2020 en primer trimestre, y la frecuencia de Q-JAN (cada trimestre con inicio en Enero).\n",
    "\n",
    "Una vez creado el objeto, se puede acceder a atributos como el año, el mes o el día, o realizar operaciones aritméticas con otros objetos Period con la misma frecuencia. También se puede convertir a distintos formatos como datetime, timestamp, entre otros."
   ]
  },
  {
   "attachments": {},
   "cell_type": "markdown",
   "metadata": {
    "colab_type": "text",
    "id": "GOeie9vM3udv"
   },
   "source": [
    "### Datetimeindex\n",
    "\n",
    "pd.Series es una función de la librería pandas de Python, que se utiliza para crear una serie de datos unidimensional con etiquetas o índices. Una serie es similar a una columna en una hoja de cálculo o una tabla de base de datos, y puede contener una variedad de tipos de datos.\n",
    "\n",
    "La sintaxis para crear una serie es:\n",
    "\n",
    "pd.Series(data, index=index)\n",
    "\n",
    "- data puede ser una lista, un diccionario, un arreglo numpy, etc.\n",
    "- index es opcional y especifica las etiquetas o índices para los datos en la serie. Si no se especifica, los índices se generarán automáticamente como un rango numérico.\n",
    "\n",
    "Una vez creada, se puede acceder a los datos en una serie utilizando los índices, y se pueden realizar operaciones matemáticas y estadísticas en los datos."
   ]
  },
  {
   "cell_type": "code",
   "execution_count": 390,
   "metadata": {
    "colab": {
     "autoexec": {
      "startup": false,
      "wait_interval": 0
     }
    },
    "colab_type": "code",
    "id": "iMMWcp1n3udv",
    "outputId": "bab4cd9c-4807-4d1e-b73a-c9dd2256cb37"
   },
   "outputs": [
    {
     "data": {
      "text/plain": [
       "2016-09-01    a\n",
       "2016-09-02    b\n",
       "2016-09-03    c\n",
       "dtype: object"
      ]
     },
     "execution_count": 390,
     "metadata": {},
     "output_type": "execute_result"
    }
   ],
   "source": [
    "# Creamos una serie con índice timestamp\n",
    "# \n",
    "# # La función list() en Python se utiliza para convertir un objeto en una lista.\n",
    "# Por ejemplo, si se tiene una cadena, se puede convertir en una\n",
    "# lista de caracteres utilizando list(\"cadena\"), o si se tiene un\n",
    "# objeto iterable, como un rango o un objeto tipo tupla, se puede\n",
    "# convertir en una lista utilizando list(iterable).\n",
    "t1 = pd.Series(list('abc'), [pd.Timestamp('2016-09-01'),\n",
    "                             pd.Timestamp('2016-09-02'),\n",
    "                             pd.Timestamp('2016-09-03')])\n",
    "t1"
   ]
  },
  {
   "attachments": {},
   "cell_type": "markdown",
   "metadata": {},
   "source": [
    "### ¿Qué diferencia hay entre Series y Dataframe en Pandas?\n",
    "\n",
    "pd.Series y pd.DataFrame son dos tipos de estructuras de datos en la librería Pandas de Python.\n",
    "\n",
    "- Una serie es una estructura de datos unidimensional que tiene un índice y un conjunto de valores. Es similar a una columna en una hoja de cálculo o una tabla de base de datos.\n",
    "\n",
    "- Un DataFrame es una estructura de datos bidimensional, también similar a una hoja de cálculo o una tabla de base de datos. **Un DataFrame se compone de varias series**, donde cada serie es una columna con un nombre específico."
   ]
  },
  {
   "cell_type": "code",
   "execution_count": 391,
   "metadata": {
    "colab": {
     "autoexec": {
      "startup": false,
      "wait_interval": 0
     }
    },
    "colab_type": "code",
    "id": "vtLWZF3-3ud2",
    "outputId": "f23b3c20-6da7-476f-9e08-730cff6b326f"
   },
   "outputs": [
    {
     "data": {
      "text/plain": [
       "pandas.core.indexes.datetimes.DatetimeIndex"
      ]
     },
     "execution_count": 391,
     "metadata": {},
     "output_type": "execute_result"
    }
   ],
   "source": [
    "# El índice de esta serie es un timestamp\n",
    "type(t1.index)"
   ]
  },
  {
   "cell_type": "markdown",
   "metadata": {
    "colab_type": "text",
    "id": "-06Xcfb_3ud8"
   },
   "source": [
    "### Convirtiendo a DateTime"
   ]
  },
  {
   "cell_type": "code",
   "execution_count": 392,
   "metadata": {
    "colab": {
     "autoexec": {
      "startup": false,
      "wait_interval": 0
     }
    },
    "colab_type": "code",
    "id": "yyvm8Qn13ud9",
    "outputId": "8bd97ee2-3a68-4858-8bbc-e1c3ccec70a9"
   },
   "outputs": [
    {
     "data": {
      "text/html": [
       "<div>\n",
       "<style scoped>\n",
       "    .dataframe tbody tr th:only-of-type {\n",
       "        vertical-align: middle;\n",
       "    }\n",
       "\n",
       "    .dataframe tbody tr th {\n",
       "        vertical-align: top;\n",
       "    }\n",
       "\n",
       "    .dataframe thead th {\n",
       "        text-align: right;\n",
       "    }\n",
       "</style>\n",
       "<table border=\"1\" class=\"dataframe\">\n",
       "  <thead>\n",
       "    <tr style=\"text-align: right;\">\n",
       "      <th></th>\n",
       "      <th>a</th>\n",
       "      <th>b</th>\n",
       "    </tr>\n",
       "  </thead>\n",
       "  <tbody>\n",
       "    <tr>\n",
       "      <th>2 June 2013</th>\n",
       "      <td>63</td>\n",
       "      <td>11</td>\n",
       "    </tr>\n",
       "    <tr>\n",
       "      <th>Aug 29, 2014</th>\n",
       "      <td>37</td>\n",
       "      <td>66</td>\n",
       "    </tr>\n",
       "    <tr>\n",
       "      <th>2015-06-26</th>\n",
       "      <td>68</td>\n",
       "      <td>64</td>\n",
       "    </tr>\n",
       "    <tr>\n",
       "      <th>7/12/16</th>\n",
       "      <td>65</td>\n",
       "      <td>56</td>\n",
       "    </tr>\n",
       "  </tbody>\n",
       "</table>\n",
       "</div>"
      ],
      "text/plain": [
       "               a   b\n",
       "2 June 2013   63  11\n",
       "Aug 29, 2014  37  66\n",
       "2015-06-26    68  64\n",
       "7/12/16       65  56"
      ]
     },
     "execution_count": 392,
     "metadata": {},
     "output_type": "execute_result"
    }
   ],
   "source": [
    "# Creamos un dataframe con índice timestamp\n",
    "import numpy as np\n",
    "d1 = ['2 June 2013', 'Aug 29, 2014', '2015-06-26', '7/12/16']\n",
    "ts3 = pd.DataFrame(np.random.randint(10, 100, (4,2)), index=d1, columns=list('ab'))\n",
    "ts3"
   ]
  },
  {
   "cell_type": "code",
   "execution_count": 393,
   "metadata": {
    "colab": {
     "autoexec": {
      "startup": false,
      "wait_interval": 0
     }
    },
    "colab_type": "code",
    "id": "Y7y2cO0b3ueC",
    "outputId": "d764ff4a-24dc-4644-992d-e269070df8a5"
   },
   "outputs": [
    {
     "data": {
      "text/plain": [
       "pandas.core.indexes.base.Index"
      ]
     },
     "execution_count": 393,
     "metadata": {},
     "output_type": "execute_result"
    }
   ],
   "source": [
    "# No lo reconoce como índice timestamp\n",
    "type(ts3.index)"
   ]
  },
  {
   "cell_type": "code",
   "execution_count": 394,
   "metadata": {
    "colab": {
     "autoexec": {
      "startup": false,
      "wait_interval": 0
     }
    },
    "colab_type": "code",
    "id": "Tv7b0p8j3ueL",
    "outputId": "3e68134e-ef46-4e1a-acb6-e39d3bbc5100"
   },
   "outputs": [
    {
     "data": {
      "text/plain": [
       "(DatetimeIndex(['2013-06-02', '2014-08-29', '2015-06-26', '2016-07-12'], dtype='datetime64[ns]', freq=None),\n",
       " pandas.core.indexes.datetimes.DatetimeIndex)"
      ]
     },
     "execution_count": 394,
     "metadata": {},
     "output_type": "execute_result"
    }
   ],
   "source": [
    "# Debo convertir antes al formato datetime para que lo reconozca como índice timestamp\n",
    "ts3.index = pd.to_datetime(ts3.index)\n",
    "ts3.index, type(ts3.index)"
   ]
  },
  {
   "cell_type": "code",
   "execution_count": 395,
   "metadata": {},
   "outputs": [
    {
     "data": {
      "text/html": [
       "<div>\n",
       "<style scoped>\n",
       "    .dataframe tbody tr th:only-of-type {\n",
       "        vertical-align: middle;\n",
       "    }\n",
       "\n",
       "    .dataframe tbody tr th {\n",
       "        vertical-align: top;\n",
       "    }\n",
       "\n",
       "    .dataframe thead th {\n",
       "        text-align: right;\n",
       "    }\n",
       "</style>\n",
       "<table border=\"1\" class=\"dataframe\">\n",
       "  <thead>\n",
       "    <tr style=\"text-align: right;\">\n",
       "      <th></th>\n",
       "      <th>a</th>\n",
       "      <th>b</th>\n",
       "    </tr>\n",
       "  </thead>\n",
       "  <tbody>\n",
       "    <tr>\n",
       "      <th>2013-06-02</th>\n",
       "      <td>63</td>\n",
       "      <td>11</td>\n",
       "    </tr>\n",
       "    <tr>\n",
       "      <th>2014-08-29</th>\n",
       "      <td>37</td>\n",
       "      <td>66</td>\n",
       "    </tr>\n",
       "    <tr>\n",
       "      <th>2015-06-26</th>\n",
       "      <td>68</td>\n",
       "      <td>64</td>\n",
       "    </tr>\n",
       "    <tr>\n",
       "      <th>2016-07-12</th>\n",
       "      <td>65</td>\n",
       "      <td>56</td>\n",
       "    </tr>\n",
       "  </tbody>\n",
       "</table>\n",
       "</div>"
      ],
      "text/plain": [
       "             a   b\n",
       "2013-06-02  63  11\n",
       "2014-08-29  37  66\n",
       "2015-06-26  68  64\n",
       "2016-07-12  65  56"
      ]
     },
     "execution_count": 395,
     "metadata": {},
     "output_type": "execute_result"
    }
   ],
   "source": [
    "# Una vez convertido, muestra el timestamp con un formato homogéneo\n",
    "ts3"
   ]
  },
  {
   "attachments": {},
   "cell_type": "markdown",
   "metadata": {
    "colab_type": "text",
    "id": "h4TTXLSd3ueU"
   },
   "source": [
    "### TimeDeltas\n",
    "\n",
    "Un delta, en matemáticas y en programación, es una medida de cambio o diferencia entre dos valores o elementos. Por ejemplo, si se tiene una serie de números y se quiere conocer el cambio entre cada número consecutivo, se puede calcular el delta como la diferencia entre cada número y el número anterior. Por ejemplo, si se tiene la serie [1, 3, 5, 7], los deltas serían [3-1, 5-3, 7-5] = [2, 2, 2].\n",
    "\n",
    "En programación, se utiliza comúnmente para calcular el cambio en una variable en un tiempo específico, como el cambio en la posición de un objeto en un juego o en un gráfico.\n",
    "\n",
    "En resumen, el delta es una medida de la diferencia o cambio entre dos elementos, ya sea dos números, dos posiciones, dos tiempos, etc."
   ]
  },
  {
   "cell_type": "code",
   "execution_count": 396,
   "metadata": {
    "colab": {
     "autoexec": {
      "startup": false,
      "wait_interval": 0
     }
    },
    "colab_type": "code",
    "id": "gCNoH3rR3ueU",
    "outputId": "a0f828a0-61b6-4936-d041-fcb08f8e2ca9"
   },
   "outputs": [
    {
     "data": {
      "text/plain": [
       "Timedelta('2 days 00:00:00')"
      ]
     },
     "execution_count": 396,
     "metadata": {},
     "output_type": "execute_result"
    }
   ],
   "source": [
    "pd.Timestamp('9/3/2016')-pd.Timestamp('9/1/2016')"
   ]
  },
  {
   "cell_type": "code",
   "execution_count": 397,
   "metadata": {},
   "outputs": [
    {
     "data": {
      "text/plain": [
       "<14 * MonthEnds>"
      ]
     },
     "execution_count": 397,
     "metadata": {},
     "output_type": "execute_result"
    }
   ],
   "source": [
    "pd.Period('5/2017') - pd.Period('3/2016')"
   ]
  },
  {
   "cell_type": "code",
   "execution_count": 398,
   "metadata": {
    "colab": {
     "autoexec": {
      "startup": false,
      "wait_interval": 0
     }
    },
    "colab_type": "code",
    "id": "lOnX98GZ3ued",
    "outputId": "aa3fd26a-eadc-4fc2-d042-e75ecf439391"
   },
   "outputs": [
    {
     "data": {
      "text/plain": [
       "Timestamp('2016-09-14 08:10:00')"
      ]
     },
     "execution_count": 398,
     "metadata": {},
     "output_type": "execute_result"
    }
   ],
   "source": [
    "pd.Timestamp('9/2/2016 8:10AM') + pd.Timedelta('12D')"
   ]
  },
  {
   "attachments": {},
   "cell_type": "markdown",
   "metadata": {},
   "source": [
    "### Aplicación de deltas en bolsa y crypto:\n",
    "\n",
    "La **volatilidad** es una medida de la variabilidad o fluctuación en el precio de un activo, como una acción, una criptomoneda o una materia prima. Puede medirse en términos de la desviación estándar de los rendimientos o los cambios en el precio del activo.\n",
    "\n",
    "En teoría, un **delta** es una medida de la variación o cambio en el precio de un activo, pero se utiliza principalmente en el contexto de opciones financieras, donde indica la sensibilidad del precio de una opción a cambios en el precio subyacente.\n",
    "\n",
    "En el caso de criptomonedas, el **delta** podría ser utilizado para medir la sensibilidad del precio de una criptomoneda a cambios en el precio de otra criptomoneda o activo subyacente. Sin embargo, en general la volatilidad es una medida mas adecuada para medir la variabilidad del precio de una criptomoneda."
   ]
  },
  {
   "cell_type": "markdown",
   "metadata": {
    "colab_type": "text",
    "id": "7KK9AMm83uei"
   },
   "source": [
    "### Fechas en DataFrames"
   ]
  },
  {
   "cell_type": "code",
   "execution_count": 399,
   "metadata": {
    "colab": {
     "autoexec": {
      "startup": false,
      "wait_interval": 0
     }
    },
    "colab_type": "code",
    "id": "3MnvD70T3uej",
    "outputId": "d52eda1c-7dbc-4ad8-b6be-ee50e83322b7"
   },
   "outputs": [
    {
     "data": {
      "text/plain": [
       "DatetimeIndex(['2017-04-06', '2017-04-07', '2017-04-08', '2017-04-09'], dtype='datetime64[ns]', freq='D')"
      ]
     },
     "execution_count": 399,
     "metadata": {},
     "output_type": "execute_result"
    }
   ],
   "source": [
    "# Pandas nos permite crear rangos de fechas\n",
    "dates = pd.date_range('2017-04-06', periods=4, freq='D')\n",
    "dates"
   ]
  },
  {
   "cell_type": "code",
   "execution_count": 400,
   "metadata": {},
   "outputs": [
    {
     "data": {
      "text/plain": [
       "DatetimeIndex(['2017-04-30', '2017-05-31', '2017-06-30', '2017-07-31'], dtype='datetime64[ns]', freq='M')"
      ]
     },
     "execution_count": 400,
     "metadata": {},
     "output_type": "execute_result"
    }
   ],
   "source": [
    "dates = pd.date_range('2017-04-06', periods=4, freq='M')\n",
    "dates"
   ]
  },
  {
   "cell_type": "code",
   "execution_count": 401,
   "metadata": {},
   "outputs": [
    {
     "data": {
      "text/plain": [
       "DatetimeIndex(['2017-04-06', '2017-04-20', '2017-05-04', '2017-05-18'], dtype='datetime64[ns]', freq='2W-THU')"
      ]
     },
     "execution_count": 401,
     "metadata": {},
     "output_type": "execute_result"
    }
   ],
   "source": [
    "dates = pd.date_range('2017-04-06', periods=4, freq='2W-THU')\n",
    "dates"
   ]
  },
  {
   "cell_type": "code",
   "execution_count": 402,
   "metadata": {
    "colab": {
     "autoexec": {
      "startup": false,
      "wait_interval": 0
     }
    },
    "colab_type": "code",
    "id": "MbGveUO03uen",
    "outputId": "cf9fdd4e-565c-4858-9dc0-2a2ba341531b"
   },
   "outputs": [
    {
     "data": {
      "text/html": [
       "<div>\n",
       "<style scoped>\n",
       "    .dataframe tbody tr th:only-of-type {\n",
       "        vertical-align: middle;\n",
       "    }\n",
       "\n",
       "    .dataframe tbody tr th {\n",
       "        vertical-align: top;\n",
       "    }\n",
       "\n",
       "    .dataframe thead th {\n",
       "        text-align: right;\n",
       "    }\n",
       "</style>\n",
       "<table border=\"1\" class=\"dataframe\">\n",
       "  <thead>\n",
       "    <tr style=\"text-align: right;\">\n",
       "      <th></th>\n",
       "      <th>Count 1</th>\n",
       "      <th>Count 2</th>\n",
       "    </tr>\n",
       "  </thead>\n",
       "  <tbody>\n",
       "    <tr>\n",
       "      <th>2017-04-06</th>\n",
       "      <td>104</td>\n",
       "      <td>125</td>\n",
       "    </tr>\n",
       "    <tr>\n",
       "      <th>2017-04-20</th>\n",
       "      <td>107</td>\n",
       "      <td>129</td>\n",
       "    </tr>\n",
       "    <tr>\n",
       "      <th>2017-05-04</th>\n",
       "      <td>107</td>\n",
       "      <td>116</td>\n",
       "    </tr>\n",
       "    <tr>\n",
       "      <th>2017-05-18</th>\n",
       "      <td>102</td>\n",
       "      <td>126</td>\n",
       "    </tr>\n",
       "  </tbody>\n",
       "</table>\n",
       "</div>"
      ],
      "text/plain": [
       "            Count 1  Count 2\n",
       "2017-04-06      104      125\n",
       "2017-04-20      107      129\n",
       "2017-05-04      107      116\n",
       "2017-05-18      102      126"
      ]
     },
     "execution_count": 402,
     "metadata": {},
     "output_type": "execute_result"
    }
   ],
   "source": [
    "# Ejercicio: explicar cómo creamos estas dos columnas del dataframe\n",
    "df = pd.DataFrame({'Count 1': 100 + np.random.randint(-5, 10, 4).cumsum(),\n",
    "                   'Count 2': 120 + np.random.randint(-5, 10, 4)},\n",
    "                   index=dates)\n",
    "df"
   ]
  },
  {
   "cell_type": "code",
   "execution_count": 403,
   "metadata": {
    "colab": {
     "autoexec": {
      "startup": false,
      "wait_interval": 0
     }
    },
    "colab_type": "code",
    "id": "ETWUsZ6X3uer",
    "outputId": "81e3d2f2-90c1-4cfa-e627-9f710b18333b"
   },
   "outputs": [
    {
     "data": {
      "text/plain": [
       "2017-04-06      NaN\n",
       "2017-04-20    104.0\n",
       "2017-05-04    107.0\n",
       "2017-05-18    107.0\n",
       "Freq: 2W-THU, Name: Count 1, dtype: float64"
      ]
     },
     "execution_count": 403,
     "metadata": {},
     "output_type": "execute_result"
    }
   ],
   "source": [
    "# El desplazamiento (shift) es útil para realizar cálculos\n",
    "# comparativos dentro de una misma columna\n",
    "df['Count 1'].shift()"
   ]
  },
  {
   "attachments": {},
   "cell_type": "markdown",
   "metadata": {},
   "source": [
    "También puede usarse diff que hace el shift y la resta en una sola instrucción:\n",
    "\n",
    "La función **df.diff()** en pandas es utilizada para calcular la diferencia entre los valores de un DataFrame o una Serie en un punto dado y el valor anterior. Esta función devuelve un nuevo objeto con las diferencias calculadas en cada fila."
   ]
  },
  {
   "cell_type": "code",
   "execution_count": 404,
   "metadata": {
    "colab": {
     "autoexec": {
      "startup": false,
      "wait_interval": 0
     }
    },
    "colab_type": "code",
    "id": "lcrAMgum3uex",
    "outputId": "25655231-62fd-4e83-a786-da854d3f7d66"
   },
   "outputs": [
    {
     "data": {
      "text/html": [
       "<div>\n",
       "<style scoped>\n",
       "    .dataframe tbody tr th:only-of-type {\n",
       "        vertical-align: middle;\n",
       "    }\n",
       "\n",
       "    .dataframe tbody tr th {\n",
       "        vertical-align: top;\n",
       "    }\n",
       "\n",
       "    .dataframe thead th {\n",
       "        text-align: right;\n",
       "    }\n",
       "</style>\n",
       "<table border=\"1\" class=\"dataframe\">\n",
       "  <thead>\n",
       "    <tr style=\"text-align: right;\">\n",
       "      <th></th>\n",
       "      <th>Count 1</th>\n",
       "      <th>Count 2</th>\n",
       "    </tr>\n",
       "  </thead>\n",
       "  <tbody>\n",
       "    <tr>\n",
       "      <th>2017-04-06</th>\n",
       "      <td>NaN</td>\n",
       "      <td>NaN</td>\n",
       "    </tr>\n",
       "    <tr>\n",
       "      <th>2017-04-20</th>\n",
       "      <td>3.0</td>\n",
       "      <td>4.0</td>\n",
       "    </tr>\n",
       "    <tr>\n",
       "      <th>2017-05-04</th>\n",
       "      <td>0.0</td>\n",
       "      <td>-13.0</td>\n",
       "    </tr>\n",
       "    <tr>\n",
       "      <th>2017-05-18</th>\n",
       "      <td>-5.0</td>\n",
       "      <td>10.0</td>\n",
       "    </tr>\n",
       "  </tbody>\n",
       "</table>\n",
       "</div>"
      ],
      "text/plain": [
       "            Count 1  Count 2\n",
       "2017-04-06      NaN      NaN\n",
       "2017-04-20      3.0      4.0\n",
       "2017-05-04      0.0    -13.0\n",
       "2017-05-18     -5.0     10.0"
      ]
     },
     "execution_count": 404,
     "metadata": {},
     "output_type": "execute_result"
    }
   ],
   "source": [
    "df.diff()"
   ]
  },
  {
   "cell_type": "code",
   "execution_count": 405,
   "metadata": {},
   "outputs": [
    {
     "data": {
      "text/html": [
       "<div>\n",
       "<style scoped>\n",
       "    .dataframe tbody tr th:only-of-type {\n",
       "        vertical-align: middle;\n",
       "    }\n",
       "\n",
       "    .dataframe tbody tr th {\n",
       "        vertical-align: top;\n",
       "    }\n",
       "\n",
       "    .dataframe thead th {\n",
       "        text-align: right;\n",
       "    }\n",
       "</style>\n",
       "<table border=\"1\" class=\"dataframe\">\n",
       "  <thead>\n",
       "    <tr style=\"text-align: right;\">\n",
       "      <th></th>\n",
       "      <th>Count 1</th>\n",
       "      <th>Count 2</th>\n",
       "    </tr>\n",
       "  </thead>\n",
       "  <tbody>\n",
       "    <tr>\n",
       "      <th>2017-04-06</th>\n",
       "      <td>NaN</td>\n",
       "      <td>NaN</td>\n",
       "    </tr>\n",
       "    <tr>\n",
       "      <th>2017-04-20</th>\n",
       "      <td>NaN</td>\n",
       "      <td>NaN</td>\n",
       "    </tr>\n",
       "    <tr>\n",
       "      <th>2017-05-04</th>\n",
       "      <td>3.0</td>\n",
       "      <td>-9.0</td>\n",
       "    </tr>\n",
       "    <tr>\n",
       "      <th>2017-05-18</th>\n",
       "      <td>-5.0</td>\n",
       "      <td>-3.0</td>\n",
       "    </tr>\n",
       "  </tbody>\n",
       "</table>\n",
       "</div>"
      ],
      "text/plain": [
       "            Count 1  Count 2\n",
       "2017-04-06      NaN      NaN\n",
       "2017-04-20      NaN      NaN\n",
       "2017-05-04      3.0     -9.0\n",
       "2017-05-18     -5.0     -3.0"
      ]
     },
     "execution_count": 405,
     "metadata": {},
     "output_type": "execute_result"
    }
   ],
   "source": [
    "df.diff(2)"
   ]
  },
  {
   "cell_type": "markdown",
   "metadata": {
    "colab_type": "text",
    "id": "0eq3k-4f6Jn6"
   },
   "source": [
    " ##  Trabajo con series de tiempo: calcular variaciones con shift()\n",
    "\n",
    "Cuando se trabaja con series de tiempo, es muy habitual trabajar agregar al dataframe una variable que indique cuánto se modificó determinado valor desde la última medición."
   ]
  },
  {
   "cell_type": "code",
   "execution_count": 406,
   "metadata": {
    "colab": {
     "autoexec": {
      "startup": false,
      "wait_interval": 0
     }
    },
    "colab_type": "code",
    "id": "XNWIhXaPAV95"
   },
   "outputs": [
    {
     "data": {
      "text/html": [
       "<div>\n",
       "<style scoped>\n",
       "    .dataframe tbody tr th:only-of-type {\n",
       "        vertical-align: middle;\n",
       "    }\n",
       "\n",
       "    .dataframe tbody tr th {\n",
       "        vertical-align: top;\n",
       "    }\n",
       "\n",
       "    .dataframe thead th {\n",
       "        text-align: right;\n",
       "    }\n",
       "</style>\n",
       "<table border=\"1\" class=\"dataframe\">\n",
       "  <thead>\n",
       "    <tr style=\"text-align: right;\">\n",
       "      <th></th>\n",
       "      <th>hora</th>\n",
       "      <th>cantidad</th>\n",
       "    </tr>\n",
       "  </thead>\n",
       "  <tbody>\n",
       "    <tr>\n",
       "      <th>0</th>\n",
       "      <td>10:30</td>\n",
       "      <td>20</td>\n",
       "    </tr>\n",
       "    <tr>\n",
       "      <th>1</th>\n",
       "      <td>10:31</td>\n",
       "      <td>20</td>\n",
       "    </tr>\n",
       "    <tr>\n",
       "      <th>2</th>\n",
       "      <td>10:38</td>\n",
       "      <td>9</td>\n",
       "    </tr>\n",
       "    <tr>\n",
       "      <th>3</th>\n",
       "      <td>10:40</td>\n",
       "      <td>12</td>\n",
       "    </tr>\n",
       "    <tr>\n",
       "      <th>4</th>\n",
       "      <td>10:41</td>\n",
       "      <td>12</td>\n",
       "    </tr>\n",
       "  </tbody>\n",
       "</table>\n",
       "</div>"
      ],
      "text/plain": [
       "    hora  cantidad\n",
       "0  10:30        20\n",
       "1  10:31        20\n",
       "2  10:38         9\n",
       "3  10:40        12\n",
       "4  10:41        12"
      ]
     },
     "execution_count": 406,
     "metadata": {},
     "output_type": "execute_result"
    }
   ],
   "source": [
    "# Creamos el dataframe\n",
    "df= pd.DataFrame()\n",
    "\n",
    "# Agregamos las series de datos\n",
    "df['hora'] = ['10:30', '10:31', '10:38', '10:40', '10:41']\n",
    "df['cantidad'] = [20, 20, 9, 12, 12]\n",
    "\n",
    "df"
   ]
  },
  {
   "cell_type": "code",
   "execution_count": 407,
   "metadata": {},
   "outputs": [],
   "source": [
    "# Convertir hora a datetime\n",
    "df['hora'] = df['hora'].apply(lambda x: pd.to_datetime(x))"
   ]
  },
  {
   "cell_type": "code",
   "execution_count": 408,
   "metadata": {},
   "outputs": [
    {
     "data": {
      "text/plain": [
       "dtype('<M8[ns]')"
      ]
     },
     "execution_count": 408,
     "metadata": {},
     "output_type": "execute_result"
    }
   ],
   "source": [
    "df['hora'].dtype"
   ]
  },
  {
   "attachments": {},
   "cell_type": "markdown",
   "metadata": {},
   "source": [
    "dtype('<M8[ns]') es un tipo de datos en pandas que representa una fecha y hora con precisión de nanosegundos. El carácter 'M' en el tipo de datos indica que se trata de un tipo de fecha-hora, el 8 indica que es de 64 bits y el [ns] indica que tiene precisión de nanosegundos. El '<' indica que es una representación nativa de sistema, es decir, el ordenamiento dependerá del sistema operativo.\n",
    "\n",
    "Más detalles en:\n",
    "https://stackoverflow.com/questions/29206612/difference-between-data-type-datetime64ns-and-m8ns"
   ]
  },
  {
   "cell_type": "code",
   "execution_count": 409,
   "metadata": {},
   "outputs": [
    {
     "data": {
      "text/html": [
       "<div>\n",
       "<style scoped>\n",
       "    .dataframe tbody tr th:only-of-type {\n",
       "        vertical-align: middle;\n",
       "    }\n",
       "\n",
       "    .dataframe tbody tr th {\n",
       "        vertical-align: top;\n",
       "    }\n",
       "\n",
       "    .dataframe thead th {\n",
       "        text-align: right;\n",
       "    }\n",
       "</style>\n",
       "<table border=\"1\" class=\"dataframe\">\n",
       "  <thead>\n",
       "    <tr style=\"text-align: right;\">\n",
       "      <th></th>\n",
       "      <th>hora</th>\n",
       "      <th>cantidad</th>\n",
       "    </tr>\n",
       "  </thead>\n",
       "  <tbody>\n",
       "    <tr>\n",
       "      <th>0</th>\n",
       "      <td>NaT</td>\n",
       "      <td>NaN</td>\n",
       "    </tr>\n",
       "    <tr>\n",
       "      <th>1</th>\n",
       "      <td>0 days 00:01:00</td>\n",
       "      <td>0.0</td>\n",
       "    </tr>\n",
       "    <tr>\n",
       "      <th>2</th>\n",
       "      <td>0 days 00:07:00</td>\n",
       "      <td>-11.0</td>\n",
       "    </tr>\n",
       "    <tr>\n",
       "      <th>3</th>\n",
       "      <td>0 days 00:02:00</td>\n",
       "      <td>3.0</td>\n",
       "    </tr>\n",
       "    <tr>\n",
       "      <th>4</th>\n",
       "      <td>0 days 00:01:00</td>\n",
       "      <td>0.0</td>\n",
       "    </tr>\n",
       "  </tbody>\n",
       "</table>\n",
       "</div>"
      ],
      "text/plain": [
       "             hora  cantidad\n",
       "0             NaT       NaN\n",
       "1 0 days 00:01:00       0.0\n",
       "2 0 days 00:07:00     -11.0\n",
       "3 0 days 00:02:00       3.0\n",
       "4 0 days 00:01:00       0.0"
      ]
     },
     "execution_count": 409,
     "metadata": {},
     "output_type": "execute_result"
    }
   ],
   "source": [
    "# Podemos calcular deltas en ambas columnas\n",
    "df.diff()"
   ]
  },
  {
   "cell_type": "code",
   "execution_count": 410,
   "metadata": {
    "colab": {
     "autoexec": {
      "startup": false,
      "wait_interval": 0
     }
    },
    "colab_type": "code",
    "id": "WFHg3YiCAWxF"
   },
   "outputs": [
    {
     "data": {
      "text/html": [
       "<div>\n",
       "<style scoped>\n",
       "    .dataframe tbody tr th:only-of-type {\n",
       "        vertical-align: middle;\n",
       "    }\n",
       "\n",
       "    .dataframe tbody tr th {\n",
       "        vertical-align: top;\n",
       "    }\n",
       "\n",
       "    .dataframe thead th {\n",
       "        text-align: right;\n",
       "    }\n",
       "</style>\n",
       "<table border=\"1\" class=\"dataframe\">\n",
       "  <thead>\n",
       "    <tr style=\"text-align: right;\">\n",
       "      <th></th>\n",
       "      <th>hora</th>\n",
       "      <th>cantidad</th>\n",
       "      <th>cantidad_anterior</th>\n",
       "    </tr>\n",
       "  </thead>\n",
       "  <tbody>\n",
       "    <tr>\n",
       "      <th>0</th>\n",
       "      <td>2023-01-25 10:30:00</td>\n",
       "      <td>20</td>\n",
       "      <td>NaN</td>\n",
       "    </tr>\n",
       "    <tr>\n",
       "      <th>1</th>\n",
       "      <td>2023-01-25 10:31:00</td>\n",
       "      <td>20</td>\n",
       "      <td>20.0</td>\n",
       "    </tr>\n",
       "    <tr>\n",
       "      <th>2</th>\n",
       "      <td>2023-01-25 10:38:00</td>\n",
       "      <td>9</td>\n",
       "      <td>20.0</td>\n",
       "    </tr>\n",
       "    <tr>\n",
       "      <th>3</th>\n",
       "      <td>2023-01-25 10:40:00</td>\n",
       "      <td>12</td>\n",
       "      <td>9.0</td>\n",
       "    </tr>\n",
       "    <tr>\n",
       "      <th>4</th>\n",
       "      <td>2023-01-25 10:41:00</td>\n",
       "      <td>12</td>\n",
       "      <td>12.0</td>\n",
       "    </tr>\n",
       "  </tbody>\n",
       "</table>\n",
       "</div>"
      ],
      "text/plain": [
       "                 hora  cantidad  cantidad_anterior\n",
       "0 2023-01-25 10:30:00        20                NaN\n",
       "1 2023-01-25 10:31:00        20               20.0\n",
       "2 2023-01-25 10:38:00         9               20.0\n",
       "3 2023-01-25 10:40:00        12                9.0\n",
       "4 2023-01-25 10:41:00        12               12.0"
      ]
     },
     "execution_count": 410,
     "metadata": {},
     "output_type": "execute_result"
    }
   ],
   "source": [
    "# Podemos hacer el cálculo en dos partes, primero shift y luego restar:\n",
    "df['cantidad_anterior'] = df['cantidad'].shift(1)\n",
    "df"
   ]
  },
  {
   "cell_type": "code",
   "execution_count": 411,
   "metadata": {
    "colab": {
     "autoexec": {
      "startup": false,
      "wait_interval": 0
     }
    },
    "colab_type": "code",
    "id": "vfZyGEWqAYye"
   },
   "outputs": [],
   "source": [
    "df['variacion'] = df['cantidad'] - df['cantidad_anterior']"
   ]
  },
  {
   "cell_type": "code",
   "execution_count": 412,
   "metadata": {
    "colab": {
     "autoexec": {
      "startup": false,
      "wait_interval": 0
     }
    },
    "colab_type": "code",
    "id": "bONR3m4vAcbe"
   },
   "outputs": [
    {
     "data": {
      "text/html": [
       "<div>\n",
       "<style scoped>\n",
       "    .dataframe tbody tr th:only-of-type {\n",
       "        vertical-align: middle;\n",
       "    }\n",
       "\n",
       "    .dataframe tbody tr th {\n",
       "        vertical-align: top;\n",
       "    }\n",
       "\n",
       "    .dataframe thead th {\n",
       "        text-align: right;\n",
       "    }\n",
       "</style>\n",
       "<table border=\"1\" class=\"dataframe\">\n",
       "  <thead>\n",
       "    <tr style=\"text-align: right;\">\n",
       "      <th></th>\n",
       "      <th>hora</th>\n",
       "      <th>cantidad</th>\n",
       "      <th>cantidad_anterior</th>\n",
       "      <th>variacion</th>\n",
       "    </tr>\n",
       "  </thead>\n",
       "  <tbody>\n",
       "    <tr>\n",
       "      <th>0</th>\n",
       "      <td>2023-01-25 10:30:00</td>\n",
       "      <td>20</td>\n",
       "      <td>NaN</td>\n",
       "      <td>NaN</td>\n",
       "    </tr>\n",
       "    <tr>\n",
       "      <th>1</th>\n",
       "      <td>2023-01-25 10:31:00</td>\n",
       "      <td>20</td>\n",
       "      <td>20.0</td>\n",
       "      <td>0.0</td>\n",
       "    </tr>\n",
       "    <tr>\n",
       "      <th>2</th>\n",
       "      <td>2023-01-25 10:38:00</td>\n",
       "      <td>9</td>\n",
       "      <td>20.0</td>\n",
       "      <td>-11.0</td>\n",
       "    </tr>\n",
       "    <tr>\n",
       "      <th>3</th>\n",
       "      <td>2023-01-25 10:40:00</td>\n",
       "      <td>12</td>\n",
       "      <td>9.0</td>\n",
       "      <td>3.0</td>\n",
       "    </tr>\n",
       "    <tr>\n",
       "      <th>4</th>\n",
       "      <td>2023-01-25 10:41:00</td>\n",
       "      <td>12</td>\n",
       "      <td>12.0</td>\n",
       "      <td>0.0</td>\n",
       "    </tr>\n",
       "  </tbody>\n",
       "</table>\n",
       "</div>"
      ],
      "text/plain": [
       "                 hora  cantidad  cantidad_anterior  variacion\n",
       "0 2023-01-25 10:30:00        20                NaN        NaN\n",
       "1 2023-01-25 10:31:00        20               20.0        0.0\n",
       "2 2023-01-25 10:38:00         9               20.0      -11.0\n",
       "3 2023-01-25 10:40:00        12                9.0        3.0\n",
       "4 2023-01-25 10:41:00        12               12.0        0.0"
      ]
     },
     "execution_count": 412,
     "metadata": {},
     "output_type": "execute_result"
    }
   ],
   "source": [
    "df"
   ]
  },
  {
   "attachments": {},
   "cell_type": "markdown",
   "metadata": {
    "colab_type": "text",
    "id": "9TM2iwHMAk0j"
   },
   "source": [
    "### Variaciones con agrupamiento\n",
    "\n",
    "Es muy habitual tener que calcular esto mismo pero por cada individuo o categoría que interesa estudiar.\n",
    "\n",
    "La función df.groupby() en pandas se utiliza para agrupar los datos de un DataFrame en función de uno o varios criterios específicos. El criterio de agrupamiento se especifica mediante una columna o un conjunto de columnas del DataFrame.\n",
    "\n",
    "La sintaxis básica es:\n",
    "\n",
    "df.groupby(by=grouping_columns)\n",
    "\n",
    "Una vez que se ha agrupado el DataFrame, se pueden aplicar varias funciones de agregación, como mean(), sum(), count(), etc.\n",
    "\n",
    "Ejemplo:\n",
    "\n",
    "# Agrupando por la columna \"color\"\n",
    "df.groupby('color').mean()\n",
    "En este ejemplo se agrupan los datos en función de los valores de la columna 'color' y se calcula el promedio de cada grupo.\n",
    "\n",
    "También se puede agrupar por varias columnas.\n",
    "\n",
    "Ejemplo:\n",
    "\n",
    "df.groupby(['color','size']).mean()\n",
    "En este caso los datos se agrupan primero por 'color' y luego por 'size' y se calcula el promedio de cada subgrupo."
   ]
  },
  {
   "cell_type": "code",
   "execution_count": 413,
   "metadata": {},
   "outputs": [
    {
     "name": "stdout",
     "output_type": "stream",
     "text": [
      "   Animal  Max Speed\n",
      "0  Falcon      380.0\n",
      "1  Falcon      370.0\n",
      "2  Parrot       24.0\n",
      "3  Parrot       26.0\n",
      "        Max Speed\n",
      "Animal           \n",
      "Falcon      375.0\n",
      "Parrot       25.0\n"
     ]
    }
   ],
   "source": [
    "# Ejemplo 1\n",
    "dfa = pd.DataFrame({'Animal': ['Falcon', 'Falcon', 'Parrot', 'Parrot'],\n",
    "                   'Max Speed': [380., 370., 24., 26.]})\n",
    "print(dfa)\n",
    "\n",
    "dfb = dfa.groupby(\"Animal\").mean()\n",
    "print(dfb)"
   ]
  },
  {
   "cell_type": "code",
   "execution_count": 414,
   "metadata": {
    "colab": {
     "autoexec": {
      "startup": false,
      "wait_interval": 0
     }
    },
    "colab_type": "code",
    "id": "pu3FG80UAm-e"
   },
   "outputs": [
    {
     "data": {
      "text/html": [
       "<div>\n",
       "<style scoped>\n",
       "    .dataframe tbody tr th:only-of-type {\n",
       "        vertical-align: middle;\n",
       "    }\n",
       "\n",
       "    .dataframe tbody tr th {\n",
       "        vertical-align: top;\n",
       "    }\n",
       "\n",
       "    .dataframe thead th {\n",
       "        text-align: right;\n",
       "    }\n",
       "</style>\n",
       "<table border=\"1\" class=\"dataframe\">\n",
       "  <thead>\n",
       "    <tr style=\"text-align: right;\">\n",
       "      <th></th>\n",
       "      <th>operador</th>\n",
       "      <th>hora</th>\n",
       "      <th>cantidad</th>\n",
       "    </tr>\n",
       "  </thead>\n",
       "  <tbody>\n",
       "    <tr>\n",
       "      <th>0</th>\n",
       "      <td>Q8</td>\n",
       "      <td>10:30</td>\n",
       "      <td>15</td>\n",
       "    </tr>\n",
       "    <tr>\n",
       "      <th>1</th>\n",
       "      <td>Q8</td>\n",
       "      <td>10:31</td>\n",
       "      <td>20</td>\n",
       "    </tr>\n",
       "    <tr>\n",
       "      <th>2</th>\n",
       "      <td>Q8</td>\n",
       "      <td>10:32</td>\n",
       "      <td>10</td>\n",
       "    </tr>\n",
       "    <tr>\n",
       "      <th>3</th>\n",
       "      <td>Q7</td>\n",
       "      <td>10:38</td>\n",
       "      <td>9</td>\n",
       "    </tr>\n",
       "    <tr>\n",
       "      <th>4</th>\n",
       "      <td>Q9</td>\n",
       "      <td>10:40</td>\n",
       "      <td>12</td>\n",
       "    </tr>\n",
       "    <tr>\n",
       "      <th>5</th>\n",
       "      <td>Q9</td>\n",
       "      <td>10:41</td>\n",
       "      <td>12</td>\n",
       "    </tr>\n",
       "  </tbody>\n",
       "</table>\n",
       "</div>"
      ],
      "text/plain": [
       "  operador   hora  cantidad\n",
       "0       Q8  10:30        15\n",
       "1       Q8  10:31        20\n",
       "2       Q8  10:32        10\n",
       "3       Q7  10:38         9\n",
       "4       Q9  10:40        12\n",
       "5       Q9  10:41        12"
      ]
     },
     "execution_count": 414,
     "metadata": {},
     "output_type": "execute_result"
    }
   ],
   "source": [
    "# Ejemplo 2\n",
    "df = pd.DataFrame()\n",
    "\n",
    "# Creamos columna operador para agrupar en categorías\n",
    "df['operador'] = ['Q8', 'Q8', 'Q8', 'Q7', 'Q9', 'Q9']\n",
    "\n",
    "df['hora'] = ['10:30', '10:31', '10:32', '10:38', '10:40', '10:41']\n",
    "df['cantidad'] = [15, 20, 10, 9, 12, 12]\n",
    "\n",
    "df"
   ]
  },
  {
   "cell_type": "code",
   "execution_count": 415,
   "metadata": {
    "colab": {
     "autoexec": {
      "startup": false,
      "wait_interval": 0
     }
    },
    "colab_type": "code",
    "id": "7DYQZdRmAqxU"
   },
   "outputs": [],
   "source": [
    "# La función transform() aplica la función shift() a la columna 'cantidad'\n",
    "# de cada grupo de datos agrupados y reemplaza los valores en la\n",
    "# columna 'cantidad' con los valores desplazados.\n",
    "\n",
    "df['cantidad_ant_operador'] = df.groupby(['operador'])['cantidad'].transform(lambda x:x.shift())"
   ]
  },
  {
   "cell_type": "code",
   "execution_count": 416,
   "metadata": {
    "colab": {
     "autoexec": {
      "startup": false,
      "wait_interval": 0
     }
    },
    "colab_type": "code",
    "id": "2959D3A2Atfk"
   },
   "outputs": [
    {
     "data": {
      "text/html": [
       "<div>\n",
       "<style scoped>\n",
       "    .dataframe tbody tr th:only-of-type {\n",
       "        vertical-align: middle;\n",
       "    }\n",
       "\n",
       "    .dataframe tbody tr th {\n",
       "        vertical-align: top;\n",
       "    }\n",
       "\n",
       "    .dataframe thead th {\n",
       "        text-align: right;\n",
       "    }\n",
       "</style>\n",
       "<table border=\"1\" class=\"dataframe\">\n",
       "  <thead>\n",
       "    <tr style=\"text-align: right;\">\n",
       "      <th></th>\n",
       "      <th>operador</th>\n",
       "      <th>hora</th>\n",
       "      <th>cantidad</th>\n",
       "      <th>cantidad_ant_operador</th>\n",
       "    </tr>\n",
       "  </thead>\n",
       "  <tbody>\n",
       "    <tr>\n",
       "      <th>0</th>\n",
       "      <td>Q8</td>\n",
       "      <td>10:30</td>\n",
       "      <td>15</td>\n",
       "      <td>NaN</td>\n",
       "    </tr>\n",
       "    <tr>\n",
       "      <th>1</th>\n",
       "      <td>Q8</td>\n",
       "      <td>10:31</td>\n",
       "      <td>20</td>\n",
       "      <td>15.0</td>\n",
       "    </tr>\n",
       "    <tr>\n",
       "      <th>2</th>\n",
       "      <td>Q8</td>\n",
       "      <td>10:32</td>\n",
       "      <td>10</td>\n",
       "      <td>20.0</td>\n",
       "    </tr>\n",
       "    <tr>\n",
       "      <th>3</th>\n",
       "      <td>Q7</td>\n",
       "      <td>10:38</td>\n",
       "      <td>9</td>\n",
       "      <td>NaN</td>\n",
       "    </tr>\n",
       "    <tr>\n",
       "      <th>4</th>\n",
       "      <td>Q9</td>\n",
       "      <td>10:40</td>\n",
       "      <td>12</td>\n",
       "      <td>NaN</td>\n",
       "    </tr>\n",
       "    <tr>\n",
       "      <th>5</th>\n",
       "      <td>Q9</td>\n",
       "      <td>10:41</td>\n",
       "      <td>12</td>\n",
       "      <td>12.0</td>\n",
       "    </tr>\n",
       "  </tbody>\n",
       "</table>\n",
       "</div>"
      ],
      "text/plain": [
       "  operador   hora  cantidad  cantidad_ant_operador\n",
       "0       Q8  10:30        15                    NaN\n",
       "1       Q8  10:31        20                   15.0\n",
       "2       Q8  10:32        10                   20.0\n",
       "3       Q7  10:38         9                    NaN\n",
       "4       Q9  10:40        12                    NaN\n",
       "5       Q9  10:41        12                   12.0"
      ]
     },
     "execution_count": 416,
     "metadata": {},
     "output_type": "execute_result"
    }
   ],
   "source": [
    "df"
   ]
  },
  {
   "cell_type": "code",
   "execution_count": 417,
   "metadata": {
    "colab": {
     "autoexec": {
      "startup": false,
      "wait_interval": 0
     }
    },
    "colab_type": "code",
    "id": "181iUDPxAuiG"
   },
   "outputs": [
    {
     "data": {
      "text/html": [
       "<div>\n",
       "<style scoped>\n",
       "    .dataframe tbody tr th:only-of-type {\n",
       "        vertical-align: middle;\n",
       "    }\n",
       "\n",
       "    .dataframe tbody tr th {\n",
       "        vertical-align: top;\n",
       "    }\n",
       "\n",
       "    .dataframe thead th {\n",
       "        text-align: right;\n",
       "    }\n",
       "</style>\n",
       "<table border=\"1\" class=\"dataframe\">\n",
       "  <thead>\n",
       "    <tr style=\"text-align: right;\">\n",
       "      <th></th>\n",
       "      <th>operador</th>\n",
       "      <th>hora</th>\n",
       "      <th>cantidad</th>\n",
       "      <th>cantidad_ant_operador</th>\n",
       "      <th>variacion_operador</th>\n",
       "    </tr>\n",
       "  </thead>\n",
       "  <tbody>\n",
       "    <tr>\n",
       "      <th>0</th>\n",
       "      <td>Q8</td>\n",
       "      <td>10:30</td>\n",
       "      <td>15</td>\n",
       "      <td>NaN</td>\n",
       "      <td>NaN</td>\n",
       "    </tr>\n",
       "    <tr>\n",
       "      <th>1</th>\n",
       "      <td>Q8</td>\n",
       "      <td>10:31</td>\n",
       "      <td>20</td>\n",
       "      <td>15.0</td>\n",
       "      <td>5.0</td>\n",
       "    </tr>\n",
       "    <tr>\n",
       "      <th>2</th>\n",
       "      <td>Q8</td>\n",
       "      <td>10:32</td>\n",
       "      <td>10</td>\n",
       "      <td>20.0</td>\n",
       "      <td>-10.0</td>\n",
       "    </tr>\n",
       "    <tr>\n",
       "      <th>3</th>\n",
       "      <td>Q7</td>\n",
       "      <td>10:38</td>\n",
       "      <td>9</td>\n",
       "      <td>NaN</td>\n",
       "      <td>NaN</td>\n",
       "    </tr>\n",
       "    <tr>\n",
       "      <th>4</th>\n",
       "      <td>Q9</td>\n",
       "      <td>10:40</td>\n",
       "      <td>12</td>\n",
       "      <td>NaN</td>\n",
       "      <td>NaN</td>\n",
       "    </tr>\n",
       "    <tr>\n",
       "      <th>5</th>\n",
       "      <td>Q9</td>\n",
       "      <td>10:41</td>\n",
       "      <td>12</td>\n",
       "      <td>12.0</td>\n",
       "      <td>0.0</td>\n",
       "    </tr>\n",
       "  </tbody>\n",
       "</table>\n",
       "</div>"
      ],
      "text/plain": [
       "  operador   hora  cantidad  cantidad_ant_operador  variacion_operador\n",
       "0       Q8  10:30        15                    NaN                 NaN\n",
       "1       Q8  10:31        20                   15.0                 5.0\n",
       "2       Q8  10:32        10                   20.0               -10.0\n",
       "3       Q7  10:38         9                    NaN                 NaN\n",
       "4       Q9  10:40        12                    NaN                 NaN\n",
       "5       Q9  10:41        12                   12.0                 0.0"
      ]
     },
     "execution_count": 417,
     "metadata": {},
     "output_type": "execute_result"
    }
   ],
   "source": [
    "df['variacion_operador'] = df['cantidad'] - df['cantidad_ant_operador']\n",
    "df"
   ]
  }
 ],
 "metadata": {
  "colab": {
   "collapsed_sections": [],
   "default_view": {},
   "name": "2.PRACTICA_GUIADA2_Manejo_tiempo.ipynb",
   "provenance": [],
   "version": "0.3.2",
   "views": {}
  },
  "kernelspec": {
   "display_name": "Python 3",
   "language": "python",
   "name": "python3"
  },
  "language_info": {
   "codemirror_mode": {
    "name": "ipython",
    "version": 3
   },
   "file_extension": ".py",
   "mimetype": "text/x-python",
   "name": "python",
   "nbconvert_exporter": "python",
   "pygments_lexer": "ipython3",
   "version": "3.9.5"
  },
  "vscode": {
   "interpreter": {
    "hash": "2e242e6b8c453217117083c6680e6db82176874e34559806b32fd7417ddae620"
   }
  }
 },
 "nbformat": 4,
 "nbformat_minor": 1
}
