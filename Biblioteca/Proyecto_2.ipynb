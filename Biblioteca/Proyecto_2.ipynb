{
  "cells": [
    {
      "cell_type": "code",
      "execution_count": null,
      "metadata": {},
      "outputs": [],
      "source": [
        "import requests\n",
        "from bs4 import BeautifulSoup"
      ]
    },
    {
      "cell_type": "code",
      "execution_count": 28,
      "metadata": {},
      "outputs": [
        {
          "data": {
            "text/plain": [
              "['https://www.argenprop.com/inmuebles-venta-pais-argentina-pagina-1',\n",
              " 'https://www.argenprop.com/inmuebles-venta-pais-argentina-pagina-2',\n",
              " 'https://www.argenprop.com/inmuebles-venta-pais-argentina-pagina-3',\n",
              " 'https://www.argenprop.com/inmuebles-venta-pais-argentina-pagina-4',\n",
              " 'https://www.argenprop.com/inmuebles-venta-pais-argentina-pagina-5',\n",
              " 'https://www.argenprop.com/inmuebles-venta-pais-argentina-pagina-6',\n",
              " 'https://www.argenprop.com/inmuebles-venta-pais-argentina-pagina-7',\n",
              " 'https://www.argenprop.com/inmuebles-venta-pais-argentina-pagina-8',\n",
              " 'https://www.argenprop.com/inmuebles-venta-pais-argentina-pagina-9',\n",
              " 'https://www.argenprop.com/inmuebles-venta-pais-argentina-pagina-10']"
            ]
          },
          "execution_count": 28,
          "metadata": {},
          "output_type": "execute_result"
        }
      ],
      "source": [
        "url = 'https://www.argenprop.com/inmuebles-venta-pais-argentina-pagina-1'\n",
        "\n",
        "list_pages = []\n",
        "for i in [1,2,3,4,5,6,7,8,9,10]:\n",
        "    url_list = url.replace(\"1\", str(i)) \n",
        "    list_pages.append(url_list)\n",
        "    #print(url_list)\n",
        "list_pages"
      ]
    },
    {
      "cell_type": "code",
      "execution_count": 29,
      "metadata": {},
      "outputs": [],
      "source": [
        "def conjunto_pages(list_pages):\n",
        "    urls = []\n",
        "    for url in list_pages:\n",
        "        # Extraemos las URLs\n",
        "        response = requests.get(url)\n",
        "        soup = BeautifulSoup(response.content, 'html.parser')\n",
        "        # Pedimos las etiquetas que contengan las URLs\n",
        "        links = soup.find_all('a')\n",
        "\n",
        "        for link in links:\n",
        "            if link.get('href')[0:5]==\"/depa\" or link.get('href')[0:5]==\"/casa\":\n",
        "                urls.append('https://www.argenprop.com' + link.get('href'))\n",
        "\n",
        "    return urls        "
      ]
    },
    {
      "cell_type": "code",
      "execution_count": 30,
      "metadata": {},
      "outputs": [
        {
          "name": "stdout",
          "output_type": "stream",
          "text": [
            "200\n"
          ]
        }
      ],
      "source": [
        "total_pages = conjunto_pages(list_pages)\n",
        "print(len(total_pages))"
      ]
    },
    {
      "cell_type": "code",
      "execution_count": 37,
      "metadata": {},
      "outputs": [],
      "source": [
        "def valorNumerico (regEx, text):\n",
        "    lista_resultados = re.findall(regEx, text)\n",
        "    if len(lista_resultados) == 1:\n",
        "        resultado = lista_resultados[0]\n",
        "    else:\n",
        "        resultado = 0        \n",
        "    return resultado    \n",
        "\n",
        "def extraccion (url):\n",
        "    response = requests.get(url)\n",
        "    soup = BeautifulSoup(response.content, 'html.parser')\n",
        "\n",
        "    datos_inmueble = soup.find('p', {'class':'strong'})\n",
        "    precio = soup.find('p', {'class':'titlebar__price'})\n",
        "    barrio = soup.find('h2', {'class':'titlebar__title'})\n",
        "\n",
        "    matches = []\n",
        "    # for de datos y append a una variable vacia \n",
        "    for dato in datos_inmueble:\n",
        "        match.append(dato.text)\n",
        "\n",
        "        # longitud de datos\n",
        "        if len(matches) < 7:\n",
        "            return[0,0,0,0,0]\n",
        "\n",
        "        # Extraer metros cuadrados\n",
        "        metros_cubiertos = valor_numerico(\"([0-9]+)\\s\" ,matches[0]) \n",
        "        # Extraer cant. de dormitorios\n",
        "        dormitorios = valor_numerico(\"(.?)\\s*d\" ,matches[3])\n",
        "        # Extraer Años de antiguedad"
      ]
    }
  ],
  "metadata": {
    "colab": {
      "provenance": []
    },
    "kernelspec": {
      "display_name": "base",
      "language": "python",
      "name": "python3"
    },
    "language_info": {
      "codemirror_mode": {
        "name": "ipython",
        "version": 3
      },
      "file_extension": ".py",
      "mimetype": "text/x-python",
      "name": "python",
      "nbconvert_exporter": "python",
      "pygments_lexer": "ipython3",
      "version": "3.8.8"
    },
    "orig_nbformat": 4,
    "vscode": {
      "interpreter": {
        "hash": "5beeed5a7ffdc4b4a0108c0b3292efe9a775794c700b606d5e33717d9ba16765"
      }
    }
  },
  "nbformat": 4,
  "nbformat_minor": 0
}
