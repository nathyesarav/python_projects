{
  "cells": [
    {
      "cell_type": "code",
      "execution_count": 25,
      "metadata": {},
      "outputs": [],
      "source": [
        "# Importamos librerías\n",
        "import numpy as np\n",
        "import pandas as pd\n",
        "import seaborn as sns\n",
        "import requests\n",
        "from bs4 import BeautifulSoup\n",
        "import re\n",
        "from re import sub \n",
        "import matplotlib.pyplot as plt\n",
        "plt.rcParams.update({'figure.figsize': (8, 6), 'figure.dpi': 120})\n",
        "from sklearn.linear_model import LinearRegression\n",
        "from sklearn.metrics import mean_squared_error, mean_absolute_error, mean_absolute_percentage_error, accuracy_score\n",
        "from sklearn.tree import DecisionTreeRegressor, DecisionTreeClassifier \n",
        "from sklearn.ensemble import RandomForestRegressor\n",
        "from sklearn.model_selection import train_test_split\n",
        "from sklearn.neighbors import KNeighborsRegressor"
      ]
    },
    {
      "cell_type": "code",
      "execution_count": 66,
      "metadata": {},
      "outputs": [
        {
          "data": {
            "text/plain": [
              "['https://www.argenprop.com/inmuebles-venta-pais-argentina-pagina-1',\n",
              " 'https://www.argenprop.com/inmuebles-venta-pais-argentina-pagina-2',\n",
              " 'https://www.argenprop.com/inmuebles-venta-pais-argentina-pagina-3',\n",
              " 'https://www.argenprop.com/inmuebles-venta-pais-argentina-pagina-4',\n",
              " 'https://www.argenprop.com/inmuebles-venta-pais-argentina-pagina-5',\n",
              " 'https://www.argenprop.com/inmuebles-venta-pais-argentina-pagina-6',\n",
              " 'https://www.argenprop.com/inmuebles-venta-pais-argentina-pagina-7',\n",
              " 'https://www.argenprop.com/inmuebles-venta-pais-argentina-pagina-8',\n",
              " 'https://www.argenprop.com/inmuebles-venta-pais-argentina-pagina-9',\n",
              " 'https://www.argenprop.com/inmuebles-venta-pais-argentina-pagina-10',\n",
              " 'https://www.argenprop.com/inmuebles-venta-pais-argentina-pagina-11',\n",
              " 'https://www.argenprop.com/inmuebles-venta-pais-argentina-pagina-12',\n",
              " 'https://www.argenprop.com/inmuebles-venta-pais-argentina-pagina-13',\n",
              " 'https://www.argenprop.com/inmuebles-venta-pais-argentina-pagina-14',\n",
              " 'https://www.argenprop.com/inmuebles-venta-pais-argentina-pagina-15',\n",
              " 'https://www.argenprop.com/inmuebles-venta-pais-argentina-pagina-16',\n",
              " 'https://www.argenprop.com/inmuebles-venta-pais-argentina-pagina-17',\n",
              " 'https://www.argenprop.com/inmuebles-venta-pais-argentina-pagina-18',\n",
              " 'https://www.argenprop.com/inmuebles-venta-pais-argentina-pagina-19']"
            ]
          },
          "execution_count": 66,
          "metadata": {},
          "output_type": "execute_result"
        }
      ],
      "source": [
        "url = 'https://www.argenprop.com/inmuebles-venta-pais-argentina-pagina-1'\n",
        "\n",
        "list_pages = []\n",
        "for i in range(1,20):\n",
        "    url_list = url.replace(\"1\", str(i)) \n",
        "    list_pages.append(url_list)\n",
        "    #print(url_list)\n",
        "list_pages"
      ]
    },
    {
      "cell_type": "code",
      "execution_count": 67,
      "metadata": {},
      "outputs": [
        {
          "name": "stdout",
          "output_type": "stream",
          "text": [
            "380\n"
          ]
        }
      ],
      "source": [
        "def conjunto_pages(list_pages):\n",
        "    urls = []\n",
        "    for url in list_pages:\n",
        "        # Extraemos las URLs\n",
        "        response = requests.get(url)\n",
        "        soup = BeautifulSoup(response.content, 'html.parser')\n",
        "        # Pedimos las etiquetas que contengan las URLs\n",
        "        links = soup.find_all('a')\n",
        "\n",
        "        for link in links:\n",
        "            if link.get('href')[0:5]==\"/depa\" or link.get('href')[0:5]==\"/casa\":\n",
        "                urls.append('https://www.argenprop.com' + link.get('href'))\n",
        "    return urls     \n",
        "total_pages = conjunto_pages(list_pages)\n",
        "print(len(total_pages))"
      ]
    },
    {
      "cell_type": "code",
      "execution_count": 4,
      "metadata": {},
      "outputs": [
        {
          "data": {
            "text/plain": [
              "'https://www.argenprop.com/departamento-en-venta-en-palermo-hollywood-3-ambientes--7337778'"
            ]
          },
          "execution_count": 4,
          "metadata": {},
          "output_type": "execute_result"
        }
      ],
      "source": [
        "total_pages[0]"
      ]
    },
    {
      "cell_type": "code",
      "execution_count": 68,
      "metadata": {},
      "outputs": [
        {
          "data": {
            "text/plain": [
              "['140', '3', '8', 0, '4', 'Belgrano', 'USD', '445000']"
            ]
          },
          "execution_count": 68,
          "metadata": {},
          "output_type": "execute_result"
        }
      ],
      "source": [
        "def valor_numerico (regEx, text):\n",
        "    lista_resultados = re.findall(regEx, text)\n",
        "    if len(lista_resultados) == 1:\n",
        "        resultado = lista_resultados[0]\n",
        "    else:\n",
        "        resultado = 0        \n",
        "    return resultado    \n",
        "\n",
        "def extraccion (url):\n",
        "    matches = []\n",
        "    response = requests.get(url)\n",
        "    soup = BeautifulSoup(response.content, 'html.parser')\n",
        "    datos_inmueble = soup.find_all('div', {'class':'desktop'})\n",
        "\n",
        "    if soup.find('li', {'title':'Sup. cubierta'}):\n",
        "        metros_cubiertos_html = soup.find('li', {'title':'Sup. cubierta'})\n",
        "        metros_cubiertos = valor_numerico(\"([0-9]+)\\s\" ,metros_cubiertos_html.find('div', {'class':'desktop'}).text)\n",
        "    else:\n",
        "        metros_cubiertos = 0\n",
        "    matches.append(metros_cubiertos)\n",
        "\n",
        "    if soup.find('li', {'title':'Dormitorios'}):\n",
        "        dormitorios_html = soup.find('li', {'title':'Dormitorios'})\n",
        "        dormitorios = valor_numerico(\"([0-9]+)\\s\" ,dormitorios_html.find('div', {'class':'desktop'}).text)\n",
        "    else:\n",
        "        dormitorios = 0\n",
        "    matches.append(dormitorios)\n",
        "\n",
        "    if soup.find('li', {'title':'Antiguedad'}):\n",
        "        antiguedad_html = soup.find('li', {'title':'Antiguedad'})\n",
        "        antiguedad = valor_numerico(\"([0-9]+)\\s\" , antiguedad_html.find('div', {'class':'desktop'}).text)\n",
        "    else:\n",
        "        antiguedad = 0\n",
        "    matches.append(antiguedad)\n",
        "    \n",
        "    if soup.find('li', {'title':'Ba&#xF1;os'}):\n",
        "        banios_html = soup.find('li', {'title':'Ba&#xF1;os'})\n",
        "        banios = valor_numerico(\"([0-9]+)\\s\" ,banios_html.find('div', {'class':'desktop'}).text)\n",
        "    else:\n",
        "        banios = 0\n",
        "    matches.append(banios)\n",
        "\n",
        "    if soup.find('li', {'title':'Ambientes'}):\n",
        "        ambientes_html = soup.find('li', {'title':'Ambientes'})\n",
        "        ambientes = valor_numerico(\"([0-9]+)\\s\" ,ambientes_html.find('div', {'class':'desktop'}).text)\n",
        "    else:\n",
        "        ambientes = 0\n",
        "    matches.append(ambientes)\n",
        "# \"(.?)\\s*d\" \n",
        "    datos = soup.find('input', {'id':'ga-dimension-ficha'})\n",
        "\n",
        "    if datos['data-barrio']:\n",
        "        matches.append(datos['data-barrio'])\n",
        "    else:\n",
        "        matches.append(0)\n",
        "\n",
        "    if datos['data-moneda']:\n",
        "        matches.append(datos['data-moneda'])\n",
        "    else:\n",
        "        matches.append('USD')\n",
        "\n",
        "    if datos['data-price']:\n",
        "        matches.append(datos['data-price'])\n",
        "    else:\n",
        "        matches.append(0)\n",
        "\n",
        "    return matches      \n",
        "extraccion(total_pages[10])  "
      ]
    },
    {
      "cell_type": "code",
      "execution_count": 69,
      "metadata": {},
      "outputs": [
        {
          "data": {
            "text/html": [
              "<div>\n",
              "<style scoped>\n",
              "    .dataframe tbody tr th:only-of-type {\n",
              "        vertical-align: middle;\n",
              "    }\n",
              "\n",
              "    .dataframe tbody tr th {\n",
              "        vertical-align: top;\n",
              "    }\n",
              "\n",
              "    .dataframe thead th {\n",
              "        text-align: right;\n",
              "    }\n",
              "</style>\n",
              "<table border=\"1\" class=\"dataframe\">\n",
              "  <thead>\n",
              "    <tr style=\"text-align: right;\">\n",
              "      <th></th>\n",
              "      <th>metros_cubiertos</th>\n",
              "      <th>dormitorios</th>\n",
              "      <th>antiguedad</th>\n",
              "      <th>banios</th>\n",
              "      <th>ambientes</th>\n",
              "      <th>barrio</th>\n",
              "      <th>moneda</th>\n",
              "      <th>precio</th>\n",
              "    </tr>\n",
              "  </thead>\n",
              "  <tbody>\n",
              "    <tr>\n",
              "      <th>0</th>\n",
              "      <td>115</td>\n",
              "      <td>2</td>\n",
              "      <td>14</td>\n",
              "      <td>0</td>\n",
              "      <td>3</td>\n",
              "      <td>Palermo</td>\n",
              "      <td>USD</td>\n",
              "      <td>320000</td>\n",
              "    </tr>\n",
              "    <tr>\n",
              "      <th>1</th>\n",
              "      <td>290</td>\n",
              "      <td>3</td>\n",
              "      <td>40</td>\n",
              "      <td>0</td>\n",
              "      <td>4</td>\n",
              "      <td>Palermo</td>\n",
              "      <td>USD</td>\n",
              "      <td>395000</td>\n",
              "    </tr>\n",
              "  </tbody>\n",
              "</table>\n",
              "</div>"
            ],
            "text/plain": [
              "  metros_cubiertos dormitorios antiguedad banios ambientes   barrio moneda  \\\n",
              "0              115           2         14      0         3  Palermo    USD   \n",
              "1              290           3         40      0         4  Palermo    USD   \n",
              "\n",
              "   precio  \n",
              "0  320000  \n",
              "1  395000  "
            ]
          },
          "execution_count": 69,
          "metadata": {},
          "output_type": "execute_result"
        }
      ],
      "source": [
        "df = pd.DataFrame(columns=['metros_cubiertos', 'dormitorios', 'antiguedad','banios', 'ambientes', 'barrio', 'moneda', 'precio'])    \n",
        "\n",
        "for link in total_pages:\n",
        "    lista = extraccion(link) \n",
        "    #print(len(lista))\n",
        "    df.loc[len(df)] = lista \n",
        "df.head(2)    "
      ]
    },
    {
      "cell_type": "code",
      "execution_count": 63,
      "metadata": {},
      "outputs": [
        {
          "data": {
            "text/plain": [
              "200"
            ]
          },
          "execution_count": 63,
          "metadata": {},
          "output_type": "execute_result"
        }
      ],
      "source": [
        "len(df)"
      ]
    },
    {
      "cell_type": "code",
      "execution_count": 72,
      "metadata": {},
      "outputs": [
        {
          "data": {
            "text/plain": [
              "metros_cubiertos    object\n",
              "dormitorios         object\n",
              "antiguedad          object\n",
              "banios              object\n",
              "ambientes           object\n",
              "barrio              object\n",
              "moneda              object\n",
              "precio              object\n",
              "dtype: object"
            ]
          },
          "execution_count": 72,
          "metadata": {},
          "output_type": "execute_result"
        }
      ],
      "source": [
        "df.dtypes"
      ]
    },
    {
      "cell_type": "code",
      "execution_count": 61,
      "metadata": {},
      "outputs": [
        {
          "data": {
            "text/html": [
              "<div>\n",
              "<style scoped>\n",
              "    .dataframe tbody tr th:only-of-type {\n",
              "        vertical-align: middle;\n",
              "    }\n",
              "\n",
              "    .dataframe tbody tr th {\n",
              "        vertical-align: top;\n",
              "    }\n",
              "\n",
              "    .dataframe thead th {\n",
              "        text-align: right;\n",
              "    }\n",
              "</style>\n",
              "<table border=\"1\" class=\"dataframe\">\n",
              "  <thead>\n",
              "    <tr style=\"text-align: right;\">\n",
              "      <th></th>\n",
              "      <th>metros_cubiertos</th>\n",
              "      <th>dormitorios</th>\n",
              "      <th>antiguedad</th>\n",
              "      <th>ambientes</th>\n",
              "      <th>precio</th>\n",
              "    </tr>\n",
              "  </thead>\n",
              "  <tbody>\n",
              "    <tr>\n",
              "      <th>0</th>\n",
              "      <td>115.0</td>\n",
              "      <td>2.0</td>\n",
              "      <td>14.0</td>\n",
              "      <td>3.0</td>\n",
              "      <td>320000.0</td>\n",
              "    </tr>\n",
              "    <tr>\n",
              "      <th>1</th>\n",
              "      <td>290.0</td>\n",
              "      <td>3.0</td>\n",
              "      <td>40.0</td>\n",
              "      <td>4.0</td>\n",
              "      <td>395000.0</td>\n",
              "    </tr>\n",
              "  </tbody>\n",
              "</table>\n",
              "</div>"
            ],
            "text/plain": [
              "   metros_cubiertos  dormitorios  antiguedad  ambientes    precio\n",
              "0             115.0          2.0        14.0        3.0  320000.0\n",
              "1             290.0          3.0        40.0        4.0  395000.0"
            ]
          },
          "execution_count": 61,
          "metadata": {},
          "output_type": "execute_result"
        }
      ],
      "source": [
        "df2 = df.drop(['barrio', 'moneda', 'banios'], axis=1)\n",
        "df2 = df2.astype(float)\n",
        "df2.head(2)"
      ]
    },
    {
      "cell_type": "code",
      "execution_count": 62,
      "metadata": {},
      "outputs": [
        {
          "data": {
            "text/plain": [
              "<AxesSubplot:>"
            ]
          },
          "execution_count": 62,
          "metadata": {},
          "output_type": "execute_result"
        },
        {
          "data": {
            "image/png": "[encoded data removed]",
            "text/plain": [
              "<Figure size 960x720 with 2 Axes>"
            ]
          },
          "metadata": {
            "needs_background": "light"
          },
          "output_type": "display_data"
        }
      ],
      "source": [
        "corr = df2.corr()\n",
        "sns.heatmap(corr, cbar = True, square = True, annot = True, fmt = '.2f', annot_kws = {'size': 5}, cmap = 'coolwarm')"
      ]
    },
    {
      "cell_type": "code",
      "execution_count": 48,
      "metadata": {},
      "outputs": [
        {
          "data": {
            "text/plain": [
              "LinearRegression()"
            ]
          },
          "execution_count": 48,
          "metadata": {},
          "output_type": "execute_result"
        }
      ],
      "source": [
        "# Aplicando el modelo de regresión \n",
        "# Seleccionamos las variables predictoras\n",
        "X = df[[\"metros_cubiertos\", \"dormitorios\", 'antiguedad', \"ambientes\"]] \n",
        "# Defino el Target\n",
        "y = df.precio\n",
        "# Separo en Train y Test\n",
        "X_train, X_test, y_train, y_test = train_test_split(X, y, test_size=0.2, random_state=0)\n",
        "# Generamos el Modelo de Regresión Lineal\n",
        "linear_model = LinearRegression()\n",
        "# Fiteo el modelo\n",
        "linear_model.fit(X_train, y_train)"
      ]
    },
    {
      "cell_type": "code",
      "execution_count": 73,
      "metadata": {},
      "outputs": [
        {
          "name": "stdout",
          "output_type": "stream",
          "text": [
            "Predicción del precio del inmueble: 196945.15580074303\n"
          ]
        }
      ],
      "source": [
        "#Evaluamos el modelo\n",
        "for i, model in enumerate ([linear_model]):\n",
        "    y_train_pred = model.predict(X_train)\n",
        "    y_test_pred = model.predict (X_test)\n",
        "\n",
        "    #print(f'Modelo benchmark: {modelo[i]}')\n",
        "    rmse_train = np.sqrt(mean_squared_error(y_train, y_train_pred))\n",
        "    rmse_test = np.sqrt(mean_squared_error(y_test, y_test_pred))\n",
        "    \n",
        "    #print(f'Raiz del error cuadratico medio en train: {rmse_train}')\n",
        "    #print(f'Raiz del error cuadratico medio en test: {rmse_test}')\n",
        "\n",
        "new_data = pd.DataFrame({'metros_cubiertos': [100],\"dormitorios\":[1], 'antiguedad': [2], 'ambientes': [3]})\n",
        "prediction = model.predict(new_data)\n",
        "print(\"Predicción del precio del inmueble:\", prediction[0])"
      ]
    },
    {
      "cell_type": "code",
      "execution_count": 60,
      "metadata": {},
      "outputs": [
        {
          "data": {
            "text/html": [
              "<div>\n",
              "<style scoped>\n",
              "    .dataframe tbody tr th:only-of-type {\n",
              "        vertical-align: middle;\n",
              "    }\n",
              "\n",
              "    .dataframe tbody tr th {\n",
              "        vertical-align: top;\n",
              "    }\n",
              "\n",
              "    .dataframe thead th {\n",
              "        text-align: right;\n",
              "    }\n",
              "</style>\n",
              "<table border=\"1\" class=\"dataframe\">\n",
              "  <thead>\n",
              "    <tr style=\"text-align: right;\">\n",
              "      <th></th>\n",
              "      <th>metros_cubiertos</th>\n",
              "      <th>dormitorios</th>\n",
              "      <th>antiguedad</th>\n",
              "      <th>banios</th>\n",
              "      <th>ambientes</th>\n",
              "      <th>precio</th>\n",
              "    </tr>\n",
              "  </thead>\n",
              "  <tbody>\n",
              "    <tr>\n",
              "      <th>5</th>\n",
              "      <td>45.0</td>\n",
              "      <td>0.0</td>\n",
              "      <td>0.0</td>\n",
              "      <td>0.0</td>\n",
              "      <td>1.0</td>\n",
              "      <td>113000.0</td>\n",
              "    </tr>\n",
              "    <tr>\n",
              "      <th>34</th>\n",
              "      <td>39.0</td>\n",
              "      <td>0.0</td>\n",
              "      <td>1.0</td>\n",
              "      <td>0.0</td>\n",
              "      <td>1.0</td>\n",
              "      <td>144700.0</td>\n",
              "    </tr>\n",
              "    <tr>\n",
              "      <th>36</th>\n",
              "      <td>32.0</td>\n",
              "      <td>0.0</td>\n",
              "      <td>0.0</td>\n",
              "      <td>0.0</td>\n",
              "      <td>1.0</td>\n",
              "      <td>87000.0</td>\n",
              "    </tr>\n",
              "    <tr>\n",
              "      <th>38</th>\n",
              "      <td>49.0</td>\n",
              "      <td>1.0</td>\n",
              "      <td>1.0</td>\n",
              "      <td>0.0</td>\n",
              "      <td>2.0</td>\n",
              "      <td>156000.0</td>\n",
              "    </tr>\n",
              "    <tr>\n",
              "      <th>39</th>\n",
              "      <td>66.0</td>\n",
              "      <td>1.0</td>\n",
              "      <td>1.0</td>\n",
              "      <td>0.0</td>\n",
              "      <td>2.0</td>\n",
              "      <td>165000.0</td>\n",
              "    </tr>\n",
              "    <tr>\n",
              "      <th>57</th>\n",
              "      <td>46.0</td>\n",
              "      <td>1.0</td>\n",
              "      <td>0.0</td>\n",
              "      <td>0.0</td>\n",
              "      <td>2.0</td>\n",
              "      <td>126000.0</td>\n",
              "    </tr>\n",
              "    <tr>\n",
              "      <th>59</th>\n",
              "      <td>48.0</td>\n",
              "      <td>1.0</td>\n",
              "      <td>0.0</td>\n",
              "      <td>0.0</td>\n",
              "      <td>2.0</td>\n",
              "      <td>147999.0</td>\n",
              "    </tr>\n",
              "    <tr>\n",
              "      <th>60</th>\n",
              "      <td>39.0</td>\n",
              "      <td>1.0</td>\n",
              "      <td>0.0</td>\n",
              "      <td>0.0</td>\n",
              "      <td>2.0</td>\n",
              "      <td>124999.0</td>\n",
              "    </tr>\n",
              "    <tr>\n",
              "      <th>67</th>\n",
              "      <td>32.0</td>\n",
              "      <td>0.0</td>\n",
              "      <td>0.0</td>\n",
              "      <td>0.0</td>\n",
              "      <td>1.0</td>\n",
              "      <td>80000.0</td>\n",
              "    </tr>\n",
              "    <tr>\n",
              "      <th>68</th>\n",
              "      <td>49.0</td>\n",
              "      <td>1.0</td>\n",
              "      <td>0.0</td>\n",
              "      <td>0.0</td>\n",
              "      <td>2.0</td>\n",
              "      <td>163999.0</td>\n",
              "    </tr>\n",
              "    <tr>\n",
              "      <th>72</th>\n",
              "      <td>46.0</td>\n",
              "      <td>1.0</td>\n",
              "      <td>0.0</td>\n",
              "      <td>0.0</td>\n",
              "      <td>2.0</td>\n",
              "      <td>110000.0</td>\n",
              "    </tr>\n",
              "    <tr>\n",
              "      <th>76</th>\n",
              "      <td>43.0</td>\n",
              "      <td>1.0</td>\n",
              "      <td>0.0</td>\n",
              "      <td>0.0</td>\n",
              "      <td>2.0</td>\n",
              "      <td>100000.0</td>\n",
              "    </tr>\n",
              "    <tr>\n",
              "      <th>77</th>\n",
              "      <td>66.0</td>\n",
              "      <td>2.0</td>\n",
              "      <td>0.0</td>\n",
              "      <td>0.0</td>\n",
              "      <td>0.0</td>\n",
              "      <td>130000.0</td>\n",
              "    </tr>\n",
              "    <tr>\n",
              "      <th>79</th>\n",
              "      <td>45.0</td>\n",
              "      <td>1.0</td>\n",
              "      <td>0.0</td>\n",
              "      <td>0.0</td>\n",
              "      <td>2.0</td>\n",
              "      <td>109000.0</td>\n",
              "    </tr>\n",
              "    <tr>\n",
              "      <th>111</th>\n",
              "      <td>36.0</td>\n",
              "      <td>1.0</td>\n",
              "      <td>0.0</td>\n",
              "      <td>0.0</td>\n",
              "      <td>0.0</td>\n",
              "      <td>135000.0</td>\n",
              "    </tr>\n",
              "    <tr>\n",
              "      <th>123</th>\n",
              "      <td>44.0</td>\n",
              "      <td>0.0</td>\n",
              "      <td>0.0</td>\n",
              "      <td>0.0</td>\n",
              "      <td>1.0</td>\n",
              "      <td>0.0</td>\n",
              "    </tr>\n",
              "    <tr>\n",
              "      <th>125</th>\n",
              "      <td>46.0</td>\n",
              "      <td>1.0</td>\n",
              "      <td>1.0</td>\n",
              "      <td>0.0</td>\n",
              "      <td>2.0</td>\n",
              "      <td>99900.0</td>\n",
              "    </tr>\n",
              "    <tr>\n",
              "      <th>131</th>\n",
              "      <td>62.0</td>\n",
              "      <td>1.0</td>\n",
              "      <td>0.0</td>\n",
              "      <td>0.0</td>\n",
              "      <td>2.0</td>\n",
              "      <td>110000.0</td>\n",
              "    </tr>\n",
              "    <tr>\n",
              "      <th>163</th>\n",
              "      <td>2.0</td>\n",
              "      <td>1.0</td>\n",
              "      <td>0.0</td>\n",
              "      <td>0.0</td>\n",
              "      <td>2.0</td>\n",
              "      <td>135000.0</td>\n",
              "    </tr>\n",
              "    <tr>\n",
              "      <th>173</th>\n",
              "      <td>58.0</td>\n",
              "      <td>1.0</td>\n",
              "      <td>0.0</td>\n",
              "      <td>0.0</td>\n",
              "      <td>2.0</td>\n",
              "      <td>167400.0</td>\n",
              "    </tr>\n",
              "    <tr>\n",
              "      <th>175</th>\n",
              "      <td>43.0</td>\n",
              "      <td>1.0</td>\n",
              "      <td>0.0</td>\n",
              "      <td>0.0</td>\n",
              "      <td>2.0</td>\n",
              "      <td>89200.0</td>\n",
              "    </tr>\n",
              "    <tr>\n",
              "      <th>176</th>\n",
              "      <td>26.0</td>\n",
              "      <td>1.0</td>\n",
              "      <td>0.0</td>\n",
              "      <td>0.0</td>\n",
              "      <td>1.0</td>\n",
              "      <td>62608.0</td>\n",
              "    </tr>\n",
              "    <tr>\n",
              "      <th>186</th>\n",
              "      <td>75.0</td>\n",
              "      <td>1.0</td>\n",
              "      <td>0.0</td>\n",
              "      <td>0.0</td>\n",
              "      <td>2.0</td>\n",
              "      <td>165000.0</td>\n",
              "    </tr>\n",
              "    <tr>\n",
              "      <th>187</th>\n",
              "      <td>44.0</td>\n",
              "      <td>1.0</td>\n",
              "      <td>0.0</td>\n",
              "      <td>0.0</td>\n",
              "      <td>2.0</td>\n",
              "      <td>125000.0</td>\n",
              "    </tr>\n",
              "    <tr>\n",
              "      <th>189</th>\n",
              "      <td>42.0</td>\n",
              "      <td>1.0</td>\n",
              "      <td>0.0</td>\n",
              "      <td>0.0</td>\n",
              "      <td>2.0</td>\n",
              "      <td>105000.0</td>\n",
              "    </tr>\n",
              "    <tr>\n",
              "      <th>190</th>\n",
              "      <td>28.0</td>\n",
              "      <td>0.0</td>\n",
              "      <td>0.0</td>\n",
              "      <td>0.0</td>\n",
              "      <td>1.0</td>\n",
              "      <td>117000.0</td>\n",
              "    </tr>\n",
              "    <tr>\n",
              "      <th>195</th>\n",
              "      <td>43.0</td>\n",
              "      <td>1.0</td>\n",
              "      <td>0.0</td>\n",
              "      <td>0.0</td>\n",
              "      <td>2.0</td>\n",
              "      <td>102000.0</td>\n",
              "    </tr>\n",
              "  </tbody>\n",
              "</table>\n",
              "</div>"
            ],
            "text/plain": [
              "     metros_cubiertos  dormitorios  antiguedad  banios  ambientes    precio\n",
              "5                45.0          0.0         0.0     0.0        1.0  113000.0\n",
              "34               39.0          0.0         1.0     0.0        1.0  144700.0\n",
              "36               32.0          0.0         0.0     0.0        1.0   87000.0\n",
              "38               49.0          1.0         1.0     0.0        2.0  156000.0\n",
              "39               66.0          1.0         1.0     0.0        2.0  165000.0\n",
              "57               46.0          1.0         0.0     0.0        2.0  126000.0\n",
              "59               48.0          1.0         0.0     0.0        2.0  147999.0\n",
              "60               39.0          1.0         0.0     0.0        2.0  124999.0\n",
              "67               32.0          0.0         0.0     0.0        1.0   80000.0\n",
              "68               49.0          1.0         0.0     0.0        2.0  163999.0\n",
              "72               46.0          1.0         0.0     0.0        2.0  110000.0\n",
              "76               43.0          1.0         0.0     0.0        2.0  100000.0\n",
              "77               66.0          2.0         0.0     0.0        0.0  130000.0\n",
              "79               45.0          1.0         0.0     0.0        2.0  109000.0\n",
              "111              36.0          1.0         0.0     0.0        0.0  135000.0\n",
              "123              44.0          0.0         0.0     0.0        1.0       0.0\n",
              "125              46.0          1.0         1.0     0.0        2.0   99900.0\n",
              "131              62.0          1.0         0.0     0.0        2.0  110000.0\n",
              "163               2.0          1.0         0.0     0.0        2.0  135000.0\n",
              "173              58.0          1.0         0.0     0.0        2.0  167400.0\n",
              "175              43.0          1.0         0.0     0.0        2.0   89200.0\n",
              "176              26.0          1.0         0.0     0.0        1.0   62608.0\n",
              "186              75.0          1.0         0.0     0.0        2.0  165000.0\n",
              "187              44.0          1.0         0.0     0.0        2.0  125000.0\n",
              "189              42.0          1.0         0.0     0.0        2.0  105000.0\n",
              "190              28.0          0.0         0.0     0.0        1.0  117000.0\n",
              "195              43.0          1.0         0.0     0.0        2.0  102000.0"
            ]
          },
          "execution_count": 60,
          "metadata": {},
          "output_type": "execute_result"
        }
      ],
      "source": [
        "dato_filtrado = df2[(df2.metros_cubiertos <= 100) & (df2.dormitorios <= 2) & (df2.antiguedad <=2) & (df2.ambientes <=2)]\n",
        "dato_filtrado"
      ]
    }
  ],
  "metadata": {
    "colab": {
      "provenance": []
    },
    "kernelspec": {
      "display_name": "base",
      "language": "python",
      "name": "python3"
    },
    "language_info": {
      "codemirror_mode": {
        "name": "ipython",
        "version": 3
      },
      "file_extension": ".py",
      "mimetype": "text/x-python",
      "name": "python",
      "nbconvert_exporter": "python",
      "pygments_lexer": "ipython3",
      "version": "3.8.8"
    },
    "orig_nbformat": 4,
    "vscode": {
      "interpreter": {
        "hash": "5beeed5a7ffdc4b4a0108c0b3292efe9a775794c700b606d5e33717d9ba16765"
      }
    }
  },
  "nbformat": 4,
  "nbformat_minor": 0
}
