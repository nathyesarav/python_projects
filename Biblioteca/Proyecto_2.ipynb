{
  "cells": [
    {
      "cell_type": "code",
      "execution_count": 1,
      "metadata": {},
      "outputs": [],
      "source": [
        "# Importamos librerías\n",
        "import numpy as np\n",
        "import pandas as pd\n",
        "import seaborn as sns\n",
        "import requests\n",
        "from bs4 import BeautifulSoup\n",
        "import re\n",
        "from re import sub \n",
        "import matplotlib.pyplot as plt\n",
        "plt.rcParams.update({'figure.figsize': (8, 6), 'figure.dpi': 120})\n",
        "from sklearn.linear_model import LinearRegression\n",
        "from sklearn.metrics import mean_squared_error, mean_absolute_error, mean_absolute_percentage_error, accuracy_score\n",
        "from sklearn.tree import DecisionTreeRegressor, DecisionTreeClassifier \n",
        "from sklearn.ensemble import RandomForestRegressor\n",
        "from sklearn.model_selection import train_test_split\n",
        "from sklearn.neighbors import KNeighborsRegressor"
      ]
    },
    {
      "cell_type": "code",
      "execution_count": 2,
      "metadata": {},
      "outputs": [
        {
          "data": {
            "text/plain": [
              "['https://www.argenprop.com/inmuebles-venta-pais-argentina-pagina-1',\n",
              " 'https://www.argenprop.com/inmuebles-venta-pais-argentina-pagina-2',\n",
              " 'https://www.argenprop.com/inmuebles-venta-pais-argentina-pagina-3',\n",
              " 'https://www.argenprop.com/inmuebles-venta-pais-argentina-pagina-4',\n",
              " 'https://www.argenprop.com/inmuebles-venta-pais-argentina-pagina-5',\n",
              " 'https://www.argenprop.com/inmuebles-venta-pais-argentina-pagina-6',\n",
              " 'https://www.argenprop.com/inmuebles-venta-pais-argentina-pagina-7',\n",
              " 'https://www.argenprop.com/inmuebles-venta-pais-argentina-pagina-8',\n",
              " 'https://www.argenprop.com/inmuebles-venta-pais-argentina-pagina-9',\n",
              " 'https://www.argenprop.com/inmuebles-venta-pais-argentina-pagina-10']"
            ]
          },
          "execution_count": 2,
          "metadata": {},
          "output_type": "execute_result"
        }
      ],
      "source": [
        "url = 'https://www.argenprop.com/inmuebles-venta-pais-argentina-pagina-1'\n",
        "\n",
        "list_pages = []\n",
        "for i in [1,2,3,4,5,6,7,8,9,10]:\n",
        "    url_list = url.replace(\"1\", str(i)) \n",
        "    list_pages.append(url_list)\n",
        "    #print(url_list)\n",
        "list_pages"
      ]
    },
    {
      "cell_type": "code",
      "execution_count": 3,
      "metadata": {},
      "outputs": [
        {
          "name": "stdout",
          "output_type": "stream",
          "text": [
            "200\n"
          ]
        }
      ],
      "source": [
        "def conjunto_pages(list_pages):\n",
        "    urls = []\n",
        "    for url in list_pages:\n",
        "        # Extraemos las URLs\n",
        "        response = requests.get(url)\n",
        "        soup = BeautifulSoup(response.content, 'html.parser')\n",
        "        # Pedimos las etiquetas que contengan las URLs\n",
        "        links = soup.find_all('a')\n",
        "\n",
        "        for link in links:\n",
        "            if link.get('href')[0:5]==\"/depa\" or link.get('href')[0:5]==\"/casa\":\n",
        "                urls.append('https://www.argenprop.com' + link.get('href'))\n",
        "    return urls     \n",
        "total_pages = conjunto_pages(list_pages)\n",
        "print(len(total_pages))"
      ]
    },
    {
      "cell_type": "code",
      "execution_count": 4,
      "metadata": {},
      "outputs": [
        {
          "data": {
            "text/plain": [
              "'https://www.argenprop.com/departamento-en-venta-en-palermo-hollywood-3-ambientes--7337778'"
            ]
          },
          "execution_count": 4,
          "metadata": {},
          "output_type": "execute_result"
        }
      ],
      "source": [
        "total_pages[0]"
      ]
    },
    {
      "cell_type": "code",
      "execution_count": 5,
      "metadata": {},
      "outputs": [
        {
          "data": {
            "text/plain": [
              "['140', '3', '8', 0, '4', 'Belgrano', 'USD', '445000']"
            ]
          },
          "execution_count": 5,
          "metadata": {},
          "output_type": "execute_result"
        }
      ],
      "source": [
        "def valor_numerico (regEx, text):\n",
        "    lista_resultados = re.findall(regEx, text)\n",
        "    if len(lista_resultados) == 1:\n",
        "        resultado = lista_resultados[0]\n",
        "    else:\n",
        "        resultado = 0        \n",
        "    return resultado    \n",
        "\n",
        "def extraccion (url):\n",
        "    matches = []\n",
        "    response = requests.get(url)\n",
        "    soup = BeautifulSoup(response.content, 'html.parser')\n",
        "    datos_inmueble = soup.find_all('div', {'class':'desktop'})\n",
        "\n",
        "    if soup.find('li', {'title':'Sup. cubierta'}):\n",
        "        metros_cubiertos_html = soup.find('li', {'title':'Sup. cubierta'})\n",
        "        metros_cubiertos = valor_numerico(\"([0-9]+)\\s\" ,metros_cubiertos_html.find('div', {'class':'desktop'}).text)\n",
        "    else:\n",
        "        metros_cubiertos = 0\n",
        "    matches.append(metros_cubiertos)\n",
        "\n",
        "    if soup.find('li', {'title':'Dormitorios'}):\n",
        "        dormitorios_html = soup.find('li', {'title':'Dormitorios'})\n",
        "        dormitorios = valor_numerico(\"([0-9]+)\\s\" ,dormitorios_html.find('div', {'class':'desktop'}).text)\n",
        "    else:\n",
        "        dormitorios = 0\n",
        "    matches.append(dormitorios)\n",
        "\n",
        "    if soup.find('li', {'title':'Antiguedad'}):\n",
        "        antiguedad_html = soup.find('li', {'title':'Antiguedad'})\n",
        "        antiguedad = valor_numerico(\"([0-9]+)\\s\" , antiguedad_html.find('div', {'class':'desktop'}).text)\n",
        "    else:\n",
        "        antiguedad = 0\n",
        "    matches.append(antiguedad)\n",
        "    \n",
        "    if soup.find('li', {'title':'Ba&#xF1;os'}):\n",
        "        banios_html = soup.find('li', {'title':'Ba&#xF1;os'})\n",
        "        banios = valor_numerico(\"([0-9]+)\\s\" ,banios_html.find('div', {'class':'desktop'}).text)\n",
        "    else:\n",
        "        banios = 0\n",
        "    matches.append(banios)\n",
        "\n",
        "    if soup.find('li', {'title':'Ambientes'}):\n",
        "        ambientes_html = soup.find('li', {'title':'Ambientes'})\n",
        "        ambientes = valor_numerico(\"([0-9]+)\\s\" ,ambientes_html.find('div', {'class':'desktop'}).text)\n",
        "    else:\n",
        "        ambientes = 0\n",
        "    matches.append(ambientes)\n",
        "# \"(.?)\\s*d\" \n",
        "    datos = soup.find('input', {'id':'ga-dimension-ficha'})\n",
        "\n",
        "    if datos['data-barrio']:\n",
        "        matches.append(datos['data-barrio'])\n",
        "    else:\n",
        "        matches.append(0)\n",
        "\n",
        "    if datos['data-moneda']:\n",
        "        matches.append(datos['data-moneda'])\n",
        "    else:\n",
        "        matches.append('USD')\n",
        "\n",
        "    if datos['data-price']:\n",
        "        matches.append(datos['data-price'])\n",
        "    else:\n",
        "        matches.append(0)\n",
        "\n",
        "    return matches      \n",
        "extraccion(total_pages[10])  "
      ]
    },
    {
      "cell_type": "code",
      "execution_count": 6,
      "metadata": {},
      "outputs": [],
      "source": [
        "df = pd.DataFrame(columns=['metros_cubiertos', 'dormitorios', 'antiguedad','banios', 'ambientes', 'barrio', 'moneda', 'precio'])              "
      ]
    },
    {
      "cell_type": "code",
      "execution_count": 7,
      "metadata": {},
      "outputs": [
        {
          "data": {
            "text/html": [
              "<div>\n",
              "<style scoped>\n",
              "    .dataframe tbody tr th:only-of-type {\n",
              "        vertical-align: middle;\n",
              "    }\n",
              "\n",
              "    .dataframe tbody tr th {\n",
              "        vertical-align: top;\n",
              "    }\n",
              "\n",
              "    .dataframe thead th {\n",
              "        text-align: right;\n",
              "    }\n",
              "</style>\n",
              "<table border=\"1\" class=\"dataframe\">\n",
              "  <thead>\n",
              "    <tr style=\"text-align: right;\">\n",
              "      <th></th>\n",
              "      <th>metros_cubiertos</th>\n",
              "      <th>dormitorios</th>\n",
              "      <th>antiguedad</th>\n",
              "      <th>banios</th>\n",
              "      <th>ambientes</th>\n",
              "      <th>barrio</th>\n",
              "      <th>moneda</th>\n",
              "      <th>precio</th>\n",
              "    </tr>\n",
              "  </thead>\n",
              "  <tbody>\n",
              "    <tr>\n",
              "      <th>0</th>\n",
              "      <td>115</td>\n",
              "      <td>2</td>\n",
              "      <td>14</td>\n",
              "      <td>0</td>\n",
              "      <td>3</td>\n",
              "      <td>Palermo</td>\n",
              "      <td>USD</td>\n",
              "      <td>320000</td>\n",
              "    </tr>\n",
              "    <tr>\n",
              "      <th>1</th>\n",
              "      <td>290</td>\n",
              "      <td>3</td>\n",
              "      <td>40</td>\n",
              "      <td>0</td>\n",
              "      <td>4</td>\n",
              "      <td>Palermo</td>\n",
              "      <td>USD</td>\n",
              "      <td>395000</td>\n",
              "    </tr>\n",
              "  </tbody>\n",
              "</table>\n",
              "</div>"
            ],
            "text/plain": [
              "  metros_cubiertos dormitorios antiguedad banios ambientes   barrio moneda  \\\n",
              "0              115           2         14      0         3  Palermo    USD   \n",
              "1              290           3         40      0         4  Palermo    USD   \n",
              "\n",
              "   precio  \n",
              "0  320000  \n",
              "1  395000  "
            ]
          },
          "execution_count": 7,
          "metadata": {},
          "output_type": "execute_result"
        }
      ],
      "source": [
        "for link in total_pages:\n",
        "    lista = extraccion(link) \n",
        "    #print(len(lista))\n",
        "    df.loc[len(df)] = lista \n",
        "df.head(2)    "
      ]
    },
    {
      "cell_type": "code",
      "execution_count": 10,
      "metadata": {},
      "outputs": [],
      "source": [
        "df2 = pd.DataFrame(columns=['metros_cubiertos', 'dormitorios', 'antiguedad','banios', 'ambientes', 'precio'])    "
      ]
    },
    {
      "cell_type": "code",
      "execution_count": 12,
      "metadata": {},
      "outputs": [
        {
          "data": {
            "text/html": [
              "<div>\n",
              "<style scoped>\n",
              "    .dataframe tbody tr th:only-of-type {\n",
              "        vertical-align: middle;\n",
              "    }\n",
              "\n",
              "    .dataframe tbody tr th {\n",
              "        vertical-align: top;\n",
              "    }\n",
              "\n",
              "    .dataframe thead th {\n",
              "        text-align: right;\n",
              "    }\n",
              "</style>\n",
              "<table border=\"1\" class=\"dataframe\">\n",
              "  <thead>\n",
              "    <tr style=\"text-align: right;\">\n",
              "      <th></th>\n",
              "      <th>metros_cubiertos</th>\n",
              "      <th>dormitorios</th>\n",
              "      <th>antiguedad</th>\n",
              "      <th>banios</th>\n",
              "      <th>ambientes</th>\n",
              "      <th>precio</th>\n",
              "    </tr>\n",
              "  </thead>\n",
              "  <tbody>\n",
              "  </tbody>\n",
              "</table>\n",
              "</div>"
            ],
            "text/plain": [
              "Empty DataFrame\n",
              "Columns: [metros_cubiertos, dormitorios, antiguedad, banios, ambientes, precio]\n",
              "Index: []"
            ]
          },
          "execution_count": 12,
          "metadata": {},
          "output_type": "execute_result"
        }
      ],
      "source": [
        "df2= df.drop(['barrio', 'moneda'], axis=1)"
      ]
    },
    {
      "cell_type": "code",
      "execution_count": 11,
      "metadata": {},
      "outputs": [
        {
          "data": {
            "text/html": [
              "<div>\n",
              "<style scoped>\n",
              "    .dataframe tbody tr th:only-of-type {\n",
              "        vertical-align: middle;\n",
              "    }\n",
              "\n",
              "    .dataframe tbody tr th {\n",
              "        vertical-align: top;\n",
              "    }\n",
              "\n",
              "    .dataframe thead th {\n",
              "        text-align: right;\n",
              "    }\n",
              "</style>\n",
              "<table border=\"1\" class=\"dataframe\">\n",
              "  <thead>\n",
              "    <tr style=\"text-align: right;\">\n",
              "      <th></th>\n",
              "    </tr>\n",
              "  </thead>\n",
              "  <tbody>\n",
              "  </tbody>\n",
              "</table>\n",
              "</div>"
            ],
            "text/plain": [
              "Empty DataFrame\n",
              "Columns: []\n",
              "Index: []"
            ]
          },
          "execution_count": 11,
          "metadata": {},
          "output_type": "execute_result"
        }
      ],
      "source": [
        "corr = df2.corr()\n",
        "corr\n",
        "#sns.heatmap(corr, cmap = 'coolwarm')"
      ]
    },
    {
      "cell_type": "code",
      "execution_count": null,
      "metadata": {},
      "outputs": [
        {
          "data": {
            "text/plain": [
              "LinearRegression()"
            ]
          },
          "execution_count": 86,
          "metadata": {},
          "output_type": "execute_result"
        }
      ],
      "source": [
        "# Aplicando el modelo de regresión \n",
        "# Seleccionamos las variables predictoras\n",
        "X = df[[\"metros_cubiertos\", 'antiguedad', \"ambientes\", \"dormitorios\"]] \n",
        "# Defino el Target\n",
        "y = df.precio\n",
        "# Separo en Train y Test\n",
        "X_train, X_test, y_train, y_test = train_test_split(X, y, test_size=0.2, random_state=0)\n",
        "# Generamos el Modelo de Regresión Lineal\n",
        "linear_model = LinearRegression()\n",
        "# Fiteo el modelo\n",
        "linear_model.fit(X_train, y_train)"
      ]
    },
    {
      "cell_type": "code",
      "execution_count": null,
      "metadata": {},
      "outputs": [
        {
          "name": "stdout",
          "output_type": "stream",
          "text": [
            "Prediction: 2844095.9953460176\n"
          ]
        }
      ],
      "source": [
        "#Evaluamos el modelo\n",
        "for i, model in enumerate ([linear_model]):\n",
        "    y_train_pred = model.predict(X_train)\n",
        "    y_test_pred = model.predict (X_test)\n",
        "\n",
        "    #print(f'Modelo benchmark: {modelo[i]}')\n",
        "    rmse_train = np.sqrt(mean_squared_error(y_train, y_train_pred))\n",
        "    rmse_test = np.sqrt(mean_squared_error(y_test, y_test_pred))\n",
        "    \n",
        "    #print(f'Raiz del error cuadratico medio en train: {rmse_train}')\n",
        "    #print(f'Raiz del error cuadratico medio en test: {rmse_test}')\n",
        "\n",
        "new_data = pd.DataFrame({'metros_cubiertos': [100], 'ambientes': [3], 'dormitorios': [2]})\n",
        "prediction = model.predict(new_data)\n",
        "print(\"Prediction:\", prediction[0])"
      ]
    },
    {
      "cell_type": "code",
      "execution_count": null,
      "metadata": {},
      "outputs": [],
      "source": [
        "dato_filtrado = df[(df.metros_cubiertos <= 100) & (df.ambientes >= 3) & (df.dormitorios >=2 )]\n",
        "dato_filtrado"
      ]
    }
  ],
  "metadata": {
    "colab": {
      "provenance": []
    },
    "kernelspec": {
      "display_name": "base",
      "language": "python",
      "name": "python3"
    },
    "language_info": {
      "codemirror_mode": {
        "name": "ipython",
        "version": 3
      },
      "file_extension": ".py",
      "mimetype": "text/x-python",
      "name": "python",
      "nbconvert_exporter": "python",
      "pygments_lexer": "ipython3",
      "version": "3.8.8"
    },
    "orig_nbformat": 4,
    "vscode": {
      "interpreter": {
        "hash": "5beeed5a7ffdc4b4a0108c0b3292efe9a775794c700b606d5e33717d9ba16765"
      }
    }
  },
  "nbformat": 4,
  "nbformat_minor": 0
}
