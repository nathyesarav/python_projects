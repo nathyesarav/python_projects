{
  "cells": [
    {
      "cell_type": "code",
      "execution_count": 46,
      "metadata": {},
      "outputs": [],
      "source": [
        "import requests\n",
        "from bs4 import BeautifulSoup\n",
        "url = 'https://www.argenprop.com/inmuebles-alquiler-localidad-capital-federal'\n",
        "response = requests.get(url)\n",
        "\n",
        "if response.status_code == 200:\n",
        "    content = response.content\n",
        "    soup = BeautifulSoup(content, 'html.parser')\n",
        "\n",
        "    properties = soup.find_all('div', class_='card__details-box')\n",
        "    properties\n",
        "for property in properties:\n",
        "    price = property.find('span', class_='firstPrice').text.strip()\n",
        "    rooms = property.find('span', class_='feature__item feature__bedrooms').text.strip()\n",
        "    size = property.find('span', class_='feature__item feature__m2').text.strip()\n",
        "\n",
        "    print('Precio: ' + price)\n",
        "    print('Habitaciones: ' + rooms)\n",
        "    print('Tamaño: ' + size)\n",
        "else:\n",
        "print('Error al hacer la petición')  \n"
      ]
    },
    {
      "cell_type": "code",
      "execution_count": 40,
      "metadata": {},
      "outputs": [],
      "source": [
        "list = []\n",
        "for i in range(1,11):\n",
        "    urlFor = url_+str((i*100)-99)+\"..\"+str(i*100)\n",
        "    resp = requests.get(urlFor)"
      ]
    },
    {
      "cell_type": "code",
      "execution_count": null,
      "metadata": {},
      "outputs": [],
      "source": [
        "x = ast.literal_eval(resp.text)    \n",
        "list.append(pd.DataFrame([[key, x[key]] for key in x.keys()]))\n",
        "    #list.append(pd.DataFrame([[key, x[key]] for key in x.keys()], columns=['Number', 'Description']))\n",
        "df = pd.concat(list)\n",
        "df    "
      ]
    }
  ],
  "metadata": {
    "colab": {
      "provenance": []
    },
    "kernelspec": {
      "display_name": "base",
      "language": "python",
      "name": "python3"
    },
    "language_info": {
      "codemirror_mode": {
        "name": "ipython",
        "version": 3
      },
      "file_extension": ".py",
      "mimetype": "text/x-python",
      "name": "python",
      "nbconvert_exporter": "python",
      "pygments_lexer": "ipython3",
      "version": "3.8.8"
    },
    "orig_nbformat": 4,
    "vscode": {
      "interpreter": {
        "hash": "5beeed5a7ffdc4b4a0108c0b3292efe9a775794c700b606d5e33717d9ba16765"
      }
    }
  },
  "nbformat": 4,
  "nbformat_minor": 0
}
