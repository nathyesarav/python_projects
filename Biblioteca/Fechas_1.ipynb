{
 "cells": [
  {
   "attachments": {},
   "cell_type": "markdown",
   "metadata": {},
   "source": [
    "## Trabajando con dataframes de Pandas\n",
    "Teniendo estos dos dataframes:\n",
    "\n",
    "```\n",
    "fecha\tvalue\n",
    "0\t2023-02-10\t12\n",
    "1\t2023-02-11\t22\n",
    "2\t2023-02-12\t17\n",
    "3\t2023-02-13\t16\n",
    "4\t2023-02-14\t20\n",
    "```\n",
    "Y\n",
    "```\n",
    "i\tvalue\n",
    "0\t1\t25\n",
    "1\t2\t32\n",
    "2\t3\t19\n",
    "3\t4\t17\n",
    "4\t5\t21\n",
    "```\n",
    "¿Cómo conseguir unirlos en uno solo con extensión de la fecha?"
   ]
  },
  {
   "cell_type": "code",
   "execution_count": null,
   "metadata": {},
   "outputs": [],
   "source": [
    "import pandas as pd\n",
    "# Creo el primer dataframe\n",
    "data1 = {'i':  [1, 2, 3, 4, 5, 6, 7, 8, 9, 10, 11, 12, 13, 14, 15, 16, 17, 18, 19, 20, 21, 22, 23, 24, 25, 26, 27, 28, 29, 30],\n",
    "        'predictions': [23449.47550067, 23559.32569924, 23583.05264057, 23681.14684201, 23703.81418165,\n",
    "                  23791.91026551, 23813.93949413, 23893.52549596, 23915.23656027, 23987.57307283, \n",
    "                  24009.20535807, 24075.36113636, 24097.09041565, 24157.97229296, 24179.92438818,\n",
    "                  24236.30242754, 24258.56419206, 24311.0928452,  24333.72096859, 24382.95688783,\n",
    "                  24405.98493194, 24452.40197437, 24475.84597558, 24519.84785077, 24543.71076201, \n",
    "                  24585.64170079, 24609.91689652, 24650.07065691, 24674.74468322, 24713.37215817]}\n",
    "\n",
    "df1 = pd.DataFrame.from_dict(data1)\n",
    "df1.head(3)\n",
    "\n",
    "# Creamos otro dataframe basado en fechas:\n",
    "# Creo el segundo dataframe\n",
    "data2 = {'fecha': ['2023-02-10', '2023-02-11', '2023-02-12', '2023-02-13', '2023-02-14'],\n",
    "        'value': [12, 22, 17, 16, 20]}\n",
    "\n",
    "df2 = pd.DataFrame.from_dict(data2)\n",
    "df2[\"fecha\"] = pd.to_datetime(df2[\"fecha\"]) # string to datetime\n",
    "df2\n",
    "# Intento unirlos, pero no lo hace como quiero\n",
    "df3 = pd.concat([df, df2], axis=0)\n",
    "df3\n",
    "# Convierto la columna i en un índice de tiempo que comienza justo a fecha de hoy e incrementa 1 día en cada salto\n",
    "# 1676332800 => Timestamp de hoy a las 00:00 en https://www.unixtimestamp.com/\n",
    "df1.index = pd.DatetimeIndex((df1[\"i\"] * 86400 + 1617205440) * 10**9)\n",
    "df1 = df1.drop(\"i\", axis=1)\n",
    "df1\n",
    "# Unimos df extienda a d2 con las fecha\n",
    "# df2 ya tiene índice de fecha y llega hasta el día 14\n",
    "df2.index = pd.DatetimeIndex(df2[\"fecha\"])\n",
    "df2 = df2.drop(\"fecha\", axis=1)\n",
    "df2\n",
    "# Ahora puedo unirlos de forma que los datos ocupen las columnas o índices correspondientes\n",
    "df3 = pd.concat([df1, df2], axis=0)\n",
    "df3\n",
    "# Re-ordeno el índice, para que quede incremental en el tiempo\n",
    "df3 = df3.sort_index()\n",
    "df3\n",
    "# import matplotlib.pyplot as plt\n",
    "df3.plot()\n"
   ]
  },
  {
   "attachments": {},
   "cell_type": "markdown",
   "metadata": {},
   "source": [
    "# Agrupar por fecha"
   ]
  },
  {
   "cell_type": "code",
   "execution_count": 1,
   "metadata": {},
   "outputs": [
    {
     "data": {
      "text/html": [
       "<div>\n",
       "<style scoped>\n",
       "    .dataframe tbody tr th:only-of-type {\n",
       "        vertical-align: middle;\n",
       "    }\n",
       "\n",
       "    .dataframe tbody tr th {\n",
       "        vertical-align: top;\n",
       "    }\n",
       "\n",
       "    .dataframe thead th {\n",
       "        text-align: right;\n",
       "    }\n",
       "</style>\n",
       "<table border=\"1\" class=\"dataframe\">\n",
       "  <thead>\n",
       "    <tr style=\"text-align: right;\">\n",
       "      <th></th>\n",
       "      <th>fecha</th>\n",
       "      <th>valor</th>\n",
       "    </tr>\n",
       "  </thead>\n",
       "  <tbody>\n",
       "    <tr>\n",
       "      <th>0</th>\n",
       "      <td>2023-01-01 00:10:15</td>\n",
       "      <td>100</td>\n",
       "    </tr>\n",
       "    <tr>\n",
       "      <th>1</th>\n",
       "      <td>2023-01-03 11:11:03</td>\n",
       "      <td>200</td>\n",
       "    </tr>\n",
       "    <tr>\n",
       "      <th>2</th>\n",
       "      <td>2023-01-06 00:23:44</td>\n",
       "      <td>400</td>\n",
       "    </tr>\n",
       "    <tr>\n",
       "      <th>3</th>\n",
       "      <td>2023-01-07 13:10:25</td>\n",
       "      <td>600</td>\n",
       "    </tr>\n",
       "    <tr>\n",
       "      <th>4</th>\n",
       "      <td>2023-01-07 13:12:35</td>\n",
       "      <td>150</td>\n",
       "    </tr>\n",
       "    <tr>\n",
       "      <th>5</th>\n",
       "      <td>2023-01-09 00:10:15</td>\n",
       "      <td>170</td>\n",
       "    </tr>\n",
       "  </tbody>\n",
       "</table>\n",
       "</div>"
      ],
      "text/plain": [
       "                fecha  valor\n",
       "0 2023-01-01 00:10:15    100\n",
       "1 2023-01-03 11:11:03    200\n",
       "2 2023-01-06 00:23:44    400\n",
       "3 2023-01-07 13:10:25    600\n",
       "4 2023-01-07 13:12:35    150\n",
       "5 2023-01-09 00:10:15    170"
      ]
     },
     "execution_count": 1,
     "metadata": {},
     "output_type": "execute_result"
    }
   ],
   "source": [
    "import pandas as pd\n",
    "\n",
    "# Creamos el dataframe\n",
    "df = pd.DataFrame({\n",
    "    'fecha': ['2023-01-01 00:10:15', '2023-01-03 11:11:03', '2023-01-06 00:23:44',\n",
    "              '2023-01-07 13:10:25', '2023-01-07 13:12:35', '2023-01-09 00:10:15'],\n",
    "    'valor': [100, 200, 400, 600, 150, 170]\n",
    "})\n",
    "\n",
    "# Convertimos la columna de fecha a un objeto datetime de pandas\n",
    "df['fecha'] = pd.to_datetime(df['fecha'])\n",
    "df"
   ]
  },
  {
   "cell_type": "code",
   "execution_count": 2,
   "metadata": {},
   "outputs": [
    {
     "data": {
      "text/plain": [
       "fecha    datetime64[ns]\n",
       "valor             int64\n",
       "dtype: object"
      ]
     },
     "execution_count": 2,
     "metadata": {},
     "output_type": "execute_result"
    }
   ],
   "source": [
    "df.dtypes"
   ]
  },
  {
   "cell_type": "code",
   "execution_count": 3,
   "metadata": {},
   "outputs": [
    {
     "data": {
      "text/plain": [
       "fecha\n",
       "2023-01-01    100\n",
       "2023-01-03    200\n",
       "2023-01-06    400\n",
       "2023-01-07    750\n",
       "2023-01-09    170\n",
       "Name: valor, dtype: int64"
      ]
     },
     "execution_count": 3,
     "metadata": {},
     "output_type": "execute_result"
    }
   ],
   "source": [
    "# Agrupamos los datos por día y sumamos los valores de cada grupo\n",
    "subtotales = df.groupby(df['fecha'].dt.date)['valor'].sum()\n",
    "subtotales"
   ]
  },
  {
   "attachments": {},
   "cell_type": "markdown",
   "metadata": {},
   "source": [
    "### ¿Cómo generar un df con los subtotales por fecha y que las fechas intermedias con subtotales nulos aparezcan en el dataframe con valor 0?\n",
    "- Crear un rango de fechas que incluya todas las fechas en el DataFrame original.\n",
    "- Fusionar el DataFrame original con el rango de fechas utilizando un left join para mantener todas las fechas del rango.\n",
    "- Agrupar los datos por fecha y calcular los subtotales.\n",
    "- Llenar los valores nulos de los subtotales con 0."
   ]
  },
  {
   "cell_type": "code",
   "execution_count": 4,
   "metadata": {},
   "outputs": [
    {
     "data": {
      "text/html": [
       "<div>\n",
       "<style scoped>\n",
       "    .dataframe tbody tr th:only-of-type {\n",
       "        vertical-align: middle;\n",
       "    }\n",
       "\n",
       "    .dataframe tbody tr th {\n",
       "        vertical-align: top;\n",
       "    }\n",
       "\n",
       "    .dataframe thead th {\n",
       "        text-align: right;\n",
       "    }\n",
       "</style>\n",
       "<table border=\"1\" class=\"dataframe\">\n",
       "  <thead>\n",
       "    <tr style=\"text-align: right;\">\n",
       "      <th></th>\n",
       "      <th>fecha</th>\n",
       "      <th>valor</th>\n",
       "    </tr>\n",
       "  </thead>\n",
       "  <tbody>\n",
       "    <tr>\n",
       "      <th>0</th>\n",
       "      <td>2023-01-01</td>\n",
       "      <td>100</td>\n",
       "    </tr>\n",
       "    <tr>\n",
       "      <th>1</th>\n",
       "      <td>2023-01-03</td>\n",
       "      <td>200</td>\n",
       "    </tr>\n",
       "    <tr>\n",
       "      <th>2</th>\n",
       "      <td>2023-01-06</td>\n",
       "      <td>400</td>\n",
       "    </tr>\n",
       "    <tr>\n",
       "      <th>3</th>\n",
       "      <td>2023-01-07</td>\n",
       "      <td>600</td>\n",
       "    </tr>\n",
       "    <tr>\n",
       "      <th>4</th>\n",
       "      <td>2023-01-07</td>\n",
       "      <td>150</td>\n",
       "    </tr>\n",
       "    <tr>\n",
       "      <th>5</th>\n",
       "      <td>2023-01-09</td>\n",
       "      <td>170</td>\n",
       "    </tr>\n",
       "  </tbody>\n",
       "</table>\n",
       "</div>"
      ],
      "text/plain": [
       "        fecha  valor\n",
       "0  2023-01-01    100\n",
       "1  2023-01-03    200\n",
       "2  2023-01-06    400\n",
       "3  2023-01-07    600\n",
       "4  2023-01-07    150\n",
       "5  2023-01-09    170"
      ]
     },
     "execution_count": 4,
     "metadata": {},
     "output_type": "execute_result"
    }
   ],
   "source": [
    "# Reducimos la fechahora a sólo fecha\n",
    "df['fecha'] = df['fecha'].dt.date\n",
    "df"
   ]
  },
  {
   "cell_type": "code",
   "execution_count": 5,
   "metadata": {},
   "outputs": [
    {
     "data": {
      "text/plain": [
       "fecha    object\n",
       "valor     int64\n",
       "dtype: object"
      ]
     },
     "execution_count": 5,
     "metadata": {},
     "output_type": "execute_result"
    }
   ],
   "source": [
    "df.dtypes"
   ]
  },
  {
   "cell_type": "code",
   "execution_count": 6,
   "metadata": {},
   "outputs": [],
   "source": [
    "# Convertimos de nuevo la columna de fecha a un objeto datetime de pandas\n",
    "df['fecha'] = pd.to_datetime(df['fecha'])"
   ]
  },
  {
   "cell_type": "code",
   "execution_count": 7,
   "metadata": {},
   "outputs": [
    {
     "data": {
      "text/plain": [
       "fecha    datetime64[ns]\n",
       "valor             int64\n",
       "dtype: object"
      ]
     },
     "execution_count": 7,
     "metadata": {},
     "output_type": "execute_result"
    }
   ],
   "source": [
    "df.dtypes"
   ]
  },
  {
   "cell_type": "code",
   "execution_count": 8,
   "metadata": {},
   "outputs": [
    {
     "data": {
      "text/plain": [
       "DatetimeIndex(['2023-01-01', '2023-01-02', '2023-01-03', '2023-01-04',\n",
       "               '2023-01-05', '2023-01-06', '2023-01-07', '2023-01-08',\n",
       "               '2023-01-09'],\n",
       "              dtype='datetime64[ns]', freq='D')"
      ]
     },
     "execution_count": 8,
     "metadata": {},
     "output_type": "execute_result"
    }
   ],
   "source": [
    "# Creamos un rango de fechas que incluya todas las fechas en el DataFrame original\n",
    "fechas = pd.date_range(start=df['fecha'].min(), end=df['fecha'].max())\n",
    "fechas"
   ]
  },
  {
   "cell_type": "code",
   "execution_count": 9,
   "metadata": {},
   "outputs": [
    {
     "data": {
      "text/html": [
       "<div>\n",
       "<style scoped>\n",
       "    .dataframe tbody tr th:only-of-type {\n",
       "        vertical-align: middle;\n",
       "    }\n",
       "\n",
       "    .dataframe tbody tr th {\n",
       "        vertical-align: top;\n",
       "    }\n",
       "\n",
       "    .dataframe thead th {\n",
       "        text-align: right;\n",
       "    }\n",
       "</style>\n",
       "<table border=\"1\" class=\"dataframe\">\n",
       "  <thead>\n",
       "    <tr style=\"text-align: right;\">\n",
       "      <th></th>\n",
       "      <th>fecha</th>\n",
       "    </tr>\n",
       "  </thead>\n",
       "  <tbody>\n",
       "    <tr>\n",
       "      <th>0</th>\n",
       "      <td>2023-01-01</td>\n",
       "    </tr>\n",
       "    <tr>\n",
       "      <th>1</th>\n",
       "      <td>2023-01-02</td>\n",
       "    </tr>\n",
       "    <tr>\n",
       "      <th>2</th>\n",
       "      <td>2023-01-03</td>\n",
       "    </tr>\n",
       "    <tr>\n",
       "      <th>3</th>\n",
       "      <td>2023-01-04</td>\n",
       "    </tr>\n",
       "    <tr>\n",
       "      <th>4</th>\n",
       "      <td>2023-01-05</td>\n",
       "    </tr>\n",
       "    <tr>\n",
       "      <th>5</th>\n",
       "      <td>2023-01-06</td>\n",
       "    </tr>\n",
       "    <tr>\n",
       "      <th>6</th>\n",
       "      <td>2023-01-07</td>\n",
       "    </tr>\n",
       "    <tr>\n",
       "      <th>7</th>\n",
       "      <td>2023-01-08</td>\n",
       "    </tr>\n",
       "    <tr>\n",
       "      <th>8</th>\n",
       "      <td>2023-01-09</td>\n",
       "    </tr>\n",
       "  </tbody>\n",
       "</table>\n",
       "</div>"
      ],
      "text/plain": [
       "       fecha\n",
       "0 2023-01-01\n",
       "1 2023-01-02\n",
       "2 2023-01-03\n",
       "3 2023-01-04\n",
       "4 2023-01-05\n",
       "5 2023-01-06\n",
       "6 2023-01-07\n",
       "7 2023-01-08\n",
       "8 2023-01-09"
      ]
     },
     "execution_count": 9,
     "metadata": {},
     "output_type": "execute_result"
    }
   ],
   "source": [
    "# Creamos un DataFrame con las fechas del rango\n",
    "df_fechas = pd.DataFrame({'fecha': fechas})\n",
    "df_fechas"
   ]
  },
  {
   "cell_type": "code",
   "execution_count": 10,
   "metadata": {},
   "outputs": [
    {
     "data": {
      "text/plain": [
       "fecha    datetime64[ns]\n",
       "dtype: object"
      ]
     },
     "execution_count": 10,
     "metadata": {},
     "output_type": "execute_result"
    }
   ],
   "source": [
    "df_fechas.dtypes"
   ]
  },
  {
   "cell_type": "code",
   "execution_count": 11,
   "metadata": {},
   "outputs": [
    {
     "data": {
      "text/plain": [
       "fecha    datetime64[ns]\n",
       "valor             int64\n",
       "dtype: object"
      ]
     },
     "execution_count": 11,
     "metadata": {},
     "output_type": "execute_result"
    }
   ],
   "source": [
    "df.dtypes"
   ]
  },
  {
   "cell_type": "code",
   "execution_count": 12,
   "metadata": {},
   "outputs": [
    {
     "data": {
      "text/html": [
       "<div>\n",
       "<style scoped>\n",
       "    .dataframe tbody tr th:only-of-type {\n",
       "        vertical-align: middle;\n",
       "    }\n",
       "\n",
       "    .dataframe tbody tr th {\n",
       "        vertical-align: top;\n",
       "    }\n",
       "\n",
       "    .dataframe thead th {\n",
       "        text-align: right;\n",
       "    }\n",
       "</style>\n",
       "<table border=\"1\" class=\"dataframe\">\n",
       "  <thead>\n",
       "    <tr style=\"text-align: right;\">\n",
       "      <th></th>\n",
       "      <th>fecha</th>\n",
       "      <th>valor</th>\n",
       "    </tr>\n",
       "  </thead>\n",
       "  <tbody>\n",
       "    <tr>\n",
       "      <th>0</th>\n",
       "      <td>2023-01-01</td>\n",
       "      <td>100.0</td>\n",
       "    </tr>\n",
       "    <tr>\n",
       "      <th>1</th>\n",
       "      <td>2023-01-02</td>\n",
       "      <td>NaN</td>\n",
       "    </tr>\n",
       "    <tr>\n",
       "      <th>2</th>\n",
       "      <td>2023-01-03</td>\n",
       "      <td>200.0</td>\n",
       "    </tr>\n",
       "    <tr>\n",
       "      <th>3</th>\n",
       "      <td>2023-01-04</td>\n",
       "      <td>NaN</td>\n",
       "    </tr>\n",
       "    <tr>\n",
       "      <th>4</th>\n",
       "      <td>2023-01-05</td>\n",
       "      <td>NaN</td>\n",
       "    </tr>\n",
       "    <tr>\n",
       "      <th>5</th>\n",
       "      <td>2023-01-06</td>\n",
       "      <td>400.0</td>\n",
       "    </tr>\n",
       "    <tr>\n",
       "      <th>6</th>\n",
       "      <td>2023-01-07</td>\n",
       "      <td>600.0</td>\n",
       "    </tr>\n",
       "    <tr>\n",
       "      <th>7</th>\n",
       "      <td>2023-01-07</td>\n",
       "      <td>150.0</td>\n",
       "    </tr>\n",
       "    <tr>\n",
       "      <th>8</th>\n",
       "      <td>2023-01-08</td>\n",
       "      <td>NaN</td>\n",
       "    </tr>\n",
       "    <tr>\n",
       "      <th>9</th>\n",
       "      <td>2023-01-09</td>\n",
       "      <td>170.0</td>\n",
       "    </tr>\n",
       "  </tbody>\n",
       "</table>\n",
       "</div>"
      ],
      "text/plain": [
       "       fecha  valor\n",
       "0 2023-01-01  100.0\n",
       "1 2023-01-02    NaN\n",
       "2 2023-01-03  200.0\n",
       "3 2023-01-04    NaN\n",
       "4 2023-01-05    NaN\n",
       "5 2023-01-06  400.0\n",
       "6 2023-01-07  600.0\n",
       "7 2023-01-07  150.0\n",
       "8 2023-01-08    NaN\n",
       "9 2023-01-09  170.0"
      ]
     },
     "execution_count": 12,
     "metadata": {},
     "output_type": "execute_result"
    }
   ],
   "source": [
    "# Fusionamos el DataFrame original con el rango de fechas utilizando un left join\n",
    "df_merged = pd.merge(df_fechas, df, on='fecha', how='left')\n",
    "df_merged"
   ]
  },
  {
   "cell_type": "code",
   "execution_count": 20,
   "metadata": {},
   "outputs": [
    {
     "data": {
      "text/plain": [
       "<bound method DataFrame.sort_values of        fecha  subtotales\n",
       "0 2023-01-01       100.0\n",
       "1 2023-01-02         0.0\n",
       "2 2023-01-03       200.0\n",
       "3 2023-01-04         0.0\n",
       "4 2023-01-05         0.0\n",
       "5 2023-01-06       400.0\n",
       "6 2023-01-07       750.0\n",
       "7 2023-01-08         0.0\n",
       "8 2023-01-09       170.0>"
      ]
     },
     "execution_count": 20,
     "metadata": {},
     "output_type": "execute_result"
    }
   ],
   "source": [
    "# Agrupamos los datos por fecha y calculamos los subtotales\n",
    "subtotales = df_merged.groupby('fecha')['valor'].sum()\n",
    "# Llenamos los valores nulos de los subtotales con 0\n",
    "subtotales = subtotales.fillna(0)\n",
    "# Creamos un DataFrame con los subtotales por fecha\n",
    "df_subtotales = pd.DataFrame({'fecha': subtotales.index, 'subtotales': subtotales.values})\n",
    "# Imprimimos el DataFrame con los subtotales por fecha y las fechas intermedias con subtotales nulos\n",
    "df_subtotales"
   ]
  },
  {
   "cell_type": "code",
   "execution_count": 21,
   "metadata": {},
   "outputs": [
    {
     "data": {
      "image/png": "[encoded data removed]",
      "text/plain": [
       "<Figure size 1200x840 with 1 Axes>"
      ]
     },
     "metadata": {
      "needs_background": "light"
     },
     "output_type": "display_data"
    }
   ],
   "source": [
    "import matplotlib.pyplot as plt\n",
    "plt.rcParams.update({'figure.figsize': (10, 7), 'figure.dpi': 120})\n",
    "plt.bar(df_subtotales[\"fecha\"], df_subtotales[\"subtotales\"])\n",
    "plt.xticks(rotation=45)\n",
    "plt.show()"
   ]
  }
 ],
 "metadata": {
  "kernelspec": {
   "display_name": "Python 3",
   "language": "python",
   "name": "python3"
  },
  "language_info": {
   "codemirror_mode": {
    "name": "ipython",
    "version": 3
   },
   "file_extension": ".py",
   "mimetype": "text/x-python",
   "name": "python",
   "nbconvert_exporter": "python",
   "pygments_lexer": "ipython3",
   "version": "3.8.8"
  },
  "orig_nbformat": 4,
  "vscode": {
   "interpreter": {
    "hash": "916dbcbb3f70747c44a77c7bcd40155683ae19c65e1c03b4aa3499c5328201f1"
   }
  }
 },
 "nbformat": 4,
 "nbformat_minor": 2
}
