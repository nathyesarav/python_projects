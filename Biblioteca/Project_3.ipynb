{
  "cells": [
    {
      "attachments": {},
      "cell_type": "markdown",
      "metadata": {
        "id": "I0BknIhDgOW1"
      },
      "source": [
        "# Proyecto 3\n",
        "\n",
        "## Aplicando Data Science Para El Mercado Cripto:\n",
        "\n",
        "Nuestro cliente es una financiera que trabaja en el Trading, nos pide que apliquemos todos nuestros conocimientos para estudiar el mercado de las criptomonedas y que le ayudemos a predecir el precio de éstas. Usarás para ello algoritmos de Clasificación y de Series de Tiempo.\n",
        "\n",
        "## ¿Qué es el Trading?\n",
        "\n",
        "El trading es comprar y vender activos financieros, como acciones, divisas, índices y criptomonedas, con el objetivo de obtener beneficios a corto plazo. Los traders pueden operar en el mercado de valores, en el mercado de divisas (también conocido como Forex) o en otros mercados financieros (crypto, por ejemplo). Algunos traders trabajan en una empresa o banco o broker, mientras que otros son individuos que operan por cuenta propia.\n",
        "\n",
        "# ¿Cuáles son las criptomonedas más importantes?\n",
        "\n",
        "Las criptomonedas más importantes son:\n",
        "\n",
        "- Bitcoin (BTC): Es la primera y más conocida criptomoneda. Fue creada en 2009 y es considerada la primera implementación de la tecnología blockchain.\n",
        "\n",
        "- Ethereum (ETH): Es una plataforma de contratos inteligentes que permite la creación de aplicaciones descentralizadas. Su moneda nativa se llama Ether.\n",
        "\n",
        "- Ripple (XRP): Es una criptomoneda que se utiliza principalmente para facilitar el intercambio de dinero entre diferentes divisas. Es utilizada por la compañía Ripple Labs.\n",
        "\n",
        "- Bitcoin Cash (BCH): Es una bifurcación de Bitcoin que se creó en 2017. Se diferencia de Bitcoin en que tiene un tamaño de bloque más grande, lo que permite la confirmación de transacciones más rápido.\n",
        "\n",
        "- Litecoin (LTC): Es una criptomoneda que se basa en la misma tecnología que Bitcoin, pero con una serie de mejoras que la hacen más rápida y eficiente.\n",
        "\n",
        "- Cardano (ADA): Es una plataforma de contratos inteligentes que utiliza la tecnología blockchain y se enfoca en la privacidad y la seguridad. Su moneda nativa se llama Ada."
      ]
    },
    {
      "cell_type": "markdown",
      "metadata": {
        "id": "QLw2TGuTgOXP"
      },
      "source": [
        "# Ejercicio:\n",
        "\n",
        "Extrae de coinmarketcap.com los nombres de las 1.000 criptomonedas más importantes\n",
        "\n",
        "Para ello, utiliza las técnicas de web scrapping aprendidas en el proyecto 2"
      ]
    },
    {
      "cell_type": "code",
      "execution_count": 2,
      "metadata": {
        "id": "mE0a9AEsg16b"
      },
      "outputs": [],
      "source": [
        "import re\n",
        "from re import sub\n",
        "import pandas as pd\n",
        "import numpy as np\n",
        "import requests\n",
        "import urllib.request\n",
        "from bs4 import BeautifulSoup\n",
        "from html.parser import HTMLParser\n",
        "import sys\n"
      ]
    },
    {
      "cell_type": "code",
      "execution_count": 3,
      "metadata": {
        "colab": {
          "base_uri": "https://localhost:8080/"
        },
        "id": "oongkcktjUrL",
        "outputId": "888f5257-5401-4cf2-a0bd-10c5fca2a27f"
      },
      "outputs": [
        {
          "data": {
            "text/plain": [
              "True"
            ]
          },
          "execution_count": 3,
          "metadata": {},
          "output_type": "execute_result"
        }
      ],
      "source": [
        "url = 'https://coinmarketcap.com'\n",
        "read = requests.get(url)\n",
        "read.ok"
      ]
    },
    {
      "cell_type": "code",
      "execution_count": 4,
      "metadata": {
        "id": "R7ddTrSfmx8Q"
      },
      "outputs": [],
      "source": [
        "soup = BeautifulSoup(read.content, 'html.parser')\n",
        "ps = soup.find_all('p',class_=\"sc-e225a64a-0 ePTNty\") "
      ]
    },
    {
      "cell_type": "code",
      "execution_count": 5,
      "metadata": {
        "id": "MYAcHiZtrPax"
      },
      "outputs": [
        {
          "name": "stdout",
          "output_type": "stream",
          "text": [
            "<p class=\"sc-e225a64a-0 ePTNty\" color=\"text\" data-sensors-click=\"true\" font-size=\"1\" font-weight=\"semibold\">Bitcoin</p>\n",
            "<p class=\"sc-e225a64a-0 ePTNty\" color=\"text\" data-sensors-click=\"true\" font-size=\"1\" font-weight=\"semibold\">Polygon</p>\n",
            "<p class=\"sc-e225a64a-0 ePTNty\" color=\"text\" data-sensors-click=\"true\" font-size=\"1\" font-weight=\"semibold\">PancakeSwap</p>\n",
            "<p class=\"sc-e225a64a-0 ePTNty\" color=\"text\" data-sensors-click=\"true\" font-size=\"1\" font-weight=\"semibold\">JizzRocket</p>\n",
            "<p class=\"sc-e225a64a-0 ePTNty\" color=\"text\" data-sensors-click=\"true\" font-size=\"1\" font-weight=\"semibold\">Ai Smart Chain</p>\n",
            "<p class=\"sc-e225a64a-0 ePTNty\" color=\"text\" data-sensors-click=\"true\" font-size=\"1\" font-weight=\"semibold\">Bermuda</p>\n",
            "<p class=\"sc-e225a64a-0 ePTNty\" color=\"text\" data-sensors-click=\"true\" font-size=\"1\" font-weight=\"semibold\">Bitcoin</p>\n",
            "<p class=\"sc-e225a64a-0 ePTNty\" color=\"text\" data-sensors-click=\"true\" font-size=\"1\" font-weight=\"semibold\">Ethereum</p>\n",
            "<p class=\"sc-e225a64a-0 ePTNty\" color=\"text\" data-sensors-click=\"true\" font-size=\"1\" font-weight=\"semibold\">Tether</p>\n",
            "<p class=\"sc-e225a64a-0 ePTNty\" color=\"text\" data-sensors-click=\"true\" font-size=\"1\" font-weight=\"semibold\">BNB</p>\n",
            "<p class=\"sc-e225a64a-0 ePTNty\" color=\"text\" data-sensors-click=\"true\" font-size=\"1\" font-weight=\"semibold\">USD Coin</p>\n",
            "<p class=\"sc-e225a64a-0 ePTNty\" color=\"text\" data-sensors-click=\"true\" font-size=\"1\" font-weight=\"semibold\">XRP</p>\n",
            "<p class=\"sc-e225a64a-0 ePTNty\" color=\"text\" data-sensors-click=\"true\" font-size=\"1\" font-weight=\"semibold\">Binance USD</p>\n",
            "<p class=\"sc-e225a64a-0 ePTNty\" color=\"text\" data-sensors-click=\"true\" font-size=\"1\" font-weight=\"semibold\">Cardano</p>\n",
            "<p class=\"sc-e225a64a-0 ePTNty\" color=\"text\" data-sensors-click=\"true\" font-size=\"1\" font-weight=\"semibold\">Dogecoin</p>\n",
            "<p class=\"sc-e225a64a-0 ePTNty\" color=\"text\" data-sensors-click=\"true\" font-size=\"1\" font-weight=\"semibold\">Polygon</p>\n"
          ]
        }
      ],
      "source": [
        "for p in ps:\n",
        "  print(p)\n",
        "# No es posible usar la clase porque después de la décima opción cambia la clase por una diferente"
      ]
    },
    {
      "cell_type": "code",
      "execution_count": 6,
      "metadata": {
        "id": "_ngov-oWZ25u"
      },
      "outputs": [
        {
          "name": "stdout",
          "output_type": "stream",
          "text": [
            "['apollox', 'bitcoin', 'ethereum', 'tether', 'bnb', 'usd-coin', 'xrp', 'binance-usd', 'cardano', 'dogecoin', 'polygon', 'solana', 'polkadot-new', 'litecoin', 'shiba-inu', 'avalanche', 'tron', 'multi-collateral-dai', 'uniswap', 'cosmos', 'wrapped-bitcoin', 'chainlink', 'ethereum-classic', 'monero', 'unus-sed-leo', 'toncoin', 'aptos', 'bitcoin-cash', 'stellar', 'okb', 'apecoin-ape', 'filecoin', 'near-protocol', 'cronos', 'algorand', 'lido-dao', 'vechain', 'hedera', 'quant', 'fantom', 'internet-computer', 'decentraland', 'aave', 'flow', 'bitdao', 'eos', 'the-sandbox', 'axie-infinity', 'terra-luna', 'multiversx-egld', 'theta-network', 'tezos', 'chiliz', 'trueusd', 'huobi-token', 'paxos-standard', 'the-graph', 'kucoin-token', 'bitcoin-sv', 'curve-dao-token', 'frax-share', 'zcash', 'immutable-x', 'usdd', 'ecash', 'pancakeswap', 'optimism-ethereum', 'bittorrent-new', 'mina', 'trust-wallet-token', 'dash', 'maker', 'iota', 'synthetix', 'neo', 'klaytn', 'thorchain', 'gemini-dollar', 'gmx', 'loopring', 'osmosis', 'pax-gold', 'dydx', 'ethereum-pow', 'convex-finance', 'gatetoken', 'enjin-coin', 'zilliqa', 'terra-luna-v2', 'nexo', '1inch', 'render-token', 'rocket-pool', 'fei-usd', 'kava', 'threshold', 'magic-token', 'stacks', 'xinfin', 'basic-attention-token', 'arweave']\n",
            "101\n"
          ]
        }
      ],
      "source": [
        "links = soup.find_all('a') \n",
        "currencies = []\n",
        "for a in links:\n",
        "  if a.get(\"href\"):\n",
        "    linkSplit = re.split(\"/\", a.get(\"href\"))\n",
        "    if len(linkSplit) > 2:\n",
        "      if linkSplit[1] == \"currencies\" and linkSplit[2] != \"icon\" and linkSplit[2] not in currencies:\n",
        "        currencies.append(linkSplit[2])\n",
        "print(currencies)\n",
        "print(len(currencies)) #con esto confirmo que se guardaron las 100 criptomonedas de la primera pagina"
      ]
    },
    {
      "cell_type": "code",
      "execution_count": 7,
      "metadata": {
        "colab": {
          "base_uri": "https://localhost:8080/"
        },
        "id": "HPxj48TliNxx",
        "outputId": "2f23cbc3-2467-4577-fc90-df66cc2f35be"
      },
      "outputs": [
        {
          "name": "stdout",
          "output_type": "stream",
          "text": [
            "['apollox', 'bitcoin', 'ethereum', 'tether', 'bnb', 'usd-coin', 'xrp', 'binance-usd', 'cardano', 'dogecoin', 'polygon', 'solana', 'polkadot-new', 'litecoin', 'shiba-inu', 'avalanche', 'tron', 'multi-collateral-dai', 'uniswap', 'cosmos', 'wrapped-bitcoin', 'chainlink', 'ethereum-classic', 'monero', 'unus-sed-leo', 'toncoin', 'aptos', 'bitcoin-cash', 'stellar', 'okb', 'apecoin-ape', 'filecoin', 'near-protocol', 'cronos', 'algorand', 'lido-dao', 'vechain', 'hedera', 'quant', 'fantom', 'internet-computer', 'decentraland', 'aave', 'flow', 'bitdao', 'eos', 'the-sandbox', 'axie-infinity', 'terra-luna', 'multiversx-egld', 'theta-network', 'tezos', 'chiliz', 'trueusd', 'huobi-token', 'paxos-standard', 'the-graph', 'kucoin-token', 'bitcoin-sv', 'curve-dao-token', 'frax-share', 'zcash', 'immutable-x', 'usdd', 'ecash', 'pancakeswap', 'optimism-ethereum', 'bittorrent-new', 'mina', 'trust-wallet-token', 'dash', 'maker', 'iota', 'synthetix', 'neo', 'klaytn', 'thorchain', 'gemini-dollar', 'gmx', 'loopring', 'osmosis', 'pax-gold', 'dydx', 'ethereum-pow', 'convex-finance', 'gatetoken', 'enjin-coin', 'zilliqa', 'terra-luna-v2', 'nexo', '1inch', 'render-token', 'rocket-pool', 'fei-usd', 'kava', 'threshold', 'magic-token', 'stacks', 'xinfin', 'basic-attention-token', 'arweave', 'apollox', 'helium', 'compound', 'casper', 'gala', 'holo', 'celo', 'terrausd', 'ravencoin', 'theta-fuel', 'nem', 'sushiswap', 'decred', 'green-metaverse-token', 'harmony', 'balancer', 'kusama', 'ethereum-name-service', 'mask-network', 'waves', 'oasis-network', 'wootrade', 'gnosis-gno', 'bitcoin-gold', 'qtum', 'iotex', 'chia-network', 'yearn-finance', 'audius', 'kadena', 'ankr', 'zel', 'injective', 'band-protocol', 'moonbeam', 'binaryx', 'symbol', 'jasmy', 'just', 'ssv-network', 'singularitynet', 'golem-network-tokens', 'bone-shibaswap', 'chain', 'astar', 'swissborg', 'fetch', 'ocean-protocol', 'livepeer', 'omg', '0x', 'neutrino-usd', 'illuvium', 'keep-network', 'dogelon', 'amp', 'hive-blockchain', 'reserve-rights', 'iostoken', 'safepal', 'ontology', 'everscale', 'biconomy', 'siacoin', 'wax', 'bora', 'digibyte', 'dao-maker', 'polymath-network', 'metisdao', 'sxp', 'hooked-protocol', 'storj', 'synapse-2', 'skale-network', 'voyager-token', 'constitutiondao', 'nervos-network', 'celsius', 'uma', 'conflux-network', 'braintrust', 'rlc', 'horizen', 'ribbon-finance', 'kyber-network-crystal-v2', 'galxe', 'looksrare', 'syscoin', 'celer-network', 'apenft', 'smooth-love-potion', 'merit-circle', 'lisk', 'playdapp', 'secret', 'medibloc', 'aragon', 'pundix-new', 'status', 'apollox', 'wrapped-tron', 'steth', 'hex', 't-mac-dao', 'wbnb', 'bitcoin-bep2', 'frax', 'huobi-btc', 'bittorrent', 'ftx-token', 'tnc-coin', 'radix-protocol', 'tether-gold', 'gensokishis-metaverse', 'nxm', 'defichain', 'usdj', 'bitget-token-new', 'link', 'wemix', 'liquity-usd', 'floki-inu', 'baby-doge-coin', 'edgecoin', 'anyswap', 'wrapped-everscale', 'bitrise-token', 'locus-chain', 'beldex', 'telcoin', 'lukso', 'creditcoin', 'stasis-euro', 'vvs-finance', 'alethea-artificial-liquid-intelligence-token', 'api3', 'chromia', 'nucypher', 'gitcoin', 'tribe', 'orbs', 'mobilecoin', 'nano', 'coti', 'civic', 'vulcan-forged-pyr', 'request', 'highstreet', 'polymesh', 'energy-web-token', 'ceek-vr', 'centrifuge', 'dexe', 'aelf', 'venus-usdc', 'cartesi', 'mobox', 'alpha-finance-lab', 'ergo', 'numeraire', 'serum', 'ontology-gas', 'ren', 'lcx', 'usdx-kava', 'radicle', 'stargate-finance', 'dent', 'dkargo', 'saitama-inu-new', 'avinoc', 'humanscape', 'axelar', 'persistence', 'ardor', 'mx-token', 'hashflow', 'standard-tokenization-protocol', 'wink', 'mvl', 'deso', 'power-ledger', 'kaspa', 'concordium', 'renbtc', 'spell-token', 'acala', 'steem', 'mdex', 'stratis', 'marlin', 'origintrail', 'nkn', 'venus', 'mxc', 'bifrost', 'morpheus-network', 'iq', 'rsk-smart-bitcoin', 'abbc-coin', 'apollox', 'mines-of-dalarnia', 'function-x', 'xyo', 'pirate-chain', 'biswap', 'prom', 'ultra', 'funtoken', 'alien-worlds', 'milk-alliance', 'whitecoin', 'myneighboralice', 'shentu', 'wazirx', 'joe', 'alchemy-pay', 'radio-caca', 'decimal', 'phala-network', 'veritaseum', 'nest-protocol', 'dusk-network', 'reef', 'rss3', 'bancor', 'hi-dollar', 'orbit-chain', 'bloktopia', 'quarkchain', 'uquid-coin', 'vethor-token', 'velas', 'orchid', 'augur', 'origin-protocol', 'insure', 'world-mobile-token', 'beta-finance', 'rakon', 'metal', 'covalent', 'axel', 'wrapped-velas', 'verasity', 'liquity', 'dero', 'constellation', 'sologenic', 'carry', 'cvault-finance', 'richquack-com', 'dodo', 'maidsafecoin', 'stormx', 'tokocrypto', 'loom-network', 'aergo', 'yield-guild-games', 'badger-dao', 'venus-busd', 'gods-unchained', 'coin98', 'star-atlas-polis', 'rally', 'dawn-protocol', 'revain', 'rsk-infrastructure-framework', 'ark', 'vai', 'sun-token', 'susd', 'metadium', 'vegaprotocol', 'yearn-finance-ii', 'krypton-dao', 'automata-network', 'superfarm', 'moviebloc', 'moonriver', 'efinity', 'ampleforth-governance-token', 'marblex', 'seedify-fund', 'somesing', 'verge', 'wrapped-nxm', 'league-of-kingdoms', 'metars-genesis', 'aavegotchi', 'enzyme', 'ankreth', 'mainframe', 'superrare', 'defi-pulse-index', 'clash-of-lilliput', 'utrust', 'meter-governance', 'cobak-token', 'cocos-bcx', 'battle-world', 'apollox', 'electroneum', 'ampleforth', 'strike', 'nvirworld', 'arpa-chain', 'thundercore', 'origin-dollar', 'sonm-bep20', 'ufo-gaming', 'polkastarter', 'gamefi', 'cortex', 'smartofgiving', 'terra-virtua-kolect', 'flamingo', 'zeon', 'xsgd', 'volt-inu-v2', 'perpetual-protocol', 'xcad-network', 'adshares', 'divi', 'akash-network', 'freeway-token', 'onus', 'alpaca-finance', 'raydium', 'celo-dollar', 'qredo', 'radix', 'wanchain', 'boba-network', 'syntropy', 'platon', 'chrono-tech', 'fncy', 'wilder-world', 'litentry', 'ramp', 'lto-network', 'bakerytoken', 'cratos', 'propy', 'firmachain', 'chainbing', 'truefi-token', 'deapcoin', 'wirex-token', 'telos', 'bytom', 'beefy-finance', 'star-atlas', 'defigram', 'tomochain', 'cult-dao', 'step-app', 'veruscoin', 'star-link', 'keep3rv1', 'lever', 'ethernity-chain', 'komodo', 'idex', 'barnbridge', 'hunt', 'bounce-token', 'voxies', 'bitmax-token', 'phoenix-global-new', 'travala', 'linear', 'klayswap-protocol', 'alchemix', 'dxdao', 'chainge', 'conun', 'efforce', 'bitshares', 'metacraft', 'forta', 'dia', 'hedgetrade', 'euro-coin', 'galaxia', 'sweat-economy', 'opulous', 'clover', 'yooshi', 'orion-protocol', 'qlink', 'neopin', 'kardiachain', 'rarible', 'neblio', 'venus-usdt', 'kiltprotocol', 'gamezone', 'groestlcoin', 'shiba-predator', 'husd', 'apollox', 'aurora-near', 'dego-finance', 'gifto', 'vidt-dao', 'steem-dollars', 'alpine-f1-team-fan-token', 'dogechain', 'coinex-token', 'rai-finance-sofi', 'aioz-network', 'bluzelle', 'gomining-token', 'maple', 'moss-coin', 'benqi', 'quickswap', 'sentinel-protocol', 'refereum', 'bitcicoin', 'lazio-fan-token', 'unifi-protocol-dao', 'usdk', 'bella-protocol', 'bitcoin-diamond', 'tellor', 'unibright', 'proton', 'reserve', 'monacoin', 'ellipsis', 'rei-network', 'h2o-dao', 'ichi', 'alpha-quark-token', 'xmon', 'boson-protocol', 'derace', 'irisnet', 'aeternity', 'adventure-gold', 'metahero', 'hard-protocol', 'splintershards', 'fc-barcelona-fan-token', 'ellipsis-epx', 'troy', 'guild-of-guardians', 'fio-protocol', 'tokenlon-network-token', 'nuls', 'streamr', 'adx-net', 'santos-fc-fan-token', 'klever', 'ethereum-swarm', 'astrafer', 'terran-coin', 'gas', 'harvest-finance', 'venus-xvs', 'hegic', 'rmrk', 'shiden-network', 'firo', 'vectorspace-ai', 'burger-cities', 'router-protocol', 'celo-euro', 'stafi', 'hathor', 'contentos', 'mantra', 'paris-saint-germain-fan-token', 'spookyswap', 'cream-finance', 'wing', 'ahatoken', 'nakamoto-games', 'onbuff', 'fc-porto', 'vite', 'fusion', 'terra-krw', 'manchester-city-fan-token', 'phantasma', 'map-protocol', 'dacxi', 'vaiot', 'chimpion', 'tranchess', 'centrality', 'choise', 'pitbull', 'parsiq', 'tokenpocket', 'dxchain-token', 'trustswap', 'tamadoge', 'karura', 'goldfinch-protocol', 'apollox', 'haven-protocol', 'ultiledger', 'namecoin', 'dforce', 'gyen', 'elitium', 'tap', 'kunci-coin', 'ooki-protocol', 'dingo-token', 'frontier', 'airdao', 'degate', 'hillstone', 'hydra', 'bonfida', 'stream-coin', 'mango-markets', 'hermez-network', 'selfkey', 'offshift', 'dafi-protocol', 'pluton', 'dextools', 'circuits-of-value', 'opendao', 'tokemak', 'anchor-protocol', 'measurable-data-token', 'singularitydao', 'elastos', 'dora-factory', 'airswap', 'waltonchain', 'polyswarm', 'retreeb', 'neutrino-system-base-token', 'kleros', 'petals', 'maro', 'saito', 'nestree', 'pivx', 'bitmart-token', 'presearch', 'drep-new', 'viberate', 'aleph-im', 'vibing', 'apm-coin', 'galatasaray-fan-token', 'prosper', 'metronome', 'meverse', 'walken', 'redfox-labs', 'nimiq', 'handshake', 'assemble-protocol', 'dock', 'gny', 'somnium-space-cubes', 'mint-marble', 'nunet', 'pendle', 'apeswap-finance', 'latoken', 'hoge-finance', 'arsenal-fan-token', 'uncx', 'aion', 'math', 'clearpool', 'bscpad', 'hyperdao', 'mixmarvel', 'lossless', 'mcdex', 'nftx', 'era-swap', 'samoyedcoin', 'milc-platform', 'auto', 'the-force-protocol', 'akropolis', 'solve', 'define', 'six', 'green-satoshi-token', 'decentral-games', 'student-coin', 'binance-idr', 'yield-app', 'deeper-network', 'gocrypto-token', 'obyte', 'arcblock', 'deversifi', 'vimworld', 'kin', 'apollox', 'fox-token', 'dad', 'library-credits', 'valobit', 'taboo-token', 'rizon-blockchain', 'vita-inu', 'suku', 'district0x', 'venus-reward-token', 'mirror-protocol', 'impt', 'energi', 'velo', 'alitas', 'switcheo', 'elysia', 'gelato', 'marinade', 'crpt', 'altura', 'zenon', 'rainicorn', 'scallop', 'urus', 'btse', 'polkafoundry', 'hopr', 'deepbrain-chain', 'wrapped-ncg', 'hackenai', 'everrise', 'unification', 'amo-coin', 'btc-standard-hashrate-token', 'nft-worlds', 'super-zero-protocol', 'hapi-one', 'pnetwork', 'stader', 'bosagora', 'crustnetwork', 'aurory', 'kryll', 'powerpool', 'zkswap', 'bitkan', 'cere-network', 'bepro-network', 'pkt', 'mileverse', 'wabi', 'get-protocol', 'senso', 'solend', 'derivadao', 'the-transfer-token', 'ac-milan-fan-token', 'bitcoin2', 'particl', 'vertcoin', 'apollo-currency', 'unilend', 'cajutel', 'adappter-token', 'exeedme', 'basic', 'town-star', 'peercoin', 'invictus-hyperion-fund', 'masq', 'polkadex', 'quantstamp', 'erc20', 'oax', 'cudos', 'atletico-de-madrid-fan-token', 'og-fan-token', 'oxen', 'keystone-of-opportunity-knowledge', 'gari', 'oraichain-token', 'dvision-network', 'biopassport-token', 'xdefi-wallet', 'unisocks', 'juventus-fan-token', 'waykichain', 'babyswap', 'callisto-network', 'magiccraft', 'stratos', 'shping', 'pintu-token', 'mancium', 'cryptex-finance', 'poolz-finance', 'govi', 'mimblewimblecoin', 'apollox', 'gochain', 'perlin', 'numbers-protocol', 'morpheus-labs', 'keeperdao', 'nftb', 'epns', 'digitalbits', 'epik-prime', 'newscrypto', 'ternoa', 'victoria-vr', 'te-food', 'bridge-oracle', 'rupiah-token', 'sperax', 'civilization', 'prizm', 'inter-milan-fan-token', 'zebec-protocol', 'lattice-token', 'quantum-resistant-ledger', 'whale', 'banano', 'cellframe', 'newyork-exchange', 'xenioscoin', 'sora', 'pallapay', 'venus-ltc', 'redd', 'receive-access-ecosystem', 'meta-apes-peel', 'grid', 'across-protocol', '0chain', 'qash', 'temco', 'zynecoin', 'monero-classic', 'label-foundation', 'findora', 'bitball-treasure', 'rai', 'dimecoin', 'thetan-arena', 'aventus', 'swash', 'pangolin', 'emirex-token', 'diamond', 'big-data-protocol', 'torn', 'kambria', 'digixdao', 'napoli-fan-token', 'defi-yield-protocol', 'diamond-launch', 'validity', 'fast-access-blockchain', 'titanswap', 'counterparty', 'quiztok', 'bytecoin-bcn', 'bend-dao', 'inflation-hedging-coin', 'glitch', 'observer', 'darwinia-network', 'safe-deal', 'zano', 'bigone-token', 'epic-cash', 'electra-protocol', 'arianee-protocol', 'soda-coin', 'sharetoken', 'king-dag', 'monkeyball', 'nexus', 'unicly-cryptopunks-collection', 'cropbytes', 'inverse-finance', 'as-roma-fan-token', 'hiblocks', 'wombat-exchange', 'blockv', 'grin', 'quadrantprotocol', 'ignis', 'buying-com', 'dfyn-network', 'bifrost-bnc', 'platypus-finance', 'asta', 'fruits-eco', 'ovr', 'electric-vehicle-zone', 'jupiter', 'shiryo-inu', 'apollox', 'project-seed', 'bux-token', 'sovryn', 'kromatika', 'gamium', 'now-token', 'chainx', 'beam', 'lovely-inu', 'proximax', 'gameswap', 'venus-dai', 'metaverse-dualchain-network-architecture', 'scprime', 'poa', 'factom', 'pstake-finance', 'gulf-coin', 'permission-coin', 'molecular-future', 'probit-token', 'cashaa', 'ethax', 'gamercoin', 'reapchain', 'bitforex-token', 'matrix-ai-network', 'gravity-finance', 'kasta', 'sidus', 'signum', 'oxbull-tech', 'dotmoovs', 'monavale', 'argentinefootballassociationfantoken', 'mysterium', 'tokenomy', 'zimbocash', 'red-token', 'position-exchange', 'atomic-wallet-coin', 'peakdefi', 'agoras-tokens', 'bondly', 'sylo', 'infinity-pad', 'xeno-token', 'polkamarkets', 'trabzonspor-fan-token', 'swftcoin', 'carbon-credit', 'vidya', 'ring-x-platform', 'dragonchain', 'foam', 'shyft-network', 'chain-guardians', 'xcarnival', 'shopping-io-token', 'openocean', 'juggernaut', 'polaris-share', 'ariva', 'solanium', '1irstcoin', 'hello-labs', 'utopia', 'edgeware', 'multivac', 'cirus-foundation', 'calamari-network', 'tokpie', 'stronghold-token', 'dogebonk', 'nav-coin', 'meetone', 'hypercash', 'rari-governance-token', 'polkabridge', 'ilcoin', 'etherisc', 'cardstack', 'tarot', 'guildfi', 'bitrue-coin', 'saffron-finance', 'rush-coin', 'nxt', 'unore', 'caduceus-foundation', 'bullperks', 'adora-token', 'xdai', 'bitcountry-neer', 'animalgo', 'venus-link', 'rocket-vault-rocketx', 'videocoin', 'spacechain', 'pchain']\n",
            "1008\n"
          ]
        }
      ],
      "source": [
        "# Funcion para extraer los nombres de las criptos de una página\n",
        "def extractPageCurrencies(url):\n",
        "  read = requests.get(url)\n",
        "  soup = BeautifulSoup(read.content, 'html.parser')\n",
        "  links = soup.find_all('a')\n",
        "  currencies = []\n",
        "  for a in links:\n",
        "    if a.get(\"href\"):\n",
        "      linkSplit = re.split(\"/\", a.get(\"href\"))\n",
        "      if len(linkSplit) > 2:\n",
        "        if linkSplit[1] == \"currencies\" and linkSplit[2] != \"icon\" and linkSplit[2] not in currencies:\n",
        "          currencies.append(linkSplit[2])\n",
        "  return currencies\n",
        "\n",
        "# Funcion para extraer los 100 primeros nombres\n",
        "def extractCurrencies():\n",
        "  baseUrl = \"https://coinmarketcap.com/\"\n",
        "  currencies = []\n",
        "  for x in range(1,11):\n",
        "    if x == 1:\n",
        "      currencies = extractPageCurrencies(baseUrl)\n",
        "    else:\n",
        "      currencies += extractPageCurrencies(baseUrl + \"?page=\" + str(x))\n",
        "  return currencies\n",
        "\n",
        "print(extractCurrencies())\n",
        "print(len(extractCurrencies()))"
      ]
    },
    {
      "cell_type": "code",
      "execution_count": 2,
      "metadata": {},
      "outputs": [
        {
          "data": {
            "text/html": [
              "<div>\n",
              "<style scoped>\n",
              "    .dataframe tbody tr th:only-of-type {\n",
              "        vertical-align: middle;\n",
              "    }\n",
              "\n",
              "    .dataframe tbody tr th {\n",
              "        vertical-align: top;\n",
              "    }\n",
              "\n",
              "    .dataframe thead th {\n",
              "        text-align: right;\n",
              "    }\n",
              "</style>\n",
              "<table border=\"1\" class=\"dataframe\">\n",
              "  <thead>\n",
              "    <tr style=\"text-align: right;\">\n",
              "      <th></th>\n",
              "      <th>time</th>\n",
              "      <th>price</th>\n",
              "    </tr>\n",
              "  </thead>\n",
              "  <tbody>\n",
              "    <tr>\n",
              "      <th>0</th>\n",
              "      <td>Aug 17, 2017 04:00:00</td>\n",
              "      <td>4261.48</td>\n",
              "    </tr>\n",
              "    <tr>\n",
              "      <th>1</th>\n",
              "      <td>Aug 17, 2017 04:15:00</td>\n",
              "      <td>4261.48</td>\n",
              "    </tr>\n",
              "    <tr>\n",
              "      <th>2</th>\n",
              "      <td>Aug 17, 2017 04:30:00</td>\n",
              "      <td>4280.00</td>\n",
              "    </tr>\n",
              "    <tr>\n",
              "      <th>3</th>\n",
              "      <td>Aug 17, 2017 04:45:00</td>\n",
              "      <td>4310.07</td>\n",
              "    </tr>\n",
              "    <tr>\n",
              "      <th>4</th>\n",
              "      <td>Aug 17, 2017 05:00:00</td>\n",
              "      <td>4308.83</td>\n",
              "    </tr>\n",
              "  </tbody>\n",
              "</table>\n",
              "</div>"
            ],
            "text/plain": [
              "                    time    price\n",
              "0  Aug 17, 2017 04:00:00  4261.48\n",
              "1  Aug 17, 2017 04:15:00  4261.48\n",
              "2  Aug 17, 2017 04:30:00  4280.00\n",
              "3  Aug 17, 2017 04:45:00  4310.07\n",
              "4  Aug 17, 2017 05:00:00  4308.83"
            ]
          },
          "execution_count": 2,
          "metadata": {},
          "output_type": "execute_result"
        }
      ],
      "source": [
        "df.head()"
      ]
    },
    {
      "attachments": {},
      "cell_type": "markdown",
      "metadata": {},
      "source": [
        "### ¿Qué métodos hay para realizar predicciones en series de tiempo?\n",
        "\n",
        "- Modelos ARIMA (AutoRegressive Integrated Moving Average) que son una extensión de los modelos ARMA (AutoRegressive Moving Average) que incluyen términos de diferenciación para manejar la estacionalidad en los datos.\n",
        "\n",
        "- Modelos de procesos estocásticos, como el modelo de Holt-Winters, que se utilizan para manejar la estacionalidad y la tendencia en los datos.\n",
        "\n",
        "- Redes neuronales artificiales (RNNs), como las redes LSTM (Long Short-Term Memory) y GRU (Gated Recurrent Unit), que se utilizan para manejar secuencias de datos y pueden capturar patrones complejos en los datos.\n",
        "\n",
        "- Modelos basados en aprendizaje automático, como el XGBoost y Random Forest.\n",
        "\n",
        "- Modelos de propagación de tendencias, como el modelo de Croston, que se utilizan para predecir la frecuencia y la magnitud de los eventos con baja frecuencia."
      ]
    },
    {
      "attachments": {},
      "cell_type": "markdown",
      "metadata": {
        "id": "uhJ7mRk4gOXX"
      },
      "source": [
        "### Implementación de ARIMA en Python para predecir Bitcoin\n",
        "\n",
        "Ejemplo básico de cómo utilizar el módulo statsmodels de Python para entrenar un modelo ARIMA para predecir el precio de Bitcoin:\n",
        "\n",
        "En este ejemplo, se utiliza el conjunto de datos de precios de cierre de Bitcoin, y se entrena un modelo ARIMA con orden (2,1,2). El parámetro steps=30 indica que se desean hacer predicciones para los próximos 30 días.\n",
        "\n",
        "Ten en cuenta que los parámetros del modelo (2,1,2) son solo un ejemplo y pueden ser diferentes para tus datos. Puedes utilizar técnicas de ajuste automático de parámetros como grid search o auto-arima para determinar los parámetros óptimos para tu modelo.\n",
        "\n",
        "También es importante mencionar que para realizar una predicción en serie de tiempo con ARIMA es necesario hacer una serie de pasos previos como la estacionariedad, es decir determinar si la serie es estacionaria o no, eliminar tendencias y/o sazonalidad en caso de que existan, entre otros.\n",
        "\n"
      ]
    },
    {
      "attachments": {},
      "cell_type": "markdown",
      "metadata": {
        "id": "-GOXH5gygOXY"
      },
      "source": [
        "### ¿Cómo funciona el modelo ARIMA?\n",
        "\n",
        "ARIMA (AutoRegressive Integrated Moving Average) es un modelo estadístico utilizado para analizar y predecir series de tiempo. Funciona mediante la combinación de tres componentes:\n",
        "\n",
        "- El componente AutoRegresivo (AR) se refiere a la relación entre una observación en un punto específico en el tiempo y uno o varios puntos en el tiempo anterior. Este componente se utiliza para modelar la tendencia y la estacionalidad en los datos.\n",
        "\n",
        "- El componente Integrado (I) se refiere a la diferenciación de los datos. Esto significa que se utiliza para manejar la estacionalidad en los datos cuando la serie no es estacionaria.\n",
        "\n",
        "- El componente Moving Average (MA) se refiere a la media móvil de las observaciones de error. Este componente se utiliza para modelar la variabilidad aleatoria en los datos.\n",
        "\n",
        "En resumen el modelo ARIMA combina estos tres componentes (AutoRegresivo, Integrado y Moving Average) para generar un modelo matemático que se ajusta a los datos de entrada y se utiliza para hacer predicciones. El proceso para generar un modelo ARIMA consiste en identificar los parámetros adecuados para cada uno de los componentes (p,d,q) estos parámetros se determinan con técnicas estadísticas como el análisis de la información Akaike (AIC) o el criterio de Bayesiano de información (BIC)."
      ]
    },
    {
      "cell_type": "code",
      "execution_count": null,
      "metadata": {},
      "outputs": [],
      "source": [
        "import pandas as pd\n",
        "from statsmodels.tsa.arima_model import ARIMA\n",
        "\n",
        "# Cargar los datos de precios de Bitcoin\n",
        "df = pd.read_csv('bitcoin_prices.csv')\n",
        "\n",
        "# Crear el modelo ARIMA\n",
        "model = ARIMA(df['price'], order=(2, 1, 2))\n",
        "model_fit = model.fit()\n",
        "\n",
        "# Realizar la predicción\n",
        "predictions = model_fit.forecast(steps=30)[0]\n",
        "\n",
        "# Imprimir las predicciones\n",
        "print(predictions)"
      ]
    },
    {
      "attachments": {},
      "cell_type": "markdown",
      "metadata": {},
      "source": [
        "## Data Mining\n",
        "\n",
        "Aparte de Binance hay otras fuentes en línea donde puedes obtener el historial de precios de Bitcoin, algunas de las cuales son gratuitas y otras requieren una suscripción o una tarifa por uso:\n",
        "\n",
        "- Coinmarketcap: Ofrece una API gratuita que permite acceder a los precios históricos de cientos de criptomonedas, incluyendo Bitcoin. Puedes encontrar más información sobre cómo utilizar su API en su sitio web: https://coinmarketcap.com/api/\n",
        "\n",
        "- CryptoCompare: Ofrece una API gratuita con acceso a precios históricos de más de 7,000 activos criptográficos, incluyendo Bitcoin. Puedes encontrar más información sobre cómo utilizar su API en su sitio web: https://min-api.cryptocompare.com/\n",
        "\n",
        "- Quandl: Es una plataforma de datos financieros que ofrece acceso a una gran cantidad de datos financieros, incluyendo precios históricos de Bitcoin. Puedes utilizar su API gratuitamente con un límite de uso diario o suscribirte a un plan de pago para obtener acceso ilimitado. Más información en su sitio web: https://www.quandl.com/data/BITSTAMP-Bitstamp-Bitcoin-Exchange\n",
        "\n",
        "También puedes encontrar conjuntos de datos históricos de Bitcoin en sitios web como Kaggle o GitHub que puedes descargar y utilizar localmente en tu computadora."
      ]
    },
    {
      "cell_type": "code",
      "execution_count": 4,
      "metadata": {},
      "outputs": [
        {
          "ename": "ModuleNotFoundError",
          "evalue": "No module named 'ccxt'",
          "output_type": "error",
          "traceback": [
            "\u001b[1;31m---------------------------------------------------------------------------\u001b[0m",
            "\u001b[1;31mModuleNotFoundError\u001b[0m                       Traceback (most recent call last)",
            "\u001b[1;32m<ipython-input-4-aad996eb3541>\u001b[0m in \u001b[0;36m<module>\u001b[1;34m\u001b[0m\n\u001b[0;32m      1\u001b[0m \u001b[1;31m# pip3 install ccxt\u001b[0m\u001b[1;33m\u001b[0m\u001b[1;33m\u001b[0m\u001b[1;33m\u001b[0m\u001b[0m\n\u001b[1;32m----> 2\u001b[1;33m \u001b[1;32mimport\u001b[0m \u001b[0mccxt\u001b[0m\u001b[1;33m\u001b[0m\u001b[1;33m\u001b[0m\u001b[0m\n\u001b[0m\u001b[0;32m      3\u001b[0m \u001b[1;32mfrom\u001b[0m \u001b[0mdatetime\u001b[0m \u001b[1;32mimport\u001b[0m \u001b[0mdatetime\u001b[0m\u001b[1;33m\u001b[0m\u001b[1;33m\u001b[0m\u001b[0m\n\u001b[0;32m      4\u001b[0m \u001b[1;33m\u001b[0m\u001b[0m\n\u001b[0;32m      5\u001b[0m \u001b[1;31m# Inicializar el objeto de intercambio\u001b[0m\u001b[1;33m\u001b[0m\u001b[1;33m\u001b[0m\u001b[1;33m\u001b[0m\u001b[0m\n",
            "\u001b[1;31mModuleNotFoundError\u001b[0m: No module named 'ccxt'"
          ]
        }
      ],
      "source": [
        "# pip3 install ccxt\n",
        "import ccxt\n",
        "from datetime import datetime\n",
        "\n",
        "# Inicializar el objeto de intercambio\n",
        "exchange = ccxt.binance()\n",
        "\n",
        "# Especificar el par de trading y el periodo de tiempo\n",
        "symbol = 'BTC/USDT'\n",
        "timeframe = '1d'\n",
        "\n",
        "# Obtener el historial de precios\n",
        "start_date = int(datetime(2018, 1, 1, 10, 20).timestamp() * 1000)\n",
        "candles = exchange.fetch_ohlcv(symbol, timeframe, since=start_date, limit=None)\n",
        "# candles = exchange.get_historical_klines(\"BTCUSDT\", Client.KLINE_INTERVAL_1DAY, \"1 Jan, 2018\", \"23 Jan, 2023\")\n",
        "\n",
        "\n",
        "# Imprimir 10 primeras filas del historial de precios\n",
        "print(candles[:10])\n",
        "print(type(candles))"
      ]
    },
    {
      "cell_type": "code",
      "execution_count": null,
      "metadata": {},
      "outputs": [],
      "source": [
        "import pandas as pd\n",
        "\n",
        "# Convert array into dataFrame\n",
        "df = pd.DataFrame(candles)\n",
        "df"
      ]
    },
    {
      "attachments": {},
      "cell_type": "markdown",
      "metadata": {},
      "source": [
        "## Data Wrangling: Limpieza de datos"
      ]
    },
    {
      "cell_type": "code",
      "execution_count": null,
      "metadata": {},
      "outputs": [],
      "source": [
        "# Filter out all data except timestamp and 1st valuation (Columns #0 and #1)\n",
        "df = df[[0, 1]]\n",
        "\n",
        "# dataFrame column assignments throw warnings. We avoid them\n",
        "pd.options.mode.chained_assignment = None  # default='warn'\n",
        "\n",
        "# Rename dataFrame columns\n",
        "df.rename( columns={0 :'time'}, inplace=True)\n",
        "df.rename( columns={1 :'price'}, inplace=True)\n",
        "\n",
        "# No need to convert string to float\n",
        "# print (df.dtypes)\n",
        "# df.price = df.price.astype(float)\n",
        "print (df.dtypes)\n",
        "\n",
        "df"
      ]
    },
    {
      "attachments": {},
      "cell_type": "markdown",
      "metadata": {},
      "source": [
        "## Data Wrangling: procesando fechas (timestamps) y valores (float)"
      ]
    },
    {
      "cell_type": "code",
      "execution_count": null,
      "metadata": {},
      "outputs": [],
      "source": [
        "from datetime import datetime, timedelta\n",
        "\n",
        "# Transform timestamp into datetime format\n",
        "# timestamp resolution is millisecond (x/1000)\n",
        "# and start counting on 1970\n",
        "posix_epoch = datetime(1970, 1, 1)\n",
        "df['time'] = df['time'].apply(lambda x: posix_epoch + timedelta(seconds = x/1000))\n",
        "print(df)"
      ]
    },
    {
      "attachments": {},
      "cell_type": "markdown",
      "metadata": {},
      "source": [
        "## Creando gráfica"
      ]
    },
    {
      "cell_type": "code",
      "execution_count": null,
      "metadata": {},
      "outputs": [],
      "source": [
        "import matplotlib.pyplot as plt\n",
        "\n",
        "# Draw chart of Bitcoin price evolution\n",
        "plt.plot(df['time'], df['price'])"
      ]
    },
    {
      "attachments": {},
      "cell_type": "markdown",
      "metadata": {},
      "source": [
        "### Estableciendo la columna de tiempo como índice del dataframe\n"
      ]
    },
    {
      "cell_type": "code",
      "execution_count": null,
      "metadata": {},
      "outputs": [],
      "source": [
        "df.index = pd.DatetimeIndex(df[\"time\"])\n",
        "df = df[[\"price\"]]\n",
        "df"
      ]
    },
    {
      "cell_type": "code",
      "execution_count": null,
      "metadata": {},
      "outputs": [],
      "source": [
        "# Ahora para graficar no es necesario especificar las dos columnas, sino sólo el dataframe\n",
        "plt.plot(df)"
      ]
    },
    {
      "cell_type": "code",
      "execution_count": null,
      "metadata": {},
      "outputs": [],
      "source": [
        "#df.head()\n",
        "# Calcular el Moving Average con una ventana de 3\n",
        "df['MA_3'] = df['value'].rolling(window=3).mean()\n",
        "\n",
        "# Calcular el Moving Average con una ventana de 5\n",
        "df['MA_15'] = df['value'].rolling(window=15).mean()\n",
        "\n",
        "# Imprimir el DataFrame para verificar los cambios\n",
        "print(df)\n",
        "plot_df(df, x=df.index, y=df['MA_3'], title='MA_3')"
      ]
    }
  ],
  "metadata": {
    "colab": {
      "provenance": []
    },
    "kernelspec": {
      "display_name": "base",
      "language": "python",
      "name": "python3"
    },
    "language_info": {
      "codemirror_mode": {
        "name": "ipython",
        "version": 3
      },
      "file_extension": ".py",
      "mimetype": "text/x-python",
      "name": "python",
      "nbconvert_exporter": "python",
      "pygments_lexer": "ipython3",
      "version": "3.8.8"
    },
    "orig_nbformat": 4,
    "vscode": {
      "interpreter": {
        "hash": "5beeed5a7ffdc4b4a0108c0b3292efe9a775794c700b606d5e33717d9ba16765"
      }
    }
  },
  "nbformat": 4,
  "nbformat_minor": 0
}
