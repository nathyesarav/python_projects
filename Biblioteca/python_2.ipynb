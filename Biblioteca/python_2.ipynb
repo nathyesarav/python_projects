{
 "cells": [
  {
   "cell_type": "markdown",
   "metadata": {
    "colab_type": "text",
    "id": "985eekNn1mfL"
   },
   "source": [
    "# Práctica Independiente Python Avanzado"
   ]
  },
  {
   "cell_type": "markdown",
   "metadata": {
    "colab_type": "text",
    "id": "Z8EyHtQR1mfM"
   },
   "source": [
    "Se define una lista de diccionarios, con el que se desarrollará la práctica."
   ]
  },
  {
   "cell_type": "code",
   "execution_count": 8,
   "metadata": {
    "colab": {
     "autoexec": {
      "startup": false,
      "wait_interval": 0
     }
    },
    "colab_type": "code",
    "id": "4NasTiJc1mfN"
   },
   "outputs": [],
   "source": [
    "# Lista de diccionarios con claves \"name\", \"imdb\" y \"category\"\n",
    "\n",
    "movies = [\n",
    "    {\n",
    "    \"name\": \"Usual Suspects\", \n",
    "    \"imdb\": 7.0,\n",
    "    \"category\": \"Thriller\"\n",
    "    },\n",
    "    {\n",
    "    \"name\": \"Hitman\",\n",
    "    \"imdb\": 6.3,\n",
    "    \"category\": \"Action\"\n",
    "    },\n",
    "    {\n",
    "    \"name\": \"Dark Knight\",\n",
    "    \"imdb\": 9.0,\n",
    "    \"category\": \"Adventure\"\n",
    "    },\n",
    "    {\n",
    "    \"name\": \"The Help\",\n",
    "    \"imdb\": 8.0,\n",
    "    \"category\": \"Drama\"\n",
    "    },\n",
    "    {\n",
    "    \"name\": \"The Choice\",\n",
    "    \"imdb\": 6.2,\n",
    "    \"category\": \"Romance\"\n",
    "    },\n",
    "    {\n",
    "    \"name\": \"Colonia\",\n",
    "    \"imdb\": 7.4,\n",
    "    \"category\": \"Romance\"\n",
    "    },\n",
    "    {\n",
    "    \"name\": \"Love\",\n",
    "    \"imdb\": 6.0,\n",
    "    \"category\": \"Romance\"\n",
    "    },\n",
    "    {\n",
    "    \"name\": \"Bride Wars\",\n",
    "    \"imdb\": 5.4,\n",
    "    \"category\": \"Romance\"\n",
    "    },\n",
    "    {\n",
    "    \"name\": \"AlphaJet\",\n",
    "    \"imdb\": 3.2,\n",
    "    \"category\": \"War\"\n",
    "    },\n",
    "    {\n",
    "    \"name\": \"Ringing Crime\",\n",
    "    \"imdb\": 4.0,\n",
    "    \"category\": \"Crime\"\n",
    "    },\n",
    "    {\n",
    "    \"name\": \"Joking muck\",\n",
    "    \"imdb\": 7.2,\n",
    "    \"category\": \"Comedy\"\n",
    "    },\n",
    "    {\n",
    "    \"name\": \"What is the name\",\n",
    "    \"imdb\": 9.2,\n",
    "    \"category\": \"Suspense\"\n",
    "    },\n",
    "    {\n",
    "    \"name\": \"Detective\",\n",
    "    \"imdb\": 7.0,\n",
    "    \"category\": \"Suspense\"\n",
    "    },\n",
    "    {\n",
    "    \"name\": \"Exam\",\n",
    "    \"imdb\": 4.2,\n",
    "    \"category\": \"Thriller\"\n",
    "    },\n",
    "    {\n",
    "    \"name\": \"We Two\",\n",
    "    \"imdb\": 7.2,\n",
    "    \"category\": \"Romance\"\n",
    "    }\n",
    "]"
   ]
  },
  {
   "cell_type": "markdown",
   "metadata": {
    "colab_type": "text",
    "id": "m-P7y7-A1mfQ"
   },
   "source": [
    "### Ejercicio 1"
   ]
  },
  {
   "cell_type": "markdown",
   "metadata": {
    "colab_type": "text",
    "id": "fJ6HJbHn1mfQ"
   },
   "source": [
    "#### Escribir una función que toma una película (movie) y retorna True si su score IMDB es mayor a 5.5 y False en caso contrario"
   ]
  },
  {
   "cell_type": "code",
   "execution_count": 9,
   "metadata": {
    "colab": {
     "autoexec": {
      "startup": false,
      "wait_interval": 0
     }
    },
    "colab_type": "code",
    "id": "TbkdG4_D1mfR"
   },
   "outputs": [
    {
     "name": "stdout",
     "output_type": "stream",
     "text": [
      "True\n"
     ]
    }
   ],
   "source": [
    "def GoodMovie(movie):\n",
    "    if movie[\"imdb\"] > 5.5:\n",
    "        return True     \n",
    "    else:\n",
    "        return False\n",
    "\n",
    "print(GoodMovie(movies[0]))"
   ]
  },
  {
   "cell_type": "markdown",
   "metadata": {
    "colab_type": "text",
    "id": "kl6QfCau1mfT"
   },
   "source": [
    "### Ejercicio 2"
   ]
  },
  {
   "cell_type": "markdown",
   "metadata": {
    "colab_type": "text",
    "id": "i7XJ0fKx1mfU"
   },
   "source": [
    "#### Escribir una función que retorna la sub lista de las películas con score IMDB mayor a 5.5\n",
    "(Hint: Puede ser útil utilizar la función definida en el punto anterior)."
   ]
  },
  {
   "cell_type": "code",
   "execution_count": 29,
   "metadata": {
    "colab": {
     "autoexec": {
      "startup": false,
      "wait_interval": 0
     }
    },
    "colab_type": "code",
    "id": "Rcvs148x1mfV"
   },
   "outputs": [
    {
     "name": "stdout",
     "output_type": "stream",
     "text": [
      "[{'name': 'Usual Suspects', 'imdb': 7.0, 'category': 'Thriller'}, {'name': 'Hitman', 'imdb': 6.3, 'category': 'Action'}, {'name': 'Dark Knight', 'imdb': 9.0, 'category': 'Adventure'}, {'name': 'The Help', 'imdb': 8.0, 'category': 'Drama'}, {'name': 'The Choice', 'imdb': 6.2, 'category': 'Romance'}, {'name': 'Colonia', 'imdb': 7.4, 'category': 'Romance'}, {'name': 'Love', 'imdb': 6.0, 'category': 'Romance'}, {'name': 'Joking muck', 'imdb': 7.2, 'category': 'Comedy'}, {'name': 'What is the name', 'imdb': 9.2, 'category': 'Suspense'}, {'name': 'Detective', 'imdb': 7.0, 'category': 'Suspense'}, {'name': 'We Two', 'imdb': 7.2, 'category': 'Romance'}]\n"
     ]
    }
   ],
   "source": [
    "def GoodMoviesList():\n",
    "    subList = []\n",
    "    for i in movies:\n",
    "        if i[\"imdb\"] > 5.5:\n",
    "            subList.append(i)\n",
    "    return subList\n",
    "\n",
    "#for i in GoodMoviesList():\n",
    "#    print(i) \n",
    "\n",
    "print(GoodMoviesList())    "
   ]
  },
  {
   "cell_type": "markdown",
   "metadata": {
    "colab_type": "text",
    "id": "mHT9eoeb1mfX"
   },
   "source": [
    "### Ejercicio 3"
   ]
  },
  {
   "cell_type": "markdown",
   "metadata": {
    "colab_type": "text",
    "id": "ZzzsdAEZ1mfX"
   },
   "source": [
    "#### Escribir una función que toma el nombre de una categoría y retorna únicamente las películas que pertenecen a dicha categoría."
   ]
  },
  {
   "cell_type": "code",
   "execution_count": 32,
   "metadata": {
    "colab": {
     "autoexec": {
      "startup": false,
      "wait_interval": 0
     }
    },
    "colab_type": "code",
    "id": "fK6fdYfU1mfY"
   },
   "outputs": [
    {
     "name": "stdout",
     "output_type": "stream",
     "text": [
      "[{'name': 'The Choice', 'imdb': 6.2, 'category': 'Romance'}, {'name': 'Colonia', 'imdb': 7.4, 'category': 'Romance'}, {'name': 'Love', 'imdb': 6.0, 'category': 'Romance'}, {'name': 'Bride Wars', 'imdb': 5.4, 'category': 'Romance'}, {'name': 'We Two', 'imdb': 7.2, 'category': 'Romance'}]\n"
     ]
    }
   ],
   "source": [
    "def Category(category):\n",
    "    listCat = []\n",
    "    for i in movies:\n",
    "        if i[\"category\"] == category:\n",
    "            listCat.append(i)\n",
    "    return listCat\n",
    "\n",
    "print(Category(\"Romance\")) "
   ]
  },
  {
   "cell_type": "markdown",
   "metadata": {
    "colab_type": "text",
    "id": "RtAYosLx1mfa"
   },
   "source": [
    "### Ejercicio 4"
   ]
  },
  {
   "cell_type": "markdown",
   "metadata": {
    "colab_type": "text",
    "id": "dZV3G0kZ1mfb"
   },
   "source": [
    "#### Escribir una función que recibe una lista de películas y calcule su promedio de score IMDB"
   ]
  },
  {
   "cell_type": "code",
   "execution_count": 34,
   "metadata": {
    "colab": {
     "autoexec": {
      "startup": false,
      "wait_interval": 0
     }
    },
    "colab_type": "code",
    "id": "s73KyEDc1mfb"
   },
   "outputs": [
    {
     "name": "stdout",
     "output_type": "stream",
     "text": [
      "8.845454545454546\n"
     ]
    }
   ],
   "source": [
    "def Average(listMovies):\n",
    "    suma = 0\n",
    "    for i in movies:\n",
    "        suma = suma + i[\"imdb\"]\n",
    "    promedio = suma/len(listMovies)\n",
    "    return promedio\n",
    "print(Average(GoodMoviesList()))     "
   ]
  },
  {
   "cell_type": "markdown",
   "metadata": {
    "colab_type": "text",
    "id": "qTAaisgv1mfd"
   },
   "source": [
    "### Ejercicio 5"
   ]
  },
  {
   "cell_type": "markdown",
   "metadata": {
    "colab_type": "text",
    "id": "Ra1Y6f7r1mfe"
   },
   "source": [
    "#### BONUS: Escribir una función que recibe una categoría y computa su promedio de score IMDB\n",
    "(Hint: se pueden reutilizar funciones ya definidas)"
   ]
  },
  {
   "cell_type": "code",
   "execution_count": 36,
   "metadata": {
    "colab": {
     "autoexec": {
      "startup": false,
      "wait_interval": 0
     }
    },
    "colab_type": "code",
    "id": "RNP7bLQW1mff"
   },
   "outputs": [
    {
     "name": "stdout",
     "output_type": "stream",
     "text": [
      "97.30000000000001\n"
     ]
    }
   ],
   "source": [
    "def AverageCat(category):\n",
    "    listCat = Category(category)\n",
    "    promedio = Average(listCat) \n",
    "    return promedio\n",
    "print(AverageCat(\"Comedy\"))    "
   ]
  }
 ],
 "metadata": {
  "colab": {
   "default_view": {},
   "name": "PRÁCTICA_INDEPENDIENTE_Python.ipynb",
   "provenance": [],
   "version": "0.3.2",
   "views": {}
  },
  "kernelspec": {
   "display_name": "base",
   "language": "python",
   "name": "python3"
  },
  "language_info": {
   "codemirror_mode": {
    "name": "ipython",
    "version": 3
   },
   "file_extension": ".py",
   "mimetype": "text/x-python",
   "name": "python",
   "nbconvert_exporter": "python",
   "pygments_lexer": "ipython3",
   "version": "3.8.8"
  },
  "vscode": {
   "interpreter": {
    "hash": "5beeed5a7ffdc4b4a0108c0b3292efe9a775794c700b606d5e33717d9ba16765"
   }
  }
 },
 "nbformat": 4,
 "nbformat_minor": 1
}
