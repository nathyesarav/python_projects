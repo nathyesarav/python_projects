{
 "cells": [
  {
   "attachments": {},
   "cell_type": "markdown",
   "id": "2b0f273f",
   "metadata": {},
   "source": [
    "# Escala Logarítmica, resolución del ejercicio"
   ]
  },
  {
   "attachments": {},
   "cell_type": "markdown",
   "id": "2a005205",
   "metadata": {},
   "source": [
    "En Python, se puede calcular el logaritmo decimal de un número utilizando la función log10() del módulo math."
   ]
  },
  {
   "cell_type": "code",
   "execution_count": 9,
   "id": "6221db6f",
   "metadata": {},
   "outputs": [
    {
     "name": "stdout",
     "output_type": "stream",
     "text": [
      "0.0\n",
      "1.0\n",
      "2.0\n",
      "3.0\n",
      "4.0\n"
     ]
    }
   ],
   "source": [
    "import math\n",
    "\n",
    "log_1 = math.log10(1)\n",
    "log_10 = math.log10(10)\n",
    "log_100 = math.log10(100)\n",
    "log_1000 = math.log10(1000)\n",
    "log_10000 = math.log10(10000)\n",
    "\n",
    "print(log_1)\n",
    "print(log_10)\n",
    "print(log_100)\n",
    "print(log_1000)\n",
    "print(log_10000)"
   ]
  },
  {
   "attachments": {},
   "cell_type": "markdown",
   "id": "a468547f",
   "metadata": {},
   "source": [
    "Puedes crear un dataframe de 100 filas y 1 columna utilizando la librería Pandas. Una forma de hacerlo es generar una lista con los valores incrementales desde 1.0 hasta 10.0 con un incremento de 0.1 y luego utilizar esa lista para crear la columna \"X\" del dataframe."
   ]
  },
  {
   "cell_type": "code",
   "execution_count": 10,
   "id": "7a202d90",
   "metadata": {},
   "outputs": [
    {
     "name": "stdout",
     "output_type": "stream",
     "text": [
      "       X\n",
      "0    1.0\n",
      "1    1.1\n",
      "2    1.2\n",
      "3    1.3\n",
      "4    1.4\n",
      "..   ...\n",
      "86   9.6\n",
      "87   9.7\n",
      "88   9.8\n",
      "89   9.9\n",
      "90  10.0\n",
      "\n",
      "[91 rows x 1 columns]\n"
     ]
    }
   ],
   "source": [
    "import pandas as pd\n",
    "\n",
    "# Generar una lista con los valores incrementales desde 1.0 hasta 10.0 con un incremento de 0.1\n",
    "X = []\n",
    "for i in range(10, 101):\n",
    "    X.append(i/10)\n",
    "\n",
    "# Forma ultra compacta de hacer lo mismo\n",
    "# X = [x/10 for x in range(10, 101)]\n",
    "\n",
    "# Crear el dataframe con los valores de la lista\n",
    "df = pd.DataFrame(X, columns=[\"X\"])\n",
    "\n",
    "print(df)"
   ]
  },
  {
   "attachments": {},
   "cell_type": "markdown",
   "id": "107e7a3f",
   "metadata": {},
   "source": [
    "Para crear la columna \"Y\" con los valores calculados a partir de la fórmula especificada, puedes utilizar la siguiente línea de código:"
   ]
  },
  {
   "cell_type": "code",
   "execution_count": 11,
   "id": "04a420d5",
   "metadata": {},
   "outputs": [
    {
     "data": {
      "text/html": [
       "<div>\n",
       "<style scoped>\n",
       "    .dataframe tbody tr th:only-of-type {\n",
       "        vertical-align: middle;\n",
       "    }\n",
       "\n",
       "    .dataframe tbody tr th {\n",
       "        vertical-align: top;\n",
       "    }\n",
       "\n",
       "    .dataframe thead th {\n",
       "        text-align: right;\n",
       "    }\n",
       "</style>\n",
       "<table border=\"1\" class=\"dataframe\">\n",
       "  <thead>\n",
       "    <tr style=\"text-align: right;\">\n",
       "      <th></th>\n",
       "      <th>X</th>\n",
       "      <th>Y</th>\n",
       "    </tr>\n",
       "  </thead>\n",
       "  <tbody>\n",
       "    <tr>\n",
       "      <th>0</th>\n",
       "      <td>1.0</td>\n",
       "      <td>8.0</td>\n",
       "    </tr>\n",
       "    <tr>\n",
       "      <th>1</th>\n",
       "      <td>1.1</td>\n",
       "      <td>8.5</td>\n",
       "    </tr>\n",
       "    <tr>\n",
       "      <th>2</th>\n",
       "      <td>1.2</td>\n",
       "      <td>9.0</td>\n",
       "    </tr>\n",
       "    <tr>\n",
       "      <th>3</th>\n",
       "      <td>1.3</td>\n",
       "      <td>9.5</td>\n",
       "    </tr>\n",
       "    <tr>\n",
       "      <th>4</th>\n",
       "      <td>1.4</td>\n",
       "      <td>10.0</td>\n",
       "    </tr>\n",
       "    <tr>\n",
       "      <th>...</th>\n",
       "      <td>...</td>\n",
       "      <td>...</td>\n",
       "    </tr>\n",
       "    <tr>\n",
       "      <th>86</th>\n",
       "      <td>9.6</td>\n",
       "      <td>51.0</td>\n",
       "    </tr>\n",
       "    <tr>\n",
       "      <th>87</th>\n",
       "      <td>9.7</td>\n",
       "      <td>51.5</td>\n",
       "    </tr>\n",
       "    <tr>\n",
       "      <th>88</th>\n",
       "      <td>9.8</td>\n",
       "      <td>52.0</td>\n",
       "    </tr>\n",
       "    <tr>\n",
       "      <th>89</th>\n",
       "      <td>9.9</td>\n",
       "      <td>52.5</td>\n",
       "    </tr>\n",
       "    <tr>\n",
       "      <th>90</th>\n",
       "      <td>10.0</td>\n",
       "      <td>53.0</td>\n",
       "    </tr>\n",
       "  </tbody>\n",
       "</table>\n",
       "<p>91 rows × 2 columns</p>\n",
       "</div>"
      ],
      "text/plain": [
       "       X     Y\n",
       "0    1.0   8.0\n",
       "1    1.1   8.5\n",
       "2    1.2   9.0\n",
       "3    1.3   9.5\n",
       "4    1.4  10.0\n",
       "..   ...   ...\n",
       "86   9.6  51.0\n",
       "87   9.7  51.5\n",
       "88   9.8  52.0\n",
       "89   9.9  52.5\n",
       "90  10.0  53.0\n",
       "\n",
       "[91 rows x 2 columns]"
      ]
     },
     "execution_count": 11,
     "metadata": {},
     "output_type": "execute_result"
    }
   ],
   "source": [
    "df[\"Y\"] = 3 + 5 * df[\"X\"]\n",
    "df"
   ]
  },
  {
   "attachments": {},
   "cell_type": "markdown",
   "id": "319c2688",
   "metadata": {},
   "source": [
    "Para crear la columna \"log10Y\" con los valores del logaritmo decimal de la columna \"Y\", puedes utilizar la función log10() del módulo math de la siguiente manera:"
   ]
  },
  {
   "cell_type": "code",
   "execution_count": 12,
   "id": "857ce8d6",
   "metadata": {},
   "outputs": [
    {
     "data": {
      "text/html": [
       "<div>\n",
       "<style scoped>\n",
       "    .dataframe tbody tr th:only-of-type {\n",
       "        vertical-align: middle;\n",
       "    }\n",
       "\n",
       "    .dataframe tbody tr th {\n",
       "        vertical-align: top;\n",
       "    }\n",
       "\n",
       "    .dataframe thead th {\n",
       "        text-align: right;\n",
       "    }\n",
       "</style>\n",
       "<table border=\"1\" class=\"dataframe\">\n",
       "  <thead>\n",
       "    <tr style=\"text-align: right;\">\n",
       "      <th></th>\n",
       "      <th>X</th>\n",
       "      <th>Y</th>\n",
       "      <th>log10Y</th>\n",
       "    </tr>\n",
       "  </thead>\n",
       "  <tbody>\n",
       "    <tr>\n",
       "      <th>0</th>\n",
       "      <td>1.0</td>\n",
       "      <td>8.0</td>\n",
       "      <td>0.903090</td>\n",
       "    </tr>\n",
       "    <tr>\n",
       "      <th>1</th>\n",
       "      <td>1.1</td>\n",
       "      <td>8.5</td>\n",
       "      <td>0.929419</td>\n",
       "    </tr>\n",
       "    <tr>\n",
       "      <th>2</th>\n",
       "      <td>1.2</td>\n",
       "      <td>9.0</td>\n",
       "      <td>0.954243</td>\n",
       "    </tr>\n",
       "    <tr>\n",
       "      <th>3</th>\n",
       "      <td>1.3</td>\n",
       "      <td>9.5</td>\n",
       "      <td>0.977724</td>\n",
       "    </tr>\n",
       "    <tr>\n",
       "      <th>4</th>\n",
       "      <td>1.4</td>\n",
       "      <td>10.0</td>\n",
       "      <td>1.000000</td>\n",
       "    </tr>\n",
       "    <tr>\n",
       "      <th>...</th>\n",
       "      <td>...</td>\n",
       "      <td>...</td>\n",
       "      <td>...</td>\n",
       "    </tr>\n",
       "    <tr>\n",
       "      <th>86</th>\n",
       "      <td>9.6</td>\n",
       "      <td>51.0</td>\n",
       "      <td>1.707570</td>\n",
       "    </tr>\n",
       "    <tr>\n",
       "      <th>87</th>\n",
       "      <td>9.7</td>\n",
       "      <td>51.5</td>\n",
       "      <td>1.711807</td>\n",
       "    </tr>\n",
       "    <tr>\n",
       "      <th>88</th>\n",
       "      <td>9.8</td>\n",
       "      <td>52.0</td>\n",
       "      <td>1.716003</td>\n",
       "    </tr>\n",
       "    <tr>\n",
       "      <th>89</th>\n",
       "      <td>9.9</td>\n",
       "      <td>52.5</td>\n",
       "      <td>1.720159</td>\n",
       "    </tr>\n",
       "    <tr>\n",
       "      <th>90</th>\n",
       "      <td>10.0</td>\n",
       "      <td>53.0</td>\n",
       "      <td>1.724276</td>\n",
       "    </tr>\n",
       "  </tbody>\n",
       "</table>\n",
       "<p>91 rows × 3 columns</p>\n",
       "</div>"
      ],
      "text/plain": [
       "       X     Y    log10Y\n",
       "0    1.0   8.0  0.903090\n",
       "1    1.1   8.5  0.929419\n",
       "2    1.2   9.0  0.954243\n",
       "3    1.3   9.5  0.977724\n",
       "4    1.4  10.0  1.000000\n",
       "..   ...   ...       ...\n",
       "86   9.6  51.0  1.707570\n",
       "87   9.7  51.5  1.711807\n",
       "88   9.8  52.0  1.716003\n",
       "89   9.9  52.5  1.720159\n",
       "90  10.0  53.0  1.724276\n",
       "\n",
       "[91 rows x 3 columns]"
      ]
     },
     "execution_count": 12,
     "metadata": {},
     "output_type": "execute_result"
    }
   ],
   "source": [
    "import math\n",
    "\n",
    "df[\"log10Y\"] = df[\"Y\"].apply(lambda x: math.log10(x))\n",
    "\n",
    "df"
   ]
  },
  {
   "attachments": {},
   "cell_type": "markdown",
   "id": "da032b16",
   "metadata": {},
   "source": [
    "La función apply() de pandas es utilizada para aplicar una función a cada elemento de una columna específica del dataframe. En este caso, se está utilizando la función lambda dentro de apply() para aplicar la función math.log10() a cada valor de la columna \"Y\" y almacenar el resultado en una nueva columna \"log10Y\".\n",
    "\n",
    "La función lambda es una función anónima que se utiliza para crear funciones pequeñas y simples de una sola línea. Esta función se utiliza para crear una función que toma un argumento (en este caso, el valor de una celda de la columna \"Y\") y devuelve el resultado de aplicar la función math.log10() a ese argumento.\n",
    "\n",
    "Se podría haber usado otra función como def para definir la función a aplicar pero lambda es más conciso, ya que permite definir una función en una sola línea de código. Además de esto, lambda funciones son más eficientes en tiempo de ejecución y espacio en comparación con las funciones definidas con def."
   ]
  },
  {
   "attachments": {},
   "cell_type": "markdown",
   "id": "4da2586b",
   "metadata": {},
   "source": [
    "Para representar gráficamente la columna \"Y\" en función de la columna \"X\" puedes utilizar la librería de gráficos de Python, Matplotlib y su función scatter()."
   ]
  },
  {
   "cell_type": "code",
   "execution_count": 13,
   "id": "2d417f87",
   "metadata": {},
   "outputs": [
    {
     "data": {
      "image/png": "[encoded data removed]",
      "text/plain": [
       "<Figure size 640x480 with 1 Axes>"
      ]
     },
     "metadata": {},
     "output_type": "display_data"
    }
   ],
   "source": [
    "import matplotlib.pyplot as plt\n",
    "\n",
    "plt.scatter(df[\"X\"], df[\"Y\"])\n",
    "plt.xlabel(\"X\")\n",
    "plt.ylabel(\"Y\")\n",
    "plt.title(\"Gráfico de dispersión Y vs X\")\n",
    "plt.show()"
   ]
  },
  {
   "attachments": {},
   "cell_type": "markdown",
   "id": "275a86c1",
   "metadata": {},
   "source": [
    "La función scatter() toma dos argumentos, los valores de las coordenadas x e y, en este caso se están pasando las columnas \"X\" y \"Y\" del dataframe.\n",
    "\n",
    "La función xlabel() y ylabel() se usan para dar nombre al eje x y al eje y respectivamente.\n",
    "\n",
    "La función title() se usa para dar un título al gráfico.\n",
    "\n",
    "La función show() es utilizada para mostrar el gráfico en pantalla."
   ]
  },
  {
   "cell_type": "code",
   "execution_count": 14,
   "id": "ca2107d7",
   "metadata": {},
   "outputs": [
    {
     "data": {
      "image/png": "[encoded data removed]",
      "text/plain": [
       "<Figure size 640x480 with 1 Axes>"
      ]
     },
     "metadata": {},
     "output_type": "display_data"
    }
   ],
   "source": [
    "plt.scatter(df[\"X\"], df[\"log10Y\"])\n",
    "plt.xlabel(\"X\")\n",
    "plt.ylabel(\"log10(Y)\")\n",
    "plt.title(\"Gráfico de dispersión log10(Y) vs X\")\n",
    "plt.show()"
   ]
  },
  {
   "attachments": {},
   "cell_type": "markdown",
   "id": "8be4eb7b",
   "metadata": {},
   "source": [
    "Para utilizar un eje Y en escala logarítmica, emplea la función set_yscale() con el argumento \"log\" al objeto axes del gráfico."
   ]
  },
  {
   "cell_type": "code",
   "execution_count": 15,
   "id": "0ad400b1",
   "metadata": {},
   "outputs": [
    {
     "data": {
      "image/png": "[encoded data removed]",
      "text/plain": [
       "<Figure size 640x480 with 1 Axes>"
      ]
     },
     "metadata": {},
     "output_type": "display_data"
    }
   ],
   "source": [
    "fig, ax = plt.subplots()\n",
    "ax.scatter(df[\"X\"], df[\"Y\"])\n",
    "ax.set_xlabel(\"X\")\n",
    "ax.set_ylabel(\"Y\")\n",
    "ax.set_title(\"Gráfico de dispersión Y vs X en escala logarítmica\")\n",
    "ax.set_yscale(\"log\")\n",
    "plt.show()"
   ]
  },
  {
   "attachments": {},
   "cell_type": "markdown",
   "id": "3a087478",
   "metadata": {},
   "source": [
    "La función subplots() se utiliza para crear una figura y un eje de coordenadas (objeto \"ax\"). El eje de coordenadas lo necesitarás para aplicarle la función set_yscale().\n",
    "\n",
    "La función set_yscale(\"log\") se utiliza para establecer la escala en el eje Y como logarítmica."
   ]
  }
 ],
 "metadata": {
  "kernelspec": {
   "display_name": "Python 3",
   "language": "python",
   "name": "python3"
  },
  "language_info": {
   "codemirror_mode": {
    "name": "ipython",
    "version": 3
   },
   "file_extension": ".py",
   "mimetype": "text/x-python",
   "name": "python",
   "nbconvert_exporter": "python",
   "pygments_lexer": "ipython3",
   "version": "3.9.5"
  },
  "vscode": {
   "interpreter": {
    "hash": "2e242e6b8c453217117083c6680e6db82176874e34559806b32fd7417ddae620"
   }
  }
 },
 "nbformat": 4,
 "nbformat_minor": 5
}
