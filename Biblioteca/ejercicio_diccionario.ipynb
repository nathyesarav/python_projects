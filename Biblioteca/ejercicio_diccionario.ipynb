{
 "cells": [
  {
   "attachments": {},
   "cell_type": "markdown",
   "id": "19259af0",
   "metadata": {},
   "source": [
    "## Ejercicio Diccionario"
   ]
  },
  {
   "cell_type": "code",
   "execution_count": 4,
   "id": "cd9dad03",
   "metadata": {},
   "outputs": [
    {
     "name": "stdout",
     "output_type": "stream",
     "text": [
      "n 25\n",
      "{'producto de los 8 primeros números': 40320}\n"
     ]
    }
   ],
   "source": [
    "# Con un número entero n dado, escribir un programa para generar un diccionario que contenga:(i, i*i) tal que sea un número entero entre 1 y n (ambos incluidos). \n",
    "# Escribir el diccionario en pantalla (Ejem: si se escribe 8, la salida debería ser: {1: 1, 2: 4, 3: 9, 4: 16, 5: 25, 6: 36, 7: 49, 8: 64}\n",
    "n = int(input(\"Ingrese un número: \"))\n",
    "#print(f\"El diccionario del número es  {n * n}\")\n",
    "# Inicializo el diccionario vacío:\n",
    "diccionario = {}\n",
    "# Calculo el producto de los 8 primeros números\n",
    "producto = 1\n",
    "for i in range(1, 9):\n",
    "    producto *= i\n",
    "#print(f\"El diccionario del número es  {n * n}\")    \n",
    "print(f\"n {n * n}\")\n",
    "# Agrego el resultado al diccionario con una clave descriptiva\n",
    "diccionario['producto de los 8 primeros números'] = producto\n",
    "# Imprimir el diccionario para verificar su contenido\n",
    "print(diccionario)"
   ]
  },
  {
   "attachments": {},
   "cell_type": "markdown",
   "id": "4a6c82b8",
   "metadata": {},
   "source": [
    "### Convertir dict en dataframe\n",
    "Para convertir un diccionario en un DataFrame de pandas, puede utilizar el método pd.DataFrame.from_dict(). Este método toma como argumento el diccionario que desea convertir y, opcionalmente, especifica cómo se deben interpretar las claves y los valores del diccionario. Ejemplo:"
   ]
  },
  {
   "cell_type": "code",
   "execution_count": 1,
   "id": "70866b01",
   "metadata": {},
   "outputs": [
    {
     "name": "stdout",
     "output_type": "stream",
     "text": [
      "      name  age         city\n",
      "0    Alice   25     New York\n",
      "1      Bob   32  Los Angeles\n",
      "2  Charlie   19      Chicago\n"
     ]
    }
   ],
   "source": [
    "import pandas as pd\n",
    "data = {'name': ['Alice', 'Bob', 'Charlie'],\n",
    "        'age': [25, 32, 19],\n",
    "        'city': ['New York', 'Los Angeles', 'Chicago']}\n",
    "\n",
    "df = pd.DataFrame.from_dict(data)\n",
    "print(df)\n",
    "\n",
    "data = pd.Series([0.25, 0.5, 0.75, 1.0],\n",
    "                 index=['a', 'b', 'c', 'd'])\n",
    "data\n",
    "\n",
    "# Esto generaría un DataFrame con las columnas 'name',\n",
    "# 'age' y 'city' y las filas correspondientes a las entradas del diccionario."
   ]
  },
  {
   "attachments": {},
   "cell_type": "markdown",
   "id": "fa53b6a7",
   "metadata": {},
   "source": [
    "Otra forma de hacerlo es:"
   ]
  },
  {
   "cell_type": "code",
   "execution_count": 2,
   "id": "d8264058",
   "metadata": {},
   "outputs": [
    {
     "name": "stdout",
     "output_type": "stream",
     "text": [
      "             A            B        C\n",
      "name     Alice          Bob  Charlie\n",
      "age         25           32       19\n",
      "city  New York  Los Angeles  Chicago\n"
     ]
    }
   ],
   "source": [
    "import pandas as pd\n",
    "\n",
    "data = {'name': ['Alice', 'Bob', 'Charlie'],\n",
    "        'age': [25, 32, 19],\n",
    "        'city': ['New York', 'Los Angeles', 'Chicago']}\n",
    "\n",
    "df = pd.DataFrame.from_dict(data, orient='index', columns=['A','B','C'])\n",
    "print(df)\n",
    "# Esto generaria un DataFrame con las columnas 'A','B','C' y\n",
    "# las filas correspondientes a las claves del diccionario."
   ]
  },
  {
   "attachments": {},
   "cell_type": "markdown",
   "id": "a017e041",
   "metadata": {},
   "source": [
    "***\n",
    "\n",
    "## Obtener la media de las columnas de un dataframe\n",
    "\n",
    "En Pandas, puedes utilizar el método mean() del dataframe. Este método devuelve un nuevo dataframe con las medias de cada columna.\n",
    "\n",
    "Puedes utilizar el método mean() en una columna específica del dataframe si deseas obtener la media solo de esa columna. Por ejemplo, si tienes una columna llamada \"valor\" en el dataframe, puedes obtener su media de la siguiente manera:\n",
    "\n",
    "mean_valor = df[\"valor\"].mean()\n",
    "\n",
    "Si quieres obtener la media de todas las columnas numericas, puedes utilizar el método mean() en el dataframe sin especificar ninguna columna.\n",
    "\n",
    "mean_df = df.mean()"
   ]
  },
  {
   "cell_type": "code",
   "execution_count": 4,
   "id": "67556c5d",
   "metadata": {},
   "outputs": [
    {
     "name": "stdout",
     "output_type": "stream",
     "text": [
      "   col_1  col_2  col_3  col_4  col_5\n",
      "0      1      6     11     16     21\n",
      "1      2      7     12     17     22\n",
      "2      3      8     13     18     23\n",
      "3      4      9     14     19     24\n",
      "4      5     10     15     20     25\n"
     ]
    },
    {
     "data": {
      "text/plain": [
       "col_1     3.0\n",
       "col_2     8.0\n",
       "col_3    13.0\n",
       "col_4    18.0\n",
       "col_5    23.0\n",
       "dtype: float64"
      ]
     },
     "execution_count": 4,
     "metadata": {},
     "output_type": "execute_result"
    }
   ],
   "source": [
    "# Ejemplo de dataframe numérico de 5 columnas\n",
    "\n",
    "# Crear un diccionario con los datos\n",
    "data = {'col_1': [1, 2, 3, 4, 5],\n",
    "        'col_2': [6, 7, 8, 9, 10],\n",
    "        'col_3': [11, 12, 13, 14, 15],\n",
    "        'col_4': [16, 17, 18, 19, 20],\n",
    "        'col_5': [21, 22, 23, 24, 25]}\n",
    "\n",
    "# Crear el dataframe\n",
    "df = pd.DataFrame(data)\n",
    "\n",
    "# Mostrar el dataframe\n",
    "print(df)\n",
    "\n",
    "mean_df = df.mean()\n",
    "mean_df"
   ]
  },
  {
   "attachments": {},
   "cell_type": "markdown",
   "id": "0500ec79",
   "metadata": {},
   "source": [
    "## Obtener la media de las filas de un dataframe\n",
    "\n",
    "Para obtener la media de las filas de un dataframe en Pandas, puedes utilizar el método mean(axis=1) en el dataframe. El parámetro axis=1 indica que se deben calcular las medias en las filas en lugar de en las columnas."
   ]
  },
  {
   "cell_type": "code",
   "execution_count": 5,
   "id": "b3c83c01",
   "metadata": {},
   "outputs": [
    {
     "data": {
      "text/plain": [
       "0    11.0\n",
       "1    12.0\n",
       "2    13.0\n",
       "3    14.0\n",
       "4    15.0\n",
       "dtype: float64"
      ]
     },
     "execution_count": 5,
     "metadata": {},
     "output_type": "execute_result"
    }
   ],
   "source": [
    "mean_df = df.mean(axis=1)\n",
    "mean_df"
   ]
  },
  {
   "cell_type": "code",
   "execution_count": 6,
   "id": "34252ed1",
   "metadata": {},
   "outputs": [
    {
     "data": {
      "text/html": [
       "<div>\n",
       "<style scoped>\n",
       "    .dataframe tbody tr th:only-of-type {\n",
       "        vertical-align: middle;\n",
       "    }\n",
       "\n",
       "    .dataframe tbody tr th {\n",
       "        vertical-align: top;\n",
       "    }\n",
       "\n",
       "    .dataframe thead th {\n",
       "        text-align: right;\n",
       "    }\n",
       "</style>\n",
       "<table border=\"1\" class=\"dataframe\">\n",
       "  <thead>\n",
       "    <tr style=\"text-align: right;\">\n",
       "      <th></th>\n",
       "      <th>col_1</th>\n",
       "      <th>col_2</th>\n",
       "      <th>col_3</th>\n",
       "      <th>col_4</th>\n",
       "      <th>col_5</th>\n",
       "      <th>media</th>\n",
       "    </tr>\n",
       "  </thead>\n",
       "  <tbody>\n",
       "    <tr>\n",
       "      <th>0</th>\n",
       "      <td>1</td>\n",
       "      <td>6</td>\n",
       "      <td>11</td>\n",
       "      <td>16</td>\n",
       "      <td>21</td>\n",
       "      <td>11.0</td>\n",
       "    </tr>\n",
       "    <tr>\n",
       "      <th>1</th>\n",
       "      <td>2</td>\n",
       "      <td>7</td>\n",
       "      <td>12</td>\n",
       "      <td>17</td>\n",
       "      <td>22</td>\n",
       "      <td>12.0</td>\n",
       "    </tr>\n",
       "    <tr>\n",
       "      <th>2</th>\n",
       "      <td>3</td>\n",
       "      <td>8</td>\n",
       "      <td>13</td>\n",
       "      <td>18</td>\n",
       "      <td>23</td>\n",
       "      <td>13.0</td>\n",
       "    </tr>\n",
       "    <tr>\n",
       "      <th>3</th>\n",
       "      <td>4</td>\n",
       "      <td>9</td>\n",
       "      <td>14</td>\n",
       "      <td>19</td>\n",
       "      <td>24</td>\n",
       "      <td>14.0</td>\n",
       "    </tr>\n",
       "    <tr>\n",
       "      <th>4</th>\n",
       "      <td>5</td>\n",
       "      <td>10</td>\n",
       "      <td>15</td>\n",
       "      <td>20</td>\n",
       "      <td>25</td>\n",
       "      <td>15.0</td>\n",
       "    </tr>\n",
       "  </tbody>\n",
       "</table>\n",
       "</div>"
      ],
      "text/plain": [
       "   col_1  col_2  col_3  col_4  col_5  media\n",
       "0      1      6     11     16     21   11.0\n",
       "1      2      7     12     17     22   12.0\n",
       "2      3      8     13     18     23   13.0\n",
       "3      4      9     14     19     24   14.0\n",
       "4      5     10     15     20     25   15.0"
      ]
     },
     "execution_count": 6,
     "metadata": {},
     "output_type": "execute_result"
    }
   ],
   "source": [
    "# Agregar la media como una última columna añadida\n",
    "df[\"media\"] = df.mean(axis=1)\n",
    "df"
   ]
  }
 ],
 "metadata": {
  "kernelspec": {
   "display_name": "Python 3",
   "language": "python",
   "name": "python3"
  },
  "language_info": {
   "codemirror_mode": {
    "name": "ipython",
    "version": 3
   },
   "file_extension": ".py",
   "mimetype": "text/x-python",
   "name": "python",
   "nbconvert_exporter": "python",
   "pygments_lexer": "ipython3",
   "version": "3.9.5"
  },
  "vscode": {
   "interpreter": {
    "hash": "2e242e6b8c453217117083c6680e6db82176874e34559806b32fd7417ddae620"
   }
  }
 },
 "nbformat": 4,
 "nbformat_minor": 5
}
