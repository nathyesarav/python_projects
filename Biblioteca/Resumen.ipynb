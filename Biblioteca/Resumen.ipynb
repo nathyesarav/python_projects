{
 "cells": [
  {
   "attachments": {},
   "cell_type": "markdown",
   "metadata": {},
   "source": [
    "## Conceptos"
   ]
  },
  {
   "attachments": {},
   "cell_type": "markdown",
   "metadata": {},
   "source": [
    "### JSON\n",
    "\n",
    "JSON (JavaScript Object Notation) es un formato ligero basado en texto que se utiliza para el intercambio de datos.\n",
    "\n",
    "A menudo se usa para transmitir datos entre un servidor y una aplicación web, así como para almacenar e intercambiar datos en una variedad de lenguajes de programación.\n",
    "\n",
    "JSON está diseñado para que sea fácil de leer y escribir tanto para humanos como para máquinas. Utiliza una sintaxis simple que consta de pares clave-valor, con tipos de datos que incluyen cadenas, números, booleanos, matrices y objetos.\n",
    "\n",
    "Ejemplo de un objeto JSON:\n",
    "\n",
    "```json\n",
    "{\n",
    "  \"name\": \"John Smith\",\n",
    "  \"age\": 32,\n",
    "  \"isEmployed\": true,\n",
    "  \"hobbies\": [\"reading\", \"swimming\", \"traveling\"],\n",
    "  \"address\": {\n",
    "    \"street\": \"123 Main St\",\n",
    "    \"city\": \"Anytown\",\n",
    "    \"state\": \"CA\",\n",
    "    \"zip\": \"12345\"\n",
    "  }\n",
    "}\n",
    "```\n"
   ]
  },
  {
   "attachments": {},
   "cell_type": "markdown",
   "metadata": {},
   "source": [
    "***\n",
    "\n",
    "### NLP\n",
    "\n",
    "El procesamiento del lenguaje natural (NLP, por sus siglas en inglés) es una rama de la inteligencia artificial que se enfoca en la interacción entre los seres humanos y los sistemas computacionales mediante el uso del lenguaje natural.\n",
    "\n",
    "El NLP se encarga de desarrollar técnicas y algoritmos que permiten a las computadoras entender, interpretar y generar lenguaje humano. Algunas de las aplicaciones prácticas del NLP incluyen la traducción automática, la extracción de información, la generación de resúmenes, la identificación de sentimientos y emociones en el lenguaje, y la interacción de voz con sistemas inteligentes.\n",
    "\n",
    "Mira esto: https://medium.com/cloudcraftz/detailed-nlp-basics-with-hands-on-implementation-in-python-part-1-7397d1136e59"
   ]
  },
  {
   "attachments": {},
   "cell_type": "markdown",
   "metadata": {},
   "source": [
    "***\n",
    "\n",
    "### Stopwords\n",
    "\n",
    "Las stopwords (palabras vacías, en español) son palabras que se consideran comunes y que generalmente no aportan mucho significado en el análisis de texto. Estas palabras incluyen artículos, conjunciones, preposiciones y otros términos que se utilizan con frecuencia en el lenguaje cotidiano.\n",
    "\n",
    "Algunos ejemplos de stopwords en español son: \"el\", \"la\", \"los\", \"las\", \"un\", \"una\", \"y\", \"o\", \"de\", \"en\", \"a\", \"con\", \"para\", \"por\", entre otras.\n",
    "\n",
    "En el análisis de texto, es común eliminar las stopwords antes de realizar ciertas tareas, como la extracción de características (feature extraction) o la generación de resúmenes, ya que al eliminar estas palabras se puede reducir el ruido y enfocarse en las palabras más relevantes del texto. "
   ]
  },
  {
   "attachments": {},
   "cell_type": "markdown",
   "metadata": {},
   "source": [
    "***\n",
    "\n",
    "### Vectorización\n",
    "\n",
    "La vectorización en data science es el proceso de convertir datos no estructurados o de alta dimensionalidad en vectores numéricos de menor dimensión, que son más fáciles de analizar y procesar por los algoritmos de aprendizaje automático.\n",
    "\n",
    "En el procesamiento del lenguaje natural, por ejemplo, la vectorización se utiliza para convertir el texto en vectores numéricos. Esto se hace asignando un valor numérico a cada palabra o término del texto y creando un vector para cada documento o texto que representa la frecuencia o la importancia de cada término en ese texto. Estos vectores se pueden utilizar para entrenar modelos de aprendizaje automático, como la clasificación de texto o la generación de resúmenes.\n",
    "\n",
    "En otras áreas de data science, como el análisis de imágenes o el procesamiento de señales, la vectorización se utiliza para transformar datos complejos en vectores numéricos. Por ejemplo, en el análisis de imágenes, se pueden extraer características de una imagen y convertirlas en vectores para entrenar modelos de clasificación o detección de objetos.\n",
    "\n",
    "Mira esto: https://thinkingneuron.com/how-to-classify-text-using-word2vec\n",
    "\n",
    "Nota: los **word embeddings** son una técnica de representación de palabras que permite asignar a cada palabra un vector numérico de baja dimensión que captura el significado semántico de la palabra en un contexto específico. Los word embeddings se basan en el concepto de que las palabras que aparecen en contextos similares tienen significados similares, y se entrenan a partir de grandes cantidades de texto utilizando técnicas de aprendizaje automático, como las redes neuronales."
   ]
  },
  {
   "attachments": {},
   "cell_type": "markdown",
   "metadata": {},
   "source": [
    "***\n",
    "\n",
    "### Conceptos relacionados con NLP:\n",
    "\n",
    "- Tokenización: es el proceso de dividir un texto en unidades significativas llamadas tokens. Estos tokens pueden ser palabras individuales, signos de puntuación, números, etc. La tokenización es un paso esencial en el procesamiento del lenguaje natural, ya que permite que el texto se convierta en una forma procesable por la computadora.\n",
    "\n",
    "- Bag of words: es una técnica de representación de texto que consiste en construir un modelo que ignora el orden de las palabras en el texto y solo cuenta la frecuencia de cada palabra en el documento. Esto se conoce como \"bolsa de palabras\" porque es como si se hubieran mezclado todas las palabras en una bolsa y se contara cuántas veces aparece cada una.\n",
    "\n",
    "- TF-IDF: es una técnica de ponderación de términos que se utiliza comúnmente en el análisis de texto. TF-IDF significa \"Term Frequency-Inverse Document Frequency\" y se utiliza para evaluar la importancia de una palabra en un documento. La frecuencia del término (TF) es la frecuencia con la que aparece una palabra en un documento. La frecuencia inversa del documento (IDF) mide la rareza de una palabra en un corpus de documentos. El peso TF-IDF de una palabra es el producto de su frecuencia en el documento y la frecuencia inversa del documento, lo que permite identificar las palabras que son importantes para un documento específico en relación con el corpus más amplio.\n",
    "\n",
    "- Stemming: es el proceso de reducir una palabra a su forma base o raíz, eliminando los sufijos y prefijos. Esto se hace para reducir la complejidad del vocabulario y agrupar las palabras que tienen un significado similar.\n",
    "\n",
    "- Lematización: es un proceso similar al stemming, pero en lugar de reducir una palabra a su forma base, lo que hace es convertir la palabra a su forma canónica o lemma. Por ejemplo, la lematización convertiría las palabras \"corriendo\", \"corrió\" y \"corre\" a su forma canónica \"correr\".\n",
    "\n",
    "- Stopwords: como se mencionó anteriormente, son palabras comunes que generalmente no aportan mucho significado en el análisis de texto y se pueden eliminar para reducir el ruido en el análisis.\n",
    "\n",
    "- N-gramas: son secuencias de N palabras contiguas en un texto. Por ejemplo, un bigrama es una secuencia de dos palabras contiguas, mientras que un trigrama es una secuencia de tres palabras contiguas. Los n-gramas se utilizan en el análisis de texto para capturar información sobre la estructura del lenguaje y las relaciones entre las palabras.\n",
    "\n",
    "- Bag of n-grams: es una extensión del modelo de bag of words que utiliza n-gramas en lugar de palabras individuales. Esto permite capturar información sobre la estructura del lenguaje y las relaciones entre las palabras.\n",
    "\n",
    "- Word2vec: es una técnica de aprendizaje automático utilizada para generar word embeddings, es decir, vectores numéricos que representan palabras en un espacio semántico. Word2vec utiliza una red neuronal para entrenar un modelo que puede predecir las palabras que aparecen en un contexto dado.\n",
    "\n",
    "- GloVe: es otra técnica para generar word embeddings que se basa en la matriz de co-ocurrencia de palabras en un corpus de texto. GloVe utiliza un enfoque de factorización de matriz para generar vectores numéricos que representan palabras en un espacio semántico."
   ]
  },
  {
   "attachments": {},
   "cell_type": "markdown",
   "metadata": {},
   "source": [
    "***\n",
    "\n",
    "### SQL\n",
    "\n",
    "SQL significa \"Structured Query Language\" (Lenguaje de Consulta Estructurada) y se utiliza para interactuar con bases de datos relacionales. Permite a los usuarios consultar, insertar, actualizar y eliminar datos de una base de datos, así como definir la estructura de la base de datos, crear tablas y establecer relaciones entre ellas.\n",
    "\n",
    "SQL es un lenguaje ampliamente utilizado en el mundo empresarial y es una habilidad importante para los profesionales de la tecnología de la información y los analistas de datos. Es compatible con la mayoría de los sistemas de gestión de bases de datos relacionales, incluyendo MySQL, Oracle y Microsoft SQL Server."
   ]
  },
  {
   "attachments": {},
   "cell_type": "markdown",
   "metadata": {},
   "source": [
    "***\n",
    "\n",
    "### Dataframe Pivot_Table\n",
    "\n",
    "pd.pivot_table es una función de la librería Pandas de Python que permite crear tablas dinámicas a partir de un dataframe. Una tabla dinámica es una herramienta de análisis de datos que permite resumir, agrupar y analizar información de una tabla de datos en diferentes dimensiones.\n",
    "\n",
    "En particular, pd.pivot_table permite crear una tabla dinámica a partir de un dataframe, especificando cuál columna se utilizará para los índices, cuál columna se utilizará para las columnas y cuál columna se utilizará para los valores a agregarse. Además, se pueden especificar diferentes opciones de agregación, como sumar, contar, calcular el promedio, entre otras.\n",
    "\n",
    "La función pd.pivot_table toma como entrada los siguientes argumentos:\n",
    "\n",
    "- data: el dataframe de origen.\n",
    "\n",
    "- values: la columna del dataframe que se utilizará para los valores a agregarse.\n",
    "\n",
    "- index: la columna del dataframe que se utilizará para los índices de la tabla dinámica.\n",
    "\n",
    "- columns: la columna del dataframe que se utilizará para las columnas de la tabla dinámica.\n",
    "\n",
    "- aggfunc: la función de agregación que se utilizará para los valores a agregarse.\n",
    "\n",
    "Supongamos que tenemos un dataframe llamado ventas que contiene información sobre las ventas de una tienda por departamento en diferentes días y categorías de productos. Podemos crear una tabla dinámica para obtener el total de ventas diarias por categoría de producto de la siguiente manera:"
   ]
  },
  {
   "cell_type": "code",
   "execution_count": 35,
   "metadata": {},
   "outputs": [
    {
     "data": {
      "text/html": [
       "<div>\n",
       "<style scoped>\n",
       "    .dataframe tbody tr th:only-of-type {\n",
       "        vertical-align: middle;\n",
       "    }\n",
       "\n",
       "    .dataframe tbody tr th {\n",
       "        vertical-align: top;\n",
       "    }\n",
       "\n",
       "    .dataframe thead th {\n",
       "        text-align: right;\n",
       "    }\n",
       "</style>\n",
       "<table border=\"1\" class=\"dataframe\">\n",
       "  <thead>\n",
       "    <tr style=\"text-align: right;\">\n",
       "      <th></th>\n",
       "      <th>fecha</th>\n",
       "      <th>categoria</th>\n",
       "      <th>ventas</th>\n",
       "    </tr>\n",
       "  </thead>\n",
       "  <tbody>\n",
       "    <tr>\n",
       "      <th>0</th>\n",
       "      <td>2022-01-01</td>\n",
       "      <td>ropa</td>\n",
       "      <td>100</td>\n",
       "    </tr>\n",
       "    <tr>\n",
       "      <th>1</th>\n",
       "      <td>2022-01-01</td>\n",
       "      <td>accesorios</td>\n",
       "      <td>50</td>\n",
       "    </tr>\n",
       "    <tr>\n",
       "      <th>2</th>\n",
       "      <td>2022-01-02</td>\n",
       "      <td>ropa</td>\n",
       "      <td>75</td>\n",
       "    </tr>\n",
       "    <tr>\n",
       "      <th>3</th>\n",
       "      <td>2022-01-02</td>\n",
       "      <td>accesorios</td>\n",
       "      <td>30</td>\n",
       "    </tr>\n",
       "    <tr>\n",
       "      <th>4</th>\n",
       "      <td>2022-01-03</td>\n",
       "      <td>ropa</td>\n",
       "      <td>90</td>\n",
       "    </tr>\n",
       "    <tr>\n",
       "      <th>5</th>\n",
       "      <td>2022-01-03</td>\n",
       "      <td>accesorios</td>\n",
       "      <td>40</td>\n",
       "    </tr>\n",
       "  </tbody>\n",
       "</table>\n",
       "</div>"
      ],
      "text/plain": [
       "        fecha   categoria  ventas\n",
       "0  2022-01-01        ropa     100\n",
       "1  2022-01-01  accesorios      50\n",
       "2  2022-01-02        ropa      75\n",
       "3  2022-01-02  accesorios      30\n",
       "4  2022-01-03        ropa      90\n",
       "5  2022-01-03  accesorios      40"
      ]
     },
     "execution_count": 35,
     "metadata": {},
     "output_type": "execute_result"
    }
   ],
   "source": [
    "import pandas as pd\n",
    "# Creamos el dataframe de ejemplo\n",
    "ventas = pd.DataFrame({'fecha': ['2022-01-01', '2022-01-01', '2022-01-02', '2022-01-02', '2022-01-03', '2022-01-03'],\n",
    "                       'categoria': ['ropa', 'accesorios', 'ropa', 'accesorios', 'ropa', 'accesorios'],\n",
    "                       'ventas': [100, 50, 75, 30, 90, 40]})\n",
    "ventas"
   ]
  },
  {
   "cell_type": "code",
   "execution_count": 36,
   "metadata": {},
   "outputs": [
    {
     "data": {
      "text/html": [
       "<div>\n",
       "<style scoped>\n",
       "    .dataframe tbody tr th:only-of-type {\n",
       "        vertical-align: middle;\n",
       "    }\n",
       "\n",
       "    .dataframe tbody tr th {\n",
       "        vertical-align: top;\n",
       "    }\n",
       "\n",
       "    .dataframe thead th {\n",
       "        text-align: right;\n",
       "    }\n",
       "</style>\n",
       "<table border=\"1\" class=\"dataframe\">\n",
       "  <thead>\n",
       "    <tr style=\"text-align: right;\">\n",
       "      <th>categoria</th>\n",
       "      <th>accesorios</th>\n",
       "      <th>ropa</th>\n",
       "    </tr>\n",
       "    <tr>\n",
       "      <th>fecha</th>\n",
       "      <th></th>\n",
       "      <th></th>\n",
       "    </tr>\n",
       "  </thead>\n",
       "  <tbody>\n",
       "    <tr>\n",
       "      <th>2022-01-01</th>\n",
       "      <td>50</td>\n",
       "      <td>100</td>\n",
       "    </tr>\n",
       "    <tr>\n",
       "      <th>2022-01-02</th>\n",
       "      <td>30</td>\n",
       "      <td>75</td>\n",
       "    </tr>\n",
       "    <tr>\n",
       "      <th>2022-01-03</th>\n",
       "      <td>40</td>\n",
       "      <td>90</td>\n",
       "    </tr>\n",
       "  </tbody>\n",
       "</table>\n",
       "</div>"
      ],
      "text/plain": [
       "categoria   accesorios  ropa\n",
       "fecha                       \n",
       "2022-01-01          50   100\n",
       "2022-01-02          30    75\n",
       "2022-01-03          40    90"
      ]
     },
     "execution_count": 36,
     "metadata": {},
     "output_type": "execute_result"
    }
   ],
   "source": [
    "# Creamos la tabla dinámica con pivot_table\n",
    "tabla_dinamica = pd.pivot_table(ventas, values='ventas', index='fecha', columns='categoria', aggfunc=sum)\n",
    "# Mostramos la tabla dinámica resultante\n",
    "tabla_dinamica"
   ]
  },
  {
   "attachments": {},
   "cell_type": "markdown",
   "metadata": {},
   "source": [
    "***\n",
    "\n",
    "### Diferencia entre append y extend en Pandas\n",
    "\n",
    "En Pandas, append se utilizan para agregar filas a un DataFrame existente. Sin embargo, extend sólo existe para listas de Python, no en dataframes de Pandas."
   ]
  },
  {
   "cell_type": "code",
   "execution_count": 37,
   "metadata": {},
   "outputs": [],
   "source": [
    "import pandas as pd\n",
    "# Creamos un DataFrame vacío con dos columnas\n",
    "df = pd.DataFrame(columns=['Nombre', 'Edad'])\n",
    "# Creamos una nueva fila como un diccionario\n",
    "new_row = {'Nombre': 'Juan', 'Edad': 30}"
   ]
  },
  {
   "attachments": {},
   "cell_type": "markdown",
   "metadata": {},
   "source": [
    "append agrega una fila al DataFrame existente. Por ejemplo, si tienes un DataFrame df y deseas agregar una nueva fila new_row a la parte inferior del DataFrame, puedes usar el método append de la siguiente manera:"
   ]
  },
  {
   "cell_type": "code",
   "execution_count": 38,
   "metadata": {},
   "outputs": [
    {
     "name": "stderr",
     "output_type": "stream",
     "text": [
      "/tmp/ipykernel_250321/1056892896.py:2: FutureWarning: The frame.append method is deprecated and will be removed from pandas in a future version. Use pandas.concat instead.\n",
      "  df = df.append(new_row, ignore_index=True) # Can only append a dict if ignore_index=True\n"
     ]
    },
    {
     "data": {
      "text/html": [
       "<div>\n",
       "<style scoped>\n",
       "    .dataframe tbody tr th:only-of-type {\n",
       "        vertical-align: middle;\n",
       "    }\n",
       "\n",
       "    .dataframe tbody tr th {\n",
       "        vertical-align: top;\n",
       "    }\n",
       "\n",
       "    .dataframe thead th {\n",
       "        text-align: right;\n",
       "    }\n",
       "</style>\n",
       "<table border=\"1\" class=\"dataframe\">\n",
       "  <thead>\n",
       "    <tr style=\"text-align: right;\">\n",
       "      <th></th>\n",
       "      <th>Nombre</th>\n",
       "      <th>Edad</th>\n",
       "    </tr>\n",
       "  </thead>\n",
       "  <tbody>\n",
       "    <tr>\n",
       "      <th>0</th>\n",
       "      <td>Juan</td>\n",
       "      <td>30</td>\n",
       "    </tr>\n",
       "  </tbody>\n",
       "</table>\n",
       "</div>"
      ],
      "text/plain": [
       "  Nombre Edad\n",
       "0   Juan   30"
      ]
     },
     "execution_count": 38,
     "metadata": {},
     "output_type": "execute_result"
    }
   ],
   "source": [
    "# Usamos la función append para agregar la nueva fila al DataFrame\n",
    "df = df.append(new_row, ignore_index=True) # Can only append a dict if ignore_index=True\n",
    "df"
   ]
  },
  {
   "attachments": {},
   "cell_type": "markdown",
   "metadata": {},
   "source": [
    "Aquí, new_row debe ser un objeto tipo Series o DataFrame que tenga las mismas columnas que el DataFrame df, o bien un diccionario, como en el ejemplo.\n",
    "En Pandas, extend no funciona:"
   ]
  },
  {
   "cell_type": "code",
   "execution_count": 39,
   "metadata": {},
   "outputs": [],
   "source": [
    "# df = df.extend(another_dataframe)\n",
    "# Produce el error \"DataFrame object has no attribute 'extend'\""
   ]
  },
  {
   "attachments": {},
   "cell_type": "markdown",
   "metadata": {},
   "source": [
    "El error \"DataFrame object has no attribute 'extend'\" ocurre cuando intentas utilizar el método extend() en un objeto DataFrame de pandas. Esto se debe a que el método extend() es propio de los objetos de tipo lista en Python y no está disponible para los objetos DataFrame."
   ]
  },
  {
   "attachments": {},
   "cell_type": "markdown",
   "metadata": {},
   "source": [
    "***\n",
    "\n",
    "### Álgebra lineal, producto escalar y norma\n",
    "\n",
    "El **álgebra lineal** es una rama de las matemáticas que se enfoca en el estudio de los **vectores** y las **matrices**, y cómo se relacionan entre sí. Uno de los conceptos fundamentales del álgebra lineal es el producto escalar.\n",
    "\n",
    "El **producto escalar**, también conocido como producto punto, es una operación binaria que toma dos vectores y devuelve un escalar. Se denota con el símbolo \"·\" o \"<,>\" y se define de la siguiente manera para dos vectores $\\mathbf{v}=(v_1,v_2,\\ldots,v_n)$ y $\\mathbf{w}=(w_1,w_2,\\ldots,w_n)$:\n",
    "\n",
    "$$\\mathbf{v}\\cdot\\mathbf{w} = \\sum_{i=1}^n v_iw_i = v_1w_1 + v_2w_2 + \\cdots + v_nw_n$$\n",
    "\n",
    "El producto escalar se puede utilizar para calcular la longitud o **norma** de un vector.\n",
    "\n",
    "La **norma de un vector** es una medida de su longitud o magnitud. La norma se define como la raíz cuadrada del producto escalar del vector consigo mismo. Se denota como $|\\mathbf{v}|$ y se calcula de la siguiente manera:\n",
    "\n",
    "$$|\\mathbf{v}| = \\sqrt{\\mathbf{v}\\cdot\\mathbf{v}} = \\sqrt{\\sum_{i=1}^n v_i^2}$$\n",
    "\n",
    "La norma de un vector es siempre un número positivo y representa la distancia del vector desde el origen del espacio vectorial hasta su punto final. La norma también se utiliza para definir la distancia entre dos vectores, lo que se conoce como **la distancia euclidiana**.\n",
    "\n",
    "Por tanto recordemos que el producto escalar es una operación que toma dos vectores y devuelve un escalar, mientras que la norma es una medida de la longitud de un vector y se puede calcular utilizando el producto escalar."
   ]
  },
  {
   "cell_type": "code",
   "execution_count": 40,
   "metadata": {},
   "outputs": [],
   "source": [
    "# Calculemos la distancia del coseno entro dos elementos vectorizados, Juan y Diego\n",
    "Juan = [5,4,4]\n",
    "Diego = [4,5,5]"
   ]
  },
  {
   "cell_type": "code",
   "execution_count": 41,
   "metadata": {},
   "outputs": [
    {
     "data": {
      "text/plain": [
       "array([[1.        , 0.97823198],\n",
       "       [0.97823198, 1.        ]])"
      ]
     },
     "execution_count": 41,
     "metadata": {},
     "output_type": "execute_result"
    }
   ],
   "source": [
    "# Usando skLearn\n",
    "from sklearn.metrics.pairwise import cosine_similarity\n",
    "\n",
    "cosine_similarity([Juan, Diego])"
   ]
  },
  {
   "cell_type": "code",
   "execution_count": 42,
   "metadata": {},
   "outputs": [
    {
     "data": {
      "text/plain": [
       "0.9782319760890369"
      ]
     },
     "execution_count": 42,
     "metadata": {},
     "output_type": "execute_result"
    }
   ],
   "source": [
    "# Usando álgebra lineal\n",
    "import numpy as np\n",
    "\n",
    "# En numpy el producto escalar lo da el método np.dot\n",
    "# y la norma, np.linalg.norm\n",
    "np.dot(Juan,Diego)/np.dot(np.linalg.norm(Juan), np.linalg.norm(Diego))"
   ]
  },
  {
   "cell_type": "code",
   "execution_count": null,
   "metadata": {},
   "outputs": [],
   "source": [
    "# vector normalizado\n",
    "v = [1, 0]\n",
    "norma de v = 1\n",
    "\n",
    "# vector no normalizado\n",
    "w = [2, 0]\n",
    "norma de w = sqrt(2**2 + 0**2) = sqrt(4) = 2\n",
    "\n",
    "w2 = [0.8, 0]\n",
    "norma de w2 < 1"
   ]
  },
  {
   "attachments": {},
   "cell_type": "markdown",
   "metadata": {},
   "source": [
    "### Lenguaje R"
   ]
  },
  {
   "cell_type": "code",
   "execution_count": null,
   "metadata": {},
   "outputs": [],
   "source": [
    "# Crear dataframe con los datos X = [1, 2, 3, 4, 5, 6] e Y = [10, 4, 1, 2, 5, 11]\n",
    "datos <- data.frame(X = c(1, 2, 3, 4, 5, 6), Y = c(10, 4, 1, 2, 5, 11))\n",
    "\n",
    "# Dibujar con la función nativa de R\n",
    "plot(datos)\n",
    "\n",
    "# Dibujar con la librería ggplot2\n",
    "library(ggplot2)\n",
    "ggplot(data = datos) + geom_point(aes(x = X, y = Y))"
   ]
  },
  {
   "cell_type": "code",
   "execution_count": 29,
   "metadata": {},
   "outputs": [
    {
     "data": {
      "text/html": [
       "<div>\n",
       "<style scoped>\n",
       "    .dataframe tbody tr th:only-of-type {\n",
       "        vertical-align: middle;\n",
       "    }\n",
       "\n",
       "    .dataframe tbody tr th {\n",
       "        vertical-align: top;\n",
       "    }\n",
       "\n",
       "    .dataframe thead th {\n",
       "        text-align: right;\n",
       "    }\n",
       "</style>\n",
       "<table border=\"1\" class=\"dataframe\">\n",
       "  <thead>\n",
       "    <tr style=\"text-align: right;\">\n",
       "      <th></th>\n",
       "      <th>customerID</th>\n",
       "      <th>InvoiceNo</th>\n",
       "      <th>Description</th>\n",
       "    </tr>\n",
       "  </thead>\n",
       "  <tbody>\n",
       "    <tr>\n",
       "      <th>0</th>\n",
       "      <td>Luis</td>\n",
       "      <td>Fact001</td>\n",
       "      <td>Lápiz</td>\n",
       "    </tr>\n",
       "    <tr>\n",
       "      <th>1</th>\n",
       "      <td>José</td>\n",
       "      <td>Fact002</td>\n",
       "      <td>Papel</td>\n",
       "    </tr>\n",
       "    <tr>\n",
       "      <th>2</th>\n",
       "      <td>María</td>\n",
       "      <td>Fact003</td>\n",
       "      <td>Cartón</td>\n",
       "    </tr>\n",
       "    <tr>\n",
       "      <th>3</th>\n",
       "      <td>Luis</td>\n",
       "      <td>Fact001</td>\n",
       "      <td>Bolígrafo</td>\n",
       "    </tr>\n",
       "    <tr>\n",
       "      <th>4</th>\n",
       "      <td>José</td>\n",
       "      <td>Fact002</td>\n",
       "      <td>Pegatinas</td>\n",
       "    </tr>\n",
       "    <tr>\n",
       "      <th>5</th>\n",
       "      <td>María</td>\n",
       "      <td>Fact003</td>\n",
       "      <td>Grapas</td>\n",
       "    </tr>\n",
       "    <tr>\n",
       "      <th>6</th>\n",
       "      <td>Luis</td>\n",
       "      <td>Fact001</td>\n",
       "      <td>Regla</td>\n",
       "    </tr>\n",
       "    <tr>\n",
       "      <th>7</th>\n",
       "      <td>José</td>\n",
       "      <td>Fact002</td>\n",
       "      <td>Celo</td>\n",
       "    </tr>\n",
       "    <tr>\n",
       "      <th>8</th>\n",
       "      <td>María</td>\n",
       "      <td>Fact003</td>\n",
       "      <td>Adhesivo</td>\n",
       "    </tr>\n",
       "  </tbody>\n",
       "</table>\n",
       "</div>"
      ],
      "text/plain": [
       "  customerID InvoiceNo Description\n",
       "0       Luis   Fact001       Lápiz\n",
       "1       José   Fact002       Papel\n",
       "2      María   Fact003      Cartón\n",
       "3       Luis   Fact001   Bolígrafo\n",
       "4       José   Fact002   Pegatinas\n",
       "5      María   Fact003      Grapas\n",
       "6       Luis   Fact001       Regla\n",
       "7       José   Fact002        Celo\n",
       "8      María   Fact003    Adhesivo"
      ]
     },
     "execution_count": 29,
     "metadata": {},
     "output_type": "execute_result"
    }
   ],
   "source": [
    "import pandas as pd\n",
    "df = pd.DataFrame(\n",
    "    {\"customerID\": [\"Luis\", \"José\", \"María\", \"Luis\", \"José\", \"María\", \"Luis\", \"José\", \"María\"]\n",
    "    , \"InvoiceNo\": [\"Fact001\", \"Fact002\", \"Fact003\", \"Fact001\", \"Fact002\", \"Fact003\", \"Fact001\", \"Fact002\", \"Fact003\"]\n",
    "    , \"Description\": [\"Lápiz\", \"Papel\", \"Cartón\", \"Bolígrafo\", \"Pegatinas\", \"Grapas\", \"Regla\", \"Celo\", \"Adhesivo\"]\n",
    "    }\n",
    "    )\n",
    "df"
   ]
  },
  {
   "cell_type": "code",
   "execution_count": 17,
   "metadata": {},
   "outputs": [
    {
     "data": {
      "text/html": [
       "<div>\n",
       "<style scoped>\n",
       "    .dataframe tbody tr th:only-of-type {\n",
       "        vertical-align: middle;\n",
       "    }\n",
       "\n",
       "    .dataframe tbody tr th {\n",
       "        vertical-align: top;\n",
       "    }\n",
       "\n",
       "    .dataframe thead th {\n",
       "        text-align: right;\n",
       "    }\n",
       "</style>\n",
       "<table border=\"1\" class=\"dataframe\">\n",
       "  <thead>\n",
       "    <tr style=\"text-align: right;\">\n",
       "      <th></th>\n",
       "      <th>customerID</th>\n",
       "      <th>Description</th>\n",
       "    </tr>\n",
       "    <tr>\n",
       "      <th>InvoiceNo</th>\n",
       "      <th></th>\n",
       "      <th></th>\n",
       "    </tr>\n",
       "  </thead>\n",
       "  <tbody>\n",
       "    <tr>\n",
       "      <th>Fact001</th>\n",
       "      <td>[Luis]</td>\n",
       "      <td>[Lápiz, Bolígrafo, Regla]</td>\n",
       "    </tr>\n",
       "    <tr>\n",
       "      <th>Fact002</th>\n",
       "      <td>[José]</td>\n",
       "      <td>[Papel, Pegatinas, Celo]</td>\n",
       "    </tr>\n",
       "    <tr>\n",
       "      <th>Fact003</th>\n",
       "      <td>[María]</td>\n",
       "      <td>[Cartón, Grapas, Adhesivo]</td>\n",
       "    </tr>\n",
       "  </tbody>\n",
       "</table>\n",
       "</div>"
      ],
      "text/plain": [
       "          customerID                 Description\n",
       "InvoiceNo                                       \n",
       "Fact001       [Luis]   [Lápiz, Bolígrafo, Regla]\n",
       "Fact002       [José]    [Papel, Pegatinas, Celo]\n",
       "Fact003      [María]  [Cartón, Grapas, Adhesivo]"
      ]
     },
     "execution_count": 17,
     "metadata": {},
     "output_type": "execute_result"
    }
   ],
   "source": [
    "compras_agrupada = df.groupby('InvoiceNo').aggregate(lambda x: x.unique().tolist())\n",
    "compras_agrupada"
   ]
  },
  {
   "cell_type": "code",
   "execution_count": 18,
   "metadata": {},
   "outputs": [
    {
     "data": {
      "text/html": [
       "<div>\n",
       "<style scoped>\n",
       "    .dataframe tbody tr th:only-of-type {\n",
       "        vertical-align: middle;\n",
       "    }\n",
       "\n",
       "    .dataframe tbody tr th {\n",
       "        vertical-align: top;\n",
       "    }\n",
       "\n",
       "    .dataframe thead th {\n",
       "        text-align: right;\n",
       "    }\n",
       "</style>\n",
       "<table border=\"1\" class=\"dataframe\">\n",
       "  <thead>\n",
       "    <tr style=\"text-align: right;\">\n",
       "      <th></th>\n",
       "      <th>Description</th>\n",
       "    </tr>\n",
       "    <tr>\n",
       "      <th>InvoiceNo</th>\n",
       "      <th></th>\n",
       "    </tr>\n",
       "  </thead>\n",
       "  <tbody>\n",
       "    <tr>\n",
       "      <th>Fact001</th>\n",
       "      <td>[Lápiz, Bolígrafo, Regla]</td>\n",
       "    </tr>\n",
       "    <tr>\n",
       "      <th>Fact002</th>\n",
       "      <td>[Papel, Pegatinas, Celo]</td>\n",
       "    </tr>\n",
       "    <tr>\n",
       "      <th>Fact003</th>\n",
       "      <td>[Cartón, Grapas, Adhesivo]</td>\n",
       "    </tr>\n",
       "  </tbody>\n",
       "</table>\n",
       "</div>"
      ],
      "text/plain": [
       "                          Description\n",
       "InvoiceNo                            \n",
       "Fact001     [Lápiz, Bolígrafo, Regla]\n",
       "Fact002      [Papel, Pegatinas, Celo]\n",
       "Fact003    [Cartón, Grapas, Adhesivo]"
      ]
     },
     "execution_count": 18,
     "metadata": {},
     "output_type": "execute_result"
    }
   ],
   "source": [
    "compras_agrupada = compras_agrupada.drop(['customerID'], axis=1)\n",
    "compras_agrupada"
   ]
  },
  {
   "cell_type": "code",
   "execution_count": 20,
   "metadata": {},
   "outputs": [
    {
     "data": {
      "text/html": [
       "<div>\n",
       "<style scoped>\n",
       "    .dataframe tbody tr th:only-of-type {\n",
       "        vertical-align: middle;\n",
       "    }\n",
       "\n",
       "    .dataframe tbody tr th {\n",
       "        vertical-align: top;\n",
       "    }\n",
       "\n",
       "    .dataframe thead th {\n",
       "        text-align: right;\n",
       "    }\n",
       "</style>\n",
       "<table border=\"1\" class=\"dataframe\">\n",
       "  <thead>\n",
       "    <tr style=\"text-align: right;\">\n",
       "      <th></th>\n",
       "      <th>Description</th>\n",
       "    </tr>\n",
       "    <tr>\n",
       "      <th>InvoiceNo</th>\n",
       "      <th></th>\n",
       "    </tr>\n",
       "  </thead>\n",
       "  <tbody>\n",
       "    <tr>\n",
       "      <th>Fact001</th>\n",
       "      <td>[Lápiz, Bolígrafo, Regla]</td>\n",
       "    </tr>\n",
       "    <tr>\n",
       "      <th>Fact002</th>\n",
       "      <td>[Papel, Pegatinas, Celo]</td>\n",
       "    </tr>\n",
       "    <tr>\n",
       "      <th>Fact003</th>\n",
       "      <td>[Cartón, Grapas, Adhesivo]</td>\n",
       "    </tr>\n",
       "  </tbody>\n",
       "</table>\n",
       "</div>"
      ],
      "text/plain": [
       "                          Description\n",
       "InvoiceNo                            \n",
       "Fact001     [Lápiz, Bolígrafo, Regla]\n",
       "Fact002      [Papel, Pegatinas, Celo]\n",
       "Fact003    [Cartón, Grapas, Adhesivo]"
      ]
     },
     "execution_count": 20,
     "metadata": {},
     "output_type": "execute_result"
    }
   ],
   "source": [
    "compras = pd.DataFrame(compras_agrupada)\n",
    "compras"
   ]
  },
  {
   "cell_type": "code",
   "execution_count": 28,
   "metadata": {},
   "outputs": [
    {
     "data": {
      "text/plain": [
       "[[['Lápiz', 'Bolígrafo', 'Regla']],\n",
       " [['Papel', 'Pegatinas', 'Celo']],\n",
       " [['Cartón', 'Grapas', 'Adhesivo']]]"
      ]
     },
     "execution_count": 28,
     "metadata": {},
     "output_type": "execute_result"
    }
   ],
   "source": [
    "compras.to_numpy().tolist()"
   ]
  },
  {
   "cell_type": "code",
   "execution_count": 26,
   "metadata": {},
   "outputs": [
    {
     "data": {
      "text/plain": [
       "array([[list(['Lápiz', 'Bolígrafo', 'Regla'])],\n",
       "       [list(['Papel', 'Pegatinas', 'Celo'])],\n",
       "       [list(['Cartón', 'Grapas', 'Adhesivo'])]], dtype=object)"
      ]
     },
     "execution_count": 26,
     "metadata": {},
     "output_type": "execute_result"
    }
   ],
   "source": [
    "compras.to_numpy()"
   ]
  },
  {
   "cell_type": "code",
   "execution_count": null,
   "metadata": {},
   "outputs": [],
   "source": [
    "df = df.drop(['customerID'], axis=1)\n",
    "compras_group = df.groupby(['InvoiceNo']).sum()\n",
    "# Crear una nueva columna \"palabras_separadas\" utilizando la función str.split()\n",
    "compras_group['Descripciones'] = compras_group['Description'].str.split(pat='(?=[A-Z])')\n",
    "# Elimino la columna Description\n",
    "compras_group = compras_group.drop(['Description'], axis=1)\n",
    "# Elimino el primer espacio vacío\n",
    "compras_group['Descripciones'] = compras_group['Descripciones'].apply(lambda x: x[1:])\n",
    "compras_group\n",
    "compras = pd.DataFrame(compras_group)\n",
    "compras.to_numpy().tolist()"
   ]
  },
  {
   "cell_type": "code",
   "execution_count": null,
   "metadata": {},
   "outputs": [],
   "source": [
    "prueba = data.drop(['CustomerID','StockCode','Quantity', 'UnitPrice', 'Country', 'venta_total', 'Date'], axis=1)\n",
    "compras = prueba.groupby(['InvoiceNo']).sum()\n",
    "# Crear una nueva columna \"palabras_separadas\" utilizando la función str.split()\n",
    "compras['cesta'] = compras['Description'].str.split(pat='(?=[a-z])')\n",
    "# Elimino la columna Description\n",
    "compras = compras.drop(['Description'], axis=1)\n",
    "compras\n",
    "#lista_compras = pd.DataFrame(compras)\n",
    "lista_compras.to_numpy().tolist()"
   ]
  },
  {
   "cell_type": "code",
   "execution_count": 30,
   "metadata": {},
   "outputs": [
    {
     "name": "stdout",
     "output_type": "stream",
     "text": [
      "[['Papel', 'Pegatinas', 'Celo'], ['Lápiz', 'Bolígrafo', 'Regla'], ['Cartón', 'Grapas', 'Adhesivo']]\n"
     ]
    }
   ],
   "source": [
    "import pandas as pd\n",
    "df = pd.DataFrame(\n",
    "    {\"customerID\": [\"Luis\", \"José\", \"María\", \"Luis\", \"José\", \"María\", \"Luis\", \"José\", \"María\"],\n",
    "     \"InvoiceNo\": [\"Fact001\", \"Fact002\", \"Fact003\", \"Fact001\", \"Fact002\", \"Fact003\", \"Fact001\", \"Fact002\", \"Fact003\"],\n",
    "     \"Description\": [\"Lápiz\", \"Papel\", \"Cartón\", \"Bolígrafo\", \"Pegatinas\", \"Grapas\", \"Regla\", \"Celo\", \"Adhesivo\"]\n",
    "    }\n",
    ")\n",
    "# Agrupar por customerID y combinar las descripciones de ventas en una lista\n",
    "grouped_df = df.groupby(\"customerID\")[\"Description\"].agg(list)\n",
    "# Convertir el resultado en una lista de listas\n",
    "result = grouped_df.tolist()\n",
    "print(result)\n"
   ]
  }
 ],
 "metadata": {
  "kernelspec": {
   "display_name": "Python 3",
   "language": "python",
   "name": "python3"
  },
  "language_info": {
   "codemirror_mode": {
    "name": "ipython",
    "version": 3
   },
   "file_extension": ".py",
   "mimetype": "text/x-python",
   "name": "python",
   "nbconvert_exporter": "python",
   "pygments_lexer": "ipython3",
   "version": "3.8.8"
  },
  "orig_nbformat": 4,
  "vscode": {
   "interpreter": {
    "hash": "916dbcbb3f70747c44a77c7bcd40155683ae19c65e1c03b4aa3499c5328201f1"
   }
  }
 },
 "nbformat": 4,
 "nbformat_minor": 2
}
