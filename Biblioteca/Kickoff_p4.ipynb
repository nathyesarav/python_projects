{
 "cells": [
  {
   "attachments": {},
   "cell_type": "markdown",
   "metadata": {},
   "source": [
    "### Kickoff"
   ]
  },
  {
   "attachments": {},
   "cell_type": "markdown",
   "metadata": {},
   "source": [
    "Un Sistema de Recomendación es un programa o software que crea recomendaciones de productos, servicios, información o contenido a los usuarios, basado en sus preferencias y comportamientos previos (visitar, comprar, dar like, ...)\n",
    "- Netflix usa sistemas de referencia para recomendar películas o programas de televisión para usuarios individuales que probablemente los vean. \n",
    "- Amazon usa sistemas de recomendación para predecir y mostrar una lista de productos que es probable que el cliente compre. \n",
    "- Pandora usa sistemas de recomendación de música para sus oyentes.\n",
    "![](netflix.jpg)\n",
    "\n",
    "Algunos datos reales: En Netflix se recomiendan 2/3 de las películas vistas. En Google, las recomendaciones de noticias mejoraron la tasa de clics (CTR) en un 38%. Para Amazon, el 35% de las ventas provienen de recomendaciones.\n",
    "Mediante análisis de datos y aprendizaje automático el sistema determina qué productos (items) son más relevantes para un usuario en particular y recomendarlos en consecuencia.\n",
    "\n",
    "Hay principalmente 3 tipos de sistemas de recomendación:\n",
    "1. los basados en contenido (**Content-based**), que utilizan la descripción/atributos de los productos para hacer recomendaciones por su similitud.\n",
    "![](Content-based-filtering-vs-Collaborative-filtering-Source.png)\n",
    "2. los sistemas de filtrado colaborativo por usuario (**User-based collaborative filtering**), que buscan usuarios similares (en su cesta de compra) y listan sus items preferidos (comprados).\n",
    "3. los sistemas de filtrado colaborativo por producto (**Item-Based Collaborative Filtering**), que buscan productos similares (en su historial de compradores).\n",
    "![](itemVSuser.jpg)\n",
    "Los sistemas de recomendación se utilizan en sitios web de comercio electrónico (Amazon) y en plataformas de entretenimiento en línea (YouTube) y redes sociales (Instagram). Su objetivo es hacer fácil al usuario encontrar lo que más le puede interesar.\n",
    "\n",
    "Ejercicio:\n",
    "![image.png](attachment:image.png)\n",
    "\n",
    "***\n",
    "Model-based\n",
    "En realidad, hay un dos tipos más de sistemas de recomendación que se usan menos y son más difíciles de implementar: híbridos y model-based:\n",
    "- La falta de diversidad en las recomendaciones se resuelve mediante sistemas **híbridos** (collaborative filtering + content-based) que suman las recomendaciones de los dos sistemas.\n",
    "- En los **sistemas de recomendación model-based**, el modelo matemático se entrena con datos históricos de interacciones de los usuarios con los elementos para encontrar patrones y relaciones entre ellos. Estos sistemas son capaces de manejar grandes conjuntos de datos y hacer recomendaciones personalizadas para usuarios individuales en función de sus preferencias y comportamientos pasados, **sin tener en cuenta la existencia de otros productos y de otros usuarios de la plataforma**.\n",
    "![](model-hybrid.png)\n",
    "***\n",
    "Proyecto 4\n",
    "La empresa XYZ se dedica a la fabricación y venta en línea de productos para regalos en cualquier ocasión. Está buscando un Data Scientist para implementar un plan estratégico con el que impulsar las ventas entre sus clientes actuales. En el proceso de selección del que tú eres un candidato, se propone la siguiente prueba técnica: Desarrollar un análisis estadístico para identificar los clientes más potenciales, los productos más consumidos y los meses de mayor frecuencia de compra. Construir un sistema de recomendación de productos según el historial del cliente. Y crear un modelo de detección de bundles.\n",
    "\n",
    "Objetivos (Especificaciones del desarrollo)\n",
    "1. Informe de contexto del dataset: productos más vendidos, países con más ventas, horarios pico, etc.\n",
    "2. Representar gráficamente productos y beneficios por compra.\n",
    "![](scatter-ventas.png)\n",
    "\n",
    "2. Obtener 10 productos recomendados (con su descripción) para los usuarios de una plataforma de comercio electrónico.\n",
    "3. Obtener recomendaciones de **bundles** definidos por los patrones de compra de los usuarios.\n",
    "\n",
    "DataSet: Disponemos del fichero OnlineRetail.csv (datos anonimizados) que contiene las compras realizadas por los usuarios, así como los parámetros esenciales del producto adquirido.\n",
    "\n",
    "Hints: Explorar los datos y realizar **limpieza de registros incompletos**. Visualizar valores faltantes con la librería **missingno**\n",
    "![](graph-missingno.png)"
   ]
  },
  {
   "attachments": {},
   "cell_type": "markdown",
   "metadata": {},
   "source": [
    "2. Construir un mapa que muestre número de compras totales por país y otro con número de compras relativas (per capita) por país.\n",
    "![](mapa.png)\n",
    "3. Analizar los horarios y calendarios de compra, mediante histogramas y estacionalidad.\n",
    "![](ventas-por-meses.png)\n",
    "![](pieChart.png)\n",
    "5. Crear la **User to User Similarity Matrix** mediante la **distancia del coseno** con la librería sklearn\n",
    "![](An-example-of-user-similarity-matrix-of-k-RRI.png)\n",
    "![](pivot-table.png)"
   ]
  }
 ],
 "metadata": {
  "language_info": {
   "name": "python"
  },
  "orig_nbformat": 4
 },
 "nbformat": 4,
 "nbformat_minor": 2
}
