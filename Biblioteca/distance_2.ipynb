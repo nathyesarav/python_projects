{
 "cells": [
  {
   "cell_type": "code",
   "execution_count": 1,
   "metadata": {},
   "outputs": [
    {
     "name": "stdout",
     "output_type": "stream",
     "text": [
      "Requirement already satisfied: levenshtein in c:\\users\\n_sar\\appdata\\local\\programs\\python\\python39\\lib\\site-packages (0.20.9)Note: you may need to restart the kernel to use updated packages.\n"
     ]
    },
    {
     "name": "stderr",
     "output_type": "stream",
     "text": [
      "WARNING: You are using pip version 21.1.1; however, version 23.0 is available.\n",
      "You should consider upgrading via the 'c:\\Users\\n_sar\\AppData\\Local\\Programs\\Python\\Python39\\python.exe -m pip install --upgrade pip' command.\n"
     ]
    },
    {
     "name": "stdout",
     "output_type": "stream",
     "text": [
      "\n",
      "Requirement already satisfied: rapidfuzz<3.0.0,>=2.3.0 in c:\\users\\n_sar\\appdata\\local\\programs\\python\\python39\\lib\\site-packages (from levenshtein) (2.13.7)\n"
     ]
    }
   ],
   "source": [
    "pip install levenshtein"
   ]
  },
  {
   "cell_type": "code",
   "execution_count": 2,
   "metadata": {},
   "outputs": [
    {
     "name": "stdout",
     "output_type": "stream",
     "text": [
      "0 1 2 3 4 5 \n",
      "1 0 0 0 0 0 \n",
      "2 0 0 0 0 0 \n",
      "3 0 0 0 0 0 \n",
      "4 0 0 0 0 0 \n",
      "5 0 0 0 0 0 \n"
     ]
    },
    {
     "data": {
      "text/plain": [
       "0"
      ]
     },
     "execution_count": 2,
     "metadata": {},
     "output_type": "execute_result"
    }
   ],
   "source": [
    "import numpy\n",
    "\n",
    "def levenshteinDistanceDP(token1, token2):\n",
    "    distances = numpy.zeros((len(token1) + 1, len(token2) + 1))\n",
    "\n",
    "    for t1 in range(len(token1) + 1):\n",
    "        distances[t1][0] = t1\n",
    "\n",
    "    for t2 in range(len(token2) + 1):\n",
    "        distances[0][t2] = t2\n",
    "        \n",
    "    printDistances(distances, len(token1), len(token2))\n",
    "    return 0\n",
    "\n",
    "def printDistances(distances, token1Length, token2Length):\n",
    "    for t1 in range(token1Length + 1):\n",
    "        for t2 in range(token2Length + 1):\n",
    "            print(int(distances[t1][t2]), end=\" \")\n",
    "        print()\n",
    "        \n",
    "levenshteinDistanceDP(\"awsed\", \"hello\")"
   ]
  },
  {
   "cell_type": "code",
   "execution_count": 3,
   "metadata": {},
   "outputs": [],
   "source": [
    "def levenshteinDistanceDP(token1, token2):\n",
    "    distances = numpy.zeros((len(token1) + 1, len(token2) + 1))\n",
    "\n",
    "    for t1 in range(len(token1) + 1):\n",
    "        distances[t1][0] = t1\n",
    "\n",
    "    for t2 in range(len(token2) + 1):\n",
    "        distances[0][t2] = t2\n",
    "        \n",
    "    a = 0\n",
    "    b = 0\n",
    "    c = 0\n",
    "    \n",
    "    for t1 in range(1, len(token1) + 1):\n",
    "        for t2 in range(1, len(token2) + 1):\n",
    "            if (token1[t1-1] == token2[t2-1]):\n",
    "                distances[t1][t2] = distances[t1 - 1][t2 - 1]\n",
    "            else:\n",
    "                a = distances[t1][t2 - 1]\n",
    "                b = distances[t1 - 1][t2]\n",
    "                c = distances[t1 - 1][t2 - 1]\n",
    "                \n",
    "                if (a <= b and a <= c):\n",
    "                    distances[t1][t2] = a + 1\n",
    "                elif (b <= a and b <= c):\n",
    "                    distances[t1][t2] = b + 1\n",
    "                else:\n",
    "                    distances[t1][t2] = c + 1\n",
    "\n",
    "    printDistances(distances, len(token1), len(token2))\n",
    "    return distances[len(token1)][len(token2)]"
   ]
  },
  {
   "cell_type": "code",
   "execution_count": 4,
   "metadata": {},
   "outputs": [
    {
     "name": "stdout",
     "output_type": "stream",
     "text": [
      "0 1 2 3 4 5 \n",
      "1 0 1 2 3 4 \n",
      "2 1 0 1 2 3 \n",
      "3 2 1 0 1 2 \n",
      "4 3 2 1 0 1 \n",
      "5 4 3 2 1 1 \n"
     ]
    }
   ],
   "source": [
    "distance = levenshteinDistanceDP(\"hella\", \"hello\")"
   ]
  },
  {
   "cell_type": "code",
   "execution_count": 5,
   "metadata": {},
   "outputs": [],
   "source": [
    "def calcDictDistance(word, numWords):\n",
    "    file = open('1-1000.txt', 'r') \n",
    "    lines = file.readlines() \n",
    "    file.close()\n",
    "    dictWordDist = []\n",
    "    wordIdx = 0\n",
    "    \n",
    "    for line in lines: \n",
    "        wordDistance = levenshteinDistanceMatrix(word, line.strip())\n",
    "        if wordDistance >= 10:\n",
    "            wordDistance = 9\n",
    "        dictWordDist.append(str(int(wordDistance)) + \"-\" + line.strip())\n",
    "        wordIdx = wordIdx + 1\n",
    "\n",
    "    closestWords = []\n",
    "    wordDetails = []\n",
    "    currWordDist = 0\n",
    "    dictWordDist.sort()\n",
    "    print(dictWordDist)\n",
    "    for i in range(numWords):\n",
    "        currWordDist = dictWordDist[i]\n",
    "        wordDetails = currWordDist.split(\"-\")\n",
    "        closestWords.append(wordDetails[1])\n",
    "    return closestWords"
   ]
  },
  {
   "cell_type": "code",
   "execution_count": 6,
   "metadata": {},
   "outputs": [
    {
     "ename": "NameError",
     "evalue": "name 'levenshteinDistanceMatrix' is not defined",
     "output_type": "error",
     "traceback": [
      "\u001b[1;31m---------------------------------------------------------------------------\u001b[0m",
      "\u001b[1;31mNameError\u001b[0m                                 Traceback (most recent call last)",
      "Cell \u001b[1;32mIn[6], line 1\u001b[0m\n\u001b[1;32m----> 1\u001b[0m \u001b[39mprint\u001b[39m(calcDictDistance(\u001b[39m\"\u001b[39;49m\u001b[39mpape\u001b[39;49m\u001b[39m\"\u001b[39;49m, \u001b[39m3\u001b[39;49m))\n",
      "Cell \u001b[1;32mIn[5], line 9\u001b[0m, in \u001b[0;36mcalcDictDistance\u001b[1;34m(word, numWords)\u001b[0m\n\u001b[0;32m      6\u001b[0m wordIdx \u001b[39m=\u001b[39m \u001b[39m0\u001b[39m\n\u001b[0;32m      8\u001b[0m \u001b[39mfor\u001b[39;00m line \u001b[39min\u001b[39;00m lines: \n\u001b[1;32m----> 9\u001b[0m     wordDistance \u001b[39m=\u001b[39m levenshteinDistanceMatrix(word, line\u001b[39m.\u001b[39mstrip())\n\u001b[0;32m     10\u001b[0m     \u001b[39mif\u001b[39;00m wordDistance \u001b[39m>\u001b[39m\u001b[39m=\u001b[39m \u001b[39m10\u001b[39m:\n\u001b[0;32m     11\u001b[0m         wordDistance \u001b[39m=\u001b[39m \u001b[39m9\u001b[39m\n",
      "\u001b[1;31mNameError\u001b[0m: name 'levenshteinDistanceMatrix' is not defined"
     ]
    }
   ],
   "source": [
    "print(calcDictDistance(\"pape\", 3))"
   ]
  }
 ],
 "metadata": {
  "kernelspec": {
   "display_name": "Python 3",
   "language": "python",
   "name": "python3"
  },
  "language_info": {
   "codemirror_mode": {
    "name": "ipython",
    "version": 3
   },
   "file_extension": ".py",
   "mimetype": "text/x-python",
   "name": "python",
   "nbconvert_exporter": "python",
   "pygments_lexer": "ipython3",
   "version": "3.9.5"
  },
  "orig_nbformat": 4,
  "vscode": {
   "interpreter": {
    "hash": "2e242e6b8c453217117083c6680e6db82176874e34559806b32fd7417ddae620"
   }
  }
 },
 "nbformat": 4,
 "nbformat_minor": 2
}
