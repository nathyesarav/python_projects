{
 "cells": [
  {
   "cell_type": "code",
   "execution_count": 1,
   "metadata": {},
   "outputs": [],
   "source": [
    "#pip install levenshtein\n",
    "import numpy\n",
    "\n",
    "# Función para calcular la distancia Levinstein entre dos palabras\n",
    "def levenshteinDistance(word1, word2):\n",
    "    distances = numpy.zeros((len(word1) + 1, len(word2) + 1)) # Inicializo la matriz con ceros\n",
    "\n",
    "    for w1 in range(len(word1) + 1): # Inicializo los valores de la primera fila\n",
    "        distances[w1][0] = w1\n",
    "\n",
    "    for w2 in range(len(word2) + 1): # Inicializo los valores de la primera columna\n",
    "        distances[0][w2] = w2\n",
    "    \n",
    "    for w1 in range(1, len(word1) + 1): # Recorro la matriz calculando las distancias de las matrices de 2x2\n",
    "        for w2 in range(1, len(word2) + 1):\n",
    "            if (word1[w1-1] == word2[w2-1]): #si la letra es la misma, la distancia es el valor del vértice de la matriz\n",
    "                distances[w1][w2] = distances[w1 - 1][w2 - 1]\n",
    "            else: # si la letra es distinta, la distancia es el menor valor de los 3 más 1\n",
    "                matrixValues = [distances[w1][w2 - 1],distances[w1 - 1][w2],distances[w1 - 1][w2 - 1]]\n",
    "                matrixValues.sort()\n",
    "                distances[w1][w2] = matrixValues[0] + 1\n",
    "\n",
    "    return distances[len(word1)][len(word2)] # Retorna el valor de la última celda de la matriz\n"
   ]
  },
  {
   "cell_type": "code",
   "execution_count": 5,
   "id": "27a2a41f",
   "metadata": {},
   "outputs": [],
   "source": [
    "# Función que recibe una palabra y un número, y devuelve la cantidad de palabras más cercanas al primer parámetro\n",
    "def autocompleteDict(word, numWords):\n",
    "    file = open('es_ES.dic', 'r' , encoding='latin-1')   # Leo el archivo del diccionario\n",
    "    lines = file.readlines() \n",
    "    file.close()\n",
    "    dictWordDist = []\n",
    "    wordIdx = 0\n",
    "    \n",
    "    for line in lines: # Busca la distancia entre la palabra ingresada y las palabras del diccionario que empiezan por la misma letra \n",
    "        if line[0] == word[0]:\n",
    "            wordDistance = levenshteinDistance(word, line[:line.find('/')].strip()) # Toma solo las palabras, sin el tipo y la compara\n",
    "            dictWordDist.append(str(int(wordDistance)) + \"-\" + line[:line.find('/')].strip()) # Guarda la distancia y la palabra comparada \n",
    "            wordIdx = wordIdx + 1\n",
    "\n",
    "    closestWords = []\n",
    "    wordDetails = []\n",
    "    currWordDist = 0\n",
    "    dictWordDist.sort() # Ordena los resultados poniendo las palabras más cercanas primero\n",
    "    for i in range(numWords): # Toma la cantidad de palabras ingresadas en el segundo parámetro\n",
    "        currWordDist = dictWordDist[i]\n",
    "        wordDetails = currWordDist.split(\"-\")\n",
    "        closestWords.append(wordDetails[1])\n",
    "    return closestWords # Retorna la lista de palabras más cercanas"
   ]
  },
  {
   "cell_type": "code",
   "execution_count": 6,
   "id": "a2039b28",
   "metadata": {},
   "outputs": [
    {
     "name": "stdout",
     "output_type": "stream",
     "text": [
      "['abeja', 'abarrancadero', 'ablandabrevas']\n"
     ]
    }
   ],
   "source": [
    "print(autocompleteDict(\"abej\", 3))"
   ]
  }
 ],
 "metadata": {
  "kernelspec": {
   "display_name": "Python 3",
   "language": "python",
   "name": "python3"
  },
  "language_info": {
   "codemirror_mode": {
    "name": "ipython",
    "version": 3
   },
   "file_extension": ".py",
   "mimetype": "text/x-python",
   "name": "python",
   "nbconvert_exporter": "python",
   "pygments_lexer": "ipython3",
   "version": "3.7.1"
  },
  "vscode": {
   "interpreter": {
    "hash": "7dd15e51a4470d085f7a243fb04650bc4fe166c7b9d4ae5b8d1a77af89f8b74e"
   }
  }
 },
 "nbformat": 4,
 "nbformat_minor": 5
}
