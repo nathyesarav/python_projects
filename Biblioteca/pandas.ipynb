{
 "cells": [
  {
   "cell_type": "markdown",
   "metadata": {
    "id": "gqNNTJWpXv_A"
   },
   "source": [
    "# LAB: Introducción a Pandas 1"
   ]
  },
  {
   "cell_type": "markdown",
   "metadata": {
    "id": "lKYsSy68Xv_C"
   },
   "source": [
    "## 1. Introducción\n",
    "\n",
    "Usaremos en este caso una versión muy resumida de datos de la Encuesta Permanentes de Hogares (relevamiento llevado adelante por el INDEC). Se trata de una encuesta continua que tiene como objetivo fundamental generar información sobre el funcionamiento del mercado de trabajo.\n",
    "\n",
    "Solamente utilizaremos algunas variables (edad, nivel educativo, cantidad de horas trabajadas, calificación de la tarea e ingreso laboral) y algunos casos (los ocupados, es decir, aquellos que han trabajado al menos una hora en la semana anterior al relevamiento)."
   ]
  },
  {
   "cell_type": "markdown",
   "metadata": {
    "id": "6Rw-k-PSXv_D"
   },
   "source": [
    "#### Para resolver el LAB: \n",
    "    Investigar los métodos value_counts() y sort_values() de la clase DataFrame"
   ]
  },
  {
   "cell_type": "markdown",
   "metadata": {
    "id": "RFmV1c9wXv_E"
   },
   "source": [
    "### 1.1 Importamos los paquetes a usar"
   ]
  },
  {
   "cell_type": "code",
   "execution_count": 2,
   "metadata": {
    "id": "aAzyRKLpXv_E"
   },
   "outputs": [],
   "source": [
    "import pandas as pd"
   ]
  },
  {
   "cell_type": "markdown",
   "metadata": {
    "id": "PTh6zCC9Xv_F"
   },
   "source": [
    "### 1.2 Importamos los datos a usar"
   ]
  },
  {
   "cell_type": "code",
   "execution_count": 3,
   "metadata": {
    "id": "7uHUKUjHXv_G"
   },
   "outputs": [],
   "source": [
    "df = pd.read_csv(\"C:/Users/n_sar/OneDrive/Escritorio/python_projects/proyecto3/data_filt.csv\"\n",
    "           , encoding = 'latin1')"
   ]
  },
  {
   "cell_type": "markdown",
   "metadata": {
    "id": "Y7uTdvlsXv_G"
   },
   "source": [
    "## 2. Explorando el dataset\n",
    "\n",
    "### 2.1. ¿Cuántas filas y cuántas columnas tiene el dataset?"
   ]
  },
  {
   "cell_type": "code",
   "execution_count": 4,
   "metadata": {
    "id": "-DIfaAl5Xv_H"
   },
   "outputs": [
    {
     "name": "stdout",
     "output_type": "stream",
     "text": [
      "<class 'pandas.core.frame.DataFrame'>\n",
      "RangeIndex: 23448 entries, 0 to 23447\n",
      "Data columns (total 5 columns):\n",
      " #   Column    Non-Null Count  Dtype  \n",
      "---  ------    --------------  -----  \n",
      " 0   ch06      23448 non-null  int64  \n",
      " 1   nivel_ed  23448 non-null  object \n",
      " 2   htot      23448 non-null  int64  \n",
      " 3   calif     23448 non-null  object \n",
      " 4   p47t      23448 non-null  float64\n",
      "dtypes: float64(1), int64(2), object(2)\n",
      "memory usage: 916.1+ KB\n",
      "None\n"
     ]
    }
   ],
   "source": [
    "print(df.info()) "
   ]
  },
  {
   "cell_type": "markdown",
   "metadata": {
    "id": "YyxTIndmXv_H"
   },
   "source": [
    "### 2.2 ¿Qué información tiene el dataset? Imprimir el nombre de las columnas"
   ]
  },
  {
   "cell_type": "code",
   "execution_count": 5,
   "metadata": {
    "id": "60lds-JEXv_H"
   },
   "outputs": [
    {
     "data": {
      "text/plain": [
       "array(['ch06', 'nivel_ed', 'htot', 'calif', 'p47t'], dtype=object)"
      ]
     },
     "execution_count": 5,
     "metadata": {},
     "output_type": "execute_result"
    }
   ],
   "source": [
    "df.columns.values"
   ]
  },
  {
   "cell_type": "markdown",
   "metadata": {
    "id": "uaG_5GDhXv_H"
   },
   "source": [
    "Los nombres de columna no son muy descriptivos de la información que contienen las mismas. Probemos cambiarlos por la siguiente lista: \n",
    "\n",
    "['edad', 'nivel_educativo', 'hs_trabajadas', 'calif_ocupacional', 'ingreso_ult_mes']"
   ]
  },
  {
   "cell_type": "markdown",
   "metadata": {
    "id": "LHwYpBmJXv_I"
   },
   "source": [
    "### 2.3 ¿Cómo está indexado el dataset?"
   ]
  },
  {
   "cell_type": "code",
   "execution_count": 6,
   "metadata": {
    "id": "2-FgaoYSXv_I",
    "scrolled": true
   },
   "outputs": [
    {
     "data": {
      "text/html": [
       "<div>\n",
       "<style scoped>\n",
       "    .dataframe tbody tr th:only-of-type {\n",
       "        vertical-align: middle;\n",
       "    }\n",
       "\n",
       "    .dataframe tbody tr th {\n",
       "        vertical-align: top;\n",
       "    }\n",
       "\n",
       "    .dataframe thead th {\n",
       "        text-align: right;\n",
       "    }\n",
       "</style>\n",
       "<table border=\"1\" class=\"dataframe\">\n",
       "  <thead>\n",
       "    <tr style=\"text-align: right;\">\n",
       "      <th></th>\n",
       "      <th>edad</th>\n",
       "      <th>nivel_educativo</th>\n",
       "      <th>hs_trabajadas</th>\n",
       "      <th>calif_ocupacional</th>\n",
       "      <th>ingreso_ult_mes</th>\n",
       "    </tr>\n",
       "  </thead>\n",
       "  <tbody>\n",
       "    <tr>\n",
       "      <th>0</th>\n",
       "      <td>46</td>\n",
       "      <td>1_H/Sec inc</td>\n",
       "      <td>45</td>\n",
       "      <td>2_Op./No calif.</td>\n",
       "      <td>6000.0</td>\n",
       "    </tr>\n",
       "    <tr>\n",
       "      <th>1</th>\n",
       "      <td>26</td>\n",
       "      <td>2_Sec. comp y más</td>\n",
       "      <td>25</td>\n",
       "      <td>2_Op./No calif.</td>\n",
       "      <td>5000.0</td>\n",
       "    </tr>\n",
       "    <tr>\n",
       "      <th>2</th>\n",
       "      <td>47</td>\n",
       "      <td>2_Sec. comp y más</td>\n",
       "      <td>25</td>\n",
       "      <td>2_Op./No calif.</td>\n",
       "      <td>5000.0</td>\n",
       "    </tr>\n",
       "    <tr>\n",
       "      <th>3</th>\n",
       "      <td>52</td>\n",
       "      <td>1_H/Sec inc</td>\n",
       "      <td>90</td>\n",
       "      <td>2_Op./No calif.</td>\n",
       "      <td>11000.0</td>\n",
       "    </tr>\n",
       "    <tr>\n",
       "      <th>4</th>\n",
       "      <td>45</td>\n",
       "      <td>1_H/Sec inc</td>\n",
       "      <td>44</td>\n",
       "      <td>2_Op./No calif.</td>\n",
       "      <td>9500.0</td>\n",
       "    </tr>\n",
       "    <tr>\n",
       "      <th>...</th>\n",
       "      <td>...</td>\n",
       "      <td>...</td>\n",
       "      <td>...</td>\n",
       "      <td>...</td>\n",
       "      <td>...</td>\n",
       "    </tr>\n",
       "    <tr>\n",
       "      <th>23443</th>\n",
       "      <td>45</td>\n",
       "      <td>2_Sec. comp y más</td>\n",
       "      <td>50</td>\n",
       "      <td>2_Op./No calif.</td>\n",
       "      <td>4000.0</td>\n",
       "    </tr>\n",
       "    <tr>\n",
       "      <th>23444</th>\n",
       "      <td>58</td>\n",
       "      <td>1_H/Sec inc</td>\n",
       "      <td>30</td>\n",
       "      <td>2_Op./No calif.</td>\n",
       "      <td>5000.0</td>\n",
       "    </tr>\n",
       "    <tr>\n",
       "      <th>23445</th>\n",
       "      <td>36</td>\n",
       "      <td>2_Sec. comp y más</td>\n",
       "      <td>40</td>\n",
       "      <td>2_Op./No calif.</td>\n",
       "      <td>13000.0</td>\n",
       "    </tr>\n",
       "    <tr>\n",
       "      <th>23446</th>\n",
       "      <td>49</td>\n",
       "      <td>1_H/Sec inc</td>\n",
       "      <td>40</td>\n",
       "      <td>2_Op./No calif.</td>\n",
       "      <td>4000.0</td>\n",
       "    </tr>\n",
       "    <tr>\n",
       "      <th>23447</th>\n",
       "      <td>36</td>\n",
       "      <td>1_H/Sec inc</td>\n",
       "      <td>54</td>\n",
       "      <td>2_Op./No calif.</td>\n",
       "      <td>8000.0</td>\n",
       "    </tr>\n",
       "  </tbody>\n",
       "</table>\n",
       "<p>23448 rows × 5 columns</p>\n",
       "</div>"
      ],
      "text/plain": [
       "       edad    nivel_educativo  hs_trabajadas calif_ocupacional  \\\n",
       "0        46        1_H/Sec inc             45   2_Op./No calif.   \n",
       "1        26  2_Sec. comp y más             25   2_Op./No calif.   \n",
       "2        47  2_Sec. comp y más             25   2_Op./No calif.   \n",
       "3        52        1_H/Sec inc             90   2_Op./No calif.   \n",
       "4        45        1_H/Sec inc             44   2_Op./No calif.   \n",
       "...     ...                ...            ...               ...   \n",
       "23443    45  2_Sec. comp y más             50   2_Op./No calif.   \n",
       "23444    58        1_H/Sec inc             30   2_Op./No calif.   \n",
       "23445    36  2_Sec. comp y más             40   2_Op./No calif.   \n",
       "23446    49        1_H/Sec inc             40   2_Op./No calif.   \n",
       "23447    36        1_H/Sec inc             54   2_Op./No calif.   \n",
       "\n",
       "       ingreso_ult_mes  \n",
       "0               6000.0  \n",
       "1               5000.0  \n",
       "2               5000.0  \n",
       "3              11000.0  \n",
       "4               9500.0  \n",
       "...                ...  \n",
       "23443           4000.0  \n",
       "23444           5000.0  \n",
       "23445          13000.0  \n",
       "23446           4000.0  \n",
       "23447           8000.0  \n",
       "\n",
       "[23448 rows x 5 columns]"
      ]
     },
     "execution_count": 6,
     "metadata": {},
     "output_type": "execute_result"
    }
   ],
   "source": [
    "df.rename( columns={\"ch06\" :'edad'}, inplace=True)\n",
    "df.rename( columns={\"nivel_ed\" :'nivel_educativo'}, inplace=True)\n",
    "df.rename( columns={\"htot\" :'hs_trabajadas'}, inplace=True)\n",
    "df.rename( columns={\"calif\" :'calif_ocupacional'}, inplace=True)\n",
    "df.rename( columns={\"p47t\" :'ingreso_ult_mes'}, inplace=True)\n",
    "df"
   ]
  },
  {
   "cell_type": "markdown",
   "metadata": {
    "id": "1Aa_imZOXv_I"
   },
   "source": [
    "### 2.4 ¿Cuál es el tipo de la cuarta columna?"
   ]
  },
  {
   "cell_type": "code",
   "execution_count": 7,
   "metadata": {
    "id": "uDbC6HsxXv_I",
    "scrolled": true
   },
   "outputs": [
    {
     "data": {
      "text/plain": [
       "dtype('O')"
      ]
     },
     "execution_count": 7,
     "metadata": {},
     "output_type": "execute_result"
    }
   ],
   "source": [
    "df['calif_ocupacional'].dtype "
   ]
  },
  {
   "cell_type": "markdown",
   "metadata": {
    "id": "CicTaSryXv_J"
   },
   "source": [
    "### 2.4 ¿Cuál es el nivel educativo más común?"
   ]
  },
  {
   "cell_type": "code",
   "execution_count": 8,
   "metadata": {
    "id": "op4uft9gXv_J"
   },
   "outputs": [
    {
     "data": {
      "text/plain": [
       "2_Sec. comp y más    14634\n",
       "1_H/Sec inc           8814\n",
       "Name: nivel_educativo, dtype: int64"
      ]
     },
     "execution_count": 8,
     "metadata": {},
     "output_type": "execute_result"
    }
   ],
   "source": [
    "df[\"nivel_educativo\"].value_counts()"
   ]
  },
  {
   "cell_type": "markdown",
   "metadata": {
    "id": "7My7EKPOXv_J"
   },
   "source": [
    "### 2.5 ¿Y cómo se distribuye la población según calificación? "
   ]
  },
  {
   "cell_type": "code",
   "execution_count": 9,
   "metadata": {
    "id": "IL268mlbXv_K"
   },
   "outputs": [
    {
     "data": {
      "text/plain": [
       "2_Op./No calif.    17372\n",
       "1_Prof./Tecn.       6076\n",
       "Name: calif_ocupacional, dtype: int64"
      ]
     },
     "execution_count": 9,
     "metadata": {},
     "output_type": "execute_result"
    }
   ],
   "source": [
    "df[\"calif_ocupacional\"].value_counts()"
   ]
  },
  {
   "cell_type": "markdown",
   "metadata": {
    "id": "my0j5VF2Xv_K"
   },
   "source": [
    "### 2.6 ¿Cuál es el ingreso total de la población? "
   ]
  },
  {
   "cell_type": "code",
   "execution_count": 10,
   "metadata": {
    "id": "Wqdvw7-SXv_K"
   },
   "outputs": [
    {
     "data": {
      "text/plain": [
       "190114176.0"
      ]
     },
     "execution_count": 10,
     "metadata": {},
     "output_type": "execute_result"
    }
   ],
   "source": [
    "df[\"ingreso_ult_mes\"].sum()"
   ]
  },
  {
   "cell_type": "markdown",
   "metadata": {
    "id": "RpAlMDzuXv_K"
   },
   "source": [
    "### 2.4 ¿Cuál es el ingreso medio de la población? "
   ]
  },
  {
   "cell_type": "code",
   "execution_count": 11,
   "metadata": {
    "id": "xk2zPav1Xv_L"
   },
   "outputs": [
    {
     "data": {
      "text/plain": [
       "8107.905834186285"
      ]
     },
     "execution_count": 11,
     "metadata": {},
     "output_type": "execute_result"
    }
   ],
   "source": [
    "df[\"ingreso_ult_mes\"].mean()"
   ]
  },
  {
   "cell_type": "markdown",
   "metadata": {
    "id": "tqJUwILRXv_L"
   },
   "source": [
    "## 3. Indexando y ordenando los datos"
   ]
  },
  {
   "cell_type": "markdown",
   "metadata": {
    "id": "lFyvVAP5Xv_L"
   },
   "source": [
    "### 3.1 Seleccionar la columna `nivel_educativo` e `ingreso_ult_mes` y asignarlas a un objeto nuevo llamado `df2`"
   ]
  },
  {
   "cell_type": "code",
   "execution_count": 12,
   "metadata": {
    "id": "4dHfZdgEXv_L"
   },
   "outputs": [
    {
     "data": {
      "text/html": [
       "<div>\n",
       "<style scoped>\n",
       "    .dataframe tbody tr th:only-of-type {\n",
       "        vertical-align: middle;\n",
       "    }\n",
       "\n",
       "    .dataframe tbody tr th {\n",
       "        vertical-align: top;\n",
       "    }\n",
       "\n",
       "    .dataframe thead th {\n",
       "        text-align: right;\n",
       "    }\n",
       "</style>\n",
       "<table border=\"1\" class=\"dataframe\">\n",
       "  <thead>\n",
       "    <tr style=\"text-align: right;\">\n",
       "      <th></th>\n",
       "      <th>nivel_educativo</th>\n",
       "      <th>ingreso_ult_mes</th>\n",
       "    </tr>\n",
       "  </thead>\n",
       "  <tbody>\n",
       "    <tr>\n",
       "      <th>0</th>\n",
       "      <td>1_H/Sec inc</td>\n",
       "      <td>6000.0</td>\n",
       "    </tr>\n",
       "    <tr>\n",
       "      <th>1</th>\n",
       "      <td>2_Sec. comp y más</td>\n",
       "      <td>5000.0</td>\n",
       "    </tr>\n",
       "    <tr>\n",
       "      <th>2</th>\n",
       "      <td>2_Sec. comp y más</td>\n",
       "      <td>5000.0</td>\n",
       "    </tr>\n",
       "    <tr>\n",
       "      <th>3</th>\n",
       "      <td>1_H/Sec inc</td>\n",
       "      <td>11000.0</td>\n",
       "    </tr>\n",
       "    <tr>\n",
       "      <th>4</th>\n",
       "      <td>1_H/Sec inc</td>\n",
       "      <td>9500.0</td>\n",
       "    </tr>\n",
       "    <tr>\n",
       "      <th>...</th>\n",
       "      <td>...</td>\n",
       "      <td>...</td>\n",
       "    </tr>\n",
       "    <tr>\n",
       "      <th>23443</th>\n",
       "      <td>2_Sec. comp y más</td>\n",
       "      <td>4000.0</td>\n",
       "    </tr>\n",
       "    <tr>\n",
       "      <th>23444</th>\n",
       "      <td>1_H/Sec inc</td>\n",
       "      <td>5000.0</td>\n",
       "    </tr>\n",
       "    <tr>\n",
       "      <th>23445</th>\n",
       "      <td>2_Sec. comp y más</td>\n",
       "      <td>13000.0</td>\n",
       "    </tr>\n",
       "    <tr>\n",
       "      <th>23446</th>\n",
       "      <td>1_H/Sec inc</td>\n",
       "      <td>4000.0</td>\n",
       "    </tr>\n",
       "    <tr>\n",
       "      <th>23447</th>\n",
       "      <td>1_H/Sec inc</td>\n",
       "      <td>8000.0</td>\n",
       "    </tr>\n",
       "  </tbody>\n",
       "</table>\n",
       "<p>23448 rows × 2 columns</p>\n",
       "</div>"
      ],
      "text/plain": [
       "         nivel_educativo  ingreso_ult_mes\n",
       "0            1_H/Sec inc           6000.0\n",
       "1      2_Sec. comp y más           5000.0\n",
       "2      2_Sec. comp y más           5000.0\n",
       "3            1_H/Sec inc          11000.0\n",
       "4            1_H/Sec inc           9500.0\n",
       "...                  ...              ...\n",
       "23443  2_Sec. comp y más           4000.0\n",
       "23444        1_H/Sec inc           5000.0\n",
       "23445  2_Sec. comp y más          13000.0\n",
       "23446        1_H/Sec inc           4000.0\n",
       "23447        1_H/Sec inc           8000.0\n",
       "\n",
       "[23448 rows x 2 columns]"
      ]
     },
     "execution_count": 12,
     "metadata": {},
     "output_type": "execute_result"
    }
   ],
   "source": [
    "df2=df[['nivel_educativo', 'ingreso_ult_mes']]\n",
    "df2"
   ]
  },
  {
   "cell_type": "markdown",
   "metadata": {
    "id": "_QRVpwwFXv_M"
   },
   "source": [
    "### 3.2 Seleccionar de df2 las primeras 20 filas"
   ]
  },
  {
   "cell_type": "code",
   "execution_count": 13,
   "metadata": {
    "id": "wAKr10aCXv_M"
   },
   "outputs": [
    {
     "data": {
      "text/html": [
       "<div>\n",
       "<style scoped>\n",
       "    .dataframe tbody tr th:only-of-type {\n",
       "        vertical-align: middle;\n",
       "    }\n",
       "\n",
       "    .dataframe tbody tr th {\n",
       "        vertical-align: top;\n",
       "    }\n",
       "\n",
       "    .dataframe thead th {\n",
       "        text-align: right;\n",
       "    }\n",
       "</style>\n",
       "<table border=\"1\" class=\"dataframe\">\n",
       "  <thead>\n",
       "    <tr style=\"text-align: right;\">\n",
       "      <th></th>\n",
       "      <th>nivel_educativo</th>\n",
       "      <th>ingreso_ult_mes</th>\n",
       "    </tr>\n",
       "  </thead>\n",
       "  <tbody>\n",
       "    <tr>\n",
       "      <th>0</th>\n",
       "      <td>1_H/Sec inc</td>\n",
       "      <td>6000.0</td>\n",
       "    </tr>\n",
       "    <tr>\n",
       "      <th>1</th>\n",
       "      <td>2_Sec. comp y más</td>\n",
       "      <td>5000.0</td>\n",
       "    </tr>\n",
       "    <tr>\n",
       "      <th>2</th>\n",
       "      <td>2_Sec. comp y más</td>\n",
       "      <td>5000.0</td>\n",
       "    </tr>\n",
       "    <tr>\n",
       "      <th>3</th>\n",
       "      <td>1_H/Sec inc</td>\n",
       "      <td>11000.0</td>\n",
       "    </tr>\n",
       "    <tr>\n",
       "      <th>4</th>\n",
       "      <td>1_H/Sec inc</td>\n",
       "      <td>9500.0</td>\n",
       "    </tr>\n",
       "    <tr>\n",
       "      <th>5</th>\n",
       "      <td>2_Sec. comp y más</td>\n",
       "      <td>6000.0</td>\n",
       "    </tr>\n",
       "    <tr>\n",
       "      <th>6</th>\n",
       "      <td>2_Sec. comp y más</td>\n",
       "      <td>9000.0</td>\n",
       "    </tr>\n",
       "    <tr>\n",
       "      <th>7</th>\n",
       "      <td>1_H/Sec inc</td>\n",
       "      <td>4260.0</td>\n",
       "    </tr>\n",
       "    <tr>\n",
       "      <th>8</th>\n",
       "      <td>1_H/Sec inc</td>\n",
       "      <td>3800.0</td>\n",
       "    </tr>\n",
       "    <tr>\n",
       "      <th>9</th>\n",
       "      <td>2_Sec. comp y más</td>\n",
       "      <td>10517.0</td>\n",
       "    </tr>\n",
       "    <tr>\n",
       "      <th>10</th>\n",
       "      <td>1_H/Sec inc</td>\n",
       "      <td>8300.0</td>\n",
       "    </tr>\n",
       "    <tr>\n",
       "      <th>11</th>\n",
       "      <td>2_Sec. comp y más</td>\n",
       "      <td>4900.0</td>\n",
       "    </tr>\n",
       "    <tr>\n",
       "      <th>12</th>\n",
       "      <td>2_Sec. comp y más</td>\n",
       "      <td>11000.0</td>\n",
       "    </tr>\n",
       "    <tr>\n",
       "      <th>13</th>\n",
       "      <td>2_Sec. comp y más</td>\n",
       "      <td>9000.0</td>\n",
       "    </tr>\n",
       "    <tr>\n",
       "      <th>14</th>\n",
       "      <td>1_H/Sec inc</td>\n",
       "      <td>3500.0</td>\n",
       "    </tr>\n",
       "    <tr>\n",
       "      <th>15</th>\n",
       "      <td>1_H/Sec inc</td>\n",
       "      <td>8000.0</td>\n",
       "    </tr>\n",
       "    <tr>\n",
       "      <th>16</th>\n",
       "      <td>1_H/Sec inc</td>\n",
       "      <td>2500.0</td>\n",
       "    </tr>\n",
       "    <tr>\n",
       "      <th>17</th>\n",
       "      <td>1_H/Sec inc</td>\n",
       "      <td>7500.0</td>\n",
       "    </tr>\n",
       "    <tr>\n",
       "      <th>18</th>\n",
       "      <td>1_H/Sec inc</td>\n",
       "      <td>5000.0</td>\n",
       "    </tr>\n",
       "    <tr>\n",
       "      <th>19</th>\n",
       "      <td>1_H/Sec inc</td>\n",
       "      <td>5500.0</td>\n",
       "    </tr>\n",
       "  </tbody>\n",
       "</table>\n",
       "</div>"
      ],
      "text/plain": [
       "      nivel_educativo  ingreso_ult_mes\n",
       "0         1_H/Sec inc           6000.0\n",
       "1   2_Sec. comp y más           5000.0\n",
       "2   2_Sec. comp y más           5000.0\n",
       "3         1_H/Sec inc          11000.0\n",
       "4         1_H/Sec inc           9500.0\n",
       "5   2_Sec. comp y más           6000.0\n",
       "6   2_Sec. comp y más           9000.0\n",
       "7         1_H/Sec inc           4260.0\n",
       "8         1_H/Sec inc           3800.0\n",
       "9   2_Sec. comp y más          10517.0\n",
       "10        1_H/Sec inc           8300.0\n",
       "11  2_Sec. comp y más           4900.0\n",
       "12  2_Sec. comp y más          11000.0\n",
       "13  2_Sec. comp y más           9000.0\n",
       "14        1_H/Sec inc           3500.0\n",
       "15        1_H/Sec inc           8000.0\n",
       "16        1_H/Sec inc           2500.0\n",
       "17        1_H/Sec inc           7500.0\n",
       "18        1_H/Sec inc           5000.0\n",
       "19        1_H/Sec inc           5500.0"
      ]
     },
     "execution_count": 13,
     "metadata": {},
     "output_type": "execute_result"
    }
   ],
   "source": [
    "df2.head(20)"
   ]
  },
  {
   "cell_type": "markdown",
   "metadata": {
    "id": "qKOdSHdqXv_M"
   },
   "source": [
    "### 3.2 Seleccionar de df una muestra aleatoria de 500 filas"
   ]
  },
  {
   "cell_type": "code",
   "execution_count": 14,
   "metadata": {
    "id": "GcKwmZ1DXv_M"
   },
   "outputs": [
    {
     "data": {
      "text/html": [
       "<div>\n",
       "<style scoped>\n",
       "    .dataframe tbody tr th:only-of-type {\n",
       "        vertical-align: middle;\n",
       "    }\n",
       "\n",
       "    .dataframe tbody tr th {\n",
       "        vertical-align: top;\n",
       "    }\n",
       "\n",
       "    .dataframe thead th {\n",
       "        text-align: right;\n",
       "    }\n",
       "</style>\n",
       "<table border=\"1\" class=\"dataframe\">\n",
       "  <thead>\n",
       "    <tr style=\"text-align: right;\">\n",
       "      <th></th>\n",
       "      <th>edad</th>\n",
       "      <th>nivel_educativo</th>\n",
       "      <th>hs_trabajadas</th>\n",
       "      <th>calif_ocupacional</th>\n",
       "      <th>ingreso_ult_mes</th>\n",
       "    </tr>\n",
       "  </thead>\n",
       "  <tbody>\n",
       "    <tr>\n",
       "      <th>14513</th>\n",
       "      <td>36</td>\n",
       "      <td>1_H/Sec inc</td>\n",
       "      <td>15</td>\n",
       "      <td>2_Op./No calif.</td>\n",
       "      <td>2500.0</td>\n",
       "    </tr>\n",
       "    <tr>\n",
       "      <th>15803</th>\n",
       "      <td>44</td>\n",
       "      <td>2_Sec. comp y más</td>\n",
       "      <td>25</td>\n",
       "      <td>1_Prof./Tecn.</td>\n",
       "      <td>13000.0</td>\n",
       "    </tr>\n",
       "    <tr>\n",
       "      <th>8670</th>\n",
       "      <td>55</td>\n",
       "      <td>2_Sec. comp y más</td>\n",
       "      <td>40</td>\n",
       "      <td>2_Op./No calif.</td>\n",
       "      <td>11000.0</td>\n",
       "    </tr>\n",
       "    <tr>\n",
       "      <th>13826</th>\n",
       "      <td>42</td>\n",
       "      <td>2_Sec. comp y más</td>\n",
       "      <td>56</td>\n",
       "      <td>2_Op./No calif.</td>\n",
       "      <td>8000.0</td>\n",
       "    </tr>\n",
       "    <tr>\n",
       "      <th>9374</th>\n",
       "      <td>25</td>\n",
       "      <td>2_Sec. comp y más</td>\n",
       "      <td>8</td>\n",
       "      <td>2_Op./No calif.</td>\n",
       "      <td>1500.0</td>\n",
       "    </tr>\n",
       "    <tr>\n",
       "      <th>...</th>\n",
       "      <td>...</td>\n",
       "      <td>...</td>\n",
       "      <td>...</td>\n",
       "      <td>...</td>\n",
       "      <td>...</td>\n",
       "    </tr>\n",
       "    <tr>\n",
       "      <th>3847</th>\n",
       "      <td>43</td>\n",
       "      <td>2_Sec. comp y más</td>\n",
       "      <td>25</td>\n",
       "      <td>1_Prof./Tecn.</td>\n",
       "      <td>5300.0</td>\n",
       "    </tr>\n",
       "    <tr>\n",
       "      <th>20651</th>\n",
       "      <td>64</td>\n",
       "      <td>1_H/Sec inc</td>\n",
       "      <td>40</td>\n",
       "      <td>2_Op./No calif.</td>\n",
       "      <td>2000.0</td>\n",
       "    </tr>\n",
       "    <tr>\n",
       "      <th>7593</th>\n",
       "      <td>65</td>\n",
       "      <td>2_Sec. comp y más</td>\n",
       "      <td>40</td>\n",
       "      <td>1_Prof./Tecn.</td>\n",
       "      <td>13600.0</td>\n",
       "    </tr>\n",
       "    <tr>\n",
       "      <th>20556</th>\n",
       "      <td>30</td>\n",
       "      <td>2_Sec. comp y más</td>\n",
       "      <td>48</td>\n",
       "      <td>2_Op./No calif.</td>\n",
       "      <td>9000.0</td>\n",
       "    </tr>\n",
       "    <tr>\n",
       "      <th>23014</th>\n",
       "      <td>46</td>\n",
       "      <td>2_Sec. comp y más</td>\n",
       "      <td>30</td>\n",
       "      <td>1_Prof./Tecn.</td>\n",
       "      <td>6000.0</td>\n",
       "    </tr>\n",
       "  </tbody>\n",
       "</table>\n",
       "<p>500 rows × 5 columns</p>\n",
       "</div>"
      ],
      "text/plain": [
       "       edad    nivel_educativo  hs_trabajadas calif_ocupacional  \\\n",
       "14513    36        1_H/Sec inc             15   2_Op./No calif.   \n",
       "15803    44  2_Sec. comp y más             25     1_Prof./Tecn.   \n",
       "8670     55  2_Sec. comp y más             40   2_Op./No calif.   \n",
       "13826    42  2_Sec. comp y más             56   2_Op./No calif.   \n",
       "9374     25  2_Sec. comp y más              8   2_Op./No calif.   \n",
       "...     ...                ...            ...               ...   \n",
       "3847     43  2_Sec. comp y más             25     1_Prof./Tecn.   \n",
       "20651    64        1_H/Sec inc             40   2_Op./No calif.   \n",
       "7593     65  2_Sec. comp y más             40     1_Prof./Tecn.   \n",
       "20556    30  2_Sec. comp y más             48   2_Op./No calif.   \n",
       "23014    46  2_Sec. comp y más             30     1_Prof./Tecn.   \n",
       "\n",
       "       ingreso_ult_mes  \n",
       "14513           2500.0  \n",
       "15803          13000.0  \n",
       "8670           11000.0  \n",
       "13826           8000.0  \n",
       "9374            1500.0  \n",
       "...                ...  \n",
       "3847            5300.0  \n",
       "20651           2000.0  \n",
       "7593           13600.0  \n",
       "20556           9000.0  \n",
       "23014           6000.0  \n",
       "\n",
       "[500 rows x 5 columns]"
      ]
     },
     "execution_count": 14,
     "metadata": {},
     "output_type": "execute_result"
    }
   ],
   "source": [
    "df.sample(n=500, random_state=1)"
   ]
  },
  {
   "cell_type": "markdown",
   "metadata": {
    "id": "Xh6UtuKFXv_N"
   },
   "source": [
    "### 3.4 Elegir todas las columnas, con excepción de nivel_educativo. Tip: Utilizar la propiedad columns para filtrar en la dimensión de las columnas."
   ]
  },
  {
   "cell_type": "code",
   "execution_count": 15,
   "metadata": {
    "id": "DxqWbltLXv_N"
   },
   "outputs": [
    {
     "data": {
      "text/html": [
       "<div>\n",
       "<style scoped>\n",
       "    .dataframe tbody tr th:only-of-type {\n",
       "        vertical-align: middle;\n",
       "    }\n",
       "\n",
       "    .dataframe tbody tr th {\n",
       "        vertical-align: top;\n",
       "    }\n",
       "\n",
       "    .dataframe thead th {\n",
       "        text-align: right;\n",
       "    }\n",
       "</style>\n",
       "<table border=\"1\" class=\"dataframe\">\n",
       "  <thead>\n",
       "    <tr style=\"text-align: right;\">\n",
       "      <th></th>\n",
       "      <th>edad</th>\n",
       "      <th>hs_trabajadas</th>\n",
       "      <th>calif_ocupacional</th>\n",
       "      <th>ingreso_ult_mes</th>\n",
       "    </tr>\n",
       "  </thead>\n",
       "  <tbody>\n",
       "    <tr>\n",
       "      <th>0</th>\n",
       "      <td>46</td>\n",
       "      <td>45</td>\n",
       "      <td>2_Op./No calif.</td>\n",
       "      <td>6000.0</td>\n",
       "    </tr>\n",
       "    <tr>\n",
       "      <th>1</th>\n",
       "      <td>26</td>\n",
       "      <td>25</td>\n",
       "      <td>2_Op./No calif.</td>\n",
       "      <td>5000.0</td>\n",
       "    </tr>\n",
       "    <tr>\n",
       "      <th>2</th>\n",
       "      <td>47</td>\n",
       "      <td>25</td>\n",
       "      <td>2_Op./No calif.</td>\n",
       "      <td>5000.0</td>\n",
       "    </tr>\n",
       "    <tr>\n",
       "      <th>3</th>\n",
       "      <td>52</td>\n",
       "      <td>90</td>\n",
       "      <td>2_Op./No calif.</td>\n",
       "      <td>11000.0</td>\n",
       "    </tr>\n",
       "    <tr>\n",
       "      <th>4</th>\n",
       "      <td>45</td>\n",
       "      <td>44</td>\n",
       "      <td>2_Op./No calif.</td>\n",
       "      <td>9500.0</td>\n",
       "    </tr>\n",
       "    <tr>\n",
       "      <th>...</th>\n",
       "      <td>...</td>\n",
       "      <td>...</td>\n",
       "      <td>...</td>\n",
       "      <td>...</td>\n",
       "    </tr>\n",
       "    <tr>\n",
       "      <th>23443</th>\n",
       "      <td>45</td>\n",
       "      <td>50</td>\n",
       "      <td>2_Op./No calif.</td>\n",
       "      <td>4000.0</td>\n",
       "    </tr>\n",
       "    <tr>\n",
       "      <th>23444</th>\n",
       "      <td>58</td>\n",
       "      <td>30</td>\n",
       "      <td>2_Op./No calif.</td>\n",
       "      <td>5000.0</td>\n",
       "    </tr>\n",
       "    <tr>\n",
       "      <th>23445</th>\n",
       "      <td>36</td>\n",
       "      <td>40</td>\n",
       "      <td>2_Op./No calif.</td>\n",
       "      <td>13000.0</td>\n",
       "    </tr>\n",
       "    <tr>\n",
       "      <th>23446</th>\n",
       "      <td>49</td>\n",
       "      <td>40</td>\n",
       "      <td>2_Op./No calif.</td>\n",
       "      <td>4000.0</td>\n",
       "    </tr>\n",
       "    <tr>\n",
       "      <th>23447</th>\n",
       "      <td>36</td>\n",
       "      <td>54</td>\n",
       "      <td>2_Op./No calif.</td>\n",
       "      <td>8000.0</td>\n",
       "    </tr>\n",
       "  </tbody>\n",
       "</table>\n",
       "<p>23448 rows × 4 columns</p>\n",
       "</div>"
      ],
      "text/plain": [
       "       edad  hs_trabajadas calif_ocupacional  ingreso_ult_mes\n",
       "0        46             45   2_Op./No calif.           6000.0\n",
       "1        26             25   2_Op./No calif.           5000.0\n",
       "2        47             25   2_Op./No calif.           5000.0\n",
       "3        52             90   2_Op./No calif.          11000.0\n",
       "4        45             44   2_Op./No calif.           9500.0\n",
       "...     ...            ...               ...              ...\n",
       "23443    45             50   2_Op./No calif.           4000.0\n",
       "23444    58             30   2_Op./No calif.           5000.0\n",
       "23445    36             40   2_Op./No calif.          13000.0\n",
       "23446    49             40   2_Op./No calif.           4000.0\n",
       "23447    36             54   2_Op./No calif.           8000.0\n",
       "\n",
       "[23448 rows x 4 columns]"
      ]
     },
     "execution_count": 15,
     "metadata": {},
     "output_type": "execute_result"
    }
   ],
   "source": [
    "df.drop(\"nivel_educativo\",axis=1)"
   ]
  },
  {
   "cell_type": "markdown",
   "metadata": {
    "id": "qHUnBesAXv_N"
   },
   "source": [
    "### 3.5 Ordenar el dataset según la edad"
   ]
  },
  {
   "cell_type": "code",
   "execution_count": 17,
   "metadata": {
    "id": "rWCx1QdWXv_N"
   },
   "outputs": [
    {
     "data": {
      "text/html": [
       "<div>\n",
       "<style scoped>\n",
       "    .dataframe tbody tr th:only-of-type {\n",
       "        vertical-align: middle;\n",
       "    }\n",
       "\n",
       "    .dataframe tbody tr th {\n",
       "        vertical-align: top;\n",
       "    }\n",
       "\n",
       "    .dataframe thead th {\n",
       "        text-align: right;\n",
       "    }\n",
       "</style>\n",
       "<table border=\"1\" class=\"dataframe\">\n",
       "  <thead>\n",
       "    <tr style=\"text-align: right;\">\n",
       "      <th></th>\n",
       "      <th>edad</th>\n",
       "      <th>nivel_educativo</th>\n",
       "      <th>hs_trabajadas</th>\n",
       "      <th>calif_ocupacional</th>\n",
       "      <th>ingreso_ult_mes</th>\n",
       "    </tr>\n",
       "  </thead>\n",
       "  <tbody>\n",
       "    <tr>\n",
       "      <th>15308</th>\n",
       "      <td>12</td>\n",
       "      <td>1_H/Sec inc</td>\n",
       "      <td>7</td>\n",
       "      <td>2_Op./No calif.</td>\n",
       "      <td>250.0</td>\n",
       "    </tr>\n",
       "    <tr>\n",
       "      <th>19856</th>\n",
       "      <td>12</td>\n",
       "      <td>1_H/Sec inc</td>\n",
       "      <td>15</td>\n",
       "      <td>2_Op./No calif.</td>\n",
       "      <td>1200.0</td>\n",
       "    </tr>\n",
       "    <tr>\n",
       "      <th>20050</th>\n",
       "      <td>12</td>\n",
       "      <td>1_H/Sec inc</td>\n",
       "      <td>20</td>\n",
       "      <td>2_Op./No calif.</td>\n",
       "      <td>1600.0</td>\n",
       "    </tr>\n",
       "    <tr>\n",
       "      <th>5698</th>\n",
       "      <td>12</td>\n",
       "      <td>1_H/Sec inc</td>\n",
       "      <td>5</td>\n",
       "      <td>2_Op./No calif.</td>\n",
       "      <td>250.0</td>\n",
       "    </tr>\n",
       "    <tr>\n",
       "      <th>14556</th>\n",
       "      <td>13</td>\n",
       "      <td>1_H/Sec inc</td>\n",
       "      <td>14</td>\n",
       "      <td>2_Op./No calif.</td>\n",
       "      <td>800.0</td>\n",
       "    </tr>\n",
       "    <tr>\n",
       "      <th>...</th>\n",
       "      <td>...</td>\n",
       "      <td>...</td>\n",
       "      <td>...</td>\n",
       "      <td>...</td>\n",
       "      <td>...</td>\n",
       "    </tr>\n",
       "    <tr>\n",
       "      <th>4340</th>\n",
       "      <td>84</td>\n",
       "      <td>1_H/Sec inc</td>\n",
       "      <td>36</td>\n",
       "      <td>2_Op./No calif.</td>\n",
       "      <td>7500.0</td>\n",
       "    </tr>\n",
       "    <tr>\n",
       "      <th>23317</th>\n",
       "      <td>84</td>\n",
       "      <td>1_H/Sec inc</td>\n",
       "      <td>25</td>\n",
       "      <td>2_Op./No calif.</td>\n",
       "      <td>9900.0</td>\n",
       "    </tr>\n",
       "    <tr>\n",
       "      <th>16461</th>\n",
       "      <td>85</td>\n",
       "      <td>2_Sec. comp y más</td>\n",
       "      <td>40</td>\n",
       "      <td>1_Prof./Tecn.</td>\n",
       "      <td>20700.0</td>\n",
       "    </tr>\n",
       "    <tr>\n",
       "      <th>16954</th>\n",
       "      <td>85</td>\n",
       "      <td>2_Sec. comp y más</td>\n",
       "      <td>36</td>\n",
       "      <td>2_Op./No calif.</td>\n",
       "      <td>8250.0</td>\n",
       "    </tr>\n",
       "    <tr>\n",
       "      <th>22574</th>\n",
       "      <td>93</td>\n",
       "      <td>1_H/Sec inc</td>\n",
       "      <td>20</td>\n",
       "      <td>2_Op./No calif.</td>\n",
       "      <td>8000.0</td>\n",
       "    </tr>\n",
       "  </tbody>\n",
       "</table>\n",
       "<p>23448 rows × 5 columns</p>\n",
       "</div>"
      ],
      "text/plain": [
       "       edad    nivel_educativo  hs_trabajadas calif_ocupacional  \\\n",
       "15308    12        1_H/Sec inc              7   2_Op./No calif.   \n",
       "19856    12        1_H/Sec inc             15   2_Op./No calif.   \n",
       "20050    12        1_H/Sec inc             20   2_Op./No calif.   \n",
       "5698     12        1_H/Sec inc              5   2_Op./No calif.   \n",
       "14556    13        1_H/Sec inc             14   2_Op./No calif.   \n",
       "...     ...                ...            ...               ...   \n",
       "4340     84        1_H/Sec inc             36   2_Op./No calif.   \n",
       "23317    84        1_H/Sec inc             25   2_Op./No calif.   \n",
       "16461    85  2_Sec. comp y más             40     1_Prof./Tecn.   \n",
       "16954    85  2_Sec. comp y más             36   2_Op./No calif.   \n",
       "22574    93        1_H/Sec inc             20   2_Op./No calif.   \n",
       "\n",
       "       ingreso_ult_mes  \n",
       "15308            250.0  \n",
       "19856           1200.0  \n",
       "20050           1600.0  \n",
       "5698             250.0  \n",
       "14556            800.0  \n",
       "...                ...  \n",
       "4340            7500.0  \n",
       "23317           9900.0  \n",
       "16461          20700.0  \n",
       "16954           8250.0  \n",
       "22574           8000.0  \n",
       "\n",
       "[23448 rows x 5 columns]"
      ]
     },
     "execution_count": 17,
     "metadata": {},
     "output_type": "execute_result"
    }
   ],
   "source": [
    "df.sort_values('edad')"
   ]
  },
  {
   "cell_type": "markdown",
   "metadata": {
    "id": "NgEXU3a9Xv_N"
   },
   "source": [
    "### 3.6 ¿Cuál es el promedio de horas trabajadas de los jóvenes entre 14 y 25 años y poco calificados?"
   ]
  },
  {
   "cell_type": "code",
   "execution_count": 26,
   "metadata": {
    "id": "E6ZZMvTVXv_O"
   },
   "outputs": [
    {
     "name": "stdout",
     "output_type": "stream",
     "text": [
      "37.57085900688655\n"
     ]
    }
   ],
   "source": [
    "df3 = df.loc[df['calif_ocupacional'] == \"2_Op./No calif.\"] \n",
    "df3 = df3.loc[df3['edad'] > 13] \n",
    "df3 = df3.loc[df3['edad'] < 26] \n",
    "promedio = df3[\"hs_trabajadas\"].mean()  \n",
    "print(promedio)\n"
   ]
  },
  {
   "cell_type": "markdown",
   "metadata": {
    "id": "N9DVgZteXv_O"
   },
   "source": [
    "### 3.7 Generar un dataframe nuevo con los trabajadores que ganan más del promedio de ingresos general y están por debajo de la cantidad media de horas trabajadas. ¿Cuántos trabajadores se encuentran en esta condición? ¿Cuál es su edad mediana?"
   ]
  },
  {
   "cell_type": "code",
   "execution_count": 38,
   "metadata": {
    "id": "2PCoVBu3Xv_O"
   },
   "outputs": [
    {
     "name": "stdout",
     "output_type": "stream",
     "text": [
      "39.684535994541115\n",
      "2132\n",
      "44.0\n"
     ]
    }
   ],
   "source": [
    "print(media_horas)\n",
    "df4 = df.loc[(df['ingreso_ult_mes'] > df[\"ingreso_ult_mes\"].mean()) & (df['hs_trabajadas'] < df['hs_trabajadas'].mean())] \n",
    "#df4\n",
    "print(len(df4))  \n",
    "print(df4[\"edad\"].median())  "
   ]
  }
 ],
 "metadata": {
  "colab": {
   "name": "3.STARTER_LAB_Intro_Pandas_1.ipynb",
   "provenance": []
  },
  "kernelspec": {
   "display_name": "base",
   "language": "python",
   "name": "python3"
  },
  "language_info": {
   "codemirror_mode": {
    "name": "ipython",
    "version": 3
   },
   "file_extension": ".py",
   "mimetype": "text/x-python",
   "name": "python",
   "nbconvert_exporter": "python",
   "pygments_lexer": "ipython3",
   "version": "3.8.8"
  },
  "vscode": {
   "interpreter": {
    "hash": "5beeed5a7ffdc4b4a0108c0b3292efe9a775794c700b606d5e33717d9ba16765"
   }
  }
 },
 "nbformat": 4,
 "nbformat_minor": 1
}
