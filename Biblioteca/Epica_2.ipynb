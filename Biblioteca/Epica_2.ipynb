{
 "cells": [
  {
   "attachments": {},
   "cell_type": "markdown",
   "metadata": {},
   "source": [
    "### Sprint 24F:\n",
    "1) User story 22F: Parsear dos corpus de texto en un dataframe. Cada documento es una fil"
   ]
  },
  {
   "cell_type": "code",
   "execution_count": 1,
   "metadata": {},
   "outputs": [],
   "source": [
    "import pandas as pd\n",
    "import re\n",
    "from sklearn.feature_extraction.text import  TfidfVectorizer\n",
    "from sklearn.feature_extraction.text import  CountVectorizer"
   ]
  },
  {
   "cell_type": "code",
   "execution_count": 2,
   "metadata": {},
   "outputs": [],
   "source": [
    "file = open(\"nlp_corpus_curated_text_ML.log\", encoding=\"UTF-8\")\n",
    "data = file.read()\n",
    "registros = data.split('\\n')"
   ]
  },
  {
   "cell_type": "code",
   "execution_count": 3,
   "metadata": {},
   "outputs": [],
   "source": [
    "# Creo las listas\n",
    "link = []\n",
    "texto = []\n",
    "temp_text = ''\n",
    "\n",
    "for registro in registros:\n",
    "  if len(registro) > 10:\n",
    "    if registro.find(\"http\") != -1 and  registro.find(\"http\") == 0:\n",
    "      if len(link) != 0:\n",
    "        texto.append(temp_text)\n",
    "        temp_text = ''\n",
    "      link.append(registro)\n",
    "    else:\n",
    "      temp_text += registro\n",
    "\n",
    "texto.append(temp_text)"
   ]
  },
  {
   "cell_type": "code",
   "execution_count": 4,
   "metadata": {},
   "outputs": [
    {
     "data": {
      "text/plain": [
       "4019"
      ]
     },
     "execution_count": 4,
     "metadata": {},
     "output_type": "execute_result"
    }
   ],
   "source": [
    "# Verificar que coincidan el número de filas de link y texto\n",
    "len(link)"
   ]
  },
  {
   "cell_type": "code",
   "execution_count": 5,
   "metadata": {},
   "outputs": [
    {
     "data": {
      "text/plain": [
       "4019"
      ]
     },
     "execution_count": 5,
     "metadata": {},
     "output_type": "execute_result"
    }
   ],
   "source": [
    "len(texto)"
   ]
  },
  {
   "cell_type": "code",
   "execution_count": 6,
   "metadata": {},
   "outputs": [
    {
     "data": {
      "text/html": [
       "<div>\n",
       "<style scoped>\n",
       "    .dataframe tbody tr th:only-of-type {\n",
       "        vertical-align: middle;\n",
       "    }\n",
       "\n",
       "    .dataframe tbody tr th {\n",
       "        vertical-align: top;\n",
       "    }\n",
       "\n",
       "    .dataframe thead th {\n",
       "        text-align: right;\n",
       "    }\n",
       "</style>\n",
       "<table border=\"1\" class=\"dataframe\">\n",
       "  <thead>\n",
       "    <tr style=\"text-align: right;\">\n",
       "      <th></th>\n",
       "      <th>texto</th>\n",
       "    </tr>\n",
       "  </thead>\n",
       "  <tbody>\n",
       "    <tr>\n",
       "      <th>0</th>\n",
       "      <td>*AI stock market prediction* has been gaining ...</td>\n",
       "    </tr>\n",
       "    <tr>\n",
       "      <th>1</th>\n",
       "      <td>To explore commercial success of Show HN proje...</td>\n",
       "    </tr>\n",
       "  </tbody>\n",
       "</table>\n",
       "</div>"
      ],
      "text/plain": [
       "                                               texto\n",
       "0  *AI stock market prediction* has been gaining ...\n",
       "1  To explore commercial success of Show HN proje..."
      ]
     },
     "execution_count": 6,
     "metadata": {},
     "output_type": "execute_result"
    }
   ],
   "source": [
    "# Creo el dataframe con las columnas link y texto\n",
    "df = pd.DataFrame({\n",
    "    'link': link,\n",
    "    'texto': texto\n",
    "})\n",
    "\n",
    "df2 = df.drop(['link'], axis=1)\n",
    "df2.head(2)"
   ]
  },
  {
   "cell_type": "code",
   "execution_count": 7,
   "metadata": {},
   "outputs": [],
   "source": [
    "df2.to_csv('palabras.csv', header=True, index=False)"
   ]
  },
  {
   "attachments": {},
   "cell_type": "markdown",
   "metadata": {},
   "source": [
    "2) User story 23F: Vectorizar el dataframe con TF-IDF. Stopwords."
   ]
  },
  {
   "cell_type": "code",
   "execution_count": 9,
   "metadata": {},
   "outputs": [
    {
     "data": {
      "text/html": [
       "<div>\n",
       "<style scoped>\n",
       "    .dataframe tbody tr th:only-of-type {\n",
       "        vertical-align: middle;\n",
       "    }\n",
       "\n",
       "    .dataframe tbody tr th {\n",
       "        vertical-align: top;\n",
       "    }\n",
       "\n",
       "    .dataframe thead th {\n",
       "        text-align: right;\n",
       "    }\n",
       "</style>\n",
       "<table border=\"1\" class=\"dataframe\">\n",
       "  <thead>\n",
       "    <tr style=\"text-align: right;\">\n",
       "      <th></th>\n",
       "      <th>texto</th>\n",
       "    </tr>\n",
       "  </thead>\n",
       "  <tbody>\n",
       "    <tr>\n",
       "      <th>0</th>\n",
       "      <td>*AI stock market prediction* has been gaining ...</td>\n",
       "    </tr>\n",
       "    <tr>\n",
       "      <th>1</th>\n",
       "      <td>To explore commercial success of Show HN proje...</td>\n",
       "    </tr>\n",
       "    <tr>\n",
       "      <th>2</th>\n",
       "      <td>OREGAON, PORTLAND, UNITED STATES, March 9, 202...</td>\n",
       "    </tr>\n",
       "  </tbody>\n",
       "</table>\n",
       "</div>"
      ],
      "text/plain": [
       "                                               texto\n",
       "0  *AI stock market prediction* has been gaining ...\n",
       "1  To explore commercial success of Show HN proje...\n",
       "2  OREGAON, PORTLAND, UNITED STATES, March 9, 202..."
      ]
     },
     "execution_count": 9,
     "metadata": {},
     "output_type": "execute_result"
    }
   ],
   "source": [
    "palabras = pd.read_csv(\"ds_palabras_2.csv\")\n",
    "palabras.head()"
   ]
  },
  {
   "cell_type": "code",
   "execution_count": 12,
   "metadata": {},
   "outputs": [],
   "source": [
    "# Extraemos las palabras  \n",
    "contador = CountVectorizer() \n",
    "# Codificamos como un vector\n",
    "vectorizador = TfidfVectorizer(max_features=10)  \n",
    "# Crear una matriz dispersa\n",
    "cantidades = contador.fit_transform(palabras.texto)\n",
    "valores = vectorizador.fit_transform(palabras.texto)\n",
    "#print (\"Vector de cantidades:\", cantidades)\n",
    "#print (\"Vector de valores:\", valores)"
   ]
  },
  {
   "attachments": {},
   "cell_type": "markdown",
   "metadata": {},
   "source": [
    "### User story 24F\n",
    "3) Aplicar distancia del coseno para buscar los documentos más próximos a uno dado."
   ]
  },
  {
   "cell_type": "code",
   "execution_count": null,
   "metadata": {},
   "outputs": [],
   "source": [
    "from sklearn.feature_extraction.text import CountVectorizer\n",
    "from sklearn.metrics.pairwise import cosine_similarity\n",
    "# Ejemplo de documentos de prueba\n",
    "# texto = ['Este es el primer documento', 'Este es el segundo documento', 'Este es el tercer documento', 'Este es el cuarto documento']"
   ]
  },
  {
   "cell_type": "code",
   "execution_count": null,
   "metadata": {},
   "outputs": [],
   "source": [
    "# Matriz de vectores de texto con la técnica de bolsa de palabras\n",
    "vectorizer = CountVectorize()\n",
    "texto_vectores = vectorizer.fit_transform(texto)\n",
    "# Calculo la similitud coseno entre el primer texto y los demás\n",
    "# El primer texto uso como consulta\n",
    "query_vector = texto_vectores[0] \n",
    "coseno_similares = cosine_similarity(query_vector, texto_vectores)\n",
    "# Ordeno los textos por similitud coseno\n",
    "most_similar_texto = coseno_similares.argsort()[0][::-1]"
   ]
  },
  {
   "cell_type": "code",
   "execution_count": null,
   "metadata": {},
   "outputs": [],
   "source": [
    "# Imprimo los textos más cercanos al primer documento\n",
    "print('Documentos más cercanos al primer documento:')\n",
    "for texto_index in most_similar_texto[1:]:\n",
    "    print(texto[texto_index])"
   ]
  },
  {
   "attachments": {},
   "cell_type": "markdown",
   "metadata": {},
   "source": [
    "### Sprint 3M\n",
    "#### User story 27F: Crear un chatbot que responda algunas preguntas básicas, saludos y despedidas."
   ]
  },
  {
   "cell_type": "code",
   "execution_count": null,
   "metadata": {},
   "outputs": [],
   "source": [
    "# Defino preguntas y respuestas simple:\n",
    "preguntas = {\n",
    "    \"hola\": [\"¡Hola! ¿Cómo estás?\", \"¡Hola! ¿En qué puedo ayudarte?\"],\n",
    "    \"nombre\": [\"Mi nombre es Chatbot\", \"Puedes llamarme Chabot\"],\n",
    "    \"funcion\": [\"Mi función es ayudarte a responder preguntas\", \"Estoy aquí para ayudarte\"],\n",
    "    \"adios\": [\"¡Hasta luego! ¡Que tengas un buen día!\", \"¡Adios! ¡Nos vemos pronto\"]\n",
    "}\n",
    "\n",
    "# Definimos una función para obtener una respuesta a una pregunta:\n",
    "def obtener_respuesta(pregunta):\n",
    "    if pregunta.lower() in preguntas:\n",
    "        return random.choice(preguntas[pregunta.lower()])\n",
    "    else:\n",
    "        return \"Lo siento, no entiendo lo que estás preguntado, ¡Podrías ser más específico?\"\n",
    "print(\"¡Hola! Soy Chatbot. ¿En qué puedo ayudarte hoy?\")\n",
    "\n",
    "while True:\n",
    "    # Obteniendo respuesta del usuario:\n",
    "    pregunta = input(\"> \")\n",
    "    # Si el usuario se despide terminamos el programa\n",
    "    if pregunta.lower() == \"adios\":\n",
    "        print(obtener_respuesta(\"adios\"))\n",
    "        break\n",
    "    # Obteniendo respuesta\n",
    "    respuesta = obtener_respuesta(pregunta)    \n",
    "    print(respuesta)\n"
   ]
  },
  {
   "attachments": {},
   "cell_type": "markdown",
   "metadata": {},
   "source": [
    "#### User story 28F: Enseñar al chatbot a que responda el documento más cercano al texto del input.\n",
    "#### User story 1M: Enseñar al chatbot a clasificar un input largo según las dos temáticas del corpus. Usar Naive Bayes.\n",
    "#### User story 2M: Convertir el chatbot en un buscador, dando las URLs de los textos más próximos como resultado.\n",
    "#### User story 3M: Añadir un snippet con la URL de cada resultado.\n",
    "- Referencia: Práctica de Reducción de la Dimensionalidad\n",
    "- Skills: NLP, TF-IDF, embeddings, cosine similarity, text parsing, dimensionality reduction"
   ]
  }
 ],
 "metadata": {
  "kernelspec": {
   "display_name": "Python 3",
   "language": "python",
   "name": "python3"
  },
  "language_info": {
   "codemirror_mode": {
    "name": "ipython",
    "version": 3
   },
   "file_extension": ".py",
   "mimetype": "text/x-python",
   "name": "python",
   "nbconvert_exporter": "python",
   "pygments_lexer": "ipython3",
   "version": "3.8.8"
  },
  "orig_nbformat": 4,
  "vscode": {
   "interpreter": {
    "hash": "2e242e6b8c453217117083c6680e6db82176874e34559806b32fd7417ddae620"
   }
  }
 },
 "nbformat": 4,
 "nbformat_minor": 2
}
